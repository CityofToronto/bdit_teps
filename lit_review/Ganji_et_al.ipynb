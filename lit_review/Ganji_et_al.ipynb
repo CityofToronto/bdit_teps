{
 "cells": [
  {
   "cell_type": "markdown",
   "metadata": {},
   "source": [
    "# Ganji et al. (unpublished)\n",
    "\n",
    "Methodology for spatio-temporal predictions of traffic counts across an urban road network and generation of an on-road greenhouse gas emission inventory\n",
    "\n",
    "- GHG emission inventories required to determine environmental impact of transportation, plan for mitigation.  Existing methods have biases of 100% or more due to mismatch between proxies for vehicle volumes and actual volumes on streets.  Ideally would like a GHG inventory from bottom-up source data.  Problem is that cities typically use travel demand models for such studies, which (because of reliance on household travel survey information) underestimate total emissions.\n",
    "- Map of citywide vehicle volume ideal, but expensive to track all vehicles on all streets with remote sensing.\n",
    "- Possible solution: interpolate volume based on traffic count data.  This is hard because most traffic volume prediction methods (eg. regression - [Taylor et al. 2014](https://www.sciencedirect.com/science/article/pii/S1364815203002627); SVM - [Yao et al. 2016](https://onlinelibrary.wiley.com/doi/abs/10.1111/mice.12221)) require long data records for parameter estimation.\n",
    "- TEPs is a multi-stage spatio-temporal regression and interpolation model that is able to augment traffic count stations with short or sparse records using data from those with long records.\n",
    "- "
   ]
  },
  {
   "cell_type": "code",
   "execution_count": null,
   "metadata": {},
   "outputs": [],
   "source": []
  }
 ],
 "metadata": {
  "kernelspec": {
   "display_name": "Python 3",
   "language": "python",
   "name": "python3"
  },
  "language_info": {
   "codemirror_mode": {
    "name": "ipython",
    "version": 3
   },
   "file_extension": ".py",
   "mimetype": "text/x-python",
   "name": "python",
   "nbconvert_exporter": "python",
   "pygments_lexer": "ipython3",
   "version": "3.6.9"
  }
 },
 "nbformat": 4,
 "nbformat_minor": 2
}

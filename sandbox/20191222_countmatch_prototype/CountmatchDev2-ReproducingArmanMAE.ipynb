{
 "cells": [
  {
   "cell_type": "markdown",
   "metadata": {},
   "source": [
    "# CountMatch Matcher Development\n",
    "## Part 2: Reproducing Arman's 2011 Mean Absolute Error\n",
    "\n",
    "This notebook investigates why our prototype in Part 1 produces a much noisier ground truth vs. predictions plot, and much worse mean absolute error.  Originally we were going to look at 2011, but 2010 has many more actual AADT estimates."
   ]
  },
  {
   "cell_type": "markdown",
   "metadata": {},
   "source": [
    "## Preprocess Data\n",
    "\n",
    "These cells are copied from Part 1"
   ]
  },
  {
   "cell_type": "code",
   "execution_count": 1,
   "metadata": {},
   "outputs": [],
   "source": [
    "%matplotlib inline\n",
    "import sys\n",
    "sys.path.append('../')\n",
    "import importlib\n",
    "import matplotlib.pyplot as plt\n",
    "import numpy as np\n",
    "import knowyourdata as kyd\n",
    "\n",
    "import pandas as pd\n",
    "from traffic_prophet import cfg\n",
    "import pathlib, os\n",
    "import configparser\n",
    "\n",
    "import sklearn.metrics as sklm\n",
    "\n",
    "from traffic_prophet import connection\n",
    "from traffic_prophet.countmatch import reader\n",
    "from traffic_prophet.countmatch import growthfactor as gf\n",
    "from traffic_prophet.countmatch import neighbour\n",
    "\n",
    "defaultcolours = plt.rcParams['axes.prop_cycle'].by_key()['color']\n",
    "\n",
    "filepath = pathlib.Path.home().joinpath('.charlesconfig')\n",
    "if os.path.isfile(filepath):\n",
    "    vol_conn = connection.Connection(filepath, 'POSTGRES',\n",
    "                                     'czhu.btp_centreline_daily_counts')\n",
    "    ll_conn = connection.Connection(filepath, 'POSTGRES',\n",
    "                                    'czhu.btp_centreline_lonlat')\n",
    "    config = configparser.RawConfigParser()\n",
    "    config.read(filepath.as_posix())\n",
    "    MAPBOX_TOKEN = config['MAPBOX']['token']\n",
    "    PLOTLY_USER = config['PLOTLY']['user']\n",
    "    PLOTLY_KEY = config['PLOTLY']['key']\n",
    "else:\n",
    "    filepath = pathlib.Path.home().joinpath('cf.txt')\n",
    "    vol_conn = connection.Connection(filepath, 'localpg',\n",
    "                                     'prj_vol.btp_centreline_daily_counts')\n",
    "    ll_conn = connection.Connection(filepath, 'localpg',\n",
    "                                    'gis.btp_centreline_lonlat')\n",
    "    config = configparser.RawConfigParser()\n",
    "    config.read(filepath.as_posix())\n",
    "    MAPBOX_TOKEN = config['mapbox']['token']\n",
    "    PLOTLY_USER = config['plotly']['user']\n",
    "    PLOTLY_KEY = config['plotly']['key']"
   ]
  },
  {
   "cell_type": "code",
   "execution_count": 2,
   "metadata": {},
   "outputs": [
    {
     "name": "stdout",
     "output_type": "stream",
     "text": [
      "CPU times: user 1min 39s, sys: 1.77 s, total: 1min 40s\n",
      "Wall time: 1min 50s\n"
     ]
    }
   ],
   "source": [
    "rdr = reader.Reader(vol_conn)\n",
    "%time rdr.read()"
   ]
  },
  {
   "cell_type": "code",
   "execution_count": 3,
   "metadata": {},
   "outputs": [],
   "source": [
    "gf.get_growth_factors(rdr)"
   ]
  },
  {
   "cell_type": "code",
   "execution_count": 4,
   "metadata": {},
   "outputs": [
    {
     "name": "stdout",
     "output_type": "stream",
     "text": [
      "CPU times: user 19.6 s, sys: 344 ms, total: 20 s\n",
      "Wall time: 19.9 s\n"
     ]
    }
   ],
   "source": [
    "ptc_ids = np.unique(np.abs(list(rdr.ptcs.keys())))\n",
    "nb = neighbour.NeighbourLonLatEuclidean(ll_conn, 20, ptc_ids)\n",
    "%time nb.find_neighbours()"
   ]
  },
  {
   "cell_type": "code",
   "execution_count": 5,
   "metadata": {},
   "outputs": [],
   "source": [
    "def nanaverage(x, axis=None, weights=None):\n",
    "    if weights is None:\n",
    "        return np.nanmean(x)\n",
    "    notnull = ~(np.isnan(x) | np.isnan(weights))\n",
    "    return np.average(x[notnull], axis=axis, weights=weights[notnull])\n",
    "\n",
    "def mse_preprocess_ptc_loop(p):\n",
    "    available_years = p.data['Daily Count'].index.levels[0].values\n",
    "\n",
    "    # Get ratio between AADT and daily count\n",
    "    doyr = p.data['Daily Count'].loc[:, ['Date']].copy()\n",
    "    for year in available_years:\n",
    "        doyr.loc[year, 'Day-to-AADT Ratio'] = (\n",
    "            p.data['AADT'].at[year, 'AADT'] /\n",
    "            p.data['Daily Count'].loc[year, 'Daily Count']).values\n",
    "    doyr.reset_index(inplace=True)\n",
    "    doyr['Month'] = doyr['Date'].dt.month\n",
    "    doyr['Day of Week'] = doyr['Date'].dt.dayofweek\n",
    "    \n",
    "    # Number of days of the week in each year and month.  Fill NaNs with\n",
    "    # 0.\n",
    "    N_days = (doyr.reset_index()\n",
    "              .groupby(['Year', 'Month', 'Day of Week'])['Day-to-AADT Ratio']\n",
    "              .count().unstack(fill_value=0.))\n",
    "\n",
    "    # Create two arrays - first breaks down values by day-of-week and year.\n",
    "    # First, get day-to-AADT ratios for each day of week and year.\n",
    "    ptc_mse_ydow = pd.DataFrame(\n",
    "        doyr.groupby(['Day of Week', 'Year'])['Day-to-AADT Ratio'].mean())\n",
    "\n",
    "    # Then, for each day-of-week, calculate MADT, DoMADT, etc. averages\n",
    "    # weighted by number of days-of-the-week available in the month.\n",
    "    madt_avg = []\n",
    "    dom_avg = []\n",
    "    domadt_avg = []\n",
    "    for dow, year in ptc_mse_ydow.index:\n",
    "        # Double loc is shortest way I've discovered to get single-index\n",
    "        # series.\n",
    "        weights = N_days.loc[year, :].loc[:, dow]\n",
    "\n",
    "        madt_avg.append(np.average(\n",
    "            p.data['MADT'].loc[year, 'MADT'][weights.index].values,\n",
    "            weights=weights.values))\n",
    "        dom_avg.append(nanaverage(\n",
    "            p.data['DoM Factor'].loc[year, :].loc[weights.index, dow],\n",
    "            weights=weights.values))\n",
    "        domadt_avg.append(nanaverage(\n",
    "            p.data['DoMADT'].loc[year, :].loc[weights.index, dow],\n",
    "            weights=weights.values))\n",
    "        \n",
    "    ptc_mse_ydow['MADT Avg.'] = madt_avg\n",
    "    ptc_mse_ydow['DoM Factor Avg.'] = dom_avg\n",
    "    ptc_mse_ydow['DoMADT Avg.'] = domadt_avg\n",
    "    \n",
    "    if (ptc_mse_ydow['MADT Avg.'].isnull().values.any() or\n",
    "            ptc_mse_ydow['DoM Factor Avg.'].isnull().values.any() or\n",
    "            ptc_mse_ydow['DoM Factor Avg.'].isnull().values.any()):\n",
    "        raise ValueError(\"yeah, you shouldn't be getting nulls for ydow tables.\")\n",
    "\n",
    "    # Now, create a second array that breaks down the same values but only\n",
    "    # by year.\n",
    "    ptc_mse_yo = pd.DataFrame(doyr.groupby('Year')['Day-to-AADT Ratio'].mean())\n",
    "\n",
    "    madt_avg = []\n",
    "    dom_avg = []\n",
    "    domadt_avg = []\n",
    "    for year in ptc_mse_yo.index:\n",
    "        n_days_year = N_days.loc[year, :]\n",
    "        madt_weights = n_days_year.sum(axis=1, skipna=True)\n",
    "\n",
    "        madt_avg.append(np.average(\n",
    "            p.data['MADT'].loc[year, 'MADT'][madt_weights.index].values,\n",
    "            weights=madt_weights.values))\n",
    "\n",
    "        dom_year = p.data['DoM Factor'].loc[year, :]\n",
    "        dom_avg.append(nanaverage(\n",
    "            dom_year.values, weights=n_days_year.values))\n",
    "        domadt_avg.append(nanaverage(\n",
    "            p.data['DoMADT'].loc[year, :].values, weights=n_days_year.values))\n",
    "\n",
    "    ptc_mse_yo['MADT Avg.'] = madt_avg\n",
    "    ptc_mse_yo['DoM Factor Avg.'] = dom_avg\n",
    "    ptc_mse_yo['DoMADT Avg.'] = domadt_avg\n",
    "\n",
    "    if (ptc_mse_yo['MADT Avg.'].isnull().values.any() or\n",
    "            ptc_mse_yo['DoM Factor Avg.'].isnull().values.any() or\n",
    "            ptc_mse_yo['DoM Factor Avg.'].isnull().values.any()):\n",
    "        raise ValueError(\"yeah, you shouldn't be getting nulls for yo tables.\")\n",
    "\n",
    "    return doyr, ptc_mse_ydow, ptc_mse_yo\n",
    "\n",
    "def mse_preprocess_ptcs(ptcs):\n",
    "    for p in ptcs.values():\n",
    "        doyr, ptc_mse_ydow, ptc_mse_yo = mse_preprocess_ptc_loop(p)\n",
    "        p.mse_pp = {\n",
    "            'Day-to-AADT': doyr,\n",
    "            'MSE_yDoW': ptc_mse_ydow,\n",
    "            'MSE_y': ptc_mse_yo\n",
    "        }"
   ]
  },
  {
   "cell_type": "code",
   "execution_count": 6,
   "metadata": {},
   "outputs": [
    {
     "name": "stdout",
     "output_type": "stream",
     "text": [
      "CPU times: user 12.1 s, sys: 46.9 ms, total: 12.1 s\n",
      "Wall time: 12.1 s\n"
     ]
    }
   ],
   "source": [
    "%time mse_preprocess_ptcs(rdr.ptcs)"
   ]
  },
  {
   "cell_type": "code",
   "execution_count": 7,
   "metadata": {},
   "outputs": [],
   "source": [
    "def get_normalized_seasonal_patterns(tcs, rptcs, want_year):\n",
    "    \"\"\"Get normalized seasonal patterns for `tcs`.\n",
    "\n",
    "    For STTCs, get best estimate normalized patterns and corresponding PTC\n",
    "    normalized patterns to check for MSE (Eqn. 6 in Bagheri).  For PTCs, get\n",
    "    best estimate from nearby PTCs and check as a part of validation.\n",
    "    \"\"\"\n",
    "    growth_rate_citywide = np.mean([v.growth_factor for v in rptcs.values()])\n",
    "\n",
    "    for tc in tcs.values():\n",
    "        # Find neighbouring PTCs by first finding neighbouring centreline IDs,\n",
    "        # then checking if either direction exists in rptcs.\n",
    "        neighbours, distances = nb.get_neighbours(tc.centreline_id)\n",
    "        \n",
    "        # We can consider both directions if we want, but this is supposed\n",
    "        # to emulate PRTCS.\n",
    "#         neighbour_ptcs = [rptcs[n] for n in\n",
    "#                           [-nbrs for nbrs in neighbours] + neighbours\n",
    "#                           if n in rptcs.keys()]\n",
    "        neighbour_ptcs = [rptcs[n] for n in\n",
    "                          [tc.direction * nbrs for nbrs in neighbours]\n",
    "                          if n in rptcs.keys()][:5]\n",
    "\n",
    "        if len(neighbour_ptcs) != 5:\n",
    "            raise ValueError(\"selected a weird number of PTC locations!\")\n",
    "\n",
    "        # Declare the columns in the final saved data frame.\n",
    "        tc_year = []\n",
    "        tc_dayofyear = []\n",
    "        tc_ptcid = []\n",
    "        tc_day_to_aadt_ratio_avg = []\n",
    "        tc_madt_avg = []\n",
    "        tc_dom_avg = []\n",
    "        tc_domadt_avg = []\n",
    "        tc_closest_year = []\n",
    "        tc_aadt_closest_year = []\n",
    "\n",
    "        if tc.is_permanent:\n",
    "            tc_dc = tc.data['Daily Count'].reset_index()\n",
    "        else:\n",
    "            tc_dc = tc.data.reset_index()\n",
    "        tc_dc['Day of Week'] = tc_dc['Date'].dt.dayofweek\n",
    "\n",
    "        for i, row in tc_dc.iterrows():\n",
    "            ryear, rdow = row['Year'], row['Day of Week']\n",
    "\n",
    "            for p in neighbour_ptcs:\n",
    "\n",
    "                if rdow in p.mse_pp['MSE_yDoW'].index.levels[0]:\n",
    "                    unique_years = p.mse_pp['MSE_yDoW'].loc[rdow].index.values\n",
    "                    closest_year = unique_years[np.argmin(\n",
    "                        np.abs(unique_years - ryear))]\n",
    "\n",
    "                    (day_to_aadt_ratio_avg, madt_avg, dom_avg, domadt_avg) = (\n",
    "                       p.mse_pp['MSE_yDoW'].loc[(rdow, closest_year)])\n",
    "                else:\n",
    "                    # Levels contain all unique years regardless if each is\n",
    "                    # available for every day-of-week.\n",
    "                    unique_years = p.mse_pp['MSE_yDoW'].index.levels[1].values\n",
    "                    closest_year = unique_years[np.argmin(\n",
    "                        np.abs(unique_years - ryear))]\n",
    "\n",
    "                    (day_to_aadt_ratio_avg, madt_avg, dom_avg, domadt_avg) = (\n",
    "                       p.mse_pp['MSE_y'].loc[closest_year])\n",
    "                \n",
    "                if madt_avg is np.nan:\n",
    "                    raise ValueError(\"ummmmm, this can't be NaN.\")\n",
    "\n",
    "                aadt_closest_year = p.data['AADT'].at[closest_year, 'AADT']\n",
    "\n",
    "                tc_year.append(ryear)\n",
    "                tc_dayofyear.append(row['Day of Year'])\n",
    "                tc_ptcid.append(p.count_id)\n",
    "                tc_day_to_aadt_ratio_avg.append(day_to_aadt_ratio_avg)\n",
    "                tc_madt_avg.append(madt_avg)\n",
    "                tc_dom_avg.append(dom_avg)\n",
    "                tc_domadt_avg.append(domadt_avg)\n",
    "                tc_closest_year.append(closest_year)\n",
    "                tc_aadt_closest_year.append(aadt_closest_year)\n",
    "\n",
    "        tc_mse = pd.DataFrame({\n",
    "            'Year': tc_year,\n",
    "            'Day of Year': tc_dayofyear,\n",
    "            'PTC ID': tc_ptcid,\n",
    "            'PTC Day-to-AADT Ratio': tc_day_to_aadt_ratio_avg,\n",
    "            'PTC MADT Avg.': tc_madt_avg,\n",
    "            'PTC DoM Factor Avg.': tc_dom_avg,\n",
    "            'PTC DoMADT Avg.': tc_domadt_avg,\n",
    "            'PTC Closest Year AADT': tc_aadt_closest_year\n",
    "        })\n",
    "\n",
    "        tc_mse = pd.merge(tc_dc, tc_mse, on=('Year', 'Day of Year'))\n",
    "\n",
    "        # I disagree with this, but line 95 of DoMSTTC.m seems to do it.\n",
    "        mean_tc_count = tc_dc['Daily Count'].mean()\n",
    "\n",
    "        tc_mse['AADT_prelim'] = (\n",
    "            mean_tc_count * tc_mse['PTC Day-to-AADT Ratio'] *\n",
    "            growth_rate_citywide**(want_year - tc_mse['Year']))\n",
    "        tc_mse['MADT_pj'] = (\n",
    "            tc_mse['Daily Count'] * tc_mse['PTC DoM Factor Avg.'] *\n",
    "            growth_rate_citywide**(want_year - tc_mse['Year']))\n",
    "        tc_mse['MF_STTC'] = tc_mse['MADT_pj'] / tc_mse['AADT_prelim']\n",
    "        tc_mse['MF_PTC'] = (tc_mse['PTC MADT Avg.'] /\n",
    "                            tc_mse['PTC Closest Year AADT'])\n",
    "\n",
    "        tc.tc_mse = tc_mse"
   ]
  },
  {
   "cell_type": "markdown",
   "metadata": {},
   "source": [
    "## Estimate Errors for 2010"
   ]
  },
  {
   "cell_type": "code",
   "execution_count": 8,
   "metadata": {},
   "outputs": [],
   "source": [
    "want_year = 2010"
   ]
  },
  {
   "cell_type": "code",
   "execution_count": 9,
   "metadata": {},
   "outputs": [
    {
     "name": "stdout",
     "output_type": "stream",
     "text": [
      "CPU times: user 4min 35s, sys: 188 ms, total: 4min 35s\n",
      "Wall time: 4min 35s\n"
     ]
    }
   ],
   "source": [
    "%time get_normalized_seasonal_patterns(rdr.ptcs, rdr.ptcs, want_year)"
   ]
  },
  {
   "cell_type": "code",
   "execution_count": 10,
   "metadata": {},
   "outputs": [],
   "source": [
    "for tc in rdr.ptcs.values():\n",
    "    tc.tc_mse = pd.merge(tc.tc_mse, tc.data['AADT'],\n",
    "                         how='left', left_on='Year', right_index=True)    "
   ]
  },
  {
   "cell_type": "code",
   "execution_count": 11,
   "metadata": {},
   "outputs": [],
   "source": [
    "# def get_aadt_estimates_ptc(rdr, want_year):\n",
    "ptc_count_id = []\n",
    "ptc_ptc_id_minmse = []\n",
    "ptc_dij_minmse = []\n",
    "ptc_closest_year = []\n",
    "ptc_aadt_est = []\n",
    "ptc_arman_gt = []\n",
    "ptc_charles_gt = []\n",
    "ptc_aadt_actual = []\n",
    "ptc_sttc_daily_count = []\n",
    "\n",
    "for tc in rdr.ptcs.values():   \n",
    "    # Calculate pointwise square error between STTC and neighbouring PTCs,\n",
    "    # ignoring year.\n",
    "    tc.tc_mse['Square Deviation'] = (\n",
    "        tc.tc_mse['MF_STTC'] - tc.tc_mse['MF_PTC'])**2\n",
    "\n",
    "    # Determine minimum MSE between STTC and each PTC.\n",
    "    dijs = (tc.tc_mse\n",
    "            .groupby('PTC ID')[['Square Deviation',\n",
    "                                'PTC Day-to-AADT Ratio']]\n",
    "            .mean())\n",
    "    ptcid_mmse = dijs['Square Deviation'].idxmin()\n",
    "    dij_mmseptc = dijs.at[ptcid_mmse, 'PTC Day-to-AADT Ratio']\n",
    "\n",
    "    # Determine average daily count for most recent year to wanted year.\n",
    "    sttc_years = tc.data['AADT'].index.values\n",
    "    closest_year = sttc_years[np.abs(want_year - sttc_years).argmin()]\n",
    "    sttc_daily_count_cyavg = tc.data['Daily Count'].loc[closest_year]['Daily Count'].mean()\n",
    "\n",
    "    aadt_estimate = (\n",
    "        sttc_daily_count_cyavg * dij_mmseptc *\n",
    "        tc.growth_factor**(want_year - closest_year))\n",
    "    \n",
    "    arman_gt = tc.tc_mse.groupby('PTC ID')['AADT'].mean()[ptcid_mmse]\n",
    "\n",
    "    charles_gt = (tc.data['AADT'].loc[closest_year, 'AADT'] *\n",
    "                  tc.growth_factor**(want_year - closest_year))\n",
    "    aadt_actual = tc.data['AADT'].loc[closest_year, 'AADT'] if closest_year == want_year else np.nan\n",
    "\n",
    "    # Add to lists.\n",
    "    ptc_count_id.append(tc.count_id)\n",
    "    ptc_ptc_id_minmse.append(ptcid_mmse)\n",
    "    ptc_sttc_daily_count.append(sttc_daily_count_cyavg)\n",
    "    ptc_dij_minmse.append(dij_mmseptc)\n",
    "    ptc_closest_year.append(closest_year)\n",
    "    ptc_aadt_est.append(aadt_estimate)\n",
    "    ptc_arman_gt.append(arman_gt)\n",
    "    ptc_charles_gt.append(charles_gt)\n",
    "    ptc_aadt_actual.append(aadt_actual)\n",
    "\n",
    "ptc_validation_aadt = pd.DataFrame({\n",
    "    'Count ID': ptc_count_id,\n",
    "    'Mean Daily Count': ptc_sttc_daily_count,\n",
    "    'PTC ID': ptc_ptc_id_minmse,\n",
    "    'D_ij': ptc_dij_minmse,\n",
    "    'Closest Year': ptc_closest_year,\n",
    "    'AADT Estimate': ptc_aadt_est,\n",
    "    'AADT Arman GT': ptc_arman_gt,\n",
    "    'AADT Charles GT': ptc_charles_gt,\n",
    "    'AADT Actual': ptc_aadt_actual})"
   ]
  },
  {
   "cell_type": "code",
   "execution_count": 12,
   "metadata": {},
   "outputs": [],
   "source": [
    "notnulls = ~ptc_validation_aadt['AADT Actual'].isnull()"
   ]
  },
  {
   "cell_type": "code",
   "execution_count": 13,
   "metadata": {},
   "outputs": [
    {
     "data": {
      "image/png": "[encoded data removed]",
      "text/plain": [
       "<Figure size 720x720 with 1 Axes>"
      ]
     },
     "metadata": {
      "needs_background": "light"
     },
     "output_type": "display_data"
    }
   ],
   "source": [
    "fig, ax = plt.subplots(figsize=(10, 10))\n",
    "ax.plot(ptc_validation_aadt['AADT Arman GT'], ptc_validation_aadt['AADT Estimate'],\n",
    "        color=defaultcolours[0], marker='o', ms=7, ls='None', label='Arman GT vs. Predicted')\n",
    "ax.plot(ptc_validation_aadt['AADT Charles GT'], ptc_validation_aadt['AADT Estimate'],\n",
    "        color=defaultcolours[1], marker='o', ls='None', label='Charles GT vs. Predicted')\n",
    "ax.plot(ptc_validation_aadt.loc[notnulls, 'AADT Actual'],\n",
    "        ptc_validation_aadt.loc[notnulls, 'AADT Estimate'],\n",
    "        color=defaultcolours[2], marker='+', ls='None', ms=15, mew=2, label='Actual AADT (where available) vs. Predicted')\n",
    "ax.set_xlim([0, 100000])\n",
    "ax.set_ylim([0, 100000])\n",
    "ax.set_xlabel('Ground Truth AADTs', fontsize=16)\n",
    "ax.set_ylabel('CountMatch Predicted AADTs', fontsize=16)\n",
    "ax.tick_params(axis='both', which='both', labelsize=13)\n",
    "ax.legend(loc=2, prop={'size': 13});"
   ]
  },
  {
   "cell_type": "code",
   "execution_count": 14,
   "metadata": {},
   "outputs": [
    {
     "data": {
      "text/plain": [
       "1003.0450558385081"
      ]
     },
     "execution_count": 14,
     "metadata": {},
     "output_type": "execute_result"
    }
   ],
   "source": [
    "sklm.mean_absolute_error(ptc_validation_aadt.loc[notnulls, 'AADT Estimate'], ptc_validation_aadt.loc[notnulls, 'AADT Actual'])"
   ]
  },
  {
   "cell_type": "code",
   "execution_count": 15,
   "metadata": {},
   "outputs": [
    {
     "data": {
      "text/plain": [
       "0.03506338188194463"
      ]
     },
     "execution_count": 15,
     "metadata": {},
     "output_type": "execute_result"
    }
   ],
   "source": [
    "np.mean(\n",
    "    np.abs(ptc_validation_aadt.loc[notnulls, 'AADT Actual'] - ptc_validation_aadt.loc[notnulls, 'AADT Estimate']) /\n",
    "    ptc_validation_aadt.loc[notnulls, 'AADT Actual'])"
   ]
  },
  {
   "cell_type": "code",
   "execution_count": 16,
   "metadata": {},
   "outputs": [
    {
     "data": {
      "text/html": [
       "<div>\n",
       "<style scoped>\n",
       "    .dataframe tbody tr th:only-of-type {\n",
       "        vertical-align: middle;\n",
       "    }\n",
       "\n",
       "    .dataframe tbody tr th {\n",
       "        vertical-align: top;\n",
       "    }\n",
       "\n",
       "    .dataframe thead th {\n",
       "        text-align: right;\n",
       "    }\n",
       "</style>\n",
       "<table border=\"1\" class=\"dataframe\">\n",
       "  <thead>\n",
       "    <tr style=\"text-align: right;\">\n",
       "      <th></th>\n",
       "      <th>Count ID</th>\n",
       "      <th>Mean Daily Count</th>\n",
       "      <th>PTC ID</th>\n",
       "      <th>D_ij</th>\n",
       "      <th>Closest Year</th>\n",
       "      <th>AADT Estimate</th>\n",
       "      <th>AADT Arman GT</th>\n",
       "      <th>AADT Charles GT</th>\n",
       "      <th>AADT Actual</th>\n",
       "    </tr>\n",
       "  </thead>\n",
       "  <tbody>\n",
       "    <tr>\n",
       "      <th>0</th>\n",
       "      <td>8540609</td>\n",
       "      <td>1005.155718</td>\n",
       "      <td>30003562</td>\n",
       "      <td>1.024653</td>\n",
       "      <td>2011</td>\n",
       "      <td>1017.752510</td>\n",
       "      <td>1172.934396</td>\n",
       "      <td>1063.497565</td>\n",
       "      <td>NaN</td>\n",
       "    </tr>\n",
       "    <tr>\n",
       "      <th>1</th>\n",
       "      <td>-890</td>\n",
       "      <td>70596.744681</td>\n",
       "      <td>-445884</td>\n",
       "      <td>1.017000</td>\n",
       "      <td>2010</td>\n",
       "      <td>71796.909557</td>\n",
       "      <td>70583.480780</td>\n",
       "      <td>70583.480780</td>\n",
       "      <td>70583.480780</td>\n",
       "    </tr>\n",
       "    <tr>\n",
       "      <th>2</th>\n",
       "      <td>1003</td>\n",
       "      <td>3342.526882</td>\n",
       "      <td>445280</td>\n",
       "      <td>1.011343</td>\n",
       "      <td>2010</td>\n",
       "      <td>3380.442083</td>\n",
       "      <td>3767.451819</td>\n",
       "      <td>3350.164546</td>\n",
       "      <td>3350.164546</td>\n",
       "    </tr>\n",
       "    <tr>\n",
       "      <th>3</th>\n",
       "      <td>1821</td>\n",
       "      <td>5597.157233</td>\n",
       "      <td>6837747</td>\n",
       "      <td>1.025258</td>\n",
       "      <td>2010</td>\n",
       "      <td>5738.530342</td>\n",
       "      <td>5604.686429</td>\n",
       "      <td>5627.793110</td>\n",
       "      <td>5627.793110</td>\n",
       "    </tr>\n",
       "    <tr>\n",
       "      <th>4</th>\n",
       "      <td>-104870</td>\n",
       "      <td>17184.369565</td>\n",
       "      <td>-13503833</td>\n",
       "      <td>1.026030</td>\n",
       "      <td>2010</td>\n",
       "      <td>17631.684801</td>\n",
       "      <td>17050.797666</td>\n",
       "      <td>17292.127973</td>\n",
       "      <td>17292.127973</td>\n",
       "    </tr>\n",
       "  </tbody>\n",
       "</table>\n",
       "</div>"
      ],
      "text/plain": [
       "   Count ID  Mean Daily Count    PTC ID      D_ij  Closest Year  \\\n",
       "0   8540609       1005.155718  30003562  1.024653          2011   \n",
       "1      -890      70596.744681   -445884  1.017000          2010   \n",
       "2      1003       3342.526882    445280  1.011343          2010   \n",
       "3      1821       5597.157233   6837747  1.025258          2010   \n",
       "4   -104870      17184.369565 -13503833  1.026030          2010   \n",
       "\n",
       "   AADT Estimate  AADT Arman GT  AADT Charles GT   AADT Actual  \n",
       "0    1017.752510    1172.934396      1063.497565           NaN  \n",
       "1   71796.909557   70583.480780     70583.480780  70583.480780  \n",
       "2    3380.442083    3767.451819      3350.164546   3350.164546  \n",
       "3    5738.530342    5604.686429      5627.793110   5627.793110  \n",
       "4   17631.684801   17050.797666     17292.127973  17292.127973  "
      ]
     },
     "execution_count": 16,
     "metadata": {},
     "output_type": "execute_result"
    }
   ],
   "source": [
    "ptc_validation_aadt.head()"
   ]
  },
  {
   "cell_type": "code",
   "execution_count": 17,
   "metadata": {},
   "outputs": [
    {
     "data": {
      "image/png": "[encoded data removed]",
      "text/plain": [
       "<Figure size 720x720 with 1 Axes>"
      ]
     },
     "metadata": {
      "needs_background": "light"
     },
     "output_type": "display_data"
    }
   ],
   "source": [
    "fig, ax = plt.subplots(figsize=(10, 10))\n",
    "ax.plot(ptc_validation_aadt['AADT Charles GT'], ptc_validation_aadt['AADT Arman GT'],\n",
    "        color=defaultcolours[0], marker='o', ls='None', label='Charles vs. Arman GT')\n",
    "ax.plot(ptc_validation_aadt.loc[notnulls, 'AADT Actual'],\n",
    "        ptc_validation_aadt.loc[notnulls, 'AADT Arman GT'],\n",
    "        color=defaultcolours[1], marker='+', ls='None', ms=15, mew=2, label='Actual vs. Arman GT')\n",
    "ax.set_xlim([0, 100000])\n",
    "ax.set_ylim([0, 100000])\n",
    "ax.set_xlabel('Other Ground Truth AADT', fontsize=16)\n",
    "ax.set_ylabel('Arman Ground Truth AADT', fontsize=16)\n",
    "ax.tick_params(axis='both', which='both', labelsize=13)\n",
    "ax.legend(loc=2, prop={'size': 13});"
   ]
  },
  {
   "cell_type": "code",
   "execution_count": 18,
   "metadata": {},
   "outputs": [],
   "source": [
    "ptc_validation_aadt['AC Fractional Deviation'] = np.abs(\n",
    "    ptc_validation_aadt.loc[:, 'AADT Estimate'] - ptc_validation_aadt.loc[:, 'AADT Arman GT']) / ptc_validation_aadt.loc[:, 'AADT Arman GT']"
   ]
  },
  {
   "cell_type": "code",
   "execution_count": 19,
   "metadata": {},
   "outputs": [
    {
     "data": {
      "text/html": [
       "<div>\n",
       "<style scoped>\n",
       "    .dataframe tbody tr th:only-of-type {\n",
       "        vertical-align: middle;\n",
       "    }\n",
       "\n",
       "    .dataframe tbody tr th {\n",
       "        vertical-align: top;\n",
       "    }\n",
       "\n",
       "    .dataframe thead th {\n",
       "        text-align: right;\n",
       "    }\n",
       "</style>\n",
       "<table border=\"1\" class=\"dataframe\">\n",
       "  <thead>\n",
       "    <tr style=\"text-align: right;\">\n",
       "      <th></th>\n",
       "      <th>Count ID</th>\n",
       "      <th>Mean Daily Count</th>\n",
       "      <th>PTC ID</th>\n",
       "      <th>D_ij</th>\n",
       "      <th>Closest Year</th>\n",
       "      <th>AADT Estimate</th>\n",
       "      <th>AADT Arman GT</th>\n",
       "      <th>AADT Charles GT</th>\n",
       "      <th>AADT Actual</th>\n",
       "      <th>AC Fractional Deviation</th>\n",
       "    </tr>\n",
       "  </thead>\n",
       "  <tbody>\n",
       "    <tr>\n",
       "      <th>159</th>\n",
       "      <td>14255077</td>\n",
       "      <td>16556.517350</td>\n",
       "      <td>1147201</td>\n",
       "      <td>1.252154</td>\n",
       "      <td>2016</td>\n",
       "      <td>219393.172938</td>\n",
       "      <td>14411.850934</td>\n",
       "      <td>180441.878175</td>\n",
       "      <td>NaN</td>\n",
       "      <td>14.223109</td>\n",
       "    </tr>\n",
       "    <tr>\n",
       "      <th>161</th>\n",
       "      <td>20044187</td>\n",
       "      <td>20207.945687</td>\n",
       "      <td>14073981</td>\n",
       "      <td>1.025796</td>\n",
       "      <td>2016</td>\n",
       "      <td>130524.123458</td>\n",
       "      <td>17704.116773</td>\n",
       "      <td>127561.806157</td>\n",
       "      <td>NaN</td>\n",
       "      <td>6.372530</td>\n",
       "    </tr>\n",
       "    <tr>\n",
       "      <th>133</th>\n",
       "      <td>444516</td>\n",
       "      <td>1719.845070</td>\n",
       "      <td>444403</td>\n",
       "      <td>1.036634</td>\n",
       "      <td>2015</td>\n",
       "      <td>535.723919</td>\n",
       "      <td>1718.241066</td>\n",
       "      <td>516.309869</td>\n",
       "      <td>NaN</td>\n",
       "      <td>0.688214</td>\n",
       "    </tr>\n",
       "    <tr>\n",
       "      <th>50</th>\n",
       "      <td>1147466</td>\n",
       "      <td>24098.348921</td>\n",
       "      <td>14255077</td>\n",
       "      <td>1.350051</td>\n",
       "      <td>2010</td>\n",
       "      <td>32534.010569</td>\n",
       "      <td>19493.519806</td>\n",
       "      <td>23831.603928</td>\n",
       "      <td>23831.603928</td>\n",
       "      <td>0.668965</td>\n",
       "    </tr>\n",
       "    <tr>\n",
       "      <th>121</th>\n",
       "      <td>14065128</td>\n",
       "      <td>8700.032143</td>\n",
       "      <td>5439677</td>\n",
       "      <td>1.301841</td>\n",
       "      <td>2012</td>\n",
       "      <td>14670.024758</td>\n",
       "      <td>8801.735137</td>\n",
       "      <td>11400.404732</td>\n",
       "      <td>NaN</td>\n",
       "      <td>0.666720</td>\n",
       "    </tr>\n",
       "    <tr>\n",
       "      <th>165</th>\n",
       "      <td>30065733</td>\n",
       "      <td>35308.360140</td>\n",
       "      <td>30007492</td>\n",
       "      <td>1.023809</td>\n",
       "      <td>2017</td>\n",
       "      <td>12018.574913</td>\n",
       "      <td>35105.971256</td>\n",
       "      <td>11671.785038</td>\n",
       "      <td>NaN</td>\n",
       "      <td>0.657649</td>\n",
       "    </tr>\n",
       "    <tr>\n",
       "      <th>132</th>\n",
       "      <td>444403</td>\n",
       "      <td>8905.609929</td>\n",
       "      <td>443071</td>\n",
       "      <td>1.036893</td>\n",
       "      <td>2015</td>\n",
       "      <td>3177.419226</td>\n",
       "      <td>8888.472814</td>\n",
       "      <td>3058.469009</td>\n",
       "      <td>NaN</td>\n",
       "      <td>0.642524</td>\n",
       "    </tr>\n",
       "    <tr>\n",
       "      <th>43</th>\n",
       "      <td>1147201</td>\n",
       "      <td>20114.472669</td>\n",
       "      <td>14255077</td>\n",
       "      <td>1.290076</td>\n",
       "      <td>2010</td>\n",
       "      <td>25949.201547</td>\n",
       "      <td>15848.164198</td>\n",
       "      <td>20032.989169</td>\n",
       "      <td>20032.989169</td>\n",
       "      <td>0.637363</td>\n",
       "    </tr>\n",
       "    <tr>\n",
       "      <th>52</th>\n",
       "      <td>1147544</td>\n",
       "      <td>35456.289562</td>\n",
       "      <td>1147551</td>\n",
       "      <td>1.069437</td>\n",
       "      <td>2010</td>\n",
       "      <td>37918.275729</td>\n",
       "      <td>24125.990570</td>\n",
       "      <td>35230.751580</td>\n",
       "      <td>35230.751580</td>\n",
       "      <td>0.571677</td>\n",
       "    </tr>\n",
       "    <tr>\n",
       "      <th>154</th>\n",
       "      <td>8708889</td>\n",
       "      <td>12243.408759</td>\n",
       "      <td>6837747</td>\n",
       "      <td>1.023228</td>\n",
       "      <td>2016</td>\n",
       "      <td>5831.860761</td>\n",
       "      <td>12146.731605</td>\n",
       "      <td>5654.468653</td>\n",
       "      <td>NaN</td>\n",
       "      <td>0.519882</td>\n",
       "    </tr>\n",
       "    <tr>\n",
       "      <th>136</th>\n",
       "      <td>1147026</td>\n",
       "      <td>24264.744966</td>\n",
       "      <td>30022993</td>\n",
       "      <td>1.028882</td>\n",
       "      <td>2015</td>\n",
       "      <td>14214.736361</td>\n",
       "      <td>27297.803993</td>\n",
       "      <td>13829.756393</td>\n",
       "      <td>NaN</td>\n",
       "      <td>0.479272</td>\n",
       "    </tr>\n",
       "    <tr>\n",
       "      <th>145</th>\n",
       "      <td>1033</td>\n",
       "      <td>74742.729167</td>\n",
       "      <td>1821</td>\n",
       "      <td>1.013597</td>\n",
       "      <td>2016</td>\n",
       "      <td>39342.124562</td>\n",
       "      <td>74771.768446</td>\n",
       "      <td>38829.428916</td>\n",
       "      <td>NaN</td>\n",
       "      <td>0.473837</td>\n",
       "    </tr>\n",
       "    <tr>\n",
       "      <th>129</th>\n",
       "      <td>442871</td>\n",
       "      <td>4763.361702</td>\n",
       "      <td>444403</td>\n",
       "      <td>1.036835</td>\n",
       "      <td>2015</td>\n",
       "      <td>2682.832206</td>\n",
       "      <td>5095.403323</td>\n",
       "      <td>2588.740018</td>\n",
       "      <td>NaN</td>\n",
       "      <td>0.473480</td>\n",
       "    </tr>\n",
       "    <tr>\n",
       "      <th>141</th>\n",
       "      <td>30003562</td>\n",
       "      <td>55027.135036</td>\n",
       "      <td>6837747</td>\n",
       "      <td>1.021404</td>\n",
       "      <td>2015</td>\n",
       "      <td>34031.908883</td>\n",
       "      <td>61046.607021</td>\n",
       "      <td>33178.547311</td>\n",
       "      <td>NaN</td>\n",
       "      <td>0.442526</td>\n",
       "    </tr>\n",
       "    <tr>\n",
       "      <th>128</th>\n",
       "      <td>440429</td>\n",
       "      <td>77479.423333</td>\n",
       "      <td>440946</td>\n",
       "      <td>1.048771</td>\n",
       "      <td>2015</td>\n",
       "      <td>49585.204027</td>\n",
       "      <td>81436.011571</td>\n",
       "      <td>47169.679668</td>\n",
       "      <td>NaN</td>\n",
       "      <td>0.391115</td>\n",
       "    </tr>\n",
       "  </tbody>\n",
       "</table>\n",
       "</div>"
      ],
      "text/plain": [
       "     Count ID  Mean Daily Count    PTC ID      D_ij  Closest Year  \\\n",
       "159  14255077      16556.517350   1147201  1.252154          2016   \n",
       "161  20044187      20207.945687  14073981  1.025796          2016   \n",
       "133    444516       1719.845070    444403  1.036634          2015   \n",
       "50    1147466      24098.348921  14255077  1.350051          2010   \n",
       "121  14065128       8700.032143   5439677  1.301841          2012   \n",
       "165  30065733      35308.360140  30007492  1.023809          2017   \n",
       "132    444403       8905.609929    443071  1.036893          2015   \n",
       "43    1147201      20114.472669  14255077  1.290076          2010   \n",
       "52    1147544      35456.289562   1147551  1.069437          2010   \n",
       "154   8708889      12243.408759   6837747  1.023228          2016   \n",
       "136   1147026      24264.744966  30022993  1.028882          2015   \n",
       "145      1033      74742.729167      1821  1.013597          2016   \n",
       "129    442871       4763.361702    444403  1.036835          2015   \n",
       "141  30003562      55027.135036   6837747  1.021404          2015   \n",
       "128    440429      77479.423333    440946  1.048771          2015   \n",
       "\n",
       "     AADT Estimate  AADT Arman GT  AADT Charles GT   AADT Actual  \\\n",
       "159  219393.172938   14411.850934    180441.878175           NaN   \n",
       "161  130524.123458   17704.116773    127561.806157           NaN   \n",
       "133     535.723919    1718.241066       516.309869           NaN   \n",
       "50    32534.010569   19493.519806     23831.603928  23831.603928   \n",
       "121   14670.024758    8801.735137     11400.404732           NaN   \n",
       "165   12018.574913   35105.971256     11671.785038           NaN   \n",
       "132    3177.419226    8888.472814      3058.469009           NaN   \n",
       "43    25949.201547   15848.164198     20032.989169  20032.989169   \n",
       "52    37918.275729   24125.990570     35230.751580  35230.751580   \n",
       "154    5831.860761   12146.731605      5654.468653           NaN   \n",
       "136   14214.736361   27297.803993     13829.756393           NaN   \n",
       "145   39342.124562   74771.768446     38829.428916           NaN   \n",
       "129    2682.832206    5095.403323      2588.740018           NaN   \n",
       "141   34031.908883   61046.607021     33178.547311           NaN   \n",
       "128   49585.204027   81436.011571     47169.679668           NaN   \n",
       "\n",
       "     AC Fractional Deviation  \n",
       "159                14.223109  \n",
       "161                 6.372530  \n",
       "133                 0.688214  \n",
       "50                  0.668965  \n",
       "121                 0.666720  \n",
       "165                 0.657649  \n",
       "132                 0.642524  \n",
       "43                  0.637363  \n",
       "52                  0.571677  \n",
       "154                 0.519882  \n",
       "136                 0.479272  \n",
       "145                 0.473837  \n",
       "129                 0.473480  \n",
       "141                 0.442526  \n",
       "128                 0.391115  "
      ]
     },
     "execution_count": 19,
     "metadata": {},
     "output_type": "execute_result"
    }
   ],
   "source": [
    "ptc_validation_aadt.loc[ptc_validation_aadt['Count ID'] > 0, :].sort_values('AC Fractional Deviation', ascending=False).head(15)"
   ]
  },
  {
   "cell_type": "code",
   "execution_count": 20,
   "metadata": {},
   "outputs": [
    {
     "data": {
      "text/html": [
       "<div>\n",
       "<style scoped>\n",
       "    .dataframe tbody tr th:only-of-type {\n",
       "        vertical-align: middle;\n",
       "    }\n",
       "\n",
       "    .dataframe tbody tr th {\n",
       "        vertical-align: top;\n",
       "    }\n",
       "\n",
       "    .dataframe thead th {\n",
       "        text-align: right;\n",
       "    }\n",
       "</style>\n",
       "<table border=\"1\" class=\"dataframe\">\n",
       "  <thead>\n",
       "    <tr style=\"text-align: right;\">\n",
       "      <th></th>\n",
       "      <th>Count ID</th>\n",
       "      <th>Mean Daily Count</th>\n",
       "      <th>PTC ID</th>\n",
       "      <th>D_ij</th>\n",
       "      <th>Closest Year</th>\n",
       "      <th>AADT Estimate</th>\n",
       "      <th>AADT Arman GT</th>\n",
       "      <th>AADT Charles GT</th>\n",
       "      <th>AADT Actual</th>\n",
       "      <th>AC Fractional Deviation</th>\n",
       "    </tr>\n",
       "  </thead>\n",
       "  <tbody>\n",
       "    <tr>\n",
       "      <th>147</th>\n",
       "      <td>-445884</td>\n",
       "      <td>64677.762542</td>\n",
       "      <td>-445309</td>\n",
       "      <td>1.009202</td>\n",
       "      <td>2016</td>\n",
       "      <td>115699.322931</td>\n",
       "      <td>64882.736826</td>\n",
       "      <td>115007.638313</td>\n",
       "      <td>NaN</td>\n",
       "      <td>0.783207</td>\n",
       "    </tr>\n",
       "    <tr>\n",
       "      <th>63</th>\n",
       "      <td>-9212691</td>\n",
       "      <td>9600.552632</td>\n",
       "      <td>-1145202</td>\n",
       "      <td>1.056820</td>\n",
       "      <td>2010</td>\n",
       "      <td>10146.059601</td>\n",
       "      <td>5810.066570</td>\n",
       "      <td>9503.730778</td>\n",
       "      <td>9503.730778</td>\n",
       "      <td>0.746290</td>\n",
       "    </tr>\n",
       "    <tr>\n",
       "      <th>153</th>\n",
       "      <td>-8491741</td>\n",
       "      <td>13659.230284</td>\n",
       "      <td>-1147201</td>\n",
       "      <td>1.054257</td>\n",
       "      <td>2016</td>\n",
       "      <td>3490.175961</td>\n",
       "      <td>13632.425063</td>\n",
       "      <td>3304.059024</td>\n",
       "      <td>NaN</td>\n",
       "      <td>0.743980</td>\n",
       "    </tr>\n",
       "    <tr>\n",
       "      <th>162</th>\n",
       "      <td>-13503206</td>\n",
       "      <td>9458.558304</td>\n",
       "      <td>-8171</td>\n",
       "      <td>1.042921</td>\n",
       "      <td>2017</td>\n",
       "      <td>3069.949485</td>\n",
       "      <td>9397.684791</td>\n",
       "      <td>2924.662011</td>\n",
       "      <td>NaN</td>\n",
       "      <td>0.673329</td>\n",
       "    </tr>\n",
       "    <tr>\n",
       "      <th>163</th>\n",
       "      <td>-13503207</td>\n",
       "      <td>9703.127660</td>\n",
       "      <td>-8171</td>\n",
       "      <td>1.042879</td>\n",
       "      <td>2017</td>\n",
       "      <td>3306.457249</td>\n",
       "      <td>9640.698061</td>\n",
       "      <td>3150.109140</td>\n",
       "      <td>NaN</td>\n",
       "      <td>0.657031</td>\n",
       "    </tr>\n",
       "    <tr>\n",
       "      <th>164</th>\n",
       "      <td>-13503251</td>\n",
       "      <td>9573.336879</td>\n",
       "      <td>-8171</td>\n",
       "      <td>1.042879</td>\n",
       "      <td>2017</td>\n",
       "      <td>3510.362251</td>\n",
       "      <td>9513.119713</td>\n",
       "      <td>3344.856641</td>\n",
       "      <td>NaN</td>\n",
       "      <td>0.630998</td>\n",
       "    </tr>\n",
       "    <tr>\n",
       "      <th>130</th>\n",
       "      <td>-442915</td>\n",
       "      <td>2150.949640</td>\n",
       "      <td>-444637</td>\n",
       "      <td>1.030760</td>\n",
       "      <td>2015</td>\n",
       "      <td>931.944018</td>\n",
       "      <td>2365.653971</td>\n",
       "      <td>903.418254</td>\n",
       "      <td>NaN</td>\n",
       "      <td>0.606052</td>\n",
       "    </tr>\n",
       "    <tr>\n",
       "      <th>142</th>\n",
       "      <td>-30003565</td>\n",
       "      <td>54113.130909</td>\n",
       "      <td>-14659244</td>\n",
       "      <td>1.026642</td>\n",
       "      <td>2015</td>\n",
       "      <td>22829.232551</td>\n",
       "      <td>54092.216417</td>\n",
       "      <td>22228.210208</td>\n",
       "      <td>NaN</td>\n",
       "      <td>0.577957</td>\n",
       "    </tr>\n",
       "    <tr>\n",
       "      <th>140</th>\n",
       "      <td>-20140757</td>\n",
       "      <td>4755.815182</td>\n",
       "      <td>-441170</td>\n",
       "      <td>1.008864</td>\n",
       "      <td>2015</td>\n",
       "      <td>2236.160004</td>\n",
       "      <td>5149.109865</td>\n",
       "      <td>2214.760749</td>\n",
       "      <td>NaN</td>\n",
       "      <td>0.565719</td>\n",
       "    </tr>\n",
       "    <tr>\n",
       "      <th>139</th>\n",
       "      <td>-12334937</td>\n",
       "      <td>15968.133562</td>\n",
       "      <td>-1146997</td>\n",
       "      <td>1.019588</td>\n",
       "      <td>2015</td>\n",
       "      <td>7525.692198</td>\n",
       "      <td>16004.157421</td>\n",
       "      <td>7397.762979</td>\n",
       "      <td>NaN</td>\n",
       "      <td>0.529766</td>\n",
       "    </tr>\n",
       "  </tbody>\n",
       "</table>\n",
       "</div>"
      ],
      "text/plain": [
       "     Count ID  Mean Daily Count    PTC ID      D_ij  Closest Year  \\\n",
       "147   -445884      64677.762542   -445309  1.009202          2016   \n",
       "63   -9212691       9600.552632  -1145202  1.056820          2010   \n",
       "153  -8491741      13659.230284  -1147201  1.054257          2016   \n",
       "162 -13503206       9458.558304     -8171  1.042921          2017   \n",
       "163 -13503207       9703.127660     -8171  1.042879          2017   \n",
       "164 -13503251       9573.336879     -8171  1.042879          2017   \n",
       "130   -442915       2150.949640   -444637  1.030760          2015   \n",
       "142 -30003565      54113.130909 -14659244  1.026642          2015   \n",
       "140 -20140757       4755.815182   -441170  1.008864          2015   \n",
       "139 -12334937      15968.133562  -1146997  1.019588          2015   \n",
       "\n",
       "     AADT Estimate  AADT Arman GT  AADT Charles GT  AADT Actual  \\\n",
       "147  115699.322931   64882.736826    115007.638313          NaN   \n",
       "63    10146.059601    5810.066570      9503.730778  9503.730778   \n",
       "153    3490.175961   13632.425063      3304.059024          NaN   \n",
       "162    3069.949485    9397.684791      2924.662011          NaN   \n",
       "163    3306.457249    9640.698061      3150.109140          NaN   \n",
       "164    3510.362251    9513.119713      3344.856641          NaN   \n",
       "130     931.944018    2365.653971       903.418254          NaN   \n",
       "142   22829.232551   54092.216417     22228.210208          NaN   \n",
       "140    2236.160004    5149.109865      2214.760749          NaN   \n",
       "139    7525.692198   16004.157421      7397.762979          NaN   \n",
       "\n",
       "     AC Fractional Deviation  \n",
       "147                 0.783207  \n",
       "63                  0.746290  \n",
       "153                 0.743980  \n",
       "162                 0.673329  \n",
       "163                 0.657031  \n",
       "164                 0.630998  \n",
       "130                 0.606052  \n",
       "142                 0.577957  \n",
       "140                 0.565719  \n",
       "139                 0.529766  "
      ]
     },
     "execution_count": 20,
     "metadata": {},
     "output_type": "execute_result"
    }
   ],
   "source": [
    "ptc_validation_aadt.loc[ptc_validation_aadt['Count ID'] < 0, :].sort_values('AC Fractional Deviation', ascending=False).head(10)"
   ]
  },
  {
   "cell_type": "markdown",
   "metadata": {},
   "source": [
    "Observations:\n",
    "- For stations where there's 2010 AADT data, my MAPE is around 3%, which is excellent, and to be expected considering that a). there's probably a very closely correlated nearby PTC and b). `D_ij` is like 3% and growth rates are at a few percent a year regardless if you use the citywide mean growth or the growth per PTC.\n",
    "    - There's a good case that all of CountMatch is a highly overcomplicated AADT rescaler and we should just switch to GPR.\n",
    "- Arman's ground truth estimate, which uses a weighted mean across PTC AADTs for multiple years, is often a poor estimate for the true AADT (my way of estimating the GT hits the AADT exactly when data exists, and does a simple growth of the closest year AADT when it doesn't).\n",
    "- This difference between GT estimates accounts for most of the scatter we saw in the initial validation test from `CountMatchDev1-Prototype.ipynb`.\n",
    "- TEPS does worse for 2010-positive than 2010-negative."
   ]
  },
  {
   "cell_type": "markdown",
   "metadata": {},
   "source": [
    "## Read in TEPS validation data"
   ]
  },
  {
   "cell_type": "code",
   "execution_count": 21,
   "metadata": {},
   "outputs": [],
   "source": [
    "# Read in some old results from \n",
    "teps_2010pos = pd.read_csv(('/mnt/c/Users/czhu5/Documents/VolumeModel/'\n",
    "                            'TEPS-dev/PRTCS/output_PRTCS2010positive/validation_2010.txt'),\n",
    "                           names=['centreline_id', 'arman_gt', 'pred'])\n",
    "teps_2010neg = pd.read_csv(('/mnt/c/Users/czhu5/Documents/VolumeModel/'\n",
    "                            'TEPS-dev/PRTCS/output_PRTCS2010negative/validation_2010.txt'),\n",
    "                           names=['centreline_id', 'arman_gt', 'pred'])"
   ]
  },
  {
   "cell_type": "code",
   "execution_count": 22,
   "metadata": {},
   "outputs": [
    {
     "data": {
      "image/png": "[encoded data removed]",
      "text/plain": [
       "<Figure size 720x720 with 1 Axes>"
      ]
     },
     "metadata": {
      "needs_background": "light"
     },
     "output_type": "display_data"
    }
   ],
   "source": [
    "fig, ax = plt.subplots(figsize=(10, 10))\n",
    "ax.plot(teps_2010pos['arman_gt'], teps_2010pos['pred'],\n",
    "        color='r', marker='o', ls='None', label='Positive direction')\n",
    "ax.plot(teps_2010neg['arman_gt'], teps_2010neg['pred'],\n",
    "        color='g', marker='o', ls='None', label='Negative direction')\n",
    "ax.set_xlim([0, 100000])\n",
    "ax.set_ylim([0, 100000])\n",
    "ax.set_xlabel('TEPS Ground Truth', fontsize=16)\n",
    "ax.set_ylabel('TEPS Prediction', fontsize=16)\n",
    "ax.set_title('TEPS-I AADT predictions vs. TEPS ground truth for 2010 positive/negative PTCs', fontsize=18, loc='left', pad=15)\n",
    "ax.tick_params(axis='both', which='both', labelsize=13)\n",
    "ax.legend(loc=2, prop={'size': 13});"
   ]
  },
  {
   "cell_type": "code",
   "execution_count": 23,
   "metadata": {},
   "outputs": [],
   "source": [
    "teps_2010neg['abs. frac. err.'] = np.abs(teps_2010neg['pred'] - teps_2010neg['arman_gt']) / teps_2010neg['arman_gt']\n",
    "teps_2010pos['abs. frac. err.'] = np.abs(teps_2010pos['pred'] - teps_2010pos['arman_gt']) / teps_2010pos['arman_gt']"
   ]
  },
  {
   "cell_type": "code",
   "execution_count": 24,
   "metadata": {},
   "outputs": [
    {
     "data": {
      "text/html": [
       "<div>\n",
       "<style scoped>\n",
       "    .dataframe tbody tr th:only-of-type {\n",
       "        vertical-align: middle;\n",
       "    }\n",
       "\n",
       "    .dataframe tbody tr th {\n",
       "        vertical-align: top;\n",
       "    }\n",
       "\n",
       "    .dataframe thead th {\n",
       "        text-align: right;\n",
       "    }\n",
       "</style>\n",
       "<table border=\"1\" class=\"dataframe\">\n",
       "  <thead>\n",
       "    <tr style=\"text-align: right;\">\n",
       "      <th></th>\n",
       "      <th>centreline_id</th>\n",
       "      <th>arman_gt</th>\n",
       "      <th>pred</th>\n",
       "      <th>abs. frac. err.</th>\n",
       "    </tr>\n",
       "  </thead>\n",
       "  <tbody>\n",
       "    <tr>\n",
       "      <th>4</th>\n",
       "      <td>442161</td>\n",
       "      <td>12119.935550</td>\n",
       "      <td>31385.405780</td>\n",
       "      <td>1.589569</td>\n",
       "    </tr>\n",
       "    <tr>\n",
       "      <th>48</th>\n",
       "      <td>30073545</td>\n",
       "      <td>16132.470520</td>\n",
       "      <td>6312.287959</td>\n",
       "      <td>0.608722</td>\n",
       "    </tr>\n",
       "    <tr>\n",
       "      <th>26</th>\n",
       "      <td>6436449</td>\n",
       "      <td>15079.177800</td>\n",
       "      <td>7823.046412</td>\n",
       "      <td>0.481202</td>\n",
       "    </tr>\n",
       "    <tr>\n",
       "      <th>41</th>\n",
       "      <td>20050591</td>\n",
       "      <td>14990.636340</td>\n",
       "      <td>18293.174960</td>\n",
       "      <td>0.220307</td>\n",
       "    </tr>\n",
       "    <tr>\n",
       "      <th>1</th>\n",
       "      <td>106797</td>\n",
       "      <td>2524.101245</td>\n",
       "      <td>2990.290806</td>\n",
       "      <td>0.184695</td>\n",
       "    </tr>\n",
       "  </tbody>\n",
       "</table>\n",
       "</div>"
      ],
      "text/plain": [
       "    centreline_id      arman_gt          pred  abs. frac. err.\n",
       "4          442161  12119.935550  31385.405780         1.589569\n",
       "48       30073545  16132.470520   6312.287959         0.608722\n",
       "26        6436449  15079.177800   7823.046412         0.481202\n",
       "41       20050591  14990.636340  18293.174960         0.220307\n",
       "1          106797   2524.101245   2990.290806         0.184695"
      ]
     },
     "execution_count": 24,
     "metadata": {},
     "output_type": "execute_result"
    }
   ],
   "source": [
    "teps_2010neg.sort_values('abs. frac. err.', ascending=False).head(5)"
   ]
  },
  {
   "cell_type": "code",
   "execution_count": 25,
   "metadata": {},
   "outputs": [
    {
     "data": {
      "text/html": [
       "<div>\n",
       "<style scoped>\n",
       "    .dataframe tbody tr th:only-of-type {\n",
       "        vertical-align: middle;\n",
       "    }\n",
       "\n",
       "    .dataframe tbody tr th {\n",
       "        vertical-align: top;\n",
       "    }\n",
       "\n",
       "    .dataframe thead th {\n",
       "        text-align: right;\n",
       "    }\n",
       "</style>\n",
       "<table border=\"1\" class=\"dataframe\">\n",
       "  <thead>\n",
       "    <tr style=\"text-align: right;\">\n",
       "      <th></th>\n",
       "      <th>centreline_id</th>\n",
       "      <th>arman_gt</th>\n",
       "      <th>pred</th>\n",
       "      <th>abs. frac. err.</th>\n",
       "    </tr>\n",
       "  </thead>\n",
       "  <tbody>\n",
       "    <tr>\n",
       "      <th>2</th>\n",
       "      <td>106898</td>\n",
       "      <td>1078.342068</td>\n",
       "      <td>15750.534210</td>\n",
       "      <td>13.606250</td>\n",
       "    </tr>\n",
       "    <tr>\n",
       "      <th>9</th>\n",
       "      <td>446012</td>\n",
       "      <td>8042.166724</td>\n",
       "      <td>17935.500110</td>\n",
       "      <td>1.230183</td>\n",
       "    </tr>\n",
       "    <tr>\n",
       "      <th>44</th>\n",
       "      <td>30019302</td>\n",
       "      <td>22322.260710</td>\n",
       "      <td>7440.350803</td>\n",
       "      <td>0.666685</td>\n",
       "    </tr>\n",
       "    <tr>\n",
       "      <th>41</th>\n",
       "      <td>20230203</td>\n",
       "      <td>15648.479800</td>\n",
       "      <td>24546.358170</td>\n",
       "      <td>0.568610</td>\n",
       "    </tr>\n",
       "    <tr>\n",
       "      <th>39</th>\n",
       "      <td>20043629</td>\n",
       "      <td>7654.251995</td>\n",
       "      <td>7224.722261</td>\n",
       "      <td>0.056116</td>\n",
       "    </tr>\n",
       "  </tbody>\n",
       "</table>\n",
       "</div>"
      ],
      "text/plain": [
       "    centreline_id      arman_gt          pred  abs. frac. err.\n",
       "2          106898   1078.342068  15750.534210        13.606250\n",
       "9          446012   8042.166724  17935.500110         1.230183\n",
       "44       30019302  22322.260710   7440.350803         0.666685\n",
       "41       20230203  15648.479800  24546.358170         0.568610\n",
       "39       20043629   7654.251995   7224.722261         0.056116"
      ]
     },
     "execution_count": 25,
     "metadata": {},
     "output_type": "execute_result"
    }
   ],
   "source": [
    "teps_2010pos.sort_values('abs. frac. err.', ascending=False).head(5)"
   ]
  },
  {
   "cell_type": "markdown",
   "metadata": {},
   "source": [
    "# -443975\n",
    "\n",
    "Centreline ID 443975 negative direction exists in Arman's results and mine.  My results are:"
   ]
  },
  {
   "cell_type": "code",
   "execution_count": 26,
   "metadata": {},
   "outputs": [
    {
     "data": {
      "text/html": [
       "<div>\n",
       "<style scoped>\n",
       "    .dataframe tbody tr th:only-of-type {\n",
       "        vertical-align: middle;\n",
       "    }\n",
       "\n",
       "    .dataframe tbody tr th {\n",
       "        vertical-align: top;\n",
       "    }\n",
       "\n",
       "    .dataframe thead th {\n",
       "        text-align: right;\n",
       "    }\n",
       "</style>\n",
       "<table border=\"1\" class=\"dataframe\">\n",
       "  <thead>\n",
       "    <tr style=\"text-align: right;\">\n",
       "      <th></th>\n",
       "      <th>Count ID</th>\n",
       "      <th>Mean Daily Count</th>\n",
       "      <th>PTC ID</th>\n",
       "      <th>D_ij</th>\n",
       "      <th>Closest Year</th>\n",
       "      <th>AADT Estimate</th>\n",
       "      <th>AADT Arman GT</th>\n",
       "      <th>AADT Charles GT</th>\n",
       "      <th>AADT Actual</th>\n",
       "      <th>AC Fractional Deviation</th>\n",
       "    </tr>\n",
       "  </thead>\n",
       "  <tbody>\n",
       "    <tr>\n",
       "      <th>13</th>\n",
       "      <td>-443975</td>\n",
       "      <td>85027.156352</td>\n",
       "      <td>-442915</td>\n",
       "      <td>1.05314</td>\n",
       "      <td>2010</td>\n",
       "      <td>89545.469062</td>\n",
       "      <td>78977.804873</td>\n",
       "      <td>85009.788625</td>\n",
       "      <td>85009.788625</td>\n",
       "      <td>0.133805</td>\n",
       "    </tr>\n",
       "  </tbody>\n",
       "</table>\n",
       "</div>"
      ],
      "text/plain": [
       "    Count ID  Mean Daily Count  PTC ID     D_ij  Closest Year  AADT Estimate  \\\n",
       "13   -443975      85027.156352 -442915  1.05314          2010   89545.469062   \n",
       "\n",
       "    AADT Arman GT  AADT Charles GT   AADT Actual  AC Fractional Deviation  \n",
       "13   78977.804873     85009.788625  85009.788625                 0.133805  "
      ]
     },
     "execution_count": 26,
     "metadata": {},
     "output_type": "execute_result"
    }
   ],
   "source": [
    "ptc_validation_aadt[ptc_validation_aadt['Count ID'] == -443975]"
   ]
  },
  {
   "cell_type": "markdown",
   "metadata": {},
   "source": [
    "Arman's are"
   ]
  },
  {
   "cell_type": "code",
   "execution_count": 27,
   "metadata": {},
   "outputs": [
    {
     "data": {
      "text/html": [
       "<div>\n",
       "<style scoped>\n",
       "    .dataframe tbody tr th:only-of-type {\n",
       "        vertical-align: middle;\n",
       "    }\n",
       "\n",
       "    .dataframe tbody tr th {\n",
       "        vertical-align: top;\n",
       "    }\n",
       "\n",
       "    .dataframe thead th {\n",
       "        text-align: right;\n",
       "    }\n",
       "</style>\n",
       "<table border=\"1\" class=\"dataframe\">\n",
       "  <thead>\n",
       "    <tr style=\"text-align: right;\">\n",
       "      <th></th>\n",
       "      <th>centreline_id</th>\n",
       "      <th>arman_gt</th>\n",
       "      <th>pred</th>\n",
       "      <th>abs. frac. err.</th>\n",
       "    </tr>\n",
       "  </thead>\n",
       "  <tbody>\n",
       "    <tr>\n",
       "      <th>6</th>\n",
       "      <td>443975</td>\n",
       "      <td>84991.82872</td>\n",
       "      <td>82183.87402</td>\n",
       "      <td>0.033038</td>\n",
       "    </tr>\n",
       "  </tbody>\n",
       "</table>\n",
       "</div>"
      ],
      "text/plain": [
       "   centreline_id     arman_gt         pred  abs. frac. err.\n",
       "6         443975  84991.82872  82183.87402         0.033038"
      ]
     },
     "execution_count": 27,
     "metadata": {},
     "output_type": "execute_result"
    }
   ],
   "source": [
    "teps_2010neg[teps_2010neg['centreline_id'] == 443975]"
   ]
  },
  {
   "cell_type": "markdown",
   "metadata": {},
   "source": [
    "There's major discrepancies even between my `'AADT Arman GT'` and what TEPS actually reports.  Note that `8.4992e+04` is the actual AADT from Arman's raw data, and differs by less than a percent than my `'AADT Actual'`"
   ]
  },
  {
   "cell_type": "code",
   "execution_count": 28,
   "metadata": {},
   "outputs": [
    {
     "data": {
      "text/plain": [
       "PTC ID\n",
       "-445309    78977.804873\n",
       "-444637    78977.804873\n",
       "-443987    78977.804873\n",
       "-442915    78977.804873\n",
       "-442447    78977.804873\n",
       "Name: AADT, dtype: float64"
      ]
     },
     "execution_count": 28,
     "metadata": {},
     "output_type": "execute_result"
    }
   ],
   "source": [
    "rdr.ptcs[-443975].tc_mse.groupby('PTC ID')['AADT'].mean()"
   ]
  },
  {
   "cell_type": "markdown",
   "metadata": {},
   "source": [
    "The reason for this is there's only 2010 data in TEPS, but both 2010 and 2015 data exist for CountMatch.  The Matlab command `R_AADTij(R_AADTij(:,2)==v1(j),3)` doesn't account for changing years, so would have a much greater error.\n",
    "\n",
    "Just to check, do we match to the same neighbour?"
   ]
  },
  {
   "cell_type": "code",
   "execution_count": 29,
   "metadata": {},
   "outputs": [],
   "source": [
    "def get_actual_neighbours(tc, rptcs):\n",
    "    \"\"\"Since bidirectional neighbours are stored in nb.data,\n",
    "    show only the five nearest same-direction links.\"\"\"\n",
    "    neighbours, distances = nb.get_neighbours(tc.centreline_id)\n",
    "    return [rptcs[n].centreline_id for n in\n",
    "            [tc.direction * nbrs for nbrs in neighbours]\n",
    "            if n in rptcs.keys()][:5]"
   ]
  },
  {
   "cell_type": "code",
   "execution_count": 30,
   "metadata": {},
   "outputs": [
    {
     "data": {
      "text/plain": [
       "[443987, 444637, 442915, 445309, 442447]"
      ]
     },
     "execution_count": 30,
     "metadata": {},
     "output_type": "execute_result"
    }
   ],
   "source": [
    "get_actual_neighbours(rdr.ptcs[-443975], rdr.ptcs)"
   ]
  },
  {
   "cell_type": "markdown",
   "metadata": {},
   "source": [
    "In Matlab,\n",
    "\n",
    "```matlab\n",
    "v1(j); % this PTC\n",
    "curr_mses = MSE(MSE(:,2)==v1(j),:); % MSE table\n",
    "iDoMs(curr_mses(iminMSE, 1)) % nearest PTC matched with this PTC\n",
    "```\n",
    "\n",
    "Retrieved `442447`"
   ]
  },
  {
   "cell_type": "markdown",
   "metadata": {},
   "source": [
    "So not quite, but this appears to be because I have more PTCs."
   ]
  },
  {
   "cell_type": "markdown",
   "metadata": {},
   "source": [
    "## -442161"
   ]
  },
  {
   "cell_type": "code",
   "execution_count": 31,
   "metadata": {},
   "outputs": [
    {
     "data": {
      "text/html": [
       "<div>\n",
       "<style scoped>\n",
       "    .dataframe tbody tr th:only-of-type {\n",
       "        vertical-align: middle;\n",
       "    }\n",
       "\n",
       "    .dataframe tbody tr th {\n",
       "        vertical-align: top;\n",
       "    }\n",
       "\n",
       "    .dataframe thead th {\n",
       "        text-align: right;\n",
       "    }\n",
       "</style>\n",
       "<table border=\"1\" class=\"dataframe\">\n",
       "  <thead>\n",
       "    <tr style=\"text-align: right;\">\n",
       "      <th></th>\n",
       "      <th>Count ID</th>\n",
       "      <th>Mean Daily Count</th>\n",
       "      <th>PTC ID</th>\n",
       "      <th>D_ij</th>\n",
       "      <th>Closest Year</th>\n",
       "      <th>AADT Estimate</th>\n",
       "      <th>AADT Arman GT</th>\n",
       "      <th>AADT Charles GT</th>\n",
       "      <th>AADT Actual</th>\n",
       "      <th>AC Fractional Deviation</th>\n",
       "    </tr>\n",
       "  </thead>\n",
       "  <tbody>\n",
       "    <tr>\n",
       "      <th>9</th>\n",
       "      <td>-442161</td>\n",
       "      <td>33794.317901</td>\n",
       "      <td>-11129605</td>\n",
       "      <td>1.038739</td>\n",
       "      <td>2010</td>\n",
       "      <td>35103.491476</td>\n",
       "      <td>33351.082367</td>\n",
       "      <td>33880.909914</td>\n",
       "      <td>33880.909914</td>\n",
       "      <td>0.052544</td>\n",
       "    </tr>\n",
       "  </tbody>\n",
       "</table>\n",
       "</div>"
      ],
      "text/plain": [
       "   Count ID  Mean Daily Count    PTC ID      D_ij  Closest Year  \\\n",
       "9   -442161      33794.317901 -11129605  1.038739          2010   \n",
       "\n",
       "   AADT Estimate  AADT Arman GT  AADT Charles GT   AADT Actual  \\\n",
       "9   35103.491476   33351.082367     33880.909914  33880.909914   \n",
       "\n",
       "   AC Fractional Deviation  \n",
       "9                 0.052544  "
      ]
     },
     "execution_count": 31,
     "metadata": {},
     "output_type": "execute_result"
    }
   ],
   "source": [
    "ptc_validation_aadt[ptc_validation_aadt['Count ID'] == -442161]"
   ]
  },
  {
   "cell_type": "code",
   "execution_count": 32,
   "metadata": {},
   "outputs": [
    {
     "data": {
      "text/html": [
       "<div>\n",
       "<style scoped>\n",
       "    .dataframe tbody tr th:only-of-type {\n",
       "        vertical-align: middle;\n",
       "    }\n",
       "\n",
       "    .dataframe tbody tr th {\n",
       "        vertical-align: top;\n",
       "    }\n",
       "\n",
       "    .dataframe thead th {\n",
       "        text-align: right;\n",
       "    }\n",
       "</style>\n",
       "<table border=\"1\" class=\"dataframe\">\n",
       "  <thead>\n",
       "    <tr style=\"text-align: right;\">\n",
       "      <th></th>\n",
       "      <th>centreline_id</th>\n",
       "      <th>arman_gt</th>\n",
       "      <th>pred</th>\n",
       "      <th>abs. frac. err.</th>\n",
       "    </tr>\n",
       "  </thead>\n",
       "  <tbody>\n",
       "    <tr>\n",
       "      <th>4</th>\n",
       "      <td>442161</td>\n",
       "      <td>12119.93555</td>\n",
       "      <td>31385.40578</td>\n",
       "      <td>1.589569</td>\n",
       "    </tr>\n",
       "  </tbody>\n",
       "</table>\n",
       "</div>"
      ],
      "text/plain": [
       "   centreline_id     arman_gt         pred  abs. frac. err.\n",
       "4         442161  12119.93555  31385.40578         1.589569"
      ]
     },
     "execution_count": 32,
     "metadata": {},
     "output_type": "execute_result"
    }
   ],
   "source": [
    "teps_2010neg[teps_2010neg['centreline_id'] == 442161]"
   ]
  },
  {
   "cell_type": "code",
   "execution_count": 33,
   "metadata": {},
   "outputs": [
    {
     "data": {
      "text/plain": [
       "1.1026077342206893"
      ]
     },
     "execution_count": 33,
     "metadata": {},
     "output_type": "execute_result"
    }
   ],
   "source": [
    "rdr.ptcs[-442161].growth_factor**(2010-2016)"
   ]
  },
  {
   "cell_type": "code",
   "execution_count": 34,
   "metadata": {},
   "outputs": [
    {
     "data": {
      "text/html": [
       "<div>\n",
       "<style scoped>\n",
       "    .dataframe tbody tr th:only-of-type {\n",
       "        vertical-align: middle;\n",
       "    }\n",
       "\n",
       "    .dataframe tbody tr th {\n",
       "        vertical-align: top;\n",
       "    }\n",
       "\n",
       "    .dataframe thead th {\n",
       "        text-align: right;\n",
       "    }\n",
       "</style>\n",
       "<table border=\"1\" class=\"dataframe\">\n",
       "  <thead>\n",
       "    <tr style=\"text-align: right;\">\n",
       "      <th></th>\n",
       "      <th>AADT</th>\n",
       "    </tr>\n",
       "    <tr>\n",
       "      <th>Year</th>\n",
       "      <th></th>\n",
       "    </tr>\n",
       "  </thead>\n",
       "  <tbody>\n",
       "    <tr>\n",
       "      <th>2010</th>\n",
       "      <td>33880.909914</td>\n",
       "    </tr>\n",
       "    <tr>\n",
       "      <th>2012</th>\n",
       "      <td>32795.535036</td>\n",
       "    </tr>\n",
       "  </tbody>\n",
       "</table>\n",
       "</div>"
      ],
      "text/plain": [
       "              AADT\n",
       "Year              \n",
       "2010  33880.909914\n",
       "2012  32795.535036"
      ]
     },
     "execution_count": 34,
     "metadata": {},
     "output_type": "execute_result"
    }
   ],
   "source": [
    "rdr.ptcs[-442161].data['AADT']"
   ]
  },
  {
   "cell_type": "markdown",
   "metadata": {},
   "source": [
    "The problem here appears to be TEPS's AADT is wrong - `AADTs(AADTs(:, 3) == v1(j), 4)` correctly returns `3.2755e+04`, but `unique(DoM_PTC(DoM_PTC(:,5)==v1(j),15))` returns `1.2120e+04`.  This is set in `SEL_ratio`, and I have very little interest in following up why this happened, so we'll chalk that up to bad accounting."
   ]
  },
  {
   "cell_type": "markdown",
   "metadata": {},
   "source": [
    "## -30073545\n"
   ]
  },
  {
   "cell_type": "code",
   "execution_count": 35,
   "metadata": {},
   "outputs": [
    {
     "data": {
      "text/html": [
       "<div>\n",
       "<style scoped>\n",
       "    .dataframe tbody tr th:only-of-type {\n",
       "        vertical-align: middle;\n",
       "    }\n",
       "\n",
       "    .dataframe tbody tr th {\n",
       "        vertical-align: top;\n",
       "    }\n",
       "\n",
       "    .dataframe thead th {\n",
       "        text-align: right;\n",
       "    }\n",
       "</style>\n",
       "<table border=\"1\" class=\"dataframe\">\n",
       "  <thead>\n",
       "    <tr style=\"text-align: right;\">\n",
       "      <th></th>\n",
       "      <th>Count ID</th>\n",
       "      <th>Mean Daily Count</th>\n",
       "      <th>PTC ID</th>\n",
       "      <th>D_ij</th>\n",
       "      <th>Closest Year</th>\n",
       "      <th>AADT Estimate</th>\n",
       "      <th>AADT Arman GT</th>\n",
       "      <th>AADT Charles GT</th>\n",
       "      <th>AADT Actual</th>\n",
       "      <th>AC Fractional Deviation</th>\n",
       "    </tr>\n",
       "  </thead>\n",
       "  <tbody>\n",
       "    <tr>\n",
       "      <th>102</th>\n",
       "      <td>-30073545</td>\n",
       "      <td>8182.621118</td>\n",
       "      <td>-20050591</td>\n",
       "      <td>1.045307</td>\n",
       "      <td>2010</td>\n",
       "      <td>8553.354613</td>\n",
       "      <td>7400.50154</td>\n",
       "      <td>8245.026432</td>\n",
       "      <td>8245.026432</td>\n",
       "      <td>0.15578</td>\n",
       "    </tr>\n",
       "  </tbody>\n",
       "</table>\n",
       "</div>"
      ],
      "text/plain": [
       "     Count ID  Mean Daily Count    PTC ID      D_ij  Closest Year  \\\n",
       "102 -30073545       8182.621118 -20050591  1.045307          2010   \n",
       "\n",
       "     AADT Estimate  AADT Arman GT  AADT Charles GT  AADT Actual  \\\n",
       "102    8553.354613     7400.50154      8245.026432  8245.026432   \n",
       "\n",
       "     AC Fractional Deviation  \n",
       "102                  0.15578  "
      ]
     },
     "execution_count": 35,
     "metadata": {},
     "output_type": "execute_result"
    }
   ],
   "source": [
    "ptc_validation_aadt[ptc_validation_aadt['Count ID'] == -30073545]"
   ]
  },
  {
   "cell_type": "code",
   "execution_count": 36,
   "metadata": {},
   "outputs": [
    {
     "data": {
      "text/html": [
       "<div>\n",
       "<style scoped>\n",
       "    .dataframe tbody tr th:only-of-type {\n",
       "        vertical-align: middle;\n",
       "    }\n",
       "\n",
       "    .dataframe tbody tr th {\n",
       "        vertical-align: top;\n",
       "    }\n",
       "\n",
       "    .dataframe thead th {\n",
       "        text-align: right;\n",
       "    }\n",
       "</style>\n",
       "<table border=\"1\" class=\"dataframe\">\n",
       "  <thead>\n",
       "    <tr style=\"text-align: right;\">\n",
       "      <th></th>\n",
       "      <th>centreline_id</th>\n",
       "      <th>arman_gt</th>\n",
       "      <th>pred</th>\n",
       "      <th>abs. frac. err.</th>\n",
       "    </tr>\n",
       "  </thead>\n",
       "  <tbody>\n",
       "    <tr>\n",
       "      <th>48</th>\n",
       "      <td>30073545</td>\n",
       "      <td>16132.47052</td>\n",
       "      <td>6312.287959</td>\n",
       "      <td>0.608722</td>\n",
       "    </tr>\n",
       "  </tbody>\n",
       "</table>\n",
       "</div>"
      ],
      "text/plain": [
       "    centreline_id     arman_gt         pred  abs. frac. err.\n",
       "48       30073545  16132.47052  6312.287959         0.608722"
      ]
     },
     "execution_count": 36,
     "metadata": {},
     "output_type": "execute_result"
    }
   ],
   "source": [
    "teps_2010neg[teps_2010neg['centreline_id'] == 30073545]"
   ]
  },
  {
   "cell_type": "code",
   "execution_count": 37,
   "metadata": {},
   "outputs": [
    {
     "data": {
      "text/plain": [
       "Year\n",
       "2010    8245.026432\n",
       "2012    6456.275793\n",
       "Name: AADT, dtype: float64"
      ]
     },
     "execution_count": 37,
     "metadata": {},
     "output_type": "execute_result"
    }
   ],
   "source": [
    "rdr.ptcs[-30073545].tc_mse.groupby('Year')['AADT'].mean()"
   ]
  },
  {
   "cell_type": "code",
   "execution_count": 38,
   "metadata": {},
   "outputs": [
    {
     "data": {
      "text/plain": [
       "PTC ID\n",
       "-20050591    7400.50154\n",
       "-13503833    7400.50154\n",
       "-9637988     7400.50154\n",
       "-106797      7400.50154\n",
       "-104870      7400.50154\n",
       "Name: AADT, dtype: float64"
      ]
     },
     "execution_count": 38,
     "metadata": {},
     "output_type": "execute_result"
    }
   ],
   "source": [
    "rdr.ptcs[-30073545].tc_mse.groupby('PTC ID')['AADT'].mean()"
   ]
  },
  {
   "cell_type": "markdown",
   "metadata": {},
   "source": [
    "Here again, `AADTs(AADTs(:, 3) == v1(j), 4)` returns an incorrect but reasonable `6.4541e+03`, but `unique(DoM_PTC(DoM_PTC(:,5)==v1(j),15))` gives `1.6132e+04`, wherever that number's from."
   ]
  },
  {
   "cell_type": "markdown",
   "metadata": {},
   "source": [
    "## 1147544"
   ]
  },
  {
   "cell_type": "code",
   "execution_count": 39,
   "metadata": {},
   "outputs": [
    {
     "data": {
      "text/html": [
       "<div>\n",
       "<style scoped>\n",
       "    .dataframe tbody tr th:only-of-type {\n",
       "        vertical-align: middle;\n",
       "    }\n",
       "\n",
       "    .dataframe tbody tr th {\n",
       "        vertical-align: top;\n",
       "    }\n",
       "\n",
       "    .dataframe thead th {\n",
       "        text-align: right;\n",
       "    }\n",
       "</style>\n",
       "<table border=\"1\" class=\"dataframe\">\n",
       "  <thead>\n",
       "    <tr style=\"text-align: right;\">\n",
       "      <th></th>\n",
       "      <th>Count ID</th>\n",
       "      <th>Mean Daily Count</th>\n",
       "      <th>PTC ID</th>\n",
       "      <th>D_ij</th>\n",
       "      <th>Closest Year</th>\n",
       "      <th>AADT Estimate</th>\n",
       "      <th>AADT Arman GT</th>\n",
       "      <th>AADT Charles GT</th>\n",
       "      <th>AADT Actual</th>\n",
       "      <th>AC Fractional Deviation</th>\n",
       "    </tr>\n",
       "  </thead>\n",
       "  <tbody>\n",
       "    <tr>\n",
       "      <th>52</th>\n",
       "      <td>1147544</td>\n",
       "      <td>35456.289562</td>\n",
       "      <td>1147551</td>\n",
       "      <td>1.069437</td>\n",
       "      <td>2010</td>\n",
       "      <td>37918.275729</td>\n",
       "      <td>24125.99057</td>\n",
       "      <td>35230.75158</td>\n",
       "      <td>35230.75158</td>\n",
       "      <td>0.571677</td>\n",
       "    </tr>\n",
       "  </tbody>\n",
       "</table>\n",
       "</div>"
      ],
      "text/plain": [
       "    Count ID  Mean Daily Count   PTC ID      D_ij  Closest Year  \\\n",
       "52   1147544      35456.289562  1147551  1.069437          2010   \n",
       "\n",
       "    AADT Estimate  AADT Arman GT  AADT Charles GT  AADT Actual  \\\n",
       "52   37918.275729    24125.99057      35230.75158  35230.75158   \n",
       "\n",
       "    AC Fractional Deviation  \n",
       "52                 0.571677  "
      ]
     },
     "execution_count": 39,
     "metadata": {},
     "output_type": "execute_result"
    }
   ],
   "source": [
    "ptc_validation_aadt[ptc_validation_aadt['Count ID'] == 1147544]"
   ]
  },
  {
   "cell_type": "code",
   "execution_count": 40,
   "metadata": {},
   "outputs": [
    {
     "data": {
      "text/html": [
       "<div>\n",
       "<style scoped>\n",
       "    .dataframe tbody tr th:only-of-type {\n",
       "        vertical-align: middle;\n",
       "    }\n",
       "\n",
       "    .dataframe tbody tr th {\n",
       "        vertical-align: top;\n",
       "    }\n",
       "\n",
       "    .dataframe thead th {\n",
       "        text-align: right;\n",
       "    }\n",
       "</style>\n",
       "<table border=\"1\" class=\"dataframe\">\n",
       "  <thead>\n",
       "    <tr style=\"text-align: right;\">\n",
       "      <th></th>\n",
       "      <th>centreline_id</th>\n",
       "      <th>arman_gt</th>\n",
       "      <th>pred</th>\n",
       "      <th>abs. frac. err.</th>\n",
       "    </tr>\n",
       "  </thead>\n",
       "  <tbody>\n",
       "    <tr>\n",
       "      <th>25</th>\n",
       "      <td>1147544</td>\n",
       "      <td>35228.80634</td>\n",
       "      <td>35746.97133</td>\n",
       "      <td>0.014709</td>\n",
       "    </tr>\n",
       "  </tbody>\n",
       "</table>\n",
       "</div>"
      ],
      "text/plain": [
       "    centreline_id     arman_gt         pred  abs. frac. err.\n",
       "25        1147544  35228.80634  35746.97133         0.014709"
      ]
     },
     "execution_count": 40,
     "metadata": {},
     "output_type": "execute_result"
    }
   ],
   "source": [
    "teps_2010pos[teps_2010pos['centreline_id'] == 1147544]"
   ]
  },
  {
   "cell_type": "code",
   "execution_count": 41,
   "metadata": {},
   "outputs": [
    {
     "data": {
      "text/plain": [
       "Year\n",
       "2010    35230.751580\n",
       "2016    18812.643682\n",
       "2017    18307.355537\n",
       "Name: AADT, dtype: float64"
      ]
     },
     "execution_count": 41,
     "metadata": {},
     "output_type": "execute_result"
    }
   ],
   "source": [
    "rdr.ptcs[1147544].tc_mse.groupby('Year')['AADT'].mean()"
   ]
  },
  {
   "cell_type": "markdown",
   "metadata": {},
   "source": [
    "Here's another case where the TEPS ground truth is fine because it only has access to one year's worth of PTC data, but because we have 3, we get a much bigger error."
   ]
  },
  {
   "cell_type": "markdown",
   "metadata": {},
   "source": [
    "## What about major outliers comparing to Charles's ground truth?"
   ]
  },
  {
   "cell_type": "code",
   "execution_count": 42,
   "metadata": {},
   "outputs": [],
   "source": [
    "ptc_validation_aadt['CG Fractional Deviation'] = np.abs(\n",
    "    ptc_validation_aadt.loc[:, 'AADT Estimate'] - ptc_validation_aadt.loc[:, 'AADT Charles GT']) / ptc_validation_aadt.loc[:, 'AADT Charles GT']"
   ]
  },
  {
   "cell_type": "code",
   "execution_count": 43,
   "metadata": {},
   "outputs": [
    {
     "data": {
      "text/html": [
       "<div>\n",
       "<style scoped>\n",
       "    .dataframe tbody tr th:only-of-type {\n",
       "        vertical-align: middle;\n",
       "    }\n",
       "\n",
       "    .dataframe tbody tr th {\n",
       "        vertical-align: top;\n",
       "    }\n",
       "\n",
       "    .dataframe thead th {\n",
       "        text-align: right;\n",
       "    }\n",
       "</style>\n",
       "<table border=\"1\" class=\"dataframe\">\n",
       "  <thead>\n",
       "    <tr style=\"text-align: right;\">\n",
       "      <th></th>\n",
       "      <th>Count ID</th>\n",
       "      <th>Mean Daily Count</th>\n",
       "      <th>PTC ID</th>\n",
       "      <th>D_ij</th>\n",
       "      <th>Closest Year</th>\n",
       "      <th>AADT Estimate</th>\n",
       "      <th>AADT Arman GT</th>\n",
       "      <th>AADT Charles GT</th>\n",
       "      <th>AADT Actual</th>\n",
       "      <th>AC Fractional Deviation</th>\n",
       "      <th>CG Fractional Deviation</th>\n",
       "    </tr>\n",
       "  </thead>\n",
       "  <tbody>\n",
       "    <tr>\n",
       "      <th>50</th>\n",
       "      <td>1147466</td>\n",
       "      <td>24098.348921</td>\n",
       "      <td>14255077</td>\n",
       "      <td>1.350051</td>\n",
       "      <td>2010</td>\n",
       "      <td>32534.010569</td>\n",
       "      <td>19493.519806</td>\n",
       "      <td>23831.603928</td>\n",
       "      <td>23831.603928</td>\n",
       "      <td>0.668965</td>\n",
       "      <td>0.365162</td>\n",
       "    </tr>\n",
       "    <tr>\n",
       "      <th>43</th>\n",
       "      <td>1147201</td>\n",
       "      <td>20114.472669</td>\n",
       "      <td>14255077</td>\n",
       "      <td>1.290076</td>\n",
       "      <td>2010</td>\n",
       "      <td>25949.201547</td>\n",
       "      <td>15848.164198</td>\n",
       "      <td>20032.989169</td>\n",
       "      <td>20032.989169</td>\n",
       "      <td>0.637363</td>\n",
       "      <td>0.295323</td>\n",
       "    </tr>\n",
       "    <tr>\n",
       "      <th>121</th>\n",
       "      <td>14065128</td>\n",
       "      <td>8700.032143</td>\n",
       "      <td>5439677</td>\n",
       "      <td>1.301841</td>\n",
       "      <td>2012</td>\n",
       "      <td>14670.024758</td>\n",
       "      <td>8801.735137</td>\n",
       "      <td>11400.404732</td>\n",
       "      <td>NaN</td>\n",
       "      <td>0.666720</td>\n",
       "      <td>0.286799</td>\n",
       "    </tr>\n",
       "    <tr>\n",
       "      <th>159</th>\n",
       "      <td>14255077</td>\n",
       "      <td>16556.517350</td>\n",
       "      <td>1147201</td>\n",
       "      <td>1.252154</td>\n",
       "      <td>2016</td>\n",
       "      <td>219393.172938</td>\n",
       "      <td>14411.850934</td>\n",
       "      <td>180441.878175</td>\n",
       "      <td>NaN</td>\n",
       "      <td>14.223109</td>\n",
       "      <td>0.215866</td>\n",
       "    </tr>\n",
       "    <tr>\n",
       "      <th>125</th>\n",
       "      <td>5439677</td>\n",
       "      <td>4340.380952</td>\n",
       "      <td>6248089</td>\n",
       "      <td>1.095253</td>\n",
       "      <td>2013</td>\n",
       "      <td>4560.757767</td>\n",
       "      <td>4341.678352</td>\n",
       "      <td>4165.358554</td>\n",
       "      <td>NaN</td>\n",
       "      <td>0.050460</td>\n",
       "      <td>0.094926</td>\n",
       "    </tr>\n",
       "  </tbody>\n",
       "</table>\n",
       "</div>"
      ],
      "text/plain": [
       "     Count ID  Mean Daily Count    PTC ID      D_ij  Closest Year  \\\n",
       "50    1147466      24098.348921  14255077  1.350051          2010   \n",
       "43    1147201      20114.472669  14255077  1.290076          2010   \n",
       "121  14065128       8700.032143   5439677  1.301841          2012   \n",
       "159  14255077      16556.517350   1147201  1.252154          2016   \n",
       "125   5439677       4340.380952   6248089  1.095253          2013   \n",
       "\n",
       "     AADT Estimate  AADT Arman GT  AADT Charles GT   AADT Actual  \\\n",
       "50    32534.010569   19493.519806     23831.603928  23831.603928   \n",
       "43    25949.201547   15848.164198     20032.989169  20032.989169   \n",
       "121   14670.024758    8801.735137     11400.404732           NaN   \n",
       "159  219393.172938   14411.850934    180441.878175           NaN   \n",
       "125    4560.757767    4341.678352      4165.358554           NaN   \n",
       "\n",
       "     AC Fractional Deviation  CG Fractional Deviation  \n",
       "50                  0.668965                 0.365162  \n",
       "43                  0.637363                 0.295323  \n",
       "121                 0.666720                 0.286799  \n",
       "159                14.223109                 0.215866  \n",
       "125                 0.050460                 0.094926  "
      ]
     },
     "execution_count": 43,
     "metadata": {},
     "output_type": "execute_result"
    }
   ],
   "source": [
    "ptc_validation_aadt.loc[ptc_validation_aadt['Count ID'] > 0, :].sort_values('CG Fractional Deviation', ascending=False).head(5)"
   ]
  },
  {
   "cell_type": "code",
   "execution_count": 44,
   "metadata": {},
   "outputs": [
    {
     "data": {
      "text/html": [
       "<div>\n",
       "<style scoped>\n",
       "    .dataframe tbody tr th:only-of-type {\n",
       "        vertical-align: middle;\n",
       "    }\n",
       "\n",
       "    .dataframe tbody tr th {\n",
       "        vertical-align: top;\n",
       "    }\n",
       "\n",
       "    .dataframe thead th {\n",
       "        text-align: right;\n",
       "    }\n",
       "</style>\n",
       "<table border=\"1\" class=\"dataframe\">\n",
       "  <thead>\n",
       "    <tr style=\"text-align: right;\">\n",
       "      <th></th>\n",
       "      <th>Count ID</th>\n",
       "      <th>Mean Daily Count</th>\n",
       "      <th>PTC ID</th>\n",
       "      <th>D_ij</th>\n",
       "      <th>Closest Year</th>\n",
       "      <th>AADT Estimate</th>\n",
       "      <th>AADT Arman GT</th>\n",
       "      <th>AADT Charles GT</th>\n",
       "      <th>AADT Actual</th>\n",
       "      <th>AC Fractional Deviation</th>\n",
       "      <th>CG Fractional Deviation</th>\n",
       "    </tr>\n",
       "  </thead>\n",
       "  <tbody>\n",
       "    <tr>\n",
       "      <th>31</th>\n",
       "      <td>-1146358</td>\n",
       "      <td>6153.674419</td>\n",
       "      <td>-12336156</td>\n",
       "      <td>1.114130</td>\n",
       "      <td>2010</td>\n",
       "      <td>6855.995607</td>\n",
       "      <td>7099.441981</td>\n",
       "      <td>6119.285824</td>\n",
       "      <td>6119.285824</td>\n",
       "      <td>0.034291</td>\n",
       "      <td>0.120391</td>\n",
       "    </tr>\n",
       "    <tr>\n",
       "      <th>107</th>\n",
       "      <td>-30087988</td>\n",
       "      <td>15290.778146</td>\n",
       "      <td>-12336156</td>\n",
       "      <td>1.112517</td>\n",
       "      <td>2010</td>\n",
       "      <td>17011.249243</td>\n",
       "      <td>14162.958910</td>\n",
       "      <td>15255.520320</td>\n",
       "      <td>15255.520320</td>\n",
       "      <td>0.201108</td>\n",
       "      <td>0.115088</td>\n",
       "    </tr>\n",
       "    <tr>\n",
       "      <th>94</th>\n",
       "      <td>-30021784</td>\n",
       "      <td>6855.003584</td>\n",
       "      <td>-1145202</td>\n",
       "      <td>1.060882</td>\n",
       "      <td>2010</td>\n",
       "      <td>7272.352294</td>\n",
       "      <td>6662.478467</td>\n",
       "      <td>6662.478467</td>\n",
       "      <td>6662.478467</td>\n",
       "      <td>0.091539</td>\n",
       "      <td>0.091539</td>\n",
       "    </tr>\n",
       "    <tr>\n",
       "      <th>46</th>\n",
       "      <td>-1147347</td>\n",
       "      <td>30707.932660</td>\n",
       "      <td>-13515818</td>\n",
       "      <td>1.084328</td>\n",
       "      <td>2010</td>\n",
       "      <td>33297.457561</td>\n",
       "      <td>30578.572598</td>\n",
       "      <td>30578.572598</td>\n",
       "      <td>30578.572598</td>\n",
       "      <td>0.088915</td>\n",
       "      <td>0.088915</td>\n",
       "    </tr>\n",
       "    <tr>\n",
       "      <th>63</th>\n",
       "      <td>-9212691</td>\n",
       "      <td>9600.552632</td>\n",
       "      <td>-1145202</td>\n",
       "      <td>1.056820</td>\n",
       "      <td>2010</td>\n",
       "      <td>10146.059601</td>\n",
       "      <td>5810.066570</td>\n",
       "      <td>9503.730778</td>\n",
       "      <td>9503.730778</td>\n",
       "      <td>0.746290</td>\n",
       "      <td>0.067587</td>\n",
       "    </tr>\n",
       "  </tbody>\n",
       "</table>\n",
       "</div>"
      ],
      "text/plain": [
       "     Count ID  Mean Daily Count    PTC ID      D_ij  Closest Year  \\\n",
       "31   -1146358       6153.674419 -12336156  1.114130          2010   \n",
       "107 -30087988      15290.778146 -12336156  1.112517          2010   \n",
       "94  -30021784       6855.003584  -1145202  1.060882          2010   \n",
       "46   -1147347      30707.932660 -13515818  1.084328          2010   \n",
       "63   -9212691       9600.552632  -1145202  1.056820          2010   \n",
       "\n",
       "     AADT Estimate  AADT Arman GT  AADT Charles GT   AADT Actual  \\\n",
       "31     6855.995607    7099.441981      6119.285824   6119.285824   \n",
       "107   17011.249243   14162.958910     15255.520320  15255.520320   \n",
       "94     7272.352294    6662.478467      6662.478467   6662.478467   \n",
       "46    33297.457561   30578.572598     30578.572598  30578.572598   \n",
       "63    10146.059601    5810.066570      9503.730778   9503.730778   \n",
       "\n",
       "     AC Fractional Deviation  CG Fractional Deviation  \n",
       "31                  0.034291                 0.120391  \n",
       "107                 0.201108                 0.115088  \n",
       "94                  0.091539                 0.091539  \n",
       "46                  0.088915                 0.088915  \n",
       "63                  0.746290                 0.067587  "
      ]
     },
     "execution_count": 44,
     "metadata": {},
     "output_type": "execute_result"
    }
   ],
   "source": [
    "ptc_validation_aadt.loc[ptc_validation_aadt['Count ID'] < 0, :].sort_values('CG Fractional Deviation', ascending=False).head(5)"
   ]
  },
  {
   "cell_type": "markdown",
   "metadata": {},
   "source": [
    "It looks like these are due to large `D_ij`.  We should investigate those separately."
   ]
  },
  {
   "cell_type": "markdown",
   "metadata": {},
   "source": [
    "## Conclusions\n",
    "\n",
    "- The largest differences between my estimates and TEPS are due to TEPS's ground truth AADT formula, which leads to large errors when applied to multi-year PTC data.  It works for TEPS because so many PTCs only have one year's worth of data there.\n",
    "- Some large errors in TEPS according to its own validation script are from improper attribution of AADT, probably somewhere in `SEL_estimate.m`.\n",
    "- We should stop comparing to TEPS and rewrite CountMatch according to our own understanding of Bagheri."
   ]
  }
 ],
 "metadata": {
  "kernelspec": {
   "display_name": "Python 3",
   "language": "python",
   "name": "python3"
  },
  "language_info": {
   "codemirror_mode": {
    "name": "ipython",
    "version": 3
   },
   "file_extension": ".py",
   "mimetype": "text/x-python",
   "name": "python",
   "nbconvert_exporter": "python",
   "pygments_lexer": "ipython3",
   "version": "3.6.9"
  }
 },
 "nbformat": 4,
 "nbformat_minor": 2
}

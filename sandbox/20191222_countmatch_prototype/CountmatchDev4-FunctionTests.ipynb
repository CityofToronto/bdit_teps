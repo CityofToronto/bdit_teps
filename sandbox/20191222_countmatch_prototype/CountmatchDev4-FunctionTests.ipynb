{
 "cells": [
  {
   "cell_type": "markdown",
   "metadata": {},
   "source": [
    "# Function Tests\n",
    "\n",
    "This notebook tests `countmatch_common.py`, `countmatch_teps.py` and `countmatch_bagheri.py`."
   ]
  },
  {
   "cell_type": "code",
   "execution_count": 1,
   "metadata": {},
   "outputs": [],
   "source": [
    "%matplotlib inline\n",
    "import sys\n",
    "sys.path.append('../')\n",
    "import importlib\n",
    "import matplotlib.pyplot as plt\n",
    "import numpy as np\n",
    "import knowyourdata as kyd\n",
    "\n",
    "import pandas as pd\n",
    "from traffic_prophet import cfg\n",
    "import pathlib, os\n",
    "import configparser\n",
    "\n",
    "from traffic_prophet import connection\n",
    "from traffic_prophet.countmatch import reader\n",
    "from traffic_prophet.countmatch import growthfactor as gf\n",
    "from traffic_prophet.countmatch import neighbour\n",
    "\n",
    "defaultcolours = plt.rcParams['axes.prop_cycle'].by_key()['color']\n",
    "\n",
    "filepath = pathlib.Path.home().joinpath('.charlesconfig')\n",
    "if os.path.isfile(filepath):\n",
    "    vol_conn = connection.Connection(filepath, 'POSTGRES',\n",
    "                                     'czhu.btp_centreline_daily_counts')\n",
    "    ll_conn = connection.Connection(filepath, 'POSTGRES',\n",
    "                                    'czhu.btp_centreline_lonlat')\n",
    "    config = configparser.RawConfigParser()\n",
    "    config.read(filepath.as_posix())\n",
    "    MAPBOX_TOKEN = config['MAPBOX']['token']\n",
    "    PLOTLY_USER = config['PLOTLY']['user']\n",
    "    PLOTLY_KEY = config['PLOTLY']['key']\n",
    "else:\n",
    "    filepath = pathlib.Path.home().joinpath('cf.txt')\n",
    "    vol_conn = connection.Connection(filepath, 'localpg',\n",
    "                                     'prj_vol.btp_centreline_daily_counts')\n",
    "    ll_conn = connection.Connection(filepath, 'localpg',\n",
    "                                    'gis.btp_centreline_lonlat')\n",
    "    config = configparser.RawConfigParser()\n",
    "    config.read(filepath.as_posix())\n",
    "    MAPBOX_TOKEN = config['mapbox']['token']\n",
    "    PLOTLY_USER = config['plotly']['user']\n",
    "    PLOTLY_KEY = config['plotly']['apikey']"
   ]
  },
  {
   "cell_type": "code",
   "execution_count": 2,
   "metadata": {},
   "outputs": [
    {
     "name": "stdout",
     "output_type": "stream",
     "text": [
      "CPU times: user 1min 36s, sys: 684 ms, total: 1min 37s\n",
      "Wall time: 1min 38s\n"
     ]
    }
   ],
   "source": [
    "%%time\n",
    "rdr_teps = reader.Reader(vol_conn)\n",
    "rdr_teps.read()\n",
    "gf.get_growth_factors(rdr_teps)"
   ]
  },
  {
   "cell_type": "code",
   "execution_count": 3,
   "metadata": {},
   "outputs": [
    {
     "name": "stdout",
     "output_type": "stream",
     "text": [
      "CPU times: user 18.3 s, sys: 213 ms, total: 18.5 s\n",
      "Wall time: 18.3 s\n"
     ]
    }
   ],
   "source": [
    "ptc_ids = np.unique(np.abs(list(rdr_teps.ptcs.keys())))\n",
    "nb = neighbour.NeighbourLonLatEuclidean(ll_conn, 20, ptc_ids)\n",
    "%time nb.find_neighbours()"
   ]
  },
  {
   "cell_type": "code",
   "execution_count": 4,
   "metadata": {},
   "outputs": [
    {
     "name": "stdout",
     "output_type": "stream",
     "text": [
      "CPU times: user 1min 36s, sys: 178 ms, total: 1min 36s\n",
      "Wall time: 1min 37s\n"
     ]
    }
   ],
   "source": [
    "%%time\n",
    "rdr_bag = reader.Reader(vol_conn)\n",
    "rdr_bag.read()\n",
    "gf.get_growth_factors(rdr_bag)"
   ]
  },
  {
   "cell_type": "markdown",
   "metadata": {},
   "source": [
    "## TEPs-like CountMatch\n",
    "\n",
    "Testing the `countmatch_teps` module."
   ]
  },
  {
   "cell_type": "code",
   "execution_count": 5,
   "metadata": {},
   "outputs": [
    {
     "data": {
      "text/plain": [
       "<module 'countmatch_teps' from '/home/cczhu/GitHub/bdit_traffic_prophet/development_notebooks/countmatch_teps.py'>"
      ]
     },
     "execution_count": 5,
     "metadata": {},
     "output_type": "execute_result"
    }
   ],
   "source": [
    "import countmatch_teps as cmt\n",
    "importlib.reload(cmt)"
   ]
  },
  {
   "cell_type": "code",
   "execution_count": 6,
   "metadata": {},
   "outputs": [
    {
     "data": {
      "application/vnd.jupyter.widget-view+json": {
       "model_id": "ef6cbd83758c4628a68b2ce2b1d38ef7",
       "version_major": 2,
       "version_minor": 0
      },
      "text/plain": [
       "HBox(children=(FloatProgress(value=0.0, description='Calculating PTC averages', max=166.0, style=ProgressStyle…"
      ]
     },
     "metadata": {},
     "output_type": "display_data"
    },
    {
     "name": "stdout",
     "output_type": "stream",
     "text": [
      "\n"
     ]
    },
    {
     "data": {
      "application/vnd.jupyter.widget-view+json": {
       "model_id": "1d84682b309e41208cd3d364cb1801cd",
       "version_major": 2,
       "version_minor": 0
      },
      "text/plain": [
       "HBox(children=(FloatProgress(value=0.0, description='Calculating STTC monthly patterns', max=15553.0, style=Pr…"
      ]
     },
     "metadata": {},
     "output_type": "display_data"
    },
    {
     "name": "stdout",
     "output_type": "stream",
     "text": [
      "\n"
     ]
    },
    {
     "data": {
      "application/vnd.jupyter.widget-view+json": {
       "model_id": "09c62bfd2a864584b999d0680eb097cc",
       "version_major": 2,
       "version_minor": 0
      },
      "text/plain": [
       "HBox(children=(FloatProgress(value=0.0, description='Minimum MSE AADT estimate', max=15553.0, style=ProgressSt…"
      ]
     },
     "metadata": {},
     "output_type": "display_data"
    },
    {
     "name": "stdout",
     "output_type": "stream",
     "text": [
      "\n"
     ]
    }
   ],
   "source": [
    "teps_aadt_estimates = cmt.estimate_aadts(\n",
    "    rdr_teps, nb, 2019, n_neighbours=5, single_direction=True, progress_bar=True)"
   ]
  },
  {
   "cell_type": "code",
   "execution_count": 7,
   "metadata": {},
   "outputs": [
    {
     "data": {
      "text/plain": [
       "<module 'countmatch_common' from '/home/cczhu/GitHub/bdit_traffic_prophet/development_notebooks/countmatch_common.py'>"
      ]
     },
     "execution_count": 7,
     "metadata": {},
     "output_type": "execute_result"
    }
   ],
   "source": [
    "import countmatch_common as cmc\n",
    "importlib.reload(cmc)"
   ]
  },
  {
   "cell_type": "code",
   "execution_count": 8,
   "metadata": {},
   "outputs": [],
   "source": [
    "ptc_estimates = cmc.aadt_estimator_for_ptcs(rdr_teps, 2019, override_growth_factor=False)"
   ]
  },
  {
   "cell_type": "code",
   "execution_count": 9,
   "metadata": {},
   "outputs": [],
   "source": [
    "teps_aadt_estimates = cmc.combine_estimators(teps_aadt_estimates, ptc_estimates)"
   ]
  },
  {
   "cell_type": "code",
   "execution_count": 10,
   "metadata": {
    "scrolled": false
   },
   "outputs": [
    {
     "data": {
      "text/html": [
       "<div>\n",
       "<style scoped>\n",
       "    .dataframe tbody tr th:only-of-type {\n",
       "        vertical-align: middle;\n",
       "    }\n",
       "\n",
       "    .dataframe tbody tr th {\n",
       "        vertical-align: top;\n",
       "    }\n",
       "\n",
       "    .dataframe thead th {\n",
       "        text-align: right;\n",
       "    }\n",
       "</style>\n",
       "<table border=\"1\" class=\"dataframe\">\n",
       "  <thead>\n",
       "    <tr style=\"text-align: right;\">\n",
       "      <th></th>\n",
       "      <th>Count ID</th>\n",
       "      <th>PTC ID</th>\n",
       "      <th>Closest Year</th>\n",
       "      <th>D_ij</th>\n",
       "      <th>AADT Estimate_STTC</th>\n",
       "      <th>AADT Estimate_PTC</th>\n",
       "      <th>AADT Estimate</th>\n",
       "    </tr>\n",
       "  </thead>\n",
       "  <tbody>\n",
       "    <tr>\n",
       "      <td>0</td>\n",
       "      <td>-175</td>\n",
       "      <td>-445884</td>\n",
       "      <td>2010</td>\n",
       "      <td>0.976424</td>\n",
       "      <td>2208.113549</td>\n",
       "      <td>NaN</td>\n",
       "      <td>2208.113549</td>\n",
       "    </tr>\n",
       "    <tr>\n",
       "      <td>1</td>\n",
       "      <td>175</td>\n",
       "      <td>446012</td>\n",
       "      <td>2010</td>\n",
       "      <td>0.915809</td>\n",
       "      <td>1818.715350</td>\n",
       "      <td>NaN</td>\n",
       "      <td>1818.715350</td>\n",
       "    </tr>\n",
       "    <tr>\n",
       "      <td>2</td>\n",
       "      <td>-201</td>\n",
       "      <td>-443987</td>\n",
       "      <td>2006</td>\n",
       "      <td>0.937714</td>\n",
       "      <td>339.977238</td>\n",
       "      <td>NaN</td>\n",
       "      <td>339.977238</td>\n",
       "    </tr>\n",
       "    <tr>\n",
       "      <td>3</td>\n",
       "      <td>201</td>\n",
       "      <td>445280</td>\n",
       "      <td>2006</td>\n",
       "      <td>0.984605</td>\n",
       "      <td>267.842517</td>\n",
       "      <td>NaN</td>\n",
       "      <td>267.842517</td>\n",
       "    </tr>\n",
       "    <tr>\n",
       "      <td>4</td>\n",
       "      <td>-202</td>\n",
       "      <td>-443975</td>\n",
       "      <td>2006</td>\n",
       "      <td>0.980700</td>\n",
       "      <td>213.250136</td>\n",
       "      <td>NaN</td>\n",
       "      <td>213.250136</td>\n",
       "    </tr>\n",
       "    <tr>\n",
       "      <td>...</td>\n",
       "      <td>...</td>\n",
       "      <td>...</td>\n",
       "      <td>...</td>\n",
       "      <td>...</td>\n",
       "      <td>...</td>\n",
       "      <td>...</td>\n",
       "      <td>...</td>\n",
       "    </tr>\n",
       "    <tr>\n",
       "      <td>15548</td>\n",
       "      <td>-30078909</td>\n",
       "      <td>-9313402</td>\n",
       "      <td>2018</td>\n",
       "      <td>0.961568</td>\n",
       "      <td>18012.583347</td>\n",
       "      <td>NaN</td>\n",
       "      <td>18012.583347</td>\n",
       "    </tr>\n",
       "    <tr>\n",
       "      <td>15549</td>\n",
       "      <td>30078909</td>\n",
       "      <td>5849817</td>\n",
       "      <td>2018</td>\n",
       "      <td>0.971144</td>\n",
       "      <td>18532.489161</td>\n",
       "      <td>NaN</td>\n",
       "      <td>18532.489161</td>\n",
       "    </tr>\n",
       "    <tr>\n",
       "      <td>15550</td>\n",
       "      <td>-30078912</td>\n",
       "      <td>-8171</td>\n",
       "      <td>2018</td>\n",
       "      <td>0.957668</td>\n",
       "      <td>17780.922533</td>\n",
       "      <td>NaN</td>\n",
       "      <td>17780.922533</td>\n",
       "    </tr>\n",
       "    <tr>\n",
       "      <td>15551</td>\n",
       "      <td>-30085792</td>\n",
       "      <td>-441170</td>\n",
       "      <td>2018</td>\n",
       "      <td>0.999262</td>\n",
       "      <td>6110.968458</td>\n",
       "      <td>NaN</td>\n",
       "      <td>6110.968458</td>\n",
       "    </tr>\n",
       "    <tr>\n",
       "      <td>15552</td>\n",
       "      <td>30085792</td>\n",
       "      <td>443071</td>\n",
       "      <td>2018</td>\n",
       "      <td>0.989952</td>\n",
       "      <td>6941.878743</td>\n",
       "      <td>NaN</td>\n",
       "      <td>6941.878743</td>\n",
       "    </tr>\n",
       "  </tbody>\n",
       "</table>\n",
       "<p>15553 rows × 7 columns</p>\n",
       "</div>"
      ],
      "text/plain": [
       "       Count ID   PTC ID  Closest Year      D_ij  AADT Estimate_STTC  \\\n",
       "0          -175  -445884          2010  0.976424         2208.113549   \n",
       "1           175   446012          2010  0.915809         1818.715350   \n",
       "2          -201  -443987          2006  0.937714          339.977238   \n",
       "3           201   445280          2006  0.984605          267.842517   \n",
       "4          -202  -443975          2006  0.980700          213.250136   \n",
       "...         ...      ...           ...       ...                 ...   \n",
       "15548 -30078909 -9313402          2018  0.961568        18012.583347   \n",
       "15549  30078909  5849817          2018  0.971144        18532.489161   \n",
       "15550 -30078912    -8171          2018  0.957668        17780.922533   \n",
       "15551 -30085792  -441170          2018  0.999262         6110.968458   \n",
       "15552  30085792   443071          2018  0.989952         6941.878743   \n",
       "\n",
       "       AADT Estimate_PTC  AADT Estimate  \n",
       "0                    NaN    2208.113549  \n",
       "1                    NaN    1818.715350  \n",
       "2                    NaN     339.977238  \n",
       "3                    NaN     267.842517  \n",
       "4                    NaN     213.250136  \n",
       "...                  ...            ...  \n",
       "15548                NaN   18012.583347  \n",
       "15549                NaN   18532.489161  \n",
       "15550                NaN   17780.922533  \n",
       "15551                NaN    6110.968458  \n",
       "15552                NaN    6941.878743  \n",
       "\n",
       "[15553 rows x 7 columns]"
      ]
     },
     "execution_count": 10,
     "metadata": {},
     "output_type": "execute_result"
    }
   ],
   "source": [
    "teps_aadt_estimates"
   ]
  },
  {
   "cell_type": "markdown",
   "metadata": {},
   "source": [
    "## Hybrid Count Module\n",
    "\n",
    "Testing `countmatch_hybrid.py`."
   ]
  },
  {
   "cell_type": "code",
   "execution_count": 11,
   "metadata": {},
   "outputs": [
    {
     "data": {
      "text/plain": [
       "<module 'countmatch_hybrid' from '/home/cczhu/GitHub/bdit_traffic_prophet/development_notebooks/countmatch_hybrid.py'>"
      ]
     },
     "execution_count": 11,
     "metadata": {},
     "output_type": "execute_result"
    }
   ],
   "source": [
    "import countmatch_hybrid as cmh\n",
    "importlib.reload(cmh)"
   ]
  },
  {
   "cell_type": "code",
   "execution_count": 12,
   "metadata": {},
   "outputs": [
    {
     "data": {
      "application/vnd.jupyter.widget-view+json": {
       "model_id": "903823528d6c44789633d18721061cb0",
       "version_major": 2,
       "version_minor": 0
      },
      "text/plain": [
       "HBox(children=(FloatProgress(value=0.0, description='Preprocessing PTCs', max=166.0, style=ProgressStyle(descr…"
      ]
     },
     "metadata": {},
     "output_type": "display_data"
    },
    {
     "name": "stdout",
     "output_type": "stream",
     "text": [
      "\n"
     ]
    },
    {
     "data": {
      "application/vnd.jupyter.widget-view+json": {
       "model_id": "21d82a9654014e6fb72a13a24d12a21f",
       "version_major": 2,
       "version_minor": 0
      },
      "text/plain": [
       "HBox(children=(FloatProgress(value=0.0, description='Estimating STTC AADTs', max=15553.0, style=ProgressStyle(…"
      ]
     },
     "metadata": {},
     "output_type": "display_data"
    },
    {
     "name": "stdout",
     "output_type": "stream",
     "text": [
      "\n"
     ]
    }
   ],
   "source": [
    "bag_aadt_estimates = cmh.estimate_aadts(rdr_bag, nb, 2019, progress_bar=True)"
   ]
  },
  {
   "cell_type": "code",
   "execution_count": 13,
   "metadata": {},
   "outputs": [
    {
     "data": {
      "text/html": [
       "<div>\n",
       "<style scoped>\n",
       "    .dataframe tbody tr th:only-of-type {\n",
       "        vertical-align: middle;\n",
       "    }\n",
       "\n",
       "    .dataframe tbody tr th {\n",
       "        vertical-align: top;\n",
       "    }\n",
       "\n",
       "    .dataframe thead th {\n",
       "        text-align: right;\n",
       "    }\n",
       "</style>\n",
       "<table border=\"1\" class=\"dataframe\">\n",
       "  <thead>\n",
       "    <tr style=\"text-align: right;\">\n",
       "      <th></th>\n",
       "      <th>Count ID</th>\n",
       "      <th>Nearest PTCS</th>\n",
       "      <th>Errors</th>\n",
       "      <th>PTC ID</th>\n",
       "      <th>Growth Factor</th>\n",
       "      <th>Most Recent Year</th>\n",
       "      <th>AADT Estimate</th>\n",
       "    </tr>\n",
       "  </thead>\n",
       "  <tbody>\n",
       "    <tr>\n",
       "      <td>0</td>\n",
       "      <td>-175</td>\n",
       "      <td>[-1022, -444637, -890, -445309, -445884]</td>\n",
       "      <td>[0.5608327532405594, 0.8307061415303842, 0.634...</td>\n",
       "      <td>-1022</td>\n",
       "      <td>1.135230</td>\n",
       "      <td>2010</td>\n",
       "      <td>5378.846957</td>\n",
       "    </tr>\n",
       "    <tr>\n",
       "      <td>1</td>\n",
       "      <td>175</td>\n",
       "      <td>[446012, 1033, 444516, 1003, 444782]</td>\n",
       "      <td>[0.48182483033236795, 0.4179452872922771, 0.20...</td>\n",
       "      <td>444516</td>\n",
       "      <td>1.271847</td>\n",
       "      <td>2010</td>\n",
       "      <td>12889.208626</td>\n",
       "    </tr>\n",
       "    <tr>\n",
       "      <td>2</td>\n",
       "      <td>-201</td>\n",
       "      <td>[-445309, -445884, -444637, -443975, -443987]</td>\n",
       "      <td>[0.0029596013716408163, 0.0, 0.001936558982980...</td>\n",
       "      <td>-445884</td>\n",
       "      <td>0.909007</td>\n",
       "      <td>2006</td>\n",
       "      <td>74.947454</td>\n",
       "    </tr>\n",
       "    <tr>\n",
       "      <td>3</td>\n",
       "      <td>201</td>\n",
       "      <td>[445280, 444782, 444403, 444516, 446012]</td>\n",
       "      <td>[0.000271132236083406, 0.0, 0.0, 0.0, 7.335767...</td>\n",
       "      <td>444782</td>\n",
       "      <td>0.984669</td>\n",
       "      <td>2006</td>\n",
       "      <td>157.838043</td>\n",
       "    </tr>\n",
       "    <tr>\n",
       "      <td>4</td>\n",
       "      <td>-202</td>\n",
       "      <td>[-445309, -445884, -444637, -443975, -443987]</td>\n",
       "      <td>[1.0984804229158482e-05, 0.0, 0.00291553627916...</td>\n",
       "      <td>-445884</td>\n",
       "      <td>0.909007</td>\n",
       "      <td>2006</td>\n",
       "      <td>49.870941</td>\n",
       "    </tr>\n",
       "  </tbody>\n",
       "</table>\n",
       "</div>"
      ],
      "text/plain": [
       "   Count ID                                   Nearest PTCS  \\\n",
       "0      -175       [-1022, -444637, -890, -445309, -445884]   \n",
       "1       175           [446012, 1033, 444516, 1003, 444782]   \n",
       "2      -201  [-445309, -445884, -444637, -443975, -443987]   \n",
       "3       201       [445280, 444782, 444403, 444516, 446012]   \n",
       "4      -202  [-445309, -445884, -444637, -443975, -443987]   \n",
       "\n",
       "                                              Errors  PTC ID  Growth Factor  \\\n",
       "0  [0.5608327532405594, 0.8307061415303842, 0.634...   -1022       1.135230   \n",
       "1  [0.48182483033236795, 0.4179452872922771, 0.20...  444516       1.271847   \n",
       "2  [0.0029596013716408163, 0.0, 0.001936558982980... -445884       0.909007   \n",
       "3  [0.000271132236083406, 0.0, 0.0, 0.0, 7.335767...  444782       0.984669   \n",
       "4  [1.0984804229158482e-05, 0.0, 0.00291553627916... -445884       0.909007   \n",
       "\n",
       "   Most Recent Year  AADT Estimate  \n",
       "0              2010    5378.846957  \n",
       "1              2010   12889.208626  \n",
       "2              2006      74.947454  \n",
       "3              2006     157.838043  \n",
       "4              2006      49.870941  "
      ]
     },
     "execution_count": 13,
     "metadata": {},
     "output_type": "execute_result"
    }
   ],
   "source": [
    "bag_aadt_estimates.head()"
   ]
  },
  {
   "cell_type": "code",
   "execution_count": 14,
   "metadata": {},
   "outputs": [],
   "source": [
    "bag_aadt_estimates = cmc.combine_estimators(bag_aadt_estimates, ptc_estimates)"
   ]
  },
  {
   "cell_type": "code",
   "execution_count": 15,
   "metadata": {},
   "outputs": [
    {
     "data": {
      "text/html": [
       "<div>\n",
       "<style scoped>\n",
       "    .dataframe tbody tr th:only-of-type {\n",
       "        vertical-align: middle;\n",
       "    }\n",
       "\n",
       "    .dataframe tbody tr th {\n",
       "        vertical-align: top;\n",
       "    }\n",
       "\n",
       "    .dataframe thead th {\n",
       "        text-align: right;\n",
       "    }\n",
       "</style>\n",
       "<table border=\"1\" class=\"dataframe\">\n",
       "  <thead>\n",
       "    <tr style=\"text-align: right;\">\n",
       "      <th></th>\n",
       "      <th>Count ID</th>\n",
       "      <th>Nearest PTCS</th>\n",
       "      <th>Errors</th>\n",
       "      <th>PTC ID</th>\n",
       "      <th>Growth Factor</th>\n",
       "      <th>Most Recent Year</th>\n",
       "      <th>AADT Estimate_STTC</th>\n",
       "      <th>AADT Estimate_PTC</th>\n",
       "      <th>AADT Estimate</th>\n",
       "    </tr>\n",
       "  </thead>\n",
       "  <tbody>\n",
       "    <tr>\n",
       "      <td>0</td>\n",
       "      <td>-175</td>\n",
       "      <td>[-1022, -444637, -890, -445309, -445884]</td>\n",
       "      <td>[0.5608327532405594, 0.8307061415303842, 0.634...</td>\n",
       "      <td>-1022</td>\n",
       "      <td>1.135230</td>\n",
       "      <td>2010</td>\n",
       "      <td>5378.846957</td>\n",
       "      <td>NaN</td>\n",
       "      <td>5378.846957</td>\n",
       "    </tr>\n",
       "    <tr>\n",
       "      <td>1</td>\n",
       "      <td>175</td>\n",
       "      <td>[446012, 1033, 444516, 1003, 444782]</td>\n",
       "      <td>[0.48182483033236795, 0.4179452872922771, 0.20...</td>\n",
       "      <td>444516</td>\n",
       "      <td>1.271847</td>\n",
       "      <td>2010</td>\n",
       "      <td>12889.208626</td>\n",
       "      <td>NaN</td>\n",
       "      <td>12889.208626</td>\n",
       "    </tr>\n",
       "    <tr>\n",
       "      <td>2</td>\n",
       "      <td>-201</td>\n",
       "      <td>[-445309, -445884, -444637, -443975, -443987]</td>\n",
       "      <td>[0.0029596013716408163, 0.0, 0.001936558982980...</td>\n",
       "      <td>-445884</td>\n",
       "      <td>0.909007</td>\n",
       "      <td>2006</td>\n",
       "      <td>74.947454</td>\n",
       "      <td>NaN</td>\n",
       "      <td>74.947454</td>\n",
       "    </tr>\n",
       "    <tr>\n",
       "      <td>3</td>\n",
       "      <td>201</td>\n",
       "      <td>[445280, 444782, 444403, 444516, 446012]</td>\n",
       "      <td>[0.000271132236083406, 0.0, 0.0, 0.0, 7.335767...</td>\n",
       "      <td>444782</td>\n",
       "      <td>0.984669</td>\n",
       "      <td>2006</td>\n",
       "      <td>157.838043</td>\n",
       "      <td>NaN</td>\n",
       "      <td>157.838043</td>\n",
       "    </tr>\n",
       "    <tr>\n",
       "      <td>4</td>\n",
       "      <td>-202</td>\n",
       "      <td>[-445309, -445884, -444637, -443975, -443987]</td>\n",
       "      <td>[1.0984804229158482e-05, 0.0, 0.00291553627916...</td>\n",
       "      <td>-445884</td>\n",
       "      <td>0.909007</td>\n",
       "      <td>2006</td>\n",
       "      <td>49.870941</td>\n",
       "      <td>NaN</td>\n",
       "      <td>49.870941</td>\n",
       "    </tr>\n",
       "    <tr>\n",
       "      <td>...</td>\n",
       "      <td>...</td>\n",
       "      <td>...</td>\n",
       "      <td>...</td>\n",
       "      <td>...</td>\n",
       "      <td>...</td>\n",
       "      <td>...</td>\n",
       "      <td>...</td>\n",
       "      <td>...</td>\n",
       "      <td>...</td>\n",
       "    </tr>\n",
       "    <tr>\n",
       "      <td>15548</td>\n",
       "      <td>-30078909</td>\n",
       "      <td>[-442161, -13503206, -13503207, -13503251, -93...</td>\n",
       "      <td>[0.0, 0.0, 0.0, 0.0, 0.0]</td>\n",
       "      <td>-442161</td>\n",
       "      <td>0.983852</td>\n",
       "      <td>2018</td>\n",
       "      <td>15844.016499</td>\n",
       "      <td>NaN</td>\n",
       "      <td>15844.016499</td>\n",
       "    </tr>\n",
       "    <tr>\n",
       "      <td>15549</td>\n",
       "      <td>30078909</td>\n",
       "      <td>[6248089, 20230203, 14065128, 438481, 5849817]</td>\n",
       "      <td>[0.0, 0.0, 0.0, 0.0, 0.0]</td>\n",
       "      <td>6248089</td>\n",
       "      <td>0.907765</td>\n",
       "      <td>2018</td>\n",
       "      <td>14136.934913</td>\n",
       "      <td>NaN</td>\n",
       "      <td>14136.934913</td>\n",
       "    </tr>\n",
       "    <tr>\n",
       "      <td>15550</td>\n",
       "      <td>-30078912</td>\n",
       "      <td>[-442161, -13503206, -13503207, -13503251, -8171]</td>\n",
       "      <td>[0.0, 0.0, 0.0, 0.0, 0.0]</td>\n",
       "      <td>-442161</td>\n",
       "      <td>0.983852</td>\n",
       "      <td>2018</td>\n",
       "      <td>15703.874305</td>\n",
       "      <td>NaN</td>\n",
       "      <td>15703.874305</td>\n",
       "    </tr>\n",
       "    <tr>\n",
       "      <td>15551</td>\n",
       "      <td>-30085792</td>\n",
       "      <td>[-441170, -440171, -440332, -20140757, -442447]</td>\n",
       "      <td>[0.0020327721096051556, 0.0009564263148283921,...</td>\n",
       "      <td>-440332</td>\n",
       "      <td>1.128996</td>\n",
       "      <td>2018</td>\n",
       "      <td>7427.540302</td>\n",
       "      <td>NaN</td>\n",
       "      <td>7427.540302</td>\n",
       "    </tr>\n",
       "    <tr>\n",
       "      <td>15552</td>\n",
       "      <td>30085792</td>\n",
       "      <td>[442292, 440429, 442871, 110026, 443071]</td>\n",
       "      <td>[0.004033947657117259, 0.001145432231431925, 0...</td>\n",
       "      <td>442871</td>\n",
       "      <td>1.129811</td>\n",
       "      <td>2018</td>\n",
       "      <td>8134.137962</td>\n",
       "      <td>NaN</td>\n",
       "      <td>8134.137962</td>\n",
       "    </tr>\n",
       "  </tbody>\n",
       "</table>\n",
       "<p>15553 rows × 9 columns</p>\n",
       "</div>"
      ],
      "text/plain": [
       "       Count ID                                       Nearest PTCS  \\\n",
       "0          -175           [-1022, -444637, -890, -445309, -445884]   \n",
       "1           175               [446012, 1033, 444516, 1003, 444782]   \n",
       "2          -201      [-445309, -445884, -444637, -443975, -443987]   \n",
       "3           201           [445280, 444782, 444403, 444516, 446012]   \n",
       "4          -202      [-445309, -445884, -444637, -443975, -443987]   \n",
       "...         ...                                                ...   \n",
       "15548 -30078909  [-442161, -13503206, -13503207, -13503251, -93...   \n",
       "15549  30078909     [6248089, 20230203, 14065128, 438481, 5849817]   \n",
       "15550 -30078912  [-442161, -13503206, -13503207, -13503251, -8171]   \n",
       "15551 -30085792    [-441170, -440171, -440332, -20140757, -442447]   \n",
       "15552  30085792           [442292, 440429, 442871, 110026, 443071]   \n",
       "\n",
       "                                                  Errors   PTC ID  \\\n",
       "0      [0.5608327532405594, 0.8307061415303842, 0.634...    -1022   \n",
       "1      [0.48182483033236795, 0.4179452872922771, 0.20...   444516   \n",
       "2      [0.0029596013716408163, 0.0, 0.001936558982980...  -445884   \n",
       "3      [0.000271132236083406, 0.0, 0.0, 0.0, 7.335767...   444782   \n",
       "4      [1.0984804229158482e-05, 0.0, 0.00291553627916...  -445884   \n",
       "...                                                  ...      ...   \n",
       "15548                          [0.0, 0.0, 0.0, 0.0, 0.0]  -442161   \n",
       "15549                          [0.0, 0.0, 0.0, 0.0, 0.0]  6248089   \n",
       "15550                          [0.0, 0.0, 0.0, 0.0, 0.0]  -442161   \n",
       "15551  [0.0020327721096051556, 0.0009564263148283921,...  -440332   \n",
       "15552  [0.004033947657117259, 0.001145432231431925, 0...   442871   \n",
       "\n",
       "       Growth Factor  Most Recent Year  AADT Estimate_STTC  AADT Estimate_PTC  \\\n",
       "0           1.135230              2010         5378.846957                NaN   \n",
       "1           1.271847              2010        12889.208626                NaN   \n",
       "2           0.909007              2006           74.947454                NaN   \n",
       "3           0.984669              2006          157.838043                NaN   \n",
       "4           0.909007              2006           49.870941                NaN   \n",
       "...              ...               ...                 ...                ...   \n",
       "15548       0.983852              2018        15844.016499                NaN   \n",
       "15549       0.907765              2018        14136.934913                NaN   \n",
       "15550       0.983852              2018        15703.874305                NaN   \n",
       "15551       1.128996              2018         7427.540302                NaN   \n",
       "15552       1.129811              2018         8134.137962                NaN   \n",
       "\n",
       "       AADT Estimate  \n",
       "0        5378.846957  \n",
       "1       12889.208626  \n",
       "2          74.947454  \n",
       "3         157.838043  \n",
       "4          49.870941  \n",
       "...              ...  \n",
       "15548   15844.016499  \n",
       "15549   14136.934913  \n",
       "15550   15703.874305  \n",
       "15551    7427.540302  \n",
       "15552    8134.137962  \n",
       "\n",
       "[15553 rows x 9 columns]"
      ]
     },
     "execution_count": 15,
     "metadata": {},
     "output_type": "execute_result"
    }
   ],
   "source": [
    "bag_aadt_estimates"
   ]
  },
  {
   "cell_type": "markdown",
   "metadata": {},
   "source": [
    "## Bagheri Count Module\n",
    "\n",
    "Lastly, we test `countmatch_bagheri.py`, which most closely resembles Bagheri et al."
   ]
  },
  {
   "cell_type": "code",
   "execution_count": 105,
   "metadata": {},
   "outputs": [
    {
     "data": {
      "text/plain": [
       "<module 'countmatch_bagheri' from '/home/cczhu/GitHub/bdit_traffic_prophet/development_notebooks/countmatch_bagheri.py'>"
      ]
     },
     "execution_count": 105,
     "metadata": {},
     "output_type": "execute_result"
    }
   ],
   "source": [
    "import countmatch_bagheri as cmb\n",
    "importlib.reload(cmb)"
   ]
  },
  {
   "cell_type": "code",
   "execution_count": 26,
   "metadata": {},
   "outputs": [
    {
     "data": {
      "text/plain": [
       "(-104968,\n",
       " [-9637988, -20050591, -106797, -440171, -440332],\n",
       " [0.020311053152507787,\n",
       "  0.16096539450106656,\n",
       "  0.03363498407145927,\n",
       "  0.024162129286363795,\n",
       "  0.033208897282334233],\n",
       " -9637988,\n",
       " 1.0912579689144433,\n",
       " 2011,\n",
       " 9484.326885922374)"
      ]
     },
     "execution_count": 26,
     "metadata": {},
     "output_type": "execute_result"
    }
   ],
   "source": [
    "# Process nearest PTC comparisons to estimate AADT for each STTC.\n",
    "cmb.get_aadt_estimate_for_sttc(\n",
    "    rdr_bag.sttcs[-104968], rdr_bag.ptcs, nb, 2019, cmb.estimate_mse)"
   ]
  },
  {
   "cell_type": "code",
   "execution_count": 27,
   "metadata": {},
   "outputs": [
    {
     "data": {
      "text/plain": [
       "(-104968,\n",
       " [-9637988, -20050591, -106797, -440171, -440332],\n",
       " [0.020311053152507787,\n",
       "  0.03446119685626187,\n",
       "  0.014340427965565766,\n",
       "  0.025477312658990885,\n",
       "  0.08086985242295579],\n",
       " -106797,\n",
       " 0.9822227851855124,\n",
       " 2011,\n",
       " 3290.318451424282)"
      ]
     },
     "execution_count": 27,
     "metadata": {},
     "output_type": "execute_result"
    }
   ],
   "source": [
    "cmh.get_aadt_estimate_for_sttc(\n",
    "    rdr_bag.sttcs[-104968], rdr_bag.ptcs, nb, 2019)"
   ]
  },
  {
   "cell_type": "code",
   "execution_count": 31,
   "metadata": {},
   "outputs": [],
   "source": [
    "ptc_match = cmh.get_ptc_match(rdr_bag.sttcs[-104968], rdr_bag.ptcs[-9637988])\n",
    "# mses.append((ptc.count_id,) +\n",
    "#             estimate_mse(ptc_match, ptc, want_year,\n",
    "#                          ptc.growth_factor))"
   ]
  },
  {
   "cell_type": "code",
   "execution_count": 32,
   "metadata": {},
   "outputs": [
    {
     "data": {
      "text/html": [
       "<div>\n",
       "<style scoped>\n",
       "    .dataframe tbody tr th:only-of-type {\n",
       "        vertical-align: middle;\n",
       "    }\n",
       "\n",
       "    .dataframe tbody tr th {\n",
       "        vertical-align: top;\n",
       "    }\n",
       "\n",
       "    .dataframe thead th {\n",
       "        text-align: right;\n",
       "    }\n",
       "</style>\n",
       "<table border=\"1\" class=\"dataframe\">\n",
       "  <thead>\n",
       "    <tr style=\"text-align: right;\">\n",
       "      <th></th>\n",
       "      <th>Year</th>\n",
       "      <th>Date</th>\n",
       "      <th>Daily Count</th>\n",
       "      <th>Day of Week</th>\n",
       "      <th>Month</th>\n",
       "      <th>Closest Year</th>\n",
       "      <th>D_ijd</th>\n",
       "      <th>DoM_ijd</th>\n",
       "    </tr>\n",
       "  </thead>\n",
       "  <tbody>\n",
       "    <tr>\n",
       "      <td>0</td>\n",
       "      <td>2006</td>\n",
       "      <td>2006-03-21</td>\n",
       "      <td>3811.0</td>\n",
       "      <td>1</td>\n",
       "      <td>3</td>\n",
       "      <td>2010</td>\n",
       "      <td>1.108422</td>\n",
       "      <td>0.990201</td>\n",
       "    </tr>\n",
       "    <tr>\n",
       "      <td>1</td>\n",
       "      <td>2006</td>\n",
       "      <td>2006-03-22</td>\n",
       "      <td>3817.0</td>\n",
       "      <td>2</td>\n",
       "      <td>3</td>\n",
       "      <td>2010</td>\n",
       "      <td>1.109234</td>\n",
       "      <td>0.990926</td>\n",
       "    </tr>\n",
       "    <tr>\n",
       "      <td>2</td>\n",
       "      <td>2006</td>\n",
       "      <td>2006-03-23</td>\n",
       "      <td>4001.0</td>\n",
       "      <td>3</td>\n",
       "      <td>3</td>\n",
       "      <td>2010</td>\n",
       "      <td>1.074876</td>\n",
       "      <td>0.960233</td>\n",
       "    </tr>\n",
       "    <tr>\n",
       "      <td>3</td>\n",
       "      <td>2011</td>\n",
       "      <td>2011-12-13</td>\n",
       "      <td>4083.0</td>\n",
       "      <td>1</td>\n",
       "      <td>12</td>\n",
       "      <td>2010</td>\n",
       "      <td>1.192009</td>\n",
       "      <td>0.991644</td>\n",
       "    </tr>\n",
       "    <tr>\n",
       "      <td>4</td>\n",
       "      <td>2011</td>\n",
       "      <td>2011-12-14</td>\n",
       "      <td>4037.0</td>\n",
       "      <td>2</td>\n",
       "      <td>12</td>\n",
       "      <td>2010</td>\n",
       "      <td>1.128942</td>\n",
       "      <td>0.939178</td>\n",
       "    </tr>\n",
       "    <tr>\n",
       "      <td>5</td>\n",
       "      <td>2011</td>\n",
       "      <td>2011-12-15</td>\n",
       "      <td>4228.0</td>\n",
       "      <td>3</td>\n",
       "      <td>12</td>\n",
       "      <td>2010</td>\n",
       "      <td>1.117295</td>\n",
       "      <td>0.929489</td>\n",
       "    </tr>\n",
       "  </tbody>\n",
       "</table>\n",
       "</div>"
      ],
      "text/plain": [
       "   Year       Date  Daily Count  Day of Week  Month  Closest Year     D_ijd  \\\n",
       "0  2006 2006-03-21       3811.0            1      3          2010  1.108422   \n",
       "1  2006 2006-03-22       3817.0            2      3          2010  1.109234   \n",
       "2  2006 2006-03-23       4001.0            3      3          2010  1.074876   \n",
       "3  2011 2011-12-13       4083.0            1     12          2010  1.192009   \n",
       "4  2011 2011-12-14       4037.0            2     12          2010  1.128942   \n",
       "5  2011 2011-12-15       4228.0            3     12          2010  1.117295   \n",
       "\n",
       "    DoM_ijd  \n",
       "0  0.990201  \n",
       "1  0.990926  \n",
       "2  0.960233  \n",
       "3  0.991644  \n",
       "4  0.939178  \n",
       "5  0.929489  "
      ]
     },
     "execution_count": 32,
     "metadata": {},
     "output_type": "execute_result"
    }
   ],
   "source": [
    "ptc_match"
   ]
  },
  {
   "cell_type": "code",
   "execution_count": 33,
   "metadata": {},
   "outputs": [],
   "source": [
    "gf_0 = rdr_bag.ptcs[-9637988].growth_factor\n",
    "ptc_match['MADT_est'] = (\n",
    "    ptc_match['Daily Count'] * ptc_match['DoM_ijd'] *\n",
    "    gf_0**(want_year - ptc_match['Year']))\n",
    "madt_est = pd.DataFrame(\n",
    "    {'MADT_estimate': ptc_match.groupby('Month')['MADT_est'].mean()})\n",
    "madt_est['AADT_est'] = (\n",
    "    ptc_match['Daily Count'] * ptc_match['D_ijd'] *\n",
    "    gf_0**(want_year - ptc_match['Year'])).mean()\n",
    "madt_est['MF_STTC'] = madt_est['MADT_estimate'] / madt_est['AADT_est']"
   ]
  },
  {
   "cell_type": "code",
   "execution_count": 48,
   "metadata": {},
   "outputs": [],
   "source": [
    "def check_errs(madt_est, ptc):\n",
    "    madt_est = madt_est[['MF_STTC']].copy()\n",
    "    \n",
    "    ptc_closest_year = cmc.get_closest_year(\n",
    "        want_year, ptc.data['AADT'].index.values)\n",
    "    \n",
    "    madt_est['MF_PTC'] = (\n",
    "        ptc.data['MADT'].loc[ptc_closest_year, 'MADT'] /\n",
    "        ptc.data['AADT'].loc[ptc_closest_year, 'AADT'])\n",
    "\n",
    "    return madt_est, ((madt_est['MF_PTC'] - madt_est['MF_STTC'])**2).mean()"
   ]
  },
  {
   "cell_type": "code",
   "execution_count": 49,
   "metadata": {},
   "outputs": [
    {
     "data": {
      "text/plain": [
       "(        MF_STTC    MF_PTC\n",
       " Month                    \n",
       " 3      1.040841  0.893343\n",
       " 12     0.694555  0.831910, 0.020311053152507787)"
      ]
     },
     "execution_count": 49,
     "metadata": {},
     "output_type": "execute_result"
    }
   ],
   "source": [
    "check_errs(madt_est, rdr_bag.ptcs[-9637988])"
   ]
  },
  {
   "cell_type": "code",
   "execution_count": 50,
   "metadata": {},
   "outputs": [
    {
     "data": {
      "text/plain": [
       "(        MF_STTC    MF_PTC\n",
       " Month                    \n",
       " 3      1.040841  0.955234\n",
       " 12     0.694555  0.897029, 0.024162129286363795)"
      ]
     },
     "execution_count": 50,
     "metadata": {},
     "output_type": "execute_result"
    }
   ],
   "source": [
    "check_errs(madt_est, rdr_bag.ptcs[-440171])"
   ]
  },
  {
   "cell_type": "code",
   "execution_count": 54,
   "metadata": {},
   "outputs": [
    {
     "data": {
      "text/plain": [
       "9484.326885922374"
      ]
     },
     "execution_count": 54,
     "metadata": {},
     "output_type": "execute_result"
    }
   ],
   "source": [
    "pcy = ptc_match[ptc_match['Year'] == 2011]\n",
    "(pcy['Daily Count'] * pcy['D_ijd'] * gf_0**(2019 - 2011)).mean()"
   ]
  },
  {
   "cell_type": "code",
   "execution_count": 58,
   "metadata": {},
   "outputs": [
    {
     "data": {
      "text/plain": [
       "(-908441,\n",
       " [-8171, -30073761, -913864, -442161, -13503206],\n",
       " [0.15338537614879347,\n",
       "  0.1435236370456765,\n",
       "  0.16675608363212505,\n",
       "  0.12974244938560087,\n",
       "  0.10613770084456559],\n",
       " -13503206,\n",
       " 1.1814646760798009,\n",
       " 2011,\n",
       " 4612.122254189972)"
      ]
     },
     "execution_count": 58,
     "metadata": {},
     "output_type": "execute_result"
    }
   ],
   "source": [
    "# Try another station.\n",
    "cmb.get_aadt_estimate_for_sttc(\n",
    "    rdr_bag.sttcs[-908441], rdr_bag.ptcs, nb, 2019, cmb.estimate_mse)"
   ]
  },
  {
   "cell_type": "code",
   "execution_count": 63,
   "metadata": {},
   "outputs": [
    {
     "data": {
      "text/plain": [
       "4612.122254189972"
      ]
     },
     "execution_count": 63,
     "metadata": {},
     "output_type": "execute_result"
    }
   ],
   "source": [
    "ptc_match = cmh.get_ptc_match(rdr_bag.sttcs[-908441], rdr_bag.ptcs[-13503206])\n",
    "pcy = ptc_match[ptc_match['Year'] == 2011]\n",
    "(pcy['Daily Count'] * pcy['D_ijd'] * rdr_bag.ptcs[-13503206].growth_factor**(2019 - 2011)).mean()"
   ]
  },
  {
   "cell_type": "code",
   "execution_count": 65,
   "metadata": {},
   "outputs": [
    {
     "data": {
      "text/plain": [
       "(-908441,\n",
       " [-8171, -30073761, -913864, -442161, -13503206],\n",
       " [0.11824199985170866,\n",
       "  0.10960624759090282,\n",
       "  0.1300182855127415,\n",
       "  0.09764434322712333,\n",
       "  0.07732405245706288],\n",
       " -13503206,\n",
       " 1.02,\n",
       " 2011,\n",
       " 1423.4304539230598)"
      ]
     },
     "execution_count": 65,
     "metadata": {},
     "output_type": "execute_result"
    }
   ],
   "source": [
    "cmb.get_aadt_estimate_for_sttc(\n",
    "    rdr_bag.sttcs[-908441], rdr_bag.ptcs, nb, 2019, cmb.estimate_mse,\n",
    "    override_growth_factor=1.02)"
   ]
  },
  {
   "cell_type": "code",
   "execution_count": 64,
   "metadata": {},
   "outputs": [
    {
     "data": {
      "text/plain": [
       "(-908441,\n",
       " [-8171, -30073761, -913864, -442161, -13503206],\n",
       " [0.6405047437206526,\n",
       "  0.6271811053764351,\n",
       "  0.6576714032943388,\n",
       "  0.5991368399171806,\n",
       "  0.5580172429346411],\n",
       " -13503206,\n",
       " 1.1814646760798009,\n",
       " 2011,\n",
       " 4612.122254189972)"
      ]
     },
     "execution_count": 64,
     "metadata": {},
     "output_type": "execute_result"
    }
   ],
   "source": [
    "cmb.get_aadt_estimate_for_sttc(\n",
    "    rdr_bag.sttcs[-908441], rdr_bag.ptcs, nb, 2019, cmb.estimate_cov)"
   ]
  },
  {
   "cell_type": "code",
   "execution_count": 94,
   "metadata": {},
   "outputs": [],
   "source": [
    "ptc_match, madt_est = cmb.get_madt_estimate(\n",
    "    rdr_bag.sttcs[-908441], rdr_bag.ptcs[-8171],\n",
    "    2019, rdr_bag.ptcs[-8171].growth_factor)"
   ]
  },
  {
   "cell_type": "code",
   "execution_count": 95,
   "metadata": {},
   "outputs": [
    {
     "data": {
      "text/html": [
       "<div>\n",
       "<style scoped>\n",
       "    .dataframe tbody tr th:only-of-type {\n",
       "        vertical-align: middle;\n",
       "    }\n",
       "\n",
       "    .dataframe tbody tr th {\n",
       "        vertical-align: top;\n",
       "    }\n",
       "\n",
       "    .dataframe thead th {\n",
       "        text-align: right;\n",
       "    }\n",
       "</style>\n",
       "<table border=\"1\" class=\"dataframe\">\n",
       "  <thead>\n",
       "    <tr style=\"text-align: right;\">\n",
       "      <th></th>\n",
       "      <th>MADT_estimate</th>\n",
       "      <th>AADT_est</th>\n",
       "    </tr>\n",
       "    <tr>\n",
       "      <th>Month</th>\n",
       "      <th></th>\n",
       "      <th></th>\n",
       "    </tr>\n",
       "  </thead>\n",
       "  <tbody>\n",
       "    <tr>\n",
       "      <td>3</td>\n",
       "      <td>6591.114631</td>\n",
       "      <td>5184.441986</td>\n",
       "    </tr>\n",
       "    <tr>\n",
       "      <td>12</td>\n",
       "      <td>2286.459510</td>\n",
       "      <td>5184.441986</td>\n",
       "    </tr>\n",
       "  </tbody>\n",
       "</table>\n",
       "</div>"
      ],
      "text/plain": [
       "       MADT_estimate     AADT_est\n",
       "Month                            \n",
       "3        6591.114631  5184.441986\n",
       "12       2286.459510  5184.441986"
      ]
     },
     "execution_count": 95,
     "metadata": {},
     "output_type": "execute_result"
    }
   ],
   "source": [
    "madt_est"
   ]
  },
  {
   "cell_type": "code",
   "execution_count": 96,
   "metadata": {},
   "outputs": [],
   "source": [
    "ptc_madt = rdr_bag.ptcs[-13503206].data['MADT'].loc[2017] * rdr_bag.ptcs[-13503206].growth_factor**(2019-2017)"
   ]
  },
  {
   "cell_type": "code",
   "execution_count": 97,
   "metadata": {},
   "outputs": [],
   "source": [
    "madt_ratio = madt_est['MADT_estimate'] / ptc_madt.loc[[3,12], 'MADT']"
   ]
  },
  {
   "cell_type": "code",
   "execution_count": 98,
   "metadata": {},
   "outputs": [
    {
     "data": {
      "text/plain": [
       "0.5580172429346411"
      ]
     },
     "execution_count": 98,
     "metadata": {},
     "output_type": "execute_result"
    }
   ],
   "source": [
    "madt_ratio.std() / madt_ratio.mean()"
   ]
  },
  {
   "cell_type": "code",
   "execution_count": 99,
   "metadata": {},
   "outputs": [
    {
     "data": {
      "text/plain": [
       "0.5580172429346411"
      ]
     },
     "execution_count": 99,
     "metadata": {},
     "output_type": "execute_result"
    }
   ],
   "source": [
    "cmb.estimate_cov(madt_est, rdr_bag.ptcs[-13503206], 2019)"
   ]
  },
  {
   "cell_type": "code",
   "execution_count": 100,
   "metadata": {},
   "outputs": [
    {
     "data": {
      "text/plain": [
       "0.6271811053764351"
      ]
     },
     "execution_count": 100,
     "metadata": {},
     "output_type": "execute_result"
    }
   ],
   "source": [
    "cmb.estimate_cov(madt_est, rdr_bag.ptcs[-30073761], 2019)"
   ]
  },
  {
   "cell_type": "code",
   "execution_count": 102,
   "metadata": {},
   "outputs": [
    {
     "data": {
      "text/plain": [
       "(-908441,\n",
       " [-8171, -30073761, -913864, -442161, -13503206],\n",
       " [0.5521919197020481,\n",
       "  0.5379960199872635,\n",
       "  0.5705134420839497,\n",
       "  0.5081842833779652,\n",
       "  0.46464032941234384],\n",
       " -13503206,\n",
       " 1.02,\n",
       " 2011,\n",
       " 1423.4304539230598)"
      ]
     },
     "execution_count": 102,
     "metadata": {},
     "output_type": "execute_result"
    }
   ],
   "source": [
    "cmb.get_aadt_estimate_for_sttc(\n",
    "    rdr_bag.sttcs[-908441], rdr_bag.ptcs, nb, 2019, cmb.estimate_cov,\n",
    "    override_growth_factor=1.02)"
   ]
  },
  {
   "cell_type": "code",
   "execution_count": 106,
   "metadata": {},
   "outputs": [
    {
     "data": {
      "application/vnd.jupyter.widget-view+json": {
       "model_id": "42325bfa1a2949b99c34368287e1ee0b",
       "version_major": 2,
       "version_minor": 0
      },
      "text/plain": [
       "HBox(children=(FloatProgress(value=0.0, description='Preprocessing PTCs', max=166.0, style=ProgressStyle(descr…"
      ]
     },
     "metadata": {},
     "output_type": "display_data"
    },
    {
     "name": "stdout",
     "output_type": "stream",
     "text": [
      "\n"
     ]
    },
    {
     "data": {
      "application/vnd.jupyter.widget-view+json": {
       "model_id": "cbfe1b955a22446dbcae6fef484768b6",
       "version_major": 2,
       "version_minor": 0
      },
      "text/plain": [
       "HBox(children=(FloatProgress(value=0.0, description='Estimating STTC AADTs', max=15553.0, style=ProgressStyle(…"
      ]
     },
     "metadata": {},
     "output_type": "display_data"
    },
    {
     "name": "stdout",
     "output_type": "stream",
     "text": [
      "\n"
     ]
    }
   ],
   "source": [
    "bagcov_aadt_estimates = cmb.estimate_aadts(rdr_bag, nb, 2019, erroralgo='Minimum COV', progress_bar=True)"
   ]
  },
  {
   "cell_type": "code",
   "execution_count": 107,
   "metadata": {},
   "outputs": [
    {
     "data": {
      "text/html": [
       "<div>\n",
       "<style scoped>\n",
       "    .dataframe tbody tr th:only-of-type {\n",
       "        vertical-align: middle;\n",
       "    }\n",
       "\n",
       "    .dataframe tbody tr th {\n",
       "        vertical-align: top;\n",
       "    }\n",
       "\n",
       "    .dataframe thead th {\n",
       "        text-align: right;\n",
       "    }\n",
       "</style>\n",
       "<table border=\"1\" class=\"dataframe\">\n",
       "  <thead>\n",
       "    <tr style=\"text-align: right;\">\n",
       "      <th></th>\n",
       "      <th>Count ID</th>\n",
       "      <th>Nearest PTCS</th>\n",
       "      <th>Errors</th>\n",
       "      <th>PTC ID</th>\n",
       "      <th>Growth Factor</th>\n",
       "      <th>Most Recent Year</th>\n",
       "      <th>AADT Estimate</th>\n",
       "    </tr>\n",
       "  </thead>\n",
       "  <tbody>\n",
       "    <tr>\n",
       "      <td>0</td>\n",
       "      <td>-175</td>\n",
       "      <td>[-1022, -444637, -890, -445309, -445884]</td>\n",
       "      <td>[1.029602977206374, 1.0784675337436187, 1.0590...</td>\n",
       "      <td>-445884</td>\n",
       "      <td>0.909007</td>\n",
       "      <td>2010</td>\n",
       "      <td>709.179372</td>\n",
       "    </tr>\n",
       "    <tr>\n",
       "      <td>1</td>\n",
       "      <td>175</td>\n",
       "      <td>[446012, 1033, 444516, 1003, 444782]</td>\n",
       "      <td>[0.9219096960080154, 1.002837457010231, 1.0273...</td>\n",
       "      <td>446012</td>\n",
       "      <td>1.013699</td>\n",
       "      <td>2010</td>\n",
       "      <td>1273.026124</td>\n",
       "    </tr>\n",
       "    <tr>\n",
       "      <td>2</td>\n",
       "      <td>-201</td>\n",
       "      <td>[-445309, -445884, -444637, -443975, -443987]</td>\n",
       "      <td>[0.0, 0.0, 0.0, 0.0, 0.0]</td>\n",
       "      <td>-445309</td>\n",
       "      <td>0.993865</td>\n",
       "      <td>2006</td>\n",
       "      <td>238.796524</td>\n",
       "    </tr>\n",
       "    <tr>\n",
       "      <td>3</td>\n",
       "      <td>201</td>\n",
       "      <td>[445280, 444782, 444403, 444516, 446012]</td>\n",
       "      <td>[0.0, 0.0, 0.0, 0.0, 0.0]</td>\n",
       "      <td>445280</td>\n",
       "      <td>0.997773</td>\n",
       "      <td>2006</td>\n",
       "      <td>187.826976</td>\n",
       "    </tr>\n",
       "    <tr>\n",
       "      <td>4</td>\n",
       "      <td>-202</td>\n",
       "      <td>[-445309, -445884, -444637, -443975, -443987]</td>\n",
       "      <td>[0.0, 0.0, 0.0, 0.0, 0.0]</td>\n",
       "      <td>-445309</td>\n",
       "      <td>0.993865</td>\n",
       "      <td>2006</td>\n",
       "      <td>142.003923</td>\n",
       "    </tr>\n",
       "    <tr>\n",
       "      <td>...</td>\n",
       "      <td>...</td>\n",
       "      <td>...</td>\n",
       "      <td>...</td>\n",
       "      <td>...</td>\n",
       "      <td>...</td>\n",
       "      <td>...</td>\n",
       "      <td>...</td>\n",
       "    </tr>\n",
       "    <tr>\n",
       "      <td>15548</td>\n",
       "      <td>-30078909</td>\n",
       "      <td>[-442161, -13503206, -13503207, -13503251, -93...</td>\n",
       "      <td>[0.0, 0.0, 0.0, 0.0, 0.0]</td>\n",
       "      <td>-442161</td>\n",
       "      <td>0.983852</td>\n",
       "      <td>2018</td>\n",
       "      <td>15844.016499</td>\n",
       "    </tr>\n",
       "    <tr>\n",
       "      <td>15549</td>\n",
       "      <td>30078909</td>\n",
       "      <td>[6248089, 20230203, 14065128, 438481, 5849817]</td>\n",
       "      <td>[0.0, 0.0, 0.0, 0.0, 0.0]</td>\n",
       "      <td>6248089</td>\n",
       "      <td>0.907765</td>\n",
       "      <td>2018</td>\n",
       "      <td>14136.934913</td>\n",
       "    </tr>\n",
       "    <tr>\n",
       "      <td>15550</td>\n",
       "      <td>-30078912</td>\n",
       "      <td>[-442161, -13503206, -13503207, -13503251, -8171]</td>\n",
       "      <td>[0.0, 0.0, 0.0, 0.0, 0.0]</td>\n",
       "      <td>-442161</td>\n",
       "      <td>0.983852</td>\n",
       "      <td>2018</td>\n",
       "      <td>15703.874305</td>\n",
       "    </tr>\n",
       "    <tr>\n",
       "      <td>15551</td>\n",
       "      <td>-30085792</td>\n",
       "      <td>[-441170, -440171, -440332, -20140757, -442447]</td>\n",
       "      <td>[0.0607338094176366, 0.055597029748640996, 0.0...</td>\n",
       "      <td>-440332</td>\n",
       "      <td>1.128996</td>\n",
       "      <td>2018</td>\n",
       "      <td>7427.540302</td>\n",
       "    </tr>\n",
       "    <tr>\n",
       "      <td>15552</td>\n",
       "      <td>30085792</td>\n",
       "      <td>[442292, 440429, 442871, 110026, 443071]</td>\n",
       "      <td>[0.08079201607158623, 0.042571959451584825, 0....</td>\n",
       "      <td>442871</td>\n",
       "      <td>1.129811</td>\n",
       "      <td>2018</td>\n",
       "      <td>8134.137962</td>\n",
       "    </tr>\n",
       "  </tbody>\n",
       "</table>\n",
       "<p>15553 rows × 7 columns</p>\n",
       "</div>"
      ],
      "text/plain": [
       "       Count ID                                       Nearest PTCS  \\\n",
       "0          -175           [-1022, -444637, -890, -445309, -445884]   \n",
       "1           175               [446012, 1033, 444516, 1003, 444782]   \n",
       "2          -201      [-445309, -445884, -444637, -443975, -443987]   \n",
       "3           201           [445280, 444782, 444403, 444516, 446012]   \n",
       "4          -202      [-445309, -445884, -444637, -443975, -443987]   \n",
       "...         ...                                                ...   \n",
       "15548 -30078909  [-442161, -13503206, -13503207, -13503251, -93...   \n",
       "15549  30078909     [6248089, 20230203, 14065128, 438481, 5849817]   \n",
       "15550 -30078912  [-442161, -13503206, -13503207, -13503251, -8171]   \n",
       "15551 -30085792    [-441170, -440171, -440332, -20140757, -442447]   \n",
       "15552  30085792           [442292, 440429, 442871, 110026, 443071]   \n",
       "\n",
       "                                                  Errors   PTC ID  \\\n",
       "0      [1.029602977206374, 1.0784675337436187, 1.0590...  -445884   \n",
       "1      [0.9219096960080154, 1.002837457010231, 1.0273...   446012   \n",
       "2                              [0.0, 0.0, 0.0, 0.0, 0.0]  -445309   \n",
       "3                              [0.0, 0.0, 0.0, 0.0, 0.0]   445280   \n",
       "4                              [0.0, 0.0, 0.0, 0.0, 0.0]  -445309   \n",
       "...                                                  ...      ...   \n",
       "15548                          [0.0, 0.0, 0.0, 0.0, 0.0]  -442161   \n",
       "15549                          [0.0, 0.0, 0.0, 0.0, 0.0]  6248089   \n",
       "15550                          [0.0, 0.0, 0.0, 0.0, 0.0]  -442161   \n",
       "15551  [0.0607338094176366, 0.055597029748640996, 0.0...  -440332   \n",
       "15552  [0.08079201607158623, 0.042571959451584825, 0....   442871   \n",
       "\n",
       "       Growth Factor  Most Recent Year  AADT Estimate  \n",
       "0           0.909007              2010     709.179372  \n",
       "1           1.013699              2010    1273.026124  \n",
       "2           0.993865              2006     238.796524  \n",
       "3           0.997773              2006     187.826976  \n",
       "4           0.993865              2006     142.003923  \n",
       "...              ...               ...            ...  \n",
       "15548       0.983852              2018   15844.016499  \n",
       "15549       0.907765              2018   14136.934913  \n",
       "15550       0.983852              2018   15703.874305  \n",
       "15551       1.128996              2018    7427.540302  \n",
       "15552       1.129811              2018    8134.137962  \n",
       "\n",
       "[15553 rows x 7 columns]"
      ]
     },
     "execution_count": 107,
     "metadata": {},
     "output_type": "execute_result"
    }
   ],
   "source": [
    "bagcov_aadt_estimates"
   ]
  },
  {
   "cell_type": "code",
   "execution_count": 114,
   "metadata": {},
   "outputs": [],
   "source": [
    "aadt_est_check = pd.merge(bag_aadt_estimates[['AADT Estimate']], bagcov_aadt_estimates[['AADT Estimate']],\n",
    "                          how='outer', left_index=True, right_index=True)"
   ]
  },
  {
   "cell_type": "code",
   "execution_count": 118,
   "metadata": {},
   "outputs": [],
   "source": [
    "aadt_est_check['Fractional Error'] = (2 * abs(aadt_est_check['AADT Estimate_x'] - aadt_est_check['AADT Estimate_y']) /\n",
    "                                      (aadt_est_check['AADT Estimate_x'] + aadt_est_check['AADT Estimate_y']))"
   ]
  },
  {
   "cell_type": "code",
   "execution_count": 121,
   "metadata": {},
   "outputs": [
    {
     "data": {
      "text/plain": [
       "<matplotlib.axes._subplots.AxesSubplot at 0x7f4c28e315f8>"
      ]
     },
     "execution_count": 121,
     "metadata": {},
     "output_type": "execute_result"
    },
    {
     "data": {
      "image/png": "[encoded data removed]",
      "text/plain": [
       "<Figure size 576x432 with 1 Axes>"
      ]
     },
     "metadata": {
      "needs_background": "light"
     },
     "output_type": "display_data"
    }
   ],
   "source": [
    "fig, ax = plt.subplots(figsize=(8, 6))\n",
    "aadt_est_check['Fractional Error'].hist(ax=ax, bins=30, log=True)"
   ]
  },
  {
   "cell_type": "markdown",
   "metadata": {},
   "source": [
    "## Note: -175 is a terrible STTC"
   ]
  },
  {
   "cell_type": "code",
   "execution_count": 19,
   "metadata": {},
   "outputs": [],
   "source": [
    "tc = rdr_bag.sttcs[-175]\n",
    "ptcs = rdr_bag.ptcs\n",
    "want_year = 2019\n",
    "n_neighbours=5\n",
    "single_direction=True,\n",
    "\n",
    "# Find nearest neighbours in same direction.\n",
    "neighbour_ptcs = cmc.get_neighbours(\n",
    "    tc, ptcs, nb, n_neighbours=n_neighbours,\n",
    "    single_direction=single_direction)\n",
    "\n",
    "# Determine minimum MSE tables for closest neighbouring PTCs.\n",
    "mses = []\n",
    "for ptc in neighbour_ptcs:\n",
    "    ptc_match = cmh.get_ptc_match(tc, ptc)\n",
    "    # growth_factor = (override_growth_factor if override_growth_factor\n",
    "    #                  else ptc.growth_factor)\n",
    "    mses.append((ptc.count_id,) +\n",
    "                cmh.estimate_mse(ptc_match, ptc, want_year,\n",
    "                             cmc.get_citywide_growth_factor(rdr_bag)))\n",
    "# Retrieve `ptc_match` table of minimum MSE PTC.\n",
    "min_countid, mmse_ptc_match = min(mses, key=lambda x: x[-1])[0:2]"
   ]
  },
  {
   "cell_type": "code",
   "execution_count": 20,
   "metadata": {},
   "outputs": [
    {
     "data": {
      "text/html": [
       "<div>\n",
       "<style scoped>\n",
       "    .dataframe tbody tr th:only-of-type {\n",
       "        vertical-align: middle;\n",
       "    }\n",
       "\n",
       "    .dataframe tbody tr th {\n",
       "        vertical-align: top;\n",
       "    }\n",
       "\n",
       "    .dataframe thead th {\n",
       "        text-align: right;\n",
       "    }\n",
       "</style>\n",
       "<table border=\"1\" class=\"dataframe\">\n",
       "  <thead>\n",
       "    <tr style=\"text-align: right;\">\n",
       "      <th></th>\n",
       "      <th>Year</th>\n",
       "      <th>Date</th>\n",
       "      <th>Daily Count</th>\n",
       "      <th>Day of Week</th>\n",
       "      <th>Month</th>\n",
       "      <th>Closest Year</th>\n",
       "      <th>D_ijd</th>\n",
       "      <th>DoM_ijd</th>\n",
       "      <th>MADT_est</th>\n",
       "    </tr>\n",
       "  </thead>\n",
       "  <tbody>\n",
       "    <tr>\n",
       "      <td>0</td>\n",
       "      <td>2006</td>\n",
       "      <td>2006-08-15</td>\n",
       "      <td>171.0</td>\n",
       "      <td>1</td>\n",
       "      <td>8</td>\n",
       "      <td>2016</td>\n",
       "      <td>0.951817</td>\n",
       "      <td>0.968189</td>\n",
       "      <td>220.411747</td>\n",
       "    </tr>\n",
       "    <tr>\n",
       "      <td>1</td>\n",
       "      <td>2010</td>\n",
       "      <td>2010-06-09</td>\n",
       "      <td>1855.0</td>\n",
       "      <td>2</td>\n",
       "      <td>6</td>\n",
       "      <td>2016</td>\n",
       "      <td>0.925953</td>\n",
       "      <td>0.962942</td>\n",
       "      <td>2177.623663</td>\n",
       "    </tr>\n",
       "  </tbody>\n",
       "</table>\n",
       "</div>"
      ],
      "text/plain": [
       "   Year       Date  Daily Count  Day of Week  Month  Closest Year     D_ijd  \\\n",
       "0  2006 2006-08-15        171.0            1      8          2016  0.951817   \n",
       "1  2010 2010-06-09       1855.0            2      6          2016  0.925953   \n",
       "\n",
       "    DoM_ijd     MADT_est  \n",
       "0  0.968189   220.411747  \n",
       "1  0.962942  2177.623663  "
      ]
     },
     "execution_count": 20,
     "metadata": {},
     "output_type": "execute_result"
    }
   ],
   "source": [
    "mses[0][1]"
   ]
  },
  {
   "cell_type": "code",
   "execution_count": 21,
   "metadata": {},
   "outputs": [
    {
     "data": {
      "text/html": [
       "<div>\n",
       "<style scoped>\n",
       "    .dataframe tbody tr th:only-of-type {\n",
       "        vertical-align: middle;\n",
       "    }\n",
       "\n",
       "    .dataframe tbody tr th {\n",
       "        vertical-align: top;\n",
       "    }\n",
       "\n",
       "    .dataframe thead th {\n",
       "        text-align: right;\n",
       "    }\n",
       "</style>\n",
       "<table border=\"1\" class=\"dataframe\">\n",
       "  <thead>\n",
       "    <tr style=\"text-align: right;\">\n",
       "      <th></th>\n",
       "      <th>Year</th>\n",
       "      <th>Date</th>\n",
       "      <th>Daily Count</th>\n",
       "      <th>Day of Week</th>\n",
       "      <th>Month</th>\n",
       "      <th>Closest Year</th>\n",
       "      <th>D_ijd</th>\n",
       "      <th>DoM_ijd</th>\n",
       "      <th>MADT_est</th>\n",
       "    </tr>\n",
       "  </thead>\n",
       "  <tbody>\n",
       "    <tr>\n",
       "      <td>0</td>\n",
       "      <td>2006</td>\n",
       "      <td>2006-08-15</td>\n",
       "      <td>171.0</td>\n",
       "      <td>1</td>\n",
       "      <td>8</td>\n",
       "      <td>2010</td>\n",
       "      <td>0.975602</td>\n",
       "      <td>1.005890</td>\n",
       "      <td>228.994586</td>\n",
       "    </tr>\n",
       "    <tr>\n",
       "      <td>1</td>\n",
       "      <td>2010</td>\n",
       "      <td>2010-06-09</td>\n",
       "      <td>1855.0</td>\n",
       "      <td>2</td>\n",
       "      <td>6</td>\n",
       "      <td>2010</td>\n",
       "      <td>0.991796</td>\n",
       "      <td>0.984848</td>\n",
       "      <td>2227.162266</td>\n",
       "    </tr>\n",
       "  </tbody>\n",
       "</table>\n",
       "</div>"
      ],
      "text/plain": [
       "   Year       Date  Daily Count  Day of Week  Month  Closest Year     D_ijd  \\\n",
       "0  2006 2006-08-15        171.0            1      8          2010  0.975602   \n",
       "1  2010 2010-06-09       1855.0            2      6          2010  0.991796   \n",
       "\n",
       "    DoM_ijd     MADT_est  \n",
       "0  1.005890   228.994586  \n",
       "1  0.984848  2227.162266  "
      ]
     },
     "execution_count": 21,
     "metadata": {},
     "output_type": "execute_result"
    }
   ],
   "source": [
    "mses[1][1]"
   ]
  },
  {
   "cell_type": "code",
   "execution_count": 22,
   "metadata": {},
   "outputs": [
    {
     "data": {
      "text/plain": [
       "(-175,\n",
       " [-1022, -444637, -890, -445309, -445884],\n",
       " [0.6984172544782186,\n",
       "  0.8374002130428739,\n",
       "  0.7795400789582994,\n",
       "  0.69686364325305,\n",
       "  0.5902844916985741],\n",
       " -445884,\n",
       " 1.0222564979935564,\n",
       " 2010,\n",
       " 2040.2871790117917)"
      ]
     },
     "execution_count": 22,
     "metadata": {},
     "output_type": "execute_result"
    }
   ],
   "source": [
    "# Process nearest PTC comparisons to estimate AADT for each STTC.\n",
    "cmb.get_aadt_estimate_for_sttc(\n",
    "    rdr_bag.sttcs[-175], rdr_bag.ptcs, nb, 2019, cmb.estimate_mse,\n",
    "    override_growth_factor=cmc.get_citywide_growth_factor(rdr_bag))"
   ]
  }
 ],
 "metadata": {
  "kernelspec": {
   "display_name": "Python 3",
   "language": "python",
   "name": "python3"
  },
  "language_info": {
   "codemirror_mode": {
    "name": "ipython",
    "version": 3
   },
   "file_extension": ".py",
   "mimetype": "text/x-python",
   "name": "python",
   "nbconvert_exporter": "python",
   "pygments_lexer": "ipython3",
   "version": "3.6.9"
  }
 },
 "nbformat": 4,
 "nbformat_minor": 2
}

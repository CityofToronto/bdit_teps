{
 "cells": [
  {
   "cell_type": "code",
   "execution_count": 1,
   "metadata": {},
   "outputs": [],
   "source": [
    "%matplotlib inline\n",
    "import sys\n",
    "# This is the proposed version, to be evaluated.\n",
    "sys.path.append('./bdit_traffic_prophet/')\n",
    "# Dummy version of Traffic Prophet at commit e4e3cfa, but with code folder name changed.\n",
    "# This is the baseline version.\n",
    "sys.path.append('./btp_litreview/')\n",
    "import importlib\n",
    "import matplotlib.pyplot as plt\n",
    "import numpy as np\n",
    "import knowyourdata as kyd\n",
    "\n",
    "import pandas as pd\n",
    "\n",
    "from traffic_prophet.data import SAMPLE_ZIP\n",
    "from traffic_prophet.countmatch import reader\n",
    "from traffic_prophet.countmatch import permcount as pc\n",
    "from tp_comp.countmatch import reader as reader_comp\n",
    "from tp_comp.countmatch import growthfactor as gf_comp\n",
    "\n",
    "defaultcolours = plt.rcParams['axes.prop_cycle'].by_key()['color']"
   ]
  },
  {
   "cell_type": "code",
   "execution_count": 2,
   "metadata": {},
   "outputs": [],
   "source": [
    "# Read and process counts using baseline version.\n",
    "\n",
    "rdr = reader_comp.Reader(SAMPLE_ZIP)\n",
    "rdr.read()\n",
    "gf_comp.get_growth_factors(rdr)"
   ]
  },
  {
   "cell_type": "code",
   "execution_count": 3,
   "metadata": {},
   "outputs": [],
   "source": [
    "# Read and process using proposed version.\n",
    "\n",
    "tcs = reader.read(SAMPLE_ZIP)\n",
    "pc.get_ptcs_sttcs(tcs)"
   ]
  },
  {
   "cell_type": "code",
   "execution_count": 4,
   "metadata": {},
   "outputs": [
    {
     "data": {
      "text/plain": [
       "{-241: <traffic_prophet.countmatch.base.Count at 0x7f17081480f0>,\n",
       " -252: <traffic_prophet.countmatch.base.Count at 0x7f16d4735cf8>,\n",
       " -410: <traffic_prophet.countmatch.base.Count at 0x7f16d461a198>,\n",
       " -427: <traffic_prophet.countmatch.base.Count at 0x7f16d47216a0>,\n",
       " -446378: <traffic_prophet.countmatch.base.Count at 0x7f16d47214e0>,\n",
       " -487: <traffic_prophet.countmatch.base.Count at 0x7f16d461a2b0>,\n",
       " -170: <traffic_prophet.countmatch.base.Count at 0x7f17081255c0>,\n",
       " -680: <traffic_prophet.countmatch.base.Count at 0x7f16d4735c50>,\n",
       " 170: <traffic_prophet.countmatch.base.Count at 0x7f16d4721908>,\n",
       " 104870: <traffic_prophet.countmatch.base.Count at 0x7f16d47218d0>,\n",
       " -1978: <traffic_prophet.countmatch.base.Count at 0x7f16d4721780>}"
      ]
     },
     "execution_count": 4,
     "metadata": {},
     "output_type": "execute_result"
    }
   ],
   "source": [
    "# Check STTC daily counts and other properties.  These should be same in both `tcs` and `rdr`\n",
    "# for those locations that aren't also PTCs.\n",
    "tcs.sttcs"
   ]
  },
  {
   "cell_type": "code",
   "execution_count": 5,
   "metadata": {},
   "outputs": [],
   "source": [
    "for key in tcs.sttcs.keys():\n",
    "    assert tcs.sttcs[key].count_id == rdr.sttcs[key].count_id\n",
    "    assert tcs.sttcs[key].centreline_id == rdr.sttcs[key].centreline_id\n",
    "    assert tcs.sttcs[key].direction == rdr.sttcs[key].direction\n",
    "    assert tcs.sttcs[key].is_permanent == rdr.sttcs[key].is_permanent\n",
    "    assert tcs.sttcs[key].data.equals(rdr.sttcs[key].data)"
   ]
  },
  {
   "cell_type": "code",
   "execution_count": 6,
   "metadata": {},
   "outputs": [],
   "source": [
    "# For PTCs, we have to be slightly more involved.\n",
    "for key in tcs.ptcs.keys():\n",
    "    assert tcs.ptcs[key].count_id == rdr.ptcs[key].count_id\n",
    "    assert tcs.ptcs[key].centreline_id == rdr.ptcs[key].centreline_id\n",
    "    assert tcs.ptcs[key].direction == rdr.ptcs[key].direction\n",
    "    assert tcs.ptcs[key].is_permanent == rdr.ptcs[key].is_permanent\n",
    "    \n",
    "    permyr = tcs.ptcs[key].perm_years\n",
    "    sttcyr = list(set(tcs.ptcs[key].data.index.levels[0]) -\n",
    "                  set(tcs.ptcs[key].perm_years))\n",
    "    assert tcs.ptcs[key].data.loc[permyr].equals(rdr.ptcs[key].data['Daily Count'])\n",
    "    assert tcs.ptcs[key].data.loc[sttcyr].equals(rdr.sttcs[key].data)\n",
    "\n",
    "    assert (tcs.ptcs[key].adts['MADT'].loc[permyr, ['MADT', 'Days in Month']]\n",
    "            .equals(rdr.ptcs[key].data['MADT']))\n",
    "    assert tcs.ptcs[key].adts['AADT'].equals(rdr.ptcs[key].data['AADT'])\n",
    "    assert tcs.ptcs[key].ratios['DoM_ijd'].equals(rdr.ptcs[key].data['DoM Factor'])\n",
    "    \n",
    "    assert np.isclose(tcs.ptcs[key].growth_factor, rdr.ptcs[key].growth_factor)\n",
    "    assert np.allclose(tcs.ptcs[key]._growth_fit['fit_results'].params,\n",
    "                       rdr.ptcs[key]._fit.params)"
   ]
  }
 ],
 "metadata": {
  "kernelspec": {
   "display_name": "Python 3",
   "language": "python",
   "name": "python3"
  },
  "language_info": {
   "codemirror_mode": {
    "name": "ipython",
    "version": 3
   },
   "file_extension": ".py",
   "mimetype": "text/x-python",
   "name": "python",
   "nbconvert_exporter": "python",
   "pygments_lexer": "ipython3",
   "version": "3.6.9"
  }
 },
 "nbformat": 4,
 "nbformat_minor": 2
}

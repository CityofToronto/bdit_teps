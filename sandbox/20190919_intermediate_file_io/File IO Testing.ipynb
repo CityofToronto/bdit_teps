{
 "cells": [
  {
   "cell_type": "markdown",
   "metadata": {},
   "source": [
    "# File IO Testing\n",
    "\n",
    "TEPs-I involves creating and reading large numbers of files in array-like format to disk in order to move files from one process to the next.  For 2011, there are 1300 output files from PECOUNT, ranging from 300 (15 KB) to 34000 (1.8 MB) rows of data totalling arond 100 MB of plain text files.\n",
    "\n",
    "We need to find a way of efficiently reading, writing to and storing 2 million x 5 rows of data.\n",
    "\n",
    "All tests below were done using a desktop with an Intel Core i5 and 16 GB of RAM."
   ]
  },
  {
   "cell_type": "code",
   "execution_count": 115,
   "metadata": {},
   "outputs": [],
   "source": [
    "# Preamble\n",
    "%matplotlib notebook\n",
    "import os\n",
    "import numpy as np\n",
    "import pandas as pd\n",
    "import h5py\n",
    "import joblib\n",
    "import dask.dataframe as dd\n",
    "import time\n",
    "import tables\n",
    "import multiprocessing as multi\n",
    "import pickle\n",
    "import matplotlib.pyplot as plt"
   ]
  },
  {
   "cell_type": "code",
   "execution_count": 2,
   "metadata": {},
   "outputs": [],
   "source": [
    "# Tiny timeit wrapper.\n",
    "import timeit\n",
    "\n",
    "def mytimeit(source, number=1):\n",
    "    \"\"\"Wrapper around `timeit.timeit` to run some source code using the\n",
    "    current namespace.  For file writing, set number=1!\"\"\"\n",
    "    return timeit.timeit(source, globals=globals(), number=number)"
   ]
  },
  {
   "cell_type": "markdown",
   "metadata": {},
   "source": [
    "## Read Arman's PECOUNT-II Output"
   ]
  },
  {
   "cell_type": "code",
   "execution_count": 3,
   "metadata": {},
   "outputs": [
    {
     "data": {
      "text/html": [
       "<div>\n",
       "<style scoped>\n",
       "    .dataframe tbody tr th:only-of-type {\n",
       "        vertical-align: middle;\n",
       "    }\n",
       "\n",
       "    .dataframe tbody tr th {\n",
       "        vertical-align: top;\n",
       "    }\n",
       "\n",
       "    .dataframe thead th {\n",
       "        text-align: right;\n",
       "    }\n",
       "</style>\n",
       "<table border=\"1\" class=\"dataframe\">\n",
       "  <thead>\n",
       "    <tr style=\"text-align: right;\">\n",
       "      <th></th>\n",
       "      <th>Nonsense</th>\n",
       "      <th>Centreline ID</th>\n",
       "      <th>Direction</th>\n",
       "      <th>Timestamp</th>\n",
       "      <th>Count</th>\n",
       "      <th>Something</th>\n",
       "    </tr>\n",
       "  </thead>\n",
       "  <tbody>\n",
       "    <tr>\n",
       "      <th>0</th>\n",
       "      <td>192280:65824385</td>\n",
       "      <td>20050591</td>\n",
       "      <td>-1</td>\n",
       "      <td>2011-01-01 00:00:00</td>\n",
       "      <td>37</td>\n",
       "      <td>1</td>\n",
       "    </tr>\n",
       "    <tr>\n",
       "      <th>1</th>\n",
       "      <td>192281:65824386</td>\n",
       "      <td>20050591</td>\n",
       "      <td>-1</td>\n",
       "      <td>2011-01-01 00:15:00</td>\n",
       "      <td>36</td>\n",
       "      <td>1</td>\n",
       "    </tr>\n",
       "    <tr>\n",
       "      <th>2</th>\n",
       "      <td>192282:65824387</td>\n",
       "      <td>20050591</td>\n",
       "      <td>-1</td>\n",
       "      <td>2011-01-01 00:30:00</td>\n",
       "      <td>53</td>\n",
       "      <td>1</td>\n",
       "    </tr>\n",
       "    <tr>\n",
       "      <th>3</th>\n",
       "      <td>192283:65824388</td>\n",
       "      <td>20050591</td>\n",
       "      <td>-1</td>\n",
       "      <td>2011-01-01 00:45:00</td>\n",
       "      <td>66</td>\n",
       "      <td>1</td>\n",
       "    </tr>\n",
       "    <tr>\n",
       "      <th>4</th>\n",
       "      <td>192284:65824389</td>\n",
       "      <td>20050591</td>\n",
       "      <td>-1</td>\n",
       "      <td>2011-01-01 01:00:00</td>\n",
       "      <td>52</td>\n",
       "      <td>1</td>\n",
       "    </tr>\n",
       "  </tbody>\n",
       "</table>\n",
       "</div>"
      ],
      "text/plain": [
       "          Nonsense  Centreline ID  Direction           Timestamp  Count  \\\n",
       "0  192280:65824385       20050591         -1 2011-01-01 00:00:00     37   \n",
       "1  192281:65824386       20050591         -1 2011-01-01 00:15:00     36   \n",
       "2  192282:65824387       20050591         -1 2011-01-01 00:30:00     53   \n",
       "3  192283:65824388       20050591         -1 2011-01-01 00:45:00     66   \n",
       "4  192284:65824389       20050591         -1 2011-01-01 01:00:00     52   \n",
       "\n",
       "   Something  \n",
       "0          1  \n",
       "1          1  \n",
       "2          1  \n",
       "3          1  \n",
       "4          1  "
      ]
     },
     "execution_count": 3,
     "metadata": {},
     "output_type": "execute_result"
    }
   ],
   "source": [
    "# Read in Arman's 20050591_17636_2011.txt.\n",
    "raw_data = pd.read_csv('./20050591_17636_2011.txt', sep='\\t', header=None,\n",
    "                       parse_dates=[3,])\n",
    "raw_data.columns = ['Nonsense', 'Centreline ID', 'Direction',\n",
    "                    'Timestamp', 'Count', 'Something']\n",
    "\n",
    "raw_data.head()"
   ]
  },
  {
   "cell_type": "code",
   "execution_count": 4,
   "metadata": {},
   "outputs": [],
   "source": [
    "# May be much more efficient to store timestamps as floats (certainly takes less\n",
    "# time to read in!)\n",
    "raw_data['Timedelta_hr'] = ((raw_data['Timestamp'] - raw_data['Timestamp'][0]) /\n",
    "                            np.timedelta64(1, 'h'))"
   ]
  },
  {
   "cell_type": "code",
   "execution_count": 5,
   "metadata": {},
   "outputs": [
    {
     "data": {
      "text/plain": [
       "0      6\n",
       "1     29\n",
       "2    106\n",
       "3    228\n",
       "4    350\n",
       "Name: Count, dtype: int64"
      ]
     },
     "execution_count": 5,
     "metadata": {},
     "output_type": "execute_result"
    }
   ],
   "source": [
    "# Are zero counts in 15 min properly recorded?\n",
    "raw_data['Count'].value_counts().sort_index().head()"
   ]
  },
  {
   "cell_type": "markdown",
   "metadata": {},
   "source": [
    "`STTC_estimate3.m` appears to only use the timestamp and count.  Let us save only these values (I have no idea what the first and last columns are even for, and the ID and direction can be stored as metadata or in the name."
   ]
  },
  {
   "cell_type": "markdown",
   "metadata": {},
   "source": [
    "## File I/O Prototypes\n",
    "\n",
    "For now, keep timestamps as timestamps.\n",
    "\n",
    "### Baseline - output to CSV"
   ]
  },
  {
   "cell_type": "code",
   "execution_count": 6,
   "metadata": {},
   "outputs": [
    {
     "name": "stdout",
     "output_type": "stream",
     "text": [
      "Writing 100 two-column files to disk takes 8.571 s.\n"
     ]
    }
   ],
   "source": [
    "# Output to file\n",
    "csv_output_source = \"\"\"for i in range(100):\n",
    "    raw_data[[\"Timestamp\", \"Count\"]].to_csv(\"temptemp_{0:03d}.csv\".format(i))\n",
    "\"\"\"\n",
    "\n",
    "print(\"Writing 100 two-column files to disk takes {0:.3f} s.\"\n",
    "      .format(mytimeit(csv_output_source)))"
   ]
  },
  {
   "cell_type": "code",
   "execution_count": 7,
   "metadata": {},
   "outputs": [
    {
     "name": "stdout",
     "output_type": "stream",
     "text": [
      "Size of files on disk: 95.07 MB\n"
     ]
    }
   ],
   "source": [
    "print(\"Size of files on disk: {0:.2f} MB\"\n",
    "      .format(100 * os.path.getsize(\"temptemp_000.csv\") / 1024.**2))"
   ]
  },
  {
   "cell_type": "code",
   "execution_count": 8,
   "metadata": {},
   "outputs": [
    {
     "name": "stdout",
     "output_type": "stream",
     "text": [
      "Reading 100 files from disk takes 2.724 s.\n"
     ]
    }
   ],
   "source": [
    "# Read files\n",
    "csv_input_source = \"\"\"for i in range(100):\n",
    "    new_data = pd.read_csv(\"temptemp_{0:03d}.csv\".format(i), parse_dates=[0,])\n",
    "\"\"\"\n",
    "\n",
    "print(\"Reading 100 files from disk takes {0:.3f} s.\"\n",
    "      .format(mytimeit(csv_input_source)))"
   ]
  },
  {
   "cell_type": "code",
   "execution_count": 9,
   "metadata": {},
   "outputs": [],
   "source": [
    "os_del_success = os.system('rm ./temptemp*.csv')"
   ]
  },
  {
   "cell_type": "markdown",
   "metadata": {},
   "source": [
    "### Pandas write to tabular HDF5 - multi-file"
   ]
  },
  {
   "cell_type": "code",
   "execution_count": 10,
   "metadata": {},
   "outputs": [
    {
     "name": "stdout",
     "output_type": "stream",
     "text": [
      "Writing 100 two-column files to disk takes 0.719 s.\n"
     ]
    }
   ],
   "source": [
    "# Output to file\n",
    "pandas_hdf_output_source = \"\"\"for i in range(100):\n",
    "    (raw_data[[\"Timestamp\", \"Count\"]]\n",
    "     .to_hdf(\"temptemp_{0:03d}.hdf\".format(i), \"table\"))\n",
    "\"\"\"\n",
    "\n",
    "print(\"Writing 100 two-column files to disk takes {0:.3f} s.\"\n",
    "      .format(mytimeit(pandas_hdf_output_source)))"
   ]
  },
  {
   "cell_type": "code",
   "execution_count": 11,
   "metadata": {},
   "outputs": [
    {
     "name": "stdout",
     "output_type": "stream",
     "text": [
      "Size of files on disk: 79.08 MB\n"
     ]
    }
   ],
   "source": [
    "print(\"Size of files on disk: {0:.2f} MB\"\n",
    "      .format(100 * os.path.getsize(\"temptemp_000.hdf\") / 1024.**2))"
   ]
  },
  {
   "cell_type": "code",
   "execution_count": 12,
   "metadata": {},
   "outputs": [
    {
     "name": "stdout",
     "output_type": "stream",
     "text": [
      "Reading 100 files from disk takes 0.545 s.\n"
     ]
    }
   ],
   "source": [
    "# Read files\n",
    "pandas_hdf_input_source = \"\"\"for i in range(100):\n",
    "    new_data = pd.read_hdf(\"temptemp_{0:03d}.hdf\".format(i), key=\"table\", parse_dates=[0,])\n",
    "\"\"\"\n",
    "\n",
    "print(\"Reading 100 files from disk takes {0:.3f} s.\"\n",
    "      .format(mytimeit(pandas_hdf_input_source)))"
   ]
  },
  {
   "cell_type": "code",
   "execution_count": 13,
   "metadata": {},
   "outputs": [],
   "source": [
    "os_del_success = os.system('rm ./temptemp*.hdf')"
   ]
  },
  {
   "cell_type": "markdown",
   "metadata": {},
   "source": [
    "### Pandas write to tabular HDF5 - single file"
   ]
  },
  {
   "cell_type": "code",
   "execution_count": 14,
   "metadata": {},
   "outputs": [
    {
     "name": "stdout",
     "output_type": "stream",
     "text": [
      "Writing single file with 100 tables to disk takes 0.859 s.\n"
     ]
    }
   ],
   "source": [
    "pandas_hdf_single_output_source = \"\"\"for i in range(100):\n",
    "    (raw_data[[\"Timestamp\", \"Count\"]]\n",
    "     .to_hdf(\"temptemp.hdf\", \"table_{0:03d}\".format(i)))\n",
    "\"\"\"\n",
    "\n",
    "print(\"Writing single file with 100 tables to disk takes {0:.3f} s.\"\n",
    "      .format(mytimeit(pandas_hdf_single_output_source)))"
   ]
  },
  {
   "cell_type": "code",
   "execution_count": 15,
   "metadata": {},
   "outputs": [
    {
     "name": "stdout",
     "output_type": "stream",
     "text": [
      "Size of file on disk: 78.88 MB\n"
     ]
    }
   ],
   "source": [
    "print(\"Size of file on disk: {0:.2f} MB\"\n",
    "      .format(os.path.getsize(\"temptemp.hdf\") / 1024.**2))"
   ]
  },
  {
   "cell_type": "code",
   "execution_count": 16,
   "metadata": {},
   "outputs": [
    {
     "name": "stdout",
     "output_type": "stream",
     "text": [
      "Reading file from disk takes 0.622 s.\n"
     ]
    }
   ],
   "source": [
    "# Read files\n",
    "pandas_hdf_input_source = \"\"\"for i in range(100):\n",
    "    new_data = pd.read_hdf(\"temptemp.hdf\", key=\"table_{0:03d}\".format(i), parse_dates=[0,])\n",
    "\"\"\"\n",
    "\n",
    "print(\"Reading file from disk takes {0:.3f} s.\"\n",
    "      .format(mytimeit(pandas_hdf_input_source)))"
   ]
  },
  {
   "cell_type": "code",
   "execution_count": 17,
   "metadata": {},
   "outputs": [],
   "source": [
    "os_del_success = os.system('rm ./temptemp.hdf')"
   ]
  },
  {
   "cell_type": "markdown",
   "metadata": {},
   "source": [
    "### Dask write to tabular HDF5 - multi-file"
   ]
  },
  {
   "cell_type": "code",
   "execution_count": 18,
   "metadata": {},
   "outputs": [],
   "source": [
    "dask_data = dd.from_pandas(raw_data, npartitions=1)"
   ]
  },
  {
   "cell_type": "code",
   "execution_count": 19,
   "metadata": {},
   "outputs": [
    {
     "data": {
      "text/html": [
       "<div>\n",
       "<style scoped>\n",
       "    .dataframe tbody tr th:only-of-type {\n",
       "        vertical-align: middle;\n",
       "    }\n",
       "\n",
       "    .dataframe tbody tr th {\n",
       "        vertical-align: top;\n",
       "    }\n",
       "\n",
       "    .dataframe thead th {\n",
       "        text-align: right;\n",
       "    }\n",
       "</style>\n",
       "<table border=\"1\" class=\"dataframe\">\n",
       "  <thead>\n",
       "    <tr style=\"text-align: right;\">\n",
       "      <th></th>\n",
       "      <th>Timestamp</th>\n",
       "    </tr>\n",
       "  </thead>\n",
       "  <tbody>\n",
       "    <tr>\n",
       "      <th>0</th>\n",
       "      <td>2011-01-01 00:00:00</td>\n",
       "    </tr>\n",
       "    <tr>\n",
       "      <th>1</th>\n",
       "      <td>2011-01-01 00:15:00</td>\n",
       "    </tr>\n",
       "    <tr>\n",
       "      <th>2</th>\n",
       "      <td>2011-01-01 00:30:00</td>\n",
       "    </tr>\n",
       "    <tr>\n",
       "      <th>3</th>\n",
       "      <td>2011-01-01 00:45:00</td>\n",
       "    </tr>\n",
       "    <tr>\n",
       "      <th>4</th>\n",
       "      <td>2011-01-01 01:00:00</td>\n",
       "    </tr>\n",
       "    <tr>\n",
       "      <th>5</th>\n",
       "      <td>2011-01-01 01:15:00</td>\n",
       "    </tr>\n",
       "    <tr>\n",
       "      <th>6</th>\n",
       "      <td>2011-01-01 01:30:00</td>\n",
       "    </tr>\n",
       "    <tr>\n",
       "      <th>7</th>\n",
       "      <td>2011-01-01 01:45:00</td>\n",
       "    </tr>\n",
       "    <tr>\n",
       "      <th>8</th>\n",
       "      <td>2011-01-01 02:00:00</td>\n",
       "    </tr>\n",
       "    <tr>\n",
       "      <th>9</th>\n",
       "      <td>2011-01-01 02:15:00</td>\n",
       "    </tr>\n",
       "    <tr>\n",
       "      <th>10</th>\n",
       "      <td>2011-01-01 02:30:00</td>\n",
       "    </tr>\n",
       "  </tbody>\n",
       "</table>\n",
       "</div>"
      ],
      "text/plain": [
       "             Timestamp\n",
       "0  2011-01-01 00:00:00\n",
       "1  2011-01-01 00:15:00\n",
       "2  2011-01-01 00:30:00\n",
       "3  2011-01-01 00:45:00\n",
       "4  2011-01-01 01:00:00\n",
       "5  2011-01-01 01:15:00\n",
       "6  2011-01-01 01:30:00\n",
       "7  2011-01-01 01:45:00\n",
       "8  2011-01-01 02:00:00\n",
       "9  2011-01-01 02:15:00\n",
       "10 2011-01-01 02:30:00"
      ]
     },
     "execution_count": 19,
     "metadata": {},
     "output_type": "execute_result"
    }
   ],
   "source": [
    "dask_data.loc[0:10, ['Timestamp']].compute()"
   ]
  },
  {
   "cell_type": "code",
   "execution_count": 20,
   "metadata": {},
   "outputs": [
    {
     "name": "stdout",
     "output_type": "stream",
     "text": [
      "Writing 100 files to disk takes 1.667 s.\n"
     ]
    }
   ],
   "source": [
    "dask_hdf_output_source = \"\"\"for i in range(100):\n",
    "    (dask_data[[\"Timestamp\", \"Count\"]]\n",
    "     .to_hdf(\"temptemp_{0:03d}.hdf\".format(i), \"table\"))\n",
    "\"\"\"\n",
    "\n",
    "print(\"Writing 100 files to disk takes {0:.3f} s.\"\n",
    "      .format(mytimeit(dask_hdf_output_source)))"
   ]
  },
  {
   "cell_type": "code",
   "execution_count": 21,
   "metadata": {},
   "outputs": [
    {
     "name": "stdout",
     "output_type": "stream",
     "text": [
      "Size of files on disk: 84.34 MB\n"
     ]
    }
   ],
   "source": [
    "print(\"Size of files on disk: {0:.2f} MB\"\n",
    "      .format(100. * os.path.getsize(\"temptemp_000.hdf\") / 1024.**2))"
   ]
  },
  {
   "cell_type": "code",
   "execution_count": 22,
   "metadata": {},
   "outputs": [
    {
     "name": "stdout",
     "output_type": "stream",
     "text": [
      "Reading 100 files from disk into one big file takes 1.446 s.\n"
     ]
    }
   ],
   "source": [
    "# Read files as one big file.  The output is incorrect, since\n",
    "# the 100 files aren't sections of a larger file...\n",
    "dask_hdf_input_source = \"\"\"new_data = (\n",
    "    dd.read_hdf(\"temptemp*.hdf\", key=\"table\"))\n",
    "\"\"\"\n",
    "\n",
    "print(\"Reading 100 files from disk into one big file takes {0:.3f} s.\"\n",
    "      .format(mytimeit(dask_hdf_input_source)))"
   ]
  },
  {
   "cell_type": "code",
   "execution_count": 23,
   "metadata": {},
   "outputs": [],
   "source": [
    "os_del_success = os.system('rm ./temptemp*.hdf')"
   ]
  },
  {
   "cell_type": "markdown",
   "metadata": {},
   "source": [
    "### Dask write to tabular HDF5 - single file"
   ]
  },
  {
   "cell_type": "code",
   "execution_count": 24,
   "metadata": {},
   "outputs": [
    {
     "name": "stdout",
     "output_type": "stream",
     "text": [
      "Writing single file with 100 tables to disk takes 1.676 s.\n"
     ]
    }
   ],
   "source": [
    "# Keep getting \"This HDFStore is not partitionable\" when using timeit.timeit, so\n",
    "# switching to time.\n",
    "\n",
    "# Based on https://github.com/dask/dask/issues/2755.\n",
    "start_time = time.process_time()\n",
    "with pd.HDFStore(\"temptemp.hdf\", mode='w') as fh:\n",
    "    for i in range(100):\n",
    "        fh.put(\"table_{0:03d}\".format(i),\n",
    "               dask_data[[\"Timestamp\", \"Count\"]].compute(),\n",
    "               format='table')\n",
    "end_time = time.process_time()\n",
    "\n",
    "print(\"Writing single file with 100 tables to disk takes {0:.3f} s.\"\n",
    "      .format(end_time - start_time))"
   ]
  },
  {
   "cell_type": "code",
   "execution_count": 25,
   "metadata": {},
   "outputs": [
    {
     "name": "stdout",
     "output_type": "stream",
     "text": [
      "Size of file on disk: 84.22 MB\n"
     ]
    }
   ],
   "source": [
    "print(\"Size of file on disk: {0:.2f} MB\"\n",
    "      .format(os.path.getsize(\"temptemp.hdf\") / 1024.**2))"
   ]
  },
  {
   "cell_type": "code",
   "execution_count": 26,
   "metadata": {},
   "outputs": [
    {
     "name": "stdout",
     "output_type": "stream",
     "text": [
      "Reading file from disk takes 8.076 s.\n"
     ]
    }
   ],
   "source": [
    "start_time = time.process_time()\n",
    "for i in range(100):\n",
    "    new_data = dd.read_hdf(\"temptemp.hdf\",\n",
    "                           key=\"table_{0:03d}\".format(i))\n",
    "end_time = time.process_time()\n",
    "\n",
    "print(\"Reading file from disk takes {0:.3f} s.\"\n",
    "      .format(end_time - start_time))"
   ]
  },
  {
   "cell_type": "code",
   "execution_count": 27,
   "metadata": {},
   "outputs": [],
   "source": [
    "os_del_success = os.system('rm ./temptemp.hdf')"
   ]
  },
  {
   "cell_type": "markdown",
   "metadata": {},
   "source": [
    "Kind of feel like Dask isn't the right tool for this job.  Dask DataFrame excels where data is large and spread over multiple files, but have to be reconstructed back to a single massive table.  This isn't the case with us - we often have to analyze a very small section of the data on disk."
   ]
  },
  {
   "cell_type": "markdown",
   "metadata": {},
   "source": [
    "### Pandas write to numerical HDF5 - single file\n",
    "\n",
    "It looks like writing to a single HDF file is generically faster than writing to hundreds of tiny ones, so let's just try that.\n"
   ]
  },
  {
   "cell_type": "code",
   "execution_count": 28,
   "metadata": {},
   "outputs": [
    {
     "name": "stdout",
     "output_type": "stream",
     "text": [
      "Writing single file with 100 tables to disk takes 0.935 s.\n"
     ]
    }
   ],
   "source": [
    "pandas_hdf_single_output_source = \"\"\"for i in range(100):\n",
    "    (raw_data[[\"Timedelta_hr\", \"Count\"]]\n",
    "     .to_hdf(\"temptemp.hdf\", \"table_{0:03d}\".format(i)))\n",
    "\"\"\"\n",
    "\n",
    "print(\"Writing single file with 100 tables to disk takes {0:.3f} s.\"\n",
    "      .format(mytimeit(pandas_hdf_single_output_source)))"
   ]
  },
  {
   "cell_type": "code",
   "execution_count": 29,
   "metadata": {},
   "outputs": [
    {
     "name": "stdout",
     "output_type": "stream",
     "text": [
      "Size of file on disk: 78.88 MB\n"
     ]
    }
   ],
   "source": [
    "print(\"Size of file on disk: {0:.2f} MB\"\n",
    "      .format(os.path.getsize(\"temptemp.hdf\") / 1024.**2))"
   ]
  },
  {
   "cell_type": "code",
   "execution_count": 30,
   "metadata": {},
   "outputs": [
    {
     "name": "stdout",
     "output_type": "stream",
     "text": [
      "Reading file from disk takes 0.694 s.\n"
     ]
    }
   ],
   "source": [
    "# Read files\n",
    "pandas_hdf_input_source = \"\"\"for i in range(100):\n",
    "    new_data = pd.read_hdf(\"temptemp.hdf\", key=\"table_{0:03d}\".format(i), parse_dates=[0,])\n",
    "\"\"\"\n",
    "\n",
    "print(\"Reading file from disk takes {0:.3f} s.\"\n",
    "      .format(mytimeit(pandas_hdf_input_source)))"
   ]
  },
  {
   "cell_type": "code",
   "execution_count": 31,
   "metadata": {},
   "outputs": [],
   "source": [
    "os_del_success = os.system('rm ./temptemp.hdf')"
   ]
  },
  {
   "cell_type": "markdown",
   "metadata": {},
   "source": [
    "### PyTables write to numerical HDF5 - single file\n",
    "\n",
    "Based on the [PyTables tutorial](https://www.pytables.org/usersguide/tutorials.html) it looks like we can only populate tables with row data, not column, which is silly if we have lots of rows and only a handful of columns.  Use their array logic instead."
   ]
  },
  {
   "cell_type": "code",
   "execution_count": 73,
   "metadata": {},
   "outputs": [
    {
     "name": "stdout",
     "output_type": "stream",
     "text": [
      "Writing 100 two-column files to disk takes 0.163 s.\n"
     ]
    }
   ],
   "source": [
    "# Write test\n",
    "start_time = time.process_time()\n",
    "\n",
    "with tables.open_file(\"temptemp.hdf\", mode=\"w\", title=\"File IO test\") as fh:\n",
    "    for i in range(100):\n",
    "        group = fh.create_group(\"/\", \"table_{0:03d}\".format(i),\n",
    "                                \"Readout of counter {0:03d}\".format(i))\n",
    "        group._v_attrs.start_time = str(raw_data.loc[0, 'Timestamp'])\n",
    "        group._v_attrs.centreline_id = raw_data.loc[0, 'Centreline ID']\n",
    "        group._v_attrs.direction = raw_data.loc[0, 'Direction']\n",
    "        # Apparently we don't have to specify a dtype; it's auto-detected!\n",
    "        success = fh.create_array(\n",
    "            group, 'timedelta', obj=raw_data['Timedelta_hr'].values,\n",
    "            title=\"Time in hours from {0}\".format(str(raw_data.loc[0, 'Timestamp'])))\n",
    "        success = fh.create_array(\n",
    "            group, 'count', obj=raw_data['Count'].values,\n",
    "            title=\"Vehicle count\".format(str(raw_data.loc[0, 'Timestamp'])))\n",
    "\n",
    "end_time = time.process_time()\n",
    "\n",
    "print(\"Writing 100 two-column files to disk takes {0:.3f} s.\"\n",
    "      .format(end_time - start_time))"
   ]
  },
  {
   "cell_type": "code",
   "execution_count": 74,
   "metadata": {},
   "outputs": [
    {
     "name": "stdout",
     "output_type": "stream",
     "text": [
      "Size of file on disk: 52.35 MB\n"
     ]
    }
   ],
   "source": [
    "print(\"Size of file on disk: {0:.2f} MB\"\n",
    "      .format(os.path.getsize(\"temptemp.hdf\") / 1024.**2))"
   ]
  },
  {
   "cell_type": "code",
   "execution_count": 75,
   "metadata": {},
   "outputs": [
    {
     "name": "stdout",
     "output_type": "stream",
     "text": [
      "temptemp.hdf (File) 'File IO test'\n",
      "Last modif.: 'Sun Sep 22 17:35:13 2019'\n",
      "Object Tree: \n",
      "/ (RootGroup) 'File IO test'\n",
      "/table_000 (Group) 'Readout of counter 000'\n",
      "/table_000/count (Array(34165,)) 'Vehicle count'\n",
      "/table_000/timedelta (Array(34165,)) 'Time in hours from 2011-01-01 00:00:00'\n",
      "/table_001 (Group) 'Readout of counter 001'\n",
      "/table_001/count (Array(34165,)) 'Vehicle count'\n",
      "/table_001/timedelta (Array(34165,)) 'Time in hours from 2011-01-01 00:00:00'\n",
      "/table_002 (Group) 'Readout of counter 002'\n",
      "/table_002/count (Array(34165,)) 'Vehicle count'\n",
      "/table_002/timedelta (Array(34165,)) 'Time in hours from 2011-01-01 00:00:00'\n",
      "/table_003 (Group) 'Readout of counter 003'\n",
      "/table_003/count (Array(34165,)) 'Vehicle count'\n",
      "/table_003/timedelta (Array(34165,)) 'Time in hours from 2011-01-01 00:00:00'\n",
      "/table_004 (Group) 'Readout of counter 004'\n",
      "/table_004/count (Array(34165,)) 'Vehicle count'\n",
      "/table_004/timedelta (Array(34165,)) 'Time in hours from 2011-01-01 00:00:00'\n",
      "/table_005 (Group) 'Readout of counter 005'\n",
      "/table_005/count (Array(34165,)) 'Vehicle count'\n",
      "/table_005/timedelta (Array(34165,)) 'Time in hours from 2011-01-01 00:00:00'\n",
      "/table_006 (Group) 'Readout of counter 006'\n",
      "/table_006/count (Array(34165,)) 'Vehicle count'\n",
      "/table_006/timedelta (Array(34165,)) 'Time in hours from 2011-01-01 00:00:00'\n",
      "/table_007 (Group) 'Readout of counter 007'\n",
      "/table_007/count (Array(34165,)) 'Vehicle count'\n",
      "/table_007/timedelta (Array(34165,)) 'Time in hours from 2011-01-01 00:00:00'\n",
      "/table_008 (Group) 'Readout of counter 008'\n",
      "/table_008/count (Array(34165,)) 'Vehicle count'\n",
      "/table_008/timedelta (Array(34165,)) 'Time in hours from 2011-01-01 00:00:00'\n",
      "/table_009 (Group) 'Readout of counter 009'\n",
      "/table_009/count (Array(34165,)) 'Vehicle count'\n",
      "/table_009/timedelta (Array(34165,)) 'Time in hours from 2011-01-01 00:00:00'\n",
      "/table_010 (Group) 'Readout of counter 010'\n",
      "/table_010/count (Array(34165,)) 'Vehicle count'\n",
      "/table_010/timedelta (Array(34165,)) 'Time in hours from 2011-01-01 00:00:00'\n",
      "/table_011 (Group) 'Readout of counter 011'\n",
      "/table_011/count (Array(34165,)) 'Vehicle count'\n",
      "/table_011/timedelta (Array(34165,)) 'Time in hours from 2011-01-01 00:00:00'\n",
      "/table_012 (Group) 'Readout of counter 012'\n",
      "/table_012/count (Array(34165,)) 'Vehicle count'\n",
      "/table_012/timedelta (Array(34165,)) 'Time in hours from 2011-01-01 00:00:00'\n",
      "/table_013 (Group) 'Readout of counter 013'\n",
      "/table_013/count (Array(34165,)) 'Vehicle count'\n",
      "/table_013/timedelta (Array(34165,)) 'Time in hours from 2011-01-01 00:00:00'\n",
      "/table_014 (Group) 'Readout of counter 014'\n",
      "/table_014/count (Array(34165,)) 'Vehicle count'\n",
      "/table_014/timedelta (Array(34165,)) 'Time in hours from 2011-01-01 00:00:00'\n",
      "/table_015 (Group) 'Readout of counter 015'\n",
      "/table_015/count (Array(34165,)) 'Vehicle count'\n",
      "/table_015/timedelta (Array(34165,)) 'Time in hours from 2011-01-01 00:00:00'\n",
      "/table_016 (Group) 'Readout of counter 016'\n",
      "/table_016/count (Array(34165,)) 'Vehicle count'\n",
      "/table_016/timedelta (Array(34165,)) 'Time in hours from 2011-01-01 00:00:00'\n",
      "/table_017 (Group) 'Readout of counter 017'\n",
      "/table_017/count (Array(34165,)) 'Vehicle count'\n",
      "/table_017/timedelta (Array(34165,)) 'Time in hours from 2011-01-01 00:00:00'\n",
      "/table_018 (Group) 'Readout of counter 018'\n",
      "/table_018/count (Array(34165,)) 'Vehicle count'\n",
      "/table_018/timedelta (Array(34165,)) 'Time in hours from 2011-01-01 00:00:00'\n",
      "/table_019 (Group) 'Readout of counter 019'\n",
      "/table_019/count (Array(34165,)) 'Vehicle count'\n",
      "/table_019/timedelta (Array(34165,)) 'Time in hours from 2011-01-01 00:00:00'\n",
      "/table_020 (Group) 'Readout of counter 020'\n",
      "/table_020/count (Array(34165,)) 'Vehicle count'\n",
      "/table_020/timedelta (Array(34165,)) 'Time in hours from 2011-01-01 00:00:00'\n",
      "/table_021 (Group) 'Readout of counter 021'\n",
      "/table_021/count (Array(34165,)) 'Vehicle count'\n",
      "/table_021/timedelta (Array(34165,)) 'Time in hours from 2011-01-01 00:00:00'\n",
      "/table_022 (Group) 'Readout of counter 022'\n",
      "/table_022/count (Array(34165,)) 'Vehicle count'\n",
      "/table_022/timedelta (Array(34165,)) 'Time in hours from 2011-01-01 00:00:00'\n",
      "/table_023 (Group) 'Readout of counter 023'\n",
      "/table_023/count (Array(34165,)) 'Vehicle count'\n",
      "/table_023/timedelta (Array(34165,)) 'Time in hours from 2011-01-01 00:00:00'\n",
      "/table_024 (Group) 'Readout of counter 024'\n",
      "/table_024/count (Array(34165,)) 'Vehicle count'\n",
      "/table_024/timedelta (Array(34165,)) 'Time in hours from 2011-01-01 00:00:00'\n",
      "/table_025 (Group) 'Readout of counter 025'\n",
      "/table_025/count (Array(34165,)) 'Vehicle count'\n",
      "/table_025/timedelta (Array(34165,)) 'Time in hours from 2011-01-01 00:00:00'\n",
      "/table_026 (Group) 'Readout of counter 026'\n",
      "/table_026/count (Array(34165,)) 'Vehicle count'\n",
      "/table_026/timedelta (Array(34165,)) 'Time in hours from 2011-01-01 00:00:00'\n",
      "/table_027 (Group) 'Readout of counter 027'\n",
      "/table_027/count (Array(34165,)) 'Vehicle count'\n",
      "/table_027/timedelta (Array(34165,)) 'Time in hours from 2011-01-01 00:00:00'\n",
      "/table_028 (Group) 'Readout of counter 028'\n",
      "/table_028/count (Array(34165,)) 'Vehicle count'\n",
      "/table_028/timedelta (Array(34165,)) 'Time in hours from 2011-01-01 00:00:00'\n",
      "/table_029 (Group) 'Readout of counter 029'\n",
      "/table_029/count (Array(34165,)) 'Vehicle count'\n",
      "/table_029/timedelta (Array(34165,)) 'Time in hours from 2011-01-01 00:00:00'\n",
      "/table_030 (Group) 'Readout of counter 030'\n",
      "/table_030/count (Array(34165,)) 'Vehicle count'\n",
      "/table_030/timedelta (Array(34165,)) 'Time in hours from 2011-01-01 00:00:00'\n",
      "/table_031 (Group) 'Readout of counter 031'\n",
      "/table_031/count (Array(34165,)) 'Vehicle count'\n",
      "/table_031/timedelta (Array(34165,)) 'Time in hours from 2011-01-01 00:00:00'\n",
      "/table_032 (Group) 'Readout of counter 032'\n",
      "/table_032/count (Array(34165,)) 'Vehicle count'\n",
      "/table_032/timedelta (Array(34165,)) 'Time in hours from 2011-01-01 00:00:00'\n",
      "/table_033 (Group) 'Readout of counter 033'\n",
      "/table_033/count (Array(34165,)) 'Vehicle count'\n",
      "/table_033/timedelta (Array(34165,)) 'Time in hours from 2011-01-01 00:00:00'\n",
      "/table_034 (Group) 'Readout of counter 034'\n",
      "/table_034/count (Array(34165,)) 'Vehicle count'\n",
      "/table_034/timedelta (Array(34165,)) 'Time in hours from 2011-01-01 00:00:00'\n",
      "/table_035 (Group) 'Readout of counter 035'\n",
      "/table_035/count (Array(34165,)) 'Vehicle count'\n",
      "/table_035/timedelta (Array(34165,)) 'Time in hours from 2011-01-01 00:00:00'\n",
      "/table_036 (Group) 'Readout of counter 036'\n",
      "/table_036/count (Array(34165,)) 'Vehicle count'\n",
      "/table_036/timedelta (Array(34165,)) 'Time in hours from 2011-01-01 00:00:00'\n",
      "/table_037 (Group) 'Readout of counter 037'\n",
      "/table_037/count (Array(34165,)) 'Vehicle count'\n",
      "/table_037/timedelta (Array(34165,)) 'Time in hours from 2011-01-01 00:00:00'\n",
      "/table_038 (Group) 'Readout of counter 038'\n",
      "/table_038/count (Array(34165,)) 'Vehicle count'\n",
      "/table_038/timedelta (Array(34165,)) 'Time in hours from 2011-01-01 00:00:00'\n",
      "/table_039 (Group) 'Readout of counter 039'\n",
      "/table_039/count (Array(34165,)) 'Vehicle count'\n",
      "/table_039/timedelta (Array(34165,)) 'Time in hours from 2011-01-01 00:00:00'\n",
      "/table_040 (Group) 'Readout of counter 040'\n",
      "/table_040/count (Array(34165,)) 'Vehicle count'\n",
      "/table_040/timedelta (Array(34165,)) 'Time in hours from 2011-01-01 00:00:00'\n",
      "/table_041 (Group) 'Readout of counter 041'\n",
      "/table_041/count (Array(34165,)) 'Vehicle count'\n",
      "/table_041/timedelta (Array(34165,)) 'Time in hours from 2011-01-01 00:00:00'\n",
      "/table_042 (Group) 'Readout of counter 042'\n",
      "/table_042/count (Array(34165,)) 'Vehicle count'\n",
      "/table_042/timedelta (Array(34165,)) 'Time in hours from 2011-01-01 00:00:00'\n",
      "/table_043 (Group) 'Readout of counter 043'\n",
      "/table_043/count (Array(34165,)) 'Vehicle count'\n",
      "/table_043/timedelta (Array(34165,)) 'Time in hours from 2011-01-01 00:00:00'\n",
      "/table_044 (Group) 'Readout of counter 044'\n",
      "/table_044/count (Array(34165,)) 'Vehicle count'\n",
      "/table_044/timedelta (Array(34165,)) 'Time in hours from 2011-01-01 00:00:00'\n",
      "/table_045 (Group) 'Readout of counter 045'\n",
      "/table_045/count (Array(34165,)) 'Vehicle count'\n",
      "/table_045/timedelta (Array(34165,)) 'Time in hours from 2011-01-01 00:00:00'\n",
      "/table_046 (Group) 'Readout of counter 046'\n",
      "/table_046/count (Array(34165,)) 'Vehicle count'\n",
      "/table_046/timedelta (Array(34165,)) 'Time in hours from 2011-01-01 00:00:00'\n",
      "/table_047 (Group) 'Readout of counter 047'\n",
      "/table_047/count (Array(34165,)) 'Vehicle count'\n",
      "/table_047/timedelta (Array(34165,)) 'Time in hours from 2011-01-01 00:00:00'\n",
      "/table_048 (Group) 'Readout of counter 048'\n",
      "/table_048/count (Array(34165,)) 'Vehicle count'\n",
      "/table_048/timedelta (Array(34165,)) 'Time in hours from 2011-01-01 00:00:00'\n",
      "/table_049 (Group) 'Readout of counter 049'\n",
      "/table_049/count (Array(34165,)) 'Vehicle count'\n",
      "/table_049/timedelta (Array(34165,)) 'Time in hours from 2011-01-01 00:00:00'\n",
      "/table_050 (Group) 'Readout of counter 050'\n",
      "/table_050/count (Array(34165,)) 'Vehicle count'\n",
      "/table_050/timedelta (Array(34165,)) 'Time in hours from 2011-01-01 00:00:00'\n",
      "/table_051 (Group) 'Readout of counter 051'\n",
      "/table_051/count (Array(34165,)) 'Vehicle count'\n",
      "/table_051/timedelta (Array(34165,)) 'Time in hours from 2011-01-01 00:00:00'\n",
      "/table_052 (Group) 'Readout of counter 052'\n",
      "/table_052/count (Array(34165,)) 'Vehicle count'\n",
      "/table_052/timedelta (Array(34165,)) 'Time in hours from 2011-01-01 00:00:00'\n",
      "/table_053 (Group) 'Readout of counter 053'\n",
      "/table_053/count (Array(34165,)) 'Vehicle count'\n",
      "/table_053/timedelta (Array(34165,)) 'Time in hours from 2011-01-01 00:00:00'\n",
      "/table_054 (Group) 'Readout of counter 054'\n",
      "/table_054/count (Array(34165,)) 'Vehicle count'\n",
      "/table_054/timedelta (Array(34165,)) 'Time in hours from 2011-01-01 00:00:00'\n",
      "/table_055 (Group) 'Readout of counter 055'\n",
      "/table_055/count (Array(34165,)) 'Vehicle count'\n",
      "/table_055/timedelta (Array(34165,)) 'Time in hours from 2011-01-01 00:00:00'\n",
      "/table_056 (Group) 'Readout of counter 056'\n",
      "/table_056/count (Array(34165,)) 'Vehicle count'\n",
      "/table_056/timedelta (Array(34165,)) 'Time in hours from 2011-01-01 00:00:00'\n",
      "/table_057 (Group) 'Readout of counter 057'\n",
      "/table_057/count (Array(34165,)) 'Vehicle count'\n",
      "/table_057/timedelta (Array(34165,)) 'Time in hours from 2011-01-01 00:00:00'\n",
      "/table_058 (Group) 'Readout of counter 058'\n",
      "/table_058/count (Array(34165,)) 'Vehicle count'\n",
      "/table_058/timedelta (Array(34165,)) 'Time in hours from 2011-01-01 00:00:00'\n",
      "/table_059 (Group) 'Readout of counter 059'\n",
      "/table_059/count (Array(34165,)) 'Vehicle count'\n",
      "/table_059/timedelta (Array(34165,)) 'Time in hours from 2011-01-01 00:00:00'\n",
      "/table_060 (Group) 'Readout of counter 060'\n",
      "/table_060/count (Array(34165,)) 'Vehicle count'\n",
      "/table_060/timedelta (Array(34165,)) 'Time in hours from 2011-01-01 00:00:00'\n",
      "/table_061 (Group) 'Readout of counter 061'\n",
      "/table_061/count (Array(34165,)) 'Vehicle count'\n",
      "/table_061/timedelta (Array(34165,)) 'Time in hours from 2011-01-01 00:00:00'\n",
      "/table_062 (Group) 'Readout of counter 062'\n",
      "/table_062/count (Array(34165,)) 'Vehicle count'\n",
      "/table_062/timedelta (Array(34165,)) 'Time in hours from 2011-01-01 00:00:00'\n",
      "/table_063 (Group) 'Readout of counter 063'\n",
      "/table_063/count (Array(34165,)) 'Vehicle count'\n",
      "/table_063/timedelta (Array(34165,)) 'Time in hours from 2011-01-01 00:00:00'\n",
      "/table_064 (Group) 'Readout of counter 064'\n",
      "/table_064/count (Array(34165,)) 'Vehicle count'\n",
      "/table_064/timedelta (Array(34165,)) 'Time in hours from 2011-01-01 00:00:00'\n",
      "/table_065 (Group) 'Readout of counter 065'\n",
      "/table_065/count (Array(34165,)) 'Vehicle count'\n",
      "/table_065/timedelta (Array(34165,)) 'Time in hours from 2011-01-01 00:00:00'\n",
      "/table_066 (Group) 'Readout of counter 066'\n",
      "/table_066/count (Array(34165,)) 'Vehicle count'\n",
      "/table_066/timedelta (Array(34165,)) 'Time in hours from 2011-01-01 00:00:00'\n",
      "/table_067 (Group) 'Readout of counter 067'\n",
      "/table_067/count (Array(34165,)) 'Vehicle count'\n",
      "/table_067/timedelta (Array(34165,)) 'Time in hours from 2011-01-01 00:00:00'\n",
      "/table_068 (Group) 'Readout of counter 068'\n",
      "/table_068/count (Array(34165,)) 'Vehicle count'\n",
      "/table_068/timedelta (Array(34165,)) 'Time in hours from 2011-01-01 00:00:00'\n",
      "/table_069 (Group) 'Readout of counter 069'\n",
      "/table_069/count (Array(34165,)) 'Vehicle count'\n",
      "/table_069/timedelta (Array(34165,)) 'Time in hours from 2011-01-01 00:00:00'\n",
      "/table_070 (Group) 'Readout of counter 070'\n",
      "/table_070/count (Array(34165,)) 'Vehicle count'\n",
      "/table_070/timedelta (Array(34165,)) 'Time in hours from 2011-01-01 00:00:00'\n",
      "/table_071 (Group) 'Readout of counter 071'\n",
      "/table_071/count (Array(34165,)) 'Vehicle count'\n",
      "/table_071/timedelta (Array(34165,)) 'Time in hours from 2011-01-01 00:00:00'\n",
      "/table_072 (Group) 'Readout of counter 072'\n",
      "/table_072/count (Array(34165,)) 'Vehicle count'\n",
      "/table_072/timedelta (Array(34165,)) 'Time in hours from 2011-01-01 00:00:00'\n",
      "/table_073 (Group) 'Readout of counter 073'\n",
      "/table_073/count (Array(34165,)) 'Vehicle count'\n",
      "/table_073/timedelta (Array(34165,)) 'Time in hours from 2011-01-01 00:00:00'\n",
      "/table_074 (Group) 'Readout of counter 074'\n",
      "/table_074/count (Array(34165,)) 'Vehicle count'\n",
      "/table_074/timedelta (Array(34165,)) 'Time in hours from 2011-01-01 00:00:00'\n",
      "/table_075 (Group) 'Readout of counter 075'\n",
      "/table_075/count (Array(34165,)) 'Vehicle count'\n",
      "/table_075/timedelta (Array(34165,)) 'Time in hours from 2011-01-01 00:00:00'\n",
      "/table_076 (Group) 'Readout of counter 076'\n",
      "/table_076/count (Array(34165,)) 'Vehicle count'\n",
      "/table_076/timedelta (Array(34165,)) 'Time in hours from 2011-01-01 00:00:00'\n",
      "/table_077 (Group) 'Readout of counter 077'\n",
      "/table_077/count (Array(34165,)) 'Vehicle count'\n",
      "/table_077/timedelta (Array(34165,)) 'Time in hours from 2011-01-01 00:00:00'\n",
      "/table_078 (Group) 'Readout of counter 078'\n",
      "/table_078/count (Array(34165,)) 'Vehicle count'\n",
      "/table_078/timedelta (Array(34165,)) 'Time in hours from 2011-01-01 00:00:00'\n",
      "/table_079 (Group) 'Readout of counter 079'\n",
      "/table_079/count (Array(34165,)) 'Vehicle count'\n",
      "/table_079/timedelta (Array(34165,)) 'Time in hours from 2011-01-01 00:00:00'\n",
      "/table_080 (Group) 'Readout of counter 080'\n",
      "/table_080/count (Array(34165,)) 'Vehicle count'\n",
      "/table_080/timedelta (Array(34165,)) 'Time in hours from 2011-01-01 00:00:00'\n",
      "/table_081 (Group) 'Readout of counter 081'\n",
      "/table_081/count (Array(34165,)) 'Vehicle count'\n",
      "/table_081/timedelta (Array(34165,)) 'Time in hours from 2011-01-01 00:00:00'\n",
      "/table_082 (Group) 'Readout of counter 082'\n",
      "/table_082/count (Array(34165,)) 'Vehicle count'\n",
      "/table_082/timedelta (Array(34165,)) 'Time in hours from 2011-01-01 00:00:00'\n",
      "/table_083 (Group) 'Readout of counter 083'\n",
      "/table_083/count (Array(34165,)) 'Vehicle count'\n",
      "/table_083/timedelta (Array(34165,)) 'Time in hours from 2011-01-01 00:00:00'\n",
      "/table_084 (Group) 'Readout of counter 084'\n",
      "/table_084/count (Array(34165,)) 'Vehicle count'\n",
      "/table_084/timedelta (Array(34165,)) 'Time in hours from 2011-01-01 00:00:00'\n",
      "/table_085 (Group) 'Readout of counter 085'\n",
      "/table_085/count (Array(34165,)) 'Vehicle count'\n",
      "/table_085/timedelta (Array(34165,)) 'Time in hours from 2011-01-01 00:00:00'\n",
      "/table_086 (Group) 'Readout of counter 086'\n",
      "/table_086/count (Array(34165,)) 'Vehicle count'\n",
      "/table_086/timedelta (Array(34165,)) 'Time in hours from 2011-01-01 00:00:00'\n",
      "/table_087 (Group) 'Readout of counter 087'\n",
      "/table_087/count (Array(34165,)) 'Vehicle count'\n",
      "/table_087/timedelta (Array(34165,)) 'Time in hours from 2011-01-01 00:00:00'\n",
      "/table_088 (Group) 'Readout of counter 088'\n",
      "/table_088/count (Array(34165,)) 'Vehicle count'\n",
      "/table_088/timedelta (Array(34165,)) 'Time in hours from 2011-01-01 00:00:00'\n",
      "/table_089 (Group) 'Readout of counter 089'\n",
      "/table_089/count (Array(34165,)) 'Vehicle count'\n",
      "/table_089/timedelta (Array(34165,)) 'Time in hours from 2011-01-01 00:00:00'\n",
      "/table_090 (Group) 'Readout of counter 090'\n",
      "/table_090/count (Array(34165,)) 'Vehicle count'\n",
      "/table_090/timedelta (Array(34165,)) 'Time in hours from 2011-01-01 00:00:00'\n",
      "/table_091 (Group) 'Readout of counter 091'\n",
      "/table_091/count (Array(34165,)) 'Vehicle count'\n",
      "/table_091/timedelta (Array(34165,)) 'Time in hours from 2011-01-01 00:00:00'\n",
      "/table_092 (Group) 'Readout of counter 092'\n",
      "/table_092/count (Array(34165,)) 'Vehicle count'\n",
      "/table_092/timedelta (Array(34165,)) 'Time in hours from 2011-01-01 00:00:00'\n",
      "/table_093 (Group) 'Readout of counter 093'\n",
      "/table_093/count (Array(34165,)) 'Vehicle count'\n",
      "/table_093/timedelta (Array(34165,)) 'Time in hours from 2011-01-01 00:00:00'\n",
      "/table_094 (Group) 'Readout of counter 094'\n",
      "/table_094/count (Array(34165,)) 'Vehicle count'\n",
      "/table_094/timedelta (Array(34165,)) 'Time in hours from 2011-01-01 00:00:00'\n",
      "/table_095 (Group) 'Readout of counter 095'\n",
      "/table_095/count (Array(34165,)) 'Vehicle count'\n",
      "/table_095/timedelta (Array(34165,)) 'Time in hours from 2011-01-01 00:00:00'\n",
      "/table_096 (Group) 'Readout of counter 096'\n",
      "/table_096/count (Array(34165,)) 'Vehicle count'\n",
      "/table_096/timedelta (Array(34165,)) 'Time in hours from 2011-01-01 00:00:00'\n",
      "/table_097 (Group) 'Readout of counter 097'\n",
      "/table_097/count (Array(34165,)) 'Vehicle count'\n",
      "/table_097/timedelta (Array(34165,)) 'Time in hours from 2011-01-01 00:00:00'\n",
      "/table_098 (Group) 'Readout of counter 098'\n",
      "/table_098/count (Array(34165,)) 'Vehicle count'\n",
      "/table_098/timedelta (Array(34165,)) 'Time in hours from 2011-01-01 00:00:00'\n",
      "/table_099 (Group) 'Readout of counter 099'\n",
      "/table_099/count (Array(34165,)) 'Vehicle count'\n",
      "/table_099/timedelta (Array(34165,)) 'Time in hours from 2011-01-01 00:00:00'\n",
      "\n"
     ]
    }
   ],
   "source": [
    "fh = tables.open_file(\"temptemp.hdf\", \"r\")\n",
    "print(fh)"
   ]
  },
  {
   "cell_type": "code",
   "execution_count": 76,
   "metadata": {},
   "outputs": [
    {
     "data": {
      "text/plain": [
       "[/table_000 (Group) 'Readout of counter 000'\n",
       "   children := ['timedelta' (Array), 'count' (Array)],\n",
       " /table_001 (Group) 'Readout of counter 001'\n",
       "   children := ['timedelta' (Array), 'count' (Array)],\n",
       " /table_002 (Group) 'Readout of counter 002'\n",
       "   children := ['timedelta' (Array), 'count' (Array)],\n",
       " /table_003 (Group) 'Readout of counter 003'\n",
       "   children := ['timedelta' (Array), 'count' (Array)],\n",
       " /table_004 (Group) 'Readout of counter 004'\n",
       "   children := ['timedelta' (Array), 'count' (Array)],\n",
       " /table_005 (Group) 'Readout of counter 005'\n",
       "   children := ['timedelta' (Array), 'count' (Array)],\n",
       " /table_006 (Group) 'Readout of counter 006'\n",
       "   children := ['timedelta' (Array), 'count' (Array)],\n",
       " /table_007 (Group) 'Readout of counter 007'\n",
       "   children := ['timedelta' (Array), 'count' (Array)],\n",
       " /table_008 (Group) 'Readout of counter 008'\n",
       "   children := ['timedelta' (Array), 'count' (Array)],\n",
       " /table_009 (Group) 'Readout of counter 009'\n",
       "   children := ['timedelta' (Array), 'count' (Array)],\n",
       " /table_010 (Group) 'Readout of counter 010'\n",
       "   children := ['timedelta' (Array), 'count' (Array)],\n",
       " /table_011 (Group) 'Readout of counter 011'\n",
       "   children := ['timedelta' (Array), 'count' (Array)],\n",
       " /table_012 (Group) 'Readout of counter 012'\n",
       "   children := ['timedelta' (Array), 'count' (Array)],\n",
       " /table_013 (Group) 'Readout of counter 013'\n",
       "   children := ['timedelta' (Array), 'count' (Array)],\n",
       " /table_014 (Group) 'Readout of counter 014'\n",
       "   children := ['timedelta' (Array), 'count' (Array)],\n",
       " /table_015 (Group) 'Readout of counter 015'\n",
       "   children := ['timedelta' (Array), 'count' (Array)],\n",
       " /table_016 (Group) 'Readout of counter 016'\n",
       "   children := ['timedelta' (Array), 'count' (Array)],\n",
       " /table_017 (Group) 'Readout of counter 017'\n",
       "   children := ['timedelta' (Array), 'count' (Array)],\n",
       " /table_018 (Group) 'Readout of counter 018'\n",
       "   children := ['timedelta' (Array), 'count' (Array)],\n",
       " /table_019 (Group) 'Readout of counter 019'\n",
       "   children := ['timedelta' (Array), 'count' (Array)],\n",
       " /table_020 (Group) 'Readout of counter 020'\n",
       "   children := ['timedelta' (Array), 'count' (Array)],\n",
       " /table_021 (Group) 'Readout of counter 021'\n",
       "   children := ['timedelta' (Array), 'count' (Array)],\n",
       " /table_022 (Group) 'Readout of counter 022'\n",
       "   children := ['timedelta' (Array), 'count' (Array)],\n",
       " /table_023 (Group) 'Readout of counter 023'\n",
       "   children := ['timedelta' (Array), 'count' (Array)],\n",
       " /table_024 (Group) 'Readout of counter 024'\n",
       "   children := ['timedelta' (Array), 'count' (Array)],\n",
       " /table_025 (Group) 'Readout of counter 025'\n",
       "   children := ['timedelta' (Array), 'count' (Array)],\n",
       " /table_026 (Group) 'Readout of counter 026'\n",
       "   children := ['timedelta' (Array), 'count' (Array)],\n",
       " /table_027 (Group) 'Readout of counter 027'\n",
       "   children := ['timedelta' (Array), 'count' (Array)],\n",
       " /table_028 (Group) 'Readout of counter 028'\n",
       "   children := ['timedelta' (Array), 'count' (Array)],\n",
       " /table_029 (Group) 'Readout of counter 029'\n",
       "   children := ['timedelta' (Array), 'count' (Array)],\n",
       " /table_030 (Group) 'Readout of counter 030'\n",
       "   children := ['timedelta' (Array), 'count' (Array)],\n",
       " /table_031 (Group) 'Readout of counter 031'\n",
       "   children := ['timedelta' (Array), 'count' (Array)],\n",
       " /table_032 (Group) 'Readout of counter 032'\n",
       "   children := ['timedelta' (Array), 'count' (Array)],\n",
       " /table_033 (Group) 'Readout of counter 033'\n",
       "   children := ['timedelta' (Array), 'count' (Array)],\n",
       " /table_034 (Group) 'Readout of counter 034'\n",
       "   children := ['timedelta' (Array), 'count' (Array)],\n",
       " /table_035 (Group) 'Readout of counter 035'\n",
       "   children := ['timedelta' (Array), 'count' (Array)],\n",
       " /table_036 (Group) 'Readout of counter 036'\n",
       "   children := ['timedelta' (Array), 'count' (Array)],\n",
       " /table_037 (Group) 'Readout of counter 037'\n",
       "   children := ['timedelta' (Array), 'count' (Array)],\n",
       " /table_038 (Group) 'Readout of counter 038'\n",
       "   children := ['timedelta' (Array), 'count' (Array)],\n",
       " /table_039 (Group) 'Readout of counter 039'\n",
       "   children := ['timedelta' (Array), 'count' (Array)],\n",
       " /table_040 (Group) 'Readout of counter 040'\n",
       "   children := ['timedelta' (Array), 'count' (Array)],\n",
       " /table_041 (Group) 'Readout of counter 041'\n",
       "   children := ['timedelta' (Array), 'count' (Array)],\n",
       " /table_042 (Group) 'Readout of counter 042'\n",
       "   children := ['timedelta' (Array), 'count' (Array)],\n",
       " /table_043 (Group) 'Readout of counter 043'\n",
       "   children := ['timedelta' (Array), 'count' (Array)],\n",
       " /table_044 (Group) 'Readout of counter 044'\n",
       "   children := ['timedelta' (Array), 'count' (Array)],\n",
       " /table_045 (Group) 'Readout of counter 045'\n",
       "   children := ['timedelta' (Array), 'count' (Array)],\n",
       " /table_046 (Group) 'Readout of counter 046'\n",
       "   children := ['timedelta' (Array), 'count' (Array)],\n",
       " /table_047 (Group) 'Readout of counter 047'\n",
       "   children := ['timedelta' (Array), 'count' (Array)],\n",
       " /table_048 (Group) 'Readout of counter 048'\n",
       "   children := ['timedelta' (Array), 'count' (Array)],\n",
       " /table_049 (Group) 'Readout of counter 049'\n",
       "   children := ['timedelta' (Array), 'count' (Array)],\n",
       " /table_050 (Group) 'Readout of counter 050'\n",
       "   children := ['timedelta' (Array), 'count' (Array)],\n",
       " /table_051 (Group) 'Readout of counter 051'\n",
       "   children := ['timedelta' (Array), 'count' (Array)],\n",
       " /table_052 (Group) 'Readout of counter 052'\n",
       "   children := ['timedelta' (Array), 'count' (Array)],\n",
       " /table_053 (Group) 'Readout of counter 053'\n",
       "   children := ['timedelta' (Array), 'count' (Array)],\n",
       " /table_054 (Group) 'Readout of counter 054'\n",
       "   children := ['timedelta' (Array), 'count' (Array)],\n",
       " /table_055 (Group) 'Readout of counter 055'\n",
       "   children := ['timedelta' (Array), 'count' (Array)],\n",
       " /table_056 (Group) 'Readout of counter 056'\n",
       "   children := ['timedelta' (Array), 'count' (Array)],\n",
       " /table_057 (Group) 'Readout of counter 057'\n",
       "   children := ['timedelta' (Array), 'count' (Array)],\n",
       " /table_058 (Group) 'Readout of counter 058'\n",
       "   children := ['timedelta' (Array), 'count' (Array)],\n",
       " /table_059 (Group) 'Readout of counter 059'\n",
       "   children := ['timedelta' (Array), 'count' (Array)],\n",
       " /table_060 (Group) 'Readout of counter 060'\n",
       "   children := ['timedelta' (Array), 'count' (Array)],\n",
       " /table_061 (Group) 'Readout of counter 061'\n",
       "   children := ['timedelta' (Array), 'count' (Array)],\n",
       " /table_062 (Group) 'Readout of counter 062'\n",
       "   children := ['timedelta' (Array), 'count' (Array)],\n",
       " /table_063 (Group) 'Readout of counter 063'\n",
       "   children := ['timedelta' (Array), 'count' (Array)],\n",
       " /table_064 (Group) 'Readout of counter 064'\n",
       "   children := ['timedelta' (Array), 'count' (Array)],\n",
       " /table_065 (Group) 'Readout of counter 065'\n",
       "   children := ['timedelta' (Array), 'count' (Array)],\n",
       " /table_066 (Group) 'Readout of counter 066'\n",
       "   children := ['timedelta' (Array), 'count' (Array)],\n",
       " /table_067 (Group) 'Readout of counter 067'\n",
       "   children := ['timedelta' (Array), 'count' (Array)],\n",
       " /table_068 (Group) 'Readout of counter 068'\n",
       "   children := ['timedelta' (Array), 'count' (Array)],\n",
       " /table_069 (Group) 'Readout of counter 069'\n",
       "   children := ['timedelta' (Array), 'count' (Array)],\n",
       " /table_070 (Group) 'Readout of counter 070'\n",
       "   children := ['timedelta' (Array), 'count' (Array)],\n",
       " /table_071 (Group) 'Readout of counter 071'\n",
       "   children := ['timedelta' (Array), 'count' (Array)],\n",
       " /table_072 (Group) 'Readout of counter 072'\n",
       "   children := ['timedelta' (Array), 'count' (Array)],\n",
       " /table_073 (Group) 'Readout of counter 073'\n",
       "   children := ['timedelta' (Array), 'count' (Array)],\n",
       " /table_074 (Group) 'Readout of counter 074'\n",
       "   children := ['timedelta' (Array), 'count' (Array)],\n",
       " /table_075 (Group) 'Readout of counter 075'\n",
       "   children := ['timedelta' (Array), 'count' (Array)],\n",
       " /table_076 (Group) 'Readout of counter 076'\n",
       "   children := ['timedelta' (Array), 'count' (Array)],\n",
       " /table_077 (Group) 'Readout of counter 077'\n",
       "   children := ['timedelta' (Array), 'count' (Array)],\n",
       " /table_078 (Group) 'Readout of counter 078'\n",
       "   children := ['timedelta' (Array), 'count' (Array)],\n",
       " /table_079 (Group) 'Readout of counter 079'\n",
       "   children := ['timedelta' (Array), 'count' (Array)],\n",
       " /table_080 (Group) 'Readout of counter 080'\n",
       "   children := ['timedelta' (Array), 'count' (Array)],\n",
       " /table_081 (Group) 'Readout of counter 081'\n",
       "   children := ['timedelta' (Array), 'count' (Array)],\n",
       " /table_082 (Group) 'Readout of counter 082'\n",
       "   children := ['timedelta' (Array), 'count' (Array)],\n",
       " /table_083 (Group) 'Readout of counter 083'\n",
       "   children := ['timedelta' (Array), 'count' (Array)],\n",
       " /table_084 (Group) 'Readout of counter 084'\n",
       "   children := ['timedelta' (Array), 'count' (Array)],\n",
       " /table_085 (Group) 'Readout of counter 085'\n",
       "   children := ['timedelta' (Array), 'count' (Array)],\n",
       " /table_086 (Group) 'Readout of counter 086'\n",
       "   children := ['timedelta' (Array), 'count' (Array)],\n",
       " /table_087 (Group) 'Readout of counter 087'\n",
       "   children := ['timedelta' (Array), 'count' (Array)],\n",
       " /table_088 (Group) 'Readout of counter 088'\n",
       "   children := ['timedelta' (Array), 'count' (Array)],\n",
       " /table_089 (Group) 'Readout of counter 089'\n",
       "   children := ['timedelta' (Array), 'count' (Array)],\n",
       " /table_090 (Group) 'Readout of counter 090'\n",
       "   children := ['timedelta' (Array), 'count' (Array)],\n",
       " /table_091 (Group) 'Readout of counter 091'\n",
       "   children := ['timedelta' (Array), 'count' (Array)],\n",
       " /table_092 (Group) 'Readout of counter 092'\n",
       "   children := ['timedelta' (Array), 'count' (Array)],\n",
       " /table_093 (Group) 'Readout of counter 093'\n",
       "   children := ['timedelta' (Array), 'count' (Array)],\n",
       " /table_094 (Group) 'Readout of counter 094'\n",
       "   children := ['timedelta' (Array), 'count' (Array)],\n",
       " /table_095 (Group) 'Readout of counter 095'\n",
       "   children := ['timedelta' (Array), 'count' (Array)],\n",
       " /table_096 (Group) 'Readout of counter 096'\n",
       "   children := ['timedelta' (Array), 'count' (Array)],\n",
       " /table_097 (Group) 'Readout of counter 097'\n",
       "   children := ['timedelta' (Array), 'count' (Array)],\n",
       " /table_098 (Group) 'Readout of counter 098'\n",
       "   children := ['timedelta' (Array), 'count' (Array)],\n",
       " /table_099 (Group) 'Readout of counter 099'\n",
       "   children := ['timedelta' (Array), 'count' (Array)]]"
      ]
     },
     "execution_count": 76,
     "metadata": {},
     "output_type": "execute_result"
    }
   ],
   "source": [
    "list(list(fh.walk_groups(\"/\"))[0])"
   ]
  },
  {
   "cell_type": "code",
   "execution_count": 77,
   "metadata": {},
   "outputs": [
    {
     "data": {
      "text/plain": [
       "20050591"
      ]
     },
     "execution_count": 77,
     "metadata": {},
     "output_type": "execute_result"
    }
   ],
   "source": [
    "fh.root[\"table_000\"]._v_attrs.centreline_id"
   ]
  },
  {
   "cell_type": "code",
   "execution_count": 78,
   "metadata": {},
   "outputs": [],
   "source": [
    "fh.close()"
   ]
  },
  {
   "cell_type": "code",
   "execution_count": 79,
   "metadata": {},
   "outputs": [
    {
     "name": "stdout",
     "output_type": "stream",
     "text": [
      "Reading file from disk takes 0.102 s.\n"
     ]
    }
   ],
   "source": [
    "start_time = time.process_time()\n",
    "with tables.open_file(\"temptemp.hdf\", mode=\"r\") as fh:\n",
    "    for i in range(100):\n",
    "            timedelta = fh.root[\"table_{0:03d}\".format(i)]['timedelta'].read()\n",
    "            counts = fh.root[\"table_{0:03d}\".format(i)]['count'].read()\n",
    "end_time = time.process_time()\n",
    "\n",
    "print(\"Reading file from disk takes {0:.3f} s.\"\n",
    "      .format(end_time - start_time))"
   ]
  },
  {
   "cell_type": "code",
   "execution_count": 80,
   "metadata": {},
   "outputs": [],
   "source": [
    "os_del_success = os.system('rm ./temptemp.hdf')"
   ]
  },
  {
   "cell_type": "markdown",
   "metadata": {},
   "source": [
    "### h5py write to numerical hdf5 - single file"
   ]
  },
  {
   "cell_type": "code",
   "execution_count": 96,
   "metadata": {},
   "outputs": [
    {
     "name": "stdout",
     "output_type": "stream",
     "text": [
      "Reading file from disk takes 0.195 s.\n"
     ]
    }
   ],
   "source": [
    "start_time = time.process_time()\n",
    "with h5py.File(\"temptemp.hdf\", 'w', libver='latest') as fh:\n",
    "    for i in range(100):\n",
    "        group = fh.create_group(\"table_{0:03d}\".format(i))\n",
    "        group.attrs['start_time'] = str(raw_data.loc[0, 'Timestamp'])\n",
    "        group.attrs['centreline_id'] = raw_data.loc[0, 'Centreline ID']\n",
    "        group.attrs['direction'] = raw_data.loc[0, 'Direction']\n",
    "        \n",
    "        ds_timedelta = group.create_dataset('timedelta', (raw_data.shape[0],),\n",
    "                                            dtype='float64')\n",
    "        ds_timedelta[:] = raw_data['Timedelta_hr'].values\n",
    "        ds_count = group.create_dataset('count', (raw_data.shape[0],),\n",
    "                                        dtype='uint32')\n",
    "        ds_count[:] = raw_data['Count'].values\n",
    "end_time = time.process_time()\n",
    "\n",
    "print(\"Reading file from disk takes {0:.3f} s.\"\n",
    "      .format(end_time - start_time))"
   ]
  },
  {
   "cell_type": "code",
   "execution_count": 97,
   "metadata": {},
   "outputs": [],
   "source": [
    "fh = h5py.File(\"temptemp.hdf\", 'r', libver='latest')"
   ]
  },
  {
   "cell_type": "code",
   "execution_count": 98,
   "metadata": {},
   "outputs": [
    {
     "data": {
      "text/plain": [
       "'2011-01-01 00:00:00'"
      ]
     },
     "execution_count": 98,
     "metadata": {},
     "output_type": "execute_result"
    }
   ],
   "source": [
    "fh['table_000'].attrs['start_time']"
   ]
  },
  {
   "cell_type": "code",
   "execution_count": 99,
   "metadata": {},
   "outputs": [
    {
     "data": {
      "text/plain": [
       "array([0.00000e+00, 2.50000e-01, 5.00000e-01, ..., 8.75925e+03,\n",
       "       8.75950e+03, 8.75975e+03])"
      ]
     },
     "execution_count": 99,
     "metadata": {},
     "output_type": "execute_result"
    }
   ],
   "source": [
    "fh['table_000']['timedelta'][:]"
   ]
  },
  {
   "cell_type": "code",
   "execution_count": 100,
   "metadata": {},
   "outputs": [],
   "source": [
    "fh.close()"
   ]
  },
  {
   "cell_type": "code",
   "execution_count": 101,
   "metadata": {},
   "outputs": [
    {
     "name": "stdout",
     "output_type": "stream",
     "text": [
      "Reading file from disk takes 0.052 s.\n"
     ]
    }
   ],
   "source": [
    "start_time = time.process_time()\n",
    "\n",
    "with h5py.File(\"temptemp.hdf\", 'r', libver='latest') as fh:\n",
    "    for i in range(100):\n",
    "        new_timedelta = fh[\"table_{0:03d}\".format(i)]['timedelta'][:]\n",
    "        new_count = fh[\"table_{0:03d}\".format(i)]['count'][:]\n",
    "\n",
    "end_time = time.process_time()\n",
    "\n",
    "print(\"Reading file from disk takes {0:.3f} s.\"\n",
    "      .format(end_time - start_time))"
   ]
  },
  {
   "cell_type": "code",
   "execution_count": 102,
   "metadata": {},
   "outputs": [
    {
     "name": "stdout",
     "output_type": "stream",
     "text": [
      "Reading file from disk using 4 workers takes 0.036 s.\n"
     ]
    }
   ],
   "source": [
    "# Following\n",
    "# https://www.machinelearningplus.com/python/parallel-processing-python/#5howtoparallelizeanyfunction\n",
    "\n",
    "def read_segment_of_file(start, end):\n",
    "    with h5py.File(\"temptemp.hdf\", 'r', libver='latest') as fh:\n",
    "        for i in range(start, end):\n",
    "            new_timedelta = fh[\"table_{0:03d}\".format(i)]['timedelta'][:]\n",
    "            new_count = fh[\"table_{0:03d}\".format(i)]['count'][:]\n",
    "    return True\n",
    "\n",
    "start_time = time.process_time()\n",
    "\n",
    "pp = multi.Pool(4)\n",
    "[pp.apply(read_segment_of_file, args=(start, start + 25)) for start in range(0, 100, 25)]\n",
    "\n",
    "end_time = time.process_time()\n",
    "\n",
    "print(\"Reading file from disk using 4 workers takes {0:.3f} s.\"\n",
    "      .format(end_time - start_time))\n",
    "\n",
    "pp.close()"
   ]
  },
  {
   "cell_type": "code",
   "execution_count": 103,
   "metadata": {},
   "outputs": [],
   "source": [
    "os_del_success = os.system('rm ./temptemp.hdf')"
   ]
  },
  {
   "cell_type": "markdown",
   "metadata": {},
   "source": [
    "### Joblib dump to gzip - multi-file"
   ]
  },
  {
   "cell_type": "code",
   "execution_count": 66,
   "metadata": {},
   "outputs": [
    {
     "name": "stdout",
     "output_type": "stream",
     "text": [
      "Writing 100 files to disk takes 0.073 s.\n"
     ]
    }
   ],
   "source": [
    "joblib_output_source = \"\"\"for i in range(100):\n",
    "    joblib.dump([raw_data['Timedelta_hr'].values,\n",
    "                 raw_data['Count'].values], \"temptemp_{0:03d}.gzip\".format(i))\n",
    "\"\"\"\n",
    "\n",
    "print(\"Writing 100 files to disk takes {0:.3f} s.\"\n",
    "      .format(mytimeit(joblib_output_source)))"
   ]
  },
  {
   "cell_type": "code",
   "execution_count": 67,
   "metadata": {},
   "outputs": [
    {
     "name": "stdout",
     "output_type": "stream",
     "text": [
      "Size of files on disk: 52.16 MB\n"
     ]
    }
   ],
   "source": [
    "print(\"Size of files on disk: {0:.2f} MB\"\n",
    "      .format(100 * os.path.getsize(\"temptemp_000.gzip\") / 1024.**2))"
   ]
  },
  {
   "cell_type": "code",
   "execution_count": 68,
   "metadata": {},
   "outputs": [
    {
     "name": "stdout",
     "output_type": "stream",
     "text": [
      "Reading 100 files from disk takes 0.034 s.\n"
     ]
    }
   ],
   "source": [
    "joblib_input_source = \"\"\"for i in range(100):\n",
    "    new_data = joblib.load(\"temptemp_{0:03d}.gzip\".format(i))\n",
    "\"\"\"\n",
    "\n",
    "print(\"Reading 100 files from disk takes {0:.3f} s.\"\n",
    "      .format(mytimeit(joblib_input_source)))"
   ]
  },
  {
   "cell_type": "code",
   "execution_count": 69,
   "metadata": {},
   "outputs": [],
   "source": [
    "os_del_success = os.system('rm ./temptemp*.gzip')"
   ]
  },
  {
   "cell_type": "markdown",
   "metadata": {},
   "source": [
    "### Pickle dump to binary - multi-file\n",
    "\n",
    "This should be equivalent to `numpy.dump` and `load`."
   ]
  },
  {
   "cell_type": "code",
   "execution_count": 89,
   "metadata": {},
   "outputs": [
    {
     "name": "stdout",
     "output_type": "stream",
     "text": [
      "Writing 100 files to disk takes 0.040 s.\n"
     ]
    }
   ],
   "source": [
    "joblib_output_source = \"\"\"for i in range(100):\n",
    "    with open(\"temptemp_{0:03d}.p\".format(i), 'wb') as fht:\n",
    "        pickle.dump([raw_data['Timedelta_hr'].values,\n",
    "                     raw_data['Count'].values], fht)\n",
    "\"\"\"\n",
    "\n",
    "print(\"Writing 100 files to disk takes {0:.3f} s.\"\n",
    "      .format(mytimeit(joblib_output_source)))"
   ]
  },
  {
   "cell_type": "code",
   "execution_count": 90,
   "metadata": {},
   "outputs": [
    {
     "name": "stdout",
     "output_type": "stream",
     "text": [
      "Size of files on disk: 52.16 MB\n"
     ]
    }
   ],
   "source": [
    "print(\"Size of files on disk: {0:.2f} MB\"\n",
    "      .format(100 * os.path.getsize(\"temptemp_000.p\") / 1024.**2))"
   ]
  },
  {
   "cell_type": "code",
   "execution_count": 91,
   "metadata": {},
   "outputs": [
    {
     "name": "stdout",
     "output_type": "stream",
     "text": [
      "Reading 100 files from disk takes 0.014 s.\n"
     ]
    }
   ],
   "source": [
    "joblib_input_source = \"\"\"for i in range(100):\n",
    "    with open(\"temptemp_{0:03d}.p\".format(i), 'rb') as fht:\n",
    "        new_data = pickle.load(fht)\n",
    "\"\"\"\n",
    "\n",
    "print(\"Reading 100 files from disk takes {0:.3f} s.\"\n",
    "      .format(mytimeit(joblib_input_source)))"
   ]
  },
  {
   "cell_type": "code",
   "execution_count": 92,
   "metadata": {},
   "outputs": [],
   "source": [
    "os_del_success = os.system('rm ./temptemp*.p')"
   ]
  },
  {
   "cell_type": "markdown",
   "metadata": {},
   "source": [
    "What does all of this mean?\n",
    "\n",
    "* We absolutely should not be dumping to plain text (but I knew that).\n",
    "* Dumping a `pandas` table is several times slower than dumping a `numpy` array (though doing the former may still be advantageous sometimes).\n",
    "  * When dumping to a tabular HDF5, we can save timestamps with no slowdown.\n",
    "* h5py is probably a little faster than PyTables, though it's hard to tell if this is due to variable system resources (since I didn't try repeating the code snippets a whole bunch of times like `timeit` does).\n",
    "* If we really need to dump and read temporary files (that the user should not touch), we can use pickling.\n",
    "* `dask` and `multiprocessing` aren't useful at the scale of file I/O we're looking at."
   ]
  },
  {
   "cell_type": "markdown",
   "metadata": {},
   "source": [
    "## Final Comparison and Chart\n",
    "\n",
    "To help differentiate the results of these experiments, let's up the number of files to 1000."
   ]
  },
  {
   "cell_type": "code",
   "execution_count": 108,
   "metadata": {},
   "outputs": [],
   "source": [
    "method = ['Pandas CSV', 'Pandas HDF', 'tables', 'h5py', 'pickle']\n",
    "write_time = []\n",
    "read_time = []"
   ]
  },
  {
   "cell_type": "code",
   "execution_count": 109,
   "metadata": {},
   "outputs": [],
   "source": [
    "# Pandas CSV\n",
    "start_time = time.process_time()\n",
    "for i in range(1000):\n",
    "    raw_data[[\"Timestamp\", \"Count\"]].to_csv(\"temptemp_{0:03d}.csv\".format(i))\n",
    "end_time = time.process_time()\n",
    "write_time.append(end_time - start_time)\n",
    "\n",
    "start_time = time.process_time()\n",
    "for i in range(1000):\n",
    "    new_data = pd.read_csv(\"temptemp_{0:03d}.csv\".format(i), parse_dates=[0,])\n",
    "end_time = time.process_time()\n",
    "read_time.append(end_time - start_time)\n",
    "\n",
    "os_del_success = os.system('rm ./temptemp_*.csv')"
   ]
  },
  {
   "cell_type": "code",
   "execution_count": 110,
   "metadata": {},
   "outputs": [],
   "source": [
    "# Pandas HDF\n",
    "start_time = time.process_time()\n",
    "for i in range(1000):\n",
    "    (raw_data[[\"Timestamp\", \"Count\"]]\n",
    "     .to_hdf(\"temptemp.hdf\", \"table_{0:03d}\".format(i)))\n",
    "end_time = time.process_time()\n",
    "write_time.append(end_time - start_time)\n",
    "\n",
    "start_time = time.process_time()\n",
    "for i in range(1000):\n",
    "    new_data = pd.read_hdf(\"temptemp.hdf\", key=\"table_{0:03d}\".format(i),\n",
    "                           parse_dates=[0,])\n",
    "end_time = time.process_time()\n",
    "read_time.append(end_time - start_time)\n",
    "\n",
    "os_del_success = os.system('rm ./temptemp.hdf')"
   ]
  },
  {
   "cell_type": "code",
   "execution_count": 111,
   "metadata": {},
   "outputs": [],
   "source": [
    "# tables\n",
    "start_time = time.process_time()\n",
    "with tables.open_file(\"temptemp.hdf\", mode=\"w\", title=\"File IO test\") as fh:\n",
    "    for i in range(1000):\n",
    "        group = fh.create_group(\"/\", \"table_{0:03d}\".format(i),\n",
    "                                \"Readout of counter {0:03d}\".format(i))\n",
    "        group._v_attrs.start_time = str(raw_data.loc[0, 'Timestamp'])\n",
    "        group._v_attrs.centreline_id = raw_data.loc[0, 'Centreline ID']\n",
    "        group._v_attrs.direction = raw_data.loc[0, 'Direction']\n",
    "        # Apparently we don't have to specify a dtype; it's auto-detected!\n",
    "        success = fh.create_array(\n",
    "            group, 'timedelta', obj=raw_data['Timedelta_hr'].values,\n",
    "            title=\"Time in hours from {0}\".format(str(raw_data.loc[0, 'Timestamp'])))\n",
    "        success = fh.create_array(\n",
    "            group, 'count', obj=raw_data['Count'].values,\n",
    "            title=\"Vehicle count\".format(str(raw_data.loc[0, 'Timestamp'])))\n",
    "end_time = time.process_time()\n",
    "write_time.append(end_time - start_time)\n",
    "\n",
    "start_time = time.process_time()\n",
    "with tables.open_file(\"temptemp.hdf\", mode=\"r\") as fh:\n",
    "    for i in range(1000):\n",
    "            timedelta = fh.root[\"table_{0:03d}\".format(i)]['timedelta'].read()\n",
    "            counts = fh.root[\"table_{0:03d}\".format(i)]['count'].read()\n",
    "end_time = time.process_time()\n",
    "read_time.append(end_time - start_time)\n",
    "\n",
    "os_del_success = os.system('rm ./temptemp.hdf')"
   ]
  },
  {
   "cell_type": "code",
   "execution_count": 112,
   "metadata": {},
   "outputs": [],
   "source": [
    "# h5py\n",
    "start_time = time.process_time()\n",
    "with h5py.File(\"temptemp.hdf\", 'w', libver='latest') as fh:\n",
    "    for i in range(1000):\n",
    "        group = fh.create_group(\"table_{0:03d}\".format(i))\n",
    "        group.attrs['start_time'] = str(raw_data.loc[0, 'Timestamp'])\n",
    "        group.attrs['centreline_id'] = raw_data.loc[0, 'Centreline ID']\n",
    "        group.attrs['direction'] = raw_data.loc[0, 'Direction']\n",
    "        \n",
    "        ds_timedelta = group.create_dataset('timedelta', (raw_data.shape[0],),\n",
    "                                            dtype='float64')\n",
    "        ds_timedelta[:] = raw_data['Timedelta_hr'].values\n",
    "        ds_count = group.create_dataset('count', (raw_data.shape[0],),\n",
    "                                        dtype='uint32')\n",
    "        ds_count[:] = raw_data['Count'].values\n",
    "end_time = time.process_time()\n",
    "write_time.append(end_time - start_time)\n",
    "\n",
    "start_time = time.process_time()\n",
    "with h5py.File(\"temptemp.hdf\", 'r', libver='latest') as fh:\n",
    "    for i in range(1000):\n",
    "        new_timedelta = fh[\"table_{0:03d}\".format(i)]['timedelta'][:]\n",
    "        new_count = fh[\"table_{0:03d}\".format(i)]['count'][:]\n",
    "end_time = time.process_time()\n",
    "read_time.append(end_time - start_time)\n",
    "\n",
    "os_del_success = os.system('rm ./temptemp.hdf')"
   ]
  },
  {
   "cell_type": "code",
   "execution_count": 113,
   "metadata": {},
   "outputs": [],
   "source": [
    "# pickle\n",
    "start_time = time.process_time()\n",
    "for i in range(1000):\n",
    "    with open(\"temptemp_{0:03d}.p\".format(i), 'wb') as fht:\n",
    "        pickle.dump([raw_data['Timedelta_hr'].values,\n",
    "                     raw_data['Count'].values], fht)\n",
    "end_time = time.process_time()\n",
    "write_time.append(end_time - start_time)\n",
    "\n",
    "start_time = time.process_time()\n",
    "for i in range(1000):\n",
    "    with open(\"temptemp_{0:03d}.p\".format(i), 'rb') as fht:\n",
    "        new_data = pickle.load(fht)\n",
    "end_time = time.process_time()\n",
    "read_time.append(end_time - start_time)\n",
    "\n",
    "os_del_success = os.system('rm ./temptemp_*.p')"
   ]
  },
  {
   "cell_type": "code",
   "execution_count": 144,
   "metadata": {},
   "outputs": [
    {
     "data": {
      "application/javascript": [
       "/* Put everything inside the global mpl namespace */\n",
       "window.mpl = {};\n",
       "\n",
       "\n",
       "mpl.get_websocket_type = function() {\n",
       "    if (typeof(WebSocket) !== 'undefined') {\n",
       "        return WebSocket;\n",
       "    } else if (typeof(MozWebSocket) !== 'undefined') {\n",
       "        return MozWebSocket;\n",
       "    } else {\n",
       "        alert('Your browser does not have WebSocket support.' +\n",
       "              'Please try Chrome, Safari or Firefox ≥ 6. ' +\n",
       "              'Firefox 4 and 5 are also supported but you ' +\n",
       "              'have to enable WebSockets in about:config.');\n",
       "    };\n",
       "}\n",
       "\n",
       "mpl.figure = function(figure_id, websocket, ondownload, parent_element) {\n",
       "    this.id = figure_id;\n",
       "\n",
       "    this.ws = websocket;\n",
       "\n",
       "    this.supports_binary = (this.ws.binaryType != undefined);\n",
       "\n",
       "    if (!this.supports_binary) {\n",
       "        var warnings = document.getElementById(\"mpl-warnings\");\n",
       "        if (warnings) {\n",
       "            warnings.style.display = 'block';\n",
       "            warnings.textContent = (\n",
       "                \"This browser does not support binary websocket messages. \" +\n",
       "                    \"Performance may be slow.\");\n",
       "        }\n",
       "    }\n",
       "\n",
       "    this.imageObj = new Image();\n",
       "\n",
       "    this.context = undefined;\n",
       "    this.message = undefined;\n",
       "    this.canvas = undefined;\n",
       "    this.rubberband_canvas = undefined;\n",
       "    this.rubberband_context = undefined;\n",
       "    this.format_dropdown = undefined;\n",
       "\n",
       "    this.image_mode = 'full';\n",
       "\n",
       "    this.root = $('<div/>');\n",
       "    this._root_extra_style(this.root)\n",
       "    this.root.attr('style', 'display: inline-block');\n",
       "\n",
       "    $(parent_element).append(this.root);\n",
       "\n",
       "    this._init_header(this);\n",
       "    this._init_canvas(this);\n",
       "    this._init_toolbar(this);\n",
       "\n",
       "    var fig = this;\n",
       "\n",
       "    this.waiting = false;\n",
       "\n",
       "    this.ws.onopen =  function () {\n",
       "            fig.send_message(\"supports_binary\", {value: fig.supports_binary});\n",
       "            fig.send_message(\"send_image_mode\", {});\n",
       "            if (mpl.ratio != 1) {\n",
       "                fig.send_message(\"set_dpi_ratio\", {'dpi_ratio': mpl.ratio});\n",
       "            }\n",
       "            fig.send_message(\"refresh\", {});\n",
       "        }\n",
       "\n",
       "    this.imageObj.onload = function() {\n",
       "            if (fig.image_mode == 'full') {\n",
       "                // Full images could contain transparency (where diff images\n",
       "                // almost always do), so we need to clear the canvas so that\n",
       "                // there is no ghosting.\n",
       "                fig.context.clearRect(0, 0, fig.canvas.width, fig.canvas.height);\n",
       "            }\n",
       "            fig.context.drawImage(fig.imageObj, 0, 0);\n",
       "        };\n",
       "\n",
       "    this.imageObj.onunload = function() {\n",
       "        fig.ws.close();\n",
       "    }\n",
       "\n",
       "    this.ws.onmessage = this._make_on_message_function(this);\n",
       "\n",
       "    this.ondownload = ondownload;\n",
       "}\n",
       "\n",
       "mpl.figure.prototype._init_header = function() {\n",
       "    var titlebar = $(\n",
       "        '<div class=\"ui-dialog-titlebar ui-widget-header ui-corner-all ' +\n",
       "        'ui-helper-clearfix\"/>');\n",
       "    var titletext = $(\n",
       "        '<div class=\"ui-dialog-title\" style=\"width: 100%; ' +\n",
       "        'text-align: center; padding: 3px;\"/>');\n",
       "    titlebar.append(titletext)\n",
       "    this.root.append(titlebar);\n",
       "    this.header = titletext[0];\n",
       "}\n",
       "\n",
       "\n",
       "\n",
       "mpl.figure.prototype._canvas_extra_style = function(canvas_div) {\n",
       "\n",
       "}\n",
       "\n",
       "\n",
       "mpl.figure.prototype._root_extra_style = function(canvas_div) {\n",
       "\n",
       "}\n",
       "\n",
       "mpl.figure.prototype._init_canvas = function() {\n",
       "    var fig = this;\n",
       "\n",
       "    var canvas_div = $('<div/>');\n",
       "\n",
       "    canvas_div.attr('style', 'position: relative; clear: both; outline: 0');\n",
       "\n",
       "    function canvas_keyboard_event(event) {\n",
       "        return fig.key_event(event, event['data']);\n",
       "    }\n",
       "\n",
       "    canvas_div.keydown('key_press', canvas_keyboard_event);\n",
       "    canvas_div.keyup('key_release', canvas_keyboard_event);\n",
       "    this.canvas_div = canvas_div\n",
       "    this._canvas_extra_style(canvas_div)\n",
       "    this.root.append(canvas_div);\n",
       "\n",
       "    var canvas = $('<canvas/>');\n",
       "    canvas.addClass('mpl-canvas');\n",
       "    canvas.attr('style', \"left: 0; top: 0; z-index: 0; outline: 0\")\n",
       "\n",
       "    this.canvas = canvas[0];\n",
       "    this.context = canvas[0].getContext(\"2d\");\n",
       "\n",
       "    var backingStore = this.context.backingStorePixelRatio ||\n",
       "\tthis.context.webkitBackingStorePixelRatio ||\n",
       "\tthis.context.mozBackingStorePixelRatio ||\n",
       "\tthis.context.msBackingStorePixelRatio ||\n",
       "\tthis.context.oBackingStorePixelRatio ||\n",
       "\tthis.context.backingStorePixelRatio || 1;\n",
       "\n",
       "    mpl.ratio = (window.devicePixelRatio || 1) / backingStore;\n",
       "\n",
       "    var rubberband = $('<canvas/>');\n",
       "    rubberband.attr('style', \"position: absolute; left: 0; top: 0; z-index: 1;\")\n",
       "\n",
       "    var pass_mouse_events = true;\n",
       "\n",
       "    canvas_div.resizable({\n",
       "        start: function(event, ui) {\n",
       "            pass_mouse_events = false;\n",
       "        },\n",
       "        resize: function(event, ui) {\n",
       "            fig.request_resize(ui.size.width, ui.size.height);\n",
       "        },\n",
       "        stop: function(event, ui) {\n",
       "            pass_mouse_events = true;\n",
       "            fig.request_resize(ui.size.width, ui.size.height);\n",
       "        },\n",
       "    });\n",
       "\n",
       "    function mouse_event_fn(event) {\n",
       "        if (pass_mouse_events)\n",
       "            return fig.mouse_event(event, event['data']);\n",
       "    }\n",
       "\n",
       "    rubberband.mousedown('button_press', mouse_event_fn);\n",
       "    rubberband.mouseup('button_release', mouse_event_fn);\n",
       "    // Throttle sequential mouse events to 1 every 20ms.\n",
       "    rubberband.mousemove('motion_notify', mouse_event_fn);\n",
       "\n",
       "    rubberband.mouseenter('figure_enter', mouse_event_fn);\n",
       "    rubberband.mouseleave('figure_leave', mouse_event_fn);\n",
       "\n",
       "    canvas_div.on(\"wheel\", function (event) {\n",
       "        event = event.originalEvent;\n",
       "        event['data'] = 'scroll'\n",
       "        if (event.deltaY < 0) {\n",
       "            event.step = 1;\n",
       "        } else {\n",
       "            event.step = -1;\n",
       "        }\n",
       "        mouse_event_fn(event);\n",
       "    });\n",
       "\n",
       "    canvas_div.append(canvas);\n",
       "    canvas_div.append(rubberband);\n",
       "\n",
       "    this.rubberband = rubberband;\n",
       "    this.rubberband_canvas = rubberband[0];\n",
       "    this.rubberband_context = rubberband[0].getContext(\"2d\");\n",
       "    this.rubberband_context.strokeStyle = \"#000000\";\n",
       "\n",
       "    this._resize_canvas = function(width, height) {\n",
       "        // Keep the size of the canvas, canvas container, and rubber band\n",
       "        // canvas in synch.\n",
       "        canvas_div.css('width', width)\n",
       "        canvas_div.css('height', height)\n",
       "\n",
       "        canvas.attr('width', width * mpl.ratio);\n",
       "        canvas.attr('height', height * mpl.ratio);\n",
       "        canvas.attr('style', 'width: ' + width + 'px; height: ' + height + 'px;');\n",
       "\n",
       "        rubberband.attr('width', width);\n",
       "        rubberband.attr('height', height);\n",
       "    }\n",
       "\n",
       "    // Set the figure to an initial 600x600px, this will subsequently be updated\n",
       "    // upon first draw.\n",
       "    this._resize_canvas(600, 600);\n",
       "\n",
       "    // Disable right mouse context menu.\n",
       "    $(this.rubberband_canvas).bind(\"contextmenu\",function(e){\n",
       "        return false;\n",
       "    });\n",
       "\n",
       "    function set_focus () {\n",
       "        canvas.focus();\n",
       "        canvas_div.focus();\n",
       "    }\n",
       "\n",
       "    window.setTimeout(set_focus, 100);\n",
       "}\n",
       "\n",
       "mpl.figure.prototype._init_toolbar = function() {\n",
       "    var fig = this;\n",
       "\n",
       "    var nav_element = $('<div/>')\n",
       "    nav_element.attr('style', 'width: 100%');\n",
       "    this.root.append(nav_element);\n",
       "\n",
       "    // Define a callback function for later on.\n",
       "    function toolbar_event(event) {\n",
       "        return fig.toolbar_button_onclick(event['data']);\n",
       "    }\n",
       "    function toolbar_mouse_event(event) {\n",
       "        return fig.toolbar_button_onmouseover(event['data']);\n",
       "    }\n",
       "\n",
       "    for(var toolbar_ind in mpl.toolbar_items) {\n",
       "        var name = mpl.toolbar_items[toolbar_ind][0];\n",
       "        var tooltip = mpl.toolbar_items[toolbar_ind][1];\n",
       "        var image = mpl.toolbar_items[toolbar_ind][2];\n",
       "        var method_name = mpl.toolbar_items[toolbar_ind][3];\n",
       "\n",
       "        if (!name) {\n",
       "            // put a spacer in here.\n",
       "            continue;\n",
       "        }\n",
       "        var button = $('<button/>');\n",
       "        button.addClass('ui-button ui-widget ui-state-default ui-corner-all ' +\n",
       "                        'ui-button-icon-only');\n",
       "        button.attr('role', 'button');\n",
       "        button.attr('aria-disabled', 'false');\n",
       "        button.click(method_name, toolbar_event);\n",
       "        button.mouseover(tooltip, toolbar_mouse_event);\n",
       "\n",
       "        var icon_img = $('<span/>');\n",
       "        icon_img.addClass('ui-button-icon-primary ui-icon');\n",
       "        icon_img.addClass(image);\n",
       "        icon_img.addClass('ui-corner-all');\n",
       "\n",
       "        var tooltip_span = $('<span/>');\n",
       "        tooltip_span.addClass('ui-button-text');\n",
       "        tooltip_span.html(tooltip);\n",
       "\n",
       "        button.append(icon_img);\n",
       "        button.append(tooltip_span);\n",
       "\n",
       "        nav_element.append(button);\n",
       "    }\n",
       "\n",
       "    var fmt_picker_span = $('<span/>');\n",
       "\n",
       "    var fmt_picker = $('<select/>');\n",
       "    fmt_picker.addClass('mpl-toolbar-option ui-widget ui-widget-content');\n",
       "    fmt_picker_span.append(fmt_picker);\n",
       "    nav_element.append(fmt_picker_span);\n",
       "    this.format_dropdown = fmt_picker[0];\n",
       "\n",
       "    for (var ind in mpl.extensions) {\n",
       "        var fmt = mpl.extensions[ind];\n",
       "        var option = $(\n",
       "            '<option/>', {selected: fmt === mpl.default_extension}).html(fmt);\n",
       "        fmt_picker.append(option)\n",
       "    }\n",
       "\n",
       "    // Add hover states to the ui-buttons\n",
       "    $( \".ui-button\" ).hover(\n",
       "        function() { $(this).addClass(\"ui-state-hover\");},\n",
       "        function() { $(this).removeClass(\"ui-state-hover\");}\n",
       "    );\n",
       "\n",
       "    var status_bar = $('<span class=\"mpl-message\"/>');\n",
       "    nav_element.append(status_bar);\n",
       "    this.message = status_bar[0];\n",
       "}\n",
       "\n",
       "mpl.figure.prototype.request_resize = function(x_pixels, y_pixels) {\n",
       "    // Request matplotlib to resize the figure. Matplotlib will then trigger a resize in the client,\n",
       "    // which will in turn request a refresh of the image.\n",
       "    this.send_message('resize', {'width': x_pixels, 'height': y_pixels});\n",
       "}\n",
       "\n",
       "mpl.figure.prototype.send_message = function(type, properties) {\n",
       "    properties['type'] = type;\n",
       "    properties['figure_id'] = this.id;\n",
       "    this.ws.send(JSON.stringify(properties));\n",
       "}\n",
       "\n",
       "mpl.figure.prototype.send_draw_message = function() {\n",
       "    if (!this.waiting) {\n",
       "        this.waiting = true;\n",
       "        this.ws.send(JSON.stringify({type: \"draw\", figure_id: this.id}));\n",
       "    }\n",
       "}\n",
       "\n",
       "\n",
       "mpl.figure.prototype.handle_save = function(fig, msg) {\n",
       "    var format_dropdown = fig.format_dropdown;\n",
       "    var format = format_dropdown.options[format_dropdown.selectedIndex].value;\n",
       "    fig.ondownload(fig, format);\n",
       "}\n",
       "\n",
       "\n",
       "mpl.figure.prototype.handle_resize = function(fig, msg) {\n",
       "    var size = msg['size'];\n",
       "    if (size[0] != fig.canvas.width || size[1] != fig.canvas.height) {\n",
       "        fig._resize_canvas(size[0], size[1]);\n",
       "        fig.send_message(\"refresh\", {});\n",
       "    };\n",
       "}\n",
       "\n",
       "mpl.figure.prototype.handle_rubberband = function(fig, msg) {\n",
       "    var x0 = msg['x0'] / mpl.ratio;\n",
       "    var y0 = (fig.canvas.height - msg['y0']) / mpl.ratio;\n",
       "    var x1 = msg['x1'] / mpl.ratio;\n",
       "    var y1 = (fig.canvas.height - msg['y1']) / mpl.ratio;\n",
       "    x0 = Math.floor(x0) + 0.5;\n",
       "    y0 = Math.floor(y0) + 0.5;\n",
       "    x1 = Math.floor(x1) + 0.5;\n",
       "    y1 = Math.floor(y1) + 0.5;\n",
       "    var min_x = Math.min(x0, x1);\n",
       "    var min_y = Math.min(y0, y1);\n",
       "    var width = Math.abs(x1 - x0);\n",
       "    var height = Math.abs(y1 - y0);\n",
       "\n",
       "    fig.rubberband_context.clearRect(\n",
       "        0, 0, fig.canvas.width, fig.canvas.height);\n",
       "\n",
       "    fig.rubberband_context.strokeRect(min_x, min_y, width, height);\n",
       "}\n",
       "\n",
       "mpl.figure.prototype.handle_figure_label = function(fig, msg) {\n",
       "    // Updates the figure title.\n",
       "    fig.header.textContent = msg['label'];\n",
       "}\n",
       "\n",
       "mpl.figure.prototype.handle_cursor = function(fig, msg) {\n",
       "    var cursor = msg['cursor'];\n",
       "    switch(cursor)\n",
       "    {\n",
       "    case 0:\n",
       "        cursor = 'pointer';\n",
       "        break;\n",
       "    case 1:\n",
       "        cursor = 'default';\n",
       "        break;\n",
       "    case 2:\n",
       "        cursor = 'crosshair';\n",
       "        break;\n",
       "    case 3:\n",
       "        cursor = 'move';\n",
       "        break;\n",
       "    }\n",
       "    fig.rubberband_canvas.style.cursor = cursor;\n",
       "}\n",
       "\n",
       "mpl.figure.prototype.handle_message = function(fig, msg) {\n",
       "    fig.message.textContent = msg['message'];\n",
       "}\n",
       "\n",
       "mpl.figure.prototype.handle_draw = function(fig, msg) {\n",
       "    // Request the server to send over a new figure.\n",
       "    fig.send_draw_message();\n",
       "}\n",
       "\n",
       "mpl.figure.prototype.handle_image_mode = function(fig, msg) {\n",
       "    fig.image_mode = msg['mode'];\n",
       "}\n",
       "\n",
       "mpl.figure.prototype.updated_canvas_event = function() {\n",
       "    // Called whenever the canvas gets updated.\n",
       "    this.send_message(\"ack\", {});\n",
       "}\n",
       "\n",
       "// A function to construct a web socket function for onmessage handling.\n",
       "// Called in the figure constructor.\n",
       "mpl.figure.prototype._make_on_message_function = function(fig) {\n",
       "    return function socket_on_message(evt) {\n",
       "        if (evt.data instanceof Blob) {\n",
       "            /* FIXME: We get \"Resource interpreted as Image but\n",
       "             * transferred with MIME type text/plain:\" errors on\n",
       "             * Chrome.  But how to set the MIME type?  It doesn't seem\n",
       "             * to be part of the websocket stream */\n",
       "            evt.data.type = \"image/png\";\n",
       "\n",
       "            /* Free the memory for the previous frames */\n",
       "            if (fig.imageObj.src) {\n",
       "                (window.URL || window.webkitURL).revokeObjectURL(\n",
       "                    fig.imageObj.src);\n",
       "            }\n",
       "\n",
       "            fig.imageObj.src = (window.URL || window.webkitURL).createObjectURL(\n",
       "                evt.data);\n",
       "            fig.updated_canvas_event();\n",
       "            fig.waiting = false;\n",
       "            return;\n",
       "        }\n",
       "        else if (typeof evt.data === 'string' && evt.data.slice(0, 21) == \"data:image/png;base64\") {\n",
       "            fig.imageObj.src = evt.data;\n",
       "            fig.updated_canvas_event();\n",
       "            fig.waiting = false;\n",
       "            return;\n",
       "        }\n",
       "\n",
       "        var msg = JSON.parse(evt.data);\n",
       "        var msg_type = msg['type'];\n",
       "\n",
       "        // Call the  \"handle_{type}\" callback, which takes\n",
       "        // the figure and JSON message as its only arguments.\n",
       "        try {\n",
       "            var callback = fig[\"handle_\" + msg_type];\n",
       "        } catch (e) {\n",
       "            console.log(\"No handler for the '\" + msg_type + \"' message type: \", msg);\n",
       "            return;\n",
       "        }\n",
       "\n",
       "        if (callback) {\n",
       "            try {\n",
       "                // console.log(\"Handling '\" + msg_type + \"' message: \", msg);\n",
       "                callback(fig, msg);\n",
       "            } catch (e) {\n",
       "                console.log(\"Exception inside the 'handler_\" + msg_type + \"' callback:\", e, e.stack, msg);\n",
       "            }\n",
       "        }\n",
       "    };\n",
       "}\n",
       "\n",
       "// from http://stackoverflow.com/questions/1114465/getting-mouse-location-in-canvas\n",
       "mpl.findpos = function(e) {\n",
       "    //this section is from http://www.quirksmode.org/js/events_properties.html\n",
       "    var targ;\n",
       "    if (!e)\n",
       "        e = window.event;\n",
       "    if (e.target)\n",
       "        targ = e.target;\n",
       "    else if (e.srcElement)\n",
       "        targ = e.srcElement;\n",
       "    if (targ.nodeType == 3) // defeat Safari bug\n",
       "        targ = targ.parentNode;\n",
       "\n",
       "    // jQuery normalizes the pageX and pageY\n",
       "    // pageX,Y are the mouse positions relative to the document\n",
       "    // offset() returns the position of the element relative to the document\n",
       "    var x = e.pageX - $(targ).offset().left;\n",
       "    var y = e.pageY - $(targ).offset().top;\n",
       "\n",
       "    return {\"x\": x, \"y\": y};\n",
       "};\n",
       "\n",
       "/*\n",
       " * return a copy of an object with only non-object keys\n",
       " * we need this to avoid circular references\n",
       " * http://stackoverflow.com/a/24161582/3208463\n",
       " */\n",
       "function simpleKeys (original) {\n",
       "  return Object.keys(original).reduce(function (obj, key) {\n",
       "    if (typeof original[key] !== 'object')\n",
       "        obj[key] = original[key]\n",
       "    return obj;\n",
       "  }, {});\n",
       "}\n",
       "\n",
       "mpl.figure.prototype.mouse_event = function(event, name) {\n",
       "    var canvas_pos = mpl.findpos(event)\n",
       "\n",
       "    if (name === 'button_press')\n",
       "    {\n",
       "        this.canvas.focus();\n",
       "        this.canvas_div.focus();\n",
       "    }\n",
       "\n",
       "    var x = canvas_pos.x * mpl.ratio;\n",
       "    var y = canvas_pos.y * mpl.ratio;\n",
       "\n",
       "    this.send_message(name, {x: x, y: y, button: event.button,\n",
       "                             step: event.step,\n",
       "                             guiEvent: simpleKeys(event)});\n",
       "\n",
       "    /* This prevents the web browser from automatically changing to\n",
       "     * the text insertion cursor when the button is pressed.  We want\n",
       "     * to control all of the cursor setting manually through the\n",
       "     * 'cursor' event from matplotlib */\n",
       "    event.preventDefault();\n",
       "    return false;\n",
       "}\n",
       "\n",
       "mpl.figure.prototype._key_event_extra = function(event, name) {\n",
       "    // Handle any extra behaviour associated with a key event\n",
       "}\n",
       "\n",
       "mpl.figure.prototype.key_event = function(event, name) {\n",
       "\n",
       "    // Prevent repeat events\n",
       "    if (name == 'key_press')\n",
       "    {\n",
       "        if (event.which === this._key)\n",
       "            return;\n",
       "        else\n",
       "            this._key = event.which;\n",
       "    }\n",
       "    if (name == 'key_release')\n",
       "        this._key = null;\n",
       "\n",
       "    var value = '';\n",
       "    if (event.ctrlKey && event.which != 17)\n",
       "        value += \"ctrl+\";\n",
       "    if (event.altKey && event.which != 18)\n",
       "        value += \"alt+\";\n",
       "    if (event.shiftKey && event.which != 16)\n",
       "        value += \"shift+\";\n",
       "\n",
       "    value += 'k';\n",
       "    value += event.which.toString();\n",
       "\n",
       "    this._key_event_extra(event, name);\n",
       "\n",
       "    this.send_message(name, {key: value,\n",
       "                             guiEvent: simpleKeys(event)});\n",
       "    return false;\n",
       "}\n",
       "\n",
       "mpl.figure.prototype.toolbar_button_onclick = function(name) {\n",
       "    if (name == 'download') {\n",
       "        this.handle_save(this, null);\n",
       "    } else {\n",
       "        this.send_message(\"toolbar_button\", {name: name});\n",
       "    }\n",
       "};\n",
       "\n",
       "mpl.figure.prototype.toolbar_button_onmouseover = function(tooltip) {\n",
       "    this.message.textContent = tooltip;\n",
       "};\n",
       "mpl.toolbar_items = [[\"Home\", \"Reset original view\", \"fa fa-home icon-home\", \"home\"], [\"Back\", \"Back to previous view\", \"fa fa-arrow-left icon-arrow-left\", \"back\"], [\"Forward\", \"Forward to next view\", \"fa fa-arrow-right icon-arrow-right\", \"forward\"], [\"\", \"\", \"\", \"\"], [\"Pan\", \"Pan axes with left mouse, zoom with right\", \"fa fa-arrows icon-move\", \"pan\"], [\"Zoom\", \"Zoom to rectangle\", \"fa fa-square-o icon-check-empty\", \"zoom\"], [\"\", \"\", \"\", \"\"], [\"Download\", \"Download plot\", \"fa fa-floppy-o icon-save\", \"download\"]];\n",
       "\n",
       "mpl.extensions = [\"eps\", \"jpeg\", \"pdf\", \"png\", \"ps\", \"raw\", \"svg\", \"tif\"];\n",
       "\n",
       "mpl.default_extension = \"png\";var comm_websocket_adapter = function(comm) {\n",
       "    // Create a \"websocket\"-like object which calls the given IPython comm\n",
       "    // object with the appropriate methods. Currently this is a non binary\n",
       "    // socket, so there is still some room for performance tuning.\n",
       "    var ws = {};\n",
       "\n",
       "    ws.close = function() {\n",
       "        comm.close()\n",
       "    };\n",
       "    ws.send = function(m) {\n",
       "        //console.log('sending', m);\n",
       "        comm.send(m);\n",
       "    };\n",
       "    // Register the callback with on_msg.\n",
       "    comm.on_msg(function(msg) {\n",
       "        //console.log('receiving', msg['content']['data'], msg);\n",
       "        // Pass the mpl event to the overridden (by mpl) onmessage function.\n",
       "        ws.onmessage(msg['content']['data'])\n",
       "    });\n",
       "    return ws;\n",
       "}\n",
       "\n",
       "mpl.mpl_figure_comm = function(comm, msg) {\n",
       "    // This is the function which gets called when the mpl process\n",
       "    // starts-up an IPython Comm through the \"matplotlib\" channel.\n",
       "\n",
       "    var id = msg.content.data.id;\n",
       "    // Get hold of the div created by the display call when the Comm\n",
       "    // socket was opened in Python.\n",
       "    var element = $(\"#\" + id);\n",
       "    var ws_proxy = comm_websocket_adapter(comm)\n",
       "\n",
       "    function ondownload(figure, format) {\n",
       "        window.open(figure.imageObj.src);\n",
       "    }\n",
       "\n",
       "    var fig = new mpl.figure(id, ws_proxy,\n",
       "                           ondownload,\n",
       "                           element.get(0));\n",
       "\n",
       "    // Call onopen now - mpl needs it, as it is assuming we've passed it a real\n",
       "    // web socket which is closed, not our websocket->open comm proxy.\n",
       "    ws_proxy.onopen();\n",
       "\n",
       "    fig.parent_element = element.get(0);\n",
       "    fig.cell_info = mpl.find_output_cell(\"<div id='\" + id + \"'></div>\");\n",
       "    if (!fig.cell_info) {\n",
       "        console.error(\"Failed to find cell for figure\", id, fig);\n",
       "        return;\n",
       "    }\n",
       "\n",
       "    var output_index = fig.cell_info[2]\n",
       "    var cell = fig.cell_info[0];\n",
       "\n",
       "};\n",
       "\n",
       "mpl.figure.prototype.handle_close = function(fig, msg) {\n",
       "    var width = fig.canvas.width/mpl.ratio\n",
       "    fig.root.unbind('remove')\n",
       "\n",
       "    // Update the output cell to use the data from the current canvas.\n",
       "    fig.push_to_output();\n",
       "    var dataURL = fig.canvas.toDataURL();\n",
       "    // Re-enable the keyboard manager in IPython - without this line, in FF,\n",
       "    // the notebook keyboard shortcuts fail.\n",
       "    IPython.keyboard_manager.enable()\n",
       "    $(fig.parent_element).html('<img src=\"' + dataURL + '\" width=\"' + width + '\">');\n",
       "    fig.close_ws(fig, msg);\n",
       "}\n",
       "\n",
       "mpl.figure.prototype.close_ws = function(fig, msg){\n",
       "    fig.send_message('closing', msg);\n",
       "    // fig.ws.close()\n",
       "}\n",
       "\n",
       "mpl.figure.prototype.push_to_output = function(remove_interactive) {\n",
       "    // Turn the data on the canvas into data in the output cell.\n",
       "    var width = this.canvas.width/mpl.ratio\n",
       "    var dataURL = this.canvas.toDataURL();\n",
       "    this.cell_info[1]['text/html'] = '<img src=\"' + dataURL + '\" width=\"' + width + '\">';\n",
       "}\n",
       "\n",
       "mpl.figure.prototype.updated_canvas_event = function() {\n",
       "    // Tell IPython that the notebook contents must change.\n",
       "    IPython.notebook.set_dirty(true);\n",
       "    this.send_message(\"ack\", {});\n",
       "    var fig = this;\n",
       "    // Wait a second, then push the new image to the DOM so\n",
       "    // that it is saved nicely (might be nice to debounce this).\n",
       "    setTimeout(function () { fig.push_to_output() }, 1000);\n",
       "}\n",
       "\n",
       "mpl.figure.prototype._init_toolbar = function() {\n",
       "    var fig = this;\n",
       "\n",
       "    var nav_element = $('<div/>')\n",
       "    nav_element.attr('style', 'width: 100%');\n",
       "    this.root.append(nav_element);\n",
       "\n",
       "    // Define a callback function for later on.\n",
       "    function toolbar_event(event) {\n",
       "        return fig.toolbar_button_onclick(event['data']);\n",
       "    }\n",
       "    function toolbar_mouse_event(event) {\n",
       "        return fig.toolbar_button_onmouseover(event['data']);\n",
       "    }\n",
       "\n",
       "    for(var toolbar_ind in mpl.toolbar_items){\n",
       "        var name = mpl.toolbar_items[toolbar_ind][0];\n",
       "        var tooltip = mpl.toolbar_items[toolbar_ind][1];\n",
       "        var image = mpl.toolbar_items[toolbar_ind][2];\n",
       "        var method_name = mpl.toolbar_items[toolbar_ind][3];\n",
       "\n",
       "        if (!name) { continue; };\n",
       "\n",
       "        var button = $('<button class=\"btn btn-default\" href=\"#\" title=\"' + name + '\"><i class=\"fa ' + image + ' fa-lg\"></i></button>');\n",
       "        button.click(method_name, toolbar_event);\n",
       "        button.mouseover(tooltip, toolbar_mouse_event);\n",
       "        nav_element.append(button);\n",
       "    }\n",
       "\n",
       "    // Add the status bar.\n",
       "    var status_bar = $('<span class=\"mpl-message\" style=\"text-align:right; float: right;\"/>');\n",
       "    nav_element.append(status_bar);\n",
       "    this.message = status_bar[0];\n",
       "\n",
       "    // Add the close button to the window.\n",
       "    var buttongrp = $('<div class=\"btn-group inline pull-right\"></div>');\n",
       "    var button = $('<button class=\"btn btn-mini btn-primary\" href=\"#\" title=\"Stop Interaction\"><i class=\"fa fa-power-off icon-remove icon-large\"></i></button>');\n",
       "    button.click(function (evt) { fig.handle_close(fig, {}); } );\n",
       "    button.mouseover('Stop Interaction', toolbar_mouse_event);\n",
       "    buttongrp.append(button);\n",
       "    var titlebar = this.root.find($('.ui-dialog-titlebar'));\n",
       "    titlebar.prepend(buttongrp);\n",
       "}\n",
       "\n",
       "mpl.figure.prototype._root_extra_style = function(el){\n",
       "    var fig = this\n",
       "    el.on(\"remove\", function(){\n",
       "\tfig.close_ws(fig, {});\n",
       "    });\n",
       "}\n",
       "\n",
       "mpl.figure.prototype._canvas_extra_style = function(el){\n",
       "    // this is important to make the div 'focusable\n",
       "    el.attr('tabindex', 0)\n",
       "    // reach out to IPython and tell the keyboard manager to turn it's self\n",
       "    // off when our div gets focus\n",
       "\n",
       "    // location in version 3\n",
       "    if (IPython.notebook.keyboard_manager) {\n",
       "        IPython.notebook.keyboard_manager.register_events(el);\n",
       "    }\n",
       "    else {\n",
       "        // location in version 2\n",
       "        IPython.keyboard_manager.register_events(el);\n",
       "    }\n",
       "\n",
       "}\n",
       "\n",
       "mpl.figure.prototype._key_event_extra = function(event, name) {\n",
       "    var manager = IPython.notebook.keyboard_manager;\n",
       "    if (!manager)\n",
       "        manager = IPython.keyboard_manager;\n",
       "\n",
       "    // Check for shift+enter\n",
       "    if (event.shiftKey && event.which == 13) {\n",
       "        this.canvas_div.blur();\n",
       "        event.shiftKey = false;\n",
       "        // Send a \"J\" for go to next cell\n",
       "        event.which = 74;\n",
       "        event.keyCode = 74;\n",
       "        manager.command_mode();\n",
       "        manager.handle_keydown(event);\n",
       "    }\n",
       "}\n",
       "\n",
       "mpl.figure.prototype.handle_save = function(fig, msg) {\n",
       "    fig.ondownload(fig, null);\n",
       "}\n",
       "\n",
       "\n",
       "mpl.find_output_cell = function(html_output) {\n",
       "    // Return the cell and output element which can be found *uniquely* in the notebook.\n",
       "    // Note - this is a bit hacky, but it is done because the \"notebook_saving.Notebook\"\n",
       "    // IPython event is triggered only after the cells have been serialised, which for\n",
       "    // our purposes (turning an active figure into a static one), is too late.\n",
       "    var cells = IPython.notebook.get_cells();\n",
       "    var ncells = cells.length;\n",
       "    for (var i=0; i<ncells; i++) {\n",
       "        var cell = cells[i];\n",
       "        if (cell.cell_type === 'code'){\n",
       "            for (var j=0; j<cell.output_area.outputs.length; j++) {\n",
       "                var data = cell.output_area.outputs[j];\n",
       "                if (data.data) {\n",
       "                    // IPython >= 3 moved mimebundle to data attribute of output\n",
       "                    data = data.data;\n",
       "                }\n",
       "                if (data['text/html'] == html_output) {\n",
       "                    return [cell, data, j];\n",
       "                }\n",
       "            }\n",
       "        }\n",
       "    }\n",
       "}\n",
       "\n",
       "// Register the function which deals with the matplotlib target/channel.\n",
       "// The kernel may be null if the page has been refreshed.\n",
       "if (IPython.notebook.kernel != null) {\n",
       "    IPython.notebook.kernel.comm_manager.register_target('matplotlib', mpl.mpl_figure_comm);\n",
       "}\n"
      ],
      "text/plain": [
       "<IPython.core.display.Javascript object>"
      ]
     },
     "metadata": {},
     "output_type": "display_data"
    },
    {
     "data": {
      "text/html": [
       "<img src=\"data:image/png;base64,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\" width=\"800\">"
      ],
      "text/plain": [
       "<IPython.core.display.HTML object>"
      ]
     },
     "metadata": {},
     "output_type": "display_data"
    }
   ],
   "source": [
    "fig, ax = plt.subplots(figsize=(8, 6))\n",
    "fig.subplots_adjust(left=0.15, bottom=0.15)\n",
    "\n",
    "ax.bar(np.arange(len(method)), write_time, width=0.3, label='write')\n",
    "ax.bar(np.arange(len(method)) + 0.3, read_time, width=0.3, label='read')\n",
    "ax.set_yscale('log')\n",
    "ax.legend(loc=1)\n",
    "ax.set_ylabel(\"Time (s)\")\n",
    "ax.set_xticks(np.arange(len(method)) + 0.15)\n",
    "ax.set_xticklabels(method)\n",
    "ax.set_title(\"Comparison of I/O times for writing 1000 PECOUNT timeseries\", fontsize=12, pad=15)\n",
    "\n",
    "fig.savefig('temp.png', dpi=150);"
   ]
  },
  {
   "cell_type": "code",
   "execution_count": null,
   "metadata": {},
   "outputs": [],
   "source": []
  }
 ],
 "metadata": {
  "kernelspec": {
   "display_name": "Python 3",
   "language": "python",
   "name": "python3"
  },
  "language_info": {
   "codemirror_mode": {
    "name": "ipython",
    "version": 3
   },
   "file_extension": ".py",
   "mimetype": "text/x-python",
   "name": "python",
   "nbconvert_exporter": "python",
   "pygments_lexer": "ipython3",
   "version": "3.5.2"
  }
 },
 "nbformat": 4,
 "nbformat_minor": 2
}

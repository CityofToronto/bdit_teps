{
 "cells": [
  {
   "cell_type": "markdown",
   "metadata": {},
   "source": [
    "# Prepare Data Pt. 2 (`data_prep_kriging`)\n",
    "\n",
    "This emulates `data_prep_kriging.m`.  **IT MUST BE RUN AFTER `Prepare Locals.ipynb`, SINCE THAT CREATES `pkdata.hdf5`.**"
   ]
  },
  {
   "cell_type": "code",
   "execution_count": 1,
   "metadata": {},
   "outputs": [],
   "source": [
    "import pandas as pd\n",
    "import numpy as np"
   ]
  },
  {
   "cell_type": "code",
   "execution_count": 4,
   "metadata": {},
   "outputs": [],
   "source": [
    "# Read in directions file.\n",
    "# directions = pd.read_csv(('/mnt/c/Users/czhu5/Documents/VolumeModel/'\n",
    "#                           'TEPS-dev/PRTCS/direction3.csv'))\n",
    "# directions.sort_values('centreline_id', inplace=True)\n",
    "# directions.reset_index(drop=True, inplace=True)\n",
    "# pkstore = pd.HDFStore('./data/pkdata.hdf5', 'r+')\n",
    "# pkstore.put('directions', directions)\n",
    "# pkstore.close()\n",
    "\n",
    "with pd.HDFStore('/home/czhu/Data/btp_sandbox_prep_kriglocaldata/pkdata2010.hdf5') as pkstore:\n",
    "    directions = pkstore['directions']\n",
    "    aadt_landuse_2_2010 = pkstore['aadt_landuse_2_2010']"
   ]
  },
  {
   "cell_type": "code",
   "execution_count": 5,
   "metadata": {},
   "outputs": [
    {
     "data": {
      "text/html": [
       "<div>\n",
       "<style scoped>\n",
       "    .dataframe tbody tr th:only-of-type {\n",
       "        vertical-align: middle;\n",
       "    }\n",
       "\n",
       "    .dataframe tbody tr th {\n",
       "        vertical-align: top;\n",
       "    }\n",
       "\n",
       "    .dataframe thead th {\n",
       "        text-align: right;\n",
       "    }\n",
       "</style>\n",
       "<table border=\"1\" class=\"dataframe\">\n",
       "  <thead>\n",
       "    <tr style=\"text-align: right;\">\n",
       "      <th></th>\n",
       "      <th>centreline_id</th>\n",
       "      <th>dir_bin</th>\n",
       "    </tr>\n",
       "  </thead>\n",
       "  <tbody>\n",
       "    <tr>\n",
       "      <th>0</th>\n",
       "      <td>108</td>\n",
       "      <td>-1</td>\n",
       "    </tr>\n",
       "    <tr>\n",
       "      <th>1</th>\n",
       "      <td>108</td>\n",
       "      <td>1</td>\n",
       "    </tr>\n",
       "    <tr>\n",
       "      <th>2</th>\n",
       "      <td>117</td>\n",
       "      <td>-1</td>\n",
       "    </tr>\n",
       "    <tr>\n",
       "      <th>3</th>\n",
       "      <td>117</td>\n",
       "      <td>1</td>\n",
       "    </tr>\n",
       "    <tr>\n",
       "      <th>4</th>\n",
       "      <td>118</td>\n",
       "      <td>-1</td>\n",
       "    </tr>\n",
       "  </tbody>\n",
       "</table>\n",
       "</div>"
      ],
      "text/plain": [
       "   centreline_id  dir_bin\n",
       "0            108       -1\n",
       "1            108        1\n",
       "2            117       -1\n",
       "3            117        1\n",
       "4            118       -1"
      ]
     },
     "execution_count": 5,
     "metadata": {},
     "output_type": "execute_result"
    }
   ],
   "source": [
    "directions.head()"
   ]
  },
  {
   "cell_type": "code",
   "execution_count": 6,
   "metadata": {},
   "outputs": [
    {
     "data": {
      "text/html": [
       "<div>\n",
       "<style scoped>\n",
       "    .dataframe tbody tr th:only-of-type {\n",
       "        vertical-align: middle;\n",
       "    }\n",
       "\n",
       "    .dataframe tbody tr th {\n",
       "        vertical-align: top;\n",
       "    }\n",
       "\n",
       "    .dataframe thead th {\n",
       "        text-align: right;\n",
       "    }\n",
       "</style>\n",
       "<table border=\"1\" class=\"dataframe\">\n",
       "  <thead>\n",
       "    <tr style=\"text-align: right;\">\n",
       "      <th></th>\n",
       "      <th>AADT</th>\n",
       "      <th>Sum_pop</th>\n",
       "      <th>number of lanes</th>\n",
       "      <th>speed limit</th>\n",
       "      <th>employment</th>\n",
       "      <th>commercial</th>\n",
       "      <th>industrial</th>\n",
       "      <th>government</th>\n",
       "      <th>road type</th>\n",
       "    </tr>\n",
       "    <tr>\n",
       "      <th>centreline_id</th>\n",
       "      <th></th>\n",
       "      <th></th>\n",
       "      <th></th>\n",
       "      <th></th>\n",
       "      <th></th>\n",
       "      <th></th>\n",
       "      <th></th>\n",
       "      <th></th>\n",
       "      <th></th>\n",
       "    </tr>\n",
       "  </thead>\n",
       "  <tbody>\n",
       "    <tr>\n",
       "      <th>103</th>\n",
       "      <td>NaN</td>\n",
       "      <td>7824.516305</td>\n",
       "      <td>0</td>\n",
       "      <td>0</td>\n",
       "      <td>1.025477e+06</td>\n",
       "      <td>29105.308526</td>\n",
       "      <td>1.122606e+06</td>\n",
       "      <td>33081.128020</td>\n",
       "      <td>NaN</td>\n",
       "    </tr>\n",
       "    <tr>\n",
       "      <th>106</th>\n",
       "      <td>NaN</td>\n",
       "      <td>8490.111947</td>\n",
       "      <td>0</td>\n",
       "      <td>0</td>\n",
       "      <td>2.746630e+05</td>\n",
       "      <td>84597.684531</td>\n",
       "      <td>3.996810e+05</td>\n",
       "      <td>322477.021673</td>\n",
       "      <td>NaN</td>\n",
       "    </tr>\n",
       "    <tr>\n",
       "      <th>107</th>\n",
       "      <td>NaN</td>\n",
       "      <td>7520.466102</td>\n",
       "      <td>0</td>\n",
       "      <td>0</td>\n",
       "      <td>2.146579e+05</td>\n",
       "      <td>84955.419497</td>\n",
       "      <td>3.293675e+05</td>\n",
       "      <td>352416.655710</td>\n",
       "      <td>NaN</td>\n",
       "    </tr>\n",
       "    <tr>\n",
       "      <th>108</th>\n",
       "      <td>NaN</td>\n",
       "      <td>7297.781592</td>\n",
       "      <td>2</td>\n",
       "      <td>45</td>\n",
       "      <td>2.507206e+05</td>\n",
       "      <td>84597.684531</td>\n",
       "      <td>3.589855e+05</td>\n",
       "      <td>301465.932090</td>\n",
       "      <td>37</td>\n",
       "    </tr>\n",
       "    <tr>\n",
       "      <th>112</th>\n",
       "      <td>NaN</td>\n",
       "      <td>8050.696644</td>\n",
       "      <td>0</td>\n",
       "      <td>0</td>\n",
       "      <td>1.923570e+05</td>\n",
       "      <td>99521.912333</td>\n",
       "      <td>2.920311e+05</td>\n",
       "      <td>418089.930909</td>\n",
       "      <td>NaN</td>\n",
       "    </tr>\n",
       "  </tbody>\n",
       "</table>\n",
       "</div>"
      ],
      "text/plain": [
       "               AADT      Sum_pop  number of lanes  speed limit    employment  \\\n",
       "centreline_id                                                                  \n",
       "103             NaN  7824.516305                0            0  1.025477e+06   \n",
       "106             NaN  8490.111947                0            0  2.746630e+05   \n",
       "107             NaN  7520.466102                0            0  2.146579e+05   \n",
       "108             NaN  7297.781592                2           45  2.507206e+05   \n",
       "112             NaN  8050.696644                0            0  1.923570e+05   \n",
       "\n",
       "                 commercial    industrial     government road type  \n",
       "centreline_id                                                       \n",
       "103            29105.308526  1.122606e+06   33081.128020       NaN  \n",
       "106            84597.684531  3.996810e+05  322477.021673       NaN  \n",
       "107            84955.419497  3.293675e+05  352416.655710       NaN  \n",
       "108            84597.684531  3.589855e+05  301465.932090        37  \n",
       "112            99521.912333  2.920311e+05  418089.930909       NaN  "
      ]
     },
     "execution_count": 6,
     "metadata": {},
     "output_type": "execute_result"
    }
   ],
   "source": [
    "aadt_landuse_2_2010.head()"
   ]
  },
  {
   "cell_type": "code",
   "execution_count": 7,
   "metadata": {},
   "outputs": [
    {
     "data": {
      "text/plain": [
       "(64848,)"
      ]
     },
     "execution_count": 7,
     "metadata": {},
     "output_type": "execute_result"
    }
   ],
   "source": [
    "aadt_landuse_2_2010.index.shape"
   ]
  },
  {
   "cell_type": "markdown",
   "metadata": {},
   "source": [
    "### Produce `resmat{YEAR}.txt`\n",
    "\n",
    "Equivalent to `b` in `data_prep_kriging.m`.\n",
    "\n",
    "The exact definition of `b`'s colums is given by `b2`'s:\n",
    "```\n",
    "b2=[ref_id_start_point_t ref_id_stop_point count_t speed_limit_t population_t ...\n",
    "    lane_num_t end_point_t start_point_t speed_limit_t.*lane_num_t commer_t ...\n",
    "    indus_t gov_t emplo_t dummy_road_type_t Dist_t];\n",
    "```\n",
    "\n",
    "The only thing my `resmat` doesn't have is `speed_limit_t.*lane_num_t`, which is trivial to calculate.  (Also we have speed limits from two different sources, but I'm lazy.)"
   ]
  },
  {
   "cell_type": "code",
   "execution_count": 37,
   "metadata": {},
   "outputs": [],
   "source": [
    "# Read in raw centreline-centreline distance table.\n",
    "with pd.HDFStore('/home/czhu/Data/btp_sandbox_prep_kriglocaldata/resmat.hdf5') as rsm:\n",
    "    resmat = rsm['resmat']\n",
    "    resmat = resmat[['origin_centreline_id', 'dest_centreline_id',\n",
    "                     'network_distance', 'speed_limit']]"
   ]
  },
  {
   "cell_type": "code",
   "execution_count": 38,
   "metadata": {},
   "outputs": [
    {
     "data": {
      "text/plain": [
       "(4657659, 4)"
      ]
     },
     "execution_count": 38,
     "metadata": {},
     "output_type": "execute_result"
    }
   ],
   "source": [
    "resmat.shape"
   ]
  },
  {
   "cell_type": "code",
   "execution_count": 39,
   "metadata": {},
   "outputs": [
    {
     "data": {
      "text/plain": [
       "(4657659, 13)"
      ]
     },
     "execution_count": 39,
     "metadata": {},
     "output_type": "execute_result"
    }
   ],
   "source": [
    "resmat = resmat.join(aadt_landuse_2_2010, on='dest_centreline_id', how='left', rsuffix='_r')\n",
    "resmat.shape"
   ]
  },
  {
   "cell_type": "code",
   "execution_count": 40,
   "metadata": {},
   "outputs": [],
   "source": [
    "# Auto-eliminates nulls.\n",
    "resmat = resmat.loc[(resmat['number of lanes'] > 0) & (resmat['network_distance'] < 2.), :]"
   ]
  },
  {
   "cell_type": "code",
   "execution_count": 41,
   "metadata": {},
   "outputs": [
    {
     "data": {
      "text/plain": [
       "(3011569, 13)"
      ]
     },
     "execution_count": 41,
     "metadata": {},
     "output_type": "execute_result"
    }
   ],
   "source": [
    "resmat.shape"
   ]
  },
  {
   "cell_type": "markdown",
   "metadata": {},
   "source": [
    "### Produce `distance_short{YEAR}.csv`\n",
    "\n",
    "`ACSPedit{YEAR}.csv` is this but for reference IDs, and is unused."
   ]
  },
  {
   "cell_type": "code",
   "execution_count": 42,
   "metadata": {},
   "outputs": [],
   "source": [
    "distance_short = resmat[['origin_centreline_id', 'dest_centreline_id', 'network_distance']]"
   ]
  },
  {
   "cell_type": "code",
   "execution_count": 79,
   "metadata": {},
   "outputs": [],
   "source": [
    "with pd.HDFStore('/home/czhu/Data/btp_sandbox_prep_kriglocaldata/distance_short.hdf5', 'w') as dsh:\n",
    "    dsh['distance_short'] = distance_short"
   ]
  },
  {
   "cell_type": "markdown",
   "metadata": {},
   "source": [
    "### Produce `data_for_pred{YEAR}.txt` and `data_for_fit{YEAR}.txt`\n",
    "\n",
    "Their `id` counterparts are just the endpoint centreline_id versions of these."
   ]
  },
  {
   "cell_type": "code",
   "execution_count": 64,
   "metadata": {},
   "outputs": [],
   "source": [
    "# Equivalent to picking out the first unique instance of b(:7) in [~,idx]=unique(c,'rows'); out2=b(idx,:);\n",
    "# Use speed limit from land use xlsx.\n",
    "data_for_pred = resmat[['dest_centreline_id', 'speed limit', 'AADT', 'Sum_pop',\n",
    "                        'number of lanes', 'employment', 'commercial',\n",
    "                        'industrial', 'government', 'road type']]"
   ]
  },
  {
   "cell_type": "code",
   "execution_count": 65,
   "metadata": {},
   "outputs": [],
   "source": [
    "data_for_pred = data_for_pred.drop_duplicates().reset_index(drop=True)"
   ]
  },
  {
   "cell_type": "code",
   "execution_count": 66,
   "metadata": {},
   "outputs": [
    {
     "data": {
      "text/html": [
       "<div>\n",
       "<style scoped>\n",
       "    .dataframe tbody tr th:only-of-type {\n",
       "        vertical-align: middle;\n",
       "    }\n",
       "\n",
       "    .dataframe tbody tr th {\n",
       "        vertical-align: top;\n",
       "    }\n",
       "\n",
       "    .dataframe thead th {\n",
       "        text-align: right;\n",
       "    }\n",
       "</style>\n",
       "<table border=\"1\" class=\"dataframe\">\n",
       "  <thead>\n",
       "    <tr style=\"text-align: right;\">\n",
       "      <th></th>\n",
       "      <th>dest_centreline_id</th>\n",
       "      <th>speed limit</th>\n",
       "      <th>AADT</th>\n",
       "      <th>Sum_pop</th>\n",
       "      <th>number of lanes</th>\n",
       "      <th>employment</th>\n",
       "      <th>commercial</th>\n",
       "      <th>industrial</th>\n",
       "      <th>government</th>\n",
       "      <th>road type</th>\n",
       "    </tr>\n",
       "  </thead>\n",
       "  <tbody>\n",
       "    <tr>\n",
       "      <th>0</th>\n",
       "      <td>9109255</td>\n",
       "      <td>45.0</td>\n",
       "      <td>763.356954</td>\n",
       "      <td>12558.251379</td>\n",
       "      <td>2.0</td>\n",
       "      <td>1.084553e+06</td>\n",
       "      <td>NaN</td>\n",
       "      <td>1.312336e+06</td>\n",
       "      <td>187747.021115</td>\n",
       "      <td>37</td>\n",
       "    </tr>\n",
       "    <tr>\n",
       "      <th>1</th>\n",
       "      <td>14188125</td>\n",
       "      <td>0.0</td>\n",
       "      <td>NaN</td>\n",
       "      <td>8374.539150</td>\n",
       "      <td>2.0</td>\n",
       "      <td>7.119475e+05</td>\n",
       "      <td>NaN</td>\n",
       "      <td>4.601152e+05</td>\n",
       "      <td>359721.633864</td>\n",
       "      <td>NaN</td>\n",
       "    </tr>\n",
       "    <tr>\n",
       "      <th>2</th>\n",
       "      <td>914742</td>\n",
       "      <td>45.0</td>\n",
       "      <td>571.524269</td>\n",
       "      <td>10633.715781</td>\n",
       "      <td>2.0</td>\n",
       "      <td>6.337984e+05</td>\n",
       "      <td>NaN</td>\n",
       "      <td>7.766608e+05</td>\n",
       "      <td>308111.966045</td>\n",
       "      <td>37</td>\n",
       "    </tr>\n",
       "    <tr>\n",
       "      <th>3</th>\n",
       "      <td>914856</td>\n",
       "      <td>55.0</td>\n",
       "      <td>NaN</td>\n",
       "      <td>7071.569392</td>\n",
       "      <td>4.0</td>\n",
       "      <td>1.958703e+05</td>\n",
       "      <td>NaN</td>\n",
       "      <td>4.326051e+05</td>\n",
       "      <td>NaN</td>\n",
       "      <td>10</td>\n",
       "    </tr>\n",
       "    <tr>\n",
       "      <th>4</th>\n",
       "      <td>7585679</td>\n",
       "      <td>55.0</td>\n",
       "      <td>NaN</td>\n",
       "      <td>12267.637772</td>\n",
       "      <td>4.0</td>\n",
       "      <td>8.506309e+05</td>\n",
       "      <td>NaN</td>\n",
       "      <td>1.089469e+06</td>\n",
       "      <td>55399.259756</td>\n",
       "      <td>10</td>\n",
       "    </tr>\n",
       "  </tbody>\n",
       "</table>\n",
       "</div>"
      ],
      "text/plain": [
       "   dest_centreline_id  speed limit        AADT       Sum_pop  number of lanes  \\\n",
       "0             9109255         45.0  763.356954  12558.251379              2.0   \n",
       "1            14188125          0.0         NaN   8374.539150              2.0   \n",
       "2              914742         45.0  571.524269  10633.715781              2.0   \n",
       "3              914856         55.0         NaN   7071.569392              4.0   \n",
       "4             7585679         55.0         NaN  12267.637772              4.0   \n",
       "\n",
       "     employment  commercial    industrial     government road type  \n",
       "0  1.084553e+06         NaN  1.312336e+06  187747.021115        37  \n",
       "1  7.119475e+05         NaN  4.601152e+05  359721.633864       NaN  \n",
       "2  6.337984e+05         NaN  7.766608e+05  308111.966045        37  \n",
       "3  1.958703e+05         NaN  4.326051e+05            NaN        10  \n",
       "4  8.506309e+05         NaN  1.089469e+06   55399.259756        10  "
      ]
     },
     "execution_count": 66,
     "metadata": {},
     "output_type": "execute_result"
    }
   ],
   "source": [
    "data_for_pred.head()"
   ]
  },
  {
   "cell_type": "code",
   "execution_count": 67,
   "metadata": {},
   "outputs": [
    {
     "data": {
      "text/plain": [
       "(18077, 10)"
      ]
     },
     "execution_count": 67,
     "metadata": {},
     "output_type": "execute_result"
    }
   ],
   "source": [
    "data_for_pred.shape"
   ]
  },
  {
   "cell_type": "code",
   "execution_count": 68,
   "metadata": {},
   "outputs": [],
   "source": [
    "data_for_pred = data_for_pred.loc[data_for_pred['speed limit'] > 0., :]"
   ]
  },
  {
   "cell_type": "code",
   "execution_count": 69,
   "metadata": {},
   "outputs": [],
   "source": [
    "ctrline_negdir = directions[directions['dir_bin'] < 0]"
   ]
  },
  {
   "cell_type": "code",
   "execution_count": 70,
   "metadata": {},
   "outputs": [],
   "source": [
    "assert ctrline_negdir['centreline_id'].unique().shape[0] == ctrline_negdir.shape[0]"
   ]
  },
  {
   "cell_type": "code",
   "execution_count": 71,
   "metadata": {},
   "outputs": [],
   "source": [
    "data_for_pred = (pd.merge(data_for_pred, ctrline_negdir[['centreline_id']],\n",
    "                         left_on='dest_centreline_id', right_on='centreline_id')\n",
    "                 .drop(columns='centreline_id').reset_index(drop=True))"
   ]
  },
  {
   "cell_type": "code",
   "execution_count": 85,
   "metadata": {},
   "outputs": [],
   "source": [
    "data_for_pred = data_for_pred[data_for_pred['road type'] != '0'].reset_index(drop=True)"
   ]
  },
  {
   "cell_type": "code",
   "execution_count": 86,
   "metadata": {},
   "outputs": [],
   "source": [
    "# The fitting data is any road section whose AADT estimate is 2000 or greater (automatically eliminates nulls).\n",
    "data_for_fit = data_for_pred[data_for_pred['AADT'] > 2000.].reset_index(drop=True)"
   ]
  },
  {
   "cell_type": "code",
   "execution_count": 87,
   "metadata": {},
   "outputs": [
    {
     "data": {
      "text/html": [
       "<div>\n",
       "<style scoped>\n",
       "    .dataframe tbody tr th:only-of-type {\n",
       "        vertical-align: middle;\n",
       "    }\n",
       "\n",
       "    .dataframe tbody tr th {\n",
       "        vertical-align: top;\n",
       "    }\n",
       "\n",
       "    .dataframe thead th {\n",
       "        text-align: right;\n",
       "    }\n",
       "</style>\n",
       "<table border=\"1\" class=\"dataframe\">\n",
       "  <thead>\n",
       "    <tr style=\"text-align: right;\">\n",
       "      <th></th>\n",
       "      <th>dest_centreline_id</th>\n",
       "      <th>speed limit</th>\n",
       "      <th>AADT</th>\n",
       "      <th>Sum_pop</th>\n",
       "      <th>number of lanes</th>\n",
       "      <th>employment</th>\n",
       "      <th>commercial</th>\n",
       "      <th>industrial</th>\n",
       "      <th>government</th>\n",
       "      <th>road type</th>\n",
       "    </tr>\n",
       "  </thead>\n",
       "  <tbody>\n",
       "    <tr>\n",
       "      <th>0</th>\n",
       "      <td>9109255</td>\n",
       "      <td>45.0</td>\n",
       "      <td>763.356954</td>\n",
       "      <td>12558.251379</td>\n",
       "      <td>2.0</td>\n",
       "      <td>1.084553e+06</td>\n",
       "      <td>NaN</td>\n",
       "      <td>1.312336e+06</td>\n",
       "      <td>187747.021115</td>\n",
       "      <td>37</td>\n",
       "    </tr>\n",
       "    <tr>\n",
       "      <th>1</th>\n",
       "      <td>914742</td>\n",
       "      <td>45.0</td>\n",
       "      <td>571.524269</td>\n",
       "      <td>10633.715781</td>\n",
       "      <td>2.0</td>\n",
       "      <td>6.337984e+05</td>\n",
       "      <td>NaN</td>\n",
       "      <td>7.766608e+05</td>\n",
       "      <td>308111.966045</td>\n",
       "      <td>37</td>\n",
       "    </tr>\n",
       "    <tr>\n",
       "      <th>2</th>\n",
       "      <td>914856</td>\n",
       "      <td>55.0</td>\n",
       "      <td>NaN</td>\n",
       "      <td>7071.569392</td>\n",
       "      <td>4.0</td>\n",
       "      <td>1.958703e+05</td>\n",
       "      <td>NaN</td>\n",
       "      <td>4.326051e+05</td>\n",
       "      <td>NaN</td>\n",
       "      <td>10</td>\n",
       "    </tr>\n",
       "    <tr>\n",
       "      <th>3</th>\n",
       "      <td>7585679</td>\n",
       "      <td>55.0</td>\n",
       "      <td>NaN</td>\n",
       "      <td>12267.637772</td>\n",
       "      <td>4.0</td>\n",
       "      <td>8.506309e+05</td>\n",
       "      <td>NaN</td>\n",
       "      <td>1.089469e+06</td>\n",
       "      <td>55399.259756</td>\n",
       "      <td>10</td>\n",
       "    </tr>\n",
       "    <tr>\n",
       "      <th>4</th>\n",
       "      <td>7586931</td>\n",
       "      <td>55.0</td>\n",
       "      <td>NaN</td>\n",
       "      <td>12233.734943</td>\n",
       "      <td>4.0</td>\n",
       "      <td>9.007790e+05</td>\n",
       "      <td>NaN</td>\n",
       "      <td>1.098013e+06</td>\n",
       "      <td>92275.284926</td>\n",
       "      <td>10</td>\n",
       "    </tr>\n",
       "  </tbody>\n",
       "</table>\n",
       "</div>"
      ],
      "text/plain": [
       "   dest_centreline_id  speed limit        AADT       Sum_pop  number of lanes  \\\n",
       "0             9109255         45.0  763.356954  12558.251379              2.0   \n",
       "1              914742         45.0  571.524269  10633.715781              2.0   \n",
       "2              914856         55.0         NaN   7071.569392              4.0   \n",
       "3             7585679         55.0         NaN  12267.637772              4.0   \n",
       "4             7586931         55.0         NaN  12233.734943              4.0   \n",
       "\n",
       "     employment  commercial    industrial     government road type  \n",
       "0  1.084553e+06         NaN  1.312336e+06  187747.021115        37  \n",
       "1  6.337984e+05         NaN  7.766608e+05  308111.966045        37  \n",
       "2  1.958703e+05         NaN  4.326051e+05            NaN        10  \n",
       "3  8.506309e+05         NaN  1.089469e+06   55399.259756        10  \n",
       "4  9.007790e+05         NaN  1.098013e+06   92275.284926        10  "
      ]
     },
     "execution_count": 87,
     "metadata": {},
     "output_type": "execute_result"
    }
   ],
   "source": [
    "data_for_pred.head()"
   ]
  },
  {
   "cell_type": "code",
   "execution_count": 88,
   "metadata": {},
   "outputs": [
    {
     "data": {
      "text/html": [
       "<div>\n",
       "<style scoped>\n",
       "    .dataframe tbody tr th:only-of-type {\n",
       "        vertical-align: middle;\n",
       "    }\n",
       "\n",
       "    .dataframe tbody tr th {\n",
       "        vertical-align: top;\n",
       "    }\n",
       "\n",
       "    .dataframe thead th {\n",
       "        text-align: right;\n",
       "    }\n",
       "</style>\n",
       "<table border=\"1\" class=\"dataframe\">\n",
       "  <thead>\n",
       "    <tr style=\"text-align: right;\">\n",
       "      <th></th>\n",
       "      <th>dest_centreline_id</th>\n",
       "      <th>speed limit</th>\n",
       "      <th>AADT</th>\n",
       "      <th>Sum_pop</th>\n",
       "      <th>number of lanes</th>\n",
       "      <th>employment</th>\n",
       "      <th>commercial</th>\n",
       "      <th>industrial</th>\n",
       "      <th>government</th>\n",
       "      <th>road type</th>\n",
       "    </tr>\n",
       "  </thead>\n",
       "  <tbody>\n",
       "    <tr>\n",
       "      <th>0</th>\n",
       "      <td>914446</td>\n",
       "      <td>55.0</td>\n",
       "      <td>8961.192262</td>\n",
       "      <td>9590.566862</td>\n",
       "      <td>4.0</td>\n",
       "      <td>1.871610e+06</td>\n",
       "      <td>NaN</td>\n",
       "      <td>1.366294e+06</td>\n",
       "      <td>352847.104820</td>\n",
       "      <td>10</td>\n",
       "    </tr>\n",
       "    <tr>\n",
       "      <th>1</th>\n",
       "      <td>914320</td>\n",
       "      <td>55.0</td>\n",
       "      <td>10756.432090</td>\n",
       "      <td>7671.348647</td>\n",
       "      <td>4.0</td>\n",
       "      <td>1.980414e+06</td>\n",
       "      <td>NaN</td>\n",
       "      <td>1.389806e+06</td>\n",
       "      <td>216803.398979</td>\n",
       "      <td>10</td>\n",
       "    </tr>\n",
       "    <tr>\n",
       "      <th>2</th>\n",
       "      <td>3326929</td>\n",
       "      <td>55.0</td>\n",
       "      <td>12739.531960</td>\n",
       "      <td>7602.013661</td>\n",
       "      <td>4.0</td>\n",
       "      <td>6.661395e+05</td>\n",
       "      <td>NaN</td>\n",
       "      <td>7.864940e+05</td>\n",
       "      <td>106614.317019</td>\n",
       "      <td>10</td>\n",
       "    </tr>\n",
       "    <tr>\n",
       "      <th>3</th>\n",
       "      <td>11070075</td>\n",
       "      <td>50.0</td>\n",
       "      <td>8240.331834</td>\n",
       "      <td>7394.967113</td>\n",
       "      <td>4.0</td>\n",
       "      <td>6.906023e+05</td>\n",
       "      <td>NaN</td>\n",
       "      <td>8.668984e+05</td>\n",
       "      <td>106614.317019</td>\n",
       "      <td>33</td>\n",
       "    </tr>\n",
       "    <tr>\n",
       "      <th>4</th>\n",
       "      <td>20048292</td>\n",
       "      <td>55.0</td>\n",
       "      <td>5824.497184</td>\n",
       "      <td>9216.707898</td>\n",
       "      <td>4.0</td>\n",
       "      <td>1.264567e+06</td>\n",
       "      <td>NaN</td>\n",
       "      <td>8.836344e+05</td>\n",
       "      <td>362648.479967</td>\n",
       "      <td>10</td>\n",
       "    </tr>\n",
       "  </tbody>\n",
       "</table>\n",
       "</div>"
      ],
      "text/plain": [
       "   dest_centreline_id  speed limit          AADT      Sum_pop  \\\n",
       "0              914446         55.0   8961.192262  9590.566862   \n",
       "1              914320         55.0  10756.432090  7671.348647   \n",
       "2             3326929         55.0  12739.531960  7602.013661   \n",
       "3            11070075         50.0   8240.331834  7394.967113   \n",
       "4            20048292         55.0   5824.497184  9216.707898   \n",
       "\n",
       "   number of lanes    employment  commercial    industrial     government  \\\n",
       "0              4.0  1.871610e+06         NaN  1.366294e+06  352847.104820   \n",
       "1              4.0  1.980414e+06         NaN  1.389806e+06  216803.398979   \n",
       "2              4.0  6.661395e+05         NaN  7.864940e+05  106614.317019   \n",
       "3              4.0  6.906023e+05         NaN  8.668984e+05  106614.317019   \n",
       "4              4.0  1.264567e+06         NaN  8.836344e+05  362648.479967   \n",
       "\n",
       "  road type  \n",
       "0        10  \n",
       "1        10  \n",
       "2        10  \n",
       "3        33  \n",
       "4        10  "
      ]
     },
     "execution_count": 88,
     "metadata": {},
     "output_type": "execute_result"
    }
   ],
   "source": [
    "data_for_fit.head()"
   ]
  },
  {
   "cell_type": "code",
   "execution_count": 89,
   "metadata": {},
   "outputs": [],
   "source": [
    "# Read in raw centreline-centreline distance table.\n",
    "with pd.HDFStore('/home/czhu/Data/btp_sandbox_prep_kriglocaldata/data_for_pf2010negative.hdf5', 'w') as dfp:\n",
    "    dfp['data_for_pred'] = data_for_pred\n",
    "    dfp['data_for_fit'] = data_for_fit"
   ]
  },
  {
   "cell_type": "markdown",
   "metadata": {},
   "source": [
    "## Check that `data_for_pred` contains major arterials"
   ]
  },
  {
   "cell_type": "code",
   "execution_count": 106,
   "metadata": {},
   "outputs": [],
   "source": [
    "import pathlib, os\n",
    "import configparser\n",
    "import psycopg2\n",
    "import geopandas as gpd\n",
    "\n",
    "filepath = pathlib.Path.home().joinpath('.charlesconfig')\n",
    "config = configparser.RawConfigParser()\n",
    "config.read(filepath.as_posix());\n",
    "\n",
    "with psycopg2.connect(database='bigdata', user=config['POSTGRES']['user'],\n",
    "                      password=config['POSTGRES']['password'],\n",
    "                      host=config['POSTGRES']['host'], port=config['POSTGRES']['port']) as db_con:\n",
    "    gis_centreline = gpd.read_postgis('SELECT * FROM gis.centreline', db_con)\n",
    "    gis_centreline['geo_id'] = gis_centreline['geo_id'].astype(int)"
   ]
  },
  {
   "cell_type": "code",
   "execution_count": 114,
   "metadata": {},
   "outputs": [],
   "source": [
    "road_descriptions = pd.merge(data_for_pred, gis_centreline[['geo_id', 'fcode', 'fcode_desc']],\n",
    "                             how='inner', left_on='dest_centreline_id', right_on='geo_id')"
   ]
  },
  {
   "cell_type": "code",
   "execution_count": 119,
   "metadata": {},
   "outputs": [
    {
     "data": {
      "text/plain": [
       "Collector              5932\n",
       "Major Arterial         5422\n",
       "Minor Arterial         3269\n",
       "Expressway              718\n",
       "Expressway Ramp         584\n",
       "Major Arterial Ramp     109\n",
       "Local                   104\n",
       "Collector Ramp           10\n",
       "Name: fcode_desc, dtype: int64"
      ]
     },
     "execution_count": 119,
     "metadata": {},
     "output_type": "execute_result"
    }
   ],
   "source": [
    "road_descriptions['fcode_desc'].value_counts()"
   ]
  },
  {
   "cell_type": "code",
   "execution_count": 120,
   "metadata": {},
   "outputs": [],
   "source": [
    "road_descriptions_fit = pd.merge(data_for_fit, gis_centreline[['geo_id', 'fcode', 'fcode_desc']],\n",
    "                                 how='inner', left_on='dest_centreline_id', right_on='geo_id')"
   ]
  },
  {
   "cell_type": "code",
   "execution_count": 121,
   "metadata": {},
   "outputs": [
    {
     "data": {
      "text/plain": [
       "Major Arterial         1797\n",
       "Minor Arterial          901\n",
       "Collector               730\n",
       "Expressway              114\n",
       "Expressway Ramp          43\n",
       "Major Arterial Ramp      14\n",
       "Local                     5\n",
       "Name: fcode_desc, dtype: int64"
      ]
     },
     "execution_count": 121,
     "metadata": {},
     "output_type": "execute_result"
    }
   ],
   "source": [
    "road_descriptions_fit['fcode_desc'].value_counts()"
   ]
  },
  {
   "cell_type": "markdown",
   "metadata": {},
   "source": [
    "Close enough, I guess."
   ]
  },
  {
   "cell_type": "code",
   "execution_count": 125,
   "metadata": {},
   "outputs": [],
   "source": [
    "road_descriptions = pd.merge(data_for_pred, gis_centreline[['geo_id', 'fcode', 'fcode_desc']],\n",
    "                             how='left', left_on='dest_centreline_id', right_on='geo_id')"
   ]
  },
  {
   "cell_type": "code",
   "execution_count": 127,
   "metadata": {},
   "outputs": [
    {
     "data": {
      "text/plain": [
       "35         914545\n",
       "307       3086207\n",
       "416       7668066\n",
       "770      14204001\n",
       "1150      8407393\n",
       "1291       909410\n",
       "1373      9655693\n",
       "1876      7963393\n",
       "2253         8436\n",
       "2306      8791748\n",
       "2312     10759021\n",
       "2355      8166335\n",
       "2356      8929258\n",
       "2457     14004162\n",
       "2526      9781235\n",
       "2620     11461945\n",
       "2624       446598\n",
       "3031      8206114\n",
       "3032      8206105\n",
       "3047     13974047\n",
       "3182      6913362\n",
       "3258      1140382\n",
       "3310     14003783\n",
       "3420      1139499\n",
       "3466      1140633\n",
       "3558      2981086\n",
       "3559      1141672\n",
       "3825     14673528\n",
       "3891      4153107\n",
       "3920     20235606\n",
       "           ...   \n",
       "14824     6257558\n",
       "14885     6247978\n",
       "14889     6247982\n",
       "14890     6247983\n",
       "14969     9468212\n",
       "15108      106132\n",
       "15169     4786680\n",
       "15229      107510\n",
       "15241      107539\n",
       "15263    20040264\n",
       "15285      106675\n",
       "15292      105619\n",
       "15294     6793391\n",
       "15330     7195953\n",
       "15360      105988\n",
       "15369    14191397\n",
       "15415      443550\n",
       "15457    14258081\n",
       "15480    13502910\n",
       "15563      109757\n",
       "15637     6674323\n",
       "15679      105368\n",
       "15880    14661315\n",
       "15891    20057375\n",
       "15893    14122997\n",
       "16009    14669446\n",
       "16011     9602602\n",
       "16107     9135090\n",
       "16249    20045536\n",
       "16250      102947\n",
       "Name: dest_centreline_id, Length: 191, dtype: int64"
      ]
     },
     "execution_count": 127,
     "metadata": {},
     "output_type": "execute_result"
    }
   ],
   "source": [
    "road_descriptions.loc[road_descriptions['geo_id'].isnull(), 'dest_centreline_id']"
   ]
  },
  {
   "cell_type": "markdown",
   "metadata": {},
   "source": [
    "So there are some roads whose codes don't exist in the current centreline."
   ]
  }
 ],
 "metadata": {
  "kernelspec": {
   "display_name": "Python 3",
   "language": "python",
   "name": "python3"
  },
  "language_info": {
   "codemirror_mode": {
    "name": "ipython",
    "version": 3
   },
   "file_extension": ".py",
   "mimetype": "text/x-python",
   "name": "python",
   "nbconvert_exporter": "python",
   "pygments_lexer": "ipython3",
   "version": "3.6.9"
  }
 },
 "nbformat": 4,
 "nbformat_minor": 2
}

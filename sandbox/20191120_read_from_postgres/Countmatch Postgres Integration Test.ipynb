{
 "cells": [
  {
   "cell_type": "markdown",
   "metadata": {},
   "source": [
    "# Countmatch Postgres Integration Test\n",
    "\n",
    "Countmatch now has the ability to read either inputs from file or our Postgres database.  We need to test that the read-in pipeline is identical for both.  To do this, I generated test suite materialized views in Postgres.\n",
    "\n",
    "Locations:\n",
    "\n",
    "```sql\n",
    "CREATE VIEW czhu.btp_centreline_lonlat_testsuite AS (\n",
    "    SELECT *\n",
    "    FROM czhu.btp_centreline_lonlat\n",
    "    WHERE centreline_id IN (170, 241, 252, 410, 427, 487, 680, 890, 1978, 104870, 446378)\n",
    ")\n",
    "```\n",
    "\n",
    "Daily counts:\n",
    "\n",
    "```sql\n",
    "CREATE VIEW czhu.btp_centreline_daily_counts_testsuite AS (\n",
    "    SELECT *\n",
    "    FROM czhu.btp_centreline_daily_counts\n",
    "    WHERE (count_year = 2010 AND centreline_id IN (241, 252, 410, 427, 487, 890, 104870, 446378) AND direction = -1)\n",
    "\t\tOR (count_year = 2011 AND centreline_id IN (170, 680, 890, 104870, 446378) AND direction = -1)\n",
    "\t\tOR (count_year = 2011 AND centreline_id IN (170, 104870) AND direction = 1)\n",
    "\t\tOR (count_year = 2012 AND centreline_id IN (241, 890, 1978, 104870, 446378) AND direction = -1)\n",
    "    ORDER BY count_year, centreline_id, direction, count_date\n",
    ")\n",
    "```\n",
    "\n",
    "While this notebook is being stored in `sandbox`, it was tested on `9e9d93586732e2b2872df58ba4580a95dff48b9c` of the `countmatch_sql` branch."
   ]
  },
  {
   "cell_type": "code",
   "execution_count": 1,
   "metadata": {},
   "outputs": [],
   "source": [
    "%matplotlib inline\n",
    "import sys\n",
    "sys.path.append('./bdit_traffic_prophet/')\n",
    "import importlib\n",
    "import numpy as np"
   ]
  },
  {
   "cell_type": "code",
   "execution_count": 2,
   "metadata": {},
   "outputs": [],
   "source": [
    "import pandas as pd\n",
    "from traffic_prophet import cfg\n",
    "import pathlib\n",
    "filepath = pathlib.Path.home().joinpath('.charlesconfig')"
   ]
  },
  {
   "cell_type": "code",
   "execution_count": 3,
   "metadata": {},
   "outputs": [],
   "source": [
    "from traffic_prophet import connection\n",
    "from traffic_prophet.countmatch import reader\n",
    "from traffic_prophet.countmatch import neighbour\n",
    "\n",
    "vol_conn = connection.Connection(filepath, 'POSTGRES',\n",
    "                                 'czhu.btp_centreline_daily_counts_testsuite')\n",
    "\n",
    "ll_conn = connection.Connection(filepath, 'POSTGRES',\n",
    "                                'czhu.btp_centreline_lonlat_testsuite')"
   ]
  },
  {
   "cell_type": "markdown",
   "metadata": {},
   "source": [
    "## Read in Postgres Tables"
   ]
  },
  {
   "cell_type": "code",
   "execution_count": 4,
   "metadata": {},
   "outputs": [],
   "source": [
    "rdr_p = reader.Reader(vol_conn)\n",
    "rdr_p.read()\n",
    "\n",
    "nb_p = neighbour.NeighbourLonLatManhattan(ll_conn, 5)"
   ]
  },
  {
   "cell_type": "code",
   "execution_count": 5,
   "metadata": {},
   "outputs": [
    {
     "data": {
      "text/html": [
       "<div>\n",
       "<style scoped>\n",
       "    .dataframe tbody tr th:only-of-type {\n",
       "        vertical-align: middle;\n",
       "    }\n",
       "\n",
       "    .dataframe tbody tr th {\n",
       "        vertical-align: top;\n",
       "    }\n",
       "\n",
       "    .dataframe thead th {\n",
       "        text-align: right;\n",
       "    }\n",
       "</style>\n",
       "<table border=\"1\" class=\"dataframe\">\n",
       "  <thead>\n",
       "    <tr style=\"text-align: right;\">\n",
       "      <th></th>\n",
       "      <th>Centreline ID</th>\n",
       "      <th>Lon</th>\n",
       "      <th>Lat</th>\n",
       "    </tr>\n",
       "  </thead>\n",
       "  <tbody>\n",
       "    <tr>\n",
       "      <th>0</th>\n",
       "      <td>170</td>\n",
       "      <td>-79.367524</td>\n",
       "      <td>43.717086</td>\n",
       "    </tr>\n",
       "    <tr>\n",
       "      <th>1</th>\n",
       "      <td>241</td>\n",
       "      <td>-79.376962</td>\n",
       "      <td>43.713921</td>\n",
       "    </tr>\n",
       "    <tr>\n",
       "      <th>2</th>\n",
       "      <td>252</td>\n",
       "      <td>-79.368784</td>\n",
       "      <td>43.713683</td>\n",
       "    </tr>\n",
       "    <tr>\n",
       "      <th>3</th>\n",
       "      <td>410</td>\n",
       "      <td>-79.367367</td>\n",
       "      <td>43.710128</td>\n",
       "    </tr>\n",
       "    <tr>\n",
       "      <th>4</th>\n",
       "      <td>427</td>\n",
       "      <td>-79.369148</td>\n",
       "      <td>43.709757</td>\n",
       "    </tr>\n",
       "    <tr>\n",
       "      <th>5</th>\n",
       "      <td>487</td>\n",
       "      <td>-79.302295</td>\n",
       "      <td>43.707757</td>\n",
       "    </tr>\n",
       "    <tr>\n",
       "      <th>6</th>\n",
       "      <td>680</td>\n",
       "      <td>-79.368196</td>\n",
       "      <td>43.705244</td>\n",
       "    </tr>\n",
       "    <tr>\n",
       "      <th>7</th>\n",
       "      <td>890</td>\n",
       "      <td>-79.335566</td>\n",
       "      <td>43.701201</td>\n",
       "    </tr>\n",
       "    <tr>\n",
       "      <th>8</th>\n",
       "      <td>1978</td>\n",
       "      <td>-79.362524</td>\n",
       "      <td>43.681949</td>\n",
       "    </tr>\n",
       "    <tr>\n",
       "      <th>9</th>\n",
       "      <td>104870</td>\n",
       "      <td>-79.199426</td>\n",
       "      <td>43.801128</td>\n",
       "    </tr>\n",
       "    <tr>\n",
       "      <th>10</th>\n",
       "      <td>446378</td>\n",
       "      <td>-79.487892</td>\n",
       "      <td>43.706922</td>\n",
       "    </tr>\n",
       "  </tbody>\n",
       "</table>\n",
       "</div>"
      ],
      "text/plain": [
       "    Centreline ID        Lon        Lat\n",
       "0             170 -79.367524  43.717086\n",
       "1             241 -79.376962  43.713921\n",
       "2             252 -79.368784  43.713683\n",
       "3             410 -79.367367  43.710128\n",
       "4             427 -79.369148  43.709757\n",
       "5             487 -79.302295  43.707757\n",
       "6             680 -79.368196  43.705244\n",
       "7             890 -79.335566  43.701201\n",
       "8            1978 -79.362524  43.681949\n",
       "9          104870 -79.199426  43.801128\n",
       "10         446378 -79.487892  43.706922"
      ]
     },
     "execution_count": 5,
     "metadata": {},
     "output_type": "execute_result"
    }
   ],
   "source": [
    "nb_p.data"
   ]
  },
  {
   "cell_type": "code",
   "execution_count": 6,
   "metadata": {},
   "outputs": [
    {
     "data": {
      "text/plain": [
       "{-890: <traffic_prophet.countmatch.reader.Count at 0x7f49d68a5978>,\n",
       " -104870: <traffic_prophet.countmatch.reader.Count at 0x7f49d6891f60>}"
      ]
     },
     "execution_count": 6,
     "metadata": {},
     "output_type": "execute_result"
    }
   ],
   "source": [
    "rdr_p.ptcs"
   ]
  },
  {
   "cell_type": "code",
   "execution_count": 7,
   "metadata": {},
   "outputs": [
    {
     "data": {
      "text/plain": [
       "{-241: <traffic_prophet.countmatch.reader.Count at 0x7f49d68a5b38>,\n",
       " -252: <traffic_prophet.countmatch.reader.Count at 0x7f49d8b81860>,\n",
       " -410: <traffic_prophet.countmatch.reader.Count at 0x7f49d8e13b38>,\n",
       " -427: <traffic_prophet.countmatch.reader.Count at 0x7f49d6888588>,\n",
       " -487: <traffic_prophet.countmatch.reader.Count at 0x7f49d68889e8>,\n",
       " -446378: <traffic_prophet.countmatch.reader.Count at 0x7f49d8bb43c8>,\n",
       " -170: <traffic_prophet.countmatch.reader.Count at 0x7f4a24bb0f60>,\n",
       " 170: <traffic_prophet.countmatch.reader.Count at 0x7f49d8bb4240>,\n",
       " -680: <traffic_prophet.countmatch.reader.Count at 0x7f49d68b4668>,\n",
       " -890: <traffic_prophet.countmatch.reader.Count at 0x7f49d68b4ba8>,\n",
       " -104870: <traffic_prophet.countmatch.reader.Count at 0x7f49d6888e10>,\n",
       " 104870: <traffic_prophet.countmatch.reader.Count at 0x7f49d68b4ac8>,\n",
       " -1978: <traffic_prophet.countmatch.reader.Count at 0x7f49d8b81e48>}"
      ]
     },
     "execution_count": 7,
     "metadata": {},
     "output_type": "execute_result"
    }
   ],
   "source": [
    "rdr_p.sttcs"
   ]
  },
  {
   "cell_type": "markdown",
   "metadata": {},
   "source": [
    "## Read in Test Suite Data"
   ]
  },
  {
   "cell_type": "code",
   "execution_count": 8,
   "metadata": {},
   "outputs": [],
   "source": [
    "from traffic_prophet.data import SAMPLE_ZIP\n",
    "from traffic_prophet.data import SAMPLE_LONLAT\n",
    "\n",
    "rdr_f = reader.Reader(SAMPLE_ZIP)\n",
    "rdr_f.read()\n",
    "\n",
    "nb_f = neighbour.NeighbourLonLatManhattan(SAMPLE_LONLAT, 5)"
   ]
  },
  {
   "cell_type": "markdown",
   "metadata": {},
   "source": [
    "## Check Neighbour Data Frames Are the Same"
   ]
  },
  {
   "cell_type": "code",
   "execution_count": 9,
   "metadata": {},
   "outputs": [],
   "source": [
    "assert np.array_equal(nb_f.data['Centreline ID'].values, nb_p.data['Centreline ID'].values)\n",
    "assert np.allclose(nb_f.data['Lon'].values, nb_p.data['Lon'].values, rtol=1e-6, atol=1e-6)\n",
    "assert np.allclose(nb_f.data['Lat'].values, nb_p.data['Lat'].values, rtol=1e-6, atol=1e-6)"
   ]
  },
  {
   "cell_type": "markdown",
   "metadata": {},
   "source": [
    "## Check Count Data Frames Are the Same (or Explainably Different)"
   ]
  },
  {
   "cell_type": "code",
   "execution_count": 10,
   "metadata": {},
   "outputs": [
    {
     "data": {
      "text/html": [
       "<div>\n",
       "<style scoped>\n",
       "    .dataframe tbody tr th:only-of-type {\n",
       "        vertical-align: middle;\n",
       "    }\n",
       "\n",
       "    .dataframe tbody tr th {\n",
       "        vertical-align: top;\n",
       "    }\n",
       "\n",
       "    .dataframe thead th {\n",
       "        text-align: right;\n",
       "    }\n",
       "</style>\n",
       "<table border=\"1\" class=\"dataframe\">\n",
       "  <thead>\n",
       "    <tr style=\"text-align: right;\">\n",
       "      <th></th>\n",
       "      <th></th>\n",
       "      <th>Date</th>\n",
       "      <th>Daily Count</th>\n",
       "    </tr>\n",
       "    <tr>\n",
       "      <th>Year</th>\n",
       "      <th>Day of Year</th>\n",
       "      <th></th>\n",
       "      <th></th>\n",
       "    </tr>\n",
       "  </thead>\n",
       "  <tbody>\n",
       "    <tr>\n",
       "      <th rowspan=\"3\" valign=\"top\">2010</th>\n",
       "      <th>96</th>\n",
       "      <td>2010-04-06</td>\n",
       "      <td>4126.0</td>\n",
       "    </tr>\n",
       "    <tr>\n",
       "      <th>97</th>\n",
       "      <td>2010-04-07</td>\n",
       "      <td>4313.0</td>\n",
       "    </tr>\n",
       "    <tr>\n",
       "      <th>98</th>\n",
       "      <td>2010-04-08</td>\n",
       "      <td>4288.0</td>\n",
       "    </tr>\n",
       "    <tr>\n",
       "      <th rowspan=\"3\" valign=\"top\">2012</th>\n",
       "      <th>157</th>\n",
       "      <td>2012-06-05</td>\n",
       "      <td>2243.0</td>\n",
       "    </tr>\n",
       "    <tr>\n",
       "      <th>158</th>\n",
       "      <td>2012-06-06</td>\n",
       "      <td>2312.0</td>\n",
       "    </tr>\n",
       "    <tr>\n",
       "      <th>159</th>\n",
       "      <td>2012-06-07</td>\n",
       "      <td>2341.0</td>\n",
       "    </tr>\n",
       "  </tbody>\n",
       "</table>\n",
       "</div>"
      ],
      "text/plain": [
       "                       Date  Daily Count\n",
       "Year Day of Year                        \n",
       "2010 96          2010-04-06       4126.0\n",
       "     97          2010-04-07       4313.0\n",
       "     98          2010-04-08       4288.0\n",
       "2012 157         2012-06-05       2243.0\n",
       "     158         2012-06-06       2312.0\n",
       "     159         2012-06-07       2341.0"
      ]
     },
     "execution_count": 10,
     "metadata": {},
     "output_type": "execute_result"
    }
   ],
   "source": [
    "rdr_p.sttcs[-241].data"
   ]
  },
  {
   "cell_type": "markdown",
   "metadata": {},
   "source": [
    "Check if the daily counts data frames are identical between Postgres and file readers."
   ]
  },
  {
   "cell_type": "code",
   "execution_count": 11,
   "metadata": {},
   "outputs": [],
   "source": [
    "bad_keys = []\n",
    "for k in rdr_f.sttcs.keys():\n",
    "    if (not rdr_f.sttcs[k].data.index.equals(rdr_p.sttcs[k].data.index) or\n",
    "            not np.array_equal(rdr_f.sttcs[k].data['Date'], rdr_p.sttcs[k].data['Date']) or\n",
    "            not np.allclose(rdr_f.sttcs[k].data['Daily Count'], rdr_p.sttcs[k].data['Daily Count'],\n",
    "                            rtol=1e-6, atol=1e-4)):\n",
    "        bad_keys.append(k)"
   ]
  },
  {
   "cell_type": "code",
   "execution_count": 12,
   "metadata": {},
   "outputs": [
    {
     "data": {
      "text/plain": [
       "[]"
      ]
     },
     "execution_count": 12,
     "metadata": {},
     "output_type": "execute_result"
    }
   ],
   "source": [
    "bad_keys"
   ]
  },
  {
   "cell_type": "code",
   "execution_count": 13,
   "metadata": {},
   "outputs": [],
   "source": [
    "def check_ptcs_equal(ptc1, ptc2):\n",
    "    # MADT\n",
    "    assert ptc1['MADT'].index.equals(ptc2['MADT'].index), \"MADT indices differ\"\n",
    "    mask = ~(np.isnan(ptc1['MADT']['MADT']) | np.isnan(ptc2['MADT']['MADT']))\n",
    "    assert np.allclose(ptc1['MADT']['MADT'].fillna(-9999999.),\n",
    "                       ptc2['MADT']['MADT'].fillna(-9999999.), rtol=1e-6, atol=1e-4), \"MADT values differ\"\n",
    "    assert ptc1['MADT']['Days in Month'].equals(ptc2['MADT']['Days in Month']), \"MADT Days in Month differ\"\n",
    "    \n",
    "    # DoMADT\n",
    "    assert ptc1['DoMADT'].index.equals(ptc2['DoMADT'].index), \"DoMADT indices differ\"\n",
    "    assert ptc1['DoMADT'].columns.equals(ptc2['DoMADT'].columns), \"DoMADT columns differ\"\n",
    "    assert np.allclose(ptc1['DoMADT'].fillna(-9999999.).values,\n",
    "                       ptc2['DoMADT'].fillna(-9999999.).values, rtol=1e-6, atol=1e-4), \"DoMADT values differ\"\n",
    "    \n",
    "    # DoM Factor\n",
    "    assert ptc1['DoM Factor'].index.equals(ptc2['DoM Factor'].index), \"DoMADT indices differ\"\n",
    "    assert ptc1['DoM Factor'].columns.equals(ptc2['DoM Factor'].columns), \"DoMADT columns differ\"\n",
    "    assert np.allclose(ptc1['DoM Factor'].fillna(-9999999.).values,\n",
    "                       ptc2['DoM Factor'].fillna(-9999999.).values, rtol=1e-6, atol=1e-4), \"DoMADT values differ\"\n",
    "    \n",
    "    # Daily Counts\n",
    "    assert ptc1['Daily Count'].index.equals(ptc2['Daily Count'].index), \"Daily count indices differ\"\n",
    "    assert np.array_equal(ptc1['Daily Count']['Date'], ptc2['Daily Count']['Date']), \"Daily count dates indices differ\"\n",
    "    assert np.allclose(ptc1['Daily Count']['Daily Count'], ptc1['Daily Count']['Daily Count'],\n",
    "                       rtol=1e-6, atol=1e-4), \"Daily count values differ\"\n",
    "\n",
    "    # AADT\n",
    "    assert ptc1['AADT'].index.equals(ptc2['AADT'].index), \"AADT indices differ\"\n",
    "    assert np.allclose(ptc1['AADT']['AADT'], ptc1['AADT']['AADT'],\n",
    "                       rtol=1e-6, atol=1e-4), \"AADT values differ\"\n",
    "\n",
    "bad_keys = []\n",
    "for k in rdr_f.ptcs.keys():\n",
    "    try:\n",
    "        check_ptcs_equal(rdr_f.ptcs[k].data, rdr_p.ptcs[k].data)\n",
    "    except AssertionError as exc:\n",
    "        print(\"ERROR ENCOUNTERED IN \", k)\n",
    "        raise exc"
   ]
  },
  {
   "cell_type": "code",
   "execution_count": 14,
   "metadata": {},
   "outputs": [
    {
     "data": {
      "text/plain": [
       "[]"
      ]
     },
     "execution_count": 14,
     "metadata": {},
     "output_type": "execute_result"
    }
   ],
   "source": [
    "bad_keys"
   ]
  },
  {
   "cell_type": "markdown",
   "metadata": {},
   "source": [
    "## Check Count Metadata Are the Same"
   ]
  },
  {
   "cell_type": "code",
   "execution_count": 15,
   "metadata": {},
   "outputs": [],
   "source": [
    "bad_keys = []\n",
    "for k in rdr_f.sttcs.keys():\n",
    "    if ((rdr_f.sttcs[k].centreline_id != rdr_p.sttcs[k].centreline_id) or\n",
    "            (rdr_f.sttcs[k].count_id != rdr_p.sttcs[k].count_id) or\n",
    "            (rdr_f.sttcs[k].direction != rdr_p.sttcs[k].direction)):\n",
    "        bad_keys.append(k)"
   ]
  },
  {
   "cell_type": "code",
   "execution_count": 16,
   "metadata": {},
   "outputs": [],
   "source": [
    "bad_keys = []\n",
    "for k in rdr_f.ptcs.keys():\n",
    "    if ((rdr_f.ptcs[k].centreline_id != rdr_p.ptcs[k].centreline_id) or\n",
    "            (rdr_f.ptcs[k].count_id != rdr_p.ptcs[k].count_id) or\n",
    "            (rdr_f.ptcs[k].direction != rdr_p.ptcs[k].direction)):\n",
    "        bad_keys.append(k)"
   ]
  }
 ],
 "metadata": {
  "kernelspec": {
   "display_name": "Python 3",
   "language": "python",
   "name": "python3"
  },
  "language_info": {
   "codemirror_mode": {
    "name": "ipython",
    "version": 3
   },
   "file_extension": ".py",
   "mimetype": "text/x-python",
   "name": "python",
   "nbconvert_exporter": "python",
   "pygments_lexer": "ipython3",
   "version": "3.6.8"
  }
 },
 "nbformat": 4,
 "nbformat_minor": 2
}

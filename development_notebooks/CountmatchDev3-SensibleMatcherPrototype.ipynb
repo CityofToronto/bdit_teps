{
 "cells": [
  {
   "cell_type": "markdown",
   "metadata": {},
   "source": [
    "# CountMatch Matcher Development\n",
    "## Part 3: Rewriting a Sensible Prototype Matcher\n",
    "\n",
    "This notebook investigates why our prototype in Part 1 produces a much noisier ground truth vs. predictions plot, and much worse mean absolute error, for 2011."
   ]
  },
  {
   "cell_type": "code",
   "execution_count": 1,
   "metadata": {},
   "outputs": [],
   "source": [
    "%matplotlib inline\n",
    "import sys\n",
    "sys.path.append('../')\n",
    "import importlib\n",
    "import matplotlib.pyplot as plt\n",
    "import numpy as np\n",
    "import knowyourdata as kyd\n",
    "\n",
    "import pandas as pd\n",
    "from traffic_prophet import cfg\n",
    "import pathlib, os\n",
    "import configparser\n",
    "\n",
    "from traffic_prophet import connection\n",
    "from traffic_prophet.countmatch import reader\n",
    "from traffic_prophet.countmatch import growthfactor as gf\n",
    "from traffic_prophet.countmatch import neighbour\n",
    "\n",
    "defaultcolours = plt.rcParams['axes.prop_cycle'].by_key()['color']\n",
    "\n",
    "filepath = pathlib.Path.home().joinpath('.charlesconfig')\n",
    "if os.path.isfile(filepath):\n",
    "    vol_conn = connection.Connection(filepath, 'POSTGRES',\n",
    "                                     'czhu.btp_centreline_daily_counts')\n",
    "    ll_conn = connection.Connection(filepath, 'POSTGRES',\n",
    "                                    'czhu.btp_centreline_lonlat')\n",
    "    config = configparser.RawConfigParser()\n",
    "    config.read(filepath.as_posix())\n",
    "    MAPBOX_TOKEN = config['MAPBOX']['token']\n",
    "    PLOTLY_USER = config['PLOTLY']['user']\n",
    "    PLOTLY_KEY = config['PLOTLY']['key']\n",
    "else:\n",
    "    filepath = pathlib.Path.home().joinpath('cf.txt')\n",
    "    vol_conn = connection.Connection(filepath, 'localpg',\n",
    "                                     'prj_vol.btp_centreline_daily_counts')\n",
    "    ll_conn = connection.Connection(filepath, 'localpg',\n",
    "                                    'gis.btp_centreline_lonlat')\n",
    "    config = configparser.RawConfigParser()\n",
    "    config.read(filepath.as_posix())\n",
    "    MAPBOX_TOKEN = config['mapbox']['token']\n",
    "    PLOTLY_USER = config['plotly']['user']\n",
    "    PLOTLY_KEY = config['plotly']['key']"
   ]
  },
  {
   "cell_type": "code",
   "execution_count": 2,
   "metadata": {},
   "outputs": [
    {
     "name": "stdout",
     "output_type": "stream",
     "text": [
      "CPU times: user 1min 42s, sys: 1.58 s, total: 1min 43s\n",
      "Wall time: 1min 53s\n"
     ]
    }
   ],
   "source": [
    "rdr = reader.Reader(vol_conn)\n",
    "%time rdr.read()"
   ]
  },
  {
   "cell_type": "code",
   "execution_count": 3,
   "metadata": {},
   "outputs": [],
   "source": [
    "gf.get_growth_factors(rdr)"
   ]
  },
  {
   "cell_type": "code",
   "execution_count": 4,
   "metadata": {},
   "outputs": [
    {
     "name": "stdout",
     "output_type": "stream",
     "text": [
      "CPU times: user 19.6 s, sys: 375 ms, total: 20 s\n",
      "Wall time: 19.9 s\n"
     ]
    }
   ],
   "source": [
    "ptc_ids = np.unique(np.abs(list(rdr.ptcs.keys())))\n",
    "nb = neighbour.NeighbourLonLatEuclidean(ll_conn, 20, ptc_ids)\n",
    "%time nb.find_neighbours()"
   ]
  },
  {
   "cell_type": "code",
   "execution_count": null,
   "metadata": {},
   "outputs": [],
   "source": []
  }
 ],
 "metadata": {
  "kernelspec": {
   "display_name": "Python 3",
   "language": "python",
   "name": "python3"
  },
  "language_info": {
   "codemirror_mode": {
    "name": "ipython",
    "version": 3
   },
   "file_extension": ".py",
   "mimetype": "text/x-python",
   "name": "python",
   "nbconvert_exporter": "python",
   "pygments_lexer": "ipython3",
   "version": "3.6.9"
  }
 },
 "nbformat": 4,
 "nbformat_minor": 2
}

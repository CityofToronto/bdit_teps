{
 "cells": [
  {
   "cell_type": "markdown",
   "metadata": {},
   "source": [
    "# CountMatch Matcher Development\n",
    "\n",
    "This notebook is a testbed for developing CountMatch's matcher."
   ]
  },
  {
   "cell_type": "code",
   "execution_count": 4,
   "metadata": {},
   "outputs": [],
   "source": [
    "%matplotlib inline\n",
    "import sys\n",
    "sys.path.append('../')\n",
    "import importlib\n",
    "import matplotlib.pyplot as plt\n",
    "import numpy as np\n",
    "import knowyourdata as kyd\n",
    "\n",
    "import pandas as pd\n",
    "from traffic_prophet import cfg\n",
    "import pathlib, os\n",
    "import configparser\n",
    "\n",
    "from traffic_prophet import connection\n",
    "from traffic_prophet.countmatch import reader\n",
    "from traffic_prophet.countmatch import growthfactor as gf\n",
    "from traffic_prophet.countmatch import neighbour\n",
    "\n",
    "defaultcolours = plt.rcParams['axes.prop_cycle'].by_key()['color']\n",
    "\n",
    "filepath = pathlib.Path.home().joinpath('.charlesconfig')\n",
    "if os.path.isfile(filepath):\n",
    "    vol_conn = connection.Connection(filepath, 'POSTGRES',\n",
    "                                     'czhu.btp_centreline_daily_counts')\n",
    "    ll_conn = connection.Connection(filepath, 'POSTGRES',\n",
    "                                    'czhu.btp_centreline_lonlat')\n",
    "    config = configparser.RawConfigParser()\n",
    "    config.read(filepath.as_posix())\n",
    "    MAPBOX_TOKEN = config['MAPBOX']['token']\n",
    "else:\n",
    "    filepath = pathlib.Path.home().joinpath('cf.txt')\n",
    "    vol_conn = connection.Connection(filepath, 'localpg',\n",
    "                                     'prj_vol.btp_centreline_daily_counts')\n",
    "    ll_conn = connection.Connection(filepath, 'localpg',\n",
    "                                    'gis.btp_centreline_lonlat')\n",
    "    config = configparser.RawConfigParser()\n",
    "    config.read(filepath.as_posix())\n",
    "    MAPBOX_TOKEN = config['mapbox']['token']"
   ]
  },
  {
   "cell_type": "code",
   "execution_count": 5,
   "metadata": {},
   "outputs": [
    {
     "ename": "OperationalError",
     "evalue": "could not connect to server: Connection refused\n\tIs the server running on host \"10.160.12.47\" and accepting\n\tTCP/IP connections on port 5432?\n",
     "output_type": "error",
     "traceback": [
      "\u001b[0;31m---------------------------------------------------------------------------\u001b[0m",
      "\u001b[0;31mOperationalError\u001b[0m                          Traceback (most recent call last)",
      "\u001b[0;32m<timed eval>\u001b[0m in \u001b[0;36m<module>\u001b[0;34m\u001b[0m\n",
      "\u001b[0;32m/mnt/c/Users/czhu5/Documents/Ubuntu/GitHub/bdit_traffic_prophet/traffic_prophet/countmatch/reader.py\u001b[0m in \u001b[0;36mread\u001b[0;34m(self)\u001b[0m\n\u001b[1;32m    243\u001b[0m     \u001b[0;32mdef\u001b[0m \u001b[0mread\u001b[0m\u001b[0;34m(\u001b[0m\u001b[0mself\u001b[0m\u001b[0;34m)\u001b[0m\u001b[0;34m:\u001b[0m\u001b[0;34m\u001b[0m\u001b[0;34m\u001b[0m\u001b[0m\n\u001b[1;32m    244\u001b[0m         \u001b[0;34m\"\"\"Read source data into dictionaries of counts.\"\"\"\u001b[0m\u001b[0;34m\u001b[0m\u001b[0;34m\u001b[0m\u001b[0m\n\u001b[0;32m--> 245\u001b[0;31m         \u001b[0mself\u001b[0m\u001b[0;34m.\u001b[0m\u001b[0m_reader\u001b[0m\u001b[0;34m(\u001b[0m\u001b[0;34m)\u001b[0m\u001b[0;34m\u001b[0m\u001b[0;34m\u001b[0m\u001b[0m\n\u001b[0m\u001b[1;32m    246\u001b[0m \u001b[0;34m\u001b[0m\u001b[0m\n\u001b[1;32m    247\u001b[0m     \u001b[0;32mdef\u001b[0m \u001b[0mread_zip\u001b[0m\u001b[0;34m(\u001b[0m\u001b[0mself\u001b[0m\u001b[0;34m)\u001b[0m\u001b[0;34m:\u001b[0m\u001b[0;34m\u001b[0m\u001b[0;34m\u001b[0m\u001b[0m\n",
      "\u001b[0;32m/mnt/c/Users/czhu5/Documents/Ubuntu/GitHub/bdit_traffic_prophet/traffic_prophet/countmatch/reader.py\u001b[0m in \u001b[0;36mread_sql\u001b[0;34m(self)\u001b[0m\n\u001b[1;32m    310\u001b[0m         \u001b[0;32mfor\u001b[0m \u001b[0myear\u001b[0m \u001b[0;32min\u001b[0m \u001b[0mrange\u001b[0m\u001b[0;34m(\u001b[0m\u001b[0mcfg\u001b[0m\u001b[0;34m.\u001b[0m\u001b[0mcm\u001b[0m\u001b[0;34m[\u001b[0m\u001b[0;34m'min_year'\u001b[0m\u001b[0;34m]\u001b[0m\u001b[0;34m,\u001b[0m \u001b[0mcfg\u001b[0m\u001b[0;34m.\u001b[0m\u001b[0mcm\u001b[0m\u001b[0;34m[\u001b[0m\u001b[0;34m'max_year'\u001b[0m\u001b[0;34m]\u001b[0m \u001b[0;34m+\u001b[0m \u001b[0;36m1\u001b[0m\u001b[0;34m)\u001b[0m\u001b[0;34m:\u001b[0m\u001b[0;34m\u001b[0m\u001b[0;34m\u001b[0m\u001b[0m\n\u001b[1;32m    311\u001b[0m             current_counts = [AnnualCount.from_raw_data(c)\n\u001b[0;32m--> 312\u001b[0;31m                               for c in self.get_sqlreader(year)]\n\u001b[0m\u001b[1;32m    313\u001b[0m \u001b[0;34m\u001b[0m\u001b[0m\n\u001b[1;32m    314\u001b[0m             \u001b[0;31m# Append counts to processed count dicts.\u001b[0m\u001b[0;34m\u001b[0m\u001b[0;34m\u001b[0m\u001b[0;34m\u001b[0m\u001b[0m\n",
      "\u001b[0;32m/mnt/c/Users/czhu5/Documents/Ubuntu/GitHub/bdit_traffic_prophet/traffic_prophet/countmatch/reader.py\u001b[0m in \u001b[0;36m<listcomp>\u001b[0;34m(.0)\u001b[0m\n\u001b[1;32m    309\u001b[0m         \u001b[0;31m# Cycle through all relevant years.\u001b[0m\u001b[0;34m\u001b[0m\u001b[0;34m\u001b[0m\u001b[0;34m\u001b[0m\u001b[0m\n\u001b[1;32m    310\u001b[0m         \u001b[0;32mfor\u001b[0m \u001b[0myear\u001b[0m \u001b[0;32min\u001b[0m \u001b[0mrange\u001b[0m\u001b[0;34m(\u001b[0m\u001b[0mcfg\u001b[0m\u001b[0;34m.\u001b[0m\u001b[0mcm\u001b[0m\u001b[0;34m[\u001b[0m\u001b[0;34m'min_year'\u001b[0m\u001b[0;34m]\u001b[0m\u001b[0;34m,\u001b[0m \u001b[0mcfg\u001b[0m\u001b[0;34m.\u001b[0m\u001b[0mcm\u001b[0m\u001b[0;34m[\u001b[0m\u001b[0;34m'max_year'\u001b[0m\u001b[0;34m]\u001b[0m \u001b[0;34m+\u001b[0m \u001b[0;36m1\u001b[0m\u001b[0;34m)\u001b[0m\u001b[0;34m:\u001b[0m\u001b[0;34m\u001b[0m\u001b[0;34m\u001b[0m\u001b[0m\n\u001b[0;32m--> 311\u001b[0;31m             current_counts = [AnnualCount.from_raw_data(c)\n\u001b[0m\u001b[1;32m    312\u001b[0m                               for c in self.get_sqlreader(year)]\n\u001b[1;32m    313\u001b[0m \u001b[0;34m\u001b[0m\u001b[0m\n",
      "\u001b[0;32m/mnt/c/Users/czhu5/Documents/Ubuntu/GitHub/bdit_traffic_prophet/traffic_prophet/countmatch/reader.py\u001b[0m in \u001b[0;36mget_sqlreader\u001b[0;34m(self, year)\u001b[0m\n\u001b[1;32m    321\u001b[0m \u001b[0;34m\u001b[0m\u001b[0m\n\u001b[1;32m    322\u001b[0m     \u001b[0;32mdef\u001b[0m \u001b[0mget_sqlreader\u001b[0m\u001b[0;34m(\u001b[0m\u001b[0mself\u001b[0m\u001b[0;34m,\u001b[0m \u001b[0myear\u001b[0m\u001b[0;34m)\u001b[0m\u001b[0;34m:\u001b[0m\u001b[0;34m\u001b[0m\u001b[0;34m\u001b[0m\u001b[0m\n\u001b[0;32m--> 323\u001b[0;31m         \u001b[0;32mwith\u001b[0m \u001b[0mself\u001b[0m\u001b[0;34m.\u001b[0m\u001b[0msource\u001b[0m\u001b[0;34m.\u001b[0m\u001b[0mconnect\u001b[0m\u001b[0;34m(\u001b[0m\u001b[0;34m)\u001b[0m \u001b[0;32mas\u001b[0m \u001b[0mdb_con\u001b[0m\u001b[0;34m:\u001b[0m\u001b[0;34m\u001b[0m\u001b[0;34m\u001b[0m\u001b[0m\n\u001b[0m\u001b[1;32m    324\u001b[0m             sql_cmd = (\n\u001b[1;32m    325\u001b[0m                 (\"SELECT centreline_id, direction, count_date, daily_count \"\n",
      "\u001b[0;32m/mnt/c/Users/czhu5/Documents/Ubuntu/GitHub/bdit_traffic_prophet/traffic_prophet/connection.py\u001b[0m in \u001b[0;36mconnect\u001b[0;34m(self)\u001b[0m\n\u001b[1;32m     19\u001b[0m \u001b[0;34m\u001b[0m\u001b[0m\n\u001b[1;32m     20\u001b[0m     \u001b[0;32mdef\u001b[0m \u001b[0mconnect\u001b[0m\u001b[0;34m(\u001b[0m\u001b[0mself\u001b[0m\u001b[0;34m)\u001b[0m\u001b[0;34m:\u001b[0m\u001b[0;34m\u001b[0m\u001b[0;34m\u001b[0m\u001b[0m\n\u001b[0;32m---> 21\u001b[0;31m         \u001b[0;32mreturn\u001b[0m \u001b[0mpsycopg2\u001b[0m\u001b[0;34m.\u001b[0m\u001b[0mconnect\u001b[0m\u001b[0;34m(\u001b[0m\u001b[0mdatabase\u001b[0m\u001b[0;34m=\u001b[0m\u001b[0mself\u001b[0m\u001b[0;34m.\u001b[0m\u001b[0mdbname\u001b[0m\u001b[0;34m,\u001b[0m \u001b[0;34m**\u001b[0m\u001b[0mself\u001b[0m\u001b[0;34m.\u001b[0m\u001b[0mcredentials\u001b[0m\u001b[0;34m)\u001b[0m\u001b[0;34m\u001b[0m\u001b[0;34m\u001b[0m\u001b[0m\n\u001b[0m",
      "\u001b[0;32m~/pipenv/bditto/lib/python3.6/site-packages/psycopg2/__init__.py\u001b[0m in \u001b[0;36mconnect\u001b[0;34m(dsn, connection_factory, cursor_factory, **kwargs)\u001b[0m\n\u001b[1;32m    124\u001b[0m \u001b[0;34m\u001b[0m\u001b[0m\n\u001b[1;32m    125\u001b[0m     \u001b[0mdsn\u001b[0m \u001b[0;34m=\u001b[0m \u001b[0m_ext\u001b[0m\u001b[0;34m.\u001b[0m\u001b[0mmake_dsn\u001b[0m\u001b[0;34m(\u001b[0m\u001b[0mdsn\u001b[0m\u001b[0;34m,\u001b[0m \u001b[0;34m**\u001b[0m\u001b[0mkwargs\u001b[0m\u001b[0;34m)\u001b[0m\u001b[0;34m\u001b[0m\u001b[0;34m\u001b[0m\u001b[0m\n\u001b[0;32m--> 126\u001b[0;31m     \u001b[0mconn\u001b[0m \u001b[0;34m=\u001b[0m \u001b[0m_connect\u001b[0m\u001b[0;34m(\u001b[0m\u001b[0mdsn\u001b[0m\u001b[0;34m,\u001b[0m \u001b[0mconnection_factory\u001b[0m\u001b[0;34m=\u001b[0m\u001b[0mconnection_factory\u001b[0m\u001b[0;34m,\u001b[0m \u001b[0;34m**\u001b[0m\u001b[0mkwasync\u001b[0m\u001b[0;34m)\u001b[0m\u001b[0;34m\u001b[0m\u001b[0;34m\u001b[0m\u001b[0m\n\u001b[0m\u001b[1;32m    127\u001b[0m     \u001b[0;32mif\u001b[0m \u001b[0mcursor_factory\u001b[0m \u001b[0;32mis\u001b[0m \u001b[0;32mnot\u001b[0m \u001b[0;32mNone\u001b[0m\u001b[0;34m:\u001b[0m\u001b[0;34m\u001b[0m\u001b[0;34m\u001b[0m\u001b[0m\n\u001b[1;32m    128\u001b[0m         \u001b[0mconn\u001b[0m\u001b[0;34m.\u001b[0m\u001b[0mcursor_factory\u001b[0m \u001b[0;34m=\u001b[0m \u001b[0mcursor_factory\u001b[0m\u001b[0;34m\u001b[0m\u001b[0;34m\u001b[0m\u001b[0m\n",
      "\u001b[0;31mOperationalError\u001b[0m: could not connect to server: Connection refused\n\tIs the server running on host \"10.160.12.47\" and accepting\n\tTCP/IP connections on port 5432?\n"
     ]
    }
   ],
   "source": [
    "rdr = reader.Reader(vol_conn)\n",
    "%time rdr.read()"
   ]
  },
  {
   "cell_type": "code",
   "execution_count": 3,
   "metadata": {},
   "outputs": [
    {
     "ename": "AttributeError",
     "evalue": "'NoneType' object has no attribute 'keys'",
     "output_type": "error",
     "traceback": [
      "\u001b[0;31m---------------------------------------------------------------------------\u001b[0m",
      "\u001b[0;31mAttributeError\u001b[0m                            Traceback (most recent call last)",
      "\u001b[0;32m<ipython-input-3-1a7a1bcb3b6a>\u001b[0m in \u001b[0;36m<module>\u001b[0;34m\u001b[0m\n\u001b[0;32m----> 1\u001b[0;31m \u001b[0mgf\u001b[0m\u001b[0;34m.\u001b[0m\u001b[0mget_growth_factors\u001b[0m\u001b[0;34m(\u001b[0m\u001b[0mrdr\u001b[0m\u001b[0;34m)\u001b[0m\u001b[0;34m\u001b[0m\u001b[0;34m\u001b[0m\u001b[0m\n\u001b[0m",
      "\u001b[0;32m/mnt/c/Users/czhu5/Documents/Ubuntu/GitHub/bdit_traffic_prophet/traffic_prophet/countmatch/growthfactor.py\u001b[0m in \u001b[0;36mget_growth_factors\u001b[0;34m(rdr)\u001b[0m\n\u001b[1;32m    145\u001b[0m \u001b[0;34m\u001b[0m\u001b[0m\n\u001b[1;32m    146\u001b[0m \u001b[0;32mdef\u001b[0m \u001b[0mget_growth_factors\u001b[0m\u001b[0;34m(\u001b[0m\u001b[0mrdr\u001b[0m\u001b[0;34m)\u001b[0m\u001b[0;34m:\u001b[0m\u001b[0;34m\u001b[0m\u001b[0;34m\u001b[0m\u001b[0m\n\u001b[0;32m--> 147\u001b[0;31m     \u001b[0;32mfor\u001b[0m \u001b[0mkey\u001b[0m \u001b[0;32min\u001b[0m \u001b[0mrdr\u001b[0m\u001b[0;34m.\u001b[0m\u001b[0mptcs\u001b[0m\u001b[0;34m.\u001b[0m\u001b[0mkeys\u001b[0m\u001b[0;34m(\u001b[0m\u001b[0;34m)\u001b[0m\u001b[0;34m:\u001b[0m\u001b[0;34m\u001b[0m\u001b[0;34m\u001b[0m\u001b[0m\n\u001b[0m\u001b[1;32m    148\u001b[0m         \u001b[0mrdr\u001b[0m\u001b[0;34m.\u001b[0m\u001b[0mptcs\u001b[0m\u001b[0;34m[\u001b[0m\u001b[0mkey\u001b[0m\u001b[0;34m]\u001b[0m \u001b[0;34m=\u001b[0m \u001b[0mPermCount\u001b[0m\u001b[0;34m.\u001b[0m\u001b[0mfrom_ptc_count_object\u001b[0m\u001b[0;34m(\u001b[0m\u001b[0mrdr\u001b[0m\u001b[0;34m.\u001b[0m\u001b[0mptcs\u001b[0m\u001b[0;34m[\u001b[0m\u001b[0mkey\u001b[0m\u001b[0;34m]\u001b[0m\u001b[0;34m)\u001b[0m\u001b[0;34m\u001b[0m\u001b[0;34m\u001b[0m\u001b[0m\n\u001b[1;32m    149\u001b[0m         \u001b[0mrdr\u001b[0m\u001b[0;34m.\u001b[0m\u001b[0mptcs\u001b[0m\u001b[0;34m[\u001b[0m\u001b[0mkey\u001b[0m\u001b[0;34m]\u001b[0m\u001b[0;34m.\u001b[0m\u001b[0mfit_growth\u001b[0m\u001b[0;34m(\u001b[0m\u001b[0;34m)\u001b[0m\u001b[0;34m\u001b[0m\u001b[0;34m\u001b[0m\u001b[0m\n",
      "\u001b[0;31mAttributeError\u001b[0m: 'NoneType' object has no attribute 'keys'"
     ]
    }
   ],
   "source": [
    "gf.get_growth_factors(rdr)"
   ]
  },
  {
   "cell_type": "code",
   "execution_count": null,
   "metadata": {},
   "outputs": [],
   "source": [
    "ptc_ids = np.unique(np.abs(list(rdr.ptcs.keys())))\n",
    "nb = neighbour.NeighbourLonLatEuclidean(ll_conn, 5, ptc_ids)\n",
    "%time nb.find_neighbours()"
   ]
  },
  {
   "cell_type": "markdown",
   "metadata": {},
   "source": [
    "## Growth Factor Diagnostic"
   ]
  },
  {
   "cell_type": "code",
   "execution_count": null,
   "metadata": {},
   "outputs": [],
   "source": [
    "growth_factors = pd.DataFrame([(x.count_id, x.growth_factor) for x in rdr.ptcs.values()])\n",
    "growth_factors.columns = ['count_id', 'growth_factor']\n",
    "growth_factors['n_years'] = [x.data['AADT'].shape[0] for x in rdr.ptcs.values()]"
   ]
  },
  {
   "cell_type": "code",
   "execution_count": null,
   "metadata": {},
   "outputs": [],
   "source": [
    "fig, ax = plt.subplots(figsize=(12, 8))\n",
    "growth_factors['growth_factor'].plot(kind='hist', bins=50, ax=ax)\n",
    "ax.set_xlabel(\"Year-on-year growth factor\");"
   ]
  },
  {
   "cell_type": "code",
   "execution_count": null,
   "metadata": {},
   "outputs": [],
   "source": [
    "growth_factors['deviation'] = np.abs(growth_factors['growth_factor'].values - 1.)"
   ]
  },
  {
   "cell_type": "code",
   "execution_count": null,
   "metadata": {},
   "outputs": [],
   "source": [
    "growth_factors.sort_values('deviation', ascending=False).head(20)"
   ]
  },
  {
   "cell_type": "code",
   "execution_count": null,
   "metadata": {},
   "outputs": [],
   "source": [
    "rdr.ptcs[-1147347].data['MADT']"
   ]
  },
  {
   "cell_type": "code",
   "execution_count": null,
   "metadata": {},
   "outputs": [],
   "source": [
    "rdr.ptcs[20044187].data['MADT']"
   ]
  },
  {
   "cell_type": "code",
   "execution_count": null,
   "metadata": {},
   "outputs": [],
   "source": [
    "rdr.ptcs[20044187].data['Daily Count'].loc[(2016, 130):(2016, 160), :]"
   ]
  },
  {
   "cell_type": "code",
   "execution_count": null,
   "metadata": {},
   "outputs": [],
   "source": [
    "rdr.ptcs[20044187].data['Daily Count'].loc[(2017, 130):(2017, 160), :]"
   ]
  },
  {
   "cell_type": "markdown",
   "metadata": {},
   "source": [
    "## How Close are PTCs?"
   ]
  },
  {
   "cell_type": "code",
   "execution_count": null,
   "metadata": {},
   "outputs": [],
   "source": [
    "fig, ax = plt.subplots(figsize=(12, 8))\n",
    "nb.data['Distances'].apply(lambda x: x[0]).plot(kind='hist', bins=50, ax=ax)\n",
    "ax.set_xlabel(\"Distance from short term count to nearest permanent count (km)\");"
   ]
  },
  {
   "cell_type": "code",
   "execution_count": null,
   "metadata": {},
   "outputs": [],
   "source": [
    "kyd.kyd(nb.data['Distances'].apply(lambda x: x[0]));"
   ]
  },
  {
   "cell_type": "code",
   "execution_count": null,
   "metadata": {},
   "outputs": [],
   "source": [
    "fig, ax = plt.subplots(figsize=(12, 8))\n",
    "nb.data['Distances'].apply(lambda x: x[1]).plot(kind='hist', bins=50, ax=ax, color=defaultcolours[1])\n",
    "ax.set_xlabel(\"Distance from short term count to second nearest permanent count (km)\");"
   ]
  },
  {
   "cell_type": "code",
   "execution_count": null,
   "metadata": {},
   "outputs": [],
   "source": [
    "kyd.kyd(nb.data['Distances'].apply(lambda x: x[1]));"
   ]
  },
  {
   "cell_type": "markdown",
   "metadata": {},
   "source": [
    "## Playground\n",
    "\n",
    "### NaN imputation"
   ]
  },
  {
   "cell_type": "code",
   "execution_count": null,
   "metadata": {},
   "outputs": [],
   "source": [
    "rdr.ptcs.keys()"
   ]
  },
  {
   "cell_type": "code",
   "execution_count": null,
   "metadata": {},
   "outputs": [],
   "source": [
    "null_ks = []\n",
    "for k in sorted(list(rdr.ptcs.keys())):\n",
    "    if np.any(rdr.ptcs[k].data['DoMADT'].isnull()):\n",
    "        null_ks.append(k)"
   ]
  },
  {
   "cell_type": "code",
   "execution_count": null,
   "metadata": {},
   "outputs": [],
   "source": [
    "null_ks"
   ]
  },
  {
   "cell_type": "code",
   "execution_count": null,
   "metadata": {
    "scrolled": false
   },
   "outputs": [],
   "source": [
    "rdr.ptcs[-13503833].data['DoM Factor']"
   ]
  },
  {
   "cell_type": "code",
   "execution_count": null,
   "metadata": {},
   "outputs": [],
   "source": [
    "rdr.ptcs[-13503833].data['Daily Count'].loc[(2010, 120):(2010, 150), :]"
   ]
  },
  {
   "cell_type": "code",
   "execution_count": null,
   "metadata": {},
   "outputs": [],
   "source": [
    "rdr.ptcs[-13503833].data['DoM Factor'].T.plot(figsize=(12,10), ylim=(0, 1.5))"
   ]
  },
  {
   "cell_type": "code",
   "execution_count": null,
   "metadata": {},
   "outputs": [],
   "source": [
    "# # https://scikit-learn.org/stable/auto_examples/impute/plot_iterative_imputer_variants_comparison.html#sphx-glr-auto-examples-impute-plot-iterative-imputer-variants-comparison-py\n",
    "from sklearn.experimental import enable_iterative_imputer  \n",
    "from sklearn.impute import IterativeImputer"
   ]
  },
  {
   "cell_type": "code",
   "execution_count": null,
   "metadata": {},
   "outputs": [],
   "source": [
    "IterativeImputer().fit_transform(rdr.ptcs[-13503833].data['DoM Factor'].values)[4, :]"
   ]
  },
  {
   "cell_type": "code",
   "execution_count": null,
   "metadata": {},
   "outputs": [],
   "source": [
    "rdr.ptcs[-13503833].data['DoM Factor'].values[4, :]"
   ]
  },
  {
   "cell_type": "markdown",
   "metadata": {},
   "source": [
    "### DoMSTTC emulator"
   ]
  },
  {
   "cell_type": "code",
   "execution_count": null,
   "metadata": {},
   "outputs": [],
   "source": [
    "# equivalent to isite == 1, which scans through Ms_abs one by one\n",
    "sttc = rdr.sttcs[-12448867]\n",
    "want_year = 2019\n",
    "\n",
    "sttc_current = sttc.data.iloc[0, :]\n",
    "sttc_dow = sttc_current['Date'].dayofweek\n",
    "sttc_year = sttc_current['Date'].year"
   ]
  },
  {
   "cell_type": "code",
   "execution_count": null,
   "metadata": {},
   "outputs": [],
   "source": [
    "# temp1 and temp2, sort of\n",
    "neighbours, distances = nb.get_neighbours(sttc.centreline_id)"
   ]
  },
  {
   "cell_type": "code",
   "execution_count": null,
   "metadata": {},
   "outputs": [],
   "source": [
    "# We don't need sel_ids, since we store data for each neighbour in its own rdr object.\n",
    "neighbours"
   ]
  },
  {
   "cell_type": "code",
   "execution_count": null,
   "metadata": {},
   "outputs": [],
   "source": [
    "# GR_STTC=mean(GR(:,1));\n",
    "growth_rate_citywide = np.mean([v.growth_factor for v in rdr.ptcs.values()])"
   ]
  },
  {
   "cell_type": "code",
   "execution_count": null,
   "metadata": {},
   "outputs": [],
   "source": [
    "growth_rate_citywide"
   ]
  },
  {
   "cell_type": "code",
   "execution_count": null,
   "metadata": {},
   "outputs": [],
   "source": [
    "# Pick a PTC\n",
    "i = 2\n",
    "cptc = rdr.ptcs[neighbours[i]]"
   ]
  },
  {
   "cell_type": "code",
   "execution_count": null,
   "metadata": {},
   "outputs": [],
   "source": [
    "# Ratio between AADT and daily count.\n",
    "\n",
    "# Equivalent to setting D_all\n",
    "cptc.data['DoY Ratio'] = cptc.data['Daily Count'].loc[:, ['Date']].copy()\n",
    "for year in cptc.data['Daily Count'].index.levels[0].values:\n",
    "    cptc.data['DoY Ratio'].loc[year, 'Day-to-AADT Ratio'] = (cptc.data['AADT'].at[year, 'AADT'] /\n",
    "                                                             cptc.data['Daily Count'].loc[year, 'Daily Count']).values"
   ]
  },
  {
   "cell_type": "code",
   "execution_count": null,
   "metadata": {},
   "outputs": [],
   "source": [
    "cptc.data['DoY Ratio'].reset_index(inplace=True)\n",
    "cptc.data['DoY Ratio']['Month'] = cptc.data['DoY Ratio']['Date'].dt.month\n",
    "cptc.data['DoY Ratio']['Day of Week'] = cptc.data['DoY Ratio']['Date'].dt.dayofweek"
   ]
  },
  {
   "cell_type": "code",
   "execution_count": null,
   "metadata": {},
   "outputs": [],
   "source": [
    "cptc.data['DoY Ratio']['Day of Week'].unique()"
   ]
  },
  {
   "cell_type": "code",
   "execution_count": null,
   "metadata": {},
   "outputs": [],
   "source": [
    "# If day-of-week exists in cptc, take average for the MADT, DoM Factor, DoMADT and Day-to-AADT ratio,\n",
    "# weighted by the number of days of week in each month that are the STTC day-of-week, for the closest\n",
    "# year with the day-of-week available.\n",
    "cptc_doy_dow = cptc.data['DoY Ratio'].loc[cptc.data['DoY Ratio']['Day of Week'] == sttc_dow, :]\n",
    "\n",
    "# Number of days of the week in each year and month.\n",
    "N_days = (cptc.data['DoY Ratio'].reset_index().groupby(['Year', 'Month', 'Day of Week'])['Day-to-AADT Ratio']\n",
    "          .count().unstack())\n",
    "\n",
    "if cptc_doy_dow.shape[0]:\n",
    "    # If there's a tie for the closest year, this takes the closest year BEFORE the STTC\n",
    "    # year (since unique_years is ordered and np.argmin returns the first smallest value).\n",
    "    unique_years = cptc_doy_dow['Year'].unique()\n",
    "    closest_year = unique_years[np.argmin(np.abs(unique_years - sttc_year))]\n",
    "    \n",
    "    day_to_aadt_ratio_avg = (cptc_doy_dow\n",
    "                             .loc[cptc_doy_dow['Year'] == closest_year, 'Day-to-AADT Ratio']\n",
    "                             .mean(skipna=True))\n",
    "\n",
    "    # Double loc is shortest way I've discovered to get single-index series.\n",
    "    weights = N_days.loc[closest_year, :].loc[:, sttc_dow]\n",
    "    madt_avg = np.average(cptc.data['MADT'].loc[closest_year, 'MADT'][weights.index].values, weights=weights.values)\n",
    "    dom_avg = np.average(cptc.data['DoM Factor'].loc[closest_year, :].loc[weights.index, sttc_dow], weights=weights.values)\n",
    "    domadt_avg = np.average(cptc.data['DoMADT'].loc[closest_year, :].loc[weights.index, sttc_dow], weights=weights.values)\n",
    "\n",
    "    aadt_closest_year = cptc.data['AADT'].at[closest_year, 'AADT']\n",
    "# If the day of week doesn't exist, just take the averages for the closest year, weighted by all\n",
    "# the values.\n",
    "else:\n",
    "    unique_years = cptc.data['Year'].unique()\n",
    "    closest_year = unique_years[np.argmin(np.abs(unique_years - sttc_year))]\n",
    "    day_to_aadt_ratio_avg = (cptc.data['DoY Ratio']\n",
    "                             .loc[cptc.data['Year'] == closest_year, 'Day-to-AADT Ratio']\n",
    "                             .mean(skipna=True))\n",
    "\n",
    "    n_days_closest_year = N_days.loc[closest_year, :]\n",
    "\n",
    "    madt_weights = n_days_closest_year.sum(axis=1, skipna=True)\n",
    "    madt_avg = np.average(cptc.data['MADT'].loc[closest_year, 'MADT'][madt_weights.index].values, weights=madt_weights.values)\n",
    "\n",
    "    dom_closest_year = cptc.data['DoM Factor'].loc[closest_year, :]\n",
    "    assert np.array_equal(dom_closest_year.index, n_days_closest_year.index)\n",
    "    assert np.array_equal(dom_closest_year.columns, n_days_closest_year.columns)\n",
    "    dom_avg = np.average(dom_closest_year.values, weights=n_days_closest_year.values)\n",
    "    domadt_avg = np.average(cptc.data['DoMADT'].loc[closest_year, :].values, weights=n_days_closest_year.values)\n",
    "    \n",
    "    assert np.array_equal(dom_closest_year.index, n_days_closest_year.index)"
   ]
  },
  {
   "cell_type": "code",
   "execution_count": null,
   "metadata": {},
   "outputs": [],
   "source": [
    "# Mothballed algos\n",
    "# Get unique year for each day of week in DoY Ratio\n",
    "# def closest_year(x, ref_year):\n",
    "#     unique_years = x.unique()\n",
    "#     return unique_years[np.argmin(np.abs(unique_years - ref_year))]\n",
    "\n",
    "# cptc.data['DoY Ratio'].groupby('Day of Week')['Year'].apply(closest_year, ref_year=2010)\n",
    "\n",
    "# Find all months in the closest year that have data.\n",
    "# months_to_include = (cptc.data['DoM Factor']\n",
    "#                      .loc[closest_year:closest_year, sttc_current['Date'].dayofweek]\n",
    "#                      .dropna()).index.levels[1].values"
   ]
  },
  {
   "cell_type": "code",
   "execution_count": null,
   "metadata": {},
   "outputs": [],
   "source": [
    "print(closest_year, day_to_aadt_ratio_avg, madt_avg, dom_avg, domadt_avg, aadt_closest_year)"
   ]
  },
  {
   "cell_type": "code",
   "execution_count": null,
   "metadata": {},
   "outputs": [],
   "source": [
    "AADT_prelim = sttc.data['Daily Count'].mean() * day_to_aadt_ratio_avg * growth_rate_citywide**(want_year - sttc_year)\n",
    "MADT_pj = sttc_current['Daily Count'] * dom_avg * growth_rate_citywide**(want_year - sttc_year)\n",
    "MF_STTC = MADT_pj / AADT_prelim\n",
    "MF_PTC = madt_avg / aadt_closest_year"
   ]
  },
  {
   "cell_type": "code",
   "execution_count": null,
   "metadata": {},
   "outputs": [],
   "source": [
    "print(AADT_prelim, MADT_pj, MF_STTC, MF_PTC)"
   ]
  },
  {
   "cell_type": "markdown",
   "metadata": {},
   "source": [
    "We can simplify this significantly by pre-calculating all these values."
   ]
  },
  {
   "cell_type": "code",
   "execution_count": null,
   "metadata": {},
   "outputs": [],
   "source": [
    "p = cptc\n",
    "\n",
    "available_years = p.data['Daily Count'].index.levels[0].values\n",
    "\n",
    "# Get ratio between AADT and daily count\n",
    "doyr = p.data['Daily Count'].loc[:, ['Date']].copy()\n",
    "for year in available_years:\n",
    "    doyr.loc[year, 'Day-to-AADT Ratio'] = (\n",
    "        p.data['AADT'].at[year, 'AADT'] /\n",
    "        p.data['Daily Count'].loc[year, 'Daily Count']).values\n",
    "doyr.reset_index(inplace=True)\n",
    "doyr['Month'] = doyr['Date'].dt.month\n",
    "doyr['Day of Week'] = doyr['Date'].dt.dayofweek\n",
    "\n",
    "# Get day-to-AADT ratios for each day of week and year.\n",
    "ptc_mse_dow = pd.DataFrame(\n",
    "    doyr.groupby(['Day of Week', 'Year'])['Day-to-AADT Ratio'].mean())\n",
    "\n",
    "# Number of days of the week in each year and month.\n",
    "N_days = (doyr.reset_index()\n",
    "          .groupby(['Year', 'Month', 'Day of Week'])['Day-to-AADT Ratio']\n",
    "          .count().unstack())\n",
    "\n",
    "madt_avg = []\n",
    "dom_avg = []\n",
    "domadt_avg = []\n",
    "for dow, year in ptc_mse_dow.index:\n",
    "    # Double loc is shortest way I've discovered to get single-index series.\n",
    "    weights = N_days.loc[year, :].loc[:, dow]\n",
    "\n",
    "    madt_avg.append(np.average(p.data['MADT'].loc[year, 'MADT'][weights.index].values, weights=weights.values))\n",
    "    dom_avg.append(np.average(p.data['DoM Factor'].loc[year, :].loc[weights.index, dow], weights=weights.values))\n",
    "    domadt_avg.append(np.average(p.data['DoMADT'].loc[year, :].loc[weights.index, dow], weights=weights.values))\n",
    "\n",
    "ptc_mse_dow['MADT Avg.'] = madt_avg\n",
    "ptc_mse_dow['DoM Factor Avg.'] = dom_avg\n",
    "ptc_mse_dow['DoMADT Avg.'] = domadt_avg\n",
    "\n",
    "ptc_mse_yo = pd.DataFrame(doyr.groupby('Year')['Day-to-AADT Ratio'].mean())\n",
    "\n",
    "madt_avg = []\n",
    "dom_avg = []\n",
    "domadt_avg = []\n",
    "for year in ptc_mse_yo.index:\n",
    "    n_days_year = N_days.loc[year, :]\n",
    "    madt_weights = n_days_year.sum(axis=1, skipna=True)\n",
    "\n",
    "    madt_avg.append(np.average(p.data['MADT'].loc[year, 'MADT'][madt_weights.index].values, weights=madt_weights.values))\n",
    "\n",
    "    dom_year = cptc.data['DoM Factor'].loc[year, :]\n",
    "    dom_avg.append(np.average(dom_year.values, weights=n_days_year.values))\n",
    "    domadt_avg.append(np.average(p.data['DoMADT'].loc[year, :].values, weights=n_days_year.values))\n",
    "\n",
    "ptc_mse_yo['MADT Avg.'] = madt_avg\n",
    "ptc_mse_yo['DoM Factor Avg.'] = dom_avg\n",
    "ptc_mse_yo['DoMADT Avg.'] = domadt_avg"
   ]
  },
  {
   "cell_type": "code",
   "execution_count": null,
   "metadata": {},
   "outputs": [],
   "source": [
    "ptc_mse_dow"
   ]
  },
  {
   "cell_type": "code",
   "execution_count": null,
   "metadata": {},
   "outputs": [],
   "source": [
    "ptc_mse_yo"
   ]
  },
  {
   "cell_type": "code",
   "execution_count": null,
   "metadata": {},
   "outputs": [],
   "source": [
    "if sttc_dow in ptc_mse_dow.index.levels[0]:\n",
    "    unique_years = ptc_mse_dow.loc[sttc_dow].index.values\n",
    "    closest_year = unique_years[\n",
    "                        np.argmin(np.abs(unique_years - sttc_year))]\n",
    "ptc_mse_dow.loc[(sttc_dow, closest_year)]"
   ]
  },
  {
   "cell_type": "markdown",
   "metadata": {},
   "source": [
    "## Functionalize DoMSTTC emulator"
   ]
  },
  {
   "cell_type": "code",
   "execution_count": null,
   "metadata": {},
   "outputs": [],
   "source": [
    "def nanaverage(x, axis=None, weights=None):\n",
    "    if weights is None:\n",
    "        return np.nanmean(x)\n",
    "    notnull = ~(np.isnan(x) | np.isnan(weights))\n",
    "    return np.average(x[notnull], axis=axis, weights=weights[notnull])\n",
    "\n",
    "x = np.random.randint(0, 331, 144).astype(float).reshape(12,12)\n",
    "w = np.random.rand(144).reshape(12,12)\n",
    "x[7, 1] = x[9, 2] = x[3, 1] = np.nan\n",
    "w[2, 2] = np.nan\n",
    "\n",
    "xr = x.ravel()\n",
    "wr = w.ravel()\n",
    "rnotnull = ~(np.isnan(xr) | np.isnan(wr))\n",
    "assert np.isclose(np.average(xr[rnotnull], weights=wr[rnotnull]), nanaverage(x, weights=w), atol=1e-8, rtol=1e-10)"
   ]
  },
  {
   "cell_type": "code",
   "execution_count": null,
   "metadata": {},
   "outputs": [],
   "source": [
    "def mse_preprocess_ptc_loop(p):\n",
    "    available_years = p.data['Daily Count'].index.levels[0].values\n",
    "\n",
    "    # Get ratio between AADT and daily count\n",
    "    doyr = p.data['Daily Count'].loc[:, ['Date']].copy()\n",
    "    for year in available_years:\n",
    "        doyr.loc[year, 'Day-to-AADT Ratio'] = (\n",
    "            p.data['AADT'].at[year, 'AADT'] /\n",
    "            p.data['Daily Count'].loc[year, 'Daily Count']).values\n",
    "    doyr.reset_index(inplace=True)\n",
    "    doyr['Month'] = doyr['Date'].dt.month\n",
    "    doyr['Day of Week'] = doyr['Date'].dt.dayofweek\n",
    "    \n",
    "    # Number of days of the week in each year and month.  Fill NaNs with\n",
    "    # 0.\n",
    "    N_days = (doyr.reset_index()\n",
    "              .groupby(['Year', 'Month', 'Day of Week'])['Day-to-AADT Ratio']\n",
    "              .count().unstack(fill_value=0.))\n",
    "\n",
    "    # Create two arrays - first breaks down values by day-of-week and year.\n",
    "    # First, get day-to-AADT ratios for each day of week and year.\n",
    "    ptc_mse_ydow = pd.DataFrame(\n",
    "        doyr.groupby(['Day of Week', 'Year'])['Day-to-AADT Ratio'].mean())\n",
    "\n",
    "    # Then, for each day-of-week, calculate MADT, DoMADT, etc. averages\n",
    "    # weighted by number of days-of-the-week available in the month.\n",
    "    madt_avg = []\n",
    "    dom_avg = []\n",
    "    domadt_avg = []\n",
    "    for dow, year in ptc_mse_ydow.index:\n",
    "        # Double loc is shortest way I've discovered to get single-index\n",
    "        # series.\n",
    "        weights = N_days.loc[year, :].loc[:, dow]\n",
    "\n",
    "        madt_avg.append(np.average(\n",
    "            p.data['MADT'].loc[year, 'MADT'][weights.index].values,\n",
    "            weights=weights.values))\n",
    "        dom_avg.append(nanaverage(\n",
    "            p.data['DoM Factor'].loc[year, :].loc[weights.index, dow],\n",
    "            weights=weights.values))\n",
    "        domadt_avg.append(nanaverage(\n",
    "            p.data['DoMADT'].loc[year, :].loc[weights.index, dow],\n",
    "            weights=weights.values))\n",
    "        \n",
    "    ptc_mse_ydow['MADT Avg.'] = madt_avg\n",
    "    ptc_mse_ydow['DoM Factor Avg.'] = dom_avg\n",
    "    ptc_mse_ydow['DoMADT Avg.'] = domadt_avg\n",
    "    \n",
    "    if (ptc_mse_ydow['MADT Avg.'].isnull().values.any() or\n",
    "            ptc_mse_ydow['DoM Factor Avg.'].isnull().values.any() or\n",
    "            ptc_mse_ydow['DoM Factor Avg.'].isnull().values.any()):\n",
    "        raise ValueError(\"yeah, you shouldn't be getting nulls for ydow tables.\")\n",
    "\n",
    "    # Now, create a second array that breaks down the same values but only\n",
    "    # by year.\n",
    "    ptc_mse_yo = pd.DataFrame(doyr.groupby('Year')['Day-to-AADT Ratio'].mean())\n",
    "\n",
    "    madt_avg = []\n",
    "    dom_avg = []\n",
    "    domadt_avg = []\n",
    "    for year in ptc_mse_yo.index:\n",
    "        n_days_year = N_days.loc[year, :]\n",
    "        madt_weights = n_days_year.sum(axis=1, skipna=True)\n",
    "\n",
    "        madt_avg.append(np.average(\n",
    "            p.data['MADT'].loc[year, 'MADT'][madt_weights.index].values,\n",
    "            weights=madt_weights.values))\n",
    "\n",
    "        dom_year = p.data['DoM Factor'].loc[year, :]\n",
    "        dom_avg.append(nanaverage(\n",
    "            dom_year.values, weights=n_days_year.values))\n",
    "        domadt_avg.append(nanaverage(\n",
    "            p.data['DoMADT'].loc[year, :].values, weights=n_days_year.values))\n",
    "\n",
    "    ptc_mse_yo['MADT Avg.'] = madt_avg\n",
    "    ptc_mse_yo['DoM Factor Avg.'] = dom_avg\n",
    "    ptc_mse_yo['DoMADT Avg.'] = domadt_avg\n",
    "\n",
    "    if (ptc_mse_yo['MADT Avg.'].isnull().values.any() or\n",
    "            ptc_mse_yo['DoM Factor Avg.'].isnull().values.any() or\n",
    "            ptc_mse_yo['DoM Factor Avg.'].isnull().values.any()):\n",
    "        raise ValueError(\"yeah, you shouldn't be getting nulls for yo tables.\")\n",
    "\n",
    "    return doyr, ptc_mse_ydow, ptc_mse_yo\n",
    "\n",
    "def mse_preprocess_ptcs(ptcs):\n",
    "    for p in ptcs.values():\n",
    "        doyr, ptc_mse_ydow, ptc_mse_yo = mse_preprocess_ptc_loop(p)\n",
    "        p.mse_pp = {\n",
    "            'Day-to-AADT': doyr,\n",
    "            'MSE_yDoW': ptc_mse_ydow,\n",
    "            'MSE_y': ptc_mse_yo\n",
    "        }"
   ]
  },
  {
   "cell_type": "code",
   "execution_count": null,
   "metadata": {},
   "outputs": [],
   "source": [
    "%time mse_preprocess_ptcs(rdr.ptcs)"
   ]
  },
  {
   "cell_type": "code",
   "execution_count": null,
   "metadata": {},
   "outputs": [],
   "source": [
    "rdr.ptcs[-14659244].mse_pp['MSE_yDoW']['MADT Avg.']"
   ]
  },
  {
   "cell_type": "code",
   "execution_count": null,
   "metadata": {},
   "outputs": [],
   "source": [
    "rdr.ptcs[8540609].mse_pp"
   ]
  },
  {
   "cell_type": "code",
   "execution_count": null,
   "metadata": {},
   "outputs": [],
   "source": [
    "tc_dc = rdr.sttcs[-175].data.reset_index()\n",
    "tc_dc['Day of Week'] = tc_dc['Date'].dt.dayofweek\n",
    "\n",
    "for i, row in tc_dc.iterrows():\n",
    "    ryear, rdow = row['Year'], row['Day of Week']\n",
    "    print(ryear, rdow, rdow in rdr.ptcs[neighbours[2]].mse_pp['MSE_yDoW'].index.levels[0])"
   ]
  },
  {
   "cell_type": "code",
   "execution_count": null,
   "metadata": {},
   "outputs": [],
   "source": [
    "rdr.ptcs[neighbours[2]].mse_pp['MSE_yDoW'].loc[(0, 2015)]"
   ]
  },
  {
   "cell_type": "code",
   "execution_count": null,
   "metadata": {},
   "outputs": [],
   "source": [
    "day_to_aadt_ratio_avg, madt_avg, dom_avg, domadt_avg = rdr.ptcs[neighbours[2]].mse_pp['MSE_yDoW'].loc[(0, 2015)]"
   ]
  },
  {
   "cell_type": "code",
   "execution_count": null,
   "metadata": {},
   "outputs": [],
   "source": [
    "print(day_to_aadt_ratio_avg, madt_avg, dom_avg, domadt_avg)"
   ]
  },
  {
   "cell_type": "code",
   "execution_count": null,
   "metadata": {},
   "outputs": [],
   "source": [
    "rdr.ptcs[neighbours[2]].mse_pp['MSE_yDoW'].loc[0].index"
   ]
  },
  {
   "cell_type": "code",
   "execution_count": null,
   "metadata": {},
   "outputs": [],
   "source": [
    "# equivalent to isite == 1, which scans through Ms_abs one by one\n",
    "sttc = rdr.sttcs[-12448867]\n",
    "want_year = 2019\n",
    "\n",
    "sttc_current = sttc.data.iloc[0, :]\n",
    "sttc_dow = sttc_current['Date'].dayofweek\n",
    "sttc_year = sttc_current['Date'].year\n",
    "\n",
    "AADT_prelim = sttc.data['Daily Count'].mean() * day_to_aadt_ratio_avg * growth_rate_citywide**(want_year - sttc_year)\n",
    "MADT_pj = sttc_current['Daily Count'] * dom_avg * growth_rate_citywide**(want_year - sttc_year)\n",
    "MF_STTC = MADT_pj / AADT_prelim\n",
    "MF_PTC = madt_avg / aadt_closest_year"
   ]
  },
  {
   "cell_type": "code",
   "execution_count": null,
   "metadata": {},
   "outputs": [],
   "source": [
    "rdr.ptcs[neighbours[2]].mse_pp['MSE_y'].loc[2015]"
   ]
  },
  {
   "cell_type": "code",
   "execution_count": null,
   "metadata": {},
   "outputs": [],
   "source": [
    "tc_dc"
   ]
  },
  {
   "cell_type": "code",
   "execution_count": null,
   "metadata": {},
   "outputs": [],
   "source": [
    "tc_dc"
   ]
  },
  {
   "cell_type": "code",
   "execution_count": null,
   "metadata": {},
   "outputs": [],
   "source": [
    "tc = rdr.sttcs[-12448867]\n",
    "rptcs = rdr.ptcs\n",
    "# Find neighbouring PTCs by first finding neighbouring centreline IDs,\n",
    "# then checking if either direction exists in rptcs.\n",
    "neighbours, distances = nb.get_neighbours(tc.centreline_id)\n",
    "neighbour_ptcs = [rptcs[n] for n in\n",
    "                  [-nbrs for nbrs in neighbours] + neighbours\n",
    "                  if n in rptcs.keys()]\n",
    "\n",
    "# Declare the columns in the final saved data frame.\n",
    "tc_year = []\n",
    "tc_dayofyear = []\n",
    "tc_ptcid = []\n",
    "tc_day_to_aadt_ratio_avg = []\n",
    "tc_madt_avg = []\n",
    "tc_dom_avg = []\n",
    "tc_domadt_avg = []\n",
    "tc_closest_year = []\n",
    "tc_aadt_closest_year = []\n",
    "\n",
    "tc_dc = tc.data.reset_index()\n",
    "tc_dc['Day of Week'] = tc_dc['Date'].dt.dayofweek\n",
    "\n",
    "for i, row in tc_dc.iterrows():\n",
    "    ryear, rdow = row['Year'], row['Day of Week']\n",
    "\n",
    "    for p in neighbour_ptcs:\n",
    "\n",
    "        if rdow in p.mse_pp['MSE_yDoW'].index.levels[0]:\n",
    "            unique_years = p.mse_pp['MSE_yDoW'].loc[rdow].index.values\n",
    "            closest_year = unique_years[np.argmin(\n",
    "                np.abs(unique_years - ryear))]\n",
    "\n",
    "            (day_to_aadt_ratio_avg, madt_avg, dom_avg, domadt_avg) = (\n",
    "               p.mse_pp['MSE_yDoW'].loc[(rdow, closest_year)])\n",
    "        else:\n",
    "            # Levels contain all unique years regardless if each is\n",
    "            # available for every day-of-week.\n",
    "            unique_years = p.mse_pp['MSE_yDoW'].index.levels[1].values\n",
    "            closest_year = unique_years[np.argmin(\n",
    "                np.abs(unique_years - ryear))]\n",
    "\n",
    "            (day_to_aadt_ratio_avg, madt_avg, dom_avg, domadt_avg) = (\n",
    "               p.mse_pp['MSE_y'].loc[closest_year])\n",
    "\n",
    "        aadt_closest_year = p.data['AADT'].at[closest_year, 'AADT']\n",
    "\n",
    "        tc_year.append(ryear)\n",
    "        tc_dayofyear.append(row['Day of Year'])\n",
    "        tc_ptcid.append(p.count_id)\n",
    "        tc_day_to_aadt_ratio_avg.append(day_to_aadt_ratio_avg)\n",
    "        tc_madt_avg.append(madt_avg)\n",
    "        tc_dom_avg.append(dom_avg)\n",
    "        tc_domadt_avg.append(domadt_avg)\n",
    "        tc_closest_year.append(closest_year)\n",
    "        tc_aadt_closest_year.append(aadt_closest_year)"
   ]
  },
  {
   "cell_type": "code",
   "execution_count": null,
   "metadata": {},
   "outputs": [],
   "source": [
    "tc_mse = pd.DataFrame({\n",
    "    'Year': tc_year,\n",
    "    'Day of Year': tc_dayofyear,\n",
    "    'PTC ID': tc_ptcid,\n",
    "    'PTC Day-to-AADT Ratio': tc_day_to_aadt_ratio_avg,\n",
    "    'PTC MADT Avg.': tc_madt_avg,\n",
    "    'PTC DoM Factor Avg.': tc_dom_avg,\n",
    "    'PTC DoMADT Avg.': tc_domadt_avg,\n",
    "    'PTC Closest Year AADT': tc_aadt_closest_year\n",
    "})"
   ]
  },
  {
   "cell_type": "code",
   "execution_count": null,
   "metadata": {},
   "outputs": [],
   "source": [
    "tc_mse = pd.merge(tc_dc, tc_mse, on=('Year', 'Day of Year'))\n",
    "\n",
    "# I disagree with this, but line 95 of DoMSTTC.m seems to do it.\n",
    "mean_tc_count = tc_dc['Daily Count'].mean()\n",
    "\n",
    "tc_mse['AADT_prelim'] = (\n",
    "    mean_tc_count * tc_mse['PTC Day-to-AADT Ratio'] *\n",
    "    growth_rate_citywide**(want_year - tc_mse['Year']))\n",
    "tc_mse['MADT_pj'] = (\n",
    "    tc_mse['Daily Count'] * tc_mse['PTC DoM Factor Avg.'] *\n",
    "    growth_rate_citywide**(want_year - tc_mse['Year']))\n",
    "tc_mse['MF_STTC'] = tc_mse['MADT_pj'] / tc_mse['AADT_prelim']\n",
    "tc_mse['MF_PTC'] = (tc_mse['PTC MADT Avg.'] /\n",
    "                    tc_mse['PTC Closest Year AADT'])\n",
    "\n",
    "tc.tc_mse = tc_mse"
   ]
  },
  {
   "cell_type": "code",
   "execution_count": null,
   "metadata": {},
   "outputs": [],
   "source": [
    "tc_mse "
   ]
  },
  {
   "cell_type": "code",
   "execution_count": null,
   "metadata": {},
   "outputs": [],
   "source": [
    "def get_normalized_seasonal_patterns(tcs, rptcs, want_year):\n",
    "    \"\"\"Get normalized seasonal patterns for `tcs`.\n",
    "\n",
    "    For STTCs, get best estimate normalized patterns and corresponding PTC\n",
    "    normalized patterns to check for MSE (Eqn. 6 in Bagheri).  For PTCs, get\n",
    "    best estimate from nearby PTCs and check as a part of validation.\n",
    "    \"\"\"\n",
    "    growth_rate_citywide = np.mean([v.growth_factor for v in rptcs.values()])\n",
    "\n",
    "    for tc in tcs.values():\n",
    "        # Find neighbouring PTCs by first finding neighbouring centreline IDs,\n",
    "        # then checking if either direction exists in rptcs.\n",
    "        neighbours, distances = nb.get_neighbours(tc.centreline_id)\n",
    "        neighbour_ptcs = [rptcs[n] for n in\n",
    "                          [-nbrs for nbrs in neighbours] + neighbours\n",
    "                          if n in rptcs.keys()]\n",
    "\n",
    "        # Declare the columns in the final saved data frame.\n",
    "        tc_year = []\n",
    "        tc_dayofyear = []\n",
    "        tc_ptcid = []\n",
    "        tc_day_to_aadt_ratio_avg = []\n",
    "        tc_madt_avg = []\n",
    "        tc_dom_avg = []\n",
    "        tc_domadt_avg = []\n",
    "        tc_closest_year = []\n",
    "        tc_aadt_closest_year = []\n",
    "\n",
    "        if tc.is_permanent:\n",
    "            tc_dc = tc.data['Daily Count'].reset_index()\n",
    "        else:\n",
    "            tc_dc = tc.data.reset_index()\n",
    "        tc_dc['Day of Week'] = tc_dc['Date'].dt.dayofweek\n",
    "\n",
    "        for i, row in tc_dc.iterrows():\n",
    "            ryear, rdow = row['Year'], row['Day of Week']\n",
    "\n",
    "            for p in neighbour_ptcs:\n",
    "\n",
    "                if rdow in p.mse_pp['MSE_yDoW'].index.levels[0]:\n",
    "                    unique_years = p.mse_pp['MSE_yDoW'].loc[rdow].index.values\n",
    "                    closest_year = unique_years[np.argmin(\n",
    "                        np.abs(unique_years - ryear))]\n",
    "\n",
    "                    (day_to_aadt_ratio_avg, madt_avg, dom_avg, domadt_avg) = (\n",
    "                       p.mse_pp['MSE_yDoW'].loc[(rdow, closest_year)])\n",
    "                else:\n",
    "                    # Levels contain all unique years regardless if each is\n",
    "                    # available for every day-of-week.\n",
    "                    unique_years = p.mse_pp['MSE_yDoW'].index.levels[1].values\n",
    "                    closest_year = unique_years[np.argmin(\n",
    "                        np.abs(unique_years - ryear))]\n",
    "\n",
    "                    (day_to_aadt_ratio_avg, madt_avg, dom_avg, domadt_avg) = (\n",
    "                       p.mse_pp['MSE_y'].loc[closest_year])\n",
    "                \n",
    "                if madt_avg is np.nan:\n",
    "                    raise ValueError(\"ummmmm, this can't be NaN.\")\n",
    "\n",
    "                aadt_closest_year = p.data['AADT'].at[closest_year, 'AADT']\n",
    "\n",
    "                tc_year.append(ryear)\n",
    "                tc_dayofyear.append(row['Day of Year'])\n",
    "                tc_ptcid.append(p.count_id)\n",
    "                tc_day_to_aadt_ratio_avg.append(day_to_aadt_ratio_avg)\n",
    "                tc_madt_avg.append(madt_avg)\n",
    "                tc_dom_avg.append(dom_avg)\n",
    "                tc_domadt_avg.append(domadt_avg)\n",
    "                tc_closest_year.append(closest_year)\n",
    "                tc_aadt_closest_year.append(aadt_closest_year)\n",
    "\n",
    "        tc_mse = pd.DataFrame({\n",
    "            'Year': tc_year,\n",
    "            'Day of Year': tc_dayofyear,\n",
    "            'PTC ID': tc_ptcid,\n",
    "            'PTC Day-to-AADT Ratio': tc_day_to_aadt_ratio_avg,\n",
    "            'PTC MADT Avg.': tc_madt_avg,\n",
    "            'PTC DoM Factor Avg.': tc_dom_avg,\n",
    "            'PTC DoMADT Avg.': tc_domadt_avg,\n",
    "            'PTC Closest Year AADT': tc_aadt_closest_year\n",
    "        })\n",
    "\n",
    "        tc_mse = pd.merge(tc_dc, tc_mse, on=('Year', 'Day of Year'))\n",
    "\n",
    "        # I disagree with this, but line 95 of DoMSTTC.m seems to do it.\n",
    "        mean_tc_count = tc_dc['Daily Count'].mean()\n",
    "\n",
    "        tc_mse['AADT_prelim'] = (\n",
    "            mean_tc_count * tc_mse['PTC Day-to-AADT Ratio'] *\n",
    "            growth_rate_citywide**(want_year - tc_mse['Year']))\n",
    "        tc_mse['MADT_pj'] = (\n",
    "            tc_mse['Daily Count'] * tc_mse['PTC DoM Factor Avg.'] *\n",
    "            growth_rate_citywide**(want_year - tc_mse['Year']))\n",
    "        tc_mse['MF_STTC'] = tc_mse['MADT_pj'] / tc_mse['AADT_prelim']\n",
    "        tc_mse['MF_PTC'] = (tc_mse['PTC MADT Avg.'] /\n",
    "                            tc_mse['PTC Closest Year AADT'])\n",
    "\n",
    "        tc.tc_mse = tc_mse"
   ]
  },
  {
   "cell_type": "code",
   "execution_count": null,
   "metadata": {},
   "outputs": [],
   "source": [
    "%time get_normalized_seasonal_patterns(rdr.sttcs, rdr.ptcs, 2018)"
   ]
  },
  {
   "cell_type": "code",
   "execution_count": null,
   "metadata": {},
   "outputs": [],
   "source": [
    "%time get_normalized_seasonal_patterns(rdr.ptcs, rdr.ptcs, 2018)"
   ]
  },
  {
   "cell_type": "code",
   "execution_count": null,
   "metadata": {
    "scrolled": false
   },
   "outputs": [],
   "source": [
    "rdr.ptcs[8540609].tc_mse"
   ]
  },
  {
   "cell_type": "markdown",
   "metadata": {},
   "source": [
    "## MSE Calculator\n",
    "\n",
    "- Get mean squared error for each STTC/PTC pair (regardless of year)\n",
    "- Get mean D_ij for each STTC/PTC pair (regardless of year)\n",
    "- Then for each STTC:\n",
    "  - Determine the PTC that gives the minimum MSE.  Use the D_ij from that PTC.\n",
    "  - Find the closest year of counts to the want_year\n",
    "  - Find the mean daily traffic, mean PTC AADT, and mean growth factor (all these means are row-by-row, and many are means of the same number since there's a lot of repetition in DoM_STTC)\n",
    "  - Get the growth rate; right now it's *still* the global growth rate averaged over all PTCs.\n",
    "  - Determine an AADT estimate using Mean daily traffic of closest year * Dij(minimum MSE PTC station) * GR ^ (want_year - closest_year)\n",
    "- For each PTC:\n",
    "  - Find the year closest to wanted year\n",
    "  - Find the mean daily traffic (averaged over rows, with no heed taken to weight by monthly representation)\n",
    "  - Find the mean growth factor for that station\n",
    "  - Determine an AADT estimate using mean daily traffic * GR^(want_year - closest_year)"
   ]
  },
  {
   "cell_type": "code",
   "execution_count": null,
   "metadata": {},
   "outputs": [],
   "source": [
    "rdr.sttcs[117].tc_mse"
   ]
  },
  {
   "cell_type": "code",
   "execution_count": null,
   "metadata": {},
   "outputs": [],
   "source": [
    "rdr.sttcs[117].tc_mse['Square Deviation'] = (\n",
    "    rdr.sttcs[117].tc_mse['MF_STTC'] - rdr.sttcs[117].tc_mse['MF_PTC'])**2"
   ]
  },
  {
   "cell_type": "code",
   "execution_count": null,
   "metadata": {},
   "outputs": [],
   "source": [
    "rdr.sttcs[117].tc_mse.groupby('PTC ID')[['Square Deviation', 'PTC Day-to-AADT Ratio']].mean()"
   ]
  },
  {
   "cell_type": "code",
   "execution_count": null,
   "metadata": {},
   "outputs": [],
   "source": [
    "ptc_dijs = (rdr.sttcs[117].tc_mse\n",
    "            .groupby('PTC ID')[['Square Deviation', 'PTC Day-to-AADT Ratio']]\n",
    "            .mean())\n",
    "id_min_mse_ptc = ptc_dijs['Square Deviation'].idxmin()\n",
    "dij_min_mse_ptc = ptc_dijs.at[id_min_mse_ptc, 'PTC Day-to-AADT Ratio']"
   ]
  },
  {
   "cell_type": "code",
   "execution_count": null,
   "metadata": {},
   "outputs": [],
   "source": [
    "print(id_min_mse_ptc, dij_min_mse_ptc)"
   ]
  },
  {
   "cell_type": "code",
   "execution_count": null,
   "metadata": {},
   "outputs": [],
   "source": [
    "sttc_years = rdr.sttcs[117].data.index.levels[0].values\n",
    "closest_year = sttc_years[np.abs(want_year - sttc_years).argmin()]"
   ]
  },
  {
   "cell_type": "code",
   "execution_count": null,
   "metadata": {},
   "outputs": [],
   "source": [
    "growth_rate_citywide = np.mean([v.growth_factor for v in rdr.ptcs.values()])"
   ]
  },
  {
   "cell_type": "code",
   "execution_count": null,
   "metadata": {},
   "outputs": [],
   "source": [
    "sttc_avg_daily_count_closest_year = rdr.sttcs[117].data.loc[closest_year]['Daily Count'].mean()"
   ]
  },
  {
   "cell_type": "code",
   "execution_count": null,
   "metadata": {},
   "outputs": [],
   "source": [
    "aadt_estimate = (sttc_avg_daily_count_closest_year * dij_min_mse_ptc *\n",
    "                 growth_rate_citywide**(want_year - closest_year))"
   ]
  },
  {
   "cell_type": "code",
   "execution_count": null,
   "metadata": {},
   "outputs": [],
   "source": [
    "aadt_estimate"
   ]
  },
  {
   "cell_type": "code",
   "execution_count": null,
   "metadata": {},
   "outputs": [],
   "source": [
    "ptc_years = rdr.ptcs[8540609].data['AADT'].index.values\n",
    "closest_year = ptc_years[np.abs(want_year - ptc_years).argmin()]\n",
    "ptc_avg_daily_count_cy = rdr.ptcs[8540609].data['Daily Count'].loc[closest_year]['Daily Count'].mean()\n",
    "aadt_estimate = ptc_avg_daily_count_cy * rdr.ptcs[8540609].growth_factor**(want_year - closest_year)"
   ]
  },
  {
   "cell_type": "code",
   "execution_count": null,
   "metadata": {},
   "outputs": [],
   "source": [
    "aadt_estimate"
   ]
  },
  {
   "cell_type": "markdown",
   "metadata": {},
   "source": [
    "### Functionalize AADT Estimator"
   ]
  },
  {
   "cell_type": "code",
   "execution_count": null,
   "metadata": {},
   "outputs": [],
   "source": [
    "def get_aadt_estimates_sttc(rdr, want_year):\n",
    "\n",
    "    sttc_count_id = []\n",
    "    sttc_ptc_id_minmse = []\n",
    "    sttc_dij_minmse = []\n",
    "    sttc_closest_year = []\n",
    "    sttc_aadt_est = []\n",
    "    \n",
    "    # Average of all PTC growth rates.\n",
    "    sttc_gr = np.mean([v.growth_factor for v in rdr.ptcs.values()])\n",
    "\n",
    "    for tc in rdr.sttcs.values():\n",
    "        # Calculate pointwise square error between STTC and neighbouring PTCs,\n",
    "        # ignoring year.\n",
    "        tc.tc_mse['Square Deviation'] = (\n",
    "            tc.tc_mse['MF_STTC'] - tc.tc_mse['MF_PTC'])**2\n",
    "\n",
    "        # Determine minimum MSE between STTC and each PTC.\n",
    "        dijs = (tc.tc_mse\n",
    "                .groupby('PTC ID')[['Square Deviation',\n",
    "                                    'PTC Day-to-AADT Ratio']]\n",
    "                .mean())\n",
    "        ptcid_mmse = dijs['Square Deviation'].idxmin()\n",
    "        dij_mmseptc = dijs.at[ptcid_mmse, 'PTC Day-to-AADT Ratio']\n",
    "        \n",
    "        # Determine average daily count for most recent year to wanted year.\n",
    "        sttc_years = tc.data.index.levels[0].values\n",
    "        closest_year = sttc_years[np.abs(want_year - sttc_years).argmin()]\n",
    "        sttc_daily_count_cyavg = tc.data.loc[closest_year]['Daily Count'].mean()\n",
    "        \n",
    "        aadt_estimate = (\n",
    "            sttc_daily_count_cyavg * dij_mmseptc *\n",
    "            sttc_gr**(want_year - closest_year))\n",
    "        \n",
    "        # Add to lists.\n",
    "        sttc_count_id.append(tc.count_id)\n",
    "        sttc_ptc_id_minmse.append(ptcid_mmse)\n",
    "        sttc_dij_minmse.append(dij_mmseptc)\n",
    "        sttc_closest_year.append(closest_year)\n",
    "        sttc_aadt_est.append(aadt_estimate)\n",
    "        \n",
    "    sttc_aadt = pd.DataFrame({\n",
    "        'Count ID': sttc_count_id,\n",
    "        'PTC ID': sttc_ptc_id_minmse,\n",
    "        'D_ij': sttc_dij_minmse,\n",
    "        'Closest Year': sttc_closest_year,\n",
    "        'AADT Estimate': sttc_aadt_est})\n",
    "\n",
    "    ptc_count_id = []\n",
    "    ptc_closest_year = []\n",
    "    ptc_growth_factor = []\n",
    "    ptc_aadt_estimate = []\n",
    "    \n",
    "    for tc in rdr.ptcs.values():\n",
    "        ptc_years = tc.data['AADT'].index.values\n",
    "        closest_year = ptc_years[np.abs(want_year - ptc_years).argmin()]\n",
    "        ptc_daily_count_cyavg = tc.data['Daily Count'].loc[closest_year]['Daily Count'].mean()\n",
    "        aadt_estimate = ptc_daily_count_cyavg * tc.growth_factor**(want_year - closest_year)\n",
    "        \n",
    "        ptc_count_id.append(tc.count_id)\n",
    "        ptc_closest_year.append(closest_year)\n",
    "        ptc_growth_factor.append(tc.growth_factor)\n",
    "        ptc_aadt_estimate.append(aadt_estimate)\n",
    "        \n",
    "    ptc_aadt = pd.DataFrame({\n",
    "        'Count ID': ptc_count_id,\n",
    "        'Closest Year': ptc_closest_year,\n",
    "        'Growth Factor': ptc_growth_factor,\n",
    "        'AADT Estimate': ptc_aadt_estimate})\n",
    "\n",
    "    return sttc_aadt, ptc_aadt"
   ]
  },
  {
   "cell_type": "code",
   "execution_count": null,
   "metadata": {},
   "outputs": [],
   "source": [
    "%time sttc_aadt, ptc_aadt = get_aadt_estimates_sttc(rdr, 2019)"
   ]
  },
  {
   "cell_type": "code",
   "execution_count": null,
   "metadata": {},
   "outputs": [],
   "source": [
    "ptc_aadt"
   ]
  },
  {
   "cell_type": "code",
   "execution_count": null,
   "metadata": {},
   "outputs": [],
   "source": [
    "sttc_aadt"
   ]
  },
  {
   "cell_type": "markdown",
   "metadata": {},
   "source": [
    "## Do Some Analysis"
   ]
  },
  {
   "cell_type": "code",
   "execution_count": null,
   "metadata": {},
   "outputs": [],
   "source": [
    "import geopandas as gpd\n",
    "import matplotlib.colors as colors\n",
    "\n",
    "sql_query = (\"SELECT centreline_id, fcode_desc, geom, lon, lat,\"\n",
    "             \"ST_SetSRID(ST_MakePoint(lon, lat), 4326) point_geom \"\n",
    "             \"FROM {table}\").format(table=ll_conn.tablename)\n",
    "ctrline_geoms = gpd.read_postgis(sql_query, ll_conn.connect())"
   ]
  },
  {
   "cell_type": "code",
   "execution_count": null,
   "metadata": {},
   "outputs": [],
   "source": [
    "sttc_aadt['Centreline ID'] = sttc_aadt['Count ID'].abs()\n",
    "ptc_aadt['Centreline ID'] = ptc_aadt['Count ID'].abs()\n",
    "\n",
    "aadt_estimates = (\n",
    "    pd.concat([sttc_aadt.loc[sttc_aadt['Count ID'].apply(lambda x: x not in ptc_aadt['Count ID']),\n",
    "                             ['Count ID', 'Centreline ID', 'AADT Estimate']],\n",
    "    ptc_aadt.loc[:, ['Count ID', 'Centreline ID', 'AADT Estimate']]]).reset_index(drop=True))\n",
    "\n",
    "aadt_estimates = pd.merge(\n",
    "    ctrline_geoms[['centreline_id', 'geom']],\n",
    "    (aadt_estimates.groupby('Centreline ID')[['AADT Estimate']]\n",
    "     .mean().reset_index()), how='inner',\n",
    "    left_on='centreline_id', right_on='Centreline ID')\n",
    "aadt_estimates = gpd.GeoDataFrame(aadt_estimates, crs={'init': 'epsg:4326'}, geometry='geom')"
   ]
  },
  {
   "cell_type": "code",
   "execution_count": null,
   "metadata": {},
   "outputs": [],
   "source": [
    "fig, ax = plt.subplots(figsize=(12, 9))\n",
    "aadt_estimates['AADT Estimate'].hist(ax=ax, bins=100, log=True)"
   ]
  },
  {
   "cell_type": "code",
   "execution_count": null,
   "metadata": {
    "scrolled": false
   },
   "outputs": [],
   "source": [
    "fig = plt.figure(figsize=(12, 9))\n",
    "fig.patch.set_facecolor('#1c1c1c')\n",
    "ax = fig.add_axes([0., 0., 1., 1.])\n",
    "ax.axis('off')\n",
    "# Not absolute minimum, for more color dynamics.\n",
    "min_aadt = aadt_estimates['AADT Estimate'].quantile(0.05)\n",
    "max_aadt = aadt_estimates['AADT Estimate'].max()\n",
    "aadt_estimates.to_crs(epsg=3857).plot(column='AADT Estimate', ax=ax, cmap='viridis',\n",
    "                                      norm=colors.LogNorm(), vmin=min_aadt, vmax=max_aadt)"
   ]
  }
 ],
 "metadata": {
  "kernelspec": {
   "display_name": "Python 3",
   "language": "python",
   "name": "python3"
  },
  "language_info": {
   "codemirror_mode": {
    "name": "ipython",
    "version": 3
   },
   "file_extension": ".py",
   "mimetype": "text/x-python",
   "name": "python",
   "nbconvert_exporter": "python",
   "pygments_lexer": "ipython3",
   "version": "3.6.9"
  }
 },
 "nbformat": 4,
 "nbformat_minor": 2
}

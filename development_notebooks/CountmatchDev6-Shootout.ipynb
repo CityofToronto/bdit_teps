{
 "cells": [
  {
   "cell_type": "code",
   "execution_count": 1,
   "metadata": {},
   "outputs": [],
   "source": [
    "%matplotlib inline\n",
    "import sys\n",
    "sys.path.append('../')\n",
    "import importlib\n",
    "import matplotlib.pyplot as plt\n",
    "import numpy as np\n",
    "import knowyourdata as kyd\n",
    "\n",
    "import pandas as pd\n",
    "from traffic_prophet import cfg\n",
    "import pathlib, os\n",
    "import configparser\n",
    "\n",
    "from traffic_prophet import connection\n",
    "from traffic_prophet.countmatch import reader\n",
    "from traffic_prophet.countmatch import growthfactor as gf\n",
    "from traffic_prophet.countmatch import neighbour\n",
    "\n",
    "defaultcolours = plt.rcParams['axes.prop_cycle'].by_key()['color']\n",
    "\n",
    "filepath = pathlib.Path.home().joinpath('.charlesconfig')\n",
    "if os.path.isfile(filepath):\n",
    "    vol_conn = connection.Connection(filepath, 'POSTGRES',\n",
    "                                     'czhu.btp_centreline_daily_counts')\n",
    "    ll_conn = connection.Connection(filepath, 'POSTGRES',\n",
    "                                    'czhu.btp_centreline_lonlat')\n",
    "    config = configparser.RawConfigParser()\n",
    "    config.read(filepath.as_posix())\n",
    "    MAPBOX_TOKEN = config['MAPBOX']['token']\n",
    "    PLOTLY_USER = config['PLOTLY']['user']\n",
    "    PLOTLY_KEY = config['PLOTLY']['key']\n",
    "else:\n",
    "    filepath = pathlib.Path.home().joinpath('cf.txt')\n",
    "    vol_conn = connection.Connection(filepath, 'localpg',\n",
    "                                     'prj_vol.btp_centreline_daily_counts')\n",
    "    ll_conn = connection.Connection(filepath, 'localpg',\n",
    "                                    'gis.btp_centreline_lonlat')\n",
    "    config = configparser.RawConfigParser()\n",
    "    config.read(filepath.as_posix())\n",
    "    MAPBOX_TOKEN = config['mapbox']['token']\n",
    "    PLOTLY_USER = config['plotly']['user']\n",
    "    PLOTLY_KEY = config['plotly']['apikey']"
   ]
  },
  {
   "cell_type": "code",
   "execution_count": 2,
   "metadata": {},
   "outputs": [],
   "source": [
    "rdr = reader.Reader(vol_conn)\n",
    "rdr.read()\n",
    "gf.get_growth_factors(rdr)"
   ]
  },
  {
   "cell_type": "code",
   "execution_count": 3,
   "metadata": {},
   "outputs": [],
   "source": [
    "ptc_ids = np.unique(np.abs(list(rdr.ptcs.keys())))\n",
    "nb = neighbour.NeighbourLonLatEuclidean(ll_conn, 20, ptc_ids)\n",
    "nb.find_neighbours()"
   ]
  },
  {
   "cell_type": "code",
   "execution_count": 10,
   "metadata": {},
   "outputs": [
    {
     "data": {
      "text/plain": [
       "<module 'countmatch_teps' from '/mnt/c/Users/czhu5/Documents/Ubuntu/GitHub/bdit_traffic_prophet/development_notebooks/countmatch_teps.py'>"
      ]
     },
     "execution_count": 10,
     "metadata": {},
     "output_type": "execute_result"
    }
   ],
   "source": [
    "import importlib\n",
    "import countmatch_teps as cmt\n",
    "import countmatch_bagheri as cmb\n",
    "import countmatch_hybrid as cmh\n",
    "import countmatch_validator as cmv\n",
    "importlib.reload(cmv)\n",
    "importlib.reload(cmb)\n",
    "importlib.reload(cmh)\n",
    "importlib.reload(cmt)"
   ]
  },
  {
   "cell_type": "code",
   "execution_count": 27,
   "metadata": {},
   "outputs": [],
   "source": [
    "from tqdm.auto import tqdm"
   ]
  },
  {
   "cell_type": "code",
   "execution_count": 11,
   "metadata": {},
   "outputs": [
    {
     "data": {
      "application/vnd.jupyter.widget-view+json": {
       "model_id": "b88eba2f175449e8b16fd4614a1e9c80",
       "version_major": 2,
       "version_minor": 0
      },
      "text/plain": [
       "HBox(children=(FloatProgress(value=0.0, description='Generating data', style=ProgressStyle(description_width='…"
      ]
     },
     "metadata": {},
     "output_type": "display_data"
    },
    {
     "name": "stdout",
     "output_type": "stream",
     "text": [
      "\n"
     ]
    }
   ],
   "source": [
    "fake_dataset = cmv.generate_test_database(rdr, n_sets=100, progress_bar=True)"
   ]
  },
  {
   "cell_type": "code",
   "execution_count": 16,
   "metadata": {},
   "outputs": [
    {
     "data": {
      "text/plain": [
       "166"
      ]
     },
     "execution_count": 16,
     "metadata": {},
     "output_type": "execute_result"
    }
   ],
   "source": [
    "len(fake_dataset[0].sttcs)"
   ]
  },
  {
   "cell_type": "code",
   "execution_count": 17,
   "metadata": {},
   "outputs": [],
   "source": [
    "sttc_n_years = [len(x.data.index.levels[0]) for x in rdr.sttcs.values()]"
   ]
  },
  {
   "cell_type": "code",
   "execution_count": 18,
   "metadata": {},
   "outputs": [],
   "source": [
    "fake_sttc_n_years = []\n",
    "for dset in fake_dataset:\n",
    "    fake_sttc_n_years += [len(x.data.index.levels[0]) for x in dset.sttcs.values()]"
   ]
  },
  {
   "cell_type": "code",
   "execution_count": 21,
   "metadata": {},
   "outputs": [
    {
     "data": {
      "image/png": "[encoded data removed]",
      "text/plain": [
       "<Figure size 720x576 with 1 Axes>"
      ]
     },
     "metadata": {
      "needs_background": "light"
     },
     "output_type": "display_data"
    }
   ],
   "source": [
    "fig, ax = plt.subplots(figsize=(10, 8))\n",
    "ax.hist(sttc_n_years, bins=20, range=(1, 20), density=True, label='STTCs');\n",
    "ax.hist(fake_sttc_n_years, bins=20, range=(1, 20), density=True, alpha=0.7, label='Fake STTCs')\n",
    "ax.legend(loc=1)\n",
    "ax.set_xlabel(\"Number of Years Represented\");"
   ]
  },
  {
   "cell_type": "code",
   "execution_count": 22,
   "metadata": {},
   "outputs": [],
   "source": [
    "sttc_dyears = [max(x.data.index.levels[0]) - min(x.data.index.levels[0]) for x in rdr.sttcs.values()]\n",
    "\n",
    "fake_sttc_dyears = []\n",
    "for dset in fake_dataset:\n",
    "    fake_sttc_dyears += [max(x.data.index.levels[0]) - min(x.data.index.levels[0]) for x in dset.sttcs.values()]"
   ]
  },
  {
   "cell_type": "code",
   "execution_count": 23,
   "metadata": {},
   "outputs": [
    {
     "data": {
      "image/png": "[encoded data removed]",
      "text/plain": [
       "<Figure size 720x576 with 1 Axes>"
      ]
     },
     "metadata": {
      "needs_background": "light"
     },
     "output_type": "display_data"
    }
   ],
   "source": [
    "fig, ax = plt.subplots(figsize=(10, 8))\n",
    "ax.hist(sttc_dyears, bins=15, range=(0, 14), density=True, label='STTCs');\n",
    "ax.hist(fake_sttc_dyears, bins=15, range=(0, 14), density=True, alpha=0.7, label='Fake STTCs')\n",
    "ax.legend(loc=1)\n",
    "ax.set_xlabel(\"Last Year - First Year with Data\");"
   ]
  },
  {
   "cell_type": "code",
   "execution_count": 24,
   "metadata": {},
   "outputs": [],
   "source": [
    "sttc_startyears = [min(x.data.index.levels[0]) for x in rdr.sttcs.values()]\n",
    "\n",
    "fake_sttc_startyears = []\n",
    "for dset in fake_dataset:\n",
    "    fake_sttc_startyears += [min(x.data.index.levels[0]) for x in dset.sttcs.values()]"
   ]
  },
  {
   "cell_type": "code",
   "execution_count": 25,
   "metadata": {},
   "outputs": [
    {
     "data": {
      "image/png": "[encoded data removed]",
      "text/plain": [
       "<Figure size 720x576 with 1 Axes>"
      ]
     },
     "metadata": {
      "needs_background": "light"
     },
     "output_type": "display_data"
    }
   ],
   "source": [
    "fig, ax = plt.subplots(figsize=(10, 8))\n",
    "ax.hist(sttc_startyears, bins=15, range=(2006, 2019), density=True, label='STTCs');\n",
    "ax.hist(fake_sttc_startyears, bins=15, range=(2006, 2019), density=True, alpha=0.7, label='Fake STTCs')\n",
    "ax.legend(loc=1)\n",
    "ax.set_xlabel(\"First Year with Data\");"
   ]
  },
  {
   "cell_type": "markdown",
   "metadata": {},
   "source": [
    "# SHOOTOUT - estimate-to-estimate variation for 2018"
   ]
  },
  {
   "cell_type": "code",
   "execution_count": 26,
   "metadata": {},
   "outputs": [],
   "source": [
    "want_year = 2018"
   ]
  },
  {
   "cell_type": "code",
   "execution_count": 30,
   "metadata": {},
   "outputs": [
    {
     "data": {
      "application/vnd.jupyter.widget-view+json": {
       "model_id": "f9e9f720071449d6afa775f4ca1ab6aa",
       "version_major": 2,
       "version_minor": 0
      },
      "text/plain": [
       "HBox(children=(FloatProgress(value=0.0, description='Running countmatch_teps', style=ProgressStyle(description…"
      ]
     },
     "metadata": {},
     "output_type": "display_data"
    },
    {
     "name": "stdout",
     "output_type": "stream",
     "text": [
      "\n"
     ]
    }
   ],
   "source": [
    "teps_estimates = []\n",
    "for dset in tqdm(fake_dataset, desc='Running countmatch_teps'):\n",
    "    teps_estimates.append(\n",
    "        cmt.estimate_aadts(dset, nb, want_year, n_neighbours=5,\n",
    "                           single_direction=True, progress_bar=False))"
   ]
  },
  {
   "cell_type": "code",
   "execution_count": 64,
   "metadata": {},
   "outputs": [],
   "source": [
    "def get_estimate_averages(estimates):\n",
    "    aadts = pd.concat(\n",
    "        [(x.sort_values('Count ID')[['Count ID', 'AADT Estimate']]\n",
    "          .set_index('Count ID', drop=True))\n",
    "         for x in estimates], axis=1)\n",
    "    aadts.columns = list(range(len(estimates)))\n",
    "    aadts['average'] = aadts.mean(axis=1)\n",
    "    aadts['std'] = aadts.std(axis=1)\n",
    "    aadts['cov'] = aadts['std'] / aadts['average']\n",
    "    return aadts\n",
    "\n",
    "teps_aadts = get_estimate_averages(teps_estimates)"
   ]
  },
  {
   "cell_type": "code",
   "execution_count": 81,
   "metadata": {},
   "outputs": [
    {
     "data": {
      "application/vnd.jupyter.widget-view+json": {
       "model_id": "bed8ae286354465aabffee111d53941c",
       "version_major": 2,
       "version_minor": 0
      },
      "text/plain": [
       "HBox(children=(FloatProgress(value=0.0, description='Running countmatch_hybrid', style=ProgressStyle(descripti…"
      ]
     },
     "metadata": {},
     "output_type": "display_data"
    },
    {
     "name": "stdout",
     "output_type": "stream",
     "text": [
      "\n"
     ]
    }
   ],
   "source": [
    "hybrid_estimates = []\n",
    "for dset in tqdm(fake_dataset, desc='Running countmatch_hybrid'):\n",
    "    hybrid_estimates.append(\n",
    "        cmh.estimate_aadts(dset, nb, want_year, n_neighbours=5,\n",
    "                           single_direction=True, progress_bar=False))"
   ]
  },
  {
   "cell_type": "code",
   "execution_count": 82,
   "metadata": {},
   "outputs": [
    {
     "data": {
      "application/vnd.jupyter.widget-view+json": {
       "model_id": "d0f1a1037ad14d4090c3e84dc6166215",
       "version_major": 2,
       "version_minor": 0
      },
      "text/plain": [
       "HBox(children=(FloatProgress(value=0.0, description='Running countmatch_hybrid_ggf', style=ProgressStyle(descr…"
      ]
     },
     "metadata": {},
     "output_type": "display_data"
    },
    {
     "name": "stdout",
     "output_type": "stream",
     "text": [
      "\n"
     ]
    }
   ],
   "source": [
    "hybrid_estimates_ggf = []\n",
    "for dset in tqdm(fake_dataset, desc='Running countmatch_hybrid_ggf'):\n",
    "    hybrid_estimates_ggf.append(\n",
    "        cmh.estimate_aadts(dset, nb, want_year, n_neighbours=5,\n",
    "                           override_growth_factor=True,\n",
    "                           single_direction=True, progress_bar=False))"
   ]
  },
  {
   "cell_type": "code",
   "execution_count": 83,
   "metadata": {},
   "outputs": [
    {
     "data": {
      "application/vnd.jupyter.widget-view+json": {
       "model_id": "a734d6515d3149ee988882ba1fd2eac1",
       "version_major": 2,
       "version_minor": 0
      },
      "text/plain": [
       "HBox(children=(FloatProgress(value=0.0, description='Running countmatch_bagheri_mseggf', style=ProgressStyle(d…"
      ]
     },
     "metadata": {},
     "output_type": "display_data"
    },
    {
     "name": "stdout",
     "output_type": "stream",
     "text": [
      "\n"
     ]
    }
   ],
   "source": [
    "bagheri_estimates_mseggf = []\n",
    "for dset in tqdm(fake_dataset, desc='Running countmatch_bagheri_mseggf'):\n",
    "    bagheri_estimates_mseggf.append(\n",
    "        cmb.estimate_aadts(dset, nb, want_year, n_neighbours=5,\n",
    "                           override_growth_factor=True, erroralgo='Minimum MSE',\n",
    "                           single_direction=True, progress_bar=False))"
   ]
  },
  {
   "cell_type": "code",
   "execution_count": 84,
   "metadata": {},
   "outputs": [],
   "source": [
    "hybrid_aadts = get_estimate_averages(hybrid_estimates)"
   ]
  },
  {
   "cell_type": "code",
   "execution_count": 85,
   "metadata": {},
   "outputs": [],
   "source": [
    "hybrid_ggf_aadts = get_estimate_averages(hybrid_estimates_ggf)"
   ]
  },
  {
   "cell_type": "code",
   "execution_count": 86,
   "metadata": {},
   "outputs": [],
   "source": [
    "bagheri_mseggf_aadts = get_estimate_averages(bagheri_estimates_mseggf)"
   ]
  },
  {
   "cell_type": "code",
   "execution_count": 102,
   "metadata": {},
   "outputs": [
    {
     "data": {
      "image/png": "[encoded data removed]",
      "text/plain": [
       "<Figure size 864x576 with 2 Axes>"
      ]
     },
     "metadata": {
      "needs_background": "light"
     },
     "output_type": "display_data"
    }
   ],
   "source": [
    "fig, ax = plt.subplots(2, 1, figsize=(12, 8), sharex=True)\n",
    "teps_aadts['cov'].hist(ax=ax[0], bins=50, range=(0., 0.5), density=True, label='TEPs-like',\n",
    "                       lw=2)\n",
    "hybrid_aadts['cov'].hist(ax=ax[0], bins=50, range=(0., 0.5), density=True, label='CountMatch',\n",
    "                         histtype='step', lw=5)\n",
    "hybrid_ggf_aadts['cov'].hist(ax=ax[1], bins=50, range=(0., 0.5), density=True, label='CountMatch Global Growth',\n",
    "                             lw=2)\n",
    "bagheri_mseggf_aadts['cov'].hist(ax=ax[1], bins=50, range=(0., 0.5), density=True, label='Bagheri MSE Global Growth',\n",
    "                                 histtype='step', lw=5)\n",
    "ax[0].legend(loc=1)\n",
    "ax[1].legend(loc=1)\n",
    "ax[1].set_xlabel('Stdev / Mean of AADT Estimate')\n",
    "ax[0].set_ylabel('PDF')\n",
    "ax[1].set_ylabel('PDF')\n",
    "ax[1].set_xlim([0, 0.5]);"
   ]
  },
  {
   "cell_type": "code",
   "execution_count": 103,
   "metadata": {},
   "outputs": [
    {
     "data": {
      "text/plain": [
       "0.13967710032647102"
      ]
     },
     "execution_count": 103,
     "metadata": {},
     "output_type": "execute_result"
    }
   ],
   "source": [
    "teps_aadts['cov'].median()"
   ]
  },
  {
   "cell_type": "code",
   "execution_count": 104,
   "metadata": {},
   "outputs": [
    {
     "data": {
      "text/plain": [
       "0.15742421955781677"
      ]
     },
     "execution_count": 104,
     "metadata": {},
     "output_type": "execute_result"
    }
   ],
   "source": [
    "bagheri_mseggf_aadts['cov'].median()"
   ]
  },
  {
   "cell_type": "code",
   "execution_count": null,
   "metadata": {},
   "outputs": [],
   "source": [
    "datasets, aadt_validation = cmv.validation(rdr, nb, cmb.estimate_aadts, algo_args=\n",
    "                                           {'override_growth_factor': True}, n_sets=2, progress_bar=True)"
   ]
  },
  {
   "cell_type": "code",
   "execution_count": null,
   "metadata": {},
   "outputs": [],
   "source": [
    "fig, ax = plt.subplots(figsize=(9, 6))\n",
    "for i in range(3):\n",
    "    ax.plot(jjabrams['ground_truth'].values, jjabrams[i].values, ls='None', marker='o')\n",
    "ax.set_ylim([0, 100000])"
   ]
  }
 ],
 "metadata": {
  "kernelspec": {
   "display_name": "Python 3",
   "language": "python",
   "name": "python3"
  },
  "language_info": {
   "codemirror_mode": {
    "name": "ipython",
    "version": 3
   },
   "file_extension": ".py",
   "mimetype": "text/x-python",
   "name": "python",
   "nbconvert_exporter": "python",
   "pygments_lexer": "ipython3",
   "version": "3.6.9"
  }
 },
 "nbformat": 4,
 "nbformat_minor": 2
}

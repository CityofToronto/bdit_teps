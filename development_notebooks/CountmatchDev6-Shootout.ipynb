{
 "cells": [
  {
   "cell_type": "code",
   "execution_count": 1,
   "metadata": {},
   "outputs": [],
   "source": [
    "%matplotlib inline\n",
    "import sys\n",
    "sys.path.append('../')\n",
    "import importlib\n",
    "import matplotlib.pyplot as plt\n",
    "import numpy as np\n",
    "import knowyourdata as kyd\n",
    "\n",
    "import pandas as pd\n",
    "from traffic_prophet import cfg\n",
    "import pathlib, os\n",
    "import configparser\n",
    "\n",
    "from traffic_prophet import connection\n",
    "from traffic_prophet.countmatch import reader\n",
    "from traffic_prophet.countmatch import growthfactor as gf\n",
    "from traffic_prophet.countmatch import neighbour\n",
    "\n",
    "defaultcolours = plt.rcParams['axes.prop_cycle'].by_key()['color']\n",
    "\n",
    "filepath = pathlib.Path.home().joinpath('.charlesconfig')\n",
    "if os.path.isfile(filepath):\n",
    "    vol_conn = connection.Connection(filepath, 'POSTGRES',\n",
    "                                     'czhu.btp_centreline_daily_counts')\n",
    "    ll_conn = connection.Connection(filepath, 'POSTGRES',\n",
    "                                    'czhu.btp_centreline_lonlat')\n",
    "    config = configparser.RawConfigParser()\n",
    "    config.read(filepath.as_posix())\n",
    "    MAPBOX_TOKEN = config['MAPBOX']['token']\n",
    "    PLOTLY_USER = config['PLOTLY']['user']\n",
    "    PLOTLY_KEY = config['PLOTLY']['key']\n",
    "else:\n",
    "    filepath = pathlib.Path.home().joinpath('cf.txt')\n",
    "    vol_conn = connection.Connection(filepath, 'localpg',\n",
    "                                     'prj_vol.btp_centreline_daily_counts')\n",
    "    ll_conn = connection.Connection(filepath, 'localpg',\n",
    "                                    'gis.btp_centreline_lonlat')\n",
    "    config = configparser.RawConfigParser()\n",
    "    config.read(filepath.as_posix())\n",
    "    MAPBOX_TOKEN = config['mapbox']['token']\n",
    "    PLOTLY_USER = config['plotly']['user']\n",
    "    PLOTLY_KEY = config['plotly']['apikey']"
   ]
  },
  {
   "cell_type": "code",
   "execution_count": 2,
   "metadata": {},
   "outputs": [],
   "source": [
    "rdr = reader.Reader(vol_conn)\n",
    "rdr.read()\n",
    "gf.get_growth_factors(rdr)\n",
    "\n",
    "ptc_ids = np.unique(np.abs(list(rdr.ptcs.keys())))\n",
    "nb = neighbour.NeighbourLonLatEuclidean(ll_conn, 20, ptc_ids)\n",
    "nb.find_neighbours()"
   ]
  },
  {
   "cell_type": "code",
   "execution_count": 3,
   "metadata": {},
   "outputs": [
    {
     "data": {
      "text/plain": [
       "<module 'countmatch_teps' from '/home/cczhu/GitHub/bdit_traffic_prophet/development_notebooks/countmatch_teps.py'>"
      ]
     },
     "execution_count": 3,
     "metadata": {},
     "output_type": "execute_result"
    }
   ],
   "source": [
    "import importlib\n",
    "import countmatch_teps as cmt\n",
    "import countmatch_bagheri as cmb\n",
    "import countmatch_hybrid as cmh\n",
    "import countmatch_validator as cmv\n",
    "importlib.reload(cmv)\n",
    "importlib.reload(cmb)\n",
    "importlib.reload(cmh)\n",
    "importlib.reload(cmt)"
   ]
  },
  {
   "cell_type": "code",
   "execution_count": 4,
   "metadata": {},
   "outputs": [],
   "source": [
    "from tqdm.auto import tqdm"
   ]
  },
  {
   "cell_type": "code",
   "execution_count": 5,
   "metadata": {},
   "outputs": [
    {
     "data": {
      "application/vnd.jupyter.widget-view+json": {
       "model_id": "772d3fb159d140c0b702ba9b7e8820a7",
       "version_major": 2,
       "version_minor": 0
      },
      "text/plain": [
       "HBox(children=(FloatProgress(value=0.0, description='Generating data', style=ProgressStyle(description_width='…"
      ]
     },
     "metadata": {},
     "output_type": "display_data"
    },
    {
     "name": "stdout",
     "output_type": "stream",
     "text": [
      "\n"
     ]
    }
   ],
   "source": [
    "fake_dataset = cmv.generate_test_database(rdr, n_sets=100, progress_bar=True)"
   ]
  },
  {
   "cell_type": "code",
   "execution_count": 6,
   "metadata": {},
   "outputs": [
    {
     "data": {
      "text/plain": [
       "166"
      ]
     },
     "execution_count": 6,
     "metadata": {},
     "output_type": "execute_result"
    }
   ],
   "source": [
    "len(fake_dataset[0].sttcs)"
   ]
  },
  {
   "cell_type": "code",
   "execution_count": 7,
   "metadata": {},
   "outputs": [],
   "source": [
    "sttc_n_years = [len(x.data.index.levels[0]) for x in rdr.sttcs.values()]"
   ]
  },
  {
   "cell_type": "code",
   "execution_count": 8,
   "metadata": {},
   "outputs": [],
   "source": [
    "fake_sttc_n_years = []\n",
    "for dset in fake_dataset:\n",
    "    fake_sttc_n_years += [len(x.data.index.levels[0]) for x in dset.sttcs.values()]"
   ]
  },
  {
   "cell_type": "code",
   "execution_count": 9,
   "metadata": {},
   "outputs": [
    {
     "data": {
      "image/png": "[encoded data removed]",
      "text/plain": [
       "<Figure size 720x576 with 1 Axes>"
      ]
     },
     "metadata": {
      "needs_background": "light"
     },
     "output_type": "display_data"
    }
   ],
   "source": [
    "fig, ax = plt.subplots(figsize=(10, 8))\n",
    "ax.hist(sttc_n_years, bins=20, range=(1, 20), density=True, label='STTCs');\n",
    "ax.hist(fake_sttc_n_years, bins=20, range=(1, 20), density=True, alpha=0.7, label='Fake STTCs')\n",
    "ax.legend(loc=1)\n",
    "ax.set_xlabel(\"Number of Years Represented\");"
   ]
  },
  {
   "cell_type": "code",
   "execution_count": 10,
   "metadata": {},
   "outputs": [],
   "source": [
    "sttc_dyears = [max(x.data.index.levels[0]) - min(x.data.index.levels[0]) for x in rdr.sttcs.values()]\n",
    "\n",
    "fake_sttc_dyears = []\n",
    "for dset in fake_dataset:\n",
    "    fake_sttc_dyears += [max(x.data.index.levels[0]) - min(x.data.index.levels[0]) for x in dset.sttcs.values()]"
   ]
  },
  {
   "cell_type": "code",
   "execution_count": 11,
   "metadata": {},
   "outputs": [
    {
     "data": {
      "image/png": "[encoded data removed]",
      "text/plain": [
       "<Figure size 720x576 with 1 Axes>"
      ]
     },
     "metadata": {
      "needs_background": "light"
     },
     "output_type": "display_data"
    }
   ],
   "source": [
    "fig, ax = plt.subplots(figsize=(10, 8))\n",
    "ax.hist(sttc_dyears, bins=15, range=(0, 14), density=True, label='STTCs');\n",
    "ax.hist(fake_sttc_dyears, bins=15, range=(0, 14), density=True, alpha=0.7, label='Fake STTCs')\n",
    "ax.legend(loc=1)\n",
    "ax.set_xlabel(\"Last Year - First Year with Data\");"
   ]
  },
  {
   "cell_type": "code",
   "execution_count": 12,
   "metadata": {},
   "outputs": [],
   "source": [
    "sttc_startyears = [min(x.data.index.levels[0]) for x in rdr.sttcs.values()]\n",
    "\n",
    "fake_sttc_startyears = []\n",
    "for dset in fake_dataset:\n",
    "    fake_sttc_startyears += [min(x.data.index.levels[0]) for x in dset.sttcs.values()]"
   ]
  },
  {
   "cell_type": "code",
   "execution_count": 13,
   "metadata": {},
   "outputs": [
    {
     "data": {
      "image/png": "[encoded data removed]",
      "text/plain": [
       "<Figure size 720x576 with 1 Axes>"
      ]
     },
     "metadata": {
      "needs_background": "light"
     },
     "output_type": "display_data"
    }
   ],
   "source": [
    "fig, ax = plt.subplots(figsize=(10, 8))\n",
    "ax.hist(sttc_startyears, bins=15, range=(2006, 2019), density=True, label='STTCs');\n",
    "ax.hist(fake_sttc_startyears, bins=15, range=(2006, 2019), density=True, alpha=0.7, label='Fake STTCs')\n",
    "ax.legend(loc=1)\n",
    "ax.set_xlabel(\"First Year with Data\");"
   ]
  },
  {
   "cell_type": "markdown",
   "metadata": {},
   "source": [
    "# Estimate-to-Estimate Variation for 2018\n",
    "\n",
    "This test checks how much estimates differ between different draws of fake data.  An excellent predictive algorithm should minimize this variation.\n",
    "\n",
    "We can measure this variation by determining the standard deviation divided by the mean, i.e. the **coefficient of variation (COV)**, for each short term count location.  We'll take 2018 as a representative year."
   ]
  },
  {
   "cell_type": "code",
   "execution_count": 14,
   "metadata": {},
   "outputs": [],
   "source": [
    "want_year = 2018"
   ]
  },
  {
   "cell_type": "code",
   "execution_count": 15,
   "metadata": {},
   "outputs": [
    {
     "data": {
      "application/vnd.jupyter.widget-view+json": {
       "model_id": "44f08db409c64544a2cfff2303903808",
       "version_major": 2,
       "version_minor": 0
      },
      "text/plain": [
       "HBox(children=(FloatProgress(value=0.0, description='Running countmatch_teps', style=ProgressStyle(description…"
      ]
     },
     "metadata": {},
     "output_type": "display_data"
    },
    {
     "name": "stdout",
     "output_type": "stream",
     "text": [
      "\n"
     ]
    }
   ],
   "source": [
    "teps_estimates = []\n",
    "for dset in tqdm(fake_dataset, desc='Running countmatch_teps'):\n",
    "    teps_estimates.append(\n",
    "        cmt.estimate_aadts(dset, nb, want_year, n_neighbours=5,\n",
    "                           single_direction=True, progress_bar=False))"
   ]
  },
  {
   "cell_type": "code",
   "execution_count": 16,
   "metadata": {},
   "outputs": [],
   "source": [
    "def get_estimate_averages(estimates):\n",
    "    aadts = pd.concat(\n",
    "        [(x.sort_values('Count ID')[['Count ID', 'AADT Estimate']]\n",
    "          .set_index('Count ID', drop=True))\n",
    "         for x in estimates], axis=1)\n",
    "    aadts.columns = list(range(len(estimates)))\n",
    "    aadts['average'] = aadts.mean(axis=1)\n",
    "    aadts['std'] = aadts.std(axis=1)\n",
    "    aadts['cov'] = aadts['std'] / aadts['average']\n",
    "    return aadts\n",
    "\n",
    "teps_aadts = get_estimate_averages(teps_estimates)"
   ]
  },
  {
   "cell_type": "code",
   "execution_count": 17,
   "metadata": {},
   "outputs": [
    {
     "data": {
      "application/vnd.jupyter.widget-view+json": {
       "model_id": "a12e70e930644d539c01d59a164acb05",
       "version_major": 2,
       "version_minor": 0
      },
      "text/plain": [
       "HBox(children=(FloatProgress(value=0.0, description='Running countmatch_hybrid', style=ProgressStyle(descripti…"
      ]
     },
     "metadata": {},
     "output_type": "display_data"
    },
    {
     "name": "stdout",
     "output_type": "stream",
     "text": [
      "\n"
     ]
    }
   ],
   "source": [
    "hybrid_estimates = []\n",
    "for dset in tqdm(fake_dataset, desc='Running countmatch_hybrid'):\n",
    "    hybrid_estimates.append(\n",
    "        cmh.estimate_aadts(dset, nb, want_year, n_neighbours=5,\n",
    "                           single_direction=True, progress_bar=False))"
   ]
  },
  {
   "cell_type": "code",
   "execution_count": 18,
   "metadata": {},
   "outputs": [
    {
     "data": {
      "application/vnd.jupyter.widget-view+json": {
       "model_id": "cf3139558399455ea387abb42c23968f",
       "version_major": 2,
       "version_minor": 0
      },
      "text/plain": [
       "HBox(children=(FloatProgress(value=0.0, description='Running countmatch_hybrid_ggf', style=ProgressStyle(descr…"
      ]
     },
     "metadata": {},
     "output_type": "display_data"
    },
    {
     "name": "stdout",
     "output_type": "stream",
     "text": [
      "\n"
     ]
    }
   ],
   "source": [
    "hybrid_estimates_ggf = []\n",
    "for dset in tqdm(fake_dataset, desc='Running countmatch_hybrid_ggf'):\n",
    "    hybrid_estimates_ggf.append(\n",
    "        cmh.estimate_aadts(dset, nb, want_year, n_neighbours=5,\n",
    "                           override_growth_factor=True,\n",
    "                           single_direction=True, progress_bar=False))"
   ]
  },
  {
   "cell_type": "code",
   "execution_count": 19,
   "metadata": {},
   "outputs": [
    {
     "data": {
      "application/vnd.jupyter.widget-view+json": {
       "model_id": "fb14a7fcc6934be3a5a26c525bbe5923",
       "version_major": 2,
       "version_minor": 0
      },
      "text/plain": [
       "HBox(children=(FloatProgress(value=0.0, description='Running countmatch_bagheri_mseggf', style=ProgressStyle(d…"
      ]
     },
     "metadata": {},
     "output_type": "display_data"
    },
    {
     "name": "stdout",
     "output_type": "stream",
     "text": [
      "\n"
     ]
    }
   ],
   "source": [
    "bagheri_estimates_mseggf = []\n",
    "for dset in tqdm(fake_dataset, desc='Running countmatch_bagheri_mseggf'):\n",
    "    bagheri_estimates_mseggf.append(\n",
    "        cmb.estimate_aadts(dset, nb, want_year, n_neighbours=5,\n",
    "                           override_growth_factor=True, erroralgo='Minimum MSE',\n",
    "                           single_direction=True, progress_bar=False))"
   ]
  },
  {
   "cell_type": "code",
   "execution_count": 20,
   "metadata": {},
   "outputs": [],
   "source": [
    "hybrid_aadts = get_estimate_averages(hybrid_estimates)"
   ]
  },
  {
   "cell_type": "code",
   "execution_count": 21,
   "metadata": {},
   "outputs": [],
   "source": [
    "hybrid_ggf_aadts = get_estimate_averages(hybrid_estimates_ggf)"
   ]
  },
  {
   "cell_type": "code",
   "execution_count": 22,
   "metadata": {},
   "outputs": [],
   "source": [
    "bagheri_mseggf_aadts = get_estimate_averages(bagheri_estimates_mseggf)"
   ]
  },
  {
   "cell_type": "code",
   "execution_count": 23,
   "metadata": {},
   "outputs": [
    {
     "data": {
      "image/png": "[encoded data removed]",
      "text/plain": [
       "<Figure size 864x576 with 2 Axes>"
      ]
     },
     "metadata": {
      "needs_background": "light"
     },
     "output_type": "display_data"
    }
   ],
   "source": [
    "fig, ax = plt.subplots(2, 1, figsize=(12, 8), sharex=True)\n",
    "teps_aadts['cov'].hist(ax=ax[0], bins=50, range=(0., 0.5), density=True, label='TEPs-like',\n",
    "                       lw=2)\n",
    "hybrid_aadts['cov'].hist(ax=ax[0], bins=50, range=(0., 0.5), density=True, label='CountMatch',\n",
    "                         histtype='step', lw=5)\n",
    "hybrid_ggf_aadts['cov'].hist(ax=ax[1], bins=50, range=(0., 0.5), density=True, label='CountMatch Global Growth',\n",
    "                             lw=2)\n",
    "bagheri_mseggf_aadts['cov'].hist(ax=ax[1], bins=50, range=(0., 0.5), density=True, label='Bagheri MSE Global Growth',\n",
    "                                 histtype='step', lw=5)\n",
    "ax[0].legend(loc=1)\n",
    "ax[1].legend(loc=1)\n",
    "ax[1].set_xlabel('Stdev / Mean of AADT Estimate')\n",
    "ax[0].set_ylabel('PDF')\n",
    "ax[1].set_ylabel('PDF')\n",
    "ax[1].set_xlim([0, 0.5]);"
   ]
  },
  {
   "cell_type": "code",
   "execution_count": 24,
   "metadata": {},
   "outputs": [
    {
     "data": {
      "text/plain": [
       "0.1370117153257946"
      ]
     },
     "execution_count": 24,
     "metadata": {},
     "output_type": "execute_result"
    }
   ],
   "source": [
    "teps_aadts['cov'].median()"
   ]
  },
  {
   "cell_type": "code",
   "execution_count": 37,
   "metadata": {},
   "outputs": [
    {
     "data": {
      "text/plain": [
       "0.2688912811665667"
      ]
     },
     "execution_count": 37,
     "metadata": {},
     "output_type": "execute_result"
    }
   ],
   "source": [
    "hybrid_aadts['cov'].median()"
   ]
  },
  {
   "cell_type": "code",
   "execution_count": 38,
   "metadata": {},
   "outputs": [
    {
     "data": {
      "text/plain": [
       "0.15973913107571402"
      ]
     },
     "execution_count": 38,
     "metadata": {},
     "output_type": "execute_result"
    }
   ],
   "source": [
    "hybrid_ggf_aadts['cov'].median()"
   ]
  },
  {
   "cell_type": "code",
   "execution_count": 25,
   "metadata": {},
   "outputs": [
    {
     "data": {
      "text/plain": [
       "0.154003264655094"
      ]
     },
     "execution_count": 25,
     "metadata": {},
     "output_type": "execute_result"
    }
   ],
   "source": [
    "bagheri_mseggf_aadts['cov'].median()"
   ]
  },
  {
   "cell_type": "markdown",
   "metadata": {},
   "source": [
    "Conclusions:\n",
    "* The TEPs emulator has the least COV variation, as measured by the median.  The countmatch default method is the worst (\"hybrid\", which combines elements of TEPs and Bagheri).\n",
    "* The reason for this is largely because of using individual station growth rates - if we force the use of the global growth rate, we can reduce the variation down to near TEPs level."
   ]
  },
  {
   "cell_type": "markdown",
   "metadata": {},
   "source": [
    "## Prediction vs. Ground Truth\n",
    "\n",
    "Of course, looking at prediction-to-prediction variation is only a test of sensitivity.  We need to examine how accurate the models are, but we can only do that when predicting for sites where we know the AADT, and which years it is known varies from station to station.  I therefore rigged up a validator that generates fake data as before, but then cycles through the years, prediction AADTs for each station where a ground truth value is known.\n",
    "\n",
    "This is computationally intensive, so only 10 sets of fake data are generated per experiment."
   ]
  },
  {
   "cell_type": "code",
   "execution_count": 26,
   "metadata": {},
   "outputs": [],
   "source": [
    "rdr = reader.Reader(vol_conn)\n",
    "rdr.read()\n",
    "gf.get_growth_factors(rdr)\n",
    "\n",
    "ptc_ids = np.unique(np.abs(list(rdr.ptcs.keys())))\n",
    "nb = neighbour.NeighbourLonLatEuclidean(ll_conn, 20, ptc_ids)\n",
    "nb.find_neighbours()"
   ]
  },
  {
   "cell_type": "code",
   "execution_count": 27,
   "metadata": {},
   "outputs": [],
   "source": [
    "n_sets = 10"
   ]
  },
  {
   "cell_type": "code",
   "execution_count": 28,
   "metadata": {
    "scrolled": false
   },
   "outputs": [
    {
     "name": "stdout",
     "output_type": "stream",
     "text": [
      "For year 2006\n"
     ]
    },
    {
     "data": {
      "application/vnd.jupyter.widget-view+json": {
       "model_id": "d78fd3f36c9a4f9fae5edada9923bbac",
       "version_major": 2,
       "version_minor": 0
      },
      "text/plain": [
       "HBox(children=(FloatProgress(value=0.0, description='Generating data', max=10.0, style=ProgressStyle(descripti…"
      ]
     },
     "metadata": {},
     "output_type": "display_data"
    },
    {
     "name": "stdout",
     "output_type": "stream",
     "text": [
      "\n",
      "For year 2010\n"
     ]
    },
    {
     "data": {
      "application/vnd.jupyter.widget-view+json": {
       "model_id": "e392fdabcdc5483f847bfdf8211cfbc4",
       "version_major": 2,
       "version_minor": 0
      },
      "text/plain": [
       "HBox(children=(FloatProgress(value=0.0, description='Generating data', max=10.0, style=ProgressStyle(descripti…"
      ]
     },
     "metadata": {},
     "output_type": "display_data"
    },
    {
     "name": "stdout",
     "output_type": "stream",
     "text": [
      "\n",
      "For year 2011\n"
     ]
    },
    {
     "data": {
      "application/vnd.jupyter.widget-view+json": {
       "model_id": "e52c5e62ed354183907cfbad154c03f1",
       "version_major": 2,
       "version_minor": 0
      },
      "text/plain": [
       "HBox(children=(FloatProgress(value=0.0, description='Generating data', max=10.0, style=ProgressStyle(descripti…"
      ]
     },
     "metadata": {},
     "output_type": "display_data"
    },
    {
     "name": "stdout",
     "output_type": "stream",
     "text": [
      "\n",
      "For year 2012\n"
     ]
    },
    {
     "data": {
      "application/vnd.jupyter.widget-view+json": {
       "model_id": "0351c46b8e1f4d77bba0dc603baa37e1",
       "version_major": 2,
       "version_minor": 0
      },
      "text/plain": [
       "HBox(children=(FloatProgress(value=0.0, description='Generating data', max=10.0, style=ProgressStyle(descripti…"
      ]
     },
     "metadata": {},
     "output_type": "display_data"
    },
    {
     "name": "stdout",
     "output_type": "stream",
     "text": [
      "\n",
      "For year 2013\n"
     ]
    },
    {
     "data": {
      "application/vnd.jupyter.widget-view+json": {
       "model_id": "59d680e6367b4300a1947cedf5de154c",
       "version_major": 2,
       "version_minor": 0
      },
      "text/plain": [
       "HBox(children=(FloatProgress(value=0.0, description='Generating data', max=10.0, style=ProgressStyle(descripti…"
      ]
     },
     "metadata": {},
     "output_type": "display_data"
    },
    {
     "name": "stdout",
     "output_type": "stream",
     "text": [
      "\n",
      "For year 2014\n"
     ]
    },
    {
     "data": {
      "application/vnd.jupyter.widget-view+json": {
       "model_id": "f4453f28db5042eca69f3f17054cfea1",
       "version_major": 2,
       "version_minor": 0
      },
      "text/plain": [
       "HBox(children=(FloatProgress(value=0.0, description='Generating data', max=10.0, style=ProgressStyle(descripti…"
      ]
     },
     "metadata": {},
     "output_type": "display_data"
    },
    {
     "name": "stdout",
     "output_type": "stream",
     "text": [
      "\n",
      "For year 2015\n"
     ]
    },
    {
     "data": {
      "application/vnd.jupyter.widget-view+json": {
       "model_id": "c51255fb48a34fca866d0f0f29a94620",
       "version_major": 2,
       "version_minor": 0
      },
      "text/plain": [
       "HBox(children=(FloatProgress(value=0.0, description='Generating data', max=10.0, style=ProgressStyle(descripti…"
      ]
     },
     "metadata": {},
     "output_type": "display_data"
    },
    {
     "name": "stdout",
     "output_type": "stream",
     "text": [
      "\n",
      "For year 2016\n"
     ]
    },
    {
     "data": {
      "application/vnd.jupyter.widget-view+json": {
       "model_id": "6d7e357b5ac5478a9c52f4a88ef07eda",
       "version_major": 2,
       "version_minor": 0
      },
      "text/plain": [
       "HBox(children=(FloatProgress(value=0.0, description='Generating data', max=10.0, style=ProgressStyle(descripti…"
      ]
     },
     "metadata": {},
     "output_type": "display_data"
    },
    {
     "name": "stdout",
     "output_type": "stream",
     "text": [
      "\n",
      "For year 2017\n"
     ]
    },
    {
     "data": {
      "application/vnd.jupyter.widget-view+json": {
       "model_id": "23c685556e484f188b0e7b6b4253f320",
       "version_major": 2,
       "version_minor": 0
      },
      "text/plain": [
       "HBox(children=(FloatProgress(value=0.0, description='Generating data', max=10.0, style=ProgressStyle(descripti…"
      ]
     },
     "metadata": {},
     "output_type": "display_data"
    },
    {
     "name": "stdout",
     "output_type": "stream",
     "text": [
      "\n"
     ]
    },
    {
     "data": {
      "application/vnd.jupyter.widget-view+json": {
       "model_id": "a2f393d8cd7d4a889067e0d27e0be42d",
       "version_major": 2,
       "version_minor": 0
      },
      "text/plain": [
       "HBox(children=(FloatProgress(value=0.0, description='Processing 2006', max=10.0, style=ProgressStyle(descripti…"
      ]
     },
     "metadata": {},
     "output_type": "display_data"
    },
    {
     "name": "stdout",
     "output_type": "stream",
     "text": [
      "\n"
     ]
    },
    {
     "data": {
      "application/vnd.jupyter.widget-view+json": {
       "model_id": "773ee0f9772e458d88e1357ad7ff93cc",
       "version_major": 2,
       "version_minor": 0
      },
      "text/plain": [
       "HBox(children=(FloatProgress(value=0.0, description='Processing 2010', max=10.0, style=ProgressStyle(descripti…"
      ]
     },
     "metadata": {},
     "output_type": "display_data"
    },
    {
     "name": "stdout",
     "output_type": "stream",
     "text": [
      "\n"
     ]
    },
    {
     "data": {
      "application/vnd.jupyter.widget-view+json": {
       "model_id": "4ae44d3443ef45ecbcc243db1f252434",
       "version_major": 2,
       "version_minor": 0
      },
      "text/plain": [
       "HBox(children=(FloatProgress(value=0.0, description='Processing 2011', max=10.0, style=ProgressStyle(descripti…"
      ]
     },
     "metadata": {},
     "output_type": "display_data"
    },
    {
     "name": "stdout",
     "output_type": "stream",
     "text": [
      "\n"
     ]
    },
    {
     "data": {
      "application/vnd.jupyter.widget-view+json": {
       "model_id": "5fc1221aefa443fd8572f418508e0383",
       "version_major": 2,
       "version_minor": 0
      },
      "text/plain": [
       "HBox(children=(FloatProgress(value=0.0, description='Processing 2012', max=10.0, style=ProgressStyle(descripti…"
      ]
     },
     "metadata": {},
     "output_type": "display_data"
    },
    {
     "name": "stdout",
     "output_type": "stream",
     "text": [
      "\n"
     ]
    },
    {
     "data": {
      "application/vnd.jupyter.widget-view+json": {
       "model_id": "f334fb02a2ea474a91fd634ae6988906",
       "version_major": 2,
       "version_minor": 0
      },
      "text/plain": [
       "HBox(children=(FloatProgress(value=0.0, description='Processing 2013', max=10.0, style=ProgressStyle(descripti…"
      ]
     },
     "metadata": {},
     "output_type": "display_data"
    },
    {
     "name": "stdout",
     "output_type": "stream",
     "text": [
      "\n"
     ]
    },
    {
     "data": {
      "application/vnd.jupyter.widget-view+json": {
       "model_id": "ecc9bb568056473bb159cdce350d7230",
       "version_major": 2,
       "version_minor": 0
      },
      "text/plain": [
       "HBox(children=(FloatProgress(value=0.0, description='Processing 2014', max=10.0, style=ProgressStyle(descripti…"
      ]
     },
     "metadata": {},
     "output_type": "display_data"
    },
    {
     "name": "stdout",
     "output_type": "stream",
     "text": [
      "\n"
     ]
    },
    {
     "data": {
      "application/vnd.jupyter.widget-view+json": {
       "model_id": "86f3669023af491fa94e82b9f4a4a41b",
       "version_major": 2,
       "version_minor": 0
      },
      "text/plain": [
       "HBox(children=(FloatProgress(value=0.0, description='Processing 2015', max=10.0, style=ProgressStyle(descripti…"
      ]
     },
     "metadata": {},
     "output_type": "display_data"
    },
    {
     "name": "stdout",
     "output_type": "stream",
     "text": [
      "\n"
     ]
    },
    {
     "data": {
      "application/vnd.jupyter.widget-view+json": {
       "model_id": "c644932a214e46a79c90c3cdba30ec9e",
       "version_major": 2,
       "version_minor": 0
      },
      "text/plain": [
       "HBox(children=(FloatProgress(value=0.0, description='Processing 2016', max=10.0, style=ProgressStyle(descripti…"
      ]
     },
     "metadata": {},
     "output_type": "display_data"
    },
    {
     "name": "stdout",
     "output_type": "stream",
     "text": [
      "\n"
     ]
    },
    {
     "data": {
      "application/vnd.jupyter.widget-view+json": {
       "model_id": "85fb80e458ae4aee91869e1522897f19",
       "version_major": 2,
       "version_minor": 0
      },
      "text/plain": [
       "HBox(children=(FloatProgress(value=0.0, description='Processing 2017', max=10.0, style=ProgressStyle(descripti…"
      ]
     },
     "metadata": {},
     "output_type": "display_data"
    },
    {
     "name": "stdout",
     "output_type": "stream",
     "text": [
      "\n"
     ]
    }
   ],
   "source": [
    "teps_datasets, teps_aadt = cmv.validation(\n",
    "    rdr, nb, cmt.estimate_aadts, n_sets=n_sets, progress_bar=True)"
   ]
  },
  {
   "cell_type": "code",
   "execution_count": 29,
   "metadata": {},
   "outputs": [
    {
     "name": "stdout",
     "output_type": "stream",
     "text": [
      "For year 2006\n"
     ]
    },
    {
     "data": {
      "application/vnd.jupyter.widget-view+json": {
       "model_id": "904a580be69c4772a97229dde0738da6",
       "version_major": 2,
       "version_minor": 0
      },
      "text/plain": [
       "HBox(children=(FloatProgress(value=0.0, description='Generating data', max=10.0, style=ProgressStyle(descripti…"
      ]
     },
     "metadata": {},
     "output_type": "display_data"
    },
    {
     "name": "stdout",
     "output_type": "stream",
     "text": [
      "\n",
      "For year 2010\n"
     ]
    },
    {
     "data": {
      "application/vnd.jupyter.widget-view+json": {
       "model_id": "7a80e9059ac14cc1821ffc56b10efcac",
       "version_major": 2,
       "version_minor": 0
      },
      "text/plain": [
       "HBox(children=(FloatProgress(value=0.0, description='Generating data', max=10.0, style=ProgressStyle(descripti…"
      ]
     },
     "metadata": {},
     "output_type": "display_data"
    },
    {
     "name": "stdout",
     "output_type": "stream",
     "text": [
      "\n",
      "For year 2011\n"
     ]
    },
    {
     "data": {
      "application/vnd.jupyter.widget-view+json": {
       "model_id": "f27295728ad443c5a4652dd9f80d1143",
       "version_major": 2,
       "version_minor": 0
      },
      "text/plain": [
       "HBox(children=(FloatProgress(value=0.0, description='Generating data', max=10.0, style=ProgressStyle(descripti…"
      ]
     },
     "metadata": {},
     "output_type": "display_data"
    },
    {
     "name": "stdout",
     "output_type": "stream",
     "text": [
      "\n",
      "For year 2012\n"
     ]
    },
    {
     "data": {
      "application/vnd.jupyter.widget-view+json": {
       "model_id": "95b465e689804c97bfece852fb9e4a80",
       "version_major": 2,
       "version_minor": 0
      },
      "text/plain": [
       "HBox(children=(FloatProgress(value=0.0, description='Generating data', max=10.0, style=ProgressStyle(descripti…"
      ]
     },
     "metadata": {},
     "output_type": "display_data"
    },
    {
     "name": "stdout",
     "output_type": "stream",
     "text": [
      "\n",
      "For year 2013\n"
     ]
    },
    {
     "data": {
      "application/vnd.jupyter.widget-view+json": {
       "model_id": "c13dd4bf7f8141bf9196efd2bd939676",
       "version_major": 2,
       "version_minor": 0
      },
      "text/plain": [
       "HBox(children=(FloatProgress(value=0.0, description='Generating data', max=10.0, style=ProgressStyle(descripti…"
      ]
     },
     "metadata": {},
     "output_type": "display_data"
    },
    {
     "name": "stdout",
     "output_type": "stream",
     "text": [
      "\n",
      "For year 2014\n"
     ]
    },
    {
     "data": {
      "application/vnd.jupyter.widget-view+json": {
       "model_id": "68dfe0d06882461b8d26f5c6a27bac91",
       "version_major": 2,
       "version_minor": 0
      },
      "text/plain": [
       "HBox(children=(FloatProgress(value=0.0, description='Generating data', max=10.0, style=ProgressStyle(descripti…"
      ]
     },
     "metadata": {},
     "output_type": "display_data"
    },
    {
     "name": "stdout",
     "output_type": "stream",
     "text": [
      "\n",
      "For year 2015\n"
     ]
    },
    {
     "data": {
      "application/vnd.jupyter.widget-view+json": {
       "model_id": "a51139d1628e4492b27db105f492dbc5",
       "version_major": 2,
       "version_minor": 0
      },
      "text/plain": [
       "HBox(children=(FloatProgress(value=0.0, description='Generating data', max=10.0, style=ProgressStyle(descripti…"
      ]
     },
     "metadata": {},
     "output_type": "display_data"
    },
    {
     "name": "stdout",
     "output_type": "stream",
     "text": [
      "\n",
      "For year 2016\n"
     ]
    },
    {
     "data": {
      "application/vnd.jupyter.widget-view+json": {
       "model_id": "b07c485e01884f41ac9989e8afd7414f",
       "version_major": 2,
       "version_minor": 0
      },
      "text/plain": [
       "HBox(children=(FloatProgress(value=0.0, description='Generating data', max=10.0, style=ProgressStyle(descripti…"
      ]
     },
     "metadata": {},
     "output_type": "display_data"
    },
    {
     "name": "stdout",
     "output_type": "stream",
     "text": [
      "\n",
      "For year 2017\n"
     ]
    },
    {
     "data": {
      "application/vnd.jupyter.widget-view+json": {
       "model_id": "704f73ec22b44f7da267fef475f09c3d",
       "version_major": 2,
       "version_minor": 0
      },
      "text/plain": [
       "HBox(children=(FloatProgress(value=0.0, description='Generating data', max=10.0, style=ProgressStyle(descripti…"
      ]
     },
     "metadata": {},
     "output_type": "display_data"
    },
    {
     "name": "stdout",
     "output_type": "stream",
     "text": [
      "\n"
     ]
    },
    {
     "data": {
      "application/vnd.jupyter.widget-view+json": {
       "model_id": "fdfadfbd49e84263bd4bffbd8a7334c1",
       "version_major": 2,
       "version_minor": 0
      },
      "text/plain": [
       "HBox(children=(FloatProgress(value=0.0, description='Processing 2006', max=10.0, style=ProgressStyle(descripti…"
      ]
     },
     "metadata": {},
     "output_type": "display_data"
    },
    {
     "name": "stdout",
     "output_type": "stream",
     "text": [
      "\n"
     ]
    },
    {
     "data": {
      "application/vnd.jupyter.widget-view+json": {
       "model_id": "6a276606009c4f729b10d9ad496e7204",
       "version_major": 2,
       "version_minor": 0
      },
      "text/plain": [
       "HBox(children=(FloatProgress(value=0.0, description='Processing 2010', max=10.0, style=ProgressStyle(descripti…"
      ]
     },
     "metadata": {},
     "output_type": "display_data"
    },
    {
     "name": "stdout",
     "output_type": "stream",
     "text": [
      "\n"
     ]
    },
    {
     "data": {
      "application/vnd.jupyter.widget-view+json": {
       "model_id": "323ed641ef0c4a2c9c70c0d963819cee",
       "version_major": 2,
       "version_minor": 0
      },
      "text/plain": [
       "HBox(children=(FloatProgress(value=0.0, description='Processing 2011', max=10.0, style=ProgressStyle(descripti…"
      ]
     },
     "metadata": {},
     "output_type": "display_data"
    },
    {
     "name": "stdout",
     "output_type": "stream",
     "text": [
      "\n"
     ]
    },
    {
     "data": {
      "application/vnd.jupyter.widget-view+json": {
       "model_id": "90a155640b3944e2837b2a58378651e5",
       "version_major": 2,
       "version_minor": 0
      },
      "text/plain": [
       "HBox(children=(FloatProgress(value=0.0, description='Processing 2012', max=10.0, style=ProgressStyle(descripti…"
      ]
     },
     "metadata": {},
     "output_type": "display_data"
    },
    {
     "name": "stdout",
     "output_type": "stream",
     "text": [
      "\n"
     ]
    },
    {
     "data": {
      "application/vnd.jupyter.widget-view+json": {
       "model_id": "06259c5dfbe14770b3b1f4c8c96a9197",
       "version_major": 2,
       "version_minor": 0
      },
      "text/plain": [
       "HBox(children=(FloatProgress(value=0.0, description='Processing 2013', max=10.0, style=ProgressStyle(descripti…"
      ]
     },
     "metadata": {},
     "output_type": "display_data"
    },
    {
     "name": "stdout",
     "output_type": "stream",
     "text": [
      "\n"
     ]
    },
    {
     "data": {
      "application/vnd.jupyter.widget-view+json": {
       "model_id": "464eebcd1cae44fa8f454cb7bfa1fdb7",
       "version_major": 2,
       "version_minor": 0
      },
      "text/plain": [
       "HBox(children=(FloatProgress(value=0.0, description='Processing 2014', max=10.0, style=ProgressStyle(descripti…"
      ]
     },
     "metadata": {},
     "output_type": "display_data"
    },
    {
     "name": "stdout",
     "output_type": "stream",
     "text": [
      "\n"
     ]
    },
    {
     "data": {
      "application/vnd.jupyter.widget-view+json": {
       "model_id": "1bb829e7c0b3428f99ef80abfbee02ee",
       "version_major": 2,
       "version_minor": 0
      },
      "text/plain": [
       "HBox(children=(FloatProgress(value=0.0, description='Processing 2015', max=10.0, style=ProgressStyle(descripti…"
      ]
     },
     "metadata": {},
     "output_type": "display_data"
    },
    {
     "name": "stdout",
     "output_type": "stream",
     "text": [
      "\n"
     ]
    },
    {
     "data": {
      "application/vnd.jupyter.widget-view+json": {
       "model_id": "0c67901e13a941bc9b3b0c4c098dabf9",
       "version_major": 2,
       "version_minor": 0
      },
      "text/plain": [
       "HBox(children=(FloatProgress(value=0.0, description='Processing 2016', max=10.0, style=ProgressStyle(descripti…"
      ]
     },
     "metadata": {},
     "output_type": "display_data"
    },
    {
     "name": "stdout",
     "output_type": "stream",
     "text": [
      "\n"
     ]
    },
    {
     "data": {
      "application/vnd.jupyter.widget-view+json": {
       "model_id": "872fe379a694460bbf1ebf43d3842597",
       "version_major": 2,
       "version_minor": 0
      },
      "text/plain": [
       "HBox(children=(FloatProgress(value=0.0, description='Processing 2017', max=10.0, style=ProgressStyle(descripti…"
      ]
     },
     "metadata": {},
     "output_type": "display_data"
    },
    {
     "name": "stdout",
     "output_type": "stream",
     "text": [
      "\n"
     ]
    }
   ],
   "source": [
    "cm_datasets, cm_aadt = cmv.validation(\n",
    "    rdr, nb, cmh.estimate_aadts, n_sets=n_sets, progress_bar=True)"
   ]
  },
  {
   "cell_type": "code",
   "execution_count": 30,
   "metadata": {},
   "outputs": [
    {
     "name": "stdout",
     "output_type": "stream",
     "text": [
      "For year 2006\n"
     ]
    },
    {
     "data": {
      "application/vnd.jupyter.widget-view+json": {
       "model_id": "f69fd2facb1b448d85f0d89eaad796d8",
       "version_major": 2,
       "version_minor": 0
      },
      "text/plain": [
       "HBox(children=(FloatProgress(value=0.0, description='Generating data', max=10.0, style=ProgressStyle(descripti…"
      ]
     },
     "metadata": {},
     "output_type": "display_data"
    },
    {
     "name": "stdout",
     "output_type": "stream",
     "text": [
      "\n",
      "For year 2010\n"
     ]
    },
    {
     "data": {
      "application/vnd.jupyter.widget-view+json": {
       "model_id": "bafc70b6e872419fb0494882cb111a9b",
       "version_major": 2,
       "version_minor": 0
      },
      "text/plain": [
       "HBox(children=(FloatProgress(value=0.0, description='Generating data', max=10.0, style=ProgressStyle(descripti…"
      ]
     },
     "metadata": {},
     "output_type": "display_data"
    },
    {
     "name": "stdout",
     "output_type": "stream",
     "text": [
      "\n",
      "For year 2011\n"
     ]
    },
    {
     "data": {
      "application/vnd.jupyter.widget-view+json": {
       "model_id": "a9f7a3b2fd02441db826cff0f2258070",
       "version_major": 2,
       "version_minor": 0
      },
      "text/plain": [
       "HBox(children=(FloatProgress(value=0.0, description='Generating data', max=10.0, style=ProgressStyle(descripti…"
      ]
     },
     "metadata": {},
     "output_type": "display_data"
    },
    {
     "name": "stdout",
     "output_type": "stream",
     "text": [
      "\n",
      "For year 2012\n"
     ]
    },
    {
     "data": {
      "application/vnd.jupyter.widget-view+json": {
       "model_id": "edbe64ad32c849ecbfbad818f2efd5d0",
       "version_major": 2,
       "version_minor": 0
      },
      "text/plain": [
       "HBox(children=(FloatProgress(value=0.0, description='Generating data', max=10.0, style=ProgressStyle(descripti…"
      ]
     },
     "metadata": {},
     "output_type": "display_data"
    },
    {
     "name": "stdout",
     "output_type": "stream",
     "text": [
      "\n",
      "For year 2013\n"
     ]
    },
    {
     "data": {
      "application/vnd.jupyter.widget-view+json": {
       "model_id": "702ada83838e42d28ca36de339ccb5e7",
       "version_major": 2,
       "version_minor": 0
      },
      "text/plain": [
       "HBox(children=(FloatProgress(value=0.0, description='Generating data', max=10.0, style=ProgressStyle(descripti…"
      ]
     },
     "metadata": {},
     "output_type": "display_data"
    },
    {
     "name": "stdout",
     "output_type": "stream",
     "text": [
      "\n",
      "For year 2014\n"
     ]
    },
    {
     "data": {
      "application/vnd.jupyter.widget-view+json": {
       "model_id": "a7c32daebc9342d0bbff9e1c9477da6a",
       "version_major": 2,
       "version_minor": 0
      },
      "text/plain": [
       "HBox(children=(FloatProgress(value=0.0, description='Generating data', max=10.0, style=ProgressStyle(descripti…"
      ]
     },
     "metadata": {},
     "output_type": "display_data"
    },
    {
     "name": "stdout",
     "output_type": "stream",
     "text": [
      "\n",
      "For year 2015\n"
     ]
    },
    {
     "data": {
      "application/vnd.jupyter.widget-view+json": {
       "model_id": "eb82984e13b5465eb95a65037d448243",
       "version_major": 2,
       "version_minor": 0
      },
      "text/plain": [
       "HBox(children=(FloatProgress(value=0.0, description='Generating data', max=10.0, style=ProgressStyle(descripti…"
      ]
     },
     "metadata": {},
     "output_type": "display_data"
    },
    {
     "name": "stdout",
     "output_type": "stream",
     "text": [
      "\n",
      "For year 2016\n"
     ]
    },
    {
     "data": {
      "application/vnd.jupyter.widget-view+json": {
       "model_id": "ae9e1096dfe24e8587f5a5ef93d268be",
       "version_major": 2,
       "version_minor": 0
      },
      "text/plain": [
       "HBox(children=(FloatProgress(value=0.0, description='Generating data', max=10.0, style=ProgressStyle(descripti…"
      ]
     },
     "metadata": {},
     "output_type": "display_data"
    },
    {
     "name": "stdout",
     "output_type": "stream",
     "text": [
      "\n",
      "For year 2017\n"
     ]
    },
    {
     "data": {
      "application/vnd.jupyter.widget-view+json": {
       "model_id": "35279b06793542ef880000db03a85764",
       "version_major": 2,
       "version_minor": 0
      },
      "text/plain": [
       "HBox(children=(FloatProgress(value=0.0, description='Generating data', max=10.0, style=ProgressStyle(descripti…"
      ]
     },
     "metadata": {},
     "output_type": "display_data"
    },
    {
     "name": "stdout",
     "output_type": "stream",
     "text": [
      "\n"
     ]
    },
    {
     "data": {
      "application/vnd.jupyter.widget-view+json": {
       "model_id": "2357ab76e9c14ec3b70756c618ba17f2",
       "version_major": 2,
       "version_minor": 0
      },
      "text/plain": [
       "HBox(children=(FloatProgress(value=0.0, description='Processing 2006', max=10.0, style=ProgressStyle(descripti…"
      ]
     },
     "metadata": {},
     "output_type": "display_data"
    },
    {
     "name": "stdout",
     "output_type": "stream",
     "text": [
      "\n"
     ]
    },
    {
     "data": {
      "application/vnd.jupyter.widget-view+json": {
       "model_id": "1af152d73d704309bbb4bae9881267bd",
       "version_major": 2,
       "version_minor": 0
      },
      "text/plain": [
       "HBox(children=(FloatProgress(value=0.0, description='Processing 2010', max=10.0, style=ProgressStyle(descripti…"
      ]
     },
     "metadata": {},
     "output_type": "display_data"
    },
    {
     "name": "stdout",
     "output_type": "stream",
     "text": [
      "\n"
     ]
    },
    {
     "data": {
      "application/vnd.jupyter.widget-view+json": {
       "model_id": "12fa54d2f085407e9200a5fc2ddaed89",
       "version_major": 2,
       "version_minor": 0
      },
      "text/plain": [
       "HBox(children=(FloatProgress(value=0.0, description='Processing 2011', max=10.0, style=ProgressStyle(descripti…"
      ]
     },
     "metadata": {},
     "output_type": "display_data"
    },
    {
     "name": "stdout",
     "output_type": "stream",
     "text": [
      "\n"
     ]
    },
    {
     "data": {
      "application/vnd.jupyter.widget-view+json": {
       "model_id": "339e585c8a8f410b9315feaa180a85cb",
       "version_major": 2,
       "version_minor": 0
      },
      "text/plain": [
       "HBox(children=(FloatProgress(value=0.0, description='Processing 2012', max=10.0, style=ProgressStyle(descripti…"
      ]
     },
     "metadata": {},
     "output_type": "display_data"
    },
    {
     "name": "stdout",
     "output_type": "stream",
     "text": [
      "\n"
     ]
    },
    {
     "data": {
      "application/vnd.jupyter.widget-view+json": {
       "model_id": "0e86b201d3d64ae9acb3f6831078d34a",
       "version_major": 2,
       "version_minor": 0
      },
      "text/plain": [
       "HBox(children=(FloatProgress(value=0.0, description='Processing 2013', max=10.0, style=ProgressStyle(descripti…"
      ]
     },
     "metadata": {},
     "output_type": "display_data"
    },
    {
     "name": "stdout",
     "output_type": "stream",
     "text": [
      "\n"
     ]
    },
    {
     "data": {
      "application/vnd.jupyter.widget-view+json": {
       "model_id": "a6418566d8d142a1b63cde75ecfb5540",
       "version_major": 2,
       "version_minor": 0
      },
      "text/plain": [
       "HBox(children=(FloatProgress(value=0.0, description='Processing 2014', max=10.0, style=ProgressStyle(descripti…"
      ]
     },
     "metadata": {},
     "output_type": "display_data"
    },
    {
     "name": "stdout",
     "output_type": "stream",
     "text": [
      "\n"
     ]
    },
    {
     "data": {
      "application/vnd.jupyter.widget-view+json": {
       "model_id": "8d89ba7375b142279b1fb926870b8568",
       "version_major": 2,
       "version_minor": 0
      },
      "text/plain": [
       "HBox(children=(FloatProgress(value=0.0, description='Processing 2015', max=10.0, style=ProgressStyle(descripti…"
      ]
     },
     "metadata": {},
     "output_type": "display_data"
    },
    {
     "name": "stdout",
     "output_type": "stream",
     "text": [
      "\n"
     ]
    },
    {
     "data": {
      "application/vnd.jupyter.widget-view+json": {
       "model_id": "8f2d2cd51b224e52b55f70e08e00cf19",
       "version_major": 2,
       "version_minor": 0
      },
      "text/plain": [
       "HBox(children=(FloatProgress(value=0.0, description='Processing 2016', max=10.0, style=ProgressStyle(descripti…"
      ]
     },
     "metadata": {},
     "output_type": "display_data"
    },
    {
     "name": "stdout",
     "output_type": "stream",
     "text": [
      "\n"
     ]
    },
    {
     "data": {
      "application/vnd.jupyter.widget-view+json": {
       "model_id": "155b934a48c64359a026542919700e43",
       "version_major": 2,
       "version_minor": 0
      },
      "text/plain": [
       "HBox(children=(FloatProgress(value=0.0, description='Processing 2017', max=10.0, style=ProgressStyle(descripti…"
      ]
     },
     "metadata": {},
     "output_type": "display_data"
    },
    {
     "name": "stdout",
     "output_type": "stream",
     "text": [
      "\n"
     ]
    }
   ],
   "source": [
    "cm_ggf_datasets, cm_ggf_aadt = cmv.validation(\n",
    "    rdr, nb, cmh.estimate_aadts, algo_args={'override_growth_factor': True},\n",
    "    n_sets=n_sets, progress_bar=True)"
   ]
  },
  {
   "cell_type": "code",
   "execution_count": 31,
   "metadata": {},
   "outputs": [
    {
     "name": "stdout",
     "output_type": "stream",
     "text": [
      "For year 2006\n"
     ]
    },
    {
     "data": {
      "application/vnd.jupyter.widget-view+json": {
       "model_id": "a9b7b909a7634d268c7b8870784e27eb",
       "version_major": 2,
       "version_minor": 0
      },
      "text/plain": [
       "HBox(children=(FloatProgress(value=0.0, description='Generating data', max=10.0, style=ProgressStyle(descripti…"
      ]
     },
     "metadata": {},
     "output_type": "display_data"
    },
    {
     "name": "stdout",
     "output_type": "stream",
     "text": [
      "\n",
      "For year 2010\n"
     ]
    },
    {
     "data": {
      "application/vnd.jupyter.widget-view+json": {
       "model_id": "b50f22e13281405a9c2f6f2d36664f73",
       "version_major": 2,
       "version_minor": 0
      },
      "text/plain": [
       "HBox(children=(FloatProgress(value=0.0, description='Generating data', max=10.0, style=ProgressStyle(descripti…"
      ]
     },
     "metadata": {},
     "output_type": "display_data"
    },
    {
     "name": "stdout",
     "output_type": "stream",
     "text": [
      "\n",
      "For year 2011\n"
     ]
    },
    {
     "data": {
      "application/vnd.jupyter.widget-view+json": {
       "model_id": "2b02da26eb11438aaa865e91c241fc54",
       "version_major": 2,
       "version_minor": 0
      },
      "text/plain": [
       "HBox(children=(FloatProgress(value=0.0, description='Generating data', max=10.0, style=ProgressStyle(descripti…"
      ]
     },
     "metadata": {},
     "output_type": "display_data"
    },
    {
     "name": "stdout",
     "output_type": "stream",
     "text": [
      "\n",
      "For year 2012\n"
     ]
    },
    {
     "data": {
      "application/vnd.jupyter.widget-view+json": {
       "model_id": "27c9baeaea404cadb4a18ea33c925c24",
       "version_major": 2,
       "version_minor": 0
      },
      "text/plain": [
       "HBox(children=(FloatProgress(value=0.0, description='Generating data', max=10.0, style=ProgressStyle(descripti…"
      ]
     },
     "metadata": {},
     "output_type": "display_data"
    },
    {
     "name": "stdout",
     "output_type": "stream",
     "text": [
      "\n",
      "For year 2013\n"
     ]
    },
    {
     "data": {
      "application/vnd.jupyter.widget-view+json": {
       "model_id": "f7103ea228d24cd194b7d3a83319eadb",
       "version_major": 2,
       "version_minor": 0
      },
      "text/plain": [
       "HBox(children=(FloatProgress(value=0.0, description='Generating data', max=10.0, style=ProgressStyle(descripti…"
      ]
     },
     "metadata": {},
     "output_type": "display_data"
    },
    {
     "name": "stdout",
     "output_type": "stream",
     "text": [
      "\n",
      "For year 2014\n"
     ]
    },
    {
     "data": {
      "application/vnd.jupyter.widget-view+json": {
       "model_id": "3ce74cb22d894cbc9a4e9490fdfb84ca",
       "version_major": 2,
       "version_minor": 0
      },
      "text/plain": [
       "HBox(children=(FloatProgress(value=0.0, description='Generating data', max=10.0, style=ProgressStyle(descripti…"
      ]
     },
     "metadata": {},
     "output_type": "display_data"
    },
    {
     "name": "stdout",
     "output_type": "stream",
     "text": [
      "\n",
      "For year 2015\n"
     ]
    },
    {
     "data": {
      "application/vnd.jupyter.widget-view+json": {
       "model_id": "c05dde6d9bc541a8b3cd8ef597513bac",
       "version_major": 2,
       "version_minor": 0
      },
      "text/plain": [
       "HBox(children=(FloatProgress(value=0.0, description='Generating data', max=10.0, style=ProgressStyle(descripti…"
      ]
     },
     "metadata": {},
     "output_type": "display_data"
    },
    {
     "name": "stdout",
     "output_type": "stream",
     "text": [
      "\n",
      "For year 2016\n"
     ]
    },
    {
     "data": {
      "application/vnd.jupyter.widget-view+json": {
       "model_id": "81d08d4ecb724944ace99387dad7ac27",
       "version_major": 2,
       "version_minor": 0
      },
      "text/plain": [
       "HBox(children=(FloatProgress(value=0.0, description='Generating data', max=10.0, style=ProgressStyle(descripti…"
      ]
     },
     "metadata": {},
     "output_type": "display_data"
    },
    {
     "name": "stdout",
     "output_type": "stream",
     "text": [
      "\n",
      "For year 2017\n"
     ]
    },
    {
     "data": {
      "application/vnd.jupyter.widget-view+json": {
       "model_id": "b3657a992b2446e395e6abad60a89ae4",
       "version_major": 2,
       "version_minor": 0
      },
      "text/plain": [
       "HBox(children=(FloatProgress(value=0.0, description='Generating data', max=10.0, style=ProgressStyle(descripti…"
      ]
     },
     "metadata": {},
     "output_type": "display_data"
    },
    {
     "name": "stdout",
     "output_type": "stream",
     "text": [
      "\n"
     ]
    },
    {
     "data": {
      "application/vnd.jupyter.widget-view+json": {
       "model_id": "2721a25d2d1443f1bded2f4a830b0a26",
       "version_major": 2,
       "version_minor": 0
      },
      "text/plain": [
       "HBox(children=(FloatProgress(value=0.0, description='Processing 2006', max=10.0, style=ProgressStyle(descripti…"
      ]
     },
     "metadata": {},
     "output_type": "display_data"
    },
    {
     "name": "stdout",
     "output_type": "stream",
     "text": [
      "\n"
     ]
    },
    {
     "data": {
      "application/vnd.jupyter.widget-view+json": {
       "model_id": "47c63f873cdc4b6a964dabcff5504bc8",
       "version_major": 2,
       "version_minor": 0
      },
      "text/plain": [
       "HBox(children=(FloatProgress(value=0.0, description='Processing 2010', max=10.0, style=ProgressStyle(descripti…"
      ]
     },
     "metadata": {},
     "output_type": "display_data"
    },
    {
     "name": "stdout",
     "output_type": "stream",
     "text": [
      "\n"
     ]
    },
    {
     "data": {
      "application/vnd.jupyter.widget-view+json": {
       "model_id": "f93b941b278d413ba303829561c06bf4",
       "version_major": 2,
       "version_minor": 0
      },
      "text/plain": [
       "HBox(children=(FloatProgress(value=0.0, description='Processing 2011', max=10.0, style=ProgressStyle(descripti…"
      ]
     },
     "metadata": {},
     "output_type": "display_data"
    },
    {
     "name": "stdout",
     "output_type": "stream",
     "text": [
      "\n"
     ]
    },
    {
     "data": {
      "application/vnd.jupyter.widget-view+json": {
       "model_id": "d9fd9779a71946c485143668d671f165",
       "version_major": 2,
       "version_minor": 0
      },
      "text/plain": [
       "HBox(children=(FloatProgress(value=0.0, description='Processing 2012', max=10.0, style=ProgressStyle(descripti…"
      ]
     },
     "metadata": {},
     "output_type": "display_data"
    },
    {
     "name": "stdout",
     "output_type": "stream",
     "text": [
      "\n"
     ]
    },
    {
     "data": {
      "application/vnd.jupyter.widget-view+json": {
       "model_id": "314043b3aaad4e41855b68b5967f9fb1",
       "version_major": 2,
       "version_minor": 0
      },
      "text/plain": [
       "HBox(children=(FloatProgress(value=0.0, description='Processing 2013', max=10.0, style=ProgressStyle(descripti…"
      ]
     },
     "metadata": {},
     "output_type": "display_data"
    },
    {
     "name": "stdout",
     "output_type": "stream",
     "text": [
      "\n"
     ]
    },
    {
     "data": {
      "application/vnd.jupyter.widget-view+json": {
       "model_id": "430253165bbb4a49a91347dea8a20c8b",
       "version_major": 2,
       "version_minor": 0
      },
      "text/plain": [
       "HBox(children=(FloatProgress(value=0.0, description='Processing 2014', max=10.0, style=ProgressStyle(descripti…"
      ]
     },
     "metadata": {},
     "output_type": "display_data"
    },
    {
     "name": "stdout",
     "output_type": "stream",
     "text": [
      "\n"
     ]
    },
    {
     "data": {
      "application/vnd.jupyter.widget-view+json": {
       "model_id": "a296fa23eb8e491cb29ffc6236ea2bf1",
       "version_major": 2,
       "version_minor": 0
      },
      "text/plain": [
       "HBox(children=(FloatProgress(value=0.0, description='Processing 2015', max=10.0, style=ProgressStyle(descripti…"
      ]
     },
     "metadata": {},
     "output_type": "display_data"
    },
    {
     "name": "stdout",
     "output_type": "stream",
     "text": [
      "\n"
     ]
    },
    {
     "data": {
      "application/vnd.jupyter.widget-view+json": {
       "model_id": "847e03aafe1741e28e4a7e7a60fb1017",
       "version_major": 2,
       "version_minor": 0
      },
      "text/plain": [
       "HBox(children=(FloatProgress(value=0.0, description='Processing 2016', max=10.0, style=ProgressStyle(descripti…"
      ]
     },
     "metadata": {},
     "output_type": "display_data"
    },
    {
     "name": "stdout",
     "output_type": "stream",
     "text": [
      "\n"
     ]
    },
    {
     "data": {
      "application/vnd.jupyter.widget-view+json": {
       "model_id": "76be4721d9ef4168955293049ccd51cd",
       "version_major": 2,
       "version_minor": 0
      },
      "text/plain": [
       "HBox(children=(FloatProgress(value=0.0, description='Processing 2017', max=10.0, style=ProgressStyle(descripti…"
      ]
     },
     "metadata": {},
     "output_type": "display_data"
    },
    {
     "name": "stdout",
     "output_type": "stream",
     "text": [
      "\n"
     ]
    }
   ],
   "source": [
    "bag_datasets, bag_aadt = cmv.validation(\n",
    "    rdr, nb, cmb.estimate_aadts, algo_args={'override_growth_factor': False},\n",
    "    n_sets=n_sets, progress_bar=True)"
   ]
  },
  {
   "cell_type": "code",
   "execution_count": 32,
   "metadata": {},
   "outputs": [
    {
     "name": "stdout",
     "output_type": "stream",
     "text": [
      "For year 2006\n"
     ]
    },
    {
     "data": {
      "application/vnd.jupyter.widget-view+json": {
       "model_id": "c0b8c2802773404682e62f80e2b8dc9e",
       "version_major": 2,
       "version_minor": 0
      },
      "text/plain": [
       "HBox(children=(FloatProgress(value=0.0, description='Generating data', max=10.0, style=ProgressStyle(descripti…"
      ]
     },
     "metadata": {},
     "output_type": "display_data"
    },
    {
     "name": "stdout",
     "output_type": "stream",
     "text": [
      "\n",
      "For year 2010\n"
     ]
    },
    {
     "data": {
      "application/vnd.jupyter.widget-view+json": {
       "model_id": "c43646ac192444929cfc6424b93abd28",
       "version_major": 2,
       "version_minor": 0
      },
      "text/plain": [
       "HBox(children=(FloatProgress(value=0.0, description='Generating data', max=10.0, style=ProgressStyle(descripti…"
      ]
     },
     "metadata": {},
     "output_type": "display_data"
    },
    {
     "name": "stdout",
     "output_type": "stream",
     "text": [
      "\n",
      "For year 2011\n"
     ]
    },
    {
     "data": {
      "application/vnd.jupyter.widget-view+json": {
       "model_id": "16854d4659fe499eb5decdb0d2098558",
       "version_major": 2,
       "version_minor": 0
      },
      "text/plain": [
       "HBox(children=(FloatProgress(value=0.0, description='Generating data', max=10.0, style=ProgressStyle(descripti…"
      ]
     },
     "metadata": {},
     "output_type": "display_data"
    },
    {
     "name": "stdout",
     "output_type": "stream",
     "text": [
      "\n",
      "For year 2012\n"
     ]
    },
    {
     "data": {
      "application/vnd.jupyter.widget-view+json": {
       "model_id": "9df62d6b8ff6470d85a6e7777aa7838d",
       "version_major": 2,
       "version_minor": 0
      },
      "text/plain": [
       "HBox(children=(FloatProgress(value=0.0, description='Generating data', max=10.0, style=ProgressStyle(descripti…"
      ]
     },
     "metadata": {},
     "output_type": "display_data"
    },
    {
     "name": "stdout",
     "output_type": "stream",
     "text": [
      "\n",
      "For year 2013\n"
     ]
    },
    {
     "data": {
      "application/vnd.jupyter.widget-view+json": {
       "model_id": "b7bdbba22ab54267bb3687767e959966",
       "version_major": 2,
       "version_minor": 0
      },
      "text/plain": [
       "HBox(children=(FloatProgress(value=0.0, description='Generating data', max=10.0, style=ProgressStyle(descripti…"
      ]
     },
     "metadata": {},
     "output_type": "display_data"
    },
    {
     "name": "stdout",
     "output_type": "stream",
     "text": [
      "\n",
      "For year 2014\n"
     ]
    },
    {
     "data": {
      "application/vnd.jupyter.widget-view+json": {
       "model_id": "e715052eb62842628fcda832b6cc55ed",
       "version_major": 2,
       "version_minor": 0
      },
      "text/plain": [
       "HBox(children=(FloatProgress(value=0.0, description='Generating data', max=10.0, style=ProgressStyle(descripti…"
      ]
     },
     "metadata": {},
     "output_type": "display_data"
    },
    {
     "name": "stdout",
     "output_type": "stream",
     "text": [
      "\n",
      "For year 2015\n"
     ]
    },
    {
     "data": {
      "application/vnd.jupyter.widget-view+json": {
       "model_id": "0212ce3af43c48a2a8ea3ff0801481b4",
       "version_major": 2,
       "version_minor": 0
      },
      "text/plain": [
       "HBox(children=(FloatProgress(value=0.0, description='Generating data', max=10.0, style=ProgressStyle(descripti…"
      ]
     },
     "metadata": {},
     "output_type": "display_data"
    },
    {
     "name": "stdout",
     "output_type": "stream",
     "text": [
      "\n",
      "For year 2016\n"
     ]
    },
    {
     "data": {
      "application/vnd.jupyter.widget-view+json": {
       "model_id": "97d6da76f8bc434a9c56243f588d2da9",
       "version_major": 2,
       "version_minor": 0
      },
      "text/plain": [
       "HBox(children=(FloatProgress(value=0.0, description='Generating data', max=10.0, style=ProgressStyle(descripti…"
      ]
     },
     "metadata": {},
     "output_type": "display_data"
    },
    {
     "name": "stdout",
     "output_type": "stream",
     "text": [
      "\n",
      "For year 2017\n"
     ]
    },
    {
     "data": {
      "application/vnd.jupyter.widget-view+json": {
       "model_id": "efc259761f68456cafb4ade2c49e1895",
       "version_major": 2,
       "version_minor": 0
      },
      "text/plain": [
       "HBox(children=(FloatProgress(value=0.0, description='Generating data', max=10.0, style=ProgressStyle(descripti…"
      ]
     },
     "metadata": {},
     "output_type": "display_data"
    },
    {
     "name": "stdout",
     "output_type": "stream",
     "text": [
      "\n"
     ]
    },
    {
     "data": {
      "application/vnd.jupyter.widget-view+json": {
       "model_id": "63e501c4ee664f27a341e76442e37741",
       "version_major": 2,
       "version_minor": 0
      },
      "text/plain": [
       "HBox(children=(FloatProgress(value=0.0, description='Processing 2006', max=10.0, style=ProgressStyle(descripti…"
      ]
     },
     "metadata": {},
     "output_type": "display_data"
    },
    {
     "name": "stdout",
     "output_type": "stream",
     "text": [
      "\n"
     ]
    },
    {
     "data": {
      "application/vnd.jupyter.widget-view+json": {
       "model_id": "1208046d92904300b1456bbc86f18084",
       "version_major": 2,
       "version_minor": 0
      },
      "text/plain": [
       "HBox(children=(FloatProgress(value=0.0, description='Processing 2010', max=10.0, style=ProgressStyle(descripti…"
      ]
     },
     "metadata": {},
     "output_type": "display_data"
    },
    {
     "name": "stdout",
     "output_type": "stream",
     "text": [
      "\n"
     ]
    },
    {
     "data": {
      "application/vnd.jupyter.widget-view+json": {
       "model_id": "46946516f3264a7ba4830575674fc331",
       "version_major": 2,
       "version_minor": 0
      },
      "text/plain": [
       "HBox(children=(FloatProgress(value=0.0, description='Processing 2011', max=10.0, style=ProgressStyle(descripti…"
      ]
     },
     "metadata": {},
     "output_type": "display_data"
    },
    {
     "name": "stdout",
     "output_type": "stream",
     "text": [
      "\n"
     ]
    },
    {
     "data": {
      "application/vnd.jupyter.widget-view+json": {
       "model_id": "10830ab4e2d144f08403317ebba5faa2",
       "version_major": 2,
       "version_minor": 0
      },
      "text/plain": [
       "HBox(children=(FloatProgress(value=0.0, description='Processing 2012', max=10.0, style=ProgressStyle(descripti…"
      ]
     },
     "metadata": {},
     "output_type": "display_data"
    },
    {
     "name": "stdout",
     "output_type": "stream",
     "text": [
      "\n"
     ]
    },
    {
     "data": {
      "application/vnd.jupyter.widget-view+json": {
       "model_id": "36593aefbf80434fa1656a3cf56027e1",
       "version_major": 2,
       "version_minor": 0
      },
      "text/plain": [
       "HBox(children=(FloatProgress(value=0.0, description='Processing 2013', max=10.0, style=ProgressStyle(descripti…"
      ]
     },
     "metadata": {},
     "output_type": "display_data"
    },
    {
     "name": "stdout",
     "output_type": "stream",
     "text": [
      "\n"
     ]
    },
    {
     "data": {
      "application/vnd.jupyter.widget-view+json": {
       "model_id": "b74191e1a8a24a66b0ba94e8bed9f0e9",
       "version_major": 2,
       "version_minor": 0
      },
      "text/plain": [
       "HBox(children=(FloatProgress(value=0.0, description='Processing 2014', max=10.0, style=ProgressStyle(descripti…"
      ]
     },
     "metadata": {},
     "output_type": "display_data"
    },
    {
     "name": "stdout",
     "output_type": "stream",
     "text": [
      "\n"
     ]
    },
    {
     "data": {
      "application/vnd.jupyter.widget-view+json": {
       "model_id": "2a0aecace1634cf3a6e0cd4fad5963fe",
       "version_major": 2,
       "version_minor": 0
      },
      "text/plain": [
       "HBox(children=(FloatProgress(value=0.0, description='Processing 2015', max=10.0, style=ProgressStyle(descripti…"
      ]
     },
     "metadata": {},
     "output_type": "display_data"
    },
    {
     "name": "stdout",
     "output_type": "stream",
     "text": [
      "\n"
     ]
    },
    {
     "data": {
      "application/vnd.jupyter.widget-view+json": {
       "model_id": "b6e73514464b44878c538e0152a23c91",
       "version_major": 2,
       "version_minor": 0
      },
      "text/plain": [
       "HBox(children=(FloatProgress(value=0.0, description='Processing 2016', max=10.0, style=ProgressStyle(descripti…"
      ]
     },
     "metadata": {},
     "output_type": "display_data"
    },
    {
     "name": "stdout",
     "output_type": "stream",
     "text": [
      "\n"
     ]
    },
    {
     "data": {
      "application/vnd.jupyter.widget-view+json": {
       "model_id": "c9ac0ebbfbae4586bc24061760191496",
       "version_major": 2,
       "version_minor": 0
      },
      "text/plain": [
       "HBox(children=(FloatProgress(value=0.0, description='Processing 2017', max=10.0, style=ProgressStyle(descripti…"
      ]
     },
     "metadata": {},
     "output_type": "display_data"
    },
    {
     "name": "stdout",
     "output_type": "stream",
     "text": [
      "\n"
     ]
    }
   ],
   "source": [
    "bag_ggf_datasets, bag_ggf_aadt = cmv.validation(\n",
    "    rdr, nb, cmb.estimate_aadts, algo_args={'override_growth_factor': True},\n",
    "    n_sets=n_sets, progress_bar=True)"
   ]
  },
  {
   "cell_type": "code",
   "execution_count": 33,
   "metadata": {},
   "outputs": [
    {
     "name": "stdout",
     "output_type": "stream",
     "text": [
      "For year 2006\n"
     ]
    },
    {
     "data": {
      "application/vnd.jupyter.widget-view+json": {
       "model_id": "afd1c5d6b62548c7842ad2a2526ee9bf",
       "version_major": 2,
       "version_minor": 0
      },
      "text/plain": [
       "HBox(children=(FloatProgress(value=0.0, description='Generating data', max=10.0, style=ProgressStyle(descripti…"
      ]
     },
     "metadata": {},
     "output_type": "display_data"
    },
    {
     "name": "stdout",
     "output_type": "stream",
     "text": [
      "\n",
      "For year 2010\n"
     ]
    },
    {
     "data": {
      "application/vnd.jupyter.widget-view+json": {
       "model_id": "cf961e5b590d4ca0a04f854a9bf497fb",
       "version_major": 2,
       "version_minor": 0
      },
      "text/plain": [
       "HBox(children=(FloatProgress(value=0.0, description='Generating data', max=10.0, style=ProgressStyle(descripti…"
      ]
     },
     "metadata": {},
     "output_type": "display_data"
    },
    {
     "name": "stdout",
     "output_type": "stream",
     "text": [
      "\n",
      "For year 2011\n"
     ]
    },
    {
     "data": {
      "application/vnd.jupyter.widget-view+json": {
       "model_id": "1106904949cb4a689619b389a7fdacda",
       "version_major": 2,
       "version_minor": 0
      },
      "text/plain": [
       "HBox(children=(FloatProgress(value=0.0, description='Generating data', max=10.0, style=ProgressStyle(descripti…"
      ]
     },
     "metadata": {},
     "output_type": "display_data"
    },
    {
     "name": "stdout",
     "output_type": "stream",
     "text": [
      "\n",
      "For year 2012\n"
     ]
    },
    {
     "data": {
      "application/vnd.jupyter.widget-view+json": {
       "model_id": "2ab3f00d458d4d79bc0f7449628e3a2c",
       "version_major": 2,
       "version_minor": 0
      },
      "text/plain": [
       "HBox(children=(FloatProgress(value=0.0, description='Generating data', max=10.0, style=ProgressStyle(descripti…"
      ]
     },
     "metadata": {},
     "output_type": "display_data"
    },
    {
     "name": "stdout",
     "output_type": "stream",
     "text": [
      "\n",
      "For year 2013\n"
     ]
    },
    {
     "data": {
      "application/vnd.jupyter.widget-view+json": {
       "model_id": "2d94a1faa6a941e7af49a7206e1a205d",
       "version_major": 2,
       "version_minor": 0
      },
      "text/plain": [
       "HBox(children=(FloatProgress(value=0.0, description='Generating data', max=10.0, style=ProgressStyle(descripti…"
      ]
     },
     "metadata": {},
     "output_type": "display_data"
    },
    {
     "name": "stdout",
     "output_type": "stream",
     "text": [
      "\n",
      "For year 2014\n"
     ]
    },
    {
     "data": {
      "application/vnd.jupyter.widget-view+json": {
       "model_id": "8ef4eee830ae4cf2a452d184d63127e6",
       "version_major": 2,
       "version_minor": 0
      },
      "text/plain": [
       "HBox(children=(FloatProgress(value=0.0, description='Generating data', max=10.0, style=ProgressStyle(descripti…"
      ]
     },
     "metadata": {},
     "output_type": "display_data"
    },
    {
     "name": "stdout",
     "output_type": "stream",
     "text": [
      "\n",
      "For year 2015\n"
     ]
    },
    {
     "data": {
      "application/vnd.jupyter.widget-view+json": {
       "model_id": "3a4b6536dc4847c68759f33f108da001",
       "version_major": 2,
       "version_minor": 0
      },
      "text/plain": [
       "HBox(children=(FloatProgress(value=0.0, description='Generating data', max=10.0, style=ProgressStyle(descripti…"
      ]
     },
     "metadata": {},
     "output_type": "display_data"
    },
    {
     "name": "stdout",
     "output_type": "stream",
     "text": [
      "\n",
      "For year 2016\n"
     ]
    },
    {
     "data": {
      "application/vnd.jupyter.widget-view+json": {
       "model_id": "4dcfa7a673aa47f88f35dfbe9efded15",
       "version_major": 2,
       "version_minor": 0
      },
      "text/plain": [
       "HBox(children=(FloatProgress(value=0.0, description='Generating data', max=10.0, style=ProgressStyle(descripti…"
      ]
     },
     "metadata": {},
     "output_type": "display_data"
    },
    {
     "name": "stdout",
     "output_type": "stream",
     "text": [
      "\n",
      "For year 2017\n"
     ]
    },
    {
     "data": {
      "application/vnd.jupyter.widget-view+json": {
       "model_id": "6fb0d4f910064144b5bb4cf05e310f2b",
       "version_major": 2,
       "version_minor": 0
      },
      "text/plain": [
       "HBox(children=(FloatProgress(value=0.0, description='Generating data', max=10.0, style=ProgressStyle(descripti…"
      ]
     },
     "metadata": {},
     "output_type": "display_data"
    },
    {
     "name": "stdout",
     "output_type": "stream",
     "text": [
      "\n"
     ]
    },
    {
     "data": {
      "application/vnd.jupyter.widget-view+json": {
       "model_id": "af3fb2f597794e62a35a498ae7e591ef",
       "version_major": 2,
       "version_minor": 0
      },
      "text/plain": [
       "HBox(children=(FloatProgress(value=0.0, description='Processing 2006', max=10.0, style=ProgressStyle(descripti…"
      ]
     },
     "metadata": {},
     "output_type": "display_data"
    },
    {
     "name": "stdout",
     "output_type": "stream",
     "text": [
      "\n"
     ]
    },
    {
     "data": {
      "application/vnd.jupyter.widget-view+json": {
       "model_id": "54cd16175ddd48f0822095060d9c6096",
       "version_major": 2,
       "version_minor": 0
      },
      "text/plain": [
       "HBox(children=(FloatProgress(value=0.0, description='Processing 2010', max=10.0, style=ProgressStyle(descripti…"
      ]
     },
     "metadata": {},
     "output_type": "display_data"
    },
    {
     "name": "stdout",
     "output_type": "stream",
     "text": [
      "\n"
     ]
    },
    {
     "data": {
      "application/vnd.jupyter.widget-view+json": {
       "model_id": "017149b797794644a517a95453e440a9",
       "version_major": 2,
       "version_minor": 0
      },
      "text/plain": [
       "HBox(children=(FloatProgress(value=0.0, description='Processing 2011', max=10.0, style=ProgressStyle(descripti…"
      ]
     },
     "metadata": {},
     "output_type": "display_data"
    },
    {
     "name": "stdout",
     "output_type": "stream",
     "text": [
      "\n"
     ]
    },
    {
     "data": {
      "application/vnd.jupyter.widget-view+json": {
       "model_id": "1db2249d1e304bf8ad73a8c7dde3e97f",
       "version_major": 2,
       "version_minor": 0
      },
      "text/plain": [
       "HBox(children=(FloatProgress(value=0.0, description='Processing 2012', max=10.0, style=ProgressStyle(descripti…"
      ]
     },
     "metadata": {},
     "output_type": "display_data"
    },
    {
     "name": "stdout",
     "output_type": "stream",
     "text": [
      "\n"
     ]
    },
    {
     "data": {
      "application/vnd.jupyter.widget-view+json": {
       "model_id": "c1d49a4b7320415db3de0bfdfc650bb3",
       "version_major": 2,
       "version_minor": 0
      },
      "text/plain": [
       "HBox(children=(FloatProgress(value=0.0, description='Processing 2013', max=10.0, style=ProgressStyle(descripti…"
      ]
     },
     "metadata": {},
     "output_type": "display_data"
    },
    {
     "name": "stdout",
     "output_type": "stream",
     "text": [
      "\n"
     ]
    },
    {
     "data": {
      "application/vnd.jupyter.widget-view+json": {
       "model_id": "7bdda602d4dd4ea6ad7047e47b1307eb",
       "version_major": 2,
       "version_minor": 0
      },
      "text/plain": [
       "HBox(children=(FloatProgress(value=0.0, description='Processing 2014', max=10.0, style=ProgressStyle(descripti…"
      ]
     },
     "metadata": {},
     "output_type": "display_data"
    },
    {
     "name": "stdout",
     "output_type": "stream",
     "text": [
      "\n"
     ]
    },
    {
     "data": {
      "application/vnd.jupyter.widget-view+json": {
       "model_id": "52b16224ee3448388ee0e357be2aae11",
       "version_major": 2,
       "version_minor": 0
      },
      "text/plain": [
       "HBox(children=(FloatProgress(value=0.0, description='Processing 2015', max=10.0, style=ProgressStyle(descripti…"
      ]
     },
     "metadata": {},
     "output_type": "display_data"
    },
    {
     "name": "stdout",
     "output_type": "stream",
     "text": [
      "\n"
     ]
    },
    {
     "data": {
      "application/vnd.jupyter.widget-view+json": {
       "model_id": "141022983ef849ed9133f165e925c933",
       "version_major": 2,
       "version_minor": 0
      },
      "text/plain": [
       "HBox(children=(FloatProgress(value=0.0, description='Processing 2016', max=10.0, style=ProgressStyle(descripti…"
      ]
     },
     "metadata": {},
     "output_type": "display_data"
    },
    {
     "name": "stdout",
     "output_type": "stream",
     "text": [
      "\n"
     ]
    },
    {
     "data": {
      "application/vnd.jupyter.widget-view+json": {
       "model_id": "5498d358febf470db048cbff7738f0bf",
       "version_major": 2,
       "version_minor": 0
      },
      "text/plain": [
       "HBox(children=(FloatProgress(value=0.0, description='Processing 2017', max=10.0, style=ProgressStyle(descripti…"
      ]
     },
     "metadata": {},
     "output_type": "display_data"
    },
    {
     "name": "stdout",
     "output_type": "stream",
     "text": [
      "\n"
     ]
    }
   ],
   "source": [
    "bag_cov_ggf_datasets, bag_cov_ggf_aadt = cmv.validation(\n",
    "    rdr, nb, cmb.estimate_aadts,\n",
    "    algo_args={'erroralgo': 'Minimum COV', 'override_growth_factor': True},\n",
    "    n_sets=n_sets, progress_bar=True)"
   ]
  },
  {
   "cell_type": "code",
   "execution_count": 77,
   "metadata": {},
   "outputs": [
    {
     "data": {
      "text/html": [
       "        <script type=\"text/javascript\">\n",
       "        window.PlotlyConfig = {MathJaxConfig: 'local'};\n",
       "        if (window.MathJax) {MathJax.Hub.Config({SVG: {font: \"STIX-Web\"}});}\n",
       "        if (typeof require !== 'undefined') {\n",
       "        require.undef(\"plotly\");\n",
       "        requirejs.config({\n",
       "            paths: {\n",
       "                'plotly': ['https://cdn.plot.ly/plotly-latest.min']\n",
       "            }\n",
       "        });\n",
       "        require(['plotly'], function(Plotly) {\n",
       "            window._Plotly = Plotly;\n",
       "        });\n",
       "        }\n",
       "        </script>\n",
       "        "
      ]
     },
     "metadata": {},
     "output_type": "display_data"
    }
   ],
   "source": [
    "import plotly.offline as pltly\n",
    "import plotly.graph_objs as go\n",
    "pltly.init_notebook_mode(connected=True)\n",
    "\n",
    "import knowyourdata as kyd\n",
    "\n",
    "import statsmodels.api as sm\n",
    "\n",
    "\n",
    "def make_ploty_scatter(plt_data, title):\n",
    "\n",
    "    scatter_data = []\n",
    "    for i in range(len(plt_data)):\n",
    "        year = plt_data[i].iat[0, -1]\n",
    "        data = plt_data[i]\n",
    "        \n",
    "        scatter_data.append(\n",
    "            go.Scatter(\n",
    "                x=data.loc[:, 'Ground Truth'].values,\n",
    "                y=data.loc[:, 0].values,\n",
    "                mode='markers',\n",
    "                hovertemplate=\"%{x:0.3f}, %{y:0.3f}\",\n",
    "                marker=dict(size=14,\n",
    "                            line=dict(width=1),\n",
    "                            color=defaultcolours[i % 10]),\n",
    "                name=str(year)\n",
    "            ))\n",
    "\n",
    "    layout = go.Layout(\n",
    "        title=title,\n",
    "        width=900,\n",
    "        height=600,\n",
    "        hovermode='closest',\n",
    "        xaxis=dict(\n",
    "            title='Ground Truth',\n",
    "            ticklen= 1000,\n",
    "            zeroline= False,\n",
    "            gridwidth= 2,\n",
    "        ),\n",
    "        yaxis=dict(\n",
    "            title='Typical Prediction',\n",
    "            ticklen= 1000,\n",
    "            gridwidth= 2,\n",
    "        ),\n",
    "        showlegend=True\n",
    "    )\n",
    "\n",
    "    fig = go.Figure(data=scatter_data, layout=layout)\n",
    "    pltly.iplot(fig)\n",
    "\n",
    "\n",
    "def check_mape(plt_data):\n",
    "    all_data = pd.concat(plt_data)\n",
    "    all_data['MAPE'] = all_data['MAE'] / all_data['Ground Truth']\n",
    "    kyd.kyd(all_data['MAPE']);\n",
    "\n",
    "    \n",
    "def linear_fit(plt_data):\n",
    "    all_data = pd.concat(plt_data)\n",
    "    x = np.concatenate([all_data.loc[:, i].values for i in range(n_sets)])\n",
    "    y = np.concatenate(n_sets * [all_data.loc[:, 'Ground Truth'].values, ])\n",
    "\n",
    "    model = sm.OLS(endog=y, exog=x)\n",
    "    return \"Slope: {0}\".format(*model.fit().params)"
   ]
  },
  {
   "cell_type": "markdown",
   "metadata": {},
   "source": [
    "### TEPs Emulator"
   ]
  },
  {
   "cell_type": "code",
   "execution_count": 51,
   "metadata": {
    "scrolled": false
   },
   "outputs": [
    {
     "data": {
      "application/vnd.plotly.v1+json": {
       "config": {
        "linkText": "Export to plot.ly",
        "plotlyServerURL": "https://plot.ly",
        "showLink": false
       },
       "data": [
        {
         "hovertemplate": "%{x:0.3f}, %{y:0.3f}",
         "marker": {
          "color": "#1f77b4",
          "line": {
           "width": 1
          },
          "size": 14
         },
         "mode": "markers",
         "name": "2006",
         "type": "scatter",
         "x": [
          1062.7846825679437
         ],
         "y": [
          482.50135910679893
         ]
        },
        {
         "hovertemplate": "%{x:0.3f}, %{y:0.3f}",
         "marker": {
          "color": "#ff7f0e",
          "line": {
           "width": 1
          },
          "size": 14
         },
         "mode": "markers",
         "name": "2010",
         "type": "scatter",
         "x": [
          15255.520320454854,
          55196.733806100536,
          8245.02643178383,
          29127.998506404634,
          61641.049747671146,
          75440.99990165087,
          6662.478466803338,
          18725.636255852212,
          83486.95739560948,
          80197.74419072465,
          7226.875264658771,
          58021.08437105056,
          53625.34702047268,
          19307.867796457664,
          18739.428061618746,
          25662.300544796093,
          9526.935479277297,
          17953.196473929424,
          16986.55734146219,
          4022.0163578674888,
          6640.411861809423,
          4349.017096425068,
          29673.56449650973,
          9503.730777958495,
          4067.500047205748,
          25091.859608315604,
          73410.80112754917,
          30578.572598213887,
          65699.8324925106,
          80534.45171352786,
          16005.209527768406,
          86996.37810261064,
          80803.02430523981,
          56367.6453896252,
          19675.023911736665,
          6119.285824000488,
          41744.782060581725,
          40430.13331105424,
          52844.842148811615,
          22381.673026850876,
          6827.877079343163,
          32133.694570581447,
          82822.14136454414,
          79348.81712166812,
          8951.316680616188,
          85009.78862537871,
          4162.2856361852255,
          33880.909913883945,
          15216.509862723648,
          13876.078020011726,
          17292.127972502018,
          70583.4807799674,
          3350.1645458149246,
          5627.793110230975,
          24554.12811210833,
          12703.668581564827,
          8344.272807979438,
          80137.1689330468,
          65963.77195589899,
          77712.71881542233,
          48484.23570580561,
          5072.656912539515,
          21674.612031935783,
          55193.205708264344,
          9036.046049475637,
          45498.04162975632,
          42005.05723432648,
          39989.98103019051,
          61458.92259308879,
          75302.0459671835,
          76806.23893737241,
          75541.33410142064,
          20032.989169463664,
          15961.46816448392,
          63461.178599911276,
          23831.603927778735,
          73438.55419519293,
          35230.751580256285,
          19684.84187661755,
          14121.272975851934,
          10492.872862176555,
          11306.436426714838,
          11426.60318799843,
          9630.36991410636,
          6444.665968541579,
          24334.25538905387,
          11410.068652502016,
          19013.11536241012,
          8948.027613213673,
          13502.089826410771,
          44262.78116983048,
          18652.174886664325,
          77842.57576763799,
          7667.695307095944,
          76963.1163075428,
          22808.731510967384,
          74519.3638868985,
          31061.41705255208,
          7584.451093859001,
          23274.26292102494,
          86975.81296132477,
          60635.98060426179,
          4380.833904736815,
          11525.43047994123,
          64941.79602794934,
          9149.604068610231,
          56538.16874341844
         ],
         "y": [
          17770.186349497555,
          52463.6819275998,
          9677.111633012802,
          48901.24900702578,
          68984.5173819843,
          72885.785877405,
          6632.577441918203,
          17228.014943160586,
          79737.37390211104,
          84787.05112264864,
          6632.901519776206,
          62333.50164621819,
          58347.83924608909,
          19938.003705121406,
          16125.633140975138,
          26390.31622399773,
          9489.534733484346,
          17166.774224959183,
          17453.211345664655,
          5228.622390830583,
          7821.2579676899495,
          4754.516290964785,
          24037.065975453053,
          11466.715054347018,
          3652.0505939784543,
          23146.305621624113,
          75707.85904607199,
          31932.76829958081,
          61530.02018733951,
          77052.95684280852,
          20978.807490052608,
          79905.16980292948,
          77039.44675382886,
          58275.367663102705,
          25975.007037995132,
          8552.070074385092,
          45486.92334260185,
          38062.239995521995,
          49924.842181294975,
          22417.76174959688,
          6470.538512915999,
          29562.38220716205,
          93719.57469540989,
          85719.58269736088,
          8921.732831869607,
          93196.38452215002,
          3702.365815781608,
          39537.26446550653,
          17868.022429067823,
          16930.313516500555,
          17741.691083720438,
          70454.22743336989,
          3410.0190145229403,
          6254.694606921364,
          25907.617070784327,
          10268.234071387313,
          9379.320458809714,
          80980.0867781592,
          68429.45237126853,
          79597.03184805062,
          53633.75425678054,
          4961.85241408548,
          22699.282041456914,
          60099.244612626215,
          8616.651646870367,
          48630.227732024636,
          42205.05950709263,
          39543.79377458742,
          63304.53499686263,
          68303.25721171594,
          84599.88256413132,
          94739.25836618907,
          32408.496298313865,
          20192.44330962119,
          59987.112581331494,
          48932.625936869146,
          78751.65876742387,
          45379.87171967883,
          16594.668467150364,
          15391.753904479227,
          9950.1190082978,
          11394.662379118801,
          12960.902960626698,
          9250.538105828478,
          6648.405133680881,
          16871.469046596147,
          12056.544923960913,
          16740.453619014228,
          8138.159475637461,
          14479.907362067004,
          46818.99079915116,
          23936.808702681097,
          86231.18884502338,
          7984.1157959027605,
          70152.42253733083,
          24196.242354467217,
          69071.52350479281,
          20099.310593881975,
          8431.561981357214,
          16854.892317619106,
          97644.71352468184,
          55157.8021262685,
          4418.5127023029445,
          10762.160714045713,
          69547.04037754812,
          10839.361787583968,
          64751.95203794313
         ]
        },
        {
         "hovertemplate": "%{x:0.3f}, %{y:0.3f}",
         "marker": {
          "color": "#2ca02c",
          "line": {
           "width": 1
          },
          "size": 14
         },
         "mode": "markers",
         "name": "2011",
         "type": "scatter",
         "x": [
          14997.78954749053,
          15291.262582779787,
          17043.493208499844,
          2523.7983376888337,
          15677.47166044147,
          17869.539368077072,
          1746.7162980227317,
          19868.68745671428,
          1076.228147585618
         ],
         "y": [
          19789.62195278283,
          17722.707265606427,
          20235.688737188375,
          3322.3603484888285,
          17305.07050783873,
          17631.78255193219,
          1872.8369677700305,
          19897.458290360722,
          262.0672082800259
         ]
        },
        {
         "hovertemplate": "%{x:0.3f}, %{y:0.3f}",
         "marker": {
          "color": "#d62728",
          "line": {
           "width": 1
          },
          "size": 14
         },
         "mode": "markers",
         "name": "2012",
         "type": "scatter",
         "x": [
          12122.424511023703,
          6456.27579276041,
          16130.178781169525,
          15085.224911193463,
          3673.4333462094087,
          8280.438367904411,
          32795.53503555821,
          14166.06566327492,
          13875.171506037826,
          6946.90432357302,
          2564.982449923113,
          16811.695023108605,
          12449.995480114758,
          5531.02785623472,
          23794.741377539554,
          16225.721041391871,
          8487.049018816118,
          7266.177275813694,
          17726.352009923998,
          13293.463666423551,
          1817.611035632038,
          9795.194916846965,
          19606.436026491916,
          1513.7535597198428,
          19161.2166823692,
          8801.735137201393,
          22346.69328874194,
          8043.957317300389,
          15506.259215521497
         ],
         "y": [
          11544.944798423061,
          7822.259101014253,
          12881.806503407845,
          17132.3337323224,
          4451.715739591128,
          9396.650335214463,
          38021.86895163462,
          18645.785067676123,
          16314.003476844462,
          7355.24167642047,
          2302.815416820268,
          15996.408073355358,
          13417.624938599232,
          6336.888870413612,
          25802.756722290942,
          15534.14896335103,
          9330.32743397202,
          8043.477401046905,
          19878.615986531448,
          15055.986940755456,
          1764.9211525883081,
          10292.439143377163,
          21691.879615332477,
          1600.745366265859,
          19075.58619195788,
          11101.902571832816,
          24620.198619128136,
          7939.990845149319,
          16234.00634069137
         ]
        },
        {
         "hovertemplate": "%{x:0.3f}, %{y:0.3f}",
         "marker": {
          "color": "#9467bd",
          "line": {
           "width": 1
          },
          "size": 14
         },
         "mode": "markers",
         "name": "2013",
         "type": "scatter",
         "x": [
          15102.145260064033,
          15037.697671232878,
          3665.4998960793578,
          2490.3457239971012,
          5603.78842117102,
          15372.719782711385,
          17612.591702544032,
          17382.1763281373,
          1739.7917314539077,
          4341.678351965569,
          18814.096759240514,
          1100.3903892150468,
          8854.49618817684
         ],
         "y": [
          21332.648665858378,
          13467.300132203476,
          3064.5414033272714,
          2364.332119961393,
          6005.201306082031,
          15814.575986195747,
          19463.341220170918,
          18495.001887016097,
          1819.1384785177079,
          5479.558861990732,
          21569.758175352683,
          555.86981519846,
          8061.488949538799
         ]
        },
        {
         "hovertemplate": "%{x:0.3f}, %{y:0.3f}",
         "marker": {
          "color": "#8c564b",
          "line": {
           "width": 1
          },
          "size": 14
         },
         "mode": "markers",
         "name": "2014",
         "type": "scatter",
         "x": [
          12760.622579121398,
          14946.546014800819,
          3610.743744292238,
          2329.2785458108083,
          5657.709132420092,
          14272.475314498655,
          17319.459874035587,
          1584.94106527406,
          18586.336687135885,
          1107.0032348182726
         ],
         "y": [
          16316.527699652586,
          15661.059391127556,
          3044.048349509296,
          2218.078415800142,
          6079.058753887453,
          17435.40976342161,
          19358.22951927621,
          1610.2206212364226,
          20167.59113822329,
          1068.910394770707
         ]
        },
        {
         "hovertemplate": "%{x:0.3f}, %{y:0.3f}",
         "marker": {
          "color": "#e377c2",
          "line": {
           "width": 1
          },
          "size": 14
         },
         "mode": "markers",
         "name": "2015",
         "type": "scatter",
         "x": [
          13025.188062731228,
          54092.21641704718,
          4752.054240340868,
          14029.143693906475,
          44503.244295586235,
          45184.180866705945,
          14784.653280893412,
          5280.982156782363,
          16004.157421433343,
          4026.95057312204,
          16736.72390166163,
          21399.258249116123,
          17507.588993042362,
          7608.62678426732,
          67671.81863827101,
          6976.453876543033,
          72784.43025066845,
          2149.2504887987566,
          72502.09468558192,
          8143.520062927568,
          16021.068682097306,
          77299.7344574856,
          4765.604302216203,
          70500.40606522319,
          66373.48038728155,
          8888.472813855613,
          1718.2410662508892,
          17861.679841113066,
          30724.841253154143,
          46956.50295756965,
          24289.420157800065,
          54557.826407719826,
          15486.917195479007,
          10194.042146028747,
          9408.49625582023,
          1151.112911352543,
          6679.129196651287,
          6484.342899262018,
          10943.55175334468,
          36360.82872367504,
          17089.591485859888,
          54795.58976704318,
          54199.26003096565,
          10886.13818428678,
          8079.613078399825
         ],
         "y": [
          16101.60929507097,
          47644.72020036299,
          4704.6079404954635,
          13012.534595922452,
          65497.70324635476,
          61081.41880387558,
          23737.338232713613,
          6952.294165642816,
          15449.385574150041,
          8589.595824369062,
          18899.438603728257,
          18184.12570576047,
          20745.863825957993,
          9052.727627881415,
          83197.72804549074,
          9931.202172457872,
          88292.5774031339,
          2084.1074062933358,
          69393.407427396,
          8176.856543295265,
          18215.573655662392,
          104911.96084503052,
          6185.326564609632,
          98155.12619685526,
          90446.77140538176,
          8432.04580298746,
          1448.064448608344,
          26719.479245041963,
          43177.31283600241,
          66732.431109186,
          28193.931096279153,
          78352.51490958182,
          38004.20990332104,
          10785.366687592172,
          11249.369669448504,
          2373.9970444584596,
          13186.253583242853,
          9279.121957254994,
          15502.441620913185,
          53833.25850837711,
          23866.367867968453,
          61037.71437836903,
          76903.08885174133,
          13154.425115859032,
          9695.948310188829
         ]
        },
        {
         "hovertemplate": "%{x:0.3f}, %{y:0.3f}",
         "marker": {
          "color": "#7f7f7f",
          "line": {
           "width": 1
          },
          "size": 14
         },
         "mode": "markers",
         "name": "2016",
         "type": "scatter",
         "x": [
          31232.03253648905,
          60856.943590981275,
          66361.43174968039,
          5535.951839287525,
          62249.43295647431,
          15429.644725541611,
          58614.205398740596,
          17374.560905151004,
          4344.53516409976,
          6357.27981465711,
          9066.866750750156,
          12718.523885631672,
          4563.775167137052,
          13632.425062614913,
          70326.47856103058,
          12220.068681624487,
          22777.14571149652,
          17917.129834403553,
          11154.323909597966,
          48429.082869038284,
          64882.736825728134,
          79819.77187622128,
          2556.034248867213,
          95106.14518001657,
          81854.5751331586,
          8877.454483423537,
          80808.50501811485,
          4162.106561234131,
          74771.76844622001,
          85325.92735086565,
          7491.912099031783,
          5384.233520909197,
          77574.6388921176,
          76680.22009843627,
          46161.95702305582,
          41868.59492876478,
          27450.00573146647,
          14324.55746690547,
          15681.28236216983,
          70411.87673020888,
          18812.64368150065,
          11132.340088922918,
          21186.53062238622,
          1214.887861876526,
          12146.73160537095,
          9837.18261626057,
          7977.470953967234,
          4524.573395433636,
          17050.650724944455,
          20258.75867441858,
          67789.75483334762,
          56502.02694014107,
          10222.789469466303
         ],
         "y": [
          22755.63959833366,
          77347.94674304358,
          78569.02291903696,
          2929.259169838468,
          65988.29578715286,
          16653.966461565167,
          47359.13162496454,
          17839.355600632916,
          4979.378088974821,
          6343.59809217081,
          10973.345407827524,
          13333.906887709863,
          4232.215066156255,
          14313.79370128179,
          69073.05865991289,
          9735.132650003503,
          27782.12356008318,
          12942.581742241504,
          11591.488206537168,
          50583.23703142275,
          70743.21519333405,
          100314.69960411337,
          1444.1377129652833,
          104821.13983519812,
          58803.04435122717,
          4843.631418168101,
          77342.52144485632,
          3641.4846985258027,
          41308.00881883704,
          74169.53458750747,
          9292.033137538152,
          4379.205486342311,
          67759.29877887841,
          91977.93450544865,
          38552.471712140694,
          45309.6778921696,
          19476.592955997512,
          28703.02721774595,
          14692.401670648467,
          69227.03319124065,
          46225.67502014381,
          8664.134450169215,
          29953.971061154913,
          2290.498071272601,
          15818.372562806535,
          6028.06041183349,
          7665.367592828578,
          5005.599850790368,
          24057.22421370563,
          25264.92931780751,
          93794.84271556632,
          67770.5284546183,
          17040.629381528805
         ]
        },
        {
         "hovertemplate": "%{x:0.3f}, %{y:0.3f}",
         "marker": {
          "color": "#bcbd22",
          "line": {
           "width": 1
          },
          "size": 14
         },
         "mode": "markers",
         "name": "2017",
         "type": "scatter",
         "x": [
          27291.227204465402,
          75590.15055209106,
          84970.3931884344,
          65737.97442569387,
          15252.134009265044,
          62387.955748594584,
          9513.11971264637,
          9640.698061042336,
          9397.684790938954,
          18257.93560655336,
          9651.320306685178,
          5146.237359500996,
          73598.64391726807,
          12543.328491040786,
          24458.227479590052,
          21178.270322993794,
          8116.776474268182,
          43621.80456517726,
          11244.76458063908,
          98187.33176009626,
          7166.009088488271,
          81497.99518442636,
          76149.17861888098,
          40663.8047038385,
          30279.995750202102,
          13000.177858025389,
          73584.34273936834,
          18307.355536994186,
          21136.083089804855,
          1148.5228869922566,
          11281.854323233943,
          11507.338664458319,
          14908.302384967998,
          72839.3124783649,
          66973.17701196487,
          35105.97125649809
         ],
         "y": [
          26581.72427611699,
          81731.8278815676,
          89668.27074297305,
          68510.69939298181,
          16688.35678480039,
          60706.36394062243,
          8527.87369348691,
          8494.7709063079,
          8412.39719646412,
          18036.78861114613,
          11311.364046030254,
          5005.025905276685,
          72196.0140370023,
          12133.303569634963,
          24636.599619175202,
          22250.09044589257,
          9595.42097606172,
          43374.92045022586,
          11539.766386853218,
          97599.86342892294,
          10722.024852697059,
          100520.8557745709,
          95350.9608398562,
          40860.18640277553,
          34682.736874421105,
          28649.48534329591,
          82196.09883173266,
          48426.63124234821,
          23460.071022685475,
          1709.4317086174083,
          14399.061267847737,
          8198.870631928734,
          21851.920016108492,
          84368.25149902879,
          75537.3893059871,
          40386.69807173528
         ]
        }
       ],
       "layout": {
        "height": 600,
        "hovermode": "closest",
        "showlegend": true,
        "template": {
         "data": {
          "bar": [
           {
            "error_x": {
             "color": "#2a3f5f"
            },
            "error_y": {
             "color": "#2a3f5f"
            },
            "marker": {
             "line": {
              "color": "#E5ECF6",
              "width": 0.5
             }
            },
            "type": "bar"
           }
          ],
          "barpolar": [
           {
            "marker": {
             "line": {
              "color": "#E5ECF6",
              "width": 0.5
             }
            },
            "type": "barpolar"
           }
          ],
          "carpet": [
           {
            "aaxis": {
             "endlinecolor": "#2a3f5f",
             "gridcolor": "white",
             "linecolor": "white",
             "minorgridcolor": "white",
             "startlinecolor": "#2a3f5f"
            },
            "baxis": {
             "endlinecolor": "#2a3f5f",
             "gridcolor": "white",
             "linecolor": "white",
             "minorgridcolor": "white",
             "startlinecolor": "#2a3f5f"
            },
            "type": "carpet"
           }
          ],
          "choropleth": [
           {
            "colorbar": {
             "outlinewidth": 0,
             "ticks": ""
            },
            "type": "choropleth"
           }
          ],
          "contour": [
           {
            "colorbar": {
             "outlinewidth": 0,
             "ticks": ""
            },
            "colorscale": [
             [
              0,
              "#0d0887"
             ],
             [
              0.1111111111111111,
              "#46039f"
             ],
             [
              0.2222222222222222,
              "#7201a8"
             ],
             [
              0.3333333333333333,
              "#9c179e"
             ],
             [
              0.4444444444444444,
              "#bd3786"
             ],
             [
              0.5555555555555556,
              "#d8576b"
             ],
             [
              0.6666666666666666,
              "#ed7953"
             ],
             [
              0.7777777777777778,
              "#fb9f3a"
             ],
             [
              0.8888888888888888,
              "#fdca26"
             ],
             [
              1,
              "#f0f921"
             ]
            ],
            "type": "contour"
           }
          ],
          "contourcarpet": [
           {
            "colorbar": {
             "outlinewidth": 0,
             "ticks": ""
            },
            "type": "contourcarpet"
           }
          ],
          "heatmap": [
           {
            "colorbar": {
             "outlinewidth": 0,
             "ticks": ""
            },
            "colorscale": [
             [
              0,
              "#0d0887"
             ],
             [
              0.1111111111111111,
              "#46039f"
             ],
             [
              0.2222222222222222,
              "#7201a8"
             ],
             [
              0.3333333333333333,
              "#9c179e"
             ],
             [
              0.4444444444444444,
              "#bd3786"
             ],
             [
              0.5555555555555556,
              "#d8576b"
             ],
             [
              0.6666666666666666,
              "#ed7953"
             ],
             [
              0.7777777777777778,
              "#fb9f3a"
             ],
             [
              0.8888888888888888,
              "#fdca26"
             ],
             [
              1,
              "#f0f921"
             ]
            ],
            "type": "heatmap"
           }
          ],
          "heatmapgl": [
           {
            "colorbar": {
             "outlinewidth": 0,
             "ticks": ""
            },
            "colorscale": [
             [
              0,
              "#0d0887"
             ],
             [
              0.1111111111111111,
              "#46039f"
             ],
             [
              0.2222222222222222,
              "#7201a8"
             ],
             [
              0.3333333333333333,
              "#9c179e"
             ],
             [
              0.4444444444444444,
              "#bd3786"
             ],
             [
              0.5555555555555556,
              "#d8576b"
             ],
             [
              0.6666666666666666,
              "#ed7953"
             ],
             [
              0.7777777777777778,
              "#fb9f3a"
             ],
             [
              0.8888888888888888,
              "#fdca26"
             ],
             [
              1,
              "#f0f921"
             ]
            ],
            "type": "heatmapgl"
           }
          ],
          "histogram": [
           {
            "marker": {
             "colorbar": {
              "outlinewidth": 0,
              "ticks": ""
             }
            },
            "type": "histogram"
           }
          ],
          "histogram2d": [
           {
            "colorbar": {
             "outlinewidth": 0,
             "ticks": ""
            },
            "colorscale": [
             [
              0,
              "#0d0887"
             ],
             [
              0.1111111111111111,
              "#46039f"
             ],
             [
              0.2222222222222222,
              "#7201a8"
             ],
             [
              0.3333333333333333,
              "#9c179e"
             ],
             [
              0.4444444444444444,
              "#bd3786"
             ],
             [
              0.5555555555555556,
              "#d8576b"
             ],
             [
              0.6666666666666666,
              "#ed7953"
             ],
             [
              0.7777777777777778,
              "#fb9f3a"
             ],
             [
              0.8888888888888888,
              "#fdca26"
             ],
             [
              1,
              "#f0f921"
             ]
            ],
            "type": "histogram2d"
           }
          ],
          "histogram2dcontour": [
           {
            "colorbar": {
             "outlinewidth": 0,
             "ticks": ""
            },
            "colorscale": [
             [
              0,
              "#0d0887"
             ],
             [
              0.1111111111111111,
              "#46039f"
             ],
             [
              0.2222222222222222,
              "#7201a8"
             ],
             [
              0.3333333333333333,
              "#9c179e"
             ],
             [
              0.4444444444444444,
              "#bd3786"
             ],
             [
              0.5555555555555556,
              "#d8576b"
             ],
             [
              0.6666666666666666,
              "#ed7953"
             ],
             [
              0.7777777777777778,
              "#fb9f3a"
             ],
             [
              0.8888888888888888,
              "#fdca26"
             ],
             [
              1,
              "#f0f921"
             ]
            ],
            "type": "histogram2dcontour"
           }
          ],
          "mesh3d": [
           {
            "colorbar": {
             "outlinewidth": 0,
             "ticks": ""
            },
            "type": "mesh3d"
           }
          ],
          "parcoords": [
           {
            "line": {
             "colorbar": {
              "outlinewidth": 0,
              "ticks": ""
             }
            },
            "type": "parcoords"
           }
          ],
          "scatter": [
           {
            "marker": {
             "colorbar": {
              "outlinewidth": 0,
              "ticks": ""
             }
            },
            "type": "scatter"
           }
          ],
          "scatter3d": [
           {
            "line": {
             "colorbar": {
              "outlinewidth": 0,
              "ticks": ""
             }
            },
            "marker": {
             "colorbar": {
              "outlinewidth": 0,
              "ticks": ""
             }
            },
            "type": "scatter3d"
           }
          ],
          "scattercarpet": [
           {
            "marker": {
             "colorbar": {
              "outlinewidth": 0,
              "ticks": ""
             }
            },
            "type": "scattercarpet"
           }
          ],
          "scattergeo": [
           {
            "marker": {
             "colorbar": {
              "outlinewidth": 0,
              "ticks": ""
             }
            },
            "type": "scattergeo"
           }
          ],
          "scattergl": [
           {
            "marker": {
             "colorbar": {
              "outlinewidth": 0,
              "ticks": ""
             }
            },
            "type": "scattergl"
           }
          ],
          "scattermapbox": [
           {
            "marker": {
             "colorbar": {
              "outlinewidth": 0,
              "ticks": ""
             }
            },
            "type": "scattermapbox"
           }
          ],
          "scatterpolar": [
           {
            "marker": {
             "colorbar": {
              "outlinewidth": 0,
              "ticks": ""
             }
            },
            "type": "scatterpolar"
           }
          ],
          "scatterpolargl": [
           {
            "marker": {
             "colorbar": {
              "outlinewidth": 0,
              "ticks": ""
             }
            },
            "type": "scatterpolargl"
           }
          ],
          "scatterternary": [
           {
            "marker": {
             "colorbar": {
              "outlinewidth": 0,
              "ticks": ""
             }
            },
            "type": "scatterternary"
           }
          ],
          "surface": [
           {
            "colorbar": {
             "outlinewidth": 0,
             "ticks": ""
            },
            "colorscale": [
             [
              0,
              "#0d0887"
             ],
             [
              0.1111111111111111,
              "#46039f"
             ],
             [
              0.2222222222222222,
              "#7201a8"
             ],
             [
              0.3333333333333333,
              "#9c179e"
             ],
             [
              0.4444444444444444,
              "#bd3786"
             ],
             [
              0.5555555555555556,
              "#d8576b"
             ],
             [
              0.6666666666666666,
              "#ed7953"
             ],
             [
              0.7777777777777778,
              "#fb9f3a"
             ],
             [
              0.8888888888888888,
              "#fdca26"
             ],
             [
              1,
              "#f0f921"
             ]
            ],
            "type": "surface"
           }
          ],
          "table": [
           {
            "cells": {
             "fill": {
              "color": "#EBF0F8"
             },
             "line": {
              "color": "white"
             }
            },
            "header": {
             "fill": {
              "color": "#C8D4E3"
             },
             "line": {
              "color": "white"
             }
            },
            "type": "table"
           }
          ]
         },
         "layout": {
          "annotationdefaults": {
           "arrowcolor": "#2a3f5f",
           "arrowhead": 0,
           "arrowwidth": 1
          },
          "colorscale": {
           "diverging": [
            [
             0,
             "#8e0152"
            ],
            [
             0.1,
             "#c51b7d"
            ],
            [
             0.2,
             "#de77ae"
            ],
            [
             0.3,
             "#f1b6da"
            ],
            [
             0.4,
             "#fde0ef"
            ],
            [
             0.5,
             "#f7f7f7"
            ],
            [
             0.6,
             "#e6f5d0"
            ],
            [
             0.7,
             "#b8e186"
            ],
            [
             0.8,
             "#7fbc41"
            ],
            [
             0.9,
             "#4d9221"
            ],
            [
             1,
             "#276419"
            ]
           ],
           "sequential": [
            [
             0,
             "#0d0887"
            ],
            [
             0.1111111111111111,
             "#46039f"
            ],
            [
             0.2222222222222222,
             "#7201a8"
            ],
            [
             0.3333333333333333,
             "#9c179e"
            ],
            [
             0.4444444444444444,
             "#bd3786"
            ],
            [
             0.5555555555555556,
             "#d8576b"
            ],
            [
             0.6666666666666666,
             "#ed7953"
            ],
            [
             0.7777777777777778,
             "#fb9f3a"
            ],
            [
             0.8888888888888888,
             "#fdca26"
            ],
            [
             1,
             "#f0f921"
            ]
           ],
           "sequentialminus": [
            [
             0,
             "#0d0887"
            ],
            [
             0.1111111111111111,
             "#46039f"
            ],
            [
             0.2222222222222222,
             "#7201a8"
            ],
            [
             0.3333333333333333,
             "#9c179e"
            ],
            [
             0.4444444444444444,
             "#bd3786"
            ],
            [
             0.5555555555555556,
             "#d8576b"
            ],
            [
             0.6666666666666666,
             "#ed7953"
            ],
            [
             0.7777777777777778,
             "#fb9f3a"
            ],
            [
             0.8888888888888888,
             "#fdca26"
            ],
            [
             1,
             "#f0f921"
            ]
           ]
          },
          "colorway": [
           "#636efa",
           "#EF553B",
           "#00cc96",
           "#ab63fa",
           "#FFA15A",
           "#19d3f3",
           "#FF6692",
           "#B6E880",
           "#FF97FF",
           "#FECB52"
          ],
          "font": {
           "color": "#2a3f5f"
          },
          "geo": {
           "bgcolor": "white",
           "lakecolor": "white",
           "landcolor": "#E5ECF6",
           "showlakes": true,
           "showland": true,
           "subunitcolor": "white"
          },
          "hoverlabel": {
           "align": "left"
          },
          "hovermode": "closest",
          "mapbox": {
           "style": "light"
          },
          "paper_bgcolor": "white",
          "plot_bgcolor": "#E5ECF6",
          "polar": {
           "angularaxis": {
            "gridcolor": "white",
            "linecolor": "white",
            "ticks": ""
           },
           "bgcolor": "#E5ECF6",
           "radialaxis": {
            "gridcolor": "white",
            "linecolor": "white",
            "ticks": ""
           }
          },
          "scene": {
           "xaxis": {
            "backgroundcolor": "#E5ECF6",
            "gridcolor": "white",
            "gridwidth": 2,
            "linecolor": "white",
            "showbackground": true,
            "ticks": "",
            "zerolinecolor": "white"
           },
           "yaxis": {
            "backgroundcolor": "#E5ECF6",
            "gridcolor": "white",
            "gridwidth": 2,
            "linecolor": "white",
            "showbackground": true,
            "ticks": "",
            "zerolinecolor": "white"
           },
           "zaxis": {
            "backgroundcolor": "#E5ECF6",
            "gridcolor": "white",
            "gridwidth": 2,
            "linecolor": "white",
            "showbackground": true,
            "ticks": "",
            "zerolinecolor": "white"
           }
          },
          "shapedefaults": {
           "line": {
            "color": "#2a3f5f"
           }
          },
          "ternary": {
           "aaxis": {
            "gridcolor": "white",
            "linecolor": "white",
            "ticks": ""
           },
           "baxis": {
            "gridcolor": "white",
            "linecolor": "white",
            "ticks": ""
           },
           "bgcolor": "#E5ECF6",
           "caxis": {
            "gridcolor": "white",
            "linecolor": "white",
            "ticks": ""
           }
          },
          "title": {
           "x": 0.05
          },
          "xaxis": {
           "automargin": true,
           "gridcolor": "white",
           "linecolor": "white",
           "ticks": "",
           "zerolinecolor": "white",
           "zerolinewidth": 2
          },
          "yaxis": {
           "automargin": true,
           "gridcolor": "white",
           "linecolor": "white",
           "ticks": "",
           "zerolinecolor": "white",
           "zerolinewidth": 2
          }
         }
        },
        "title": {
         "text": "TEPs Emulator"
        },
        "width": 900,
        "xaxis": {
         "gridwidth": 2,
         "ticklen": 1000,
         "title": {
          "text": "Ground Truth"
         },
         "zeroline": false
        },
        "yaxis": {
         "gridwidth": 2,
         "ticklen": 1000,
         "title": {
          "text": "Typical Prediction"
         }
        }
       }
      },
      "text/html": [
       "<div>\n",
       "        \n",
       "        \n",
       "            <div id=\"5288788e-da10-48d3-8fb7-6caafa3c2c8a\" class=\"plotly-graph-div\" style=\"height:600px; width:900px;\"></div>\n",
       "            <script type=\"text/javascript\">\n",
       "                require([\"plotly\"], function(Plotly) {\n",
       "                    window.PLOTLYENV=window.PLOTLYENV || {};\n",
       "                    \n",
       "                if (document.getElementById(\"5288788e-da10-48d3-8fb7-6caafa3c2c8a\")) {\n",
       "                    Plotly.newPlot(\n",
       "                        '5288788e-da10-48d3-8fb7-6caafa3c2c8a',\n",
       "                        [{\"hovertemplate\": \"%{x:0.3f}, %{y:0.3f}\", \"marker\": {\"color\": \"#1f77b4\", \"line\": {\"width\": 1}, \"size\": 14}, \"mode\": \"markers\", \"name\": \"2006\", \"type\": \"scatter\", \"x\": [1062.7846825679437], \"y\": [482.50135910679893]}, {\"hovertemplate\": \"%{x:0.3f}, %{y:0.3f}\", \"marker\": {\"color\": \"#ff7f0e\", \"line\": {\"width\": 1}, \"size\": 14}, \"mode\": \"markers\", \"name\": \"2010\", \"type\": \"scatter\", \"x\": [15255.520320454854, 55196.733806100536, 8245.02643178383, 29127.998506404634, 61641.049747671146, 75440.99990165087, 6662.478466803338, 18725.636255852212, 83486.95739560948, 80197.74419072465, 7226.875264658771, 58021.08437105056, 53625.34702047268, 19307.867796457664, 18739.428061618746, 25662.300544796093, 9526.935479277297, 17953.196473929424, 16986.55734146219, 4022.0163578674888, 6640.411861809423, 4349.017096425068, 29673.56449650973, 9503.730777958495, 4067.500047205748, 25091.859608315604, 73410.80112754917, 30578.572598213887, 65699.8324925106, 80534.45171352786, 16005.209527768406, 86996.37810261064, 80803.02430523981, 56367.6453896252, 19675.023911736665, 6119.285824000488, 41744.782060581725, 40430.13331105424, 52844.842148811615, 22381.673026850876, 6827.877079343163, 32133.694570581447, 82822.14136454414, 79348.81712166812, 8951.316680616188, 85009.78862537871, 4162.2856361852255, 33880.909913883945, 15216.509862723648, 13876.078020011726, 17292.127972502018, 70583.4807799674, 3350.1645458149246, 5627.793110230975, 24554.12811210833, 12703.668581564827, 8344.272807979438, 80137.1689330468, 65963.77195589899, 77712.71881542233, 48484.23570580561, 5072.656912539515, 21674.612031935783, 55193.205708264344, 9036.046049475637, 45498.04162975632, 42005.05723432648, 39989.98103019051, 61458.92259308879, 75302.0459671835, 76806.23893737241, 75541.33410142064, 20032.989169463664, 15961.46816448392, 63461.178599911276, 23831.603927778735, 73438.55419519293, 35230.751580256285, 19684.84187661755, 14121.272975851934, 10492.872862176555, 11306.436426714838, 11426.60318799843, 9630.36991410636, 6444.665968541579, 24334.25538905387, 11410.068652502016, 19013.11536241012, 8948.027613213673, 13502.089826410771, 44262.78116983048, 18652.174886664325, 77842.57576763799, 7667.695307095944, 76963.1163075428, 22808.731510967384, 74519.3638868985, 31061.41705255208, 7584.451093859001, 23274.26292102494, 86975.81296132477, 60635.98060426179, 4380.833904736815, 11525.43047994123, 64941.79602794934, 9149.604068610231, 56538.16874341844], \"y\": [17770.186349497555, 52463.6819275998, 9677.111633012802, 48901.24900702578, 68984.5173819843, 72885.785877405, 6632.577441918203, 17228.014943160586, 79737.37390211104, 84787.05112264864, 6632.901519776206, 62333.50164621819, 58347.83924608909, 19938.003705121406, 16125.633140975138, 26390.31622399773, 9489.534733484346, 17166.774224959183, 17453.211345664655, 5228.622390830583, 7821.2579676899495, 4754.516290964785, 24037.065975453053, 11466.715054347018, 3652.0505939784543, 23146.305621624113, 75707.85904607199, 31932.76829958081, 61530.02018733951, 77052.95684280852, 20978.807490052608, 79905.16980292948, 77039.44675382886, 58275.367663102705, 25975.007037995132, 8552.070074385092, 45486.92334260185, 38062.239995521995, 49924.842181294975, 22417.76174959688, 6470.538512915999, 29562.38220716205, 93719.57469540989, 85719.58269736088, 8921.732831869607, 93196.38452215002, 3702.365815781608, 39537.26446550653, 17868.022429067823, 16930.313516500555, 17741.691083720438, 70454.22743336989, 3410.0190145229403, 6254.694606921364, 25907.617070784327, 10268.234071387313, 9379.320458809714, 80980.0867781592, 68429.45237126853, 79597.03184805062, 53633.75425678054, 4961.85241408548, 22699.282041456914, 60099.244612626215, 8616.651646870367, 48630.227732024636, 42205.05950709263, 39543.79377458742, 63304.53499686263, 68303.25721171594, 84599.88256413132, 94739.25836618907, 32408.496298313865, 20192.44330962119, 59987.112581331494, 48932.625936869146, 78751.65876742387, 45379.87171967883, 16594.668467150364, 15391.753904479227, 9950.1190082978, 11394.662379118801, 12960.902960626698, 9250.538105828478, 6648.405133680881, 16871.469046596147, 12056.544923960913, 16740.453619014228, 8138.159475637461, 14479.907362067004, 46818.99079915116, 23936.808702681097, 86231.18884502338, 7984.1157959027605, 70152.42253733083, 24196.242354467217, 69071.52350479281, 20099.310593881975, 8431.561981357214, 16854.892317619106, 97644.71352468184, 55157.8021262685, 4418.5127023029445, 10762.160714045713, 69547.04037754812, 10839.361787583968, 64751.95203794313]}, {\"hovertemplate\": \"%{x:0.3f}, %{y:0.3f}\", \"marker\": {\"color\": \"#2ca02c\", \"line\": {\"width\": 1}, \"size\": 14}, \"mode\": \"markers\", \"name\": \"2011\", \"type\": \"scatter\", \"x\": [14997.78954749053, 15291.262582779787, 17043.493208499844, 2523.7983376888337, 15677.47166044147, 17869.539368077072, 1746.7162980227317, 19868.68745671428, 1076.228147585618], \"y\": [19789.62195278283, 17722.707265606427, 20235.688737188375, 3322.3603484888285, 17305.07050783873, 17631.78255193219, 1872.8369677700305, 19897.458290360722, 262.0672082800259]}, {\"hovertemplate\": \"%{x:0.3f}, %{y:0.3f}\", \"marker\": {\"color\": \"#d62728\", \"line\": {\"width\": 1}, \"size\": 14}, \"mode\": \"markers\", \"name\": \"2012\", \"type\": \"scatter\", \"x\": [12122.424511023703, 6456.27579276041, 16130.178781169525, 15085.224911193463, 3673.4333462094087, 8280.438367904411, 32795.53503555821, 14166.06566327492, 13875.171506037826, 6946.90432357302, 2564.982449923113, 16811.695023108605, 12449.995480114758, 5531.02785623472, 23794.741377539554, 16225.721041391871, 8487.049018816118, 7266.177275813694, 17726.352009923998, 13293.463666423551, 1817.611035632038, 9795.194916846965, 19606.436026491916, 1513.7535597198428, 19161.2166823692, 8801.735137201393, 22346.69328874194, 8043.957317300389, 15506.259215521497], \"y\": [11544.944798423061, 7822.259101014253, 12881.806503407845, 17132.3337323224, 4451.715739591128, 9396.650335214463, 38021.86895163462, 18645.785067676123, 16314.003476844462, 7355.24167642047, 2302.815416820268, 15996.408073355358, 13417.624938599232, 6336.888870413612, 25802.756722290942, 15534.14896335103, 9330.32743397202, 8043.477401046905, 19878.615986531448, 15055.986940755456, 1764.9211525883081, 10292.439143377163, 21691.879615332477, 1600.745366265859, 19075.58619195788, 11101.902571832816, 24620.198619128136, 7939.990845149319, 16234.00634069137]}, {\"hovertemplate\": \"%{x:0.3f}, %{y:0.3f}\", \"marker\": {\"color\": \"#9467bd\", \"line\": {\"width\": 1}, \"size\": 14}, \"mode\": \"markers\", \"name\": \"2013\", \"type\": \"scatter\", \"x\": [15102.145260064033, 15037.697671232878, 3665.4998960793578, 2490.3457239971012, 5603.78842117102, 15372.719782711385, 17612.591702544032, 17382.1763281373, 1739.7917314539077, 4341.678351965569, 18814.096759240514, 1100.3903892150468, 8854.49618817684], \"y\": [21332.648665858378, 13467.300132203476, 3064.5414033272714, 2364.332119961393, 6005.201306082031, 15814.575986195747, 19463.341220170918, 18495.001887016097, 1819.1384785177079, 5479.558861990732, 21569.758175352683, 555.86981519846, 8061.488949538799]}, {\"hovertemplate\": \"%{x:0.3f}, %{y:0.3f}\", \"marker\": {\"color\": \"#8c564b\", \"line\": {\"width\": 1}, \"size\": 14}, \"mode\": \"markers\", \"name\": \"2014\", \"type\": \"scatter\", \"x\": [12760.622579121398, 14946.546014800819, 3610.743744292238, 2329.2785458108083, 5657.709132420092, 14272.475314498655, 17319.459874035587, 1584.94106527406, 18586.336687135885, 1107.0032348182726], \"y\": [16316.527699652586, 15661.059391127556, 3044.048349509296, 2218.078415800142, 6079.058753887453, 17435.40976342161, 19358.22951927621, 1610.2206212364226, 20167.59113822329, 1068.910394770707]}, {\"hovertemplate\": \"%{x:0.3f}, %{y:0.3f}\", \"marker\": {\"color\": \"#e377c2\", \"line\": {\"width\": 1}, \"size\": 14}, \"mode\": \"markers\", \"name\": \"2015\", \"type\": \"scatter\", \"x\": [13025.188062731228, 54092.21641704718, 4752.054240340868, 14029.143693906475, 44503.244295586235, 45184.180866705945, 14784.653280893412, 5280.982156782363, 16004.157421433343, 4026.95057312204, 16736.72390166163, 21399.258249116123, 17507.588993042362, 7608.62678426732, 67671.81863827101, 6976.453876543033, 72784.43025066845, 2149.2504887987566, 72502.09468558192, 8143.520062927568, 16021.068682097306, 77299.7344574856, 4765.604302216203, 70500.40606522319, 66373.48038728155, 8888.472813855613, 1718.2410662508892, 17861.679841113066, 30724.841253154143, 46956.50295756965, 24289.420157800065, 54557.826407719826, 15486.917195479007, 10194.042146028747, 9408.49625582023, 1151.112911352543, 6679.129196651287, 6484.342899262018, 10943.55175334468, 36360.82872367504, 17089.591485859888, 54795.58976704318, 54199.26003096565, 10886.13818428678, 8079.613078399825], \"y\": [16101.60929507097, 47644.72020036299, 4704.6079404954635, 13012.534595922452, 65497.70324635476, 61081.41880387558, 23737.338232713613, 6952.294165642816, 15449.385574150041, 8589.595824369062, 18899.438603728257, 18184.12570576047, 20745.863825957993, 9052.727627881415, 83197.72804549074, 9931.202172457872, 88292.5774031339, 2084.1074062933358, 69393.407427396, 8176.856543295265, 18215.573655662392, 104911.96084503052, 6185.326564609632, 98155.12619685526, 90446.77140538176, 8432.04580298746, 1448.064448608344, 26719.479245041963, 43177.31283600241, 66732.431109186, 28193.931096279153, 78352.51490958182, 38004.20990332104, 10785.366687592172, 11249.369669448504, 2373.9970444584596, 13186.253583242853, 9279.121957254994, 15502.441620913185, 53833.25850837711, 23866.367867968453, 61037.71437836903, 76903.08885174133, 13154.425115859032, 9695.948310188829]}, {\"hovertemplate\": \"%{x:0.3f}, %{y:0.3f}\", \"marker\": {\"color\": \"#7f7f7f\", \"line\": {\"width\": 1}, \"size\": 14}, \"mode\": \"markers\", \"name\": \"2016\", \"type\": \"scatter\", \"x\": [31232.03253648905, 60856.943590981275, 66361.43174968039, 5535.951839287525, 62249.43295647431, 15429.644725541611, 58614.205398740596, 17374.560905151004, 4344.53516409976, 6357.27981465711, 9066.866750750156, 12718.523885631672, 4563.775167137052, 13632.425062614913, 70326.47856103058, 12220.068681624487, 22777.14571149652, 17917.129834403553, 11154.323909597966, 48429.082869038284, 64882.736825728134, 79819.77187622128, 2556.034248867213, 95106.14518001657, 81854.5751331586, 8877.454483423537, 80808.50501811485, 4162.106561234131, 74771.76844622001, 85325.92735086565, 7491.912099031783, 5384.233520909197, 77574.6388921176, 76680.22009843627, 46161.95702305582, 41868.59492876478, 27450.00573146647, 14324.55746690547, 15681.28236216983, 70411.87673020888, 18812.64368150065, 11132.340088922918, 21186.53062238622, 1214.887861876526, 12146.73160537095, 9837.18261626057, 7977.470953967234, 4524.573395433636, 17050.650724944455, 20258.75867441858, 67789.75483334762, 56502.02694014107, 10222.789469466303], \"y\": [22755.63959833366, 77347.94674304358, 78569.02291903696, 2929.259169838468, 65988.29578715286, 16653.966461565167, 47359.13162496454, 17839.355600632916, 4979.378088974821, 6343.59809217081, 10973.345407827524, 13333.906887709863, 4232.215066156255, 14313.79370128179, 69073.05865991289, 9735.132650003503, 27782.12356008318, 12942.581742241504, 11591.488206537168, 50583.23703142275, 70743.21519333405, 100314.69960411337, 1444.1377129652833, 104821.13983519812, 58803.04435122717, 4843.631418168101, 77342.52144485632, 3641.4846985258027, 41308.00881883704, 74169.53458750747, 9292.033137538152, 4379.205486342311, 67759.29877887841, 91977.93450544865, 38552.471712140694, 45309.6778921696, 19476.592955997512, 28703.02721774595, 14692.401670648467, 69227.03319124065, 46225.67502014381, 8664.134450169215, 29953.971061154913, 2290.498071272601, 15818.372562806535, 6028.06041183349, 7665.367592828578, 5005.599850790368, 24057.22421370563, 25264.92931780751, 93794.84271556632, 67770.5284546183, 17040.629381528805]}, {\"hovertemplate\": \"%{x:0.3f}, %{y:0.3f}\", \"marker\": {\"color\": \"#bcbd22\", \"line\": {\"width\": 1}, \"size\": 14}, \"mode\": \"markers\", \"name\": \"2017\", \"type\": \"scatter\", \"x\": [27291.227204465402, 75590.15055209106, 84970.3931884344, 65737.97442569387, 15252.134009265044, 62387.955748594584, 9513.11971264637, 9640.698061042336, 9397.684790938954, 18257.93560655336, 9651.320306685178, 5146.237359500996, 73598.64391726807, 12543.328491040786, 24458.227479590052, 21178.270322993794, 8116.776474268182, 43621.80456517726, 11244.76458063908, 98187.33176009626, 7166.009088488271, 81497.99518442636, 76149.17861888098, 40663.8047038385, 30279.995750202102, 13000.177858025389, 73584.34273936834, 18307.355536994186, 21136.083089804855, 1148.5228869922566, 11281.854323233943, 11507.338664458319, 14908.302384967998, 72839.3124783649, 66973.17701196487, 35105.97125649809], \"y\": [26581.72427611699, 81731.8278815676, 89668.27074297305, 68510.69939298181, 16688.35678480039, 60706.36394062243, 8527.87369348691, 8494.7709063079, 8412.39719646412, 18036.78861114613, 11311.364046030254, 5005.025905276685, 72196.0140370023, 12133.303569634963, 24636.599619175202, 22250.09044589257, 9595.42097606172, 43374.92045022586, 11539.766386853218, 97599.86342892294, 10722.024852697059, 100520.8557745709, 95350.9608398562, 40860.18640277553, 34682.736874421105, 28649.48534329591, 82196.09883173266, 48426.63124234821, 23460.071022685475, 1709.4317086174083, 14399.061267847737, 8198.870631928734, 21851.920016108492, 84368.25149902879, 75537.3893059871, 40386.69807173528]}],\n",
       "                        {\"height\": 600, \"hovermode\": \"closest\", \"showlegend\": true, \"template\": {\"data\": {\"bar\": [{\"error_x\": {\"color\": \"#2a3f5f\"}, \"error_y\": {\"color\": \"#2a3f5f\"}, \"marker\": {\"line\": {\"color\": \"#E5ECF6\", \"width\": 0.5}}, \"type\": \"bar\"}], \"barpolar\": [{\"marker\": {\"line\": {\"color\": \"#E5ECF6\", \"width\": 0.5}}, \"type\": \"barpolar\"}], \"carpet\": [{\"aaxis\": {\"endlinecolor\": \"#2a3f5f\", \"gridcolor\": \"white\", \"linecolor\": \"white\", \"minorgridcolor\": \"white\", \"startlinecolor\": \"#2a3f5f\"}, \"baxis\": {\"endlinecolor\": \"#2a3f5f\", \"gridcolor\": \"white\", \"linecolor\": \"white\", \"minorgridcolor\": \"white\", \"startlinecolor\": \"#2a3f5f\"}, \"type\": \"carpet\"}], \"choropleth\": [{\"colorbar\": {\"outlinewidth\": 0, \"ticks\": \"\"}, \"type\": \"choropleth\"}], \"contour\": [{\"colorbar\": {\"outlinewidth\": 0, \"ticks\": \"\"}, \"colorscale\": [[0.0, \"#0d0887\"], [0.1111111111111111, \"#46039f\"], [0.2222222222222222, \"#7201a8\"], [0.3333333333333333, \"#9c179e\"], [0.4444444444444444, \"#bd3786\"], [0.5555555555555556, \"#d8576b\"], [0.6666666666666666, \"#ed7953\"], [0.7777777777777778, \"#fb9f3a\"], [0.8888888888888888, \"#fdca26\"], [1.0, \"#f0f921\"]], \"type\": \"contour\"}], \"contourcarpet\": [{\"colorbar\": {\"outlinewidth\": 0, \"ticks\": \"\"}, \"type\": \"contourcarpet\"}], \"heatmap\": [{\"colorbar\": {\"outlinewidth\": 0, \"ticks\": \"\"}, \"colorscale\": [[0.0, \"#0d0887\"], [0.1111111111111111, \"#46039f\"], [0.2222222222222222, \"#7201a8\"], [0.3333333333333333, \"#9c179e\"], [0.4444444444444444, \"#bd3786\"], [0.5555555555555556, \"#d8576b\"], [0.6666666666666666, \"#ed7953\"], [0.7777777777777778, \"#fb9f3a\"], [0.8888888888888888, \"#fdca26\"], [1.0, \"#f0f921\"]], \"type\": \"heatmap\"}], \"heatmapgl\": [{\"colorbar\": {\"outlinewidth\": 0, \"ticks\": \"\"}, \"colorscale\": [[0.0, \"#0d0887\"], [0.1111111111111111, \"#46039f\"], [0.2222222222222222, \"#7201a8\"], [0.3333333333333333, \"#9c179e\"], [0.4444444444444444, \"#bd3786\"], [0.5555555555555556, \"#d8576b\"], [0.6666666666666666, \"#ed7953\"], [0.7777777777777778, \"#fb9f3a\"], [0.8888888888888888, \"#fdca26\"], [1.0, \"#f0f921\"]], \"type\": \"heatmapgl\"}], \"histogram\": [{\"marker\": {\"colorbar\": {\"outlinewidth\": 0, \"ticks\": \"\"}}, \"type\": \"histogram\"}], \"histogram2d\": [{\"colorbar\": {\"outlinewidth\": 0, \"ticks\": \"\"}, \"colorscale\": [[0.0, \"#0d0887\"], [0.1111111111111111, \"#46039f\"], [0.2222222222222222, \"#7201a8\"], [0.3333333333333333, \"#9c179e\"], [0.4444444444444444, \"#bd3786\"], [0.5555555555555556, \"#d8576b\"], [0.6666666666666666, \"#ed7953\"], [0.7777777777777778, \"#fb9f3a\"], [0.8888888888888888, \"#fdca26\"], [1.0, \"#f0f921\"]], \"type\": \"histogram2d\"}], \"histogram2dcontour\": [{\"colorbar\": {\"outlinewidth\": 0, \"ticks\": \"\"}, \"colorscale\": [[0.0, \"#0d0887\"], [0.1111111111111111, \"#46039f\"], [0.2222222222222222, \"#7201a8\"], [0.3333333333333333, \"#9c179e\"], [0.4444444444444444, \"#bd3786\"], [0.5555555555555556, \"#d8576b\"], [0.6666666666666666, \"#ed7953\"], [0.7777777777777778, \"#fb9f3a\"], [0.8888888888888888, \"#fdca26\"], [1.0, \"#f0f921\"]], \"type\": \"histogram2dcontour\"}], \"mesh3d\": [{\"colorbar\": {\"outlinewidth\": 0, \"ticks\": \"\"}, \"type\": \"mesh3d\"}], \"parcoords\": [{\"line\": {\"colorbar\": {\"outlinewidth\": 0, \"ticks\": \"\"}}, \"type\": \"parcoords\"}], \"scatter\": [{\"marker\": {\"colorbar\": {\"outlinewidth\": 0, \"ticks\": \"\"}}, \"type\": \"scatter\"}], \"scatter3d\": [{\"line\": {\"colorbar\": {\"outlinewidth\": 0, \"ticks\": \"\"}}, \"marker\": {\"colorbar\": {\"outlinewidth\": 0, \"ticks\": \"\"}}, \"type\": \"scatter3d\"}], \"scattercarpet\": [{\"marker\": {\"colorbar\": {\"outlinewidth\": 0, \"ticks\": \"\"}}, \"type\": \"scattercarpet\"}], \"scattergeo\": [{\"marker\": {\"colorbar\": {\"outlinewidth\": 0, \"ticks\": \"\"}}, \"type\": \"scattergeo\"}], \"scattergl\": [{\"marker\": {\"colorbar\": {\"outlinewidth\": 0, \"ticks\": \"\"}}, \"type\": \"scattergl\"}], \"scattermapbox\": [{\"marker\": {\"colorbar\": {\"outlinewidth\": 0, \"ticks\": \"\"}}, \"type\": \"scattermapbox\"}], \"scatterpolar\": [{\"marker\": {\"colorbar\": {\"outlinewidth\": 0, \"ticks\": \"\"}}, \"type\": \"scatterpolar\"}], \"scatterpolargl\": [{\"marker\": {\"colorbar\": {\"outlinewidth\": 0, \"ticks\": \"\"}}, \"type\": \"scatterpolargl\"}], \"scatterternary\": [{\"marker\": {\"colorbar\": {\"outlinewidth\": 0, \"ticks\": \"\"}}, \"type\": \"scatterternary\"}], \"surface\": [{\"colorbar\": {\"outlinewidth\": 0, \"ticks\": \"\"}, \"colorscale\": [[0.0, \"#0d0887\"], [0.1111111111111111, \"#46039f\"], [0.2222222222222222, \"#7201a8\"], [0.3333333333333333, \"#9c179e\"], [0.4444444444444444, \"#bd3786\"], [0.5555555555555556, \"#d8576b\"], [0.6666666666666666, \"#ed7953\"], [0.7777777777777778, \"#fb9f3a\"], [0.8888888888888888, \"#fdca26\"], [1.0, \"#f0f921\"]], \"type\": \"surface\"}], \"table\": [{\"cells\": {\"fill\": {\"color\": \"#EBF0F8\"}, \"line\": {\"color\": \"white\"}}, \"header\": {\"fill\": {\"color\": \"#C8D4E3\"}, \"line\": {\"color\": \"white\"}}, \"type\": \"table\"}]}, \"layout\": {\"annotationdefaults\": {\"arrowcolor\": \"#2a3f5f\", \"arrowhead\": 0, \"arrowwidth\": 1}, \"colorscale\": {\"diverging\": [[0, \"#8e0152\"], [0.1, \"#c51b7d\"], [0.2, \"#de77ae\"], [0.3, \"#f1b6da\"], [0.4, \"#fde0ef\"], [0.5, \"#f7f7f7\"], [0.6, \"#e6f5d0\"], [0.7, \"#b8e186\"], [0.8, \"#7fbc41\"], [0.9, \"#4d9221\"], [1, \"#276419\"]], \"sequential\": [[0.0, \"#0d0887\"], [0.1111111111111111, \"#46039f\"], [0.2222222222222222, \"#7201a8\"], [0.3333333333333333, \"#9c179e\"], [0.4444444444444444, \"#bd3786\"], [0.5555555555555556, \"#d8576b\"], [0.6666666666666666, \"#ed7953\"], [0.7777777777777778, \"#fb9f3a\"], [0.8888888888888888, \"#fdca26\"], [1.0, \"#f0f921\"]], \"sequentialminus\": [[0.0, \"#0d0887\"], [0.1111111111111111, \"#46039f\"], [0.2222222222222222, \"#7201a8\"], [0.3333333333333333, \"#9c179e\"], [0.4444444444444444, \"#bd3786\"], [0.5555555555555556, \"#d8576b\"], [0.6666666666666666, \"#ed7953\"], [0.7777777777777778, \"#fb9f3a\"], [0.8888888888888888, \"#fdca26\"], [1.0, \"#f0f921\"]]}, \"colorway\": [\"#636efa\", \"#EF553B\", \"#00cc96\", \"#ab63fa\", \"#FFA15A\", \"#19d3f3\", \"#FF6692\", \"#B6E880\", \"#FF97FF\", \"#FECB52\"], \"font\": {\"color\": \"#2a3f5f\"}, \"geo\": {\"bgcolor\": \"white\", \"lakecolor\": \"white\", \"landcolor\": \"#E5ECF6\", \"showlakes\": true, \"showland\": true, \"subunitcolor\": \"white\"}, \"hoverlabel\": {\"align\": \"left\"}, \"hovermode\": \"closest\", \"mapbox\": {\"style\": \"light\"}, \"paper_bgcolor\": \"white\", \"plot_bgcolor\": \"#E5ECF6\", \"polar\": {\"angularaxis\": {\"gridcolor\": \"white\", \"linecolor\": \"white\", \"ticks\": \"\"}, \"bgcolor\": \"#E5ECF6\", \"radialaxis\": {\"gridcolor\": \"white\", \"linecolor\": \"white\", \"ticks\": \"\"}}, \"scene\": {\"xaxis\": {\"backgroundcolor\": \"#E5ECF6\", \"gridcolor\": \"white\", \"gridwidth\": 2, \"linecolor\": \"white\", \"showbackground\": true, \"ticks\": \"\", \"zerolinecolor\": \"white\"}, \"yaxis\": {\"backgroundcolor\": \"#E5ECF6\", \"gridcolor\": \"white\", \"gridwidth\": 2, \"linecolor\": \"white\", \"showbackground\": true, \"ticks\": \"\", \"zerolinecolor\": \"white\"}, \"zaxis\": {\"backgroundcolor\": \"#E5ECF6\", \"gridcolor\": \"white\", \"gridwidth\": 2, \"linecolor\": \"white\", \"showbackground\": true, \"ticks\": \"\", \"zerolinecolor\": \"white\"}}, \"shapedefaults\": {\"line\": {\"color\": \"#2a3f5f\"}}, \"ternary\": {\"aaxis\": {\"gridcolor\": \"white\", \"linecolor\": \"white\", \"ticks\": \"\"}, \"baxis\": {\"gridcolor\": \"white\", \"linecolor\": \"white\", \"ticks\": \"\"}, \"bgcolor\": \"#E5ECF6\", \"caxis\": {\"gridcolor\": \"white\", \"linecolor\": \"white\", \"ticks\": \"\"}}, \"title\": {\"x\": 0.05}, \"xaxis\": {\"automargin\": true, \"gridcolor\": \"white\", \"linecolor\": \"white\", \"ticks\": \"\", \"zerolinecolor\": \"white\", \"zerolinewidth\": 2}, \"yaxis\": {\"automargin\": true, \"gridcolor\": \"white\", \"linecolor\": \"white\", \"ticks\": \"\", \"zerolinecolor\": \"white\", \"zerolinewidth\": 2}}}, \"title\": {\"text\": \"TEPs Emulator\"}, \"width\": 900, \"xaxis\": {\"gridwidth\": 2, \"ticklen\": 1000, \"title\": {\"text\": \"Ground Truth\"}, \"zeroline\": false}, \"yaxis\": {\"gridwidth\": 2, \"ticklen\": 1000, \"title\": {\"text\": \"Typical Prediction\"}}},\n",
       "                        {\"responsive\": true}\n",
       "                    ).then(function(){\n",
       "                            \n",
       "var gd = document.getElementById('5288788e-da10-48d3-8fb7-6caafa3c2c8a');\n",
       "var x = new MutationObserver(function (mutations, observer) {{\n",
       "        var display = window.getComputedStyle(gd).display;\n",
       "        if (!display || display === 'none') {{\n",
       "            console.log([gd, 'removed!']);\n",
       "            Plotly.purge(gd);\n",
       "            observer.disconnect();\n",
       "        }}\n",
       "}});\n",
       "\n",
       "// Listen for the removal of the full notebook cells\n",
       "var notebookContainer = gd.closest('#notebook-container');\n",
       "if (notebookContainer) {{\n",
       "    x.observe(notebookContainer, {childList: true});\n",
       "}}\n",
       "\n",
       "// Listen for the clearing of the current output cell\n",
       "var outputEl = gd.closest('.output');\n",
       "if (outputEl) {{\n",
       "    x.observe(outputEl, {childList: true});\n",
       "}}\n",
       "\n",
       "                        })\n",
       "                };\n",
       "                });\n",
       "            </script>\n",
       "        </div>"
      ]
     },
     "metadata": {},
     "output_type": "display_data"
    }
   ],
   "source": [
    "make_ploty_scatter(teps_aadt, 'TEPs Emulator')"
   ]
  },
  {
   "cell_type": "code",
   "execution_count": 50,
   "metadata": {},
   "outputs": [
    {
     "data": {
      "text/html": [
       "\n",
       "<style>\n",
       "\n",
       ".kydbox {\n",
       "  border-style: solid;\n",
       "  border-color: #CCCCCC;\n",
       "  border-width: 2px;\n",
       "  margin: 10px;\n",
       "  padding: 5px;\n",
       "  font-family: sans-serif;\n",
       "  font-size: 10pt;\n",
       "}\n",
       "\n",
       ".kydfloatboxleft {\n",
       "  margin: 5px;\n",
       "  padding-left: 10px;\n",
       "  float: left;\n",
       "  border-right-width: 2px;\n",
       "  border-right-style: solid;\n",
       "  border-right-color: #CCCCCC;\n",
       "  padding-right: 15px;\n",
       "  margin-right: 15px;\n",
       "}\n",
       "\n",
       ".kydfloatboxright {\n",
       "  margin: 5px;\n",
       "  padding-right: 10px;\n",
       "  float: right;\n",
       "}\n",
       "\n",
       ".kydsubtitle {\n",
       "  font-size: 10pt;\n",
       "  font-weight: bold;\n",
       "  margin-top: 5px;\n",
       "  margin-bottom: 5px;\n",
       "}\n",
       "\n",
       ".kydpropertylabel {\n",
       "  font-weight: bold;\n",
       "}\n",
       "\n",
       "td.kydpropertylabel {\n",
       "  text-align: right;\n",
       "}\n",
       "\n",
       "table.kydbasic_stats,\n",
       "table.kydarray_structure {\n",
       "  padding-top: 0px;\n",
       "}\n",
       "\n",
       "table.kydbasic_stats td,\n",
       "table.kydarray_structure td {\n",
       "  padding: 3px 10px 3px 10px;\n",
       "}\n",
       "\n",
       ".kydbottomborder {\n",
       "  border-bottom-width:2px;\n",
       "  border-bottom-style:solid;\n",
       "  border-bottom-color:#CCCCCC;\n",
       "}\n",
       "\n",
       "</style>\n",
       "\n",
       "<div class=\"kydbox\" , style=\"float:left\">\n",
       "\n",
       "  <div class=\"kydfloatboxleft\">\n",
       "    <div class=\"kydsubtitle\">Basic Statistics</div>\n",
       "\n",
       "    <span class='kydpropertylabel'>Mean:</span>\n",
       "    0.1666\n",
       "    &nbsp;&nbsp;&nbsp;&nbsp;\n",
       "    <span class='kydpropertylabel'>Std Dev:</span>\n",
       "    0.1344\n",
       "\n",
       "    <table class=\"kydbasic_stats\">\n",
       "      <tr>\n",
       "        <td class='kydpropertylabel'>Min:</td>\n",
       "        <td>0.02574</td>\n",
       "        <td class='kydpropertylabel'>-99% CI:</td>\n",
       "        <td>0.03247</td>\n",
       "      </tr>\n",
       "      <tr>\n",
       "        <td class='kydpropertylabel'>1Q:</td>\n",
       "        <td>0.08411</td>\n",
       "        <td class='kydpropertylabel'>-95% CI:</td>\n",
       "        <td>0.04328</td>\n",
       "      </tr>\n",
       "      <tr>\n",
       "        <td class='kydpropertylabel'>Median:</td>\n",
       "        <td>0.1253</td>\n",
       "        <td class='kydpropertylabel'>-68% CI:</td>\n",
       "        <td>0.06952</td>\n",
       "      </tr>\n",
       "      <tr>\n",
       "        <td class='kydpropertylabel'>3Q:</td>\n",
       "        <td>0.1964</td>\n",
       "        <td class='kydpropertylabel'>+68% CI:</td>\n",
       "        <td>0.2495</td>\n",
       "      </tr>\n",
       "      <tr>\n",
       "        <td class='kydpropertylabel'>Max:</td>\n",
       "        <td>0.8349</td>\n",
       "        <td class='kydpropertylabel'>+95% CI:</td>\n",
       "        <td>0.5796</td>\n",
       "      </tr>\n",
       "      <tr>\n",
       "        <td>&nbsp;</td>\n",
       "        <td>&nbsp;</td>\n",
       "        <td class='kydpropertylabel'>+99% CI:</td>\n",
       "        <td>0.7892</td>\n",
       "      </tr>\n",
       "\n",
       "    </table>\n",
       "  </div>\n",
       "\n",
       "  <div class=\"kydfloatboxright\">\n",
       "    <div class=\"kydsubtitle\">Array Structure</div>\n",
       "    <table class=\"kydarray_structure\">\n",
       "      <tr>\n",
       "        <td class='kydpropertylabel'>Number of Dimensions:</td>\n",
       "        <td>1</td>\n",
       "      </tr>\n",
       "      <tr>\n",
       "        <td class='kydpropertylabel'>Shape of Dimensions:</td>\n",
       "        <td>(303,)</td>\n",
       "      </tr>\n",
       "      <tr>\n",
       "        <td class='kydpropertylabel'>Array Data Type:</td>\n",
       "        <td>float64</td>\n",
       "      </tr>\n",
       "      <tr>\n",
       "        <td class='kydpropertylabel'>Memory Size:</td>\n",
       "        <td>2.5KiB</td>\n",
       "      </tr>\n",
       "      <tr>\n",
       "        <td class='kydpropertylabel'>Number of NaN:</td>\n",
       "        <td>0</td>\n",
       "      </tr>\n",
       "      <tr>\n",
       "        <td class='kydpropertylabel'>Number of Inf:</td>\n",
       "        <td>0</td>\n",
       "      </tr>\n",
       "\n",
       "    </table>\n",
       "  </div>\n",
       "\n",
       "</div>\n"
      ],
      "text/plain": [
       "\n",
       "| Basic Statistics                                          | Array Structure              \t|\n",
       "|                                                           |                              \t|\n",
       "|    Mean:         Min:   0.02574     -99 CI:   0.03247     | Number of Dimensions:   1    \t|\n",
       "|    0.1666         1Q:   0.08411     -95 CI:   0.04328     | Shape of Dimensions:    (303,)\t|\n",
       "|               Median:   0.1253      -68 CI:   0.06952     | Array Data Type:        float64\t|\n",
       "|   Std Dev:        3Q:   0.1964      +68 CI:   0.2495      | Memory Size:            2.5KiB\t|\n",
       "|    0.1344        Max:   0.8349      +95 CI:   0.5796      |                              \t|\n",
       "|                                     +99 CI:   0.7892      | Number of NaN:  0            \t|\n",
       "|                                                           | Number of Inf:  0            \t|\n"
      ]
     },
     "metadata": {},
     "output_type": "display_data"
    }
   ],
   "source": [
    "check_mape(teps_aadt)"
   ]
  },
  {
   "cell_type": "code",
   "execution_count": 78,
   "metadata": {},
   "outputs": [
    {
     "data": {
      "text/plain": [
       "'Slope: 0.9287569582309836'"
      ]
     },
     "execution_count": 78,
     "metadata": {},
     "output_type": "execute_result"
    }
   ],
   "source": [
    "linear_fit(teps_aadt)"
   ]
  },
  {
   "cell_type": "markdown",
   "metadata": {},
   "source": [
    "### CountMatch Default (\"Hybrid\")"
   ]
  },
  {
   "cell_type": "code",
   "execution_count": 62,
   "metadata": {},
   "outputs": [
    {
     "data": {
      "application/vnd.plotly.v1+json": {
       "config": {
        "linkText": "Export to plot.ly",
        "plotlyServerURL": "https://plot.ly",
        "showLink": false
       },
       "data": [
        {
         "hovertemplate": "%{x:0.3f}, %{y:0.3f}",
         "marker": {
          "color": "#1f77b4",
          "line": {
           "width": 1
          },
          "size": 14
         },
         "mode": "markers",
         "name": "2006",
         "type": "scatter",
         "x": [
          1062.7846825679437
         ],
         "y": [
          658.6314605033723
         ]
        },
        {
         "hovertemplate": "%{x:0.3f}, %{y:0.3f}",
         "marker": {
          "color": "#ff7f0e",
          "line": {
           "width": 1
          },
          "size": 14
         },
         "mode": "markers",
         "name": "2010",
         "type": "scatter",
         "x": [
          15255.520320454854,
          55196.733806100536,
          8245.02643178383,
          29127.998506404634,
          61641.049747671146,
          75440.99990165087,
          6662.478466803338,
          18725.636255852212,
          83486.95739560948,
          80197.74419072465,
          7226.875264658771,
          58021.08437105056,
          53625.34702047268,
          19307.867796457664,
          18739.428061618746,
          25662.300544796093,
          9526.935479277297,
          17953.196473929424,
          16986.55734146219,
          4022.0163578674888,
          6640.411861809423,
          4349.017096425068,
          29673.56449650973,
          9503.730777958495,
          4067.500047205748,
          25091.859608315604,
          73410.80112754917,
          30578.572598213887,
          65699.8324925106,
          80534.45171352786,
          16005.209527768406,
          86996.37810261064,
          80803.02430523981,
          56367.6453896252,
          19675.023911736665,
          6119.285824000488,
          41744.782060581725,
          40430.13331105424,
          52844.842148811615,
          22381.673026850876,
          6827.877079343163,
          32133.694570581447,
          82822.14136454414,
          79348.81712166812,
          8951.316680616188,
          85009.78862537871,
          4162.2856361852255,
          33880.909913883945,
          15216.509862723648,
          13876.078020011726,
          17292.127972502018,
          70583.4807799674,
          3350.1645458149246,
          5627.793110230975,
          24554.12811210833,
          12703.668581564827,
          8344.272807979438,
          80137.1689330468,
          65963.77195589899,
          77712.71881542233,
          48484.23570580561,
          5072.656912539515,
          21674.612031935783,
          55193.205708264344,
          9036.046049475637,
          45498.04162975632,
          42005.05723432648,
          39989.98103019051,
          61458.92259308879,
          75302.0459671835,
          76806.23893737241,
          75541.33410142064,
          20032.989169463664,
          15961.46816448392,
          63461.178599911276,
          23831.603927778735,
          73438.55419519293,
          35230.751580256285,
          19684.84187661755,
          14121.272975851934,
          10492.872862176555,
          11306.436426714838,
          11426.60318799843,
          9630.36991410636,
          6444.665968541579,
          24334.25538905387,
          11410.068652502016,
          19013.11536241012,
          8948.027613213673,
          13502.089826410771,
          44262.78116983048,
          18652.174886664325,
          77842.57576763799,
          7667.695307095944,
          76963.1163075428,
          22808.731510967384,
          74519.3638868985,
          31061.41705255208,
          7584.451093859001,
          23274.26292102494,
          86975.81296132477,
          60635.98060426179,
          4380.833904736815,
          11525.43047994123,
          64941.79602794934,
          9149.604068610231,
          56538.16874341844
         ],
         "y": [
          14080.906244163813,
          62171.02858158986,
          10069.681393825798,
          21686.227351243844,
          62406.16151084452,
          81236.12506573378,
          6544.891654236751,
          19983.35851932911,
          97094.77328592434,
          79599.72508760824,
          7655.1542750100625,
          61787.166075981186,
          51921.11949115551,
          20450.385515798156,
          16827.301464980646,
          24995.09951848664,
          11646.892511228882,
          18257.567113186036,
          19642.66005947227,
          4352.630276762186,
          6493.632155227304,
          4434.119693581751,
          22783.247016099853,
          9270.900221215676,
          4591.857751125515,
          22296.113174939514,
          69858.85669797212,
          28923.927350364902,
          66906.7843929701,
          80594.84112537971,
          12524.475308064588,
          97146.07982418017,
          87294.76641348175,
          64327.02471780677,
          15550.69640617728,
          5704.922092785137,
          47574.41490228566,
          38008.82335043427,
          53456.525261475945,
          22574.96999921783,
          6302.041385702834,
          33036.91400366863,
          85136.04098312196,
          80141.41081321923,
          9756.741518034885,
          78083.05330271024,
          3704.8442320375116,
          36005.34284491301,
          14602.905032920971,
          13562.513204565745,
          12058.495469001075,
          70951.59816756994,
          3541.085267531877,
          5796.823227445543,
          25017.193887681522,
          13292.319610040191,
          9001.68472925798,
          82476.98695582223,
          86985.4679673737,
          79194.48968999485,
          50796.15533632932,
          4485.39754888479,
          21374.08137264709,
          55426.47039120074,
          8588.7691737707,
          56615.17061593355,
          43828.29552882089,
          28413.905327303855,
          43555.05880813497,
          77608.80194446785,
          80110.99811002497,
          105519.40290461719,
          28959.077824655647,
          22573.41270203078,
          63666.80597741681,
          44066.73244164869,
          79184.1497626587,
          51181.48745818271,
          14085.236040237636,
          15180.194597290485,
          10299.620786806592,
          11019.151595054433,
          9738.246940210045,
          8767.052032429392,
          6531.216691575457,
          23312.382459286484,
          12715.69117798338,
          18403.289794331024,
          9003.757416804818,
          14752.782761822085,
          46767.61751053777,
          24576.99222815581,
          58035.01453265984,
          12590.605913158952,
          81736.90856511833,
          24105.703609191503,
          75985.47971573276,
          23049.194191334915,
          7366.684021444237,
          24412.601044939234,
          132563.10185257258,
          60320.841941991945,
          4278.153041080739,
          11276.148023731856,
          72679.61365152865,
          11347.706991310164,
          63418.96144138141
         ]
        },
        {
         "hovertemplate": "%{x:0.3f}, %{y:0.3f}",
         "marker": {
          "color": "#2ca02c",
          "line": {
           "width": 1
          },
          "size": 14
         },
         "mode": "markers",
         "name": "2011",
         "type": "scatter",
         "x": [
          14997.78954749053,
          15291.262582779787,
          17043.493208499844,
          2523.7983376888337,
          15677.47166044147,
          17869.539368077072,
          1746.7162980227317,
          19868.68745671428,
          1076.228147585618
         ],
         "y": [
          13394.804724703941,
          15673.658876525025,
          16603.915710446323,
          2781.6545687827966,
          15053.385362156338,
          19046.99892664078,
          1832.7711781603878,
          19419.11603448095,
          340.79725033422176
         ]
        },
        {
         "hovertemplate": "%{x:0.3f}, %{y:0.3f}",
         "marker": {
          "color": "#d62728",
          "line": {
           "width": 1
          },
          "size": 14
         },
         "mode": "markers",
         "name": "2012",
         "type": "scatter",
         "x": [
          12122.424511023703,
          6456.27579276041,
          16130.178781169525,
          15085.224911193463,
          3673.4333462094087,
          8280.438367904411,
          32795.53503555821,
          14166.06566327492,
          13875.171506037826,
          6946.90432357302,
          2564.982449923113,
          16811.695023108605,
          12449.995480114758,
          5531.02785623472,
          23794.741377539554,
          16225.721041391871,
          8487.049018816118,
          7266.177275813694,
          17726.352009923998,
          13293.463666423551,
          1817.611035632038,
          9795.194916846965,
          19606.436026491916,
          1513.7535597198428,
          19161.2166823692,
          8801.735137201393,
          22346.69328874194,
          8043.957317300389,
          15506.259215521497
         ],
         "y": [
          13331.298548951934,
          7402.014413937651,
          8938.238654750789,
          13054.708975790063,
          4199.517484558967,
          9536.249031036708,
          31313.336125831294,
          13735.185699200933,
          15533.394448027502,
          8434.25498357356,
          2480.3871064269547,
          15905.019896016698,
          13277.557711793876,
          4797.4853846047645,
          21586.543844140804,
          21722.462444476332,
          9823.752480771103,
          8262.08885022317,
          20411.85031404537,
          12810.821473751135,
          2651.5442571867397,
          10174.08038000686,
          20778.78679008242,
          717.2367179856898,
          10633.640017728365,
          8284.191099175901,
          39603.69882480473,
          13742.13381231093,
          17488.32782195547
         ]
        },
        {
         "hovertemplate": "%{x:0.3f}, %{y:0.3f}",
         "marker": {
          "color": "#9467bd",
          "line": {
           "width": 1
          },
          "size": 14
         },
         "mode": "markers",
         "name": "2013",
         "type": "scatter",
         "x": [
          15102.145260064033,
          15037.697671232878,
          3665.4998960793578,
          2490.3457239971012,
          5603.78842117102,
          15372.719782711385,
          17612.591702544032,
          17382.1763281373,
          1739.7917314539077,
          4341.678351965569,
          18814.096759240514,
          1100.3903892150468,
          8854.49618817684
         ],
         "y": [
          13228.88904694238,
          14264.798519485514,
          3107.462096408732,
          2501.296579293434,
          5966.278125265472,
          14181.872257231826,
          16487.811434446638,
          16328.94445007358,
          1714.88696012614,
          5261.540455559946,
          17824.07850495081,
          1570.658672089431,
          6833.7214782676765
         ]
        },
        {
         "hovertemplate": "%{x:0.3f}, %{y:0.3f}",
         "marker": {
          "color": "#8c564b",
          "line": {
           "width": 1
          },
          "size": 14
         },
         "mode": "markers",
         "name": "2014",
         "type": "scatter",
         "x": [
          12760.622579121398,
          14946.546014800819,
          3610.743744292238,
          2329.2785458108083,
          5657.709132420092,
          14272.475314498655,
          17319.459874035587,
          1584.94106527406,
          18586.336687135885,
          1107.0032348182726
         ],
         "y": [
          15531.800188684982,
          17419.233948837966,
          4383.901330918529,
          2791.225251359003,
          9391.528503038831,
          14953.673420486915,
          11835.288795044582,
          1697.4653880118974,
          12342.46871299645,
          1418.3885823312944
         ]
        },
        {
         "hovertemplate": "%{x:0.3f}, %{y:0.3f}",
         "marker": {
          "color": "#e377c2",
          "line": {
           "width": 1
          },
          "size": 14
         },
         "mode": "markers",
         "name": "2015",
         "type": "scatter",
         "x": [
          13025.188062731228,
          54092.21641704718,
          4752.054240340868,
          14029.143693906475,
          44503.244295586235,
          45184.180866705945,
          14784.653280893412,
          5280.982156782363,
          16004.157421433343,
          4026.95057312204,
          16736.72390166163,
          21399.258249116123,
          17507.588993042362,
          7608.62678426732,
          67671.81863827101,
          6976.453876543033,
          72784.43025066845,
          2149.2504887987566,
          72502.09468558192,
          8143.520062927568,
          16021.068682097306,
          77299.7344574856,
          4765.604302216203,
          70500.40606522319,
          66373.48038728155,
          8888.472813855613,
          1718.2410662508892,
          17861.679841113066,
          30724.841253154143,
          46956.50295756965,
          24289.420157800065,
          54557.826407719826,
          15486.917195479007,
          10194.042146028747,
          9408.49625582023,
          1151.112911352543,
          6679.129196651287,
          6484.342899262018,
          10943.55175334468,
          36360.82872367504,
          17089.591485859888,
          54795.58976704318,
          54199.26003096565,
          10886.13818428678,
          8079.613078399825
         ],
         "y": [
          10770.92076106809,
          61499.50143419774,
          4795.678230838687,
          17807.374083108218,
          35568.38571031144,
          42446.363335057154,
          15992.403619890527,
          3430.4838841390774,
          19020.6705176692,
          3927.4209135515466,
          20947.844422799477,
          29287.008367794304,
          20464.714211570263,
          11312.540838402407,
          76869.81672821514,
          6994.243158921636,
          72388.83506956461,
          2232.5091945272907,
          71025.80042092844,
          8836.842280268782,
          14668.896079592936,
          54181.09297599576,
          4795.694205194177,
          56377.9396684025,
          51781.07197484136,
          7801.469427884935,
          1702.3745468897673,
          15046.358092923218,
          23365.6959952151,
          38590.13956676611,
          31306.64541638718,
          50828.42973760264,
          25624.468309224863,
          8474.26855391045,
          11287.954694700198,
          695.6198766684845,
          9905.286122336442,
          6426.56656961929,
          11148.58438887786,
          34457.752292827325,
          18880.775100794795,
          63663.76604346029,
          50796.36626565329,
          9895.998461827685,
          7229.210838022227
         ]
        },
        {
         "hovertemplate": "%{x:0.3f}, %{y:0.3f}",
         "marker": {
          "color": "#7f7f7f",
          "line": {
           "width": 1
          },
          "size": 14
         },
         "mode": "markers",
         "name": "2016",
         "type": "scatter",
         "x": [
          31232.03253648905,
          60856.943590981275,
          66361.43174968039,
          5535.951839287525,
          62249.43295647431,
          15429.644725541611,
          58614.205398740596,
          17374.560905151004,
          4344.53516409976,
          6357.27981465711,
          9066.866750750156,
          12718.523885631672,
          4563.775167137052,
          13632.425062614913,
          70326.47856103058,
          12220.068681624487,
          22777.14571149652,
          17917.129834403553,
          11154.323909597966,
          48429.082869038284,
          64882.736825728134,
          79819.77187622128,
          2556.034248867213,
          95106.14518001657,
          81854.5751331586,
          8877.454483423537,
          80808.50501811485,
          4162.106561234131,
          74771.76844622001,
          85325.92735086565,
          7491.912099031783,
          5384.233520909197,
          77574.6388921176,
          76680.22009843627,
          46161.95702305582,
          41868.59492876478,
          27450.00573146647,
          14324.55746690547,
          15681.28236216983,
          70411.87673020888,
          18812.64368150065,
          11132.340088922918,
          21186.53062238622,
          1214.887861876526,
          12146.73160537095,
          9837.18261626057,
          7977.470953967234,
          4524.573395433636,
          17050.650724944455,
          20258.75867441858,
          67789.75483334762,
          56502.02694014107,
          10222.789469466303
         ],
         "y": [
          21598.028328494693,
          290722.3006416916,
          2027663.8214426916,
          4603.092432360706,
          69001.26520848417,
          12307.323771336267,
          40766.502055682286,
          17033.179522961596,
          2646.8322928119105,
          6377.538981101594,
          7843.765892039163,
          22528.371334779215,
          4810.924311487108,
          11510.710404187967,
          110004.84634379907,
          56835.11634882722,
          23640.227033355408,
          21003.957714781416,
          11574.965122418183,
          46665.800853871246,
          73074.97007299255,
          44774.178650499925,
          1939.6748169791322,
          103904.536394021,
          69259.79586602499,
          7397.487539910412,
          81793.54741375775,
          5375.476923023433,
          81400.43780503159,
          56748.68194359863,
          43252.22635978115,
          3556.9609561213056,
          62834.94007642392,
          73323.56558729433,
          43553.055191840045,
          6119.631059967659,
          17123.155795866816,
          38053.89554953721,
          6339.094397428827,
          81838.58103736106,
          34809.62223711241,
          7317.005354629594,
          21403.918071716405,
          1031.699139029443,
          11399.65893591655,
          12333.631713602226,
          6244.4725708261685,
          5533.636029534398,
          28658.433493822817,
          19159.340137035604,
          136402.4555581068,
          103220.62794234719,
          23311.120192094084
         ]
        },
        {
         "hovertemplate": "%{x:0.3f}, %{y:0.3f}",
         "marker": {
          "color": "#bcbd22",
          "line": {
           "width": 1
          },
          "size": 14
         },
         "mode": "markers",
         "name": "2017",
         "type": "scatter",
         "x": [
          27291.227204465402,
          75590.15055209106,
          84970.3931884344,
          65737.97442569387,
          15252.134009265044,
          62387.955748594584,
          9513.11971264637,
          9640.698061042336,
          9397.684790938954,
          18257.93560655336,
          9651.320306685178,
          5146.237359500996,
          73598.64391726807,
          12543.328491040786,
          24458.227479590052,
          21178.270322993794,
          8116.776474268182,
          43621.80456517726,
          11244.76458063908,
          98187.33176009626,
          7166.009088488271,
          81497.99518442636,
          76149.17861888098,
          40663.8047038385,
          30279.995750202102,
          13000.177858025389,
          73584.34273936834,
          18307.355536994186,
          21136.083089804855,
          1148.5228869922566,
          11281.854323233943,
          11507.338664458319,
          14908.302384967998,
          72839.3124783649,
          66973.17701196487,
          35105.97125649809
         ],
         "y": [
          23864.488538000638,
          97384.96833715348,
          58661.40012366518,
          93008.48480572582,
          19619.52761717973,
          68461.10378183969,
          13785.95493612798,
          13935.879508164022,
          13401.424273157692,
          19077.91186871726,
          10761.304103022812,
          5430.558363066213,
          67552.13247776651,
          9422.023852483084,
          23540.99613776378,
          22886.235497311296,
          8351.507951429994,
          44534.363374839944,
          16819.90123283363,
          115202.37028239205,
          9014.01359485623,
          82840.68941624807,
          77975.58060334677,
          52652.86399820119,
          29837.994449024027,
          7626.345451180564,
          74131.34632253104,
          27200.460525261104,
          23718.106044115164,
          810.8161102129304,
          12586.872083352651,
          10907.97194889673,
          21252.100761339654,
          67654.02351401302,
          59094.99561002972,
          30350.521137556854
         ]
        }
       ],
       "layout": {
        "height": 600,
        "hovermode": "closest",
        "showlegend": true,
        "template": {
         "data": {
          "bar": [
           {
            "error_x": {
             "color": "#2a3f5f"
            },
            "error_y": {
             "color": "#2a3f5f"
            },
            "marker": {
             "line": {
              "color": "#E5ECF6",
              "width": 0.5
             }
            },
            "type": "bar"
           }
          ],
          "barpolar": [
           {
            "marker": {
             "line": {
              "color": "#E5ECF6",
              "width": 0.5
             }
            },
            "type": "barpolar"
           }
          ],
          "carpet": [
           {
            "aaxis": {
             "endlinecolor": "#2a3f5f",
             "gridcolor": "white",
             "linecolor": "white",
             "minorgridcolor": "white",
             "startlinecolor": "#2a3f5f"
            },
            "baxis": {
             "endlinecolor": "#2a3f5f",
             "gridcolor": "white",
             "linecolor": "white",
             "minorgridcolor": "white",
             "startlinecolor": "#2a3f5f"
            },
            "type": "carpet"
           }
          ],
          "choropleth": [
           {
            "colorbar": {
             "outlinewidth": 0,
             "ticks": ""
            },
            "type": "choropleth"
           }
          ],
          "contour": [
           {
            "colorbar": {
             "outlinewidth": 0,
             "ticks": ""
            },
            "colorscale": [
             [
              0,
              "#0d0887"
             ],
             [
              0.1111111111111111,
              "#46039f"
             ],
             [
              0.2222222222222222,
              "#7201a8"
             ],
             [
              0.3333333333333333,
              "#9c179e"
             ],
             [
              0.4444444444444444,
              "#bd3786"
             ],
             [
              0.5555555555555556,
              "#d8576b"
             ],
             [
              0.6666666666666666,
              "#ed7953"
             ],
             [
              0.7777777777777778,
              "#fb9f3a"
             ],
             [
              0.8888888888888888,
              "#fdca26"
             ],
             [
              1,
              "#f0f921"
             ]
            ],
            "type": "contour"
           }
          ],
          "contourcarpet": [
           {
            "colorbar": {
             "outlinewidth": 0,
             "ticks": ""
            },
            "type": "contourcarpet"
           }
          ],
          "heatmap": [
           {
            "colorbar": {
             "outlinewidth": 0,
             "ticks": ""
            },
            "colorscale": [
             [
              0,
              "#0d0887"
             ],
             [
              0.1111111111111111,
              "#46039f"
             ],
             [
              0.2222222222222222,
              "#7201a8"
             ],
             [
              0.3333333333333333,
              "#9c179e"
             ],
             [
              0.4444444444444444,
              "#bd3786"
             ],
             [
              0.5555555555555556,
              "#d8576b"
             ],
             [
              0.6666666666666666,
              "#ed7953"
             ],
             [
              0.7777777777777778,
              "#fb9f3a"
             ],
             [
              0.8888888888888888,
              "#fdca26"
             ],
             [
              1,
              "#f0f921"
             ]
            ],
            "type": "heatmap"
           }
          ],
          "heatmapgl": [
           {
            "colorbar": {
             "outlinewidth": 0,
             "ticks": ""
            },
            "colorscale": [
             [
              0,
              "#0d0887"
             ],
             [
              0.1111111111111111,
              "#46039f"
             ],
             [
              0.2222222222222222,
              "#7201a8"
             ],
             [
              0.3333333333333333,
              "#9c179e"
             ],
             [
              0.4444444444444444,
              "#bd3786"
             ],
             [
              0.5555555555555556,
              "#d8576b"
             ],
             [
              0.6666666666666666,
              "#ed7953"
             ],
             [
              0.7777777777777778,
              "#fb9f3a"
             ],
             [
              0.8888888888888888,
              "#fdca26"
             ],
             [
              1,
              "#f0f921"
             ]
            ],
            "type": "heatmapgl"
           }
          ],
          "histogram": [
           {
            "marker": {
             "colorbar": {
              "outlinewidth": 0,
              "ticks": ""
             }
            },
            "type": "histogram"
           }
          ],
          "histogram2d": [
           {
            "colorbar": {
             "outlinewidth": 0,
             "ticks": ""
            },
            "colorscale": [
             [
              0,
              "#0d0887"
             ],
             [
              0.1111111111111111,
              "#46039f"
             ],
             [
              0.2222222222222222,
              "#7201a8"
             ],
             [
              0.3333333333333333,
              "#9c179e"
             ],
             [
              0.4444444444444444,
              "#bd3786"
             ],
             [
              0.5555555555555556,
              "#d8576b"
             ],
             [
              0.6666666666666666,
              "#ed7953"
             ],
             [
              0.7777777777777778,
              "#fb9f3a"
             ],
             [
              0.8888888888888888,
              "#fdca26"
             ],
             [
              1,
              "#f0f921"
             ]
            ],
            "type": "histogram2d"
           }
          ],
          "histogram2dcontour": [
           {
            "colorbar": {
             "outlinewidth": 0,
             "ticks": ""
            },
            "colorscale": [
             [
              0,
              "#0d0887"
             ],
             [
              0.1111111111111111,
              "#46039f"
             ],
             [
              0.2222222222222222,
              "#7201a8"
             ],
             [
              0.3333333333333333,
              "#9c179e"
             ],
             [
              0.4444444444444444,
              "#bd3786"
             ],
             [
              0.5555555555555556,
              "#d8576b"
             ],
             [
              0.6666666666666666,
              "#ed7953"
             ],
             [
              0.7777777777777778,
              "#fb9f3a"
             ],
             [
              0.8888888888888888,
              "#fdca26"
             ],
             [
              1,
              "#f0f921"
             ]
            ],
            "type": "histogram2dcontour"
           }
          ],
          "mesh3d": [
           {
            "colorbar": {
             "outlinewidth": 0,
             "ticks": ""
            },
            "type": "mesh3d"
           }
          ],
          "parcoords": [
           {
            "line": {
             "colorbar": {
              "outlinewidth": 0,
              "ticks": ""
             }
            },
            "type": "parcoords"
           }
          ],
          "scatter": [
           {
            "marker": {
             "colorbar": {
              "outlinewidth": 0,
              "ticks": ""
             }
            },
            "type": "scatter"
           }
          ],
          "scatter3d": [
           {
            "line": {
             "colorbar": {
              "outlinewidth": 0,
              "ticks": ""
             }
            },
            "marker": {
             "colorbar": {
              "outlinewidth": 0,
              "ticks": ""
             }
            },
            "type": "scatter3d"
           }
          ],
          "scattercarpet": [
           {
            "marker": {
             "colorbar": {
              "outlinewidth": 0,
              "ticks": ""
             }
            },
            "type": "scattercarpet"
           }
          ],
          "scattergeo": [
           {
            "marker": {
             "colorbar": {
              "outlinewidth": 0,
              "ticks": ""
             }
            },
            "type": "scattergeo"
           }
          ],
          "scattergl": [
           {
            "marker": {
             "colorbar": {
              "outlinewidth": 0,
              "ticks": ""
             }
            },
            "type": "scattergl"
           }
          ],
          "scattermapbox": [
           {
            "marker": {
             "colorbar": {
              "outlinewidth": 0,
              "ticks": ""
             }
            },
            "type": "scattermapbox"
           }
          ],
          "scatterpolar": [
           {
            "marker": {
             "colorbar": {
              "outlinewidth": 0,
              "ticks": ""
             }
            },
            "type": "scatterpolar"
           }
          ],
          "scatterpolargl": [
           {
            "marker": {
             "colorbar": {
              "outlinewidth": 0,
              "ticks": ""
             }
            },
            "type": "scatterpolargl"
           }
          ],
          "scatterternary": [
           {
            "marker": {
             "colorbar": {
              "outlinewidth": 0,
              "ticks": ""
             }
            },
            "type": "scatterternary"
           }
          ],
          "surface": [
           {
            "colorbar": {
             "outlinewidth": 0,
             "ticks": ""
            },
            "colorscale": [
             [
              0,
              "#0d0887"
             ],
             [
              0.1111111111111111,
              "#46039f"
             ],
             [
              0.2222222222222222,
              "#7201a8"
             ],
             [
              0.3333333333333333,
              "#9c179e"
             ],
             [
              0.4444444444444444,
              "#bd3786"
             ],
             [
              0.5555555555555556,
              "#d8576b"
             ],
             [
              0.6666666666666666,
              "#ed7953"
             ],
             [
              0.7777777777777778,
              "#fb9f3a"
             ],
             [
              0.8888888888888888,
              "#fdca26"
             ],
             [
              1,
              "#f0f921"
             ]
            ],
            "type": "surface"
           }
          ],
          "table": [
           {
            "cells": {
             "fill": {
              "color": "#EBF0F8"
             },
             "line": {
              "color": "white"
             }
            },
            "header": {
             "fill": {
              "color": "#C8D4E3"
             },
             "line": {
              "color": "white"
             }
            },
            "type": "table"
           }
          ]
         },
         "layout": {
          "annotationdefaults": {
           "arrowcolor": "#2a3f5f",
           "arrowhead": 0,
           "arrowwidth": 1
          },
          "colorscale": {
           "diverging": [
            [
             0,
             "#8e0152"
            ],
            [
             0.1,
             "#c51b7d"
            ],
            [
             0.2,
             "#de77ae"
            ],
            [
             0.3,
             "#f1b6da"
            ],
            [
             0.4,
             "#fde0ef"
            ],
            [
             0.5,
             "#f7f7f7"
            ],
            [
             0.6,
             "#e6f5d0"
            ],
            [
             0.7,
             "#b8e186"
            ],
            [
             0.8,
             "#7fbc41"
            ],
            [
             0.9,
             "#4d9221"
            ],
            [
             1,
             "#276419"
            ]
           ],
           "sequential": [
            [
             0,
             "#0d0887"
            ],
            [
             0.1111111111111111,
             "#46039f"
            ],
            [
             0.2222222222222222,
             "#7201a8"
            ],
            [
             0.3333333333333333,
             "#9c179e"
            ],
            [
             0.4444444444444444,
             "#bd3786"
            ],
            [
             0.5555555555555556,
             "#d8576b"
            ],
            [
             0.6666666666666666,
             "#ed7953"
            ],
            [
             0.7777777777777778,
             "#fb9f3a"
            ],
            [
             0.8888888888888888,
             "#fdca26"
            ],
            [
             1,
             "#f0f921"
            ]
           ],
           "sequentialminus": [
            [
             0,
             "#0d0887"
            ],
            [
             0.1111111111111111,
             "#46039f"
            ],
            [
             0.2222222222222222,
             "#7201a8"
            ],
            [
             0.3333333333333333,
             "#9c179e"
            ],
            [
             0.4444444444444444,
             "#bd3786"
            ],
            [
             0.5555555555555556,
             "#d8576b"
            ],
            [
             0.6666666666666666,
             "#ed7953"
            ],
            [
             0.7777777777777778,
             "#fb9f3a"
            ],
            [
             0.8888888888888888,
             "#fdca26"
            ],
            [
             1,
             "#f0f921"
            ]
           ]
          },
          "colorway": [
           "#636efa",
           "#EF553B",
           "#00cc96",
           "#ab63fa",
           "#FFA15A",
           "#19d3f3",
           "#FF6692",
           "#B6E880",
           "#FF97FF",
           "#FECB52"
          ],
          "font": {
           "color": "#2a3f5f"
          },
          "geo": {
           "bgcolor": "white",
           "lakecolor": "white",
           "landcolor": "#E5ECF6",
           "showlakes": true,
           "showland": true,
           "subunitcolor": "white"
          },
          "hoverlabel": {
           "align": "left"
          },
          "hovermode": "closest",
          "mapbox": {
           "style": "light"
          },
          "paper_bgcolor": "white",
          "plot_bgcolor": "#E5ECF6",
          "polar": {
           "angularaxis": {
            "gridcolor": "white",
            "linecolor": "white",
            "ticks": ""
           },
           "bgcolor": "#E5ECF6",
           "radialaxis": {
            "gridcolor": "white",
            "linecolor": "white",
            "ticks": ""
           }
          },
          "scene": {
           "xaxis": {
            "backgroundcolor": "#E5ECF6",
            "gridcolor": "white",
            "gridwidth": 2,
            "linecolor": "white",
            "showbackground": true,
            "ticks": "",
            "zerolinecolor": "white"
           },
           "yaxis": {
            "backgroundcolor": "#E5ECF6",
            "gridcolor": "white",
            "gridwidth": 2,
            "linecolor": "white",
            "showbackground": true,
            "ticks": "",
            "zerolinecolor": "white"
           },
           "zaxis": {
            "backgroundcolor": "#E5ECF6",
            "gridcolor": "white",
            "gridwidth": 2,
            "linecolor": "white",
            "showbackground": true,
            "ticks": "",
            "zerolinecolor": "white"
           }
          },
          "shapedefaults": {
           "line": {
            "color": "#2a3f5f"
           }
          },
          "ternary": {
           "aaxis": {
            "gridcolor": "white",
            "linecolor": "white",
            "ticks": ""
           },
           "baxis": {
            "gridcolor": "white",
            "linecolor": "white",
            "ticks": ""
           },
           "bgcolor": "#E5ECF6",
           "caxis": {
            "gridcolor": "white",
            "linecolor": "white",
            "ticks": ""
           }
          },
          "title": {
           "x": 0.05
          },
          "xaxis": {
           "automargin": true,
           "gridcolor": "white",
           "linecolor": "white",
           "ticks": "",
           "zerolinecolor": "white",
           "zerolinewidth": 2
          },
          "yaxis": {
           "automargin": true,
           "gridcolor": "white",
           "linecolor": "white",
           "ticks": "",
           "zerolinecolor": "white",
           "zerolinewidth": 2
          }
         }
        },
        "title": {
         "text": "CountMatch Default"
        },
        "width": 900,
        "xaxis": {
         "gridwidth": 2,
         "ticklen": 1000,
         "title": {
          "text": "Ground Truth"
         },
         "zeroline": false
        },
        "yaxis": {
         "gridwidth": 2,
         "ticklen": 1000,
         "title": {
          "text": "Typical Prediction"
         }
        }
       }
      },
      "text/html": [
       "<div>\n",
       "        \n",
       "        \n",
       "            <div id=\"78e59979-2fc3-4089-b2a1-dad8f3cd25db\" class=\"plotly-graph-div\" style=\"height:600px; width:900px;\"></div>\n",
       "            <script type=\"text/javascript\">\n",
       "                require([\"plotly\"], function(Plotly) {\n",
       "                    window.PLOTLYENV=window.PLOTLYENV || {};\n",
       "                    \n",
       "                if (document.getElementById(\"78e59979-2fc3-4089-b2a1-dad8f3cd25db\")) {\n",
       "                    Plotly.newPlot(\n",
       "                        '78e59979-2fc3-4089-b2a1-dad8f3cd25db',\n",
       "                        [{\"hovertemplate\": \"%{x:0.3f}, %{y:0.3f}\", \"marker\": {\"color\": \"#1f77b4\", \"line\": {\"width\": 1}, \"size\": 14}, \"mode\": \"markers\", \"name\": \"2006\", \"type\": \"scatter\", \"x\": [1062.7846825679437], \"y\": [658.6314605033723]}, {\"hovertemplate\": \"%{x:0.3f}, %{y:0.3f}\", \"marker\": {\"color\": \"#ff7f0e\", \"line\": {\"width\": 1}, \"size\": 14}, \"mode\": \"markers\", \"name\": \"2010\", \"type\": \"scatter\", \"x\": [15255.520320454854, 55196.733806100536, 8245.02643178383, 29127.998506404634, 61641.049747671146, 75440.99990165087, 6662.478466803338, 18725.636255852212, 83486.95739560948, 80197.74419072465, 7226.875264658771, 58021.08437105056, 53625.34702047268, 19307.867796457664, 18739.428061618746, 25662.300544796093, 9526.935479277297, 17953.196473929424, 16986.55734146219, 4022.0163578674888, 6640.411861809423, 4349.017096425068, 29673.56449650973, 9503.730777958495, 4067.500047205748, 25091.859608315604, 73410.80112754917, 30578.572598213887, 65699.8324925106, 80534.45171352786, 16005.209527768406, 86996.37810261064, 80803.02430523981, 56367.6453896252, 19675.023911736665, 6119.285824000488, 41744.782060581725, 40430.13331105424, 52844.842148811615, 22381.673026850876, 6827.877079343163, 32133.694570581447, 82822.14136454414, 79348.81712166812, 8951.316680616188, 85009.78862537871, 4162.2856361852255, 33880.909913883945, 15216.509862723648, 13876.078020011726, 17292.127972502018, 70583.4807799674, 3350.1645458149246, 5627.793110230975, 24554.12811210833, 12703.668581564827, 8344.272807979438, 80137.1689330468, 65963.77195589899, 77712.71881542233, 48484.23570580561, 5072.656912539515, 21674.612031935783, 55193.205708264344, 9036.046049475637, 45498.04162975632, 42005.05723432648, 39989.98103019051, 61458.92259308879, 75302.0459671835, 76806.23893737241, 75541.33410142064, 20032.989169463664, 15961.46816448392, 63461.178599911276, 23831.603927778735, 73438.55419519293, 35230.751580256285, 19684.84187661755, 14121.272975851934, 10492.872862176555, 11306.436426714838, 11426.60318799843, 9630.36991410636, 6444.665968541579, 24334.25538905387, 11410.068652502016, 19013.11536241012, 8948.027613213673, 13502.089826410771, 44262.78116983048, 18652.174886664325, 77842.57576763799, 7667.695307095944, 76963.1163075428, 22808.731510967384, 74519.3638868985, 31061.41705255208, 7584.451093859001, 23274.26292102494, 86975.81296132477, 60635.98060426179, 4380.833904736815, 11525.43047994123, 64941.79602794934, 9149.604068610231, 56538.16874341844], \"y\": [14080.906244163813, 62171.02858158986, 10069.681393825798, 21686.227351243844, 62406.16151084452, 81236.12506573378, 6544.891654236751, 19983.35851932911, 97094.77328592434, 79599.72508760824, 7655.1542750100625, 61787.166075981186, 51921.11949115551, 20450.385515798156, 16827.301464980646, 24995.09951848664, 11646.892511228882, 18257.567113186036, 19642.66005947227, 4352.630276762186, 6493.632155227304, 4434.119693581751, 22783.247016099853, 9270.900221215676, 4591.857751125515, 22296.113174939514, 69858.85669797212, 28923.927350364902, 66906.7843929701, 80594.84112537971, 12524.475308064588, 97146.07982418017, 87294.76641348175, 64327.02471780677, 15550.69640617728, 5704.922092785137, 47574.41490228566, 38008.82335043427, 53456.525261475945, 22574.96999921783, 6302.041385702834, 33036.91400366863, 85136.04098312196, 80141.41081321923, 9756.741518034885, 78083.05330271024, 3704.8442320375116, 36005.34284491301, 14602.905032920971, 13562.513204565745, 12058.495469001075, 70951.59816756994, 3541.085267531877, 5796.823227445543, 25017.193887681522, 13292.319610040191, 9001.68472925798, 82476.98695582223, 86985.4679673737, 79194.48968999485, 50796.15533632932, 4485.39754888479, 21374.08137264709, 55426.47039120074, 8588.7691737707, 56615.17061593355, 43828.29552882089, 28413.905327303855, 43555.05880813497, 77608.80194446785, 80110.99811002497, 105519.40290461719, 28959.077824655647, 22573.41270203078, 63666.80597741681, 44066.73244164869, 79184.1497626587, 51181.48745818271, 14085.236040237636, 15180.194597290485, 10299.620786806592, 11019.151595054433, 9738.246940210045, 8767.052032429392, 6531.216691575457, 23312.382459286484, 12715.69117798338, 18403.289794331024, 9003.757416804818, 14752.782761822085, 46767.61751053777, 24576.99222815581, 58035.01453265984, 12590.605913158952, 81736.90856511833, 24105.703609191503, 75985.47971573276, 23049.194191334915, 7366.684021444237, 24412.601044939234, 132563.10185257258, 60320.841941991945, 4278.153041080739, 11276.148023731856, 72679.61365152865, 11347.706991310164, 63418.96144138141]}, {\"hovertemplate\": \"%{x:0.3f}, %{y:0.3f}\", \"marker\": {\"color\": \"#2ca02c\", \"line\": {\"width\": 1}, \"size\": 14}, \"mode\": \"markers\", \"name\": \"2011\", \"type\": \"scatter\", \"x\": [14997.78954749053, 15291.262582779787, 17043.493208499844, 2523.7983376888337, 15677.47166044147, 17869.539368077072, 1746.7162980227317, 19868.68745671428, 1076.228147585618], \"y\": [13394.804724703941, 15673.658876525025, 16603.915710446323, 2781.6545687827966, 15053.385362156338, 19046.99892664078, 1832.7711781603878, 19419.11603448095, 340.79725033422176]}, {\"hovertemplate\": \"%{x:0.3f}, %{y:0.3f}\", \"marker\": {\"color\": \"#d62728\", \"line\": {\"width\": 1}, \"size\": 14}, \"mode\": \"markers\", \"name\": \"2012\", \"type\": \"scatter\", \"x\": [12122.424511023703, 6456.27579276041, 16130.178781169525, 15085.224911193463, 3673.4333462094087, 8280.438367904411, 32795.53503555821, 14166.06566327492, 13875.171506037826, 6946.90432357302, 2564.982449923113, 16811.695023108605, 12449.995480114758, 5531.02785623472, 23794.741377539554, 16225.721041391871, 8487.049018816118, 7266.177275813694, 17726.352009923998, 13293.463666423551, 1817.611035632038, 9795.194916846965, 19606.436026491916, 1513.7535597198428, 19161.2166823692, 8801.735137201393, 22346.69328874194, 8043.957317300389, 15506.259215521497], \"y\": [13331.298548951934, 7402.014413937651, 8938.238654750789, 13054.708975790063, 4199.517484558967, 9536.249031036708, 31313.336125831294, 13735.185699200933, 15533.394448027502, 8434.25498357356, 2480.3871064269547, 15905.019896016698, 13277.557711793876, 4797.4853846047645, 21586.543844140804, 21722.462444476332, 9823.752480771103, 8262.08885022317, 20411.85031404537, 12810.821473751135, 2651.5442571867397, 10174.08038000686, 20778.78679008242, 717.2367179856898, 10633.640017728365, 8284.191099175901, 39603.69882480473, 13742.13381231093, 17488.32782195547]}, {\"hovertemplate\": \"%{x:0.3f}, %{y:0.3f}\", \"marker\": {\"color\": \"#9467bd\", \"line\": {\"width\": 1}, \"size\": 14}, \"mode\": \"markers\", \"name\": \"2013\", \"type\": \"scatter\", \"x\": [15102.145260064033, 15037.697671232878, 3665.4998960793578, 2490.3457239971012, 5603.78842117102, 15372.719782711385, 17612.591702544032, 17382.1763281373, 1739.7917314539077, 4341.678351965569, 18814.096759240514, 1100.3903892150468, 8854.49618817684], \"y\": [13228.88904694238, 14264.798519485514, 3107.462096408732, 2501.296579293434, 5966.278125265472, 14181.872257231826, 16487.811434446638, 16328.94445007358, 1714.88696012614, 5261.540455559946, 17824.07850495081, 1570.658672089431, 6833.7214782676765]}, {\"hovertemplate\": \"%{x:0.3f}, %{y:0.3f}\", \"marker\": {\"color\": \"#8c564b\", \"line\": {\"width\": 1}, \"size\": 14}, \"mode\": \"markers\", \"name\": \"2014\", \"type\": \"scatter\", \"x\": [12760.622579121398, 14946.546014800819, 3610.743744292238, 2329.2785458108083, 5657.709132420092, 14272.475314498655, 17319.459874035587, 1584.94106527406, 18586.336687135885, 1107.0032348182726], \"y\": [15531.800188684982, 17419.233948837966, 4383.901330918529, 2791.225251359003, 9391.528503038831, 14953.673420486915, 11835.288795044582, 1697.4653880118974, 12342.46871299645, 1418.3885823312944]}, {\"hovertemplate\": \"%{x:0.3f}, %{y:0.3f}\", \"marker\": {\"color\": \"#e377c2\", \"line\": {\"width\": 1}, \"size\": 14}, \"mode\": \"markers\", \"name\": \"2015\", \"type\": \"scatter\", \"x\": [13025.188062731228, 54092.21641704718, 4752.054240340868, 14029.143693906475, 44503.244295586235, 45184.180866705945, 14784.653280893412, 5280.982156782363, 16004.157421433343, 4026.95057312204, 16736.72390166163, 21399.258249116123, 17507.588993042362, 7608.62678426732, 67671.81863827101, 6976.453876543033, 72784.43025066845, 2149.2504887987566, 72502.09468558192, 8143.520062927568, 16021.068682097306, 77299.7344574856, 4765.604302216203, 70500.40606522319, 66373.48038728155, 8888.472813855613, 1718.2410662508892, 17861.679841113066, 30724.841253154143, 46956.50295756965, 24289.420157800065, 54557.826407719826, 15486.917195479007, 10194.042146028747, 9408.49625582023, 1151.112911352543, 6679.129196651287, 6484.342899262018, 10943.55175334468, 36360.82872367504, 17089.591485859888, 54795.58976704318, 54199.26003096565, 10886.13818428678, 8079.613078399825], \"y\": [10770.92076106809, 61499.50143419774, 4795.678230838687, 17807.374083108218, 35568.38571031144, 42446.363335057154, 15992.403619890527, 3430.4838841390774, 19020.6705176692, 3927.4209135515466, 20947.844422799477, 29287.008367794304, 20464.714211570263, 11312.540838402407, 76869.81672821514, 6994.243158921636, 72388.83506956461, 2232.5091945272907, 71025.80042092844, 8836.842280268782, 14668.896079592936, 54181.09297599576, 4795.694205194177, 56377.9396684025, 51781.07197484136, 7801.469427884935, 1702.3745468897673, 15046.358092923218, 23365.6959952151, 38590.13956676611, 31306.64541638718, 50828.42973760264, 25624.468309224863, 8474.26855391045, 11287.954694700198, 695.6198766684845, 9905.286122336442, 6426.56656961929, 11148.58438887786, 34457.752292827325, 18880.775100794795, 63663.76604346029, 50796.36626565329, 9895.998461827685, 7229.210838022227]}, {\"hovertemplate\": \"%{x:0.3f}, %{y:0.3f}\", \"marker\": {\"color\": \"#7f7f7f\", \"line\": {\"width\": 1}, \"size\": 14}, \"mode\": \"markers\", \"name\": \"2016\", \"type\": \"scatter\", \"x\": [31232.03253648905, 60856.943590981275, 66361.43174968039, 5535.951839287525, 62249.43295647431, 15429.644725541611, 58614.205398740596, 17374.560905151004, 4344.53516409976, 6357.27981465711, 9066.866750750156, 12718.523885631672, 4563.775167137052, 13632.425062614913, 70326.47856103058, 12220.068681624487, 22777.14571149652, 17917.129834403553, 11154.323909597966, 48429.082869038284, 64882.736825728134, 79819.77187622128, 2556.034248867213, 95106.14518001657, 81854.5751331586, 8877.454483423537, 80808.50501811485, 4162.106561234131, 74771.76844622001, 85325.92735086565, 7491.912099031783, 5384.233520909197, 77574.6388921176, 76680.22009843627, 46161.95702305582, 41868.59492876478, 27450.00573146647, 14324.55746690547, 15681.28236216983, 70411.87673020888, 18812.64368150065, 11132.340088922918, 21186.53062238622, 1214.887861876526, 12146.73160537095, 9837.18261626057, 7977.470953967234, 4524.573395433636, 17050.650724944455, 20258.75867441858, 67789.75483334762, 56502.02694014107, 10222.789469466303], \"y\": [21598.028328494693, 290722.3006416916, 2027663.8214426916, 4603.092432360706, 69001.26520848417, 12307.323771336267, 40766.502055682286, 17033.179522961596, 2646.8322928119105, 6377.538981101594, 7843.765892039163, 22528.371334779215, 4810.924311487108, 11510.710404187967, 110004.84634379907, 56835.11634882722, 23640.227033355408, 21003.957714781416, 11574.965122418183, 46665.800853871246, 73074.97007299255, 44774.178650499925, 1939.6748169791322, 103904.536394021, 69259.79586602499, 7397.487539910412, 81793.54741375775, 5375.476923023433, 81400.43780503159, 56748.68194359863, 43252.22635978115, 3556.9609561213056, 62834.94007642392, 73323.56558729433, 43553.055191840045, 6119.631059967659, 17123.155795866816, 38053.89554953721, 6339.094397428827, 81838.58103736106, 34809.62223711241, 7317.005354629594, 21403.918071716405, 1031.699139029443, 11399.65893591655, 12333.631713602226, 6244.4725708261685, 5533.636029534398, 28658.433493822817, 19159.340137035604, 136402.4555581068, 103220.62794234719, 23311.120192094084]}, {\"hovertemplate\": \"%{x:0.3f}, %{y:0.3f}\", \"marker\": {\"color\": \"#bcbd22\", \"line\": {\"width\": 1}, \"size\": 14}, \"mode\": \"markers\", \"name\": \"2017\", \"type\": \"scatter\", \"x\": [27291.227204465402, 75590.15055209106, 84970.3931884344, 65737.97442569387, 15252.134009265044, 62387.955748594584, 9513.11971264637, 9640.698061042336, 9397.684790938954, 18257.93560655336, 9651.320306685178, 5146.237359500996, 73598.64391726807, 12543.328491040786, 24458.227479590052, 21178.270322993794, 8116.776474268182, 43621.80456517726, 11244.76458063908, 98187.33176009626, 7166.009088488271, 81497.99518442636, 76149.17861888098, 40663.8047038385, 30279.995750202102, 13000.177858025389, 73584.34273936834, 18307.355536994186, 21136.083089804855, 1148.5228869922566, 11281.854323233943, 11507.338664458319, 14908.302384967998, 72839.3124783649, 66973.17701196487, 35105.97125649809], \"y\": [23864.488538000638, 97384.96833715348, 58661.40012366518, 93008.48480572582, 19619.52761717973, 68461.10378183969, 13785.95493612798, 13935.879508164022, 13401.424273157692, 19077.91186871726, 10761.304103022812, 5430.558363066213, 67552.13247776651, 9422.023852483084, 23540.99613776378, 22886.235497311296, 8351.507951429994, 44534.363374839944, 16819.90123283363, 115202.37028239205, 9014.01359485623, 82840.68941624807, 77975.58060334677, 52652.86399820119, 29837.994449024027, 7626.345451180564, 74131.34632253104, 27200.460525261104, 23718.106044115164, 810.8161102129304, 12586.872083352651, 10907.97194889673, 21252.100761339654, 67654.02351401302, 59094.99561002972, 30350.521137556854]}],\n",
       "                        {\"height\": 600, \"hovermode\": \"closest\", \"showlegend\": true, \"template\": {\"data\": {\"bar\": [{\"error_x\": {\"color\": \"#2a3f5f\"}, \"error_y\": {\"color\": \"#2a3f5f\"}, \"marker\": {\"line\": {\"color\": \"#E5ECF6\", \"width\": 0.5}}, \"type\": \"bar\"}], \"barpolar\": [{\"marker\": {\"line\": {\"color\": \"#E5ECF6\", \"width\": 0.5}}, \"type\": \"barpolar\"}], \"carpet\": [{\"aaxis\": {\"endlinecolor\": \"#2a3f5f\", \"gridcolor\": \"white\", \"linecolor\": \"white\", \"minorgridcolor\": \"white\", \"startlinecolor\": \"#2a3f5f\"}, \"baxis\": {\"endlinecolor\": \"#2a3f5f\", \"gridcolor\": \"white\", \"linecolor\": \"white\", \"minorgridcolor\": \"white\", \"startlinecolor\": \"#2a3f5f\"}, \"type\": \"carpet\"}], \"choropleth\": [{\"colorbar\": {\"outlinewidth\": 0, \"ticks\": \"\"}, \"type\": \"choropleth\"}], \"contour\": [{\"colorbar\": {\"outlinewidth\": 0, \"ticks\": \"\"}, \"colorscale\": [[0.0, \"#0d0887\"], [0.1111111111111111, \"#46039f\"], [0.2222222222222222, \"#7201a8\"], [0.3333333333333333, \"#9c179e\"], [0.4444444444444444, \"#bd3786\"], [0.5555555555555556, \"#d8576b\"], [0.6666666666666666, \"#ed7953\"], [0.7777777777777778, \"#fb9f3a\"], [0.8888888888888888, \"#fdca26\"], [1.0, \"#f0f921\"]], \"type\": \"contour\"}], \"contourcarpet\": [{\"colorbar\": {\"outlinewidth\": 0, \"ticks\": \"\"}, \"type\": \"contourcarpet\"}], \"heatmap\": [{\"colorbar\": {\"outlinewidth\": 0, \"ticks\": \"\"}, \"colorscale\": [[0.0, \"#0d0887\"], [0.1111111111111111, \"#46039f\"], [0.2222222222222222, \"#7201a8\"], [0.3333333333333333, \"#9c179e\"], [0.4444444444444444, \"#bd3786\"], [0.5555555555555556, \"#d8576b\"], [0.6666666666666666, \"#ed7953\"], [0.7777777777777778, \"#fb9f3a\"], [0.8888888888888888, \"#fdca26\"], [1.0, \"#f0f921\"]], \"type\": \"heatmap\"}], \"heatmapgl\": [{\"colorbar\": {\"outlinewidth\": 0, \"ticks\": \"\"}, \"colorscale\": [[0.0, \"#0d0887\"], [0.1111111111111111, \"#46039f\"], [0.2222222222222222, \"#7201a8\"], [0.3333333333333333, \"#9c179e\"], [0.4444444444444444, \"#bd3786\"], [0.5555555555555556, \"#d8576b\"], [0.6666666666666666, \"#ed7953\"], [0.7777777777777778, \"#fb9f3a\"], [0.8888888888888888, \"#fdca26\"], [1.0, \"#f0f921\"]], \"type\": \"heatmapgl\"}], \"histogram\": [{\"marker\": {\"colorbar\": {\"outlinewidth\": 0, \"ticks\": \"\"}}, \"type\": \"histogram\"}], \"histogram2d\": [{\"colorbar\": {\"outlinewidth\": 0, \"ticks\": \"\"}, \"colorscale\": [[0.0, \"#0d0887\"], [0.1111111111111111, \"#46039f\"], [0.2222222222222222, \"#7201a8\"], [0.3333333333333333, \"#9c179e\"], [0.4444444444444444, \"#bd3786\"], [0.5555555555555556, \"#d8576b\"], [0.6666666666666666, \"#ed7953\"], [0.7777777777777778, \"#fb9f3a\"], [0.8888888888888888, \"#fdca26\"], [1.0, \"#f0f921\"]], \"type\": \"histogram2d\"}], \"histogram2dcontour\": [{\"colorbar\": {\"outlinewidth\": 0, \"ticks\": \"\"}, \"colorscale\": [[0.0, \"#0d0887\"], [0.1111111111111111, \"#46039f\"], [0.2222222222222222, \"#7201a8\"], [0.3333333333333333, \"#9c179e\"], [0.4444444444444444, \"#bd3786\"], [0.5555555555555556, \"#d8576b\"], [0.6666666666666666, \"#ed7953\"], [0.7777777777777778, \"#fb9f3a\"], [0.8888888888888888, \"#fdca26\"], [1.0, \"#f0f921\"]], \"type\": \"histogram2dcontour\"}], \"mesh3d\": [{\"colorbar\": {\"outlinewidth\": 0, \"ticks\": \"\"}, \"type\": \"mesh3d\"}], \"parcoords\": [{\"line\": {\"colorbar\": {\"outlinewidth\": 0, \"ticks\": \"\"}}, \"type\": \"parcoords\"}], \"scatter\": [{\"marker\": {\"colorbar\": {\"outlinewidth\": 0, \"ticks\": \"\"}}, \"type\": \"scatter\"}], \"scatter3d\": [{\"line\": {\"colorbar\": {\"outlinewidth\": 0, \"ticks\": \"\"}}, \"marker\": {\"colorbar\": {\"outlinewidth\": 0, \"ticks\": \"\"}}, \"type\": \"scatter3d\"}], \"scattercarpet\": [{\"marker\": {\"colorbar\": {\"outlinewidth\": 0, \"ticks\": \"\"}}, \"type\": \"scattercarpet\"}], \"scattergeo\": [{\"marker\": {\"colorbar\": {\"outlinewidth\": 0, \"ticks\": \"\"}}, \"type\": \"scattergeo\"}], \"scattergl\": [{\"marker\": {\"colorbar\": {\"outlinewidth\": 0, \"ticks\": \"\"}}, \"type\": \"scattergl\"}], \"scattermapbox\": [{\"marker\": {\"colorbar\": {\"outlinewidth\": 0, \"ticks\": \"\"}}, \"type\": \"scattermapbox\"}], \"scatterpolar\": [{\"marker\": {\"colorbar\": {\"outlinewidth\": 0, \"ticks\": \"\"}}, \"type\": \"scatterpolar\"}], \"scatterpolargl\": [{\"marker\": {\"colorbar\": {\"outlinewidth\": 0, \"ticks\": \"\"}}, \"type\": \"scatterpolargl\"}], \"scatterternary\": [{\"marker\": {\"colorbar\": {\"outlinewidth\": 0, \"ticks\": \"\"}}, \"type\": \"scatterternary\"}], \"surface\": [{\"colorbar\": {\"outlinewidth\": 0, \"ticks\": \"\"}, \"colorscale\": [[0.0, \"#0d0887\"], [0.1111111111111111, \"#46039f\"], [0.2222222222222222, \"#7201a8\"], [0.3333333333333333, \"#9c179e\"], [0.4444444444444444, \"#bd3786\"], [0.5555555555555556, \"#d8576b\"], [0.6666666666666666, \"#ed7953\"], [0.7777777777777778, \"#fb9f3a\"], [0.8888888888888888, \"#fdca26\"], [1.0, \"#f0f921\"]], \"type\": \"surface\"}], \"table\": [{\"cells\": {\"fill\": {\"color\": \"#EBF0F8\"}, \"line\": {\"color\": \"white\"}}, \"header\": {\"fill\": {\"color\": \"#C8D4E3\"}, \"line\": {\"color\": \"white\"}}, \"type\": \"table\"}]}, \"layout\": {\"annotationdefaults\": {\"arrowcolor\": \"#2a3f5f\", \"arrowhead\": 0, \"arrowwidth\": 1}, \"colorscale\": {\"diverging\": [[0, \"#8e0152\"], [0.1, \"#c51b7d\"], [0.2, \"#de77ae\"], [0.3, \"#f1b6da\"], [0.4, \"#fde0ef\"], [0.5, \"#f7f7f7\"], [0.6, \"#e6f5d0\"], [0.7, \"#b8e186\"], [0.8, \"#7fbc41\"], [0.9, \"#4d9221\"], [1, \"#276419\"]], \"sequential\": [[0.0, \"#0d0887\"], [0.1111111111111111, \"#46039f\"], [0.2222222222222222, \"#7201a8\"], [0.3333333333333333, \"#9c179e\"], [0.4444444444444444, \"#bd3786\"], [0.5555555555555556, \"#d8576b\"], [0.6666666666666666, \"#ed7953\"], [0.7777777777777778, \"#fb9f3a\"], [0.8888888888888888, \"#fdca26\"], [1.0, \"#f0f921\"]], \"sequentialminus\": [[0.0, \"#0d0887\"], [0.1111111111111111, \"#46039f\"], [0.2222222222222222, \"#7201a8\"], [0.3333333333333333, \"#9c179e\"], [0.4444444444444444, \"#bd3786\"], [0.5555555555555556, \"#d8576b\"], [0.6666666666666666, \"#ed7953\"], [0.7777777777777778, \"#fb9f3a\"], [0.8888888888888888, \"#fdca26\"], [1.0, \"#f0f921\"]]}, \"colorway\": [\"#636efa\", \"#EF553B\", \"#00cc96\", \"#ab63fa\", \"#FFA15A\", \"#19d3f3\", \"#FF6692\", \"#B6E880\", \"#FF97FF\", \"#FECB52\"], \"font\": {\"color\": \"#2a3f5f\"}, \"geo\": {\"bgcolor\": \"white\", \"lakecolor\": \"white\", \"landcolor\": \"#E5ECF6\", \"showlakes\": true, \"showland\": true, \"subunitcolor\": \"white\"}, \"hoverlabel\": {\"align\": \"left\"}, \"hovermode\": \"closest\", \"mapbox\": {\"style\": \"light\"}, \"paper_bgcolor\": \"white\", \"plot_bgcolor\": \"#E5ECF6\", \"polar\": {\"angularaxis\": {\"gridcolor\": \"white\", \"linecolor\": \"white\", \"ticks\": \"\"}, \"bgcolor\": \"#E5ECF6\", \"radialaxis\": {\"gridcolor\": \"white\", \"linecolor\": \"white\", \"ticks\": \"\"}}, \"scene\": {\"xaxis\": {\"backgroundcolor\": \"#E5ECF6\", \"gridcolor\": \"white\", \"gridwidth\": 2, \"linecolor\": \"white\", \"showbackground\": true, \"ticks\": \"\", \"zerolinecolor\": \"white\"}, \"yaxis\": {\"backgroundcolor\": \"#E5ECF6\", \"gridcolor\": \"white\", \"gridwidth\": 2, \"linecolor\": \"white\", \"showbackground\": true, \"ticks\": \"\", \"zerolinecolor\": \"white\"}, \"zaxis\": {\"backgroundcolor\": \"#E5ECF6\", \"gridcolor\": \"white\", \"gridwidth\": 2, \"linecolor\": \"white\", \"showbackground\": true, \"ticks\": \"\", \"zerolinecolor\": \"white\"}}, \"shapedefaults\": {\"line\": {\"color\": \"#2a3f5f\"}}, \"ternary\": {\"aaxis\": {\"gridcolor\": \"white\", \"linecolor\": \"white\", \"ticks\": \"\"}, \"baxis\": {\"gridcolor\": \"white\", \"linecolor\": \"white\", \"ticks\": \"\"}, \"bgcolor\": \"#E5ECF6\", \"caxis\": {\"gridcolor\": \"white\", \"linecolor\": \"white\", \"ticks\": \"\"}}, \"title\": {\"x\": 0.05}, \"xaxis\": {\"automargin\": true, \"gridcolor\": \"white\", \"linecolor\": \"white\", \"ticks\": \"\", \"zerolinecolor\": \"white\", \"zerolinewidth\": 2}, \"yaxis\": {\"automargin\": true, \"gridcolor\": \"white\", \"linecolor\": \"white\", \"ticks\": \"\", \"zerolinecolor\": \"white\", \"zerolinewidth\": 2}}}, \"title\": {\"text\": \"CountMatch Default\"}, \"width\": 900, \"xaxis\": {\"gridwidth\": 2, \"ticklen\": 1000, \"title\": {\"text\": \"Ground Truth\"}, \"zeroline\": false}, \"yaxis\": {\"gridwidth\": 2, \"ticklen\": 1000, \"title\": {\"text\": \"Typical Prediction\"}}},\n",
       "                        {\"responsive\": true}\n",
       "                    ).then(function(){\n",
       "                            \n",
       "var gd = document.getElementById('78e59979-2fc3-4089-b2a1-dad8f3cd25db');\n",
       "var x = new MutationObserver(function (mutations, observer) {{\n",
       "        var display = window.getComputedStyle(gd).display;\n",
       "        if (!display || display === 'none') {{\n",
       "            console.log([gd, 'removed!']);\n",
       "            Plotly.purge(gd);\n",
       "            observer.disconnect();\n",
       "        }}\n",
       "}});\n",
       "\n",
       "// Listen for the removal of the full notebook cells\n",
       "var notebookContainer = gd.closest('#notebook-container');\n",
       "if (notebookContainer) {{\n",
       "    x.observe(notebookContainer, {childList: true});\n",
       "}}\n",
       "\n",
       "// Listen for the clearing of the current output cell\n",
       "var outputEl = gd.closest('.output');\n",
       "if (outputEl) {{\n",
       "    x.observe(outputEl, {childList: true});\n",
       "}}\n",
       "\n",
       "                        })\n",
       "                };\n",
       "                });\n",
       "            </script>\n",
       "        </div>"
      ]
     },
     "metadata": {},
     "output_type": "display_data"
    }
   ],
   "source": [
    "make_ploty_scatter(cm_aadt, 'CountMatch Default')"
   ]
  },
  {
   "cell_type": "code",
   "execution_count": 59,
   "metadata": {
    "scrolled": true
   },
   "outputs": [
    {
     "data": {
      "text/html": [
       "\n",
       "<style>\n",
       "\n",
       ".kydbox {\n",
       "  border-style: solid;\n",
       "  border-color: #CCCCCC;\n",
       "  border-width: 2px;\n",
       "  margin: 10px;\n",
       "  padding: 5px;\n",
       "  font-family: sans-serif;\n",
       "  font-size: 10pt;\n",
       "}\n",
       "\n",
       ".kydfloatboxleft {\n",
       "  margin: 5px;\n",
       "  padding-left: 10px;\n",
       "  float: left;\n",
       "  border-right-width: 2px;\n",
       "  border-right-style: solid;\n",
       "  border-right-color: #CCCCCC;\n",
       "  padding-right: 15px;\n",
       "  margin-right: 15px;\n",
       "}\n",
       "\n",
       ".kydfloatboxright {\n",
       "  margin: 5px;\n",
       "  padding-right: 10px;\n",
       "  float: right;\n",
       "}\n",
       "\n",
       ".kydsubtitle {\n",
       "  font-size: 10pt;\n",
       "  font-weight: bold;\n",
       "  margin-top: 5px;\n",
       "  margin-bottom: 5px;\n",
       "}\n",
       "\n",
       ".kydpropertylabel {\n",
       "  font-weight: bold;\n",
       "}\n",
       "\n",
       "td.kydpropertylabel {\n",
       "  text-align: right;\n",
       "}\n",
       "\n",
       "table.kydbasic_stats,\n",
       "table.kydarray_structure {\n",
       "  padding-top: 0px;\n",
       "}\n",
       "\n",
       "table.kydbasic_stats td,\n",
       "table.kydarray_structure td {\n",
       "  padding: 3px 10px 3px 10px;\n",
       "}\n",
       "\n",
       ".kydbottomborder {\n",
       "  border-bottom-width:2px;\n",
       "  border-bottom-style:solid;\n",
       "  border-bottom-color:#CCCCCC;\n",
       "}\n",
       "\n",
       "</style>\n",
       "\n",
       "<div class=\"kydbox\" , style=\"float:left\">\n",
       "\n",
       "  <div class=\"kydfloatboxleft\">\n",
       "    <div class=\"kydsubtitle\">Basic Statistics</div>\n",
       "\n",
       "    <span class='kydpropertylabel'>Mean:</span>\n",
       "    0.3007\n",
       "    &nbsp;&nbsp;&nbsp;&nbsp;\n",
       "    <span class='kydpropertylabel'>Std Dev:</span>\n",
       "    0.5981\n",
       "\n",
       "    <table class=\"kydbasic_stats\">\n",
       "      <tr>\n",
       "        <td class='kydpropertylabel'>Min:</td>\n",
       "        <td>0.03461</td>\n",
       "        <td class='kydpropertylabel'>-99% CI:</td>\n",
       "        <td>0.03786</td>\n",
       "      </tr>\n",
       "      <tr>\n",
       "        <td class='kydpropertylabel'>1Q:</td>\n",
       "        <td>0.1023</td>\n",
       "        <td class='kydpropertylabel'>-95% CI:</td>\n",
       "        <td>0.05209</td>\n",
       "      </tr>\n",
       "      <tr>\n",
       "        <td class='kydpropertylabel'>Median:</td>\n",
       "        <td>0.155</td>\n",
       "        <td class='kydpropertylabel'>-68% CI:</td>\n",
       "        <td>0.08755</td>\n",
       "      </tr>\n",
       "      <tr>\n",
       "        <td class='kydpropertylabel'>3Q:</td>\n",
       "        <td>0.2624</td>\n",
       "        <td class='kydpropertylabel'>+68% CI:</td>\n",
       "        <td>0.3565</td>\n",
       "      </tr>\n",
       "      <tr>\n",
       "        <td class='kydpropertylabel'>Max:</td>\n",
       "        <td>6.863</td>\n",
       "        <td class='kydpropertylabel'>+95% CI:</td>\n",
       "        <td>1.479</td>\n",
       "      </tr>\n",
       "      <tr>\n",
       "        <td>&nbsp;</td>\n",
       "        <td>&nbsp;</td>\n",
       "        <td class='kydpropertylabel'>+99% CI:</td>\n",
       "        <td>4.247</td>\n",
       "      </tr>\n",
       "\n",
       "    </table>\n",
       "  </div>\n",
       "\n",
       "  <div class=\"kydfloatboxright\">\n",
       "    <div class=\"kydsubtitle\">Array Structure</div>\n",
       "    <table class=\"kydarray_structure\">\n",
       "      <tr>\n",
       "        <td class='kydpropertylabel'>Number of Dimensions:</td>\n",
       "        <td>1</td>\n",
       "      </tr>\n",
       "      <tr>\n",
       "        <td class='kydpropertylabel'>Shape of Dimensions:</td>\n",
       "        <td>(303,)</td>\n",
       "      </tr>\n",
       "      <tr>\n",
       "        <td class='kydpropertylabel'>Array Data Type:</td>\n",
       "        <td>float64</td>\n",
       "      </tr>\n",
       "      <tr>\n",
       "        <td class='kydpropertylabel'>Memory Size:</td>\n",
       "        <td>2.5KiB</td>\n",
       "      </tr>\n",
       "      <tr>\n",
       "        <td class='kydpropertylabel'>Number of NaN:</td>\n",
       "        <td>0</td>\n",
       "      </tr>\n",
       "      <tr>\n",
       "        <td class='kydpropertylabel'>Number of Inf:</td>\n",
       "        <td>0</td>\n",
       "      </tr>\n",
       "\n",
       "    </table>\n",
       "  </div>\n",
       "\n",
       "</div>\n"
      ],
      "text/plain": [
       "\n",
       "| Basic Statistics                                          | Array Structure              \t|\n",
       "|                                                           |                              \t|\n",
       "|    Mean:         Min:   0.03461     -99 CI:   0.03786     | Number of Dimensions:   1    \t|\n",
       "|    0.3007         1Q:   0.1023      -95 CI:   0.05209     | Shape of Dimensions:    (303,)\t|\n",
       "|               Median:   0.155       -68 CI:   0.08755     | Array Data Type:        float64\t|\n",
       "|   Std Dev:        3Q:   0.2624      +68 CI:   0.3565      | Memory Size:            2.5KiB\t|\n",
       "|    0.5981        Max:   6.863       +95 CI:   1.479       |                              \t|\n",
       "|                                     +99 CI:   4.247       | Number of NaN:  0            \t|\n",
       "|                                                           | Number of Inf:  0            \t|\n"
      ]
     },
     "metadata": {},
     "output_type": "display_data"
    }
   ],
   "source": [
    "check_mape(cm_aadt)"
   ]
  },
  {
   "cell_type": "code",
   "execution_count": 79,
   "metadata": {},
   "outputs": [
    {
     "data": {
      "text/plain": [
       "'Slope: 0.2593844577203524'"
      ]
     },
     "execution_count": 79,
     "metadata": {},
     "output_type": "execute_result"
    }
   ],
   "source": [
    "linear_fit(cm_aadt)"
   ]
  },
  {
   "cell_type": "markdown",
   "metadata": {},
   "source": [
    "### CountMatch Default with Global Growth Rate"
   ]
  },
  {
   "cell_type": "code",
   "execution_count": 64,
   "metadata": {},
   "outputs": [
    {
     "data": {
      "application/vnd.plotly.v1+json": {
       "config": {
        "linkText": "Export to plot.ly",
        "plotlyServerURL": "https://plot.ly",
        "showLink": false
       },
       "data": [
        {
         "hovertemplate": "%{x:0.3f}, %{y:0.3f}",
         "marker": {
          "color": "#1f77b4",
          "line": {
           "width": 1
          },
          "size": 14
         },
         "mode": "markers",
         "name": "2006",
         "type": "scatter",
         "x": [
          1062.7846825679437
         ],
         "y": [
          425.3243530326377
         ]
        },
        {
         "hovertemplate": "%{x:0.3f}, %{y:0.3f}",
         "marker": {
          "color": "#ff7f0e",
          "line": {
           "width": 1
          },
          "size": 14
         },
         "mode": "markers",
         "name": "2010",
         "type": "scatter",
         "x": [
          15255.520320454854,
          55196.733806100536,
          8245.02643178383,
          29127.998506404634,
          61641.049747671146,
          75440.99990165087,
          6662.478466803338,
          18725.636255852212,
          83486.95739560948,
          80197.74419072465,
          7226.875264658771,
          58021.08437105056,
          53625.34702047268,
          19307.867796457664,
          18739.428061618746,
          25662.300544796093,
          9526.935479277297,
          17953.196473929424,
          16986.55734146219,
          4022.0163578674888,
          6640.411861809423,
          4349.017096425068,
          29673.56449650973,
          9503.730777958495,
          4067.500047205748,
          25091.859608315604,
          73410.80112754917,
          30578.572598213887,
          65699.8324925106,
          80534.45171352786,
          16005.209527768406,
          86996.37810261064,
          80803.02430523981,
          56367.6453896252,
          19675.023911736665,
          6119.285824000488,
          41744.782060581725,
          40430.13331105424,
          52844.842148811615,
          22381.673026850876,
          6827.877079343163,
          32133.694570581447,
          82822.14136454414,
          79348.81712166812,
          8951.316680616188,
          85009.78862537871,
          4162.2856361852255,
          33880.909913883945,
          15216.509862723648,
          13876.078020011726,
          17292.127972502018,
          70583.4807799674,
          3350.1645458149246,
          5627.793110230975,
          24554.12811210833,
          12703.668581564827,
          8344.272807979438,
          80137.1689330468,
          65963.77195589899,
          77712.71881542233,
          48484.23570580561,
          5072.656912539515,
          21674.612031935783,
          55193.205708264344,
          9036.046049475637,
          45498.04162975632,
          42005.05723432648,
          39989.98103019051,
          61458.92259308879,
          75302.0459671835,
          76806.23893737241,
          75541.33410142064,
          20032.989169463664,
          15961.46816448392,
          63461.178599911276,
          23831.603927778735,
          73438.55419519293,
          35230.751580256285,
          19684.84187661755,
          14121.272975851934,
          10492.872862176555,
          11306.436426714838,
          11426.60318799843,
          9630.36991410636,
          6444.665968541579,
          24334.25538905387,
          11410.068652502016,
          19013.11536241012,
          8948.027613213673,
          13502.089826410771,
          44262.78116983048,
          18652.174886664325,
          77842.57576763799,
          7667.695307095944,
          76963.1163075428,
          22808.731510967384,
          74519.3638868985,
          31061.41705255208,
          7584.451093859001,
          23274.26292102494,
          86975.81296132477,
          60635.98060426179,
          4380.833904736815,
          11525.43047994123,
          64941.79602794934,
          9149.604068610231,
          56538.16874341844
         ],
         "y": [
          15102.309369252094,
          48621.26781619419,
          8664.142977296577,
          24705.83118139801,
          62957.73621481386,
          88222.39547937679,
          8137.361221187803,
          19601.81578467393,
          84533.50310700704,
          91692.32066457113,
          8048.917605228512,
          71112.70293082869,
          55042.623509982535,
          18450.934471778513,
          18448.442952470352,
          22483.0051930841,
          10434.468214597007,
          18239.7063397693,
          17490.139323819432,
          4151.26371704998,
          5829.280053753112,
          4770.76011785757,
          29481.788917665555,
          8579.27222474136,
          4182.028554632737,
          24351.42788082636,
          81244.73353281105,
          38913.66803239223,
          67801.60823832879,
          81897.04552217708,
          12979.018495244034,
          84232.48217526775,
          86680.18733737258,
          59610.81680322877,
          15342.413006572062,
          5563.31899898147,
          41004.97051997546,
          47830.18253929672,
          52555.47643341994,
          18919.18545654501,
          7080.726672523156,
          33182.38587341659,
          80191.57711629239,
          75924.11442467068,
          9050.13026995669,
          81478.31376827812,
          4198.33096088866,
          34768.82828680562,
          20465.173195004678,
          13610.08825367438,
          17071.618418631155,
          74073.29599797011,
          3683.1933219200796,
          5851.706542667332,
          25736.920497199735,
          13759.895481364289,
          8321.843803003843,
          78958.30507355936,
          80442.15146227289,
          76505.71032380425,
          48266.96183152948,
          6228.232755833359,
          20479.064651608587,
          48994.122914482876,
          10259.336145861063,
          47613.88589376346,
          38861.65560574617,
          33137.84029004543,
          48936.21338945584,
          86627.7883815857,
          77099.00498924358,
          63553.47179413577,
          24672.6368823674,
          16687.534680432847,
          74915.0317841327,
          35325.69537735894,
          74464.4468382748,
          41097.56195738566,
          23443.29993165002,
          15381.59611929942,
          10271.172397103806,
          11450.022219805602,
          13233.385385817306,
          9652.96839022024,
          8083.474744678847,
          28235.613344893543,
          12935.170070835744,
          18790.130355656172,
          6878.982198129852,
          14026.650867432589,
          41469.189221741726,
          22903.994306231576,
          68679.62049297716,
          6586.920794203962,
          61160.106291211996,
          23369.340959852532,
          74777.36028752061,
          30593.87095240871,
          7747.395119308701,
          26352.09554937356,
          133590.18581608988,
          59021.67374463295,
          5007.214579607559,
          12277.90875949603,
          67964.89858296418,
          10090.4939373036,
          53115.18887726301
         ]
        },
        {
         "hovertemplate": "%{x:0.3f}, %{y:0.3f}",
         "marker": {
          "color": "#2ca02c",
          "line": {
           "width": 1
          },
          "size": 14
         },
         "mode": "markers",
         "name": "2011",
         "type": "scatter",
         "x": [
          14997.78954749053,
          15291.262582779787,
          17043.493208499844,
          2523.7983376888337,
          15677.47166044147,
          17869.539368077072,
          1746.7162980227317,
          19868.68745671428,
          1076.228147585618
         ],
         "y": [
          12162.347437324288,
          14548.156828612167,
          19295.673525437636,
          2353.5511179701466,
          15625.155352632775,
          18136.874314424374,
          1823.6491697646256,
          19181.768961911093,
          1904.9685491964767
         ]
        },
        {
         "hovertemplate": "%{x:0.3f}, %{y:0.3f}",
         "marker": {
          "color": "#d62728",
          "line": {
           "width": 1
          },
          "size": 14
         },
         "mode": "markers",
         "name": "2012",
         "type": "scatter",
         "x": [
          12122.424511023703,
          6456.27579276041,
          16130.178781169525,
          15085.224911193463,
          3673.4333462094087,
          8280.438367904411,
          32795.53503555821,
          14166.06566327492,
          13875.171506037826,
          6946.90432357302,
          2564.982449923113,
          16811.695023108605,
          12449.995480114758,
          5531.02785623472,
          23794.741377539554,
          16225.721041391871,
          8487.049018816118,
          7266.177275813694,
          17726.352009923998,
          13293.463666423551,
          1817.611035632038,
          9795.194916846965,
          19606.436026491916,
          1513.7535597198428,
          19161.2166823692,
          8801.735137201393,
          22346.69328874194,
          8043.957317300389,
          15506.259215521497
         ],
         "y": [
          12203.494078698646,
          5793.525204616298,
          13809.601261351496,
          15981.812504076233,
          4992.3947894408,
          8720.863927701259,
          25904.25388650643,
          7827.832149966234,
          9288.677879762885,
          6499.9157683368685,
          2479.3214686836577,
          12549.278815722108,
          12648.742612910763,
          5886.0428175873885,
          27184.47929978447,
          17034.643639374277,
          8943.89844492452,
          6881.6608437393,
          25401.815031439306,
          15997.726046568165,
          1938.0412439465797,
          9550.794433268382,
          28085.10535166177,
          1935.2046008157595,
          17782.003864271635,
          4158.666136054678,
          21016.481362725328,
          8944.943306114072,
          15482.149385564911
         ]
        },
        {
         "hovertemplate": "%{x:0.3f}, %{y:0.3f}",
         "marker": {
          "color": "#9467bd",
          "line": {
           "width": 1
          },
          "size": 14
         },
         "mode": "markers",
         "name": "2013",
         "type": "scatter",
         "x": [
          15102.145260064033,
          15037.697671232878,
          3665.4998960793578,
          2490.3457239971012,
          5603.78842117102,
          15372.719782711385,
          17612.591702544032,
          17382.1763281373,
          1739.7917314539077,
          4341.678351965569,
          18814.096759240514,
          1100.3903892150468,
          8854.49618817684
         ],
         "y": [
          20106.32072387073,
          15597.69258516937,
          4524.066006609614,
          3164.708768899774,
          5758.6458552041595,
          19065.31484769206,
          35562.8424160202,
          26943.100077074178,
          2173.7496775297177,
          6406.358795344894,
          39322.20163954574,
          30178.707063175,
          6855.041627440151
         ]
        },
        {
         "hovertemplate": "%{x:0.3f}, %{y:0.3f}",
         "marker": {
          "color": "#8c564b",
          "line": {
           "width": 1
          },
          "size": 14
         },
         "mode": "markers",
         "name": "2014",
         "type": "scatter",
         "x": [
          12760.622579121398,
          14946.546014800819,
          3610.743744292238,
          2329.2785458108083,
          5657.709132420092,
          14272.475314498655,
          17319.459874035587,
          1584.94106527406,
          18586.336687135885,
          1107.0032348182726
         ],
         "y": [
          13845.320136463646,
          14087.091213288631,
          3334.311874558169,
          2543.5234899861725,
          5810.9362127422455,
          20357.698919842827,
          16706.899003663417,
          1584.8924415308713,
          18821.124268459116,
          1884.7004178724592
         ]
        },
        {
         "hovertemplate": "%{x:0.3f}, %{y:0.3f}",
         "marker": {
          "color": "#e377c2",
          "line": {
           "width": 1
          },
          "size": 14
         },
         "mode": "markers",
         "name": "2015",
         "type": "scatter",
         "x": [
          13025.188062731228,
          54092.21641704718,
          4752.054240340868,
          14029.143693906475,
          44503.244295586235,
          45184.180866705945,
          14784.653280893412,
          5280.982156782363,
          16004.157421433343,
          4026.95057312204,
          16736.72390166163,
          21399.258249116123,
          17507.588993042362,
          7608.62678426732,
          67671.81863827101,
          6976.453876543033,
          72784.43025066845,
          2149.2504887987566,
          72502.09468558192,
          8143.520062927568,
          16021.068682097306,
          77299.7344574856,
          4765.604302216203,
          70500.40606522319,
          66373.48038728155,
          8888.472813855613,
          1718.2410662508892,
          17861.679841113066,
          30724.841253154143,
          46956.50295756965,
          24289.420157800065,
          54557.826407719826,
          15486.917195479007,
          10194.042146028747,
          9408.49625582023,
          1151.112911352543,
          6679.129196651287,
          6484.342899262018,
          10943.55175334468,
          36360.82872367504,
          17089.591485859888,
          54795.58976704318,
          54199.26003096565,
          10886.13818428678,
          8079.613078399825
         ],
         "y": [
          10603.827141856187,
          59967.22081750109,
          4767.6762232626725,
          18611.45482251412,
          37275.20484036818,
          48396.625349091715,
          14349.937103354148,
          4930.614948783632,
          14202.498832145313,
          4149.277302704959,
          20096.719003059872,
          25630.57414319007,
          18316.01414285246,
          8156.809664552246,
          76718.60984807702,
          7239.068752288447,
          70511.49240085621,
          2157.7019025246395,
          73343.22426837565,
          7297.886230790818,
          15699.40770396201,
          63872.76607102375,
          4951.126362833335,
          73342.8841314822,
          65949.56272410875,
          9442.329984172202,
          1883.9780781508773,
          23964.36746053485,
          22206.774913567348,
          63597.645248359746,
          30893.90349039096,
          31661.50095607268,
          17173.946879017185,
          12057.152282186986,
          11651.959073059314,
          604.4189550307201,
          10471.132516838625,
          9603.867158480352,
          13576.701846030992,
          19467.584000754243,
          13552.348893055545,
          45079.562369161176,
          48819.680369369155,
          10384.778115230018,
          6911.23124796412
         ]
        },
        {
         "hovertemplate": "%{x:0.3f}, %{y:0.3f}",
         "marker": {
          "color": "#7f7f7f",
          "line": {
           "width": 1
          },
          "size": 14
         },
         "mode": "markers",
         "name": "2016",
         "type": "scatter",
         "x": [
          31232.03253648905,
          60856.943590981275,
          66361.43174968039,
          5535.951839287525,
          62249.43295647431,
          15429.644725541611,
          58614.205398740596,
          17374.560905151004,
          4344.53516409976,
          6357.27981465711,
          9066.866750750156,
          12718.523885631672,
          4563.775167137052,
          13632.425062614913,
          70326.47856103058,
          12220.068681624487,
          22777.14571149652,
          17917.129834403553,
          11154.323909597966,
          48429.082869038284,
          64882.736825728134,
          79819.77187622128,
          2556.034248867213,
          95106.14518001657,
          81854.5751331586,
          8877.454483423537,
          80808.50501811485,
          4162.106561234131,
          74771.76844622001,
          85325.92735086565,
          7491.912099031783,
          5384.233520909197,
          77574.6388921176,
          76680.22009843627,
          46161.95702305582,
          41868.59492876478,
          27450.00573146647,
          14324.55746690547,
          15681.28236216983,
          70411.87673020888,
          18812.64368150065,
          11132.340088922918,
          21186.53062238622,
          1214.887861876526,
          12146.73160537095,
          9837.18261626057,
          7977.470953967234,
          4524.573395433636,
          17050.650724944455,
          20258.75867441858,
          67789.75483334762,
          56502.02694014107,
          10222.789469466303
         ],
         "y": [
          48306.00586866933,
          63545.0340191132,
          57275.50585176206,
          5762.794171487424,
          61719.60470828664,
          17426.04655927401,
          64819.14754621371,
          19216.493707935395,
          5666.500690727963,
          5346.712155461171,
          9059.430719561708,
          14386.809884992812,
          11173.45799818311,
          14020.798503207074,
          82224.38259829441,
          21029.26846037427,
          27801.382766055696,
          21750.38920761555,
          11901.260029316056,
          54420.4966056402,
          61457.73074587712,
          105103.3608295227,
          2609.095448308902,
          93717.44058239616,
          85380.77757012256,
          11257.307058777587,
          82879.13888560758,
          4281.619091161422,
          72163.7812403524,
          81539.03878649315,
          11978.499989705504,
          5115.999627082024,
          71587.74215300231,
          89616.5446704561,
          50684.3047503071,
          52127.81370530185,
          19029.823747267244,
          19851.85769368964,
          15029.387849625033,
          64275.04176773203,
          44484.30252197919,
          6500.384233749944,
          22044.434860243982,
          2402.676349995256,
          12821.236419096838,
          15176.039435953291,
          9726.573688283244,
          4455.499388368771,
          17387.083114348614,
          19054.726491426496,
          88852.28941221294,
          67020.01190617161,
          13683.129795519333
         ]
        },
        {
         "hovertemplate": "%{x:0.3f}, %{y:0.3f}",
         "marker": {
          "color": "#bcbd22",
          "line": {
           "width": 1
          },
          "size": 14
         },
         "mode": "markers",
         "name": "2017",
         "type": "scatter",
         "x": [
          27291.227204465402,
          75590.15055209106,
          84970.3931884344,
          65737.97442569387,
          15252.134009265044,
          62387.955748594584,
          9513.11971264637,
          9640.698061042336,
          9397.684790938954,
          18257.93560655336,
          9651.320306685178,
          5146.237359500996,
          73598.64391726807,
          12543.328491040786,
          24458.227479590052,
          21178.270322993794,
          8116.776474268182,
          43621.80456517726,
          11244.76458063908,
          98187.33176009626,
          7166.009088488271,
          81497.99518442636,
          76149.17861888098,
          40663.8047038385,
          30279.995750202102,
          13000.177858025389,
          73584.34273936834,
          18307.355536994186,
          21136.083089804855,
          1148.5228869922566,
          11281.854323233943,
          11507.338664458319,
          14908.302384967998,
          72839.3124783649,
          66973.17701196487,
          35105.97125649809
         ],
         "y": [
          28083.652446116907,
          78398.26712921068,
          92897.9114701787,
          70718.91444139606,
          15561.30048932478,
          61238.92727047944,
          9442.418427434628,
          9679.640541159753,
          9538.350284715776,
          19085.7618900505,
          11254.167336290504,
          4829.509617301706,
          76499.9432315289,
          10466.110198445584,
          25705.578769958567,
          21469.05191479878,
          6437.807839073342,
          44159.05926670132,
          11878.085369081577,
          100650.08882485701,
          6646.081005745761,
          80472.34573316766,
          77273.93428886024,
          44850.61116492465,
          34475.8828395415,
          13057.011788015347,
          75141.32707000947,
          24997.265469301416,
          20336.177010973388,
          2048.5492190094224,
          15686.171944852962,
          16781.34101263922,
          13250.462722390694,
          75674.41601479334,
          69149.50204301842,
          38058.80758810761
         ]
        }
       ],
       "layout": {
        "height": 600,
        "hovermode": "closest",
        "showlegend": true,
        "template": {
         "data": {
          "bar": [
           {
            "error_x": {
             "color": "#2a3f5f"
            },
            "error_y": {
             "color": "#2a3f5f"
            },
            "marker": {
             "line": {
              "color": "#E5ECF6",
              "width": 0.5
             }
            },
            "type": "bar"
           }
          ],
          "barpolar": [
           {
            "marker": {
             "line": {
              "color": "#E5ECF6",
              "width": 0.5
             }
            },
            "type": "barpolar"
           }
          ],
          "carpet": [
           {
            "aaxis": {
             "endlinecolor": "#2a3f5f",
             "gridcolor": "white",
             "linecolor": "white",
             "minorgridcolor": "white",
             "startlinecolor": "#2a3f5f"
            },
            "baxis": {
             "endlinecolor": "#2a3f5f",
             "gridcolor": "white",
             "linecolor": "white",
             "minorgridcolor": "white",
             "startlinecolor": "#2a3f5f"
            },
            "type": "carpet"
           }
          ],
          "choropleth": [
           {
            "colorbar": {
             "outlinewidth": 0,
             "ticks": ""
            },
            "type": "choropleth"
           }
          ],
          "contour": [
           {
            "colorbar": {
             "outlinewidth": 0,
             "ticks": ""
            },
            "colorscale": [
             [
              0,
              "#0d0887"
             ],
             [
              0.1111111111111111,
              "#46039f"
             ],
             [
              0.2222222222222222,
              "#7201a8"
             ],
             [
              0.3333333333333333,
              "#9c179e"
             ],
             [
              0.4444444444444444,
              "#bd3786"
             ],
             [
              0.5555555555555556,
              "#d8576b"
             ],
             [
              0.6666666666666666,
              "#ed7953"
             ],
             [
              0.7777777777777778,
              "#fb9f3a"
             ],
             [
              0.8888888888888888,
              "#fdca26"
             ],
             [
              1,
              "#f0f921"
             ]
            ],
            "type": "contour"
           }
          ],
          "contourcarpet": [
           {
            "colorbar": {
             "outlinewidth": 0,
             "ticks": ""
            },
            "type": "contourcarpet"
           }
          ],
          "heatmap": [
           {
            "colorbar": {
             "outlinewidth": 0,
             "ticks": ""
            },
            "colorscale": [
             [
              0,
              "#0d0887"
             ],
             [
              0.1111111111111111,
              "#46039f"
             ],
             [
              0.2222222222222222,
              "#7201a8"
             ],
             [
              0.3333333333333333,
              "#9c179e"
             ],
             [
              0.4444444444444444,
              "#bd3786"
             ],
             [
              0.5555555555555556,
              "#d8576b"
             ],
             [
              0.6666666666666666,
              "#ed7953"
             ],
             [
              0.7777777777777778,
              "#fb9f3a"
             ],
             [
              0.8888888888888888,
              "#fdca26"
             ],
             [
              1,
              "#f0f921"
             ]
            ],
            "type": "heatmap"
           }
          ],
          "heatmapgl": [
           {
            "colorbar": {
             "outlinewidth": 0,
             "ticks": ""
            },
            "colorscale": [
             [
              0,
              "#0d0887"
             ],
             [
              0.1111111111111111,
              "#46039f"
             ],
             [
              0.2222222222222222,
              "#7201a8"
             ],
             [
              0.3333333333333333,
              "#9c179e"
             ],
             [
              0.4444444444444444,
              "#bd3786"
             ],
             [
              0.5555555555555556,
              "#d8576b"
             ],
             [
              0.6666666666666666,
              "#ed7953"
             ],
             [
              0.7777777777777778,
              "#fb9f3a"
             ],
             [
              0.8888888888888888,
              "#fdca26"
             ],
             [
              1,
              "#f0f921"
             ]
            ],
            "type": "heatmapgl"
           }
          ],
          "histogram": [
           {
            "marker": {
             "colorbar": {
              "outlinewidth": 0,
              "ticks": ""
             }
            },
            "type": "histogram"
           }
          ],
          "histogram2d": [
           {
            "colorbar": {
             "outlinewidth": 0,
             "ticks": ""
            },
            "colorscale": [
             [
              0,
              "#0d0887"
             ],
             [
              0.1111111111111111,
              "#46039f"
             ],
             [
              0.2222222222222222,
              "#7201a8"
             ],
             [
              0.3333333333333333,
              "#9c179e"
             ],
             [
              0.4444444444444444,
              "#bd3786"
             ],
             [
              0.5555555555555556,
              "#d8576b"
             ],
             [
              0.6666666666666666,
              "#ed7953"
             ],
             [
              0.7777777777777778,
              "#fb9f3a"
             ],
             [
              0.8888888888888888,
              "#fdca26"
             ],
             [
              1,
              "#f0f921"
             ]
            ],
            "type": "histogram2d"
           }
          ],
          "histogram2dcontour": [
           {
            "colorbar": {
             "outlinewidth": 0,
             "ticks": ""
            },
            "colorscale": [
             [
              0,
              "#0d0887"
             ],
             [
              0.1111111111111111,
              "#46039f"
             ],
             [
              0.2222222222222222,
              "#7201a8"
             ],
             [
              0.3333333333333333,
              "#9c179e"
             ],
             [
              0.4444444444444444,
              "#bd3786"
             ],
             [
              0.5555555555555556,
              "#d8576b"
             ],
             [
              0.6666666666666666,
              "#ed7953"
             ],
             [
              0.7777777777777778,
              "#fb9f3a"
             ],
             [
              0.8888888888888888,
              "#fdca26"
             ],
             [
              1,
              "#f0f921"
             ]
            ],
            "type": "histogram2dcontour"
           }
          ],
          "mesh3d": [
           {
            "colorbar": {
             "outlinewidth": 0,
             "ticks": ""
            },
            "type": "mesh3d"
           }
          ],
          "parcoords": [
           {
            "line": {
             "colorbar": {
              "outlinewidth": 0,
              "ticks": ""
             }
            },
            "type": "parcoords"
           }
          ],
          "scatter": [
           {
            "marker": {
             "colorbar": {
              "outlinewidth": 0,
              "ticks": ""
             }
            },
            "type": "scatter"
           }
          ],
          "scatter3d": [
           {
            "line": {
             "colorbar": {
              "outlinewidth": 0,
              "ticks": ""
             }
            },
            "marker": {
             "colorbar": {
              "outlinewidth": 0,
              "ticks": ""
             }
            },
            "type": "scatter3d"
           }
          ],
          "scattercarpet": [
           {
            "marker": {
             "colorbar": {
              "outlinewidth": 0,
              "ticks": ""
             }
            },
            "type": "scattercarpet"
           }
          ],
          "scattergeo": [
           {
            "marker": {
             "colorbar": {
              "outlinewidth": 0,
              "ticks": ""
             }
            },
            "type": "scattergeo"
           }
          ],
          "scattergl": [
           {
            "marker": {
             "colorbar": {
              "outlinewidth": 0,
              "ticks": ""
             }
            },
            "type": "scattergl"
           }
          ],
          "scattermapbox": [
           {
            "marker": {
             "colorbar": {
              "outlinewidth": 0,
              "ticks": ""
             }
            },
            "type": "scattermapbox"
           }
          ],
          "scatterpolar": [
           {
            "marker": {
             "colorbar": {
              "outlinewidth": 0,
              "ticks": ""
             }
            },
            "type": "scatterpolar"
           }
          ],
          "scatterpolargl": [
           {
            "marker": {
             "colorbar": {
              "outlinewidth": 0,
              "ticks": ""
             }
            },
            "type": "scatterpolargl"
           }
          ],
          "scatterternary": [
           {
            "marker": {
             "colorbar": {
              "outlinewidth": 0,
              "ticks": ""
             }
            },
            "type": "scatterternary"
           }
          ],
          "surface": [
           {
            "colorbar": {
             "outlinewidth": 0,
             "ticks": ""
            },
            "colorscale": [
             [
              0,
              "#0d0887"
             ],
             [
              0.1111111111111111,
              "#46039f"
             ],
             [
              0.2222222222222222,
              "#7201a8"
             ],
             [
              0.3333333333333333,
              "#9c179e"
             ],
             [
              0.4444444444444444,
              "#bd3786"
             ],
             [
              0.5555555555555556,
              "#d8576b"
             ],
             [
              0.6666666666666666,
              "#ed7953"
             ],
             [
              0.7777777777777778,
              "#fb9f3a"
             ],
             [
              0.8888888888888888,
              "#fdca26"
             ],
             [
              1,
              "#f0f921"
             ]
            ],
            "type": "surface"
           }
          ],
          "table": [
           {
            "cells": {
             "fill": {
              "color": "#EBF0F8"
             },
             "line": {
              "color": "white"
             }
            },
            "header": {
             "fill": {
              "color": "#C8D4E3"
             },
             "line": {
              "color": "white"
             }
            },
            "type": "table"
           }
          ]
         },
         "layout": {
          "annotationdefaults": {
           "arrowcolor": "#2a3f5f",
           "arrowhead": 0,
           "arrowwidth": 1
          },
          "colorscale": {
           "diverging": [
            [
             0,
             "#8e0152"
            ],
            [
             0.1,
             "#c51b7d"
            ],
            [
             0.2,
             "#de77ae"
            ],
            [
             0.3,
             "#f1b6da"
            ],
            [
             0.4,
             "#fde0ef"
            ],
            [
             0.5,
             "#f7f7f7"
            ],
            [
             0.6,
             "#e6f5d0"
            ],
            [
             0.7,
             "#b8e186"
            ],
            [
             0.8,
             "#7fbc41"
            ],
            [
             0.9,
             "#4d9221"
            ],
            [
             1,
             "#276419"
            ]
           ],
           "sequential": [
            [
             0,
             "#0d0887"
            ],
            [
             0.1111111111111111,
             "#46039f"
            ],
            [
             0.2222222222222222,
             "#7201a8"
            ],
            [
             0.3333333333333333,
             "#9c179e"
            ],
            [
             0.4444444444444444,
             "#bd3786"
            ],
            [
             0.5555555555555556,
             "#d8576b"
            ],
            [
             0.6666666666666666,
             "#ed7953"
            ],
            [
             0.7777777777777778,
             "#fb9f3a"
            ],
            [
             0.8888888888888888,
             "#fdca26"
            ],
            [
             1,
             "#f0f921"
            ]
           ],
           "sequentialminus": [
            [
             0,
             "#0d0887"
            ],
            [
             0.1111111111111111,
             "#46039f"
            ],
            [
             0.2222222222222222,
             "#7201a8"
            ],
            [
             0.3333333333333333,
             "#9c179e"
            ],
            [
             0.4444444444444444,
             "#bd3786"
            ],
            [
             0.5555555555555556,
             "#d8576b"
            ],
            [
             0.6666666666666666,
             "#ed7953"
            ],
            [
             0.7777777777777778,
             "#fb9f3a"
            ],
            [
             0.8888888888888888,
             "#fdca26"
            ],
            [
             1,
             "#f0f921"
            ]
           ]
          },
          "colorway": [
           "#636efa",
           "#EF553B",
           "#00cc96",
           "#ab63fa",
           "#FFA15A",
           "#19d3f3",
           "#FF6692",
           "#B6E880",
           "#FF97FF",
           "#FECB52"
          ],
          "font": {
           "color": "#2a3f5f"
          },
          "geo": {
           "bgcolor": "white",
           "lakecolor": "white",
           "landcolor": "#E5ECF6",
           "showlakes": true,
           "showland": true,
           "subunitcolor": "white"
          },
          "hoverlabel": {
           "align": "left"
          },
          "hovermode": "closest",
          "mapbox": {
           "style": "light"
          },
          "paper_bgcolor": "white",
          "plot_bgcolor": "#E5ECF6",
          "polar": {
           "angularaxis": {
            "gridcolor": "white",
            "linecolor": "white",
            "ticks": ""
           },
           "bgcolor": "#E5ECF6",
           "radialaxis": {
            "gridcolor": "white",
            "linecolor": "white",
            "ticks": ""
           }
          },
          "scene": {
           "xaxis": {
            "backgroundcolor": "#E5ECF6",
            "gridcolor": "white",
            "gridwidth": 2,
            "linecolor": "white",
            "showbackground": true,
            "ticks": "",
            "zerolinecolor": "white"
           },
           "yaxis": {
            "backgroundcolor": "#E5ECF6",
            "gridcolor": "white",
            "gridwidth": 2,
            "linecolor": "white",
            "showbackground": true,
            "ticks": "",
            "zerolinecolor": "white"
           },
           "zaxis": {
            "backgroundcolor": "#E5ECF6",
            "gridcolor": "white",
            "gridwidth": 2,
            "linecolor": "white",
            "showbackground": true,
            "ticks": "",
            "zerolinecolor": "white"
           }
          },
          "shapedefaults": {
           "line": {
            "color": "#2a3f5f"
           }
          },
          "ternary": {
           "aaxis": {
            "gridcolor": "white",
            "linecolor": "white",
            "ticks": ""
           },
           "baxis": {
            "gridcolor": "white",
            "linecolor": "white",
            "ticks": ""
           },
           "bgcolor": "#E5ECF6",
           "caxis": {
            "gridcolor": "white",
            "linecolor": "white",
            "ticks": ""
           }
          },
          "title": {
           "x": 0.05
          },
          "xaxis": {
           "automargin": true,
           "gridcolor": "white",
           "linecolor": "white",
           "ticks": "",
           "zerolinecolor": "white",
           "zerolinewidth": 2
          },
          "yaxis": {
           "automargin": true,
           "gridcolor": "white",
           "linecolor": "white",
           "ticks": "",
           "zerolinecolor": "white",
           "zerolinewidth": 2
          }
         }
        },
        "title": {
         "text": "CountMatch Default Global Growth Rate"
        },
        "width": 900,
        "xaxis": {
         "gridwidth": 2,
         "ticklen": 1000,
         "title": {
          "text": "Ground Truth"
         },
         "zeroline": false
        },
        "yaxis": {
         "gridwidth": 2,
         "ticklen": 1000,
         "title": {
          "text": "Typical Prediction"
         }
        }
       }
      },
      "text/html": [
       "<div>\n",
       "        \n",
       "        \n",
       "            <div id=\"72e66310-df33-44a9-bf94-e010786646ce\" class=\"plotly-graph-div\" style=\"height:600px; width:900px;\"></div>\n",
       "            <script type=\"text/javascript\">\n",
       "                require([\"plotly\"], function(Plotly) {\n",
       "                    window.PLOTLYENV=window.PLOTLYENV || {};\n",
       "                    \n",
       "                if (document.getElementById(\"72e66310-df33-44a9-bf94-e010786646ce\")) {\n",
       "                    Plotly.newPlot(\n",
       "                        '72e66310-df33-44a9-bf94-e010786646ce',\n",
       "                        [{\"hovertemplate\": \"%{x:0.3f}, %{y:0.3f}\", \"marker\": {\"color\": \"#1f77b4\", \"line\": {\"width\": 1}, \"size\": 14}, \"mode\": \"markers\", \"name\": \"2006\", \"type\": \"scatter\", \"x\": [1062.7846825679437], \"y\": [425.3243530326377]}, {\"hovertemplate\": \"%{x:0.3f}, %{y:0.3f}\", \"marker\": {\"color\": \"#ff7f0e\", \"line\": {\"width\": 1}, \"size\": 14}, \"mode\": \"markers\", \"name\": \"2010\", \"type\": \"scatter\", \"x\": [15255.520320454854, 55196.733806100536, 8245.02643178383, 29127.998506404634, 61641.049747671146, 75440.99990165087, 6662.478466803338, 18725.636255852212, 83486.95739560948, 80197.74419072465, 7226.875264658771, 58021.08437105056, 53625.34702047268, 19307.867796457664, 18739.428061618746, 25662.300544796093, 9526.935479277297, 17953.196473929424, 16986.55734146219, 4022.0163578674888, 6640.411861809423, 4349.017096425068, 29673.56449650973, 9503.730777958495, 4067.500047205748, 25091.859608315604, 73410.80112754917, 30578.572598213887, 65699.8324925106, 80534.45171352786, 16005.209527768406, 86996.37810261064, 80803.02430523981, 56367.6453896252, 19675.023911736665, 6119.285824000488, 41744.782060581725, 40430.13331105424, 52844.842148811615, 22381.673026850876, 6827.877079343163, 32133.694570581447, 82822.14136454414, 79348.81712166812, 8951.316680616188, 85009.78862537871, 4162.2856361852255, 33880.909913883945, 15216.509862723648, 13876.078020011726, 17292.127972502018, 70583.4807799674, 3350.1645458149246, 5627.793110230975, 24554.12811210833, 12703.668581564827, 8344.272807979438, 80137.1689330468, 65963.77195589899, 77712.71881542233, 48484.23570580561, 5072.656912539515, 21674.612031935783, 55193.205708264344, 9036.046049475637, 45498.04162975632, 42005.05723432648, 39989.98103019051, 61458.92259308879, 75302.0459671835, 76806.23893737241, 75541.33410142064, 20032.989169463664, 15961.46816448392, 63461.178599911276, 23831.603927778735, 73438.55419519293, 35230.751580256285, 19684.84187661755, 14121.272975851934, 10492.872862176555, 11306.436426714838, 11426.60318799843, 9630.36991410636, 6444.665968541579, 24334.25538905387, 11410.068652502016, 19013.11536241012, 8948.027613213673, 13502.089826410771, 44262.78116983048, 18652.174886664325, 77842.57576763799, 7667.695307095944, 76963.1163075428, 22808.731510967384, 74519.3638868985, 31061.41705255208, 7584.451093859001, 23274.26292102494, 86975.81296132477, 60635.98060426179, 4380.833904736815, 11525.43047994123, 64941.79602794934, 9149.604068610231, 56538.16874341844], \"y\": [15102.309369252094, 48621.26781619419, 8664.142977296577, 24705.83118139801, 62957.73621481386, 88222.39547937679, 8137.361221187803, 19601.81578467393, 84533.50310700704, 91692.32066457113, 8048.917605228512, 71112.70293082869, 55042.623509982535, 18450.934471778513, 18448.442952470352, 22483.0051930841, 10434.468214597007, 18239.7063397693, 17490.139323819432, 4151.26371704998, 5829.280053753112, 4770.76011785757, 29481.788917665555, 8579.27222474136, 4182.028554632737, 24351.42788082636, 81244.73353281105, 38913.66803239223, 67801.60823832879, 81897.04552217708, 12979.018495244034, 84232.48217526775, 86680.18733737258, 59610.81680322877, 15342.413006572062, 5563.31899898147, 41004.97051997546, 47830.18253929672, 52555.47643341994, 18919.18545654501, 7080.726672523156, 33182.38587341659, 80191.57711629239, 75924.11442467068, 9050.13026995669, 81478.31376827812, 4198.33096088866, 34768.82828680562, 20465.173195004678, 13610.08825367438, 17071.618418631155, 74073.29599797011, 3683.1933219200796, 5851.706542667332, 25736.920497199735, 13759.895481364289, 8321.843803003843, 78958.30507355936, 80442.15146227289, 76505.71032380425, 48266.96183152948, 6228.232755833359, 20479.064651608587, 48994.122914482876, 10259.336145861063, 47613.88589376346, 38861.65560574617, 33137.84029004543, 48936.21338945584, 86627.7883815857, 77099.00498924358, 63553.47179413577, 24672.6368823674, 16687.534680432847, 74915.0317841327, 35325.69537735894, 74464.4468382748, 41097.56195738566, 23443.29993165002, 15381.59611929942, 10271.172397103806, 11450.022219805602, 13233.385385817306, 9652.96839022024, 8083.474744678847, 28235.613344893543, 12935.170070835744, 18790.130355656172, 6878.982198129852, 14026.650867432589, 41469.189221741726, 22903.994306231576, 68679.62049297716, 6586.920794203962, 61160.106291211996, 23369.340959852532, 74777.36028752061, 30593.87095240871, 7747.395119308701, 26352.09554937356, 133590.18581608988, 59021.67374463295, 5007.214579607559, 12277.90875949603, 67964.89858296418, 10090.4939373036, 53115.18887726301]}, {\"hovertemplate\": \"%{x:0.3f}, %{y:0.3f}\", \"marker\": {\"color\": \"#2ca02c\", \"line\": {\"width\": 1}, \"size\": 14}, \"mode\": \"markers\", \"name\": \"2011\", \"type\": \"scatter\", \"x\": [14997.78954749053, 15291.262582779787, 17043.493208499844, 2523.7983376888337, 15677.47166044147, 17869.539368077072, 1746.7162980227317, 19868.68745671428, 1076.228147585618], \"y\": [12162.347437324288, 14548.156828612167, 19295.673525437636, 2353.5511179701466, 15625.155352632775, 18136.874314424374, 1823.6491697646256, 19181.768961911093, 1904.9685491964767]}, {\"hovertemplate\": \"%{x:0.3f}, %{y:0.3f}\", \"marker\": {\"color\": \"#d62728\", \"line\": {\"width\": 1}, \"size\": 14}, \"mode\": \"markers\", \"name\": \"2012\", \"type\": \"scatter\", \"x\": [12122.424511023703, 6456.27579276041, 16130.178781169525, 15085.224911193463, 3673.4333462094087, 8280.438367904411, 32795.53503555821, 14166.06566327492, 13875.171506037826, 6946.90432357302, 2564.982449923113, 16811.695023108605, 12449.995480114758, 5531.02785623472, 23794.741377539554, 16225.721041391871, 8487.049018816118, 7266.177275813694, 17726.352009923998, 13293.463666423551, 1817.611035632038, 9795.194916846965, 19606.436026491916, 1513.7535597198428, 19161.2166823692, 8801.735137201393, 22346.69328874194, 8043.957317300389, 15506.259215521497], \"y\": [12203.494078698646, 5793.525204616298, 13809.601261351496, 15981.812504076233, 4992.3947894408, 8720.863927701259, 25904.25388650643, 7827.832149966234, 9288.677879762885, 6499.9157683368685, 2479.3214686836577, 12549.278815722108, 12648.742612910763, 5886.0428175873885, 27184.47929978447, 17034.643639374277, 8943.89844492452, 6881.6608437393, 25401.815031439306, 15997.726046568165, 1938.0412439465797, 9550.794433268382, 28085.10535166177, 1935.2046008157595, 17782.003864271635, 4158.666136054678, 21016.481362725328, 8944.943306114072, 15482.149385564911]}, {\"hovertemplate\": \"%{x:0.3f}, %{y:0.3f}\", \"marker\": {\"color\": \"#9467bd\", \"line\": {\"width\": 1}, \"size\": 14}, \"mode\": \"markers\", \"name\": \"2013\", \"type\": \"scatter\", \"x\": [15102.145260064033, 15037.697671232878, 3665.4998960793578, 2490.3457239971012, 5603.78842117102, 15372.719782711385, 17612.591702544032, 17382.1763281373, 1739.7917314539077, 4341.678351965569, 18814.096759240514, 1100.3903892150468, 8854.49618817684], \"y\": [20106.32072387073, 15597.69258516937, 4524.066006609614, 3164.708768899774, 5758.6458552041595, 19065.31484769206, 35562.8424160202, 26943.100077074178, 2173.7496775297177, 6406.358795344894, 39322.20163954574, 30178.707063175, 6855.041627440151]}, {\"hovertemplate\": \"%{x:0.3f}, %{y:0.3f}\", \"marker\": {\"color\": \"#8c564b\", \"line\": {\"width\": 1}, \"size\": 14}, \"mode\": \"markers\", \"name\": \"2014\", \"type\": \"scatter\", \"x\": [12760.622579121398, 14946.546014800819, 3610.743744292238, 2329.2785458108083, 5657.709132420092, 14272.475314498655, 17319.459874035587, 1584.94106527406, 18586.336687135885, 1107.0032348182726], \"y\": [13845.320136463646, 14087.091213288631, 3334.311874558169, 2543.5234899861725, 5810.9362127422455, 20357.698919842827, 16706.899003663417, 1584.8924415308713, 18821.124268459116, 1884.7004178724592]}, {\"hovertemplate\": \"%{x:0.3f}, %{y:0.3f}\", \"marker\": {\"color\": \"#e377c2\", \"line\": {\"width\": 1}, \"size\": 14}, \"mode\": \"markers\", \"name\": \"2015\", \"type\": \"scatter\", \"x\": [13025.188062731228, 54092.21641704718, 4752.054240340868, 14029.143693906475, 44503.244295586235, 45184.180866705945, 14784.653280893412, 5280.982156782363, 16004.157421433343, 4026.95057312204, 16736.72390166163, 21399.258249116123, 17507.588993042362, 7608.62678426732, 67671.81863827101, 6976.453876543033, 72784.43025066845, 2149.2504887987566, 72502.09468558192, 8143.520062927568, 16021.068682097306, 77299.7344574856, 4765.604302216203, 70500.40606522319, 66373.48038728155, 8888.472813855613, 1718.2410662508892, 17861.679841113066, 30724.841253154143, 46956.50295756965, 24289.420157800065, 54557.826407719826, 15486.917195479007, 10194.042146028747, 9408.49625582023, 1151.112911352543, 6679.129196651287, 6484.342899262018, 10943.55175334468, 36360.82872367504, 17089.591485859888, 54795.58976704318, 54199.26003096565, 10886.13818428678, 8079.613078399825], \"y\": [10603.827141856187, 59967.22081750109, 4767.6762232626725, 18611.45482251412, 37275.20484036818, 48396.625349091715, 14349.937103354148, 4930.614948783632, 14202.498832145313, 4149.277302704959, 20096.719003059872, 25630.57414319007, 18316.01414285246, 8156.809664552246, 76718.60984807702, 7239.068752288447, 70511.49240085621, 2157.7019025246395, 73343.22426837565, 7297.886230790818, 15699.40770396201, 63872.76607102375, 4951.126362833335, 73342.8841314822, 65949.56272410875, 9442.329984172202, 1883.9780781508773, 23964.36746053485, 22206.774913567348, 63597.645248359746, 30893.90349039096, 31661.50095607268, 17173.946879017185, 12057.152282186986, 11651.959073059314, 604.4189550307201, 10471.132516838625, 9603.867158480352, 13576.701846030992, 19467.584000754243, 13552.348893055545, 45079.562369161176, 48819.680369369155, 10384.778115230018, 6911.23124796412]}, {\"hovertemplate\": \"%{x:0.3f}, %{y:0.3f}\", \"marker\": {\"color\": \"#7f7f7f\", \"line\": {\"width\": 1}, \"size\": 14}, \"mode\": \"markers\", \"name\": \"2016\", \"type\": \"scatter\", \"x\": [31232.03253648905, 60856.943590981275, 66361.43174968039, 5535.951839287525, 62249.43295647431, 15429.644725541611, 58614.205398740596, 17374.560905151004, 4344.53516409976, 6357.27981465711, 9066.866750750156, 12718.523885631672, 4563.775167137052, 13632.425062614913, 70326.47856103058, 12220.068681624487, 22777.14571149652, 17917.129834403553, 11154.323909597966, 48429.082869038284, 64882.736825728134, 79819.77187622128, 2556.034248867213, 95106.14518001657, 81854.5751331586, 8877.454483423537, 80808.50501811485, 4162.106561234131, 74771.76844622001, 85325.92735086565, 7491.912099031783, 5384.233520909197, 77574.6388921176, 76680.22009843627, 46161.95702305582, 41868.59492876478, 27450.00573146647, 14324.55746690547, 15681.28236216983, 70411.87673020888, 18812.64368150065, 11132.340088922918, 21186.53062238622, 1214.887861876526, 12146.73160537095, 9837.18261626057, 7977.470953967234, 4524.573395433636, 17050.650724944455, 20258.75867441858, 67789.75483334762, 56502.02694014107, 10222.789469466303], \"y\": [48306.00586866933, 63545.0340191132, 57275.50585176206, 5762.794171487424, 61719.60470828664, 17426.04655927401, 64819.14754621371, 19216.493707935395, 5666.500690727963, 5346.712155461171, 9059.430719561708, 14386.809884992812, 11173.45799818311, 14020.798503207074, 82224.38259829441, 21029.26846037427, 27801.382766055696, 21750.38920761555, 11901.260029316056, 54420.4966056402, 61457.73074587712, 105103.3608295227, 2609.095448308902, 93717.44058239616, 85380.77757012256, 11257.307058777587, 82879.13888560758, 4281.619091161422, 72163.7812403524, 81539.03878649315, 11978.499989705504, 5115.999627082024, 71587.74215300231, 89616.5446704561, 50684.3047503071, 52127.81370530185, 19029.823747267244, 19851.85769368964, 15029.387849625033, 64275.04176773203, 44484.30252197919, 6500.384233749944, 22044.434860243982, 2402.676349995256, 12821.236419096838, 15176.039435953291, 9726.573688283244, 4455.499388368771, 17387.083114348614, 19054.726491426496, 88852.28941221294, 67020.01190617161, 13683.129795519333]}, {\"hovertemplate\": \"%{x:0.3f}, %{y:0.3f}\", \"marker\": {\"color\": \"#bcbd22\", \"line\": {\"width\": 1}, \"size\": 14}, \"mode\": \"markers\", \"name\": \"2017\", \"type\": \"scatter\", \"x\": [27291.227204465402, 75590.15055209106, 84970.3931884344, 65737.97442569387, 15252.134009265044, 62387.955748594584, 9513.11971264637, 9640.698061042336, 9397.684790938954, 18257.93560655336, 9651.320306685178, 5146.237359500996, 73598.64391726807, 12543.328491040786, 24458.227479590052, 21178.270322993794, 8116.776474268182, 43621.80456517726, 11244.76458063908, 98187.33176009626, 7166.009088488271, 81497.99518442636, 76149.17861888098, 40663.8047038385, 30279.995750202102, 13000.177858025389, 73584.34273936834, 18307.355536994186, 21136.083089804855, 1148.5228869922566, 11281.854323233943, 11507.338664458319, 14908.302384967998, 72839.3124783649, 66973.17701196487, 35105.97125649809], \"y\": [28083.652446116907, 78398.26712921068, 92897.9114701787, 70718.91444139606, 15561.30048932478, 61238.92727047944, 9442.418427434628, 9679.640541159753, 9538.350284715776, 19085.7618900505, 11254.167336290504, 4829.509617301706, 76499.9432315289, 10466.110198445584, 25705.578769958567, 21469.05191479878, 6437.807839073342, 44159.05926670132, 11878.085369081577, 100650.08882485701, 6646.081005745761, 80472.34573316766, 77273.93428886024, 44850.61116492465, 34475.8828395415, 13057.011788015347, 75141.32707000947, 24997.265469301416, 20336.177010973388, 2048.5492190094224, 15686.171944852962, 16781.34101263922, 13250.462722390694, 75674.41601479334, 69149.50204301842, 38058.80758810761]}],\n",
       "                        {\"height\": 600, \"hovermode\": \"closest\", \"showlegend\": true, \"template\": {\"data\": {\"bar\": [{\"error_x\": {\"color\": \"#2a3f5f\"}, \"error_y\": {\"color\": \"#2a3f5f\"}, \"marker\": {\"line\": {\"color\": \"#E5ECF6\", \"width\": 0.5}}, \"type\": \"bar\"}], \"barpolar\": [{\"marker\": {\"line\": {\"color\": \"#E5ECF6\", \"width\": 0.5}}, \"type\": \"barpolar\"}], \"carpet\": [{\"aaxis\": {\"endlinecolor\": \"#2a3f5f\", \"gridcolor\": \"white\", \"linecolor\": \"white\", \"minorgridcolor\": \"white\", \"startlinecolor\": \"#2a3f5f\"}, \"baxis\": {\"endlinecolor\": \"#2a3f5f\", \"gridcolor\": \"white\", \"linecolor\": \"white\", \"minorgridcolor\": \"white\", \"startlinecolor\": \"#2a3f5f\"}, \"type\": \"carpet\"}], \"choropleth\": [{\"colorbar\": {\"outlinewidth\": 0, \"ticks\": \"\"}, \"type\": \"choropleth\"}], \"contour\": [{\"colorbar\": {\"outlinewidth\": 0, \"ticks\": \"\"}, \"colorscale\": [[0.0, \"#0d0887\"], [0.1111111111111111, \"#46039f\"], [0.2222222222222222, \"#7201a8\"], [0.3333333333333333, \"#9c179e\"], [0.4444444444444444, \"#bd3786\"], [0.5555555555555556, \"#d8576b\"], [0.6666666666666666, \"#ed7953\"], [0.7777777777777778, \"#fb9f3a\"], [0.8888888888888888, \"#fdca26\"], [1.0, \"#f0f921\"]], \"type\": \"contour\"}], \"contourcarpet\": [{\"colorbar\": {\"outlinewidth\": 0, \"ticks\": \"\"}, \"type\": \"contourcarpet\"}], \"heatmap\": [{\"colorbar\": {\"outlinewidth\": 0, \"ticks\": \"\"}, \"colorscale\": [[0.0, \"#0d0887\"], [0.1111111111111111, \"#46039f\"], [0.2222222222222222, \"#7201a8\"], [0.3333333333333333, \"#9c179e\"], [0.4444444444444444, \"#bd3786\"], [0.5555555555555556, \"#d8576b\"], [0.6666666666666666, \"#ed7953\"], [0.7777777777777778, \"#fb9f3a\"], [0.8888888888888888, \"#fdca26\"], [1.0, \"#f0f921\"]], \"type\": \"heatmap\"}], \"heatmapgl\": [{\"colorbar\": {\"outlinewidth\": 0, \"ticks\": \"\"}, \"colorscale\": [[0.0, \"#0d0887\"], [0.1111111111111111, \"#46039f\"], [0.2222222222222222, \"#7201a8\"], [0.3333333333333333, \"#9c179e\"], [0.4444444444444444, \"#bd3786\"], [0.5555555555555556, \"#d8576b\"], [0.6666666666666666, \"#ed7953\"], [0.7777777777777778, \"#fb9f3a\"], [0.8888888888888888, \"#fdca26\"], [1.0, \"#f0f921\"]], \"type\": \"heatmapgl\"}], \"histogram\": [{\"marker\": {\"colorbar\": {\"outlinewidth\": 0, \"ticks\": \"\"}}, \"type\": \"histogram\"}], \"histogram2d\": [{\"colorbar\": {\"outlinewidth\": 0, \"ticks\": \"\"}, \"colorscale\": [[0.0, \"#0d0887\"], [0.1111111111111111, \"#46039f\"], [0.2222222222222222, \"#7201a8\"], [0.3333333333333333, \"#9c179e\"], [0.4444444444444444, \"#bd3786\"], [0.5555555555555556, \"#d8576b\"], [0.6666666666666666, \"#ed7953\"], [0.7777777777777778, \"#fb9f3a\"], [0.8888888888888888, \"#fdca26\"], [1.0, \"#f0f921\"]], \"type\": \"histogram2d\"}], \"histogram2dcontour\": [{\"colorbar\": {\"outlinewidth\": 0, \"ticks\": \"\"}, \"colorscale\": [[0.0, \"#0d0887\"], [0.1111111111111111, \"#46039f\"], [0.2222222222222222, \"#7201a8\"], [0.3333333333333333, \"#9c179e\"], [0.4444444444444444, \"#bd3786\"], [0.5555555555555556, \"#d8576b\"], [0.6666666666666666, \"#ed7953\"], [0.7777777777777778, \"#fb9f3a\"], [0.8888888888888888, \"#fdca26\"], [1.0, \"#f0f921\"]], \"type\": \"histogram2dcontour\"}], \"mesh3d\": [{\"colorbar\": {\"outlinewidth\": 0, \"ticks\": \"\"}, \"type\": \"mesh3d\"}], \"parcoords\": [{\"line\": {\"colorbar\": {\"outlinewidth\": 0, \"ticks\": \"\"}}, \"type\": \"parcoords\"}], \"scatter\": [{\"marker\": {\"colorbar\": {\"outlinewidth\": 0, \"ticks\": \"\"}}, \"type\": \"scatter\"}], \"scatter3d\": [{\"line\": {\"colorbar\": {\"outlinewidth\": 0, \"ticks\": \"\"}}, \"marker\": {\"colorbar\": {\"outlinewidth\": 0, \"ticks\": \"\"}}, \"type\": \"scatter3d\"}], \"scattercarpet\": [{\"marker\": {\"colorbar\": {\"outlinewidth\": 0, \"ticks\": \"\"}}, \"type\": \"scattercarpet\"}], \"scattergeo\": [{\"marker\": {\"colorbar\": {\"outlinewidth\": 0, \"ticks\": \"\"}}, \"type\": \"scattergeo\"}], \"scattergl\": [{\"marker\": {\"colorbar\": {\"outlinewidth\": 0, \"ticks\": \"\"}}, \"type\": \"scattergl\"}], \"scattermapbox\": [{\"marker\": {\"colorbar\": {\"outlinewidth\": 0, \"ticks\": \"\"}}, \"type\": \"scattermapbox\"}], \"scatterpolar\": [{\"marker\": {\"colorbar\": {\"outlinewidth\": 0, \"ticks\": \"\"}}, \"type\": \"scatterpolar\"}], \"scatterpolargl\": [{\"marker\": {\"colorbar\": {\"outlinewidth\": 0, \"ticks\": \"\"}}, \"type\": \"scatterpolargl\"}], \"scatterternary\": [{\"marker\": {\"colorbar\": {\"outlinewidth\": 0, \"ticks\": \"\"}}, \"type\": \"scatterternary\"}], \"surface\": [{\"colorbar\": {\"outlinewidth\": 0, \"ticks\": \"\"}, \"colorscale\": [[0.0, \"#0d0887\"], [0.1111111111111111, \"#46039f\"], [0.2222222222222222, \"#7201a8\"], [0.3333333333333333, \"#9c179e\"], [0.4444444444444444, \"#bd3786\"], [0.5555555555555556, \"#d8576b\"], [0.6666666666666666, \"#ed7953\"], [0.7777777777777778, \"#fb9f3a\"], [0.8888888888888888, \"#fdca26\"], [1.0, \"#f0f921\"]], \"type\": \"surface\"}], \"table\": [{\"cells\": {\"fill\": {\"color\": \"#EBF0F8\"}, \"line\": {\"color\": \"white\"}}, \"header\": {\"fill\": {\"color\": \"#C8D4E3\"}, \"line\": {\"color\": \"white\"}}, \"type\": \"table\"}]}, \"layout\": {\"annotationdefaults\": {\"arrowcolor\": \"#2a3f5f\", \"arrowhead\": 0, \"arrowwidth\": 1}, \"colorscale\": {\"diverging\": [[0, \"#8e0152\"], [0.1, \"#c51b7d\"], [0.2, \"#de77ae\"], [0.3, \"#f1b6da\"], [0.4, \"#fde0ef\"], [0.5, \"#f7f7f7\"], [0.6, \"#e6f5d0\"], [0.7, \"#b8e186\"], [0.8, \"#7fbc41\"], [0.9, \"#4d9221\"], [1, \"#276419\"]], \"sequential\": [[0.0, \"#0d0887\"], [0.1111111111111111, \"#46039f\"], [0.2222222222222222, \"#7201a8\"], [0.3333333333333333, \"#9c179e\"], [0.4444444444444444, \"#bd3786\"], [0.5555555555555556, \"#d8576b\"], [0.6666666666666666, \"#ed7953\"], [0.7777777777777778, \"#fb9f3a\"], [0.8888888888888888, \"#fdca26\"], [1.0, \"#f0f921\"]], \"sequentialminus\": [[0.0, \"#0d0887\"], [0.1111111111111111, \"#46039f\"], [0.2222222222222222, \"#7201a8\"], [0.3333333333333333, \"#9c179e\"], [0.4444444444444444, \"#bd3786\"], [0.5555555555555556, \"#d8576b\"], [0.6666666666666666, \"#ed7953\"], [0.7777777777777778, \"#fb9f3a\"], [0.8888888888888888, \"#fdca26\"], [1.0, \"#f0f921\"]]}, \"colorway\": [\"#636efa\", \"#EF553B\", \"#00cc96\", \"#ab63fa\", \"#FFA15A\", \"#19d3f3\", \"#FF6692\", \"#B6E880\", \"#FF97FF\", \"#FECB52\"], \"font\": {\"color\": \"#2a3f5f\"}, \"geo\": {\"bgcolor\": \"white\", \"lakecolor\": \"white\", \"landcolor\": \"#E5ECF6\", \"showlakes\": true, \"showland\": true, \"subunitcolor\": \"white\"}, \"hoverlabel\": {\"align\": \"left\"}, \"hovermode\": \"closest\", \"mapbox\": {\"style\": \"light\"}, \"paper_bgcolor\": \"white\", \"plot_bgcolor\": \"#E5ECF6\", \"polar\": {\"angularaxis\": {\"gridcolor\": \"white\", \"linecolor\": \"white\", \"ticks\": \"\"}, \"bgcolor\": \"#E5ECF6\", \"radialaxis\": {\"gridcolor\": \"white\", \"linecolor\": \"white\", \"ticks\": \"\"}}, \"scene\": {\"xaxis\": {\"backgroundcolor\": \"#E5ECF6\", \"gridcolor\": \"white\", \"gridwidth\": 2, \"linecolor\": \"white\", \"showbackground\": true, \"ticks\": \"\", \"zerolinecolor\": \"white\"}, \"yaxis\": {\"backgroundcolor\": \"#E5ECF6\", \"gridcolor\": \"white\", \"gridwidth\": 2, \"linecolor\": \"white\", \"showbackground\": true, \"ticks\": \"\", \"zerolinecolor\": \"white\"}, \"zaxis\": {\"backgroundcolor\": \"#E5ECF6\", \"gridcolor\": \"white\", \"gridwidth\": 2, \"linecolor\": \"white\", \"showbackground\": true, \"ticks\": \"\", \"zerolinecolor\": \"white\"}}, \"shapedefaults\": {\"line\": {\"color\": \"#2a3f5f\"}}, \"ternary\": {\"aaxis\": {\"gridcolor\": \"white\", \"linecolor\": \"white\", \"ticks\": \"\"}, \"baxis\": {\"gridcolor\": \"white\", \"linecolor\": \"white\", \"ticks\": \"\"}, \"bgcolor\": \"#E5ECF6\", \"caxis\": {\"gridcolor\": \"white\", \"linecolor\": \"white\", \"ticks\": \"\"}}, \"title\": {\"x\": 0.05}, \"xaxis\": {\"automargin\": true, \"gridcolor\": \"white\", \"linecolor\": \"white\", \"ticks\": \"\", \"zerolinecolor\": \"white\", \"zerolinewidth\": 2}, \"yaxis\": {\"automargin\": true, \"gridcolor\": \"white\", \"linecolor\": \"white\", \"ticks\": \"\", \"zerolinecolor\": \"white\", \"zerolinewidth\": 2}}}, \"title\": {\"text\": \"CountMatch Default Global Growth Rate\"}, \"width\": 900, \"xaxis\": {\"gridwidth\": 2, \"ticklen\": 1000, \"title\": {\"text\": \"Ground Truth\"}, \"zeroline\": false}, \"yaxis\": {\"gridwidth\": 2, \"ticklen\": 1000, \"title\": {\"text\": \"Typical Prediction\"}}},\n",
       "                        {\"responsive\": true}\n",
       "                    ).then(function(){\n",
       "                            \n",
       "var gd = document.getElementById('72e66310-df33-44a9-bf94-e010786646ce');\n",
       "var x = new MutationObserver(function (mutations, observer) {{\n",
       "        var display = window.getComputedStyle(gd).display;\n",
       "        if (!display || display === 'none') {{\n",
       "            console.log([gd, 'removed!']);\n",
       "            Plotly.purge(gd);\n",
       "            observer.disconnect();\n",
       "        }}\n",
       "}});\n",
       "\n",
       "// Listen for the removal of the full notebook cells\n",
       "var notebookContainer = gd.closest('#notebook-container');\n",
       "if (notebookContainer) {{\n",
       "    x.observe(notebookContainer, {childList: true});\n",
       "}}\n",
       "\n",
       "// Listen for the clearing of the current output cell\n",
       "var outputEl = gd.closest('.output');\n",
       "if (outputEl) {{\n",
       "    x.observe(outputEl, {childList: true});\n",
       "}}\n",
       "\n",
       "                        })\n",
       "                };\n",
       "                });\n",
       "            </script>\n",
       "        </div>"
      ]
     },
     "metadata": {},
     "output_type": "display_data"
    }
   ],
   "source": [
    "make_ploty_scatter(cm_ggf_aadt, 'CountMatch Default Global Growth Rate')"
   ]
  },
  {
   "cell_type": "code",
   "execution_count": 65,
   "metadata": {},
   "outputs": [
    {
     "data": {
      "text/html": [
       "\n",
       "<style>\n",
       "\n",
       ".kydbox {\n",
       "  border-style: solid;\n",
       "  border-color: #CCCCCC;\n",
       "  border-width: 2px;\n",
       "  margin: 10px;\n",
       "  padding: 5px;\n",
       "  font-family: sans-serif;\n",
       "  font-size: 10pt;\n",
       "}\n",
       "\n",
       ".kydfloatboxleft {\n",
       "  margin: 5px;\n",
       "  padding-left: 10px;\n",
       "  float: left;\n",
       "  border-right-width: 2px;\n",
       "  border-right-style: solid;\n",
       "  border-right-color: #CCCCCC;\n",
       "  padding-right: 15px;\n",
       "  margin-right: 15px;\n",
       "}\n",
       "\n",
       ".kydfloatboxright {\n",
       "  margin: 5px;\n",
       "  padding-right: 10px;\n",
       "  float: right;\n",
       "}\n",
       "\n",
       ".kydsubtitle {\n",
       "  font-size: 10pt;\n",
       "  font-weight: bold;\n",
       "  margin-top: 5px;\n",
       "  margin-bottom: 5px;\n",
       "}\n",
       "\n",
       ".kydpropertylabel {\n",
       "  font-weight: bold;\n",
       "}\n",
       "\n",
       "td.kydpropertylabel {\n",
       "  text-align: right;\n",
       "}\n",
       "\n",
       "table.kydbasic_stats,\n",
       "table.kydarray_structure {\n",
       "  padding-top: 0px;\n",
       "}\n",
       "\n",
       "table.kydbasic_stats td,\n",
       "table.kydarray_structure td {\n",
       "  padding: 3px 10px 3px 10px;\n",
       "}\n",
       "\n",
       ".kydbottomborder {\n",
       "  border-bottom-width:2px;\n",
       "  border-bottom-style:solid;\n",
       "  border-bottom-color:#CCCCCC;\n",
       "}\n",
       "\n",
       "</style>\n",
       "\n",
       "<div class=\"kydbox\" , style=\"float:left\">\n",
       "\n",
       "  <div class=\"kydfloatboxleft\">\n",
       "    <div class=\"kydsubtitle\">Basic Statistics</div>\n",
       "\n",
       "    <span class='kydpropertylabel'>Mean:</span>\n",
       "    0.1822\n",
       "    &nbsp;&nbsp;&nbsp;&nbsp;\n",
       "    <span class='kydpropertylabel'>Std Dev:</span>\n",
       "    0.2182\n",
       "\n",
       "    <table class=\"kydbasic_stats\">\n",
       "      <tr>\n",
       "        <td class='kydpropertylabel'>Min:</td>\n",
       "        <td>0.01575</td>\n",
       "        <td class='kydpropertylabel'>-99% CI:</td>\n",
       "        <td>0.01928</td>\n",
       "      </tr>\n",
       "      <tr>\n",
       "        <td class='kydpropertylabel'>1Q:</td>\n",
       "        <td>0.08824</td>\n",
       "        <td class='kydpropertylabel'>-95% CI:</td>\n",
       "        <td>0.04297</td>\n",
       "      </tr>\n",
       "      <tr>\n",
       "        <td class='kydpropertylabel'>Median:</td>\n",
       "        <td>0.1377</td>\n",
       "        <td class='kydpropertylabel'>-68% CI:</td>\n",
       "        <td>0.07056</td>\n",
       "      </tr>\n",
       "      <tr>\n",
       "        <td class='kydpropertylabel'>3Q:</td>\n",
       "        <td>0.2149</td>\n",
       "        <td class='kydpropertylabel'>+68% CI:</td>\n",
       "        <td>0.2502</td>\n",
       "      </tr>\n",
       "      <tr>\n",
       "        <td class='kydpropertylabel'>Max:</td>\n",
       "        <td>2.997</td>\n",
       "        <td class='kydpropertylabel'>+95% CI:</td>\n",
       "        <td>0.546</td>\n",
       "      </tr>\n",
       "      <tr>\n",
       "        <td>&nbsp;</td>\n",
       "        <td>&nbsp;</td>\n",
       "        <td class='kydpropertylabel'>+99% CI:</td>\n",
       "        <td>1.212</td>\n",
       "      </tr>\n",
       "\n",
       "    </table>\n",
       "  </div>\n",
       "\n",
       "  <div class=\"kydfloatboxright\">\n",
       "    <div class=\"kydsubtitle\">Array Structure</div>\n",
       "    <table class=\"kydarray_structure\">\n",
       "      <tr>\n",
       "        <td class='kydpropertylabel'>Number of Dimensions:</td>\n",
       "        <td>1</td>\n",
       "      </tr>\n",
       "      <tr>\n",
       "        <td class='kydpropertylabel'>Shape of Dimensions:</td>\n",
       "        <td>(303,)</td>\n",
       "      </tr>\n",
       "      <tr>\n",
       "        <td class='kydpropertylabel'>Array Data Type:</td>\n",
       "        <td>float64</td>\n",
       "      </tr>\n",
       "      <tr>\n",
       "        <td class='kydpropertylabel'>Memory Size:</td>\n",
       "        <td>2.5KiB</td>\n",
       "      </tr>\n",
       "      <tr>\n",
       "        <td class='kydpropertylabel'>Number of NaN:</td>\n",
       "        <td>0</td>\n",
       "      </tr>\n",
       "      <tr>\n",
       "        <td class='kydpropertylabel'>Number of Inf:</td>\n",
       "        <td>0</td>\n",
       "      </tr>\n",
       "\n",
       "    </table>\n",
       "  </div>\n",
       "\n",
       "</div>\n"
      ],
      "text/plain": [
       "\n",
       "| Basic Statistics                                          | Array Structure              \t|\n",
       "|                                                           |                              \t|\n",
       "|    Mean:         Min:   0.01575     -99 CI:   0.01928     | Number of Dimensions:   1    \t|\n",
       "|    0.1822         1Q:   0.08824     -95 CI:   0.04297     | Shape of Dimensions:    (303,)\t|\n",
       "|               Median:   0.1377      -68 CI:   0.07056     | Array Data Type:        float64\t|\n",
       "|   Std Dev:        3Q:   0.2149      +68 CI:   0.2502      | Memory Size:            2.5KiB\t|\n",
       "|    0.2182        Max:   2.997       +95 CI:   0.546       |                              \t|\n",
       "|                                     +99 CI:   1.212       | Number of NaN:  0            \t|\n",
       "|                                                           | Number of Inf:  0            \t|\n"
      ]
     },
     "metadata": {},
     "output_type": "display_data"
    }
   ],
   "source": [
    "check_mape(cm_ggf_aadt)"
   ]
  },
  {
   "cell_type": "code",
   "execution_count": 80,
   "metadata": {},
   "outputs": [
    {
     "data": {
      "text/plain": [
       "'Slope: 0.9185862096967297'"
      ]
     },
     "execution_count": 80,
     "metadata": {},
     "output_type": "execute_result"
    }
   ],
   "source": [
    "linear_fit(cm_ggf_aadt)"
   ]
  },
  {
   "cell_type": "markdown",
   "metadata": {},
   "source": [
    "### Bagheri MSE with Global Growth Rate"
   ]
  },
  {
   "cell_type": "code",
   "execution_count": 67,
   "metadata": {},
   "outputs": [
    {
     "data": {
      "application/vnd.plotly.v1+json": {
       "config": {
        "linkText": "Export to plot.ly",
        "plotlyServerURL": "https://plot.ly",
        "showLink": false
       },
       "data": [
        {
         "hovertemplate": "%{x:0.3f}, %{y:0.3f}",
         "marker": {
          "color": "#1f77b4",
          "line": {
           "width": 1
          },
          "size": 14
         },
         "mode": "markers",
         "name": "2006",
         "type": "scatter",
         "x": [
          1062.7846825679437
         ],
         "y": [
          1978.3218855303305
         ]
        },
        {
         "hovertemplate": "%{x:0.3f}, %{y:0.3f}",
         "marker": {
          "color": "#ff7f0e",
          "line": {
           "width": 1
          },
          "size": 14
         },
         "mode": "markers",
         "name": "2010",
         "type": "scatter",
         "x": [
          15255.520320454854,
          55196.733806100536,
          8245.02643178383,
          29127.998506404634,
          61641.049747671146,
          75440.99990165087,
          6662.478466803338,
          18725.636255852212,
          83486.95739560948,
          80197.74419072465,
          7226.875264658771,
          58021.08437105056,
          53625.34702047268,
          19307.867796457664,
          18739.428061618746,
          25662.300544796093,
          9526.935479277297,
          17953.196473929424,
          16986.55734146219,
          4022.0163578674888,
          6640.411861809423,
          4349.017096425068,
          29673.56449650973,
          9503.730777958495,
          4067.500047205748,
          25091.859608315604,
          73410.80112754917,
          30578.572598213887,
          65699.8324925106,
          80534.45171352786,
          16005.209527768406,
          86996.37810261064,
          80803.02430523981,
          56367.6453896252,
          19675.023911736665,
          6119.285824000488,
          41744.782060581725,
          40430.13331105424,
          52844.842148811615,
          22381.673026850876,
          6827.877079343163,
          32133.694570581447,
          82822.14136454414,
          79348.81712166812,
          8951.316680616188,
          85009.78862537871,
          4162.2856361852255,
          33880.909913883945,
          15216.509862723648,
          13876.078020011726,
          17292.127972502018,
          70583.4807799674,
          3350.1645458149246,
          5627.793110230975,
          24554.12811210833,
          12703.668581564827,
          8344.272807979438,
          80137.1689330468,
          65963.77195589899,
          77712.71881542233,
          48484.23570580561,
          5072.656912539515,
          21674.612031935783,
          55193.205708264344,
          9036.046049475637,
          45498.04162975632,
          42005.05723432648,
          39989.98103019051,
          61458.92259308879,
          75302.0459671835,
          76806.23893737241,
          75541.33410142064,
          20032.989169463664,
          15961.46816448392,
          63461.178599911276,
          23831.603927778735,
          73438.55419519293,
          35230.751580256285,
          19684.84187661755,
          14121.272975851934,
          10492.872862176555,
          11306.436426714838,
          11426.60318799843,
          9630.36991410636,
          6444.665968541579,
          24334.25538905387,
          11410.068652502016,
          19013.11536241012,
          8948.027613213673,
          13502.089826410771,
          44262.78116983048,
          18652.174886664325,
          77842.57576763799,
          7667.695307095944,
          76963.1163075428,
          22808.731510967384,
          74519.3638868985,
          31061.41705255208,
          7584.451093859001,
          23274.26292102494,
          86975.81296132477,
          60635.98060426179,
          4380.833904736815,
          11525.43047994123,
          64941.79602794934,
          9149.604068610231,
          56538.16874341844
         ],
         "y": [
          16102.337651779615,
          59484.60342787486,
          9392.159846912342,
          39208.73260959443,
          50800.3640091297,
          64832.74244112811,
          6092.667251023922,
          19280.459343992723,
          72284.83549638044,
          74876.54161656681,
          7629.833157331365,
          53827.438495042115,
          43702.641435577505,
          15532.02191799131,
          22862.210995417856,
          27551.48348203278,
          11261.577768495108,
          18982.809958592545,
          15321.2048999054,
          4092.034487944753,
          5468.880749481331,
          4402.2262693182965,
          32558.758833184835,
          9646.395225359169,
          4550.925824210546,
          23791.543192634155,
          69322.59164771425,
          29946.43376638864,
          79675.93237871067,
          82760.25532325364,
          22199.732566477738,
          79290.98452885692,
          92995.77103626235,
          63690.33274480356,
          18218.353839162508,
          6525.859286509299,
          38719.44308859342,
          39374.71135367614,
          54834.55283010373,
          28294.285722685177,
          7117.9033082049355,
          33441.65297011744,
          80709.21765620846,
          77033.06345705238,
          9276.341440495256,
          85201.10779917835,
          4862.63456439137,
          32825.47301797182,
          16788.662969771714,
          15679.710532462674,
          18322.53229453161,
          75891.83582979756,
          3394.503994710606,
          5434.05167787927,
          23526.68797599271,
          12395.402661077655,
          7093.343021835024,
          69619.70166103514,
          58662.217541310776,
          114289.1977102446,
          47787.62742273345,
          4941.156277449796,
          21779.50654216691,
          53112.574193129,
          8925.061873126582,
          40028.068767851204,
          44878.20291189153,
          34686.049434633234,
          52076.397250726885,
          81326.89583678024,
          72773.3144864853,
          56935.34474385851,
          16899.60166205277,
          27712.732493995863,
          60900.98011804926,
          19139.87129375583,
          61596.567587241145,
          23896.35413134665,
          24579.02066774437,
          13797.795473938251,
          9869.301418586369,
          9568.111034621477,
          12709.469945726818,
          10026.466732178698,
          6226.326487690714,
          25591.922534943056,
          9438.736582466958,
          17836.337934997493,
          6811.263046325099,
          12520.596799763653,
          46532.62501824037,
          17832.76994963068,
          153675.39279992855,
          5409.797532753626,
          82804.96713824729,
          21956.80167231499,
          90943.30265636565,
          36555.055749248626,
          7988.046739672848,
          24006.80301542248,
          63045.802704910384,
          50215.36529870747,
          4618.420576430207,
          17434.625209496604,
          63252.369193047954,
          8364.207496182664,
          52706.35048572062
         ]
        },
        {
         "hovertemplate": "%{x:0.3f}, %{y:0.3f}",
         "marker": {
          "color": "#2ca02c",
          "line": {
           "width": 1
          },
          "size": 14
         },
         "mode": "markers",
         "name": "2011",
         "type": "scatter",
         "x": [
          14997.78954749053,
          15291.262582779787,
          17043.493208499844,
          2523.7983376888337,
          15677.47166044147,
          17869.539368077072,
          1746.7162980227317,
          19868.68745671428,
          1076.228147585618
         ],
         "y": [
          14264.268704406031,
          15407.157686973338,
          16555.81213350121,
          2382.923185374574,
          14461.839606460933,
          16484.841350401486,
          1493.9195248149524,
          17355.690579129674,
          1834.2458824422083
         ]
        },
        {
         "hovertemplate": "%{x:0.3f}, %{y:0.3f}",
         "marker": {
          "color": "#d62728",
          "line": {
           "width": 1
          },
          "size": 14
         },
         "mode": "markers",
         "name": "2012",
         "type": "scatter",
         "x": [
          12122.424511023703,
          6456.27579276041,
          16130.178781169525,
          15085.224911193463,
          3673.4333462094087,
          8280.438367904411,
          32795.53503555821,
          14166.06566327492,
          13875.171506037826,
          6946.90432357302,
          2564.982449923113,
          16811.695023108605,
          12449.995480114758,
          5531.02785623472,
          23794.741377539554,
          16225.721041391871,
          8487.049018816118,
          7266.177275813694,
          17726.352009923998,
          13293.463666423551,
          1817.611035632038,
          9795.194916846965,
          19606.436026491916,
          1513.7535597198428,
          19161.2166823692,
          8801.735137201393,
          22346.69328874194,
          8043.957317300389,
          15506.259215521497
         ],
         "y": [
          14126.606133305248,
          9697.009636348514,
          17683.053679238914,
          16147.61776669659,
          3862.943324618255,
          9887.384520905207,
          37120.31619885424,
          17023.597150460788,
          16865.998274046444,
          7266.103677106938,
          2430.566808509959,
          15970.874594744255,
          13732.221122053827,
          6391.471076808412,
          19346.42146736834,
          17394.39362940512,
          8850.87990524291,
          7490.450385875232,
          17490.603172834904,
          13503.297778959646,
          1945.3902545693818,
          9055.982060658122,
          21651.449965198626,
          1538.8837396097442,
          17782.848746315754,
          10755.668941275593,
          20683.63419069407,
          8084.699533959411,
          15407.004918409415
         ]
        },
        {
         "hovertemplate": "%{x:0.3f}, %{y:0.3f}",
         "marker": {
          "color": "#9467bd",
          "line": {
           "width": 1
          },
          "size": 14
         },
         "mode": "markers",
         "name": "2013",
         "type": "scatter",
         "x": [
          15102.145260064033,
          15037.697671232878,
          3665.4998960793578,
          2490.3457239971012,
          5603.78842117102,
          15372.719782711385,
          17612.591702544032,
          17382.1763281373,
          1739.7917314539077,
          4341.678351965569,
          18814.096759240514,
          1100.3903892150468,
          8854.49618817684
         ],
         "y": [
          15614.617709914564,
          14938.527198039035,
          3801.5846820235365,
          1953.1824071312851,
          6161.663407082632,
          15730.91336444858,
          19203.870761108243,
          8955.407250935083,
          1915.261180583333,
          930.7159476881991,
          20126.58808138365,
          356.13597146907745,
          9591.176822906828
         ]
        },
        {
         "hovertemplate": "%{x:0.3f}, %{y:0.3f}",
         "marker": {
          "color": "#8c564b",
          "line": {
           "width": 1
          },
          "size": 14
         },
         "mode": "markers",
         "name": "2014",
         "type": "scatter",
         "x": [
          12760.622579121398,
          14946.546014800819,
          3610.743744292238,
          2329.2785458108083,
          5657.709132420092,
          14272.475314498655,
          17319.459874035587,
          1584.94106527406,
          18586.336687135885,
          1107.0032348182726
         ],
         "y": [
          14007.318769396225,
          15416.88739239907,
          3941.7144523231377,
          2870.508256911469,
          5731.837089457349,
          14271.408625610804,
          16998.34912952631,
          1620.1089388986763,
          17708.946069910922,
          1717.1671155197282
         ]
        },
        {
         "hovertemplate": "%{x:0.3f}, %{y:0.3f}",
         "marker": {
          "color": "#e377c2",
          "line": {
           "width": 1
          },
          "size": 14
         },
         "mode": "markers",
         "name": "2015",
         "type": "scatter",
         "x": [
          13025.188062731228,
          54092.21641704718,
          4752.054240340868,
          14029.143693906475,
          44503.244295586235,
          45184.180866705945,
          14784.653280893412,
          5280.982156782363,
          16004.157421433343,
          4026.95057312204,
          16736.72390166163,
          21399.258249116123,
          17507.588993042362,
          7608.62678426732,
          67671.81863827101,
          6976.453876543033,
          72784.43025066845,
          2149.2504887987566,
          72502.09468558192,
          8143.520062927568,
          16021.068682097306,
          77299.7344574856,
          4765.604302216203,
          70500.40606522319,
          66373.48038728155,
          8888.472813855613,
          1718.2410662508892,
          17861.679841113066,
          30724.841253154143,
          46956.50295756965,
          24289.420157800065,
          54557.826407719826,
          15486.917195479007,
          10194.042146028747,
          9408.49625582023,
          1151.112911352543,
          6679.129196651287,
          6484.342899262018,
          10943.55175334468,
          36360.82872367504,
          17089.591485859888,
          54795.58976704318,
          54199.26003096565,
          10886.13818428678,
          8079.613078399825
         ],
         "y": [
          16428.554409401488,
          57136.306717586274,
          4795.005105184832,
          18299.794431071154,
          59172.2482127736,
          63340.84306331206,
          20214.360715737337,
          6976.8398847809,
          16844.780953628375,
          10496.962892337051,
          22454.790871448775,
          24364.51727727247,
          19929.241512335273,
          9548.499129353146,
          89451.76573570607,
          9304.52669484471,
          95116.9071930032,
          2428.8999730271885,
          75498.5058766314,
          8811.964524093673,
          14755.971922036288,
          67419.23757567421,
          4569.970437817893,
          73959.27665427772,
          93848.85272282879,
          8546.343376217907,
          1834.0711835965983,
          14130.471829340837,
          29145.44582938736,
          46436.9982105986,
          21763.287084659518,
          52223.81984943745,
          5509.486449405306,
          9491.395354626706,
          6945.30121616047,
          1926.7428075149394,
          12318.07266711531,
          7097.683557615107,
          9267.344697830638,
          32065.163734293863,
          12955.958000251567,
          43530.876818174205,
          45976.33262566151,
          11886.193627860936,
          4711.227541787998
         ]
        },
        {
         "hovertemplate": "%{x:0.3f}, %{y:0.3f}",
         "marker": {
          "color": "#7f7f7f",
          "line": {
           "width": 1
          },
          "size": 14
         },
         "mode": "markers",
         "name": "2016",
         "type": "scatter",
         "x": [
          31232.03253648905,
          60856.943590981275,
          66361.43174968039,
          5535.951839287525,
          62249.43295647431,
          15429.644725541611,
          58614.205398740596,
          17374.560905151004,
          4344.53516409976,
          6357.27981465711,
          9066.866750750156,
          12718.523885631672,
          4563.775167137052,
          13632.425062614913,
          70326.47856103058,
          12220.068681624487,
          22777.14571149652,
          17917.129834403553,
          11154.323909597966,
          48429.082869038284,
          64882.736825728134,
          79819.77187622128,
          2556.034248867213,
          95106.14518001657,
          81854.5751331586,
          8877.454483423537,
          80808.50501811485,
          4162.106561234131,
          74771.76844622001,
          85325.92735086565,
          7491.912099031783,
          5384.233520909197,
          77574.6388921176,
          76680.22009843627,
          46161.95702305582,
          41868.59492876478,
          27450.00573146647,
          14324.55746690547,
          15681.28236216983,
          70411.87673020888,
          18812.64368150065,
          11132.340088922918,
          21186.53062238622,
          1214.887861876526,
          12146.73160537095,
          9837.18261626057,
          7977.470953967234,
          4524.573395433636,
          17050.650724944455,
          20258.75867441858,
          67789.75483334762,
          56502.02694014107,
          10222.789469466303
         ],
         "y": [
          37081.480330169376,
          60696.4278911076,
          74770.74970761038,
          4656.538970446544,
          56795.80330558125,
          18848.40675692655,
          34881.563571160244,
          24561.77143238811,
          4088.920120330535,
          4377.661640963859,
          10098.920951073373,
          18217.091519928385,
          4781.535121228367,
          14690.100752169683,
          74304.94304244129,
          18820.13310089576,
          29149.439562035997,
          19042.863811673553,
          12303.727706787458,
          60321.97369267536,
          59957.301721073345,
          99542.11034577375,
          2289.9839726237883,
          99222.73453450059,
          72312.70079932128,
          8672.250187622247,
          86390.74247700156,
          5824.745262391892,
          71791.77531628357,
          75187.61743173176,
          6567.2109539817575,
          4786.570170244828,
          67073.22438159706,
          75043.3515019332,
          59499.20302354623,
          51472.71097782233,
          26262.906371800254,
          23752.389213417908,
          17272.725406919093,
          68080.59916321917,
          25271.741337057378,
          10479.028326681095,
          20241.564360354732,
          1656.8021072763595,
          13655.844977204571,
          13853.451538977455,
          9324.064554634591,
          4509.059027731837,
          27152.089619329592,
          18498.49960118219,
          81199.22328320003,
          71186.72236265421,
          10661.987461898823
         ]
        },
        {
         "hovertemplate": "%{x:0.3f}, %{y:0.3f}",
         "marker": {
          "color": "#bcbd22",
          "line": {
           "width": 1
          },
          "size": 14
         },
         "mode": "markers",
         "name": "2017",
         "type": "scatter",
         "x": [
          27291.227204465402,
          75590.15055209106,
          84970.3931884344,
          65737.97442569387,
          15252.134009265044,
          62387.955748594584,
          9513.11971264637,
          9640.698061042336,
          9397.684790938954,
          18257.93560655336,
          9651.320306685178,
          5146.237359500996,
          73598.64391726807,
          12543.328491040786,
          24458.227479590052,
          21178.270322993794,
          8116.776474268182,
          43621.80456517726,
          11244.76458063908,
          98187.33176009626,
          7166.009088488271,
          81497.99518442636,
          76149.17861888098,
          40663.8047038385,
          30279.995750202102,
          13000.177858025389,
          73584.34273936834,
          18307.355536994186,
          21136.083089804855,
          1148.5228869922566,
          11281.854323233943,
          11507.338664458319,
          14908.302384967998,
          72839.3124783649,
          66973.17701196487,
          35105.97125649809
         ],
         "y": [
          43734.90552086148,
          74655.99088547938,
          95739.87475020783,
          60486.26142666125,
          15453.702253371945,
          60890.97782291511,
          9511.39621673895,
          9685.675685370821,
          9620.531718352819,
          17996.63435347982,
          7579.455666117632,
          10928.971010368572,
          99278.98654160158,
          18558.803774445805,
          27104.648315437,
          17272.744469968526,
          7365.7640213785035,
          44320.43240453547,
          8522.78697282897,
          66993.51514611693,
          8469.169747477823,
          66311.80946811945,
          72433.3883553591,
          45885.381780884425,
          29184.16358784507,
          34381.24311597021,
          69224.77374752422,
          53104.5698285026,
          28491.970803617067,
          1156.990837675083,
          13799.907738204562,
          10163.006713542287,
          21043.82847113234,
          90650.99347435527,
          71576.68960444,
          36931.42331936709
         ]
        }
       ],
       "layout": {
        "height": 600,
        "hovermode": "closest",
        "showlegend": true,
        "template": {
         "data": {
          "bar": [
           {
            "error_x": {
             "color": "#2a3f5f"
            },
            "error_y": {
             "color": "#2a3f5f"
            },
            "marker": {
             "line": {
              "color": "#E5ECF6",
              "width": 0.5
             }
            },
            "type": "bar"
           }
          ],
          "barpolar": [
           {
            "marker": {
             "line": {
              "color": "#E5ECF6",
              "width": 0.5
             }
            },
            "type": "barpolar"
           }
          ],
          "carpet": [
           {
            "aaxis": {
             "endlinecolor": "#2a3f5f",
             "gridcolor": "white",
             "linecolor": "white",
             "minorgridcolor": "white",
             "startlinecolor": "#2a3f5f"
            },
            "baxis": {
             "endlinecolor": "#2a3f5f",
             "gridcolor": "white",
             "linecolor": "white",
             "minorgridcolor": "white",
             "startlinecolor": "#2a3f5f"
            },
            "type": "carpet"
           }
          ],
          "choropleth": [
           {
            "colorbar": {
             "outlinewidth": 0,
             "ticks": ""
            },
            "type": "choropleth"
           }
          ],
          "contour": [
           {
            "colorbar": {
             "outlinewidth": 0,
             "ticks": ""
            },
            "colorscale": [
             [
              0,
              "#0d0887"
             ],
             [
              0.1111111111111111,
              "#46039f"
             ],
             [
              0.2222222222222222,
              "#7201a8"
             ],
             [
              0.3333333333333333,
              "#9c179e"
             ],
             [
              0.4444444444444444,
              "#bd3786"
             ],
             [
              0.5555555555555556,
              "#d8576b"
             ],
             [
              0.6666666666666666,
              "#ed7953"
             ],
             [
              0.7777777777777778,
              "#fb9f3a"
             ],
             [
              0.8888888888888888,
              "#fdca26"
             ],
             [
              1,
              "#f0f921"
             ]
            ],
            "type": "contour"
           }
          ],
          "contourcarpet": [
           {
            "colorbar": {
             "outlinewidth": 0,
             "ticks": ""
            },
            "type": "contourcarpet"
           }
          ],
          "heatmap": [
           {
            "colorbar": {
             "outlinewidth": 0,
             "ticks": ""
            },
            "colorscale": [
             [
              0,
              "#0d0887"
             ],
             [
              0.1111111111111111,
              "#46039f"
             ],
             [
              0.2222222222222222,
              "#7201a8"
             ],
             [
              0.3333333333333333,
              "#9c179e"
             ],
             [
              0.4444444444444444,
              "#bd3786"
             ],
             [
              0.5555555555555556,
              "#d8576b"
             ],
             [
              0.6666666666666666,
              "#ed7953"
             ],
             [
              0.7777777777777778,
              "#fb9f3a"
             ],
             [
              0.8888888888888888,
              "#fdca26"
             ],
             [
              1,
              "#f0f921"
             ]
            ],
            "type": "heatmap"
           }
          ],
          "heatmapgl": [
           {
            "colorbar": {
             "outlinewidth": 0,
             "ticks": ""
            },
            "colorscale": [
             [
              0,
              "#0d0887"
             ],
             [
              0.1111111111111111,
              "#46039f"
             ],
             [
              0.2222222222222222,
              "#7201a8"
             ],
             [
              0.3333333333333333,
              "#9c179e"
             ],
             [
              0.4444444444444444,
              "#bd3786"
             ],
             [
              0.5555555555555556,
              "#d8576b"
             ],
             [
              0.6666666666666666,
              "#ed7953"
             ],
             [
              0.7777777777777778,
              "#fb9f3a"
             ],
             [
              0.8888888888888888,
              "#fdca26"
             ],
             [
              1,
              "#f0f921"
             ]
            ],
            "type": "heatmapgl"
           }
          ],
          "histogram": [
           {
            "marker": {
             "colorbar": {
              "outlinewidth": 0,
              "ticks": ""
             }
            },
            "type": "histogram"
           }
          ],
          "histogram2d": [
           {
            "colorbar": {
             "outlinewidth": 0,
             "ticks": ""
            },
            "colorscale": [
             [
              0,
              "#0d0887"
             ],
             [
              0.1111111111111111,
              "#46039f"
             ],
             [
              0.2222222222222222,
              "#7201a8"
             ],
             [
              0.3333333333333333,
              "#9c179e"
             ],
             [
              0.4444444444444444,
              "#bd3786"
             ],
             [
              0.5555555555555556,
              "#d8576b"
             ],
             [
              0.6666666666666666,
              "#ed7953"
             ],
             [
              0.7777777777777778,
              "#fb9f3a"
             ],
             [
              0.8888888888888888,
              "#fdca26"
             ],
             [
              1,
              "#f0f921"
             ]
            ],
            "type": "histogram2d"
           }
          ],
          "histogram2dcontour": [
           {
            "colorbar": {
             "outlinewidth": 0,
             "ticks": ""
            },
            "colorscale": [
             [
              0,
              "#0d0887"
             ],
             [
              0.1111111111111111,
              "#46039f"
             ],
             [
              0.2222222222222222,
              "#7201a8"
             ],
             [
              0.3333333333333333,
              "#9c179e"
             ],
             [
              0.4444444444444444,
              "#bd3786"
             ],
             [
              0.5555555555555556,
              "#d8576b"
             ],
             [
              0.6666666666666666,
              "#ed7953"
             ],
             [
              0.7777777777777778,
              "#fb9f3a"
             ],
             [
              0.8888888888888888,
              "#fdca26"
             ],
             [
              1,
              "#f0f921"
             ]
            ],
            "type": "histogram2dcontour"
           }
          ],
          "mesh3d": [
           {
            "colorbar": {
             "outlinewidth": 0,
             "ticks": ""
            },
            "type": "mesh3d"
           }
          ],
          "parcoords": [
           {
            "line": {
             "colorbar": {
              "outlinewidth": 0,
              "ticks": ""
             }
            },
            "type": "parcoords"
           }
          ],
          "scatter": [
           {
            "marker": {
             "colorbar": {
              "outlinewidth": 0,
              "ticks": ""
             }
            },
            "type": "scatter"
           }
          ],
          "scatter3d": [
           {
            "line": {
             "colorbar": {
              "outlinewidth": 0,
              "ticks": ""
             }
            },
            "marker": {
             "colorbar": {
              "outlinewidth": 0,
              "ticks": ""
             }
            },
            "type": "scatter3d"
           }
          ],
          "scattercarpet": [
           {
            "marker": {
             "colorbar": {
              "outlinewidth": 0,
              "ticks": ""
             }
            },
            "type": "scattercarpet"
           }
          ],
          "scattergeo": [
           {
            "marker": {
             "colorbar": {
              "outlinewidth": 0,
              "ticks": ""
             }
            },
            "type": "scattergeo"
           }
          ],
          "scattergl": [
           {
            "marker": {
             "colorbar": {
              "outlinewidth": 0,
              "ticks": ""
             }
            },
            "type": "scattergl"
           }
          ],
          "scattermapbox": [
           {
            "marker": {
             "colorbar": {
              "outlinewidth": 0,
              "ticks": ""
             }
            },
            "type": "scattermapbox"
           }
          ],
          "scatterpolar": [
           {
            "marker": {
             "colorbar": {
              "outlinewidth": 0,
              "ticks": ""
             }
            },
            "type": "scatterpolar"
           }
          ],
          "scatterpolargl": [
           {
            "marker": {
             "colorbar": {
              "outlinewidth": 0,
              "ticks": ""
             }
            },
            "type": "scatterpolargl"
           }
          ],
          "scatterternary": [
           {
            "marker": {
             "colorbar": {
              "outlinewidth": 0,
              "ticks": ""
             }
            },
            "type": "scatterternary"
           }
          ],
          "surface": [
           {
            "colorbar": {
             "outlinewidth": 0,
             "ticks": ""
            },
            "colorscale": [
             [
              0,
              "#0d0887"
             ],
             [
              0.1111111111111111,
              "#46039f"
             ],
             [
              0.2222222222222222,
              "#7201a8"
             ],
             [
              0.3333333333333333,
              "#9c179e"
             ],
             [
              0.4444444444444444,
              "#bd3786"
             ],
             [
              0.5555555555555556,
              "#d8576b"
             ],
             [
              0.6666666666666666,
              "#ed7953"
             ],
             [
              0.7777777777777778,
              "#fb9f3a"
             ],
             [
              0.8888888888888888,
              "#fdca26"
             ],
             [
              1,
              "#f0f921"
             ]
            ],
            "type": "surface"
           }
          ],
          "table": [
           {
            "cells": {
             "fill": {
              "color": "#EBF0F8"
             },
             "line": {
              "color": "white"
             }
            },
            "header": {
             "fill": {
              "color": "#C8D4E3"
             },
             "line": {
              "color": "white"
             }
            },
            "type": "table"
           }
          ]
         },
         "layout": {
          "annotationdefaults": {
           "arrowcolor": "#2a3f5f",
           "arrowhead": 0,
           "arrowwidth": 1
          },
          "colorscale": {
           "diverging": [
            [
             0,
             "#8e0152"
            ],
            [
             0.1,
             "#c51b7d"
            ],
            [
             0.2,
             "#de77ae"
            ],
            [
             0.3,
             "#f1b6da"
            ],
            [
             0.4,
             "#fde0ef"
            ],
            [
             0.5,
             "#f7f7f7"
            ],
            [
             0.6,
             "#e6f5d0"
            ],
            [
             0.7,
             "#b8e186"
            ],
            [
             0.8,
             "#7fbc41"
            ],
            [
             0.9,
             "#4d9221"
            ],
            [
             1,
             "#276419"
            ]
           ],
           "sequential": [
            [
             0,
             "#0d0887"
            ],
            [
             0.1111111111111111,
             "#46039f"
            ],
            [
             0.2222222222222222,
             "#7201a8"
            ],
            [
             0.3333333333333333,
             "#9c179e"
            ],
            [
             0.4444444444444444,
             "#bd3786"
            ],
            [
             0.5555555555555556,
             "#d8576b"
            ],
            [
             0.6666666666666666,
             "#ed7953"
            ],
            [
             0.7777777777777778,
             "#fb9f3a"
            ],
            [
             0.8888888888888888,
             "#fdca26"
            ],
            [
             1,
             "#f0f921"
            ]
           ],
           "sequentialminus": [
            [
             0,
             "#0d0887"
            ],
            [
             0.1111111111111111,
             "#46039f"
            ],
            [
             0.2222222222222222,
             "#7201a8"
            ],
            [
             0.3333333333333333,
             "#9c179e"
            ],
            [
             0.4444444444444444,
             "#bd3786"
            ],
            [
             0.5555555555555556,
             "#d8576b"
            ],
            [
             0.6666666666666666,
             "#ed7953"
            ],
            [
             0.7777777777777778,
             "#fb9f3a"
            ],
            [
             0.8888888888888888,
             "#fdca26"
            ],
            [
             1,
             "#f0f921"
            ]
           ]
          },
          "colorway": [
           "#636efa",
           "#EF553B",
           "#00cc96",
           "#ab63fa",
           "#FFA15A",
           "#19d3f3",
           "#FF6692",
           "#B6E880",
           "#FF97FF",
           "#FECB52"
          ],
          "font": {
           "color": "#2a3f5f"
          },
          "geo": {
           "bgcolor": "white",
           "lakecolor": "white",
           "landcolor": "#E5ECF6",
           "showlakes": true,
           "showland": true,
           "subunitcolor": "white"
          },
          "hoverlabel": {
           "align": "left"
          },
          "hovermode": "closest",
          "mapbox": {
           "style": "light"
          },
          "paper_bgcolor": "white",
          "plot_bgcolor": "#E5ECF6",
          "polar": {
           "angularaxis": {
            "gridcolor": "white",
            "linecolor": "white",
            "ticks": ""
           },
           "bgcolor": "#E5ECF6",
           "radialaxis": {
            "gridcolor": "white",
            "linecolor": "white",
            "ticks": ""
           }
          },
          "scene": {
           "xaxis": {
            "backgroundcolor": "#E5ECF6",
            "gridcolor": "white",
            "gridwidth": 2,
            "linecolor": "white",
            "showbackground": true,
            "ticks": "",
            "zerolinecolor": "white"
           },
           "yaxis": {
            "backgroundcolor": "#E5ECF6",
            "gridcolor": "white",
            "gridwidth": 2,
            "linecolor": "white",
            "showbackground": true,
            "ticks": "",
            "zerolinecolor": "white"
           },
           "zaxis": {
            "backgroundcolor": "#E5ECF6",
            "gridcolor": "white",
            "gridwidth": 2,
            "linecolor": "white",
            "showbackground": true,
            "ticks": "",
            "zerolinecolor": "white"
           }
          },
          "shapedefaults": {
           "line": {
            "color": "#2a3f5f"
           }
          },
          "ternary": {
           "aaxis": {
            "gridcolor": "white",
            "linecolor": "white",
            "ticks": ""
           },
           "baxis": {
            "gridcolor": "white",
            "linecolor": "white",
            "ticks": ""
           },
           "bgcolor": "#E5ECF6",
           "caxis": {
            "gridcolor": "white",
            "linecolor": "white",
            "ticks": ""
           }
          },
          "title": {
           "x": 0.05
          },
          "xaxis": {
           "automargin": true,
           "gridcolor": "white",
           "linecolor": "white",
           "ticks": "",
           "zerolinecolor": "white",
           "zerolinewidth": 2
          },
          "yaxis": {
           "automargin": true,
           "gridcolor": "white",
           "linecolor": "white",
           "ticks": "",
           "zerolinecolor": "white",
           "zerolinewidth": 2
          }
         }
        },
        "title": {
         "text": "Bagheri MSE Global Growth Rate"
        },
        "width": 900,
        "xaxis": {
         "gridwidth": 2,
         "ticklen": 1000,
         "title": {
          "text": "Ground Truth"
         },
         "zeroline": false
        },
        "yaxis": {
         "gridwidth": 2,
         "ticklen": 1000,
         "title": {
          "text": "Typical Prediction"
         }
        }
       }
      },
      "text/html": [
       "<div>\n",
       "        \n",
       "        \n",
       "            <div id=\"43e2fe79-b820-4b5c-afd7-a0f91492a1db\" class=\"plotly-graph-div\" style=\"height:600px; width:900px;\"></div>\n",
       "            <script type=\"text/javascript\">\n",
       "                require([\"plotly\"], function(Plotly) {\n",
       "                    window.PLOTLYENV=window.PLOTLYENV || {};\n",
       "                    \n",
       "                if (document.getElementById(\"43e2fe79-b820-4b5c-afd7-a0f91492a1db\")) {\n",
       "                    Plotly.newPlot(\n",
       "                        '43e2fe79-b820-4b5c-afd7-a0f91492a1db',\n",
       "                        [{\"hovertemplate\": \"%{x:0.3f}, %{y:0.3f}\", \"marker\": {\"color\": \"#1f77b4\", \"line\": {\"width\": 1}, \"size\": 14}, \"mode\": \"markers\", \"name\": \"2006\", \"type\": \"scatter\", \"x\": [1062.7846825679437], \"y\": [1978.3218855303305]}, {\"hovertemplate\": \"%{x:0.3f}, %{y:0.3f}\", \"marker\": {\"color\": \"#ff7f0e\", \"line\": {\"width\": 1}, \"size\": 14}, \"mode\": \"markers\", \"name\": \"2010\", \"type\": \"scatter\", \"x\": [15255.520320454854, 55196.733806100536, 8245.02643178383, 29127.998506404634, 61641.049747671146, 75440.99990165087, 6662.478466803338, 18725.636255852212, 83486.95739560948, 80197.74419072465, 7226.875264658771, 58021.08437105056, 53625.34702047268, 19307.867796457664, 18739.428061618746, 25662.300544796093, 9526.935479277297, 17953.196473929424, 16986.55734146219, 4022.0163578674888, 6640.411861809423, 4349.017096425068, 29673.56449650973, 9503.730777958495, 4067.500047205748, 25091.859608315604, 73410.80112754917, 30578.572598213887, 65699.8324925106, 80534.45171352786, 16005.209527768406, 86996.37810261064, 80803.02430523981, 56367.6453896252, 19675.023911736665, 6119.285824000488, 41744.782060581725, 40430.13331105424, 52844.842148811615, 22381.673026850876, 6827.877079343163, 32133.694570581447, 82822.14136454414, 79348.81712166812, 8951.316680616188, 85009.78862537871, 4162.2856361852255, 33880.909913883945, 15216.509862723648, 13876.078020011726, 17292.127972502018, 70583.4807799674, 3350.1645458149246, 5627.793110230975, 24554.12811210833, 12703.668581564827, 8344.272807979438, 80137.1689330468, 65963.77195589899, 77712.71881542233, 48484.23570580561, 5072.656912539515, 21674.612031935783, 55193.205708264344, 9036.046049475637, 45498.04162975632, 42005.05723432648, 39989.98103019051, 61458.92259308879, 75302.0459671835, 76806.23893737241, 75541.33410142064, 20032.989169463664, 15961.46816448392, 63461.178599911276, 23831.603927778735, 73438.55419519293, 35230.751580256285, 19684.84187661755, 14121.272975851934, 10492.872862176555, 11306.436426714838, 11426.60318799843, 9630.36991410636, 6444.665968541579, 24334.25538905387, 11410.068652502016, 19013.11536241012, 8948.027613213673, 13502.089826410771, 44262.78116983048, 18652.174886664325, 77842.57576763799, 7667.695307095944, 76963.1163075428, 22808.731510967384, 74519.3638868985, 31061.41705255208, 7584.451093859001, 23274.26292102494, 86975.81296132477, 60635.98060426179, 4380.833904736815, 11525.43047994123, 64941.79602794934, 9149.604068610231, 56538.16874341844], \"y\": [16102.337651779615, 59484.60342787486, 9392.159846912342, 39208.73260959443, 50800.3640091297, 64832.74244112811, 6092.667251023922, 19280.459343992723, 72284.83549638044, 74876.54161656681, 7629.833157331365, 53827.438495042115, 43702.641435577505, 15532.02191799131, 22862.210995417856, 27551.48348203278, 11261.577768495108, 18982.809958592545, 15321.2048999054, 4092.034487944753, 5468.880749481331, 4402.2262693182965, 32558.758833184835, 9646.395225359169, 4550.925824210546, 23791.543192634155, 69322.59164771425, 29946.43376638864, 79675.93237871067, 82760.25532325364, 22199.732566477738, 79290.98452885692, 92995.77103626235, 63690.33274480356, 18218.353839162508, 6525.859286509299, 38719.44308859342, 39374.71135367614, 54834.55283010373, 28294.285722685177, 7117.9033082049355, 33441.65297011744, 80709.21765620846, 77033.06345705238, 9276.341440495256, 85201.10779917835, 4862.63456439137, 32825.47301797182, 16788.662969771714, 15679.710532462674, 18322.53229453161, 75891.83582979756, 3394.503994710606, 5434.05167787927, 23526.68797599271, 12395.402661077655, 7093.343021835024, 69619.70166103514, 58662.217541310776, 114289.1977102446, 47787.62742273345, 4941.156277449796, 21779.50654216691, 53112.574193129, 8925.061873126582, 40028.068767851204, 44878.20291189153, 34686.049434633234, 52076.397250726885, 81326.89583678024, 72773.3144864853, 56935.34474385851, 16899.60166205277, 27712.732493995863, 60900.98011804926, 19139.87129375583, 61596.567587241145, 23896.35413134665, 24579.02066774437, 13797.795473938251, 9869.301418586369, 9568.111034621477, 12709.469945726818, 10026.466732178698, 6226.326487690714, 25591.922534943056, 9438.736582466958, 17836.337934997493, 6811.263046325099, 12520.596799763653, 46532.62501824037, 17832.76994963068, 153675.39279992855, 5409.797532753626, 82804.96713824729, 21956.80167231499, 90943.30265636565, 36555.055749248626, 7988.046739672848, 24006.80301542248, 63045.802704910384, 50215.36529870747, 4618.420576430207, 17434.625209496604, 63252.369193047954, 8364.207496182664, 52706.35048572062]}, {\"hovertemplate\": \"%{x:0.3f}, %{y:0.3f}\", \"marker\": {\"color\": \"#2ca02c\", \"line\": {\"width\": 1}, \"size\": 14}, \"mode\": \"markers\", \"name\": \"2011\", \"type\": \"scatter\", \"x\": [14997.78954749053, 15291.262582779787, 17043.493208499844, 2523.7983376888337, 15677.47166044147, 17869.539368077072, 1746.7162980227317, 19868.68745671428, 1076.228147585618], \"y\": [14264.268704406031, 15407.157686973338, 16555.81213350121, 2382.923185374574, 14461.839606460933, 16484.841350401486, 1493.9195248149524, 17355.690579129674, 1834.2458824422083]}, {\"hovertemplate\": \"%{x:0.3f}, %{y:0.3f}\", \"marker\": {\"color\": \"#d62728\", \"line\": {\"width\": 1}, \"size\": 14}, \"mode\": \"markers\", \"name\": \"2012\", \"type\": \"scatter\", \"x\": [12122.424511023703, 6456.27579276041, 16130.178781169525, 15085.224911193463, 3673.4333462094087, 8280.438367904411, 32795.53503555821, 14166.06566327492, 13875.171506037826, 6946.90432357302, 2564.982449923113, 16811.695023108605, 12449.995480114758, 5531.02785623472, 23794.741377539554, 16225.721041391871, 8487.049018816118, 7266.177275813694, 17726.352009923998, 13293.463666423551, 1817.611035632038, 9795.194916846965, 19606.436026491916, 1513.7535597198428, 19161.2166823692, 8801.735137201393, 22346.69328874194, 8043.957317300389, 15506.259215521497], \"y\": [14126.606133305248, 9697.009636348514, 17683.053679238914, 16147.61776669659, 3862.943324618255, 9887.384520905207, 37120.31619885424, 17023.597150460788, 16865.998274046444, 7266.103677106938, 2430.566808509959, 15970.874594744255, 13732.221122053827, 6391.471076808412, 19346.42146736834, 17394.39362940512, 8850.87990524291, 7490.450385875232, 17490.603172834904, 13503.297778959646, 1945.3902545693818, 9055.982060658122, 21651.449965198626, 1538.8837396097442, 17782.848746315754, 10755.668941275593, 20683.63419069407, 8084.699533959411, 15407.004918409415]}, {\"hovertemplate\": \"%{x:0.3f}, %{y:0.3f}\", \"marker\": {\"color\": \"#9467bd\", \"line\": {\"width\": 1}, \"size\": 14}, \"mode\": \"markers\", \"name\": \"2013\", \"type\": \"scatter\", \"x\": [15102.145260064033, 15037.697671232878, 3665.4998960793578, 2490.3457239971012, 5603.78842117102, 15372.719782711385, 17612.591702544032, 17382.1763281373, 1739.7917314539077, 4341.678351965569, 18814.096759240514, 1100.3903892150468, 8854.49618817684], \"y\": [15614.617709914564, 14938.527198039035, 3801.5846820235365, 1953.1824071312851, 6161.663407082632, 15730.91336444858, 19203.870761108243, 8955.407250935083, 1915.261180583333, 930.7159476881991, 20126.58808138365, 356.13597146907745, 9591.176822906828]}, {\"hovertemplate\": \"%{x:0.3f}, %{y:0.3f}\", \"marker\": {\"color\": \"#8c564b\", \"line\": {\"width\": 1}, \"size\": 14}, \"mode\": \"markers\", \"name\": \"2014\", \"type\": \"scatter\", \"x\": [12760.622579121398, 14946.546014800819, 3610.743744292238, 2329.2785458108083, 5657.709132420092, 14272.475314498655, 17319.459874035587, 1584.94106527406, 18586.336687135885, 1107.0032348182726], \"y\": [14007.318769396225, 15416.88739239907, 3941.7144523231377, 2870.508256911469, 5731.837089457349, 14271.408625610804, 16998.34912952631, 1620.1089388986763, 17708.946069910922, 1717.1671155197282]}, {\"hovertemplate\": \"%{x:0.3f}, %{y:0.3f}\", \"marker\": {\"color\": \"#e377c2\", \"line\": {\"width\": 1}, \"size\": 14}, \"mode\": \"markers\", \"name\": \"2015\", \"type\": \"scatter\", \"x\": [13025.188062731228, 54092.21641704718, 4752.054240340868, 14029.143693906475, 44503.244295586235, 45184.180866705945, 14784.653280893412, 5280.982156782363, 16004.157421433343, 4026.95057312204, 16736.72390166163, 21399.258249116123, 17507.588993042362, 7608.62678426732, 67671.81863827101, 6976.453876543033, 72784.43025066845, 2149.2504887987566, 72502.09468558192, 8143.520062927568, 16021.068682097306, 77299.7344574856, 4765.604302216203, 70500.40606522319, 66373.48038728155, 8888.472813855613, 1718.2410662508892, 17861.679841113066, 30724.841253154143, 46956.50295756965, 24289.420157800065, 54557.826407719826, 15486.917195479007, 10194.042146028747, 9408.49625582023, 1151.112911352543, 6679.129196651287, 6484.342899262018, 10943.55175334468, 36360.82872367504, 17089.591485859888, 54795.58976704318, 54199.26003096565, 10886.13818428678, 8079.613078399825], \"y\": [16428.554409401488, 57136.306717586274, 4795.005105184832, 18299.794431071154, 59172.2482127736, 63340.84306331206, 20214.360715737337, 6976.8398847809, 16844.780953628375, 10496.962892337051, 22454.790871448775, 24364.51727727247, 19929.241512335273, 9548.499129353146, 89451.76573570607, 9304.52669484471, 95116.9071930032, 2428.8999730271885, 75498.5058766314, 8811.964524093673, 14755.971922036288, 67419.23757567421, 4569.970437817893, 73959.27665427772, 93848.85272282879, 8546.343376217907, 1834.0711835965983, 14130.471829340837, 29145.44582938736, 46436.9982105986, 21763.287084659518, 52223.81984943745, 5509.486449405306, 9491.395354626706, 6945.30121616047, 1926.7428075149394, 12318.07266711531, 7097.683557615107, 9267.344697830638, 32065.163734293863, 12955.958000251567, 43530.876818174205, 45976.33262566151, 11886.193627860936, 4711.227541787998]}, {\"hovertemplate\": \"%{x:0.3f}, %{y:0.3f}\", \"marker\": {\"color\": \"#7f7f7f\", \"line\": {\"width\": 1}, \"size\": 14}, \"mode\": \"markers\", \"name\": \"2016\", \"type\": \"scatter\", \"x\": [31232.03253648905, 60856.943590981275, 66361.43174968039, 5535.951839287525, 62249.43295647431, 15429.644725541611, 58614.205398740596, 17374.560905151004, 4344.53516409976, 6357.27981465711, 9066.866750750156, 12718.523885631672, 4563.775167137052, 13632.425062614913, 70326.47856103058, 12220.068681624487, 22777.14571149652, 17917.129834403553, 11154.323909597966, 48429.082869038284, 64882.736825728134, 79819.77187622128, 2556.034248867213, 95106.14518001657, 81854.5751331586, 8877.454483423537, 80808.50501811485, 4162.106561234131, 74771.76844622001, 85325.92735086565, 7491.912099031783, 5384.233520909197, 77574.6388921176, 76680.22009843627, 46161.95702305582, 41868.59492876478, 27450.00573146647, 14324.55746690547, 15681.28236216983, 70411.87673020888, 18812.64368150065, 11132.340088922918, 21186.53062238622, 1214.887861876526, 12146.73160537095, 9837.18261626057, 7977.470953967234, 4524.573395433636, 17050.650724944455, 20258.75867441858, 67789.75483334762, 56502.02694014107, 10222.789469466303], \"y\": [37081.480330169376, 60696.4278911076, 74770.74970761038, 4656.538970446544, 56795.80330558125, 18848.40675692655, 34881.563571160244, 24561.77143238811, 4088.920120330535, 4377.661640963859, 10098.920951073373, 18217.091519928385, 4781.535121228367, 14690.100752169683, 74304.94304244129, 18820.13310089576, 29149.439562035997, 19042.863811673553, 12303.727706787458, 60321.97369267536, 59957.301721073345, 99542.11034577375, 2289.9839726237883, 99222.73453450059, 72312.70079932128, 8672.250187622247, 86390.74247700156, 5824.745262391892, 71791.77531628357, 75187.61743173176, 6567.2109539817575, 4786.570170244828, 67073.22438159706, 75043.3515019332, 59499.20302354623, 51472.71097782233, 26262.906371800254, 23752.389213417908, 17272.725406919093, 68080.59916321917, 25271.741337057378, 10479.028326681095, 20241.564360354732, 1656.8021072763595, 13655.844977204571, 13853.451538977455, 9324.064554634591, 4509.059027731837, 27152.089619329592, 18498.49960118219, 81199.22328320003, 71186.72236265421, 10661.987461898823]}, {\"hovertemplate\": \"%{x:0.3f}, %{y:0.3f}\", \"marker\": {\"color\": \"#bcbd22\", \"line\": {\"width\": 1}, \"size\": 14}, \"mode\": \"markers\", \"name\": \"2017\", \"type\": \"scatter\", \"x\": [27291.227204465402, 75590.15055209106, 84970.3931884344, 65737.97442569387, 15252.134009265044, 62387.955748594584, 9513.11971264637, 9640.698061042336, 9397.684790938954, 18257.93560655336, 9651.320306685178, 5146.237359500996, 73598.64391726807, 12543.328491040786, 24458.227479590052, 21178.270322993794, 8116.776474268182, 43621.80456517726, 11244.76458063908, 98187.33176009626, 7166.009088488271, 81497.99518442636, 76149.17861888098, 40663.8047038385, 30279.995750202102, 13000.177858025389, 73584.34273936834, 18307.355536994186, 21136.083089804855, 1148.5228869922566, 11281.854323233943, 11507.338664458319, 14908.302384967998, 72839.3124783649, 66973.17701196487, 35105.97125649809], \"y\": [43734.90552086148, 74655.99088547938, 95739.87475020783, 60486.26142666125, 15453.702253371945, 60890.97782291511, 9511.39621673895, 9685.675685370821, 9620.531718352819, 17996.63435347982, 7579.455666117632, 10928.971010368572, 99278.98654160158, 18558.803774445805, 27104.648315437, 17272.744469968526, 7365.7640213785035, 44320.43240453547, 8522.78697282897, 66993.51514611693, 8469.169747477823, 66311.80946811945, 72433.3883553591, 45885.381780884425, 29184.16358784507, 34381.24311597021, 69224.77374752422, 53104.5698285026, 28491.970803617067, 1156.990837675083, 13799.907738204562, 10163.006713542287, 21043.82847113234, 90650.99347435527, 71576.68960444, 36931.42331936709]}],\n",
       "                        {\"height\": 600, \"hovermode\": \"closest\", \"showlegend\": true, \"template\": {\"data\": {\"bar\": [{\"error_x\": {\"color\": \"#2a3f5f\"}, \"error_y\": {\"color\": \"#2a3f5f\"}, \"marker\": {\"line\": {\"color\": \"#E5ECF6\", \"width\": 0.5}}, \"type\": \"bar\"}], \"barpolar\": [{\"marker\": {\"line\": {\"color\": \"#E5ECF6\", \"width\": 0.5}}, \"type\": \"barpolar\"}], \"carpet\": [{\"aaxis\": {\"endlinecolor\": \"#2a3f5f\", \"gridcolor\": \"white\", \"linecolor\": \"white\", \"minorgridcolor\": \"white\", \"startlinecolor\": \"#2a3f5f\"}, \"baxis\": {\"endlinecolor\": \"#2a3f5f\", \"gridcolor\": \"white\", \"linecolor\": \"white\", \"minorgridcolor\": \"white\", \"startlinecolor\": \"#2a3f5f\"}, \"type\": \"carpet\"}], \"choropleth\": [{\"colorbar\": {\"outlinewidth\": 0, \"ticks\": \"\"}, \"type\": \"choropleth\"}], \"contour\": [{\"colorbar\": {\"outlinewidth\": 0, \"ticks\": \"\"}, \"colorscale\": [[0.0, \"#0d0887\"], [0.1111111111111111, \"#46039f\"], [0.2222222222222222, \"#7201a8\"], [0.3333333333333333, \"#9c179e\"], [0.4444444444444444, \"#bd3786\"], [0.5555555555555556, \"#d8576b\"], [0.6666666666666666, \"#ed7953\"], [0.7777777777777778, \"#fb9f3a\"], [0.8888888888888888, \"#fdca26\"], [1.0, \"#f0f921\"]], \"type\": \"contour\"}], \"contourcarpet\": [{\"colorbar\": {\"outlinewidth\": 0, \"ticks\": \"\"}, \"type\": \"contourcarpet\"}], \"heatmap\": [{\"colorbar\": {\"outlinewidth\": 0, \"ticks\": \"\"}, \"colorscale\": [[0.0, \"#0d0887\"], [0.1111111111111111, \"#46039f\"], [0.2222222222222222, \"#7201a8\"], [0.3333333333333333, \"#9c179e\"], [0.4444444444444444, \"#bd3786\"], [0.5555555555555556, \"#d8576b\"], [0.6666666666666666, \"#ed7953\"], [0.7777777777777778, \"#fb9f3a\"], [0.8888888888888888, \"#fdca26\"], [1.0, \"#f0f921\"]], \"type\": \"heatmap\"}], \"heatmapgl\": [{\"colorbar\": {\"outlinewidth\": 0, \"ticks\": \"\"}, \"colorscale\": [[0.0, \"#0d0887\"], [0.1111111111111111, \"#46039f\"], [0.2222222222222222, \"#7201a8\"], [0.3333333333333333, \"#9c179e\"], [0.4444444444444444, \"#bd3786\"], [0.5555555555555556, \"#d8576b\"], [0.6666666666666666, \"#ed7953\"], [0.7777777777777778, \"#fb9f3a\"], [0.8888888888888888, \"#fdca26\"], [1.0, \"#f0f921\"]], \"type\": \"heatmapgl\"}], \"histogram\": [{\"marker\": {\"colorbar\": {\"outlinewidth\": 0, \"ticks\": \"\"}}, \"type\": \"histogram\"}], \"histogram2d\": [{\"colorbar\": {\"outlinewidth\": 0, \"ticks\": \"\"}, \"colorscale\": [[0.0, \"#0d0887\"], [0.1111111111111111, \"#46039f\"], [0.2222222222222222, \"#7201a8\"], [0.3333333333333333, \"#9c179e\"], [0.4444444444444444, \"#bd3786\"], [0.5555555555555556, \"#d8576b\"], [0.6666666666666666, \"#ed7953\"], [0.7777777777777778, \"#fb9f3a\"], [0.8888888888888888, \"#fdca26\"], [1.0, \"#f0f921\"]], \"type\": \"histogram2d\"}], \"histogram2dcontour\": [{\"colorbar\": {\"outlinewidth\": 0, \"ticks\": \"\"}, \"colorscale\": [[0.0, \"#0d0887\"], [0.1111111111111111, \"#46039f\"], [0.2222222222222222, \"#7201a8\"], [0.3333333333333333, \"#9c179e\"], [0.4444444444444444, \"#bd3786\"], [0.5555555555555556, \"#d8576b\"], [0.6666666666666666, \"#ed7953\"], [0.7777777777777778, \"#fb9f3a\"], [0.8888888888888888, \"#fdca26\"], [1.0, \"#f0f921\"]], \"type\": \"histogram2dcontour\"}], \"mesh3d\": [{\"colorbar\": {\"outlinewidth\": 0, \"ticks\": \"\"}, \"type\": \"mesh3d\"}], \"parcoords\": [{\"line\": {\"colorbar\": {\"outlinewidth\": 0, \"ticks\": \"\"}}, \"type\": \"parcoords\"}], \"scatter\": [{\"marker\": {\"colorbar\": {\"outlinewidth\": 0, \"ticks\": \"\"}}, \"type\": \"scatter\"}], \"scatter3d\": [{\"line\": {\"colorbar\": {\"outlinewidth\": 0, \"ticks\": \"\"}}, \"marker\": {\"colorbar\": {\"outlinewidth\": 0, \"ticks\": \"\"}}, \"type\": \"scatter3d\"}], \"scattercarpet\": [{\"marker\": {\"colorbar\": {\"outlinewidth\": 0, \"ticks\": \"\"}}, \"type\": \"scattercarpet\"}], \"scattergeo\": [{\"marker\": {\"colorbar\": {\"outlinewidth\": 0, \"ticks\": \"\"}}, \"type\": \"scattergeo\"}], \"scattergl\": [{\"marker\": {\"colorbar\": {\"outlinewidth\": 0, \"ticks\": \"\"}}, \"type\": \"scattergl\"}], \"scattermapbox\": [{\"marker\": {\"colorbar\": {\"outlinewidth\": 0, \"ticks\": \"\"}}, \"type\": \"scattermapbox\"}], \"scatterpolar\": [{\"marker\": {\"colorbar\": {\"outlinewidth\": 0, \"ticks\": \"\"}}, \"type\": \"scatterpolar\"}], \"scatterpolargl\": [{\"marker\": {\"colorbar\": {\"outlinewidth\": 0, \"ticks\": \"\"}}, \"type\": \"scatterpolargl\"}], \"scatterternary\": [{\"marker\": {\"colorbar\": {\"outlinewidth\": 0, \"ticks\": \"\"}}, \"type\": \"scatterternary\"}], \"surface\": [{\"colorbar\": {\"outlinewidth\": 0, \"ticks\": \"\"}, \"colorscale\": [[0.0, \"#0d0887\"], [0.1111111111111111, \"#46039f\"], [0.2222222222222222, \"#7201a8\"], [0.3333333333333333, \"#9c179e\"], [0.4444444444444444, \"#bd3786\"], [0.5555555555555556, \"#d8576b\"], [0.6666666666666666, \"#ed7953\"], [0.7777777777777778, \"#fb9f3a\"], [0.8888888888888888, \"#fdca26\"], [1.0, \"#f0f921\"]], \"type\": \"surface\"}], \"table\": [{\"cells\": {\"fill\": {\"color\": \"#EBF0F8\"}, \"line\": {\"color\": \"white\"}}, \"header\": {\"fill\": {\"color\": \"#C8D4E3\"}, \"line\": {\"color\": \"white\"}}, \"type\": \"table\"}]}, \"layout\": {\"annotationdefaults\": {\"arrowcolor\": \"#2a3f5f\", \"arrowhead\": 0, \"arrowwidth\": 1}, \"colorscale\": {\"diverging\": [[0, \"#8e0152\"], [0.1, \"#c51b7d\"], [0.2, \"#de77ae\"], [0.3, \"#f1b6da\"], [0.4, \"#fde0ef\"], [0.5, \"#f7f7f7\"], [0.6, \"#e6f5d0\"], [0.7, \"#b8e186\"], [0.8, \"#7fbc41\"], [0.9, \"#4d9221\"], [1, \"#276419\"]], \"sequential\": [[0.0, \"#0d0887\"], [0.1111111111111111, \"#46039f\"], [0.2222222222222222, \"#7201a8\"], [0.3333333333333333, \"#9c179e\"], [0.4444444444444444, \"#bd3786\"], [0.5555555555555556, \"#d8576b\"], [0.6666666666666666, \"#ed7953\"], [0.7777777777777778, \"#fb9f3a\"], [0.8888888888888888, \"#fdca26\"], [1.0, \"#f0f921\"]], \"sequentialminus\": [[0.0, \"#0d0887\"], [0.1111111111111111, \"#46039f\"], [0.2222222222222222, \"#7201a8\"], [0.3333333333333333, \"#9c179e\"], [0.4444444444444444, \"#bd3786\"], [0.5555555555555556, \"#d8576b\"], [0.6666666666666666, \"#ed7953\"], [0.7777777777777778, \"#fb9f3a\"], [0.8888888888888888, \"#fdca26\"], [1.0, \"#f0f921\"]]}, \"colorway\": [\"#636efa\", \"#EF553B\", \"#00cc96\", \"#ab63fa\", \"#FFA15A\", \"#19d3f3\", \"#FF6692\", \"#B6E880\", \"#FF97FF\", \"#FECB52\"], \"font\": {\"color\": \"#2a3f5f\"}, \"geo\": {\"bgcolor\": \"white\", \"lakecolor\": \"white\", \"landcolor\": \"#E5ECF6\", \"showlakes\": true, \"showland\": true, \"subunitcolor\": \"white\"}, \"hoverlabel\": {\"align\": \"left\"}, \"hovermode\": \"closest\", \"mapbox\": {\"style\": \"light\"}, \"paper_bgcolor\": \"white\", \"plot_bgcolor\": \"#E5ECF6\", \"polar\": {\"angularaxis\": {\"gridcolor\": \"white\", \"linecolor\": \"white\", \"ticks\": \"\"}, \"bgcolor\": \"#E5ECF6\", \"radialaxis\": {\"gridcolor\": \"white\", \"linecolor\": \"white\", \"ticks\": \"\"}}, \"scene\": {\"xaxis\": {\"backgroundcolor\": \"#E5ECF6\", \"gridcolor\": \"white\", \"gridwidth\": 2, \"linecolor\": \"white\", \"showbackground\": true, \"ticks\": \"\", \"zerolinecolor\": \"white\"}, \"yaxis\": {\"backgroundcolor\": \"#E5ECF6\", \"gridcolor\": \"white\", \"gridwidth\": 2, \"linecolor\": \"white\", \"showbackground\": true, \"ticks\": \"\", \"zerolinecolor\": \"white\"}, \"zaxis\": {\"backgroundcolor\": \"#E5ECF6\", \"gridcolor\": \"white\", \"gridwidth\": 2, \"linecolor\": \"white\", \"showbackground\": true, \"ticks\": \"\", \"zerolinecolor\": \"white\"}}, \"shapedefaults\": {\"line\": {\"color\": \"#2a3f5f\"}}, \"ternary\": {\"aaxis\": {\"gridcolor\": \"white\", \"linecolor\": \"white\", \"ticks\": \"\"}, \"baxis\": {\"gridcolor\": \"white\", \"linecolor\": \"white\", \"ticks\": \"\"}, \"bgcolor\": \"#E5ECF6\", \"caxis\": {\"gridcolor\": \"white\", \"linecolor\": \"white\", \"ticks\": \"\"}}, \"title\": {\"x\": 0.05}, \"xaxis\": {\"automargin\": true, \"gridcolor\": \"white\", \"linecolor\": \"white\", \"ticks\": \"\", \"zerolinecolor\": \"white\", \"zerolinewidth\": 2}, \"yaxis\": {\"automargin\": true, \"gridcolor\": \"white\", \"linecolor\": \"white\", \"ticks\": \"\", \"zerolinecolor\": \"white\", \"zerolinewidth\": 2}}}, \"title\": {\"text\": \"Bagheri MSE Global Growth Rate\"}, \"width\": 900, \"xaxis\": {\"gridwidth\": 2, \"ticklen\": 1000, \"title\": {\"text\": \"Ground Truth\"}, \"zeroline\": false}, \"yaxis\": {\"gridwidth\": 2, \"ticklen\": 1000, \"title\": {\"text\": \"Typical Prediction\"}}},\n",
       "                        {\"responsive\": true}\n",
       "                    ).then(function(){\n",
       "                            \n",
       "var gd = document.getElementById('43e2fe79-b820-4b5c-afd7-a0f91492a1db');\n",
       "var x = new MutationObserver(function (mutations, observer) {{\n",
       "        var display = window.getComputedStyle(gd).display;\n",
       "        if (!display || display === 'none') {{\n",
       "            console.log([gd, 'removed!']);\n",
       "            Plotly.purge(gd);\n",
       "            observer.disconnect();\n",
       "        }}\n",
       "}});\n",
       "\n",
       "// Listen for the removal of the full notebook cells\n",
       "var notebookContainer = gd.closest('#notebook-container');\n",
       "if (notebookContainer) {{\n",
       "    x.observe(notebookContainer, {childList: true});\n",
       "}}\n",
       "\n",
       "// Listen for the clearing of the current output cell\n",
       "var outputEl = gd.closest('.output');\n",
       "if (outputEl) {{\n",
       "    x.observe(outputEl, {childList: true});\n",
       "}}\n",
       "\n",
       "                        })\n",
       "                };\n",
       "                });\n",
       "            </script>\n",
       "        </div>"
      ]
     },
     "metadata": {},
     "output_type": "display_data"
    }
   ],
   "source": [
    "make_ploty_scatter(bag_ggf_aadt, 'Bagheri MSE Global Growth Rate')"
   ]
  },
  {
   "cell_type": "code",
   "execution_count": 68,
   "metadata": {},
   "outputs": [
    {
     "data": {
      "text/html": [
       "\n",
       "<style>\n",
       "\n",
       ".kydbox {\n",
       "  border-style: solid;\n",
       "  border-color: #CCCCCC;\n",
       "  border-width: 2px;\n",
       "  margin: 10px;\n",
       "  padding: 5px;\n",
       "  font-family: sans-serif;\n",
       "  font-size: 10pt;\n",
       "}\n",
       "\n",
       ".kydfloatboxleft {\n",
       "  margin: 5px;\n",
       "  padding-left: 10px;\n",
       "  float: left;\n",
       "  border-right-width: 2px;\n",
       "  border-right-style: solid;\n",
       "  border-right-color: #CCCCCC;\n",
       "  padding-right: 15px;\n",
       "  margin-right: 15px;\n",
       "}\n",
       "\n",
       ".kydfloatboxright {\n",
       "  margin: 5px;\n",
       "  padding-right: 10px;\n",
       "  float: right;\n",
       "}\n",
       "\n",
       ".kydsubtitle {\n",
       "  font-size: 10pt;\n",
       "  font-weight: bold;\n",
       "  margin-top: 5px;\n",
       "  margin-bottom: 5px;\n",
       "}\n",
       "\n",
       ".kydpropertylabel {\n",
       "  font-weight: bold;\n",
       "}\n",
       "\n",
       "td.kydpropertylabel {\n",
       "  text-align: right;\n",
       "}\n",
       "\n",
       "table.kydbasic_stats,\n",
       "table.kydarray_structure {\n",
       "  padding-top: 0px;\n",
       "}\n",
       "\n",
       "table.kydbasic_stats td,\n",
       "table.kydarray_structure td {\n",
       "  padding: 3px 10px 3px 10px;\n",
       "}\n",
       "\n",
       ".kydbottomborder {\n",
       "  border-bottom-width:2px;\n",
       "  border-bottom-style:solid;\n",
       "  border-bottom-color:#CCCCCC;\n",
       "}\n",
       "\n",
       "</style>\n",
       "\n",
       "<div class=\"kydbox\" , style=\"float:left\">\n",
       "\n",
       "  <div class=\"kydfloatboxleft\">\n",
       "    <div class=\"kydsubtitle\">Basic Statistics</div>\n",
       "\n",
       "    <span class='kydpropertylabel'>Mean:</span>\n",
       "    0.1778\n",
       "    &nbsp;&nbsp;&nbsp;&nbsp;\n",
       "    <span class='kydpropertylabel'>Std Dev:</span>\n",
       "    0.1585\n",
       "\n",
       "    <table class=\"kydbasic_stats\">\n",
       "      <tr>\n",
       "        <td class='kydpropertylabel'>Min:</td>\n",
       "        <td>0.02613</td>\n",
       "        <td class='kydpropertylabel'>-99% CI:</td>\n",
       "        <td>0.03379</td>\n",
       "      </tr>\n",
       "      <tr>\n",
       "        <td class='kydpropertylabel'>1Q:</td>\n",
       "        <td>0.09204</td>\n",
       "        <td class='kydpropertylabel'>-95% CI:</td>\n",
       "        <td>0.04395</td>\n",
       "      </tr>\n",
       "      <tr>\n",
       "        <td class='kydpropertylabel'>Median:</td>\n",
       "        <td>0.1379</td>\n",
       "        <td class='kydpropertylabel'>-68% CI:</td>\n",
       "        <td>0.07621</td>\n",
       "      </tr>\n",
       "      <tr>\n",
       "        <td class='kydpropertylabel'>3Q:</td>\n",
       "        <td>0.2016</td>\n",
       "        <td class='kydpropertylabel'>+68% CI:</td>\n",
       "        <td>0.2573</td>\n",
       "      </tr>\n",
       "      <tr>\n",
       "        <td class='kydpropertylabel'>Max:</td>\n",
       "        <td>1.619</td>\n",
       "        <td class='kydpropertylabel'>+95% CI:</td>\n",
       "        <td>0.6016</td>\n",
       "      </tr>\n",
       "      <tr>\n",
       "        <td>&nbsp;</td>\n",
       "        <td>&nbsp;</td>\n",
       "        <td class='kydpropertylabel'>+99% CI:</td>\n",
       "        <td>0.9312</td>\n",
       "      </tr>\n",
       "\n",
       "    </table>\n",
       "  </div>\n",
       "\n",
       "  <div class=\"kydfloatboxright\">\n",
       "    <div class=\"kydsubtitle\">Array Structure</div>\n",
       "    <table class=\"kydarray_structure\">\n",
       "      <tr>\n",
       "        <td class='kydpropertylabel'>Number of Dimensions:</td>\n",
       "        <td>1</td>\n",
       "      </tr>\n",
       "      <tr>\n",
       "        <td class='kydpropertylabel'>Shape of Dimensions:</td>\n",
       "        <td>(303,)</td>\n",
       "      </tr>\n",
       "      <tr>\n",
       "        <td class='kydpropertylabel'>Array Data Type:</td>\n",
       "        <td>float64</td>\n",
       "      </tr>\n",
       "      <tr>\n",
       "        <td class='kydpropertylabel'>Memory Size:</td>\n",
       "        <td>2.5KiB</td>\n",
       "      </tr>\n",
       "      <tr>\n",
       "        <td class='kydpropertylabel'>Number of NaN:</td>\n",
       "        <td>0</td>\n",
       "      </tr>\n",
       "      <tr>\n",
       "        <td class='kydpropertylabel'>Number of Inf:</td>\n",
       "        <td>0</td>\n",
       "      </tr>\n",
       "\n",
       "    </table>\n",
       "  </div>\n",
       "\n",
       "</div>\n"
      ],
      "text/plain": [
       "\n",
       "| Basic Statistics                                          | Array Structure              \t|\n",
       "|                                                           |                              \t|\n",
       "|    Mean:         Min:   0.02613     -99 CI:   0.03379     | Number of Dimensions:   1    \t|\n",
       "|    0.1778         1Q:   0.09204     -95 CI:   0.04395     | Shape of Dimensions:    (303,)\t|\n",
       "|               Median:   0.1379      -68 CI:   0.07621     | Array Data Type:        float64\t|\n",
       "|   Std Dev:        3Q:   0.2016      +68 CI:   0.2573      | Memory Size:            2.5KiB\t|\n",
       "|    0.1585        Max:   1.619       +95 CI:   0.6016      |                              \t|\n",
       "|                                     +99 CI:   0.9312      | Number of NaN:  0            \t|\n",
       "|                                                           | Number of Inf:  0            \t|\n"
      ]
     },
     "metadata": {},
     "output_type": "display_data"
    }
   ],
   "source": [
    "check_mape(bag_ggf_aadt)"
   ]
  },
  {
   "cell_type": "code",
   "execution_count": 81,
   "metadata": {},
   "outputs": [
    {
     "data": {
      "text/plain": [
       "'Slope: 0.9299173221596153'"
      ]
     },
     "execution_count": 81,
     "metadata": {},
     "output_type": "execute_result"
    }
   ],
   "source": [
    "linear_fit(bag_ggf_aadt)"
   ]
  },
  {
   "cell_type": "markdown",
   "metadata": {},
   "source": [
    "### Bagheri COV with Global Growth Rate"
   ]
  },
  {
   "cell_type": "code",
   "execution_count": 71,
   "metadata": {},
   "outputs": [
    {
     "data": {
      "application/vnd.plotly.v1+json": {
       "config": {
        "linkText": "Export to plot.ly",
        "plotlyServerURL": "https://plot.ly",
        "showLink": false
       },
       "data": [
        {
         "hovertemplate": "%{x:0.3f}, %{y:0.3f}",
         "marker": {
          "color": "#1f77b4",
          "line": {
           "width": 1
          },
          "size": 14
         },
         "mode": "markers",
         "name": "2006",
         "type": "scatter",
         "x": [
          1062.7846825679437
         ],
         "y": [
          1126.4520225766034
         ]
        },
        {
         "hovertemplate": "%{x:0.3f}, %{y:0.3f}",
         "marker": {
          "color": "#ff7f0e",
          "line": {
           "width": 1
          },
          "size": 14
         },
         "mode": "markers",
         "name": "2010",
         "type": "scatter",
         "x": [
          15255.520320454854,
          55196.733806100536,
          8245.02643178383,
          29127.998506404634,
          61641.049747671146,
          75440.99990165087,
          6662.478466803338,
          18725.636255852212,
          83486.95739560948,
          80197.74419072465,
          7226.875264658771,
          58021.08437105056,
          53625.34702047268,
          19307.867796457664,
          18739.428061618746,
          25662.300544796093,
          9526.935479277297,
          17953.196473929424,
          16986.55734146219,
          4022.0163578674888,
          6640.411861809423,
          4349.017096425068,
          29673.56449650973,
          9503.730777958495,
          4067.500047205748,
          25091.859608315604,
          73410.80112754917,
          30578.572598213887,
          65699.8324925106,
          80534.45171352786,
          16005.209527768406,
          86996.37810261064,
          80803.02430523981,
          56367.6453896252,
          19675.023911736665,
          6119.285824000488,
          41744.782060581725,
          40430.13331105424,
          52844.842148811615,
          22381.673026850876,
          6827.877079343163,
          32133.694570581447,
          82822.14136454414,
          79348.81712166812,
          8951.316680616188,
          85009.78862537871,
          4162.2856361852255,
          33880.909913883945,
          15216.509862723648,
          13876.078020011726,
          17292.127972502018,
          70583.4807799674,
          3350.1645458149246,
          5627.793110230975,
          24554.12811210833,
          12703.668581564827,
          8344.272807979438,
          80137.1689330468,
          65963.77195589899,
          77712.71881542233,
          48484.23570580561,
          5072.656912539515,
          21674.612031935783,
          55193.205708264344,
          9036.046049475637,
          45498.04162975632,
          42005.05723432648,
          39989.98103019051,
          61458.92259308879,
          75302.0459671835,
          76806.23893737241,
          75541.33410142064,
          20032.989169463664,
          15961.46816448392,
          63461.178599911276,
          23831.603927778735,
          73438.55419519293,
          35230.751580256285,
          19684.84187661755,
          14121.272975851934,
          10492.872862176555,
          11306.436426714838,
          11426.60318799843,
          9630.36991410636,
          6444.665968541579,
          24334.25538905387,
          11410.068652502016,
          19013.11536241012,
          8948.027613213673,
          13502.089826410771,
          44262.78116983048,
          18652.174886664325,
          77842.57576763799,
          7667.695307095944,
          76963.1163075428,
          22808.731510967384,
          74519.3638868985,
          31061.41705255208,
          7584.451093859001,
          23274.26292102494,
          86975.81296132477,
          60635.98060426179,
          4380.833904736815,
          11525.43047994123,
          64941.79602794934,
          9149.604068610231,
          56538.16874341844
         ],
         "y": [
          22537.185723318078,
          50232.73135906229,
          8878.419758327032,
          30786.213338332993,
          67475.98196450835,
          78122.17076624633,
          5751.141475256831,
          17602.994312123687,
          72500.4590982459,
          74015.10959595152,
          7022.97527142494,
          59260.71627850651,
          58459.956924088656,
          20192.766682922418,
          22291.954454131235,
          27319.948407633416,
          10041.364881733498,
          18326.10429097446,
          16888.302334967386,
          4326.680721155499,
          5688.571502746094,
          4730.1175353342705,
          44623.65997224909,
          9314.418384287661,
          4416.835749485476,
          23378.440718023718,
          76305.67741855358,
          27662.34330334412,
          69170.31300245154,
          86092.50358718589,
          15565.190296679517,
          79899.2588944893,
          83525.10990349333,
          61865.8168553776,
          22761.371492352893,
          6194.40640705727,
          39211.15859598347,
          39436.56602243079,
          54735.824549279125,
          22713.57259526129,
          6527.626672895693,
          31895.610466713308,
          82626.8759641935,
          78934.73364711153,
          9595.314786903624,
          81387.91157320421,
          5077.715996591459,
          35122.09556128637,
          15068.13809938653,
          14012.871826238748,
          16065.523794690072,
          69471.30159143276,
          3227.233653624416,
          5593.775744357172,
          23869.971477179108,
          11915.994466138247,
          7998.715829891752,
          66283.2904072443,
          54994.61446664266,
          77817.87572234159,
          50909.055172806686,
          5878.228637112802,
          17747.71856713331,
          43302.208414978486,
          8789.936539578715,
          32998.84004471715,
          34179.86624669107,
          29738.573649157905,
          45186.811264706565,
          76314.31844332664,
          76899.83601234537,
          58645.31576057965,
          21630.195431208445,
          21397.324844333387,
          62277.6702369038,
          24301.194293341203,
          62477.009826027825,
          33314.409263670685,
          20937.013844047095,
          14940.598315181758,
          9984.572395495254,
          11587.510953580137,
          12841.246714284896,
          10006.469427850652,
          6637.877522661766,
          22875.39093177384,
          11613.66879078319,
          18173.363008669523,
          7021.216639088048,
          12104.998191778626,
          36179.02423797178,
          24059.66503805242,
          103629.67306769663,
          5627.960767520805,
          53735.75058964814,
          20891.104363396007,
          74275.84726617772,
          37331.82019956506,
          7588.041698439461,
          20544.56589874696,
          61241.74772864309,
          54483.7830588537,
          4235.161975765323,
          11987.719951181129,
          61243.45056395712,
          10300.41969007332,
          45493.923172767616
         ]
        },
        {
         "hovertemplate": "%{x:0.3f}, %{y:0.3f}",
         "marker": {
          "color": "#2ca02c",
          "line": {
           "width": 1
          },
          "size": 14
         },
         "mode": "markers",
         "name": "2011",
         "type": "scatter",
         "x": [
          14997.78954749053,
          15291.262582779787,
          17043.493208499844,
          2523.7983376888337,
          15677.47166044147,
          17869.539368077072,
          1746.7162980227317,
          19868.68745671428,
          1076.228147585618
         ],
         "y": [
          16669.70231736631,
          13102.96315162546,
          16222.837132200322,
          2528.0550742852324,
          15989.375780214485,
          15344.689251501894,
          1410.4944914690745,
          16589.392664690535,
          1063.8292875960299
         ]
        },
        {
         "hovertemplate": "%{x:0.3f}, %{y:0.3f}",
         "marker": {
          "color": "#d62728",
          "line": {
           "width": 1
          },
          "size": 14
         },
         "mode": "markers",
         "name": "2012",
         "type": "scatter",
         "x": [
          12122.424511023703,
          6456.27579276041,
          16130.178781169525,
          15085.224911193463,
          3673.4333462094087,
          8280.438367904411,
          32795.53503555821,
          14166.06566327492,
          13875.171506037826,
          6946.90432357302,
          2564.982449923113,
          16811.695023108605,
          12449.995480114758,
          5531.02785623472,
          23794.741377539554,
          16225.721041391871,
          8487.049018816118,
          7266.177275813694,
          17726.352009923998,
          13293.463666423551,
          1817.611035632038,
          9795.194916846965,
          19606.436026491916,
          1513.7535597198428,
          19161.2166823692,
          8801.735137201393,
          22346.69328874194,
          8043.957317300389,
          15506.259215521497
         ],
         "y": [
          11570.263602205088,
          8773.15987411283,
          12262.54391330647,
          14607.624930923363,
          4387.083041700982,
          9211.160993344849,
          33561.66494937776,
          17554.08384037915,
          16337.820255238334,
          6584.375081602323,
          2909.7754825878706,
          17197.72353750256,
          13026.963337451625,
          6233.251432803384,
          23604.691771643233,
          15153.289099310756,
          8907.57591620789,
          7479.7331860899285,
          17787.034454830016,
          13095.05830243895,
          1937.0722918608462,
          9450.378507189847,
          20210.125803759387,
          2138.380052062776,
          19379.76413516037,
          6638.295163175699,
          24018.26513255067,
          9016.162719395294,
          14953.311037755828
         ]
        },
        {
         "hovertemplate": "%{x:0.3f}, %{y:0.3f}",
         "marker": {
          "color": "#9467bd",
          "line": {
           "width": 1
          },
          "size": 14
         },
         "mode": "markers",
         "name": "2013",
         "type": "scatter",
         "x": [
          15102.145260064033,
          15037.697671232878,
          3665.4998960793578,
          2490.3457239971012,
          5603.78842117102,
          15372.719782711385,
          17612.591702544032,
          17382.1763281373,
          1739.7917314539077,
          4341.678351965569,
          18814.096759240514,
          1100.3903892150468,
          8854.49618817684
         ],
         "y": [
          17586.527775677194,
          15646.579420729837,
          4600.615313271071,
          2660.0052745667294,
          6484.965828111399,
          16179.231942558423,
          17709.785192482133,
          22098.872137338545,
          1748.6428239022853,
          5371.53148629977,
          21700.662572662517,
          966.9300786479453,
          8953.416693059089
         ]
        },
        {
         "hovertemplate": "%{x:0.3f}, %{y:0.3f}",
         "marker": {
          "color": "#8c564b",
          "line": {
           "width": 1
          },
          "size": 14
         },
         "mode": "markers",
         "name": "2014",
         "type": "scatter",
         "x": [
          12760.622579121398,
          14946.546014800819,
          3610.743744292238,
          2329.2785458108083,
          5657.709132420092,
          14272.475314498655,
          17319.459874035587,
          1584.94106527406,
          18586.336687135885,
          1107.0032348182726
         ],
         "y": [
          19666.31011524627,
          18977.288356393823,
          4835.827306413588,
          2631.574131241479,
          5645.885506648631,
          17709.263153399123,
          17818.46869940446,
          1856.4354308845498,
          20313.784044236,
          2110.258417503918
         ]
        },
        {
         "hovertemplate": "%{x:0.3f}, %{y:0.3f}",
         "marker": {
          "color": "#e377c2",
          "line": {
           "width": 1
          },
          "size": 14
         },
         "mode": "markers",
         "name": "2015",
         "type": "scatter",
         "x": [
          13025.188062731228,
          54092.21641704718,
          4752.054240340868,
          14029.143693906475,
          44503.244295586235,
          45184.180866705945,
          14784.653280893412,
          5280.982156782363,
          16004.157421433343,
          4026.95057312204,
          16736.72390166163,
          21399.258249116123,
          17507.588993042362,
          7608.62678426732,
          67671.81863827101,
          6976.453876543033,
          72784.43025066845,
          2149.2504887987566,
          72502.09468558192,
          8143.520062927568,
          16021.068682097306,
          77299.7344574856,
          4765.604302216203,
          70500.40606522319,
          66373.48038728155,
          8888.472813855613,
          1718.2410662508892,
          17861.679841113066,
          30724.841253154143,
          46956.50295756965,
          24289.420157800065,
          54557.826407719826,
          15486.917195479007,
          10194.042146028747,
          9408.49625582023,
          1151.112911352543,
          6679.129196651287,
          6484.342899262018,
          10943.55175334468,
          36360.82872367504,
          17089.591485859888,
          54795.58976704318,
          54199.26003096565,
          10886.13818428678,
          8079.613078399825
         ],
         "y": [
          16118.846699286029,
          55541.585179902504,
          4169.729254244865,
          14569.545210388915,
          86888.3139730462,
          59174.538069754424,
          24388.705693639058,
          12862.442991789678,
          17431.77798642528,
          8506.284926481729,
          20608.045959926814,
          18965.028988235335,
          20232.557535662305,
          6940.753768713952,
          92287.97248950554,
          10991.64137206585,
          96930.4215149386,
          2200.821768954936,
          88700.1931332994,
          6088.115241303322,
          17353.80489619421,
          76143.2106932957,
          5024.864533610852,
          68385.89743973175,
          75197.80368914064,
          10491.877856582363,
          2274.7279770378145,
          16497.788589828142,
          36535.16124330375,
          58728.603932987826,
          24765.4200966023,
          85789.26726280934,
          27942.941864572516,
          10340.233999121145,
          10997.932498369159,
          1118.9983052666598,
          12062.13748053609,
          8842.903365183158,
          15895.862007418824,
          47559.48240499469,
          20803.57451804002,
          61408.55565231771,
          85507.79670165853,
          7949.7678574809,
          10316.564668061332
         ]
        },
        {
         "hovertemplate": "%{x:0.3f}, %{y:0.3f}",
         "marker": {
          "color": "#7f7f7f",
          "line": {
           "width": 1
          },
          "size": 14
         },
         "mode": "markers",
         "name": "2016",
         "type": "scatter",
         "x": [
          31232.03253648905,
          60856.943590981275,
          66361.43174968039,
          5535.951839287525,
          62249.43295647431,
          15429.644725541611,
          58614.205398740596,
          17374.560905151004,
          4344.53516409976,
          6357.27981465711,
          9066.866750750156,
          12718.523885631672,
          4563.775167137052,
          13632.425062614913,
          70326.47856103058,
          12220.068681624487,
          22777.14571149652,
          17917.129834403553,
          11154.323909597966,
          48429.082869038284,
          64882.736825728134,
          79819.77187622128,
          2556.034248867213,
          95106.14518001657,
          81854.5751331586,
          8877.454483423537,
          80808.50501811485,
          4162.106561234131,
          74771.76844622001,
          85325.92735086565,
          7491.912099031783,
          5384.233520909197,
          77574.6388921176,
          76680.22009843627,
          46161.95702305582,
          41868.59492876478,
          27450.00573146647,
          14324.55746690547,
          15681.28236216983,
          70411.87673020888,
          18812.64368150065,
          11132.340088922918,
          21186.53062238622,
          1214.887861876526,
          12146.73160537095,
          9837.18261626057,
          7977.470953967234,
          4524.573395433636,
          17050.650724944455,
          20258.75867441858,
          67789.75483334762,
          56502.02694014107,
          10222.789469466303
         ],
         "y": [
          33350.06526249373,
          61605.29985797061,
          57013.184412886156,
          4955.856830532018,
          64954.89462926789,
          17828.595716100266,
          34170.27964667203,
          17389.423464420524,
          4495.363062095963,
          3341.204716855787,
          9572.84423623921,
          12175.657511416648,
          3559.43969345956,
          14519.204934108815,
          76388.79305466759,
          16157.798165116306,
          29134.42747356052,
          19344.416471250424,
          11556.183443697348,
          55712.284931726674,
          59452.78957612386,
          67967.25514259383,
          2409.627456355702,
          88240.58973415107,
          69675.8050149787,
          9512.2813095398,
          79238.53388368669,
          2206.9101722833884,
          75197.79485518578,
          73549.18847284252,
          9354.725439951724,
          4656.560736027939,
          72254.96176312311,
          70612.36657129506,
          54314.30645684023,
          30319.515135573332,
          20365.225973941095,
          18189.98663603069,
          17856.32723406786,
          71344.67822330123,
          23688.222023123853,
          8052.869035028853,
          19733.09758972113,
          2413.1980521049454,
          13573.281969875685,
          28938.651733510036,
          5834.725283361444,
          4196.329647859147,
          12526.463339282265,
          19693.06313560966,
          53165.59117962914,
          29572.511276451944,
          19330.434795122328
         ]
        },
        {
         "hovertemplate": "%{x:0.3f}, %{y:0.3f}",
         "marker": {
          "color": "#bcbd22",
          "line": {
           "width": 1
          },
          "size": 14
         },
         "mode": "markers",
         "name": "2017",
         "type": "scatter",
         "x": [
          27291.227204465402,
          75590.15055209106,
          84970.3931884344,
          65737.97442569387,
          15252.134009265044,
          62387.955748594584,
          9513.11971264637,
          9640.698061042336,
          9397.684790938954,
          18257.93560655336,
          9651.320306685178,
          5146.237359500996,
          73598.64391726807,
          12543.328491040786,
          24458.227479590052,
          21178.270322993794,
          8116.776474268182,
          43621.80456517726,
          11244.76458063908,
          98187.33176009626,
          7166.009088488271,
          81497.99518442636,
          76149.17861888098,
          40663.8047038385,
          30279.995750202102,
          13000.177858025389,
          73584.34273936834,
          18307.355536994186,
          21136.083089804855,
          1148.5228869922566,
          11281.854323233943,
          11507.338664458319,
          14908.302384967998,
          72839.3124783649,
          66973.17701196487,
          35105.97125649809
         ],
         "y": [
          29295.435983222094,
          75757.29448850277,
          104824.02263046811,
          66044.61990103209,
          18090.143031401883,
          61573.50613715199,
          9757.067563032375,
          9973.814456536062,
          9959.126206886553,
          18447.882986099165,
          10219.515422944112,
          4870.236635537307,
          75711.46146001469,
          16856.73099467518,
          24703.60909938271,
          21734.100840365583,
          8360.196460163488,
          46721.168935576185,
          15547.588899743432,
          100901.23727008962,
          12189.90684580652,
          72413.25662801121,
          93734.8439972814,
          47272.05986836596,
          15602.338359048208,
          23656.1349233289,
          66670.9448403811,
          41385.79546523803,
          19942.593051511565,
          2243.188035655494,
          15558.585535668184,
          17383.895866832296,
          19571.492776169078,
          92344.0848367684,
          52013.472260018854,
          34332.37240791817
         ]
        }
       ],
       "layout": {
        "height": 600,
        "hovermode": "closest",
        "showlegend": true,
        "template": {
         "data": {
          "bar": [
           {
            "error_x": {
             "color": "#2a3f5f"
            },
            "error_y": {
             "color": "#2a3f5f"
            },
            "marker": {
             "line": {
              "color": "#E5ECF6",
              "width": 0.5
             }
            },
            "type": "bar"
           }
          ],
          "barpolar": [
           {
            "marker": {
             "line": {
              "color": "#E5ECF6",
              "width": 0.5
             }
            },
            "type": "barpolar"
           }
          ],
          "carpet": [
           {
            "aaxis": {
             "endlinecolor": "#2a3f5f",
             "gridcolor": "white",
             "linecolor": "white",
             "minorgridcolor": "white",
             "startlinecolor": "#2a3f5f"
            },
            "baxis": {
             "endlinecolor": "#2a3f5f",
             "gridcolor": "white",
             "linecolor": "white",
             "minorgridcolor": "white",
             "startlinecolor": "#2a3f5f"
            },
            "type": "carpet"
           }
          ],
          "choropleth": [
           {
            "colorbar": {
             "outlinewidth": 0,
             "ticks": ""
            },
            "type": "choropleth"
           }
          ],
          "contour": [
           {
            "colorbar": {
             "outlinewidth": 0,
             "ticks": ""
            },
            "colorscale": [
             [
              0,
              "#0d0887"
             ],
             [
              0.1111111111111111,
              "#46039f"
             ],
             [
              0.2222222222222222,
              "#7201a8"
             ],
             [
              0.3333333333333333,
              "#9c179e"
             ],
             [
              0.4444444444444444,
              "#bd3786"
             ],
             [
              0.5555555555555556,
              "#d8576b"
             ],
             [
              0.6666666666666666,
              "#ed7953"
             ],
             [
              0.7777777777777778,
              "#fb9f3a"
             ],
             [
              0.8888888888888888,
              "#fdca26"
             ],
             [
              1,
              "#f0f921"
             ]
            ],
            "type": "contour"
           }
          ],
          "contourcarpet": [
           {
            "colorbar": {
             "outlinewidth": 0,
             "ticks": ""
            },
            "type": "contourcarpet"
           }
          ],
          "heatmap": [
           {
            "colorbar": {
             "outlinewidth": 0,
             "ticks": ""
            },
            "colorscale": [
             [
              0,
              "#0d0887"
             ],
             [
              0.1111111111111111,
              "#46039f"
             ],
             [
              0.2222222222222222,
              "#7201a8"
             ],
             [
              0.3333333333333333,
              "#9c179e"
             ],
             [
              0.4444444444444444,
              "#bd3786"
             ],
             [
              0.5555555555555556,
              "#d8576b"
             ],
             [
              0.6666666666666666,
              "#ed7953"
             ],
             [
              0.7777777777777778,
              "#fb9f3a"
             ],
             [
              0.8888888888888888,
              "#fdca26"
             ],
             [
              1,
              "#f0f921"
             ]
            ],
            "type": "heatmap"
           }
          ],
          "heatmapgl": [
           {
            "colorbar": {
             "outlinewidth": 0,
             "ticks": ""
            },
            "colorscale": [
             [
              0,
              "#0d0887"
             ],
             [
              0.1111111111111111,
              "#46039f"
             ],
             [
              0.2222222222222222,
              "#7201a8"
             ],
             [
              0.3333333333333333,
              "#9c179e"
             ],
             [
              0.4444444444444444,
              "#bd3786"
             ],
             [
              0.5555555555555556,
              "#d8576b"
             ],
             [
              0.6666666666666666,
              "#ed7953"
             ],
             [
              0.7777777777777778,
              "#fb9f3a"
             ],
             [
              0.8888888888888888,
              "#fdca26"
             ],
             [
              1,
              "#f0f921"
             ]
            ],
            "type": "heatmapgl"
           }
          ],
          "histogram": [
           {
            "marker": {
             "colorbar": {
              "outlinewidth": 0,
              "ticks": ""
             }
            },
            "type": "histogram"
           }
          ],
          "histogram2d": [
           {
            "colorbar": {
             "outlinewidth": 0,
             "ticks": ""
            },
            "colorscale": [
             [
              0,
              "#0d0887"
             ],
             [
              0.1111111111111111,
              "#46039f"
             ],
             [
              0.2222222222222222,
              "#7201a8"
             ],
             [
              0.3333333333333333,
              "#9c179e"
             ],
             [
              0.4444444444444444,
              "#bd3786"
             ],
             [
              0.5555555555555556,
              "#d8576b"
             ],
             [
              0.6666666666666666,
              "#ed7953"
             ],
             [
              0.7777777777777778,
              "#fb9f3a"
             ],
             [
              0.8888888888888888,
              "#fdca26"
             ],
             [
              1,
              "#f0f921"
             ]
            ],
            "type": "histogram2d"
           }
          ],
          "histogram2dcontour": [
           {
            "colorbar": {
             "outlinewidth": 0,
             "ticks": ""
            },
            "colorscale": [
             [
              0,
              "#0d0887"
             ],
             [
              0.1111111111111111,
              "#46039f"
             ],
             [
              0.2222222222222222,
              "#7201a8"
             ],
             [
              0.3333333333333333,
              "#9c179e"
             ],
             [
              0.4444444444444444,
              "#bd3786"
             ],
             [
              0.5555555555555556,
              "#d8576b"
             ],
             [
              0.6666666666666666,
              "#ed7953"
             ],
             [
              0.7777777777777778,
              "#fb9f3a"
             ],
             [
              0.8888888888888888,
              "#fdca26"
             ],
             [
              1,
              "#f0f921"
             ]
            ],
            "type": "histogram2dcontour"
           }
          ],
          "mesh3d": [
           {
            "colorbar": {
             "outlinewidth": 0,
             "ticks": ""
            },
            "type": "mesh3d"
           }
          ],
          "parcoords": [
           {
            "line": {
             "colorbar": {
              "outlinewidth": 0,
              "ticks": ""
             }
            },
            "type": "parcoords"
           }
          ],
          "scatter": [
           {
            "marker": {
             "colorbar": {
              "outlinewidth": 0,
              "ticks": ""
             }
            },
            "type": "scatter"
           }
          ],
          "scatter3d": [
           {
            "line": {
             "colorbar": {
              "outlinewidth": 0,
              "ticks": ""
             }
            },
            "marker": {
             "colorbar": {
              "outlinewidth": 0,
              "ticks": ""
             }
            },
            "type": "scatter3d"
           }
          ],
          "scattercarpet": [
           {
            "marker": {
             "colorbar": {
              "outlinewidth": 0,
              "ticks": ""
             }
            },
            "type": "scattercarpet"
           }
          ],
          "scattergeo": [
           {
            "marker": {
             "colorbar": {
              "outlinewidth": 0,
              "ticks": ""
             }
            },
            "type": "scattergeo"
           }
          ],
          "scattergl": [
           {
            "marker": {
             "colorbar": {
              "outlinewidth": 0,
              "ticks": ""
             }
            },
            "type": "scattergl"
           }
          ],
          "scattermapbox": [
           {
            "marker": {
             "colorbar": {
              "outlinewidth": 0,
              "ticks": ""
             }
            },
            "type": "scattermapbox"
           }
          ],
          "scatterpolar": [
           {
            "marker": {
             "colorbar": {
              "outlinewidth": 0,
              "ticks": ""
             }
            },
            "type": "scatterpolar"
           }
          ],
          "scatterpolargl": [
           {
            "marker": {
             "colorbar": {
              "outlinewidth": 0,
              "ticks": ""
             }
            },
            "type": "scatterpolargl"
           }
          ],
          "scatterternary": [
           {
            "marker": {
             "colorbar": {
              "outlinewidth": 0,
              "ticks": ""
             }
            },
            "type": "scatterternary"
           }
          ],
          "surface": [
           {
            "colorbar": {
             "outlinewidth": 0,
             "ticks": ""
            },
            "colorscale": [
             [
              0,
              "#0d0887"
             ],
             [
              0.1111111111111111,
              "#46039f"
             ],
             [
              0.2222222222222222,
              "#7201a8"
             ],
             [
              0.3333333333333333,
              "#9c179e"
             ],
             [
              0.4444444444444444,
              "#bd3786"
             ],
             [
              0.5555555555555556,
              "#d8576b"
             ],
             [
              0.6666666666666666,
              "#ed7953"
             ],
             [
              0.7777777777777778,
              "#fb9f3a"
             ],
             [
              0.8888888888888888,
              "#fdca26"
             ],
             [
              1,
              "#f0f921"
             ]
            ],
            "type": "surface"
           }
          ],
          "table": [
           {
            "cells": {
             "fill": {
              "color": "#EBF0F8"
             },
             "line": {
              "color": "white"
             }
            },
            "header": {
             "fill": {
              "color": "#C8D4E3"
             },
             "line": {
              "color": "white"
             }
            },
            "type": "table"
           }
          ]
         },
         "layout": {
          "annotationdefaults": {
           "arrowcolor": "#2a3f5f",
           "arrowhead": 0,
           "arrowwidth": 1
          },
          "colorscale": {
           "diverging": [
            [
             0,
             "#8e0152"
            ],
            [
             0.1,
             "#c51b7d"
            ],
            [
             0.2,
             "#de77ae"
            ],
            [
             0.3,
             "#f1b6da"
            ],
            [
             0.4,
             "#fde0ef"
            ],
            [
             0.5,
             "#f7f7f7"
            ],
            [
             0.6,
             "#e6f5d0"
            ],
            [
             0.7,
             "#b8e186"
            ],
            [
             0.8,
             "#7fbc41"
            ],
            [
             0.9,
             "#4d9221"
            ],
            [
             1,
             "#276419"
            ]
           ],
           "sequential": [
            [
             0,
             "#0d0887"
            ],
            [
             0.1111111111111111,
             "#46039f"
            ],
            [
             0.2222222222222222,
             "#7201a8"
            ],
            [
             0.3333333333333333,
             "#9c179e"
            ],
            [
             0.4444444444444444,
             "#bd3786"
            ],
            [
             0.5555555555555556,
             "#d8576b"
            ],
            [
             0.6666666666666666,
             "#ed7953"
            ],
            [
             0.7777777777777778,
             "#fb9f3a"
            ],
            [
             0.8888888888888888,
             "#fdca26"
            ],
            [
             1,
             "#f0f921"
            ]
           ],
           "sequentialminus": [
            [
             0,
             "#0d0887"
            ],
            [
             0.1111111111111111,
             "#46039f"
            ],
            [
             0.2222222222222222,
             "#7201a8"
            ],
            [
             0.3333333333333333,
             "#9c179e"
            ],
            [
             0.4444444444444444,
             "#bd3786"
            ],
            [
             0.5555555555555556,
             "#d8576b"
            ],
            [
             0.6666666666666666,
             "#ed7953"
            ],
            [
             0.7777777777777778,
             "#fb9f3a"
            ],
            [
             0.8888888888888888,
             "#fdca26"
            ],
            [
             1,
             "#f0f921"
            ]
           ]
          },
          "colorway": [
           "#636efa",
           "#EF553B",
           "#00cc96",
           "#ab63fa",
           "#FFA15A",
           "#19d3f3",
           "#FF6692",
           "#B6E880",
           "#FF97FF",
           "#FECB52"
          ],
          "font": {
           "color": "#2a3f5f"
          },
          "geo": {
           "bgcolor": "white",
           "lakecolor": "white",
           "landcolor": "#E5ECF6",
           "showlakes": true,
           "showland": true,
           "subunitcolor": "white"
          },
          "hoverlabel": {
           "align": "left"
          },
          "hovermode": "closest",
          "mapbox": {
           "style": "light"
          },
          "paper_bgcolor": "white",
          "plot_bgcolor": "#E5ECF6",
          "polar": {
           "angularaxis": {
            "gridcolor": "white",
            "linecolor": "white",
            "ticks": ""
           },
           "bgcolor": "#E5ECF6",
           "radialaxis": {
            "gridcolor": "white",
            "linecolor": "white",
            "ticks": ""
           }
          },
          "scene": {
           "xaxis": {
            "backgroundcolor": "#E5ECF6",
            "gridcolor": "white",
            "gridwidth": 2,
            "linecolor": "white",
            "showbackground": true,
            "ticks": "",
            "zerolinecolor": "white"
           },
           "yaxis": {
            "backgroundcolor": "#E5ECF6",
            "gridcolor": "white",
            "gridwidth": 2,
            "linecolor": "white",
            "showbackground": true,
            "ticks": "",
            "zerolinecolor": "white"
           },
           "zaxis": {
            "backgroundcolor": "#E5ECF6",
            "gridcolor": "white",
            "gridwidth": 2,
            "linecolor": "white",
            "showbackground": true,
            "ticks": "",
            "zerolinecolor": "white"
           }
          },
          "shapedefaults": {
           "line": {
            "color": "#2a3f5f"
           }
          },
          "ternary": {
           "aaxis": {
            "gridcolor": "white",
            "linecolor": "white",
            "ticks": ""
           },
           "baxis": {
            "gridcolor": "white",
            "linecolor": "white",
            "ticks": ""
           },
           "bgcolor": "#E5ECF6",
           "caxis": {
            "gridcolor": "white",
            "linecolor": "white",
            "ticks": ""
           }
          },
          "title": {
           "x": 0.05
          },
          "xaxis": {
           "automargin": true,
           "gridcolor": "white",
           "linecolor": "white",
           "ticks": "",
           "zerolinecolor": "white",
           "zerolinewidth": 2
          },
          "yaxis": {
           "automargin": true,
           "gridcolor": "white",
           "linecolor": "white",
           "ticks": "",
           "zerolinecolor": "white",
           "zerolinewidth": 2
          }
         }
        },
        "title": {
         "text": "Bagheri MSE Global Growth Rate"
        },
        "width": 900,
        "xaxis": {
         "gridwidth": 2,
         "ticklen": 1000,
         "title": {
          "text": "Ground Truth"
         },
         "zeroline": false
        },
        "yaxis": {
         "gridwidth": 2,
         "ticklen": 1000,
         "title": {
          "text": "Typical Prediction"
         }
        }
       }
      },
      "text/html": [
       "<div>\n",
       "        \n",
       "        \n",
       "            <div id=\"e0cf2608-a00d-4f32-9db1-5592f64cf1bb\" class=\"plotly-graph-div\" style=\"height:600px; width:900px;\"></div>\n",
       "            <script type=\"text/javascript\">\n",
       "                require([\"plotly\"], function(Plotly) {\n",
       "                    window.PLOTLYENV=window.PLOTLYENV || {};\n",
       "                    \n",
       "                if (document.getElementById(\"e0cf2608-a00d-4f32-9db1-5592f64cf1bb\")) {\n",
       "                    Plotly.newPlot(\n",
       "                        'e0cf2608-a00d-4f32-9db1-5592f64cf1bb',\n",
       "                        [{\"hovertemplate\": \"%{x:0.3f}, %{y:0.3f}\", \"marker\": {\"color\": \"#1f77b4\", \"line\": {\"width\": 1}, \"size\": 14}, \"mode\": \"markers\", \"name\": \"2006\", \"type\": \"scatter\", \"x\": [1062.7846825679437], \"y\": [1126.4520225766034]}, {\"hovertemplate\": \"%{x:0.3f}, %{y:0.3f}\", \"marker\": {\"color\": \"#ff7f0e\", \"line\": {\"width\": 1}, \"size\": 14}, \"mode\": \"markers\", \"name\": \"2010\", \"type\": \"scatter\", \"x\": [15255.520320454854, 55196.733806100536, 8245.02643178383, 29127.998506404634, 61641.049747671146, 75440.99990165087, 6662.478466803338, 18725.636255852212, 83486.95739560948, 80197.74419072465, 7226.875264658771, 58021.08437105056, 53625.34702047268, 19307.867796457664, 18739.428061618746, 25662.300544796093, 9526.935479277297, 17953.196473929424, 16986.55734146219, 4022.0163578674888, 6640.411861809423, 4349.017096425068, 29673.56449650973, 9503.730777958495, 4067.500047205748, 25091.859608315604, 73410.80112754917, 30578.572598213887, 65699.8324925106, 80534.45171352786, 16005.209527768406, 86996.37810261064, 80803.02430523981, 56367.6453896252, 19675.023911736665, 6119.285824000488, 41744.782060581725, 40430.13331105424, 52844.842148811615, 22381.673026850876, 6827.877079343163, 32133.694570581447, 82822.14136454414, 79348.81712166812, 8951.316680616188, 85009.78862537871, 4162.2856361852255, 33880.909913883945, 15216.509862723648, 13876.078020011726, 17292.127972502018, 70583.4807799674, 3350.1645458149246, 5627.793110230975, 24554.12811210833, 12703.668581564827, 8344.272807979438, 80137.1689330468, 65963.77195589899, 77712.71881542233, 48484.23570580561, 5072.656912539515, 21674.612031935783, 55193.205708264344, 9036.046049475637, 45498.04162975632, 42005.05723432648, 39989.98103019051, 61458.92259308879, 75302.0459671835, 76806.23893737241, 75541.33410142064, 20032.989169463664, 15961.46816448392, 63461.178599911276, 23831.603927778735, 73438.55419519293, 35230.751580256285, 19684.84187661755, 14121.272975851934, 10492.872862176555, 11306.436426714838, 11426.60318799843, 9630.36991410636, 6444.665968541579, 24334.25538905387, 11410.068652502016, 19013.11536241012, 8948.027613213673, 13502.089826410771, 44262.78116983048, 18652.174886664325, 77842.57576763799, 7667.695307095944, 76963.1163075428, 22808.731510967384, 74519.3638868985, 31061.41705255208, 7584.451093859001, 23274.26292102494, 86975.81296132477, 60635.98060426179, 4380.833904736815, 11525.43047994123, 64941.79602794934, 9149.604068610231, 56538.16874341844], \"y\": [22537.185723318078, 50232.73135906229, 8878.419758327032, 30786.213338332993, 67475.98196450835, 78122.17076624633, 5751.141475256831, 17602.994312123687, 72500.4590982459, 74015.10959595152, 7022.97527142494, 59260.71627850651, 58459.956924088656, 20192.766682922418, 22291.954454131235, 27319.948407633416, 10041.364881733498, 18326.10429097446, 16888.302334967386, 4326.680721155499, 5688.571502746094, 4730.1175353342705, 44623.65997224909, 9314.418384287661, 4416.835749485476, 23378.440718023718, 76305.67741855358, 27662.34330334412, 69170.31300245154, 86092.50358718589, 15565.190296679517, 79899.2588944893, 83525.10990349333, 61865.8168553776, 22761.371492352893, 6194.40640705727, 39211.15859598347, 39436.56602243079, 54735.824549279125, 22713.57259526129, 6527.626672895693, 31895.610466713308, 82626.8759641935, 78934.73364711153, 9595.314786903624, 81387.91157320421, 5077.715996591459, 35122.09556128637, 15068.13809938653, 14012.871826238748, 16065.523794690072, 69471.30159143276, 3227.233653624416, 5593.775744357172, 23869.971477179108, 11915.994466138247, 7998.715829891752, 66283.2904072443, 54994.61446664266, 77817.87572234159, 50909.055172806686, 5878.228637112802, 17747.71856713331, 43302.208414978486, 8789.936539578715, 32998.84004471715, 34179.86624669107, 29738.573649157905, 45186.811264706565, 76314.31844332664, 76899.83601234537, 58645.31576057965, 21630.195431208445, 21397.324844333387, 62277.6702369038, 24301.194293341203, 62477.009826027825, 33314.409263670685, 20937.013844047095, 14940.598315181758, 9984.572395495254, 11587.510953580137, 12841.246714284896, 10006.469427850652, 6637.877522661766, 22875.39093177384, 11613.66879078319, 18173.363008669523, 7021.216639088048, 12104.998191778626, 36179.02423797178, 24059.66503805242, 103629.67306769663, 5627.960767520805, 53735.75058964814, 20891.104363396007, 74275.84726617772, 37331.82019956506, 7588.041698439461, 20544.56589874696, 61241.74772864309, 54483.7830588537, 4235.161975765323, 11987.719951181129, 61243.45056395712, 10300.41969007332, 45493.923172767616]}, {\"hovertemplate\": \"%{x:0.3f}, %{y:0.3f}\", \"marker\": {\"color\": \"#2ca02c\", \"line\": {\"width\": 1}, \"size\": 14}, \"mode\": \"markers\", \"name\": \"2011\", \"type\": \"scatter\", \"x\": [14997.78954749053, 15291.262582779787, 17043.493208499844, 2523.7983376888337, 15677.47166044147, 17869.539368077072, 1746.7162980227317, 19868.68745671428, 1076.228147585618], \"y\": [16669.70231736631, 13102.96315162546, 16222.837132200322, 2528.0550742852324, 15989.375780214485, 15344.689251501894, 1410.4944914690745, 16589.392664690535, 1063.8292875960299]}, {\"hovertemplate\": \"%{x:0.3f}, %{y:0.3f}\", \"marker\": {\"color\": \"#d62728\", \"line\": {\"width\": 1}, \"size\": 14}, \"mode\": \"markers\", \"name\": \"2012\", \"type\": \"scatter\", \"x\": [12122.424511023703, 6456.27579276041, 16130.178781169525, 15085.224911193463, 3673.4333462094087, 8280.438367904411, 32795.53503555821, 14166.06566327492, 13875.171506037826, 6946.90432357302, 2564.982449923113, 16811.695023108605, 12449.995480114758, 5531.02785623472, 23794.741377539554, 16225.721041391871, 8487.049018816118, 7266.177275813694, 17726.352009923998, 13293.463666423551, 1817.611035632038, 9795.194916846965, 19606.436026491916, 1513.7535597198428, 19161.2166823692, 8801.735137201393, 22346.69328874194, 8043.957317300389, 15506.259215521497], \"y\": [11570.263602205088, 8773.15987411283, 12262.54391330647, 14607.624930923363, 4387.083041700982, 9211.160993344849, 33561.66494937776, 17554.08384037915, 16337.820255238334, 6584.375081602323, 2909.7754825878706, 17197.72353750256, 13026.963337451625, 6233.251432803384, 23604.691771643233, 15153.289099310756, 8907.57591620789, 7479.7331860899285, 17787.034454830016, 13095.05830243895, 1937.0722918608462, 9450.378507189847, 20210.125803759387, 2138.380052062776, 19379.76413516037, 6638.295163175699, 24018.26513255067, 9016.162719395294, 14953.311037755828]}, {\"hovertemplate\": \"%{x:0.3f}, %{y:0.3f}\", \"marker\": {\"color\": \"#9467bd\", \"line\": {\"width\": 1}, \"size\": 14}, \"mode\": \"markers\", \"name\": \"2013\", \"type\": \"scatter\", \"x\": [15102.145260064033, 15037.697671232878, 3665.4998960793578, 2490.3457239971012, 5603.78842117102, 15372.719782711385, 17612.591702544032, 17382.1763281373, 1739.7917314539077, 4341.678351965569, 18814.096759240514, 1100.3903892150468, 8854.49618817684], \"y\": [17586.527775677194, 15646.579420729837, 4600.615313271071, 2660.0052745667294, 6484.965828111399, 16179.231942558423, 17709.785192482133, 22098.872137338545, 1748.6428239022853, 5371.53148629977, 21700.662572662517, 966.9300786479453, 8953.416693059089]}, {\"hovertemplate\": \"%{x:0.3f}, %{y:0.3f}\", \"marker\": {\"color\": \"#8c564b\", \"line\": {\"width\": 1}, \"size\": 14}, \"mode\": \"markers\", \"name\": \"2014\", \"type\": \"scatter\", \"x\": [12760.622579121398, 14946.546014800819, 3610.743744292238, 2329.2785458108083, 5657.709132420092, 14272.475314498655, 17319.459874035587, 1584.94106527406, 18586.336687135885, 1107.0032348182726], \"y\": [19666.31011524627, 18977.288356393823, 4835.827306413588, 2631.574131241479, 5645.885506648631, 17709.263153399123, 17818.46869940446, 1856.4354308845498, 20313.784044236, 2110.258417503918]}, {\"hovertemplate\": \"%{x:0.3f}, %{y:0.3f}\", \"marker\": {\"color\": \"#e377c2\", \"line\": {\"width\": 1}, \"size\": 14}, \"mode\": \"markers\", \"name\": \"2015\", \"type\": \"scatter\", \"x\": [13025.188062731228, 54092.21641704718, 4752.054240340868, 14029.143693906475, 44503.244295586235, 45184.180866705945, 14784.653280893412, 5280.982156782363, 16004.157421433343, 4026.95057312204, 16736.72390166163, 21399.258249116123, 17507.588993042362, 7608.62678426732, 67671.81863827101, 6976.453876543033, 72784.43025066845, 2149.2504887987566, 72502.09468558192, 8143.520062927568, 16021.068682097306, 77299.7344574856, 4765.604302216203, 70500.40606522319, 66373.48038728155, 8888.472813855613, 1718.2410662508892, 17861.679841113066, 30724.841253154143, 46956.50295756965, 24289.420157800065, 54557.826407719826, 15486.917195479007, 10194.042146028747, 9408.49625582023, 1151.112911352543, 6679.129196651287, 6484.342899262018, 10943.55175334468, 36360.82872367504, 17089.591485859888, 54795.58976704318, 54199.26003096565, 10886.13818428678, 8079.613078399825], \"y\": [16118.846699286029, 55541.585179902504, 4169.729254244865, 14569.545210388915, 86888.3139730462, 59174.538069754424, 24388.705693639058, 12862.442991789678, 17431.77798642528, 8506.284926481729, 20608.045959926814, 18965.028988235335, 20232.557535662305, 6940.753768713952, 92287.97248950554, 10991.64137206585, 96930.4215149386, 2200.821768954936, 88700.1931332994, 6088.115241303322, 17353.80489619421, 76143.2106932957, 5024.864533610852, 68385.89743973175, 75197.80368914064, 10491.877856582363, 2274.7279770378145, 16497.788589828142, 36535.16124330375, 58728.603932987826, 24765.4200966023, 85789.26726280934, 27942.941864572516, 10340.233999121145, 10997.932498369159, 1118.9983052666598, 12062.13748053609, 8842.903365183158, 15895.862007418824, 47559.48240499469, 20803.57451804002, 61408.55565231771, 85507.79670165853, 7949.7678574809, 10316.564668061332]}, {\"hovertemplate\": \"%{x:0.3f}, %{y:0.3f}\", \"marker\": {\"color\": \"#7f7f7f\", \"line\": {\"width\": 1}, \"size\": 14}, \"mode\": \"markers\", \"name\": \"2016\", \"type\": \"scatter\", \"x\": [31232.03253648905, 60856.943590981275, 66361.43174968039, 5535.951839287525, 62249.43295647431, 15429.644725541611, 58614.205398740596, 17374.560905151004, 4344.53516409976, 6357.27981465711, 9066.866750750156, 12718.523885631672, 4563.775167137052, 13632.425062614913, 70326.47856103058, 12220.068681624487, 22777.14571149652, 17917.129834403553, 11154.323909597966, 48429.082869038284, 64882.736825728134, 79819.77187622128, 2556.034248867213, 95106.14518001657, 81854.5751331586, 8877.454483423537, 80808.50501811485, 4162.106561234131, 74771.76844622001, 85325.92735086565, 7491.912099031783, 5384.233520909197, 77574.6388921176, 76680.22009843627, 46161.95702305582, 41868.59492876478, 27450.00573146647, 14324.55746690547, 15681.28236216983, 70411.87673020888, 18812.64368150065, 11132.340088922918, 21186.53062238622, 1214.887861876526, 12146.73160537095, 9837.18261626057, 7977.470953967234, 4524.573395433636, 17050.650724944455, 20258.75867441858, 67789.75483334762, 56502.02694014107, 10222.789469466303], \"y\": [33350.06526249373, 61605.29985797061, 57013.184412886156, 4955.856830532018, 64954.89462926789, 17828.595716100266, 34170.27964667203, 17389.423464420524, 4495.363062095963, 3341.204716855787, 9572.84423623921, 12175.657511416648, 3559.43969345956, 14519.204934108815, 76388.79305466759, 16157.798165116306, 29134.42747356052, 19344.416471250424, 11556.183443697348, 55712.284931726674, 59452.78957612386, 67967.25514259383, 2409.627456355702, 88240.58973415107, 69675.8050149787, 9512.2813095398, 79238.53388368669, 2206.9101722833884, 75197.79485518578, 73549.18847284252, 9354.725439951724, 4656.560736027939, 72254.96176312311, 70612.36657129506, 54314.30645684023, 30319.515135573332, 20365.225973941095, 18189.98663603069, 17856.32723406786, 71344.67822330123, 23688.222023123853, 8052.869035028853, 19733.09758972113, 2413.1980521049454, 13573.281969875685, 28938.651733510036, 5834.725283361444, 4196.329647859147, 12526.463339282265, 19693.06313560966, 53165.59117962914, 29572.511276451944, 19330.434795122328]}, {\"hovertemplate\": \"%{x:0.3f}, %{y:0.3f}\", \"marker\": {\"color\": \"#bcbd22\", \"line\": {\"width\": 1}, \"size\": 14}, \"mode\": \"markers\", \"name\": \"2017\", \"type\": \"scatter\", \"x\": [27291.227204465402, 75590.15055209106, 84970.3931884344, 65737.97442569387, 15252.134009265044, 62387.955748594584, 9513.11971264637, 9640.698061042336, 9397.684790938954, 18257.93560655336, 9651.320306685178, 5146.237359500996, 73598.64391726807, 12543.328491040786, 24458.227479590052, 21178.270322993794, 8116.776474268182, 43621.80456517726, 11244.76458063908, 98187.33176009626, 7166.009088488271, 81497.99518442636, 76149.17861888098, 40663.8047038385, 30279.995750202102, 13000.177858025389, 73584.34273936834, 18307.355536994186, 21136.083089804855, 1148.5228869922566, 11281.854323233943, 11507.338664458319, 14908.302384967998, 72839.3124783649, 66973.17701196487, 35105.97125649809], \"y\": [29295.435983222094, 75757.29448850277, 104824.02263046811, 66044.61990103209, 18090.143031401883, 61573.50613715199, 9757.067563032375, 9973.814456536062, 9959.126206886553, 18447.882986099165, 10219.515422944112, 4870.236635537307, 75711.46146001469, 16856.73099467518, 24703.60909938271, 21734.100840365583, 8360.196460163488, 46721.168935576185, 15547.588899743432, 100901.23727008962, 12189.90684580652, 72413.25662801121, 93734.8439972814, 47272.05986836596, 15602.338359048208, 23656.1349233289, 66670.9448403811, 41385.79546523803, 19942.593051511565, 2243.188035655494, 15558.585535668184, 17383.895866832296, 19571.492776169078, 92344.0848367684, 52013.472260018854, 34332.37240791817]}],\n",
       "                        {\"height\": 600, \"hovermode\": \"closest\", \"showlegend\": true, \"template\": {\"data\": {\"bar\": [{\"error_x\": {\"color\": \"#2a3f5f\"}, \"error_y\": {\"color\": \"#2a3f5f\"}, \"marker\": {\"line\": {\"color\": \"#E5ECF6\", \"width\": 0.5}}, \"type\": \"bar\"}], \"barpolar\": [{\"marker\": {\"line\": {\"color\": \"#E5ECF6\", \"width\": 0.5}}, \"type\": \"barpolar\"}], \"carpet\": [{\"aaxis\": {\"endlinecolor\": \"#2a3f5f\", \"gridcolor\": \"white\", \"linecolor\": \"white\", \"minorgridcolor\": \"white\", \"startlinecolor\": \"#2a3f5f\"}, \"baxis\": {\"endlinecolor\": \"#2a3f5f\", \"gridcolor\": \"white\", \"linecolor\": \"white\", \"minorgridcolor\": \"white\", \"startlinecolor\": \"#2a3f5f\"}, \"type\": \"carpet\"}], \"choropleth\": [{\"colorbar\": {\"outlinewidth\": 0, \"ticks\": \"\"}, \"type\": \"choropleth\"}], \"contour\": [{\"colorbar\": {\"outlinewidth\": 0, \"ticks\": \"\"}, \"colorscale\": [[0.0, \"#0d0887\"], [0.1111111111111111, \"#46039f\"], [0.2222222222222222, \"#7201a8\"], [0.3333333333333333, \"#9c179e\"], [0.4444444444444444, \"#bd3786\"], [0.5555555555555556, \"#d8576b\"], [0.6666666666666666, \"#ed7953\"], [0.7777777777777778, \"#fb9f3a\"], [0.8888888888888888, \"#fdca26\"], [1.0, \"#f0f921\"]], \"type\": \"contour\"}], \"contourcarpet\": [{\"colorbar\": {\"outlinewidth\": 0, \"ticks\": \"\"}, \"type\": \"contourcarpet\"}], \"heatmap\": [{\"colorbar\": {\"outlinewidth\": 0, \"ticks\": \"\"}, \"colorscale\": [[0.0, \"#0d0887\"], [0.1111111111111111, \"#46039f\"], [0.2222222222222222, \"#7201a8\"], [0.3333333333333333, \"#9c179e\"], [0.4444444444444444, \"#bd3786\"], [0.5555555555555556, \"#d8576b\"], [0.6666666666666666, \"#ed7953\"], [0.7777777777777778, \"#fb9f3a\"], [0.8888888888888888, \"#fdca26\"], [1.0, \"#f0f921\"]], \"type\": \"heatmap\"}], \"heatmapgl\": [{\"colorbar\": {\"outlinewidth\": 0, \"ticks\": \"\"}, \"colorscale\": [[0.0, \"#0d0887\"], [0.1111111111111111, \"#46039f\"], [0.2222222222222222, \"#7201a8\"], [0.3333333333333333, \"#9c179e\"], [0.4444444444444444, \"#bd3786\"], [0.5555555555555556, \"#d8576b\"], [0.6666666666666666, \"#ed7953\"], [0.7777777777777778, \"#fb9f3a\"], [0.8888888888888888, \"#fdca26\"], [1.0, \"#f0f921\"]], \"type\": \"heatmapgl\"}], \"histogram\": [{\"marker\": {\"colorbar\": {\"outlinewidth\": 0, \"ticks\": \"\"}}, \"type\": \"histogram\"}], \"histogram2d\": [{\"colorbar\": {\"outlinewidth\": 0, \"ticks\": \"\"}, \"colorscale\": [[0.0, \"#0d0887\"], [0.1111111111111111, \"#46039f\"], [0.2222222222222222, \"#7201a8\"], [0.3333333333333333, \"#9c179e\"], [0.4444444444444444, \"#bd3786\"], [0.5555555555555556, \"#d8576b\"], [0.6666666666666666, \"#ed7953\"], [0.7777777777777778, \"#fb9f3a\"], [0.8888888888888888, \"#fdca26\"], [1.0, \"#f0f921\"]], \"type\": \"histogram2d\"}], \"histogram2dcontour\": [{\"colorbar\": {\"outlinewidth\": 0, \"ticks\": \"\"}, \"colorscale\": [[0.0, \"#0d0887\"], [0.1111111111111111, \"#46039f\"], [0.2222222222222222, \"#7201a8\"], [0.3333333333333333, \"#9c179e\"], [0.4444444444444444, \"#bd3786\"], [0.5555555555555556, \"#d8576b\"], [0.6666666666666666, \"#ed7953\"], [0.7777777777777778, \"#fb9f3a\"], [0.8888888888888888, \"#fdca26\"], [1.0, \"#f0f921\"]], \"type\": \"histogram2dcontour\"}], \"mesh3d\": [{\"colorbar\": {\"outlinewidth\": 0, \"ticks\": \"\"}, \"type\": \"mesh3d\"}], \"parcoords\": [{\"line\": {\"colorbar\": {\"outlinewidth\": 0, \"ticks\": \"\"}}, \"type\": \"parcoords\"}], \"scatter\": [{\"marker\": {\"colorbar\": {\"outlinewidth\": 0, \"ticks\": \"\"}}, \"type\": \"scatter\"}], \"scatter3d\": [{\"line\": {\"colorbar\": {\"outlinewidth\": 0, \"ticks\": \"\"}}, \"marker\": {\"colorbar\": {\"outlinewidth\": 0, \"ticks\": \"\"}}, \"type\": \"scatter3d\"}], \"scattercarpet\": [{\"marker\": {\"colorbar\": {\"outlinewidth\": 0, \"ticks\": \"\"}}, \"type\": \"scattercarpet\"}], \"scattergeo\": [{\"marker\": {\"colorbar\": {\"outlinewidth\": 0, \"ticks\": \"\"}}, \"type\": \"scattergeo\"}], \"scattergl\": [{\"marker\": {\"colorbar\": {\"outlinewidth\": 0, \"ticks\": \"\"}}, \"type\": \"scattergl\"}], \"scattermapbox\": [{\"marker\": {\"colorbar\": {\"outlinewidth\": 0, \"ticks\": \"\"}}, \"type\": \"scattermapbox\"}], \"scatterpolar\": [{\"marker\": {\"colorbar\": {\"outlinewidth\": 0, \"ticks\": \"\"}}, \"type\": \"scatterpolar\"}], \"scatterpolargl\": [{\"marker\": {\"colorbar\": {\"outlinewidth\": 0, \"ticks\": \"\"}}, \"type\": \"scatterpolargl\"}], \"scatterternary\": [{\"marker\": {\"colorbar\": {\"outlinewidth\": 0, \"ticks\": \"\"}}, \"type\": \"scatterternary\"}], \"surface\": [{\"colorbar\": {\"outlinewidth\": 0, \"ticks\": \"\"}, \"colorscale\": [[0.0, \"#0d0887\"], [0.1111111111111111, \"#46039f\"], [0.2222222222222222, \"#7201a8\"], [0.3333333333333333, \"#9c179e\"], [0.4444444444444444, \"#bd3786\"], [0.5555555555555556, \"#d8576b\"], [0.6666666666666666, \"#ed7953\"], [0.7777777777777778, \"#fb9f3a\"], [0.8888888888888888, \"#fdca26\"], [1.0, \"#f0f921\"]], \"type\": \"surface\"}], \"table\": [{\"cells\": {\"fill\": {\"color\": \"#EBF0F8\"}, \"line\": {\"color\": \"white\"}}, \"header\": {\"fill\": {\"color\": \"#C8D4E3\"}, \"line\": {\"color\": \"white\"}}, \"type\": \"table\"}]}, \"layout\": {\"annotationdefaults\": {\"arrowcolor\": \"#2a3f5f\", \"arrowhead\": 0, \"arrowwidth\": 1}, \"colorscale\": {\"diverging\": [[0, \"#8e0152\"], [0.1, \"#c51b7d\"], [0.2, \"#de77ae\"], [0.3, \"#f1b6da\"], [0.4, \"#fde0ef\"], [0.5, \"#f7f7f7\"], [0.6, \"#e6f5d0\"], [0.7, \"#b8e186\"], [0.8, \"#7fbc41\"], [0.9, \"#4d9221\"], [1, \"#276419\"]], \"sequential\": [[0.0, \"#0d0887\"], [0.1111111111111111, \"#46039f\"], [0.2222222222222222, \"#7201a8\"], [0.3333333333333333, \"#9c179e\"], [0.4444444444444444, \"#bd3786\"], [0.5555555555555556, \"#d8576b\"], [0.6666666666666666, \"#ed7953\"], [0.7777777777777778, \"#fb9f3a\"], [0.8888888888888888, \"#fdca26\"], [1.0, \"#f0f921\"]], \"sequentialminus\": [[0.0, \"#0d0887\"], [0.1111111111111111, \"#46039f\"], [0.2222222222222222, \"#7201a8\"], [0.3333333333333333, \"#9c179e\"], [0.4444444444444444, \"#bd3786\"], [0.5555555555555556, \"#d8576b\"], [0.6666666666666666, \"#ed7953\"], [0.7777777777777778, \"#fb9f3a\"], [0.8888888888888888, \"#fdca26\"], [1.0, \"#f0f921\"]]}, \"colorway\": [\"#636efa\", \"#EF553B\", \"#00cc96\", \"#ab63fa\", \"#FFA15A\", \"#19d3f3\", \"#FF6692\", \"#B6E880\", \"#FF97FF\", \"#FECB52\"], \"font\": {\"color\": \"#2a3f5f\"}, \"geo\": {\"bgcolor\": \"white\", \"lakecolor\": \"white\", \"landcolor\": \"#E5ECF6\", \"showlakes\": true, \"showland\": true, \"subunitcolor\": \"white\"}, \"hoverlabel\": {\"align\": \"left\"}, \"hovermode\": \"closest\", \"mapbox\": {\"style\": \"light\"}, \"paper_bgcolor\": \"white\", \"plot_bgcolor\": \"#E5ECF6\", \"polar\": {\"angularaxis\": {\"gridcolor\": \"white\", \"linecolor\": \"white\", \"ticks\": \"\"}, \"bgcolor\": \"#E5ECF6\", \"radialaxis\": {\"gridcolor\": \"white\", \"linecolor\": \"white\", \"ticks\": \"\"}}, \"scene\": {\"xaxis\": {\"backgroundcolor\": \"#E5ECF6\", \"gridcolor\": \"white\", \"gridwidth\": 2, \"linecolor\": \"white\", \"showbackground\": true, \"ticks\": \"\", \"zerolinecolor\": \"white\"}, \"yaxis\": {\"backgroundcolor\": \"#E5ECF6\", \"gridcolor\": \"white\", \"gridwidth\": 2, \"linecolor\": \"white\", \"showbackground\": true, \"ticks\": \"\", \"zerolinecolor\": \"white\"}, \"zaxis\": {\"backgroundcolor\": \"#E5ECF6\", \"gridcolor\": \"white\", \"gridwidth\": 2, \"linecolor\": \"white\", \"showbackground\": true, \"ticks\": \"\", \"zerolinecolor\": \"white\"}}, \"shapedefaults\": {\"line\": {\"color\": \"#2a3f5f\"}}, \"ternary\": {\"aaxis\": {\"gridcolor\": \"white\", \"linecolor\": \"white\", \"ticks\": \"\"}, \"baxis\": {\"gridcolor\": \"white\", \"linecolor\": \"white\", \"ticks\": \"\"}, \"bgcolor\": \"#E5ECF6\", \"caxis\": {\"gridcolor\": \"white\", \"linecolor\": \"white\", \"ticks\": \"\"}}, \"title\": {\"x\": 0.05}, \"xaxis\": {\"automargin\": true, \"gridcolor\": \"white\", \"linecolor\": \"white\", \"ticks\": \"\", \"zerolinecolor\": \"white\", \"zerolinewidth\": 2}, \"yaxis\": {\"automargin\": true, \"gridcolor\": \"white\", \"linecolor\": \"white\", \"ticks\": \"\", \"zerolinecolor\": \"white\", \"zerolinewidth\": 2}}}, \"title\": {\"text\": \"Bagheri MSE Global Growth Rate\"}, \"width\": 900, \"xaxis\": {\"gridwidth\": 2, \"ticklen\": 1000, \"title\": {\"text\": \"Ground Truth\"}, \"zeroline\": false}, \"yaxis\": {\"gridwidth\": 2, \"ticklen\": 1000, \"title\": {\"text\": \"Typical Prediction\"}}},\n",
       "                        {\"responsive\": true}\n",
       "                    ).then(function(){\n",
       "                            \n",
       "var gd = document.getElementById('e0cf2608-a00d-4f32-9db1-5592f64cf1bb');\n",
       "var x = new MutationObserver(function (mutations, observer) {{\n",
       "        var display = window.getComputedStyle(gd).display;\n",
       "        if (!display || display === 'none') {{\n",
       "            console.log([gd, 'removed!']);\n",
       "            Plotly.purge(gd);\n",
       "            observer.disconnect();\n",
       "        }}\n",
       "}});\n",
       "\n",
       "// Listen for the removal of the full notebook cells\n",
       "var notebookContainer = gd.closest('#notebook-container');\n",
       "if (notebookContainer) {{\n",
       "    x.observe(notebookContainer, {childList: true});\n",
       "}}\n",
       "\n",
       "// Listen for the clearing of the current output cell\n",
       "var outputEl = gd.closest('.output');\n",
       "if (outputEl) {{\n",
       "    x.observe(outputEl, {childList: true});\n",
       "}}\n",
       "\n",
       "                        })\n",
       "                };\n",
       "                });\n",
       "            </script>\n",
       "        </div>"
      ]
     },
     "metadata": {},
     "output_type": "display_data"
    }
   ],
   "source": [
    "make_ploty_scatter(bag_cov_ggf_aadt, 'Bagheri MSE Global Growth Rate')"
   ]
  },
  {
   "cell_type": "code",
   "execution_count": 72,
   "metadata": {},
   "outputs": [
    {
     "data": {
      "text/html": [
       "\n",
       "<style>\n",
       "\n",
       ".kydbox {\n",
       "  border-style: solid;\n",
       "  border-color: #CCCCCC;\n",
       "  border-width: 2px;\n",
       "  margin: 10px;\n",
       "  padding: 5px;\n",
       "  font-family: sans-serif;\n",
       "  font-size: 10pt;\n",
       "}\n",
       "\n",
       ".kydfloatboxleft {\n",
       "  margin: 5px;\n",
       "  padding-left: 10px;\n",
       "  float: left;\n",
       "  border-right-width: 2px;\n",
       "  border-right-style: solid;\n",
       "  border-right-color: #CCCCCC;\n",
       "  padding-right: 15px;\n",
       "  margin-right: 15px;\n",
       "}\n",
       "\n",
       ".kydfloatboxright {\n",
       "  margin: 5px;\n",
       "  padding-right: 10px;\n",
       "  float: right;\n",
       "}\n",
       "\n",
       ".kydsubtitle {\n",
       "  font-size: 10pt;\n",
       "  font-weight: bold;\n",
       "  margin-top: 5px;\n",
       "  margin-bottom: 5px;\n",
       "}\n",
       "\n",
       ".kydpropertylabel {\n",
       "  font-weight: bold;\n",
       "}\n",
       "\n",
       "td.kydpropertylabel {\n",
       "  text-align: right;\n",
       "}\n",
       "\n",
       "table.kydbasic_stats,\n",
       "table.kydarray_structure {\n",
       "  padding-top: 0px;\n",
       "}\n",
       "\n",
       "table.kydbasic_stats td,\n",
       "table.kydarray_structure td {\n",
       "  padding: 3px 10px 3px 10px;\n",
       "}\n",
       "\n",
       ".kydbottomborder {\n",
       "  border-bottom-width:2px;\n",
       "  border-bottom-style:solid;\n",
       "  border-bottom-color:#CCCCCC;\n",
       "}\n",
       "\n",
       "</style>\n",
       "\n",
       "<div class=\"kydbox\" , style=\"float:left\">\n",
       "\n",
       "  <div class=\"kydfloatboxleft\">\n",
       "    <div class=\"kydsubtitle\">Basic Statistics</div>\n",
       "\n",
       "    <span class='kydpropertylabel'>Mean:</span>\n",
       "    0.1658\n",
       "    &nbsp;&nbsp;&nbsp;&nbsp;\n",
       "    <span class='kydpropertylabel'>Std Dev:</span>\n",
       "    0.1197\n",
       "\n",
       "    <table class=\"kydbasic_stats\">\n",
       "      <tr>\n",
       "        <td class='kydpropertylabel'>Min:</td>\n",
       "        <td>0.02193</td>\n",
       "        <td class='kydpropertylabel'>-99% CI:</td>\n",
       "        <td>0.03031</td>\n",
       "      </tr>\n",
       "      <tr>\n",
       "        <td class='kydpropertylabel'>1Q:</td>\n",
       "        <td>0.08501</td>\n",
       "        <td class='kydpropertylabel'>-95% CI:</td>\n",
       "        <td>0.03567</td>\n",
       "      </tr>\n",
       "      <tr>\n",
       "        <td class='kydpropertylabel'>Median:</td>\n",
       "        <td>0.1337</td>\n",
       "        <td class='kydpropertylabel'>-68% CI:</td>\n",
       "        <td>0.07157</td>\n",
       "      </tr>\n",
       "      <tr>\n",
       "        <td class='kydpropertylabel'>3Q:</td>\n",
       "        <td>0.2067</td>\n",
       "        <td class='kydpropertylabel'>+68% CI:</td>\n",
       "        <td>0.2518</td>\n",
       "      </tr>\n",
       "      <tr>\n",
       "        <td class='kydpropertylabel'>Max:</td>\n",
       "        <td>0.8273</td>\n",
       "        <td class='kydpropertylabel'>+95% CI:</td>\n",
       "        <td>0.4952</td>\n",
       "      </tr>\n",
       "      <tr>\n",
       "        <td>&nbsp;</td>\n",
       "        <td>&nbsp;</td>\n",
       "        <td class='kydpropertylabel'>+99% CI:</td>\n",
       "        <td>0.6295</td>\n",
       "      </tr>\n",
       "\n",
       "    </table>\n",
       "  </div>\n",
       "\n",
       "  <div class=\"kydfloatboxright\">\n",
       "    <div class=\"kydsubtitle\">Array Structure</div>\n",
       "    <table class=\"kydarray_structure\">\n",
       "      <tr>\n",
       "        <td class='kydpropertylabel'>Number of Dimensions:</td>\n",
       "        <td>1</td>\n",
       "      </tr>\n",
       "      <tr>\n",
       "        <td class='kydpropertylabel'>Shape of Dimensions:</td>\n",
       "        <td>(303,)</td>\n",
       "      </tr>\n",
       "      <tr>\n",
       "        <td class='kydpropertylabel'>Array Data Type:</td>\n",
       "        <td>float64</td>\n",
       "      </tr>\n",
       "      <tr>\n",
       "        <td class='kydpropertylabel'>Memory Size:</td>\n",
       "        <td>2.5KiB</td>\n",
       "      </tr>\n",
       "      <tr>\n",
       "        <td class='kydpropertylabel'>Number of NaN:</td>\n",
       "        <td>0</td>\n",
       "      </tr>\n",
       "      <tr>\n",
       "        <td class='kydpropertylabel'>Number of Inf:</td>\n",
       "        <td>0</td>\n",
       "      </tr>\n",
       "\n",
       "    </table>\n",
       "  </div>\n",
       "\n",
       "</div>\n"
      ],
      "text/plain": [
       "\n",
       "| Basic Statistics                                          | Array Structure              \t|\n",
       "|                                                           |                              \t|\n",
       "|    Mean:         Min:   0.02193     -99 CI:   0.03031     | Number of Dimensions:   1    \t|\n",
       "|    0.1658         1Q:   0.08501     -95 CI:   0.03567     | Shape of Dimensions:    (303,)\t|\n",
       "|               Median:   0.1337      -68 CI:   0.07157     | Array Data Type:        float64\t|\n",
       "|   Std Dev:        3Q:   0.2067      +68 CI:   0.2518      | Memory Size:            2.5KiB\t|\n",
       "|    0.1197        Max:   0.8273      +95 CI:   0.4952      |                              \t|\n",
       "|                                     +99 CI:   0.6295      | Number of NaN:  0            \t|\n",
       "|                                                           | Number of Inf:  0            \t|\n"
      ]
     },
     "metadata": {},
     "output_type": "display_data"
    }
   ],
   "source": [
    "check_mape(bag_cov_ggf_aadt)"
   ]
  },
  {
   "cell_type": "code",
   "execution_count": 82,
   "metadata": {},
   "outputs": [
    {
     "data": {
      "text/plain": [
       "'Slope: 0.9316624134576739'"
      ]
     },
     "execution_count": 82,
     "metadata": {},
     "output_type": "execute_result"
    }
   ],
   "source": [
    "linear_fit(bag_cov_ggf_aadt)"
   ]
  },
  {
   "cell_type": "markdown",
   "metadata": {},
   "source": [
    "Analysis:\n",
    "* We measure mean absolute percentage error (MAPE) using `check_mape`, total error using the plots, and systematic bias using the slope of a linear fit of prediction vs ground truth.\n",
    "* The plots are for a single dataset draw, and not averaged between different datasets.  `check_mape` calculates MAPE for each observation to generate its distribution.  The linear fit uses all data for the fit, so is not a check of variance (nor does it presume to be one).\n",
    "* Again, using individual PTC growth rates leads to large outliers (both positive and negative); eliminating it leads performance similar to TEPs default.\n",
    "* MAPE doesn't noticably improve between TEPs, CountMatch default with global growth rate or either of the Bagheri methods, but the dispersion of points in the plots is noticably reduced with the CountMatch default, which makes it possibly the best of all the algorithms.\n",
    "* There's not too much to be gained by switching from CountMatch's hybrid method to either Bagheri method, especially Bagheri COV.  Here we reproduce Bagheri's own finding that the COV method has poorer accuracy.\n",
    "* Every method predicts systematically smaller AADT than the ground truth by about 10%"
   ]
  },
  {
   "cell_type": "code",
   "execution_count": null,
   "metadata": {},
   "outputs": [],
   "source": []
  }
 ],
 "metadata": {
  "kernelspec": {
   "display_name": "Python 3",
   "language": "python",
   "name": "python3"
  },
  "language_info": {
   "codemirror_mode": {
    "name": "ipython",
    "version": 3
   },
   "file_extension": ".py",
   "mimetype": "text/x-python",
   "name": "python",
   "nbconvert_exporter": "python",
   "pygments_lexer": "ipython3",
   "version": "3.6.9"
  }
 },
 "nbformat": 4,
 "nbformat_minor": 2
}

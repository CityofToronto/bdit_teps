{
 "cells": [
  {
   "cell_type": "markdown",
   "metadata": {},
   "source": [
    "# Algorithm Cage Match\n",
    "\n",
    "This notebook generates sets of fake STTCs from PTCs, and determines the mean square error produced by TEPs-I, Bagheri and my count matching algorithms."
   ]
  },
  {
   "cell_type": "code",
   "execution_count": 1,
   "metadata": {},
   "outputs": [],
   "source": [
    "%matplotlib inline\n",
    "import sys\n",
    "sys.path.append('../')\n",
    "import importlib\n",
    "import matplotlib.pyplot as plt\n",
    "import numpy as np\n",
    "import knowyourdata as kyd\n",
    "\n",
    "import pandas as pd\n",
    "from traffic_prophet import cfg\n",
    "import pathlib, os\n",
    "import configparser\n",
    "\n",
    "from traffic_prophet import connection\n",
    "from traffic_prophet.countmatch import reader\n",
    "from traffic_prophet.countmatch import growthfactor as gf\n",
    "from traffic_prophet.countmatch import neighbour\n",
    "\n",
    "defaultcolours = plt.rcParams['axes.prop_cycle'].by_key()['color']\n",
    "\n",
    "filepath = pathlib.Path.home().joinpath('.charlesconfig')\n",
    "if os.path.isfile(filepath):\n",
    "    vol_conn = connection.Connection(filepath, 'POSTGRES',\n",
    "                                     'czhu.btp_centreline_daily_counts')\n",
    "    ll_conn = connection.Connection(filepath, 'POSTGRES',\n",
    "                                    'czhu.btp_centreline_lonlat')\n",
    "    config = configparser.RawConfigParser()\n",
    "    config.read(filepath.as_posix())\n",
    "    MAPBOX_TOKEN = config['MAPBOX']['token']\n",
    "    PLOTLY_USER = config['PLOTLY']['user']\n",
    "    PLOTLY_KEY = config['PLOTLY']['key']\n",
    "else:\n",
    "    filepath = pathlib.Path.home().joinpath('cf.txt')\n",
    "    vol_conn = connection.Connection(filepath, 'localpg',\n",
    "                                     'prj_vol.btp_centreline_daily_counts')\n",
    "    ll_conn = connection.Connection(filepath, 'localpg',\n",
    "                                    'gis.btp_centreline_lonlat')\n",
    "    config = configparser.RawConfigParser()\n",
    "    config.read(filepath.as_posix())\n",
    "    MAPBOX_TOKEN = config['mapbox']['token']\n",
    "    PLOTLY_USER = config['plotly']['user']\n",
    "    PLOTLY_KEY = config['plotly']['apikey']"
   ]
  },
  {
   "cell_type": "code",
   "execution_count": 2,
   "metadata": {},
   "outputs": [
    {
     "name": "stdout",
     "output_type": "stream",
     "text": [
      "CPU times: user 1min 48s, sys: 2.8 s, total: 1min 51s\n",
      "Wall time: 2min 1s\n"
     ]
    }
   ],
   "source": [
    "rdr_teps = reader.Reader(vol_conn)\n",
    "rdr_teps.read()\n",
    "gf.get_growth_factors(rdr_teps)"
   ]
  },
  {
   "cell_type": "code",
   "execution_count": 3,
   "metadata": {},
   "outputs": [
    {
     "name": "stdout",
     "output_type": "stream",
     "text": [
      "CPU times: user 18.9 s, sys: 422 ms, total: 19.4 s\n",
      "Wall time: 19.1 s\n"
     ]
    }
   ],
   "source": [
    "ptc_ids = np.unique(np.abs(list(rdr_teps.ptcs.keys())))\n",
    "nb = neighbour.NeighbourLonLatEuclidean(ll_conn, 20, ptc_ids)\n",
    "nb.find_neighbours()"
   ]
  },
  {
   "cell_type": "code",
   "execution_count": 4,
   "metadata": {},
   "outputs": [
    {
     "name": "stdout",
     "output_type": "stream",
     "text": [
      "CPU times: user 2min 4s, sys: 2.94 s, total: 2min 7s\n",
      "Wall time: 2min 18s\n"
     ]
    }
   ],
   "source": [
    "rdr_bag = reader.Reader(vol_conn)\n",
    "rdr_bag.read()\n",
    "gf.get_growth_factors(rdr_bag)"
   ]
  },
  {
   "cell_type": "markdown",
   "metadata": {},
   "source": [
    "## STTC-MC generator\n",
    "\n",
    "This routine randomly generates a set of STTCs "
   ]
  },
  {
   "cell_type": "code",
   "execution_count": null,
   "metadata": {},
   "outputs": [],
   "source": [
    "import countmatch_bagheri"
   ]
  }
 ],
 "metadata": {
  "kernelspec": {
   "display_name": "Python 3",
   "language": "python",
   "name": "python3"
  },
  "language_info": {
   "codemirror_mode": {
    "name": "ipython",
    "version": 3
   },
   "file_extension": ".py",
   "mimetype": "text/x-python",
   "name": "python",
   "nbconvert_exporter": "python",
   "pygments_lexer": "ipython3",
   "version": "3.6.9"
  }
 },
 "nbformat": 4,
 "nbformat_minor": 2
}

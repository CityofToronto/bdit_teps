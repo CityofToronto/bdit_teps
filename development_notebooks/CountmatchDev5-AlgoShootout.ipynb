{
 "cells": [
  {
   "cell_type": "markdown",
   "metadata": {},
   "source": [
    "# Algorithm Cage Match\n",
    "\n",
    "This notebook generates sets of fake STTCs from PTCs, and determines the mean square error produced by TEPs-I, Bagheri and my count matching algorithms."
   ]
  },
  {
   "cell_type": "code",
   "execution_count": 1,
   "metadata": {},
   "outputs": [],
   "source": [
    "%matplotlib inline\n",
    "import sys\n",
    "sys.path.append('../')\n",
    "import importlib\n",
    "import matplotlib.pyplot as plt\n",
    "import numpy as np\n",
    "import knowyourdata as kyd\n",
    "\n",
    "import pandas as pd\n",
    "from traffic_prophet import cfg\n",
    "import pathlib, os\n",
    "import configparser\n",
    "\n",
    "from traffic_prophet import connection\n",
    "from traffic_prophet.countmatch import reader\n",
    "from traffic_prophet.countmatch import growthfactor as gf\n",
    "from traffic_prophet.countmatch import neighbour\n",
    "\n",
    "defaultcolours = plt.rcParams['axes.prop_cycle'].by_key()['color']\n",
    "\n",
    "filepath = pathlib.Path.home().joinpath('.charlesconfig')\n",
    "if os.path.isfile(filepath):\n",
    "    vol_conn = connection.Connection(filepath, 'POSTGRES',\n",
    "                                     'czhu.btp_centreline_daily_counts')\n",
    "    ll_conn = connection.Connection(filepath, 'POSTGRES',\n",
    "                                    'czhu.btp_centreline_lonlat')\n",
    "    config = configparser.RawConfigParser()\n",
    "    config.read(filepath.as_posix())\n",
    "    MAPBOX_TOKEN = config['MAPBOX']['token']\n",
    "    PLOTLY_USER = config['PLOTLY']['user']\n",
    "    PLOTLY_KEY = config['PLOTLY']['key']\n",
    "else:\n",
    "    filepath = pathlib.Path.home().joinpath('cf.txt')\n",
    "    vol_conn = connection.Connection(filepath, 'localpg',\n",
    "                                     'prj_vol.btp_centreline_daily_counts')\n",
    "    ll_conn = connection.Connection(filepath, 'localpg',\n",
    "                                    'gis.btp_centreline_lonlat')\n",
    "    config = configparser.RawConfigParser()\n",
    "    config.read(filepath.as_posix())\n",
    "    MAPBOX_TOKEN = config['mapbox']['token']\n",
    "    PLOTLY_USER = config['plotly']['user']\n",
    "    PLOTLY_KEY = config['plotly']['apikey']"
   ]
  },
  {
   "cell_type": "code",
   "execution_count": 4,
   "metadata": {},
   "outputs": [],
   "source": [
    "rdr = reader.Reader(vol_conn)\n",
    "rdr.read()\n",
    "gf.get_growth_factors(rdr)"
   ]
  },
  {
   "cell_type": "code",
   "execution_count": 6,
   "metadata": {},
   "outputs": [],
   "source": [
    "ptc_ids = np.unique(np.abs(list(rdr.ptcs.keys())))\n",
    "nb = neighbour.NeighbourLonLatEuclidean(ll_conn, 20, ptc_ids)\n",
    "nb.find_neighbours()"
   ]
  },
  {
   "cell_type": "markdown",
   "metadata": {},
   "source": [
    "Prune any STTCs that have the same count ID as a PTC."
   ]
  },
  {
   "cell_type": "code",
   "execution_count": 14,
   "metadata": {},
   "outputs": [],
   "source": [
    "common_count_ids = list(set(rdr.ptcs.keys()).intersection(set(rdr.sttcs.keys())))\n",
    "for count_id in common_count_ids:\n",
    "    del rdr.sttcs[count_id]"
   ]
  },
  {
   "cell_type": "code",
   "execution_count": 15,
   "metadata": {},
   "outputs": [
    {
     "data": {
      "text/plain": [
       "[]"
      ]
     },
     "execution_count": 15,
     "metadata": {},
     "output_type": "execute_result"
    }
   ],
   "source": [
    "list(set(rdr.ptcs.keys()).intersection(set(rdr.sttcs.keys())))"
   ]
  },
  {
   "cell_type": "markdown",
   "metadata": {},
   "source": [
    "## Population analysis"
   ]
  },
  {
   "cell_type": "code",
   "execution_count": 56,
   "metadata": {},
   "outputs": [],
   "source": [
    "sttc_n_years = [len(x.data.index.levels[0]) for x in rdr.sttcs.values()]\n",
    "ptc_n_years = [len(x.data['AADT'].index) for x in rdr.ptcs.values()]"
   ]
  },
  {
   "cell_type": "code",
   "execution_count": 67,
   "metadata": {},
   "outputs": [
    {
     "data": {
      "image/png": "[encoded data removed]",
      "text/plain": [
       "<Figure size 720x576 with 1 Axes>"
      ]
     },
     "metadata": {
      "needs_background": "light"
     },
     "output_type": "display_data"
    }
   ],
   "source": [
    "fig, ax = plt.subplots(figsize=(10, 8))\n",
    "ax.hist(sttc_n_years, bins=20, range=(1, 20), density=True, label='STTCs');\n",
    "ax.hist(ptc_n_years, bins=20, range=(1, 20), density=True, alpha=0.7, label='PTCs')\n",
    "ax.legend(loc=1)\n",
    "ax.set_xlabel(\"Number of Years Represented\");"
   ]
  },
  {
   "cell_type": "code",
   "execution_count": 69,
   "metadata": {},
   "outputs": [],
   "source": [
    "sttc_dyears = [max(x.data.index.levels[0]) - min(x.data.index.levels[0]) for x in rdr.sttcs.values()]\n",
    "ptc_dyears = [max(x.data['AADT'].index) - min(x.data['AADT'].index) for x in rdr.ptcs.values()]"
   ]
  },
  {
   "cell_type": "code",
   "execution_count": 72,
   "metadata": {},
   "outputs": [
    {
     "data": {
      "image/png": "[encoded data removed]",
      "text/plain": [
       "<Figure size 720x576 with 1 Axes>"
      ]
     },
     "metadata": {
      "needs_background": "light"
     },
     "output_type": "display_data"
    }
   ],
   "source": [
    "fig, ax = plt.subplots(figsize=(10, 8))\n",
    "ax.hist(sttc_dyears, bins=15, range=(0, 14), density=True, label='STTCs');\n",
    "ax.hist(ptc_dyears, bins=15, range=(0, 14), density=True, alpha=0.7, label='PTCs')\n",
    "ax.legend(loc=1)\n",
    "ax.set_xlabel(\"Last Year - First Year with Data\");"
   ]
  },
  {
   "cell_type": "markdown",
   "metadata": {},
   "source": [
    "## STTC-MC generator\n",
    "\n",
    "This routine randomly generates a set of STTCs.  The goal is to generate a set of short term counts that have roughly the same monthly and day-of-month properties as the true short term count data, but are drawn from a sample where true AADTs can be calculated.  The procedure is:\n",
    "\n",
    "- Cycle through PTCs.  For each PTC:\n",
    "  - Find an STTC, and determine the number of AADTs we can map to it.\n",
    "  - "
   ]
  },
  {
   "cell_type": "code",
   "execution_count": null,
   "metadata": {},
   "outputs": [],
   "source": []
  }
 ],
 "metadata": {
  "kernelspec": {
   "display_name": "Python 3",
   "language": "python",
   "name": "python3"
  },
  "language_info": {
   "codemirror_mode": {
    "name": "ipython",
    "version": 3
   },
   "file_extension": ".py",
   "mimetype": "text/x-python",
   "name": "python",
   "nbconvert_exporter": "python",
   "pygments_lexer": "ipython3",
   "version": "3.6.9"
  }
 },
 "nbformat": 4,
 "nbformat_minor": 2
}

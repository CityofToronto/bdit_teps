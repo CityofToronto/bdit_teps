{
 "cells": [
  {
   "cell_type": "markdown",
   "id": "67d697d3",
   "metadata": {},
   "source": [
    "# Getting Started\n",
    "\n",
    "This notebook is a tutorial for how to load and run `traffic_prophet`, based on . It assumes you've already installed the Python package dependencies listed in `requirements.txt`, and created (or refreshed, if necessary) the tables\n",
    "\n",
    "```\n",
    "prj_volume.tp_centreline_lonlat.sql\n",
    "prj_volume.tp_centreline_volumes.sql\n",
    "prj_volume.tp_daily_volumes.sql\n",
    "```\n",
    "\n",
    "The creation scripts for these can be found in `input_data/flow`."
   ]
  },
  {
   "cell_type": "markdown",
   "id": "1de2a799",
   "metadata": {},
   "source": [
    "## Configure `traffic_prophet`\n",
    "\n",
    "To run `traffic_prophet`, you need to set up a `config.py` file in the `../../traffic_prophet/` directory. Also in that directory is a `config_template.py` file that shows how to create `config.py`. For a default configuration, simply copy the contents of `config_template.py` into a new `config.py` file."
   ]
  },
  {
   "cell_type": "markdown",
   "id": "b0ba1b06",
   "metadata": {},
   "source": [
    "## Import Packages"
   ]
  },
  {
   "cell_type": "code",
   "execution_count": 1,
   "id": "db826e8d",
   "metadata": {},
   "outputs": [],
   "source": [
    "import sys\n",
    "import pathlib\n",
    "import configparser\n",
    "import numpy as np\n",
    "import pandas as pd\n",
    "# The package's location relative to this Jupyter Notebook.\n",
    "sys.path.append('../../')"
   ]
  },
  {
   "cell_type": "markdown",
   "id": "2d82e156",
   "metadata": {},
   "source": [
    "Load your Postgres credentials using `ConfigParser`."
   ]
  },
  {
   "cell_type": "code",
   "execution_count": 2,
   "id": "140bd42f",
   "metadata": {},
   "outputs": [],
   "source": [
    "config = configparser.ConfigParser()\n",
    "config.read({YOUR CONFIG FILE PATH AND NAME});\n",
    "postgres_settings = config['POSTGRES']"
   ]
  },
  {
   "cell_type": "markdown",
   "id": "31e9ffbd",
   "metadata": {},
   "source": [
    "As it stands, Traffic Prophet does not have a single run command. Instead, submodules must be manually imported."
   ]
  },
  {
   "cell_type": "code",
   "execution_count": 3,
   "id": "61eb1871",
   "metadata": {},
   "outputs": [],
   "source": [
    "from traffic_prophet import connection\n",
    "from traffic_prophet.countmatch import reader\n",
    "from traffic_prophet.countmatch import permcount as pc\n",
    "from traffic_prophet.countmatch import neighbour as nbr\n",
    "import traffic_prophet.countmatch.matcher as mt"
   ]
  },
  {
   "cell_type": "markdown",
   "id": "14731e25",
   "metadata": {},
   "source": [
    "Import configuration dictionary:"
   ]
  },
  {
   "cell_type": "code",
   "execution_count": 4,
   "id": "ca69a1ae",
   "metadata": {},
   "outputs": [],
   "source": [
    "from traffic_prophet import cfg\n",
    "cfg.cm['verbose'] = True"
   ]
  },
  {
   "cell_type": "markdown",
   "id": "8d1677be",
   "metadata": {},
   "source": [
    "Create connection objects for volume and lon-lat tables."
   ]
  },
  {
   "cell_type": "code",
   "execution_count": null,
   "id": "99f9e6a0",
   "metadata": {},
   "outputs": [],
   "source": [
    "vol_conn = connection.Connection(postgres_settings, 'prj_volume.tp_daily_volumes_clean')\n",
    "ll_conn = connection.Connection(postgres_settings, 'prj_volume.tp_centreline_lonlat')"
   ]
  },
  {
   "cell_type": "markdown",
   "id": "e82743c3",
   "metadata": {},
   "source": [
    "## Run CountMatch"
   ]
  },
  {
   "cell_type": "markdown",
   "id": "86251601",
   "metadata": {},
   "source": [
    "### Read in Data"
   ]
  },
  {
   "cell_type": "code",
   "execution_count": null,
   "id": "4ef07f86",
   "metadata": {},
   "outputs": [],
   "source": [
    "%%time\n",
    "tcs = reader.read(vol_conn)"
   ]
  },
  {
   "cell_type": "markdown",
   "id": "476fccff",
   "metadata": {},
   "source": [
    "### Separate Short Term Traffic Counts (STTCs) from Permanent Counts (PTCs)"
   ]
  },
  {
   "cell_type": "code",
   "execution_count": null,
   "id": "dc8e8ca4",
   "metadata": {},
   "outputs": [],
   "source": [
    "%%time\n",
    "pc.get_ptcs_sttcs(tcs)"
   ]
  },
  {
   "cell_type": "markdown",
   "id": "43b8a36d",
   "metadata": {},
   "source": [
    "### Determine Nearest PTC for each STTC"
   ]
  },
  {
   "cell_type": "code",
   "execution_count": null,
   "id": "dccc1c2e",
   "metadata": {},
   "outputs": [],
   "source": [
    "%%time\n",
    "ptc_ids = np.unique(np.abs(list(tcs.ptcs.keys())))\n",
    "nb = nbr.NeighbourLonLatEuclidean(ll_conn, 20, ptc_ids)\n",
    "nb.find_neighbours()"
   ]
  },
  {
   "cell_type": "markdown",
   "id": "1a3df483",
   "metadata": {},
   "source": [
    "### Run Matching Algorithm\n",
    "\n",
    "There are two matcher classes - `MatcherStandard`, which is based on TEPS, and `MatcherBagheri`, which is based on Bagheri et al. 2014's original formulation. `mb = mt.Matcher('Standard', tcs, nb)` creates a standard TEPS matcher; use `mb = mt.Matcher('Bagheri', tcs, nb)` to create a Bagheri-based one."
   ]
  },
  {
   "cell_type": "code",
   "execution_count": null,
   "id": "c5d5fe80",
   "metadata": {},
   "outputs": [],
   "source": [
    "mb = mt.Matcher('Standard', tcs, nb)"
   ]
  },
  {
   "cell_type": "code",
   "execution_count": null,
   "id": "44ec7508",
   "metadata": {},
   "outputs": [],
   "source": [
    "%%time\n",
    "results = mb.estimate_aadts(2016)"
   ]
  },
  {
   "cell_type": "markdown",
   "id": "b4d1ed94",
   "metadata": {},
   "source": [
    "`results[0]` are the STTC AADTs; `results[1]` are the PTC AADTs."
   ]
  },
  {
   "cell_type": "markdown",
   "id": "e637311e",
   "metadata": {},
   "source": [
    "## Visualize Results\n",
    "\n",
    "To visualize the results, you'll need to install\n",
    "\n",
    "```\n",
    "geopandas>=0.7.0\n",
    "matplotlib>=3.2.2\n",
    "```\n",
    "\n",
    "to read in geometries from the Postgres database."
   ]
  },
  {
   "cell_type": "code",
   "execution_count": null,
   "id": "afe2de21",
   "metadata": {},
   "outputs": [],
   "source": [
    "import psycopg2\n",
    "import geopandas as gpd\n",
    "import matplotlib.pyplot as plt\n",
    "import matplotlib.colors as colors\n",
    "\n",
    "%matplotlib inline"
   ]
  },
  {
   "cell_type": "code",
   "execution_count": null,
   "id": "eb17c8dd",
   "metadata": {},
   "outputs": [],
   "source": [
    "# Average results across all directions of travel to get a AADT on (directionless) centreline dataset.\n",
    "results_nodir = pd.concat([results[0], results[1]])\n",
    "results_nodir['centreline_id'] = np.abs(results_nodir['Count ID'])\n",
    "results_nodir = pd.DataFrame(\n",
    "    results_nodir.groupby('centreline_id')['AADT Estimate'].mean())"
   ]
  },
  {
   "cell_type": "code",
   "execution_count": null,
   "id": "a55af61b",
   "metadata": {},
   "outputs": [],
   "source": [
    "sql_query = \"\"\"SELECT geo_id,\n",
    "       geom\n",
    "FROM gis.centreline;\"\"\"\n",
    "\n",
    "with psycopg2.connect(**vol_conn.credentials) as db_con:\n",
    "    centreline_segments = gpd.read_postgis(sql_query, db_con)"
   ]
  },
  {
   "cell_type": "code",
   "execution_count": null,
   "id": "a77d7d82",
   "metadata": {},
   "outputs": [],
   "source": [
    "centreline_segments = pd.merge(\n",
    "    centreline_segments, results_nodir, left_on='geo_id',\n",
    "    right_on='centreline_id', how='inner')\n",
    "\n",
    "centreline_segments.to_crs({'init': 'epsg:3347'}, inplace=True)\n",
    "centreline_segments['geom'] = centreline_segments.rotate(\n",
    "    -28., origin=centreline_segments.unary_union.centroid)"
   ]
  },
  {
   "cell_type": "code",
   "execution_count": null,
   "id": "976fc7ae",
   "metadata": {},
   "outputs": [],
   "source": [
    "cmap = 'viridis'\n",
    "vmin = 2e2\n",
    "vmax = 1e5\n",
    "\n",
    "fig = plt.figure(figsize=(16, 9))\n",
    "fig.patch.set_facecolor('#000000')\n",
    "ax1 = fig.add_axes([0.05, 0.05, 0.8, 0.85])\n",
    "ax1.axis('off')\n",
    "\n",
    "centreline_segments.plot(\n",
    "    column='AADT Estimate', ax=ax1, cmap=cmap,\n",
    "    norm=colors.LogNorm(vmin=vmin, vmax=vmax))\n",
    "\n",
    "cax1 = fig.add_axes([0.875, 0.05, 0.03, 0.85])\n",
    "cb1 = fig.colorbar(\n",
    "    plt.cm.ScalarMappable(\n",
    "        cmap=cmap,\n",
    "        norm=colors.LogNorm(vmin=vmin, vmax=vmax)),\n",
    "    cax=cax1)\n",
    "cb1.set_label(\"AADT\", labelpad=10, fontsize=20, color='w')\n",
    "cax1.tick_params(labelsize=14, labelcolor='w')"
   ]
  },
  {
   "cell_type": "markdown",
   "id": "27d547bc",
   "metadata": {},
   "source": [
    "At least on a log scale, that seems vaguely reasonable. Note that while TEPS properly handles 400-series highways, **they are currently not available in Traffic Prophet.**"
   ]
  }
 ],
 "metadata": {
  "kernelspec": {
   "display_name": "Python 3.6.9 64-bit ('bditto': venv)",
   "language": "python",
   "name": "python36964bitbdittovenvd56842b7ca0c4929925d70f8c4c7f13a"
  },
  "language_info": {
   "codemirror_mode": {
    "name": "ipython",
    "version": 3
   },
   "file_extension": ".py",
   "mimetype": "text/x-python",
   "name": "python",
   "nbconvert_exporter": "python",
   "pygments_lexer": "ipython3",
   "version": "3.6.9"
  }
 },
 "nbformat": 4,
 "nbformat_minor": 5
}
